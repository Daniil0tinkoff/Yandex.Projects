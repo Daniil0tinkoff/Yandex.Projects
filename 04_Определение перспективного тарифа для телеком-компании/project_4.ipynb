{
 "cells": [
  {
   "cell_type": "markdown",
   "id": "12404c79",
   "metadata": {},
   "source": [
    "# Определение перспективного тарифа для телеком компании"
   ]
  },
  {
   "cell_type": "markdown",
   "id": "3b394b74",
   "metadata": {},
   "source": [
    "**Цель**: Определить выгодный тариф для корректировки рекламного бюджета\n",
    "\n",
    "**Выборка**:  500 пользователей тарифных планов \"Смарт\" и \"Ультра\": кто они, откуда, каким тарифом пользуются, сколько звонков и сообщений каждый отправил за 2018 год\n",
    "\n",
    "**Примечание**: «Мегалайн» всегда округляет секунды до минут, а мегабайты — до гигабайт:\n",
    "* Каждый звонок округляется отдельно: даже если он длился всего 1 секунду, будет засчитан как 1 минута.\n",
    "* Для веб-трафика отдельные сессии не считаются. Вместо этого общая сумма за месяц округляется в бо́льшую сторону. Если абонент использует 1025 мегабайт в этом месяце, с него возьмут плату за 2 гигабайта."
   ]
  },
  {
   "cell_type": "markdown",
   "id": "f912ddd5",
   "metadata": {},
   "source": [
    "## Описание тарифов\n",
    "* Тариф «Смарт»\n",
    "1. Ежемесячная плата: 550 рублей\n",
    "2. Включено 500 минут разговора, 50 сообщений и 15 Гб интернет-трафика\n",
    "3. Стоимость услуг сверх тарифного пакета:\n",
    " 1. минута разговора: 3 рубля\n",
    " 2. сообщение: 3 рубля\n",
    " 3. 1 Гб интернет-трафика: 200 рублей\n",
    "* Тариф «Ультра»\n",
    "1. Ежемесячная плата: 1950 рублей\n",
    "2. Включено 3000 минут разговора, 1000 сообщений и 30 Гб интернет-трафика\n",
    "3. Стоимость услуг сверх тарифного пакета:\n",
    " 1. минута разговора: 1 рубль\n",
    " 2. сообщение: 1 рубль\n",
    " 3. 1 Гб интернет-трафика: 150 рублей"
   ]
  },
  {
   "cell_type": "markdown",
   "id": "2d122345",
   "metadata": {},
   "source": [
    "# Выполнению проекта"
   ]
  },
  {
   "cell_type": "markdown",
   "id": "f9b16865",
   "metadata": {},
   "source": [
    "## Шаг 1. Откройте файл с данными и изучите общую информацию"
   ]
  },
  {
   "cell_type": "code",
   "execution_count": 1,
   "id": "0b8720c0",
   "metadata": {},
   "outputs": [],
   "source": [
    "#импортируем библиотеки\n",
    "import pandas as pd\n",
    "import numpy as np\n",
    "import matplotlib.pyplot as plt\n",
    "import seaborn as sns\n",
    "from scipy import stats as st"
   ]
  },
  {
   "cell_type": "code",
   "execution_count": 2,
   "id": "e34977ff",
   "metadata": {},
   "outputs": [],
   "source": [
    "#загружаем данные\n",
    "try:\n",
    "    df_calls = pd.read_csv('/datasets/calls.csv')\n",
    "    df_internet = pd.read_csv('/datasets/internet.csv')\n",
    "    df_messages = pd.read_csv('/datasets/messages.csv')\n",
    "    df_tariffs = pd.read_csv('/datasets/tariffs.csv')\n",
    "    df_users = pd.read_csv('/datasets/users.csv')\n",
    "except:\n",
    "    df_calls = pd.read_csv('https://code.s3.yandex.net/datasets/calls.csv')\n",
    "    df_internet = pd.read_csv('https://code.s3.yandex.net/datasets/internet.csv')\n",
    "    df_messages = pd.read_csv('https://code.s3.yandex.net/datasets/messages.csv')\n",
    "    df_tariffs = pd.read_csv('https://code.s3.yandex.net/datasets/tariffs.csv')\n",
    "    df_users = pd.read_csv('https://code.s3.yandex.net/datasets/users.csv')\n",
    "    "
   ]
  },
  {
   "cell_type": "code",
   "execution_count": 3,
   "id": "a13cc7be",
   "metadata": {},
   "outputs": [],
   "source": [
    "#напишем функцию для визуального просмотра данных\n",
    "\n",
    "def first_look(df):\n",
    "    print('------------- Первые 5 строк -------------')\n",
    "    display(df.head())\n",
    "    print('')\n",
    "    print('')\n",
    "    print('------------- Информация о данных---------')\n",
    "    df.info()\n",
    "    print('')\n",
    "    print('')\n",
    "    print('------------- Пропуски -------------------')\n",
    "    count = 0\n",
    "    for i in df.columns:\n",
    "        if df[i].isna().sum() > 0:\n",
    "            print(i, ' - ', df[i].isna().sum(), 'пропуска(ов)')\n",
    "            count += 1\n",
    "    if count == 0:\n",
    "        print('Пропусков нет')\n",
    "    print('')\n",
    "    print('')\n",
    "    print('------------- Дубликаты ------------------')\n",
    "    if df.duplicated().sum() > 0:\n",
    "        print(f'Дубликатов: {df.duplicated().sum()}')\n",
    "    else:\n",
    "        print('Дубликатов нет')\n",
    "    return"
   ]
  },
  {
   "cell_type": "code",
   "execution_count": 4,
   "id": "98235e67",
   "metadata": {},
   "outputs": [
    {
     "name": "stdout",
     "output_type": "stream",
     "text": [
      "------------- Первые 5 строк -------------\n"
     ]
    },
    {
     "data": {
      "text/html": [
       "<div>\n",
       "<style scoped>\n",
       "    .dataframe tbody tr th:only-of-type {\n",
       "        vertical-align: middle;\n",
       "    }\n",
       "\n",
       "    .dataframe tbody tr th {\n",
       "        vertical-align: top;\n",
       "    }\n",
       "\n",
       "    .dataframe thead th {\n",
       "        text-align: right;\n",
       "    }\n",
       "</style>\n",
       "<table border=\"1\" class=\"dataframe\">\n",
       "  <thead>\n",
       "    <tr style=\"text-align: right;\">\n",
       "      <th></th>\n",
       "      <th>id</th>\n",
       "      <th>call_date</th>\n",
       "      <th>duration</th>\n",
       "      <th>user_id</th>\n",
       "    </tr>\n",
       "  </thead>\n",
       "  <tbody>\n",
       "    <tr>\n",
       "      <th>0</th>\n",
       "      <td>1000_0</td>\n",
       "      <td>2018-07-25</td>\n",
       "      <td>0.00</td>\n",
       "      <td>1000</td>\n",
       "    </tr>\n",
       "    <tr>\n",
       "      <th>1</th>\n",
       "      <td>1000_1</td>\n",
       "      <td>2018-08-17</td>\n",
       "      <td>0.00</td>\n",
       "      <td>1000</td>\n",
       "    </tr>\n",
       "    <tr>\n",
       "      <th>2</th>\n",
       "      <td>1000_2</td>\n",
       "      <td>2018-06-11</td>\n",
       "      <td>2.85</td>\n",
       "      <td>1000</td>\n",
       "    </tr>\n",
       "    <tr>\n",
       "      <th>3</th>\n",
       "      <td>1000_3</td>\n",
       "      <td>2018-09-21</td>\n",
       "      <td>13.80</td>\n",
       "      <td>1000</td>\n",
       "    </tr>\n",
       "    <tr>\n",
       "      <th>4</th>\n",
       "      <td>1000_4</td>\n",
       "      <td>2018-12-15</td>\n",
       "      <td>5.18</td>\n",
       "      <td>1000</td>\n",
       "    </tr>\n",
       "  </tbody>\n",
       "</table>\n",
       "</div>"
      ],
      "text/plain": [
       "       id   call_date  duration  user_id\n",
       "0  1000_0  2018-07-25      0.00     1000\n",
       "1  1000_1  2018-08-17      0.00     1000\n",
       "2  1000_2  2018-06-11      2.85     1000\n",
       "3  1000_3  2018-09-21     13.80     1000\n",
       "4  1000_4  2018-12-15      5.18     1000"
      ]
     },
     "metadata": {},
     "output_type": "display_data"
    },
    {
     "name": "stdout",
     "output_type": "stream",
     "text": [
      "\n",
      "\n",
      "------------- Информация о данных---------\n",
      "<class 'pandas.core.frame.DataFrame'>\n",
      "RangeIndex: 202607 entries, 0 to 202606\n",
      "Data columns (total 4 columns):\n",
      " #   Column     Non-Null Count   Dtype  \n",
      "---  ------     --------------   -----  \n",
      " 0   id         202607 non-null  object \n",
      " 1   call_date  202607 non-null  object \n",
      " 2   duration   202607 non-null  float64\n",
      " 3   user_id    202607 non-null  int64  \n",
      "dtypes: float64(1), int64(1), object(2)\n",
      "memory usage: 6.2+ MB\n",
      "\n",
      "\n",
      "------------- Пропуски -------------------\n",
      "Пропусков нет\n",
      "\n",
      "\n",
      "------------- Дубликаты ------------------\n",
      "Дубликатов нет\n"
     ]
    }
   ],
   "source": [
    "first_look(df_calls)"
   ]
  },
  {
   "cell_type": "markdown",
   "id": "f4930a22",
   "metadata": {},
   "source": [
    "**Вывод**:\n",
    "* что пропусков нет\n",
    "* дубликатов нет\n",
    "* дату переведем в формат datetime64\n",
    "* длительность звонков 0 минут, не ошибка - это пропущенные звонки\n",
    "* длительность звонков нужно округлить до целой части в большую сторону"
   ]
  },
  {
   "cell_type": "code",
   "execution_count": 5,
   "id": "816bc909",
   "metadata": {},
   "outputs": [
    {
     "name": "stdout",
     "output_type": "stream",
     "text": [
      "------------- Первые 5 строк -------------\n"
     ]
    },
    {
     "data": {
      "text/html": [
       "<div>\n",
       "<style scoped>\n",
       "    .dataframe tbody tr th:only-of-type {\n",
       "        vertical-align: middle;\n",
       "    }\n",
       "\n",
       "    .dataframe tbody tr th {\n",
       "        vertical-align: top;\n",
       "    }\n",
       "\n",
       "    .dataframe thead th {\n",
       "        text-align: right;\n",
       "    }\n",
       "</style>\n",
       "<table border=\"1\" class=\"dataframe\">\n",
       "  <thead>\n",
       "    <tr style=\"text-align: right;\">\n",
       "      <th></th>\n",
       "      <th>Unnamed: 0</th>\n",
       "      <th>id</th>\n",
       "      <th>mb_used</th>\n",
       "      <th>session_date</th>\n",
       "      <th>user_id</th>\n",
       "    </tr>\n",
       "  </thead>\n",
       "  <tbody>\n",
       "    <tr>\n",
       "      <th>0</th>\n",
       "      <td>0</td>\n",
       "      <td>1000_0</td>\n",
       "      <td>112.95</td>\n",
       "      <td>2018-11-25</td>\n",
       "      <td>1000</td>\n",
       "    </tr>\n",
       "    <tr>\n",
       "      <th>1</th>\n",
       "      <td>1</td>\n",
       "      <td>1000_1</td>\n",
       "      <td>1052.81</td>\n",
       "      <td>2018-09-07</td>\n",
       "      <td>1000</td>\n",
       "    </tr>\n",
       "    <tr>\n",
       "      <th>2</th>\n",
       "      <td>2</td>\n",
       "      <td>1000_2</td>\n",
       "      <td>1197.26</td>\n",
       "      <td>2018-06-25</td>\n",
       "      <td>1000</td>\n",
       "    </tr>\n",
       "    <tr>\n",
       "      <th>3</th>\n",
       "      <td>3</td>\n",
       "      <td>1000_3</td>\n",
       "      <td>550.27</td>\n",
       "      <td>2018-08-22</td>\n",
       "      <td>1000</td>\n",
       "    </tr>\n",
       "    <tr>\n",
       "      <th>4</th>\n",
       "      <td>4</td>\n",
       "      <td>1000_4</td>\n",
       "      <td>302.56</td>\n",
       "      <td>2018-09-24</td>\n",
       "      <td>1000</td>\n",
       "    </tr>\n",
       "  </tbody>\n",
       "</table>\n",
       "</div>"
      ],
      "text/plain": [
       "   Unnamed: 0      id  mb_used session_date  user_id\n",
       "0           0  1000_0   112.95   2018-11-25     1000\n",
       "1           1  1000_1  1052.81   2018-09-07     1000\n",
       "2           2  1000_2  1197.26   2018-06-25     1000\n",
       "3           3  1000_3   550.27   2018-08-22     1000\n",
       "4           4  1000_4   302.56   2018-09-24     1000"
      ]
     },
     "metadata": {},
     "output_type": "display_data"
    },
    {
     "name": "stdout",
     "output_type": "stream",
     "text": [
      "\n",
      "\n",
      "------------- Информация о данных---------\n",
      "<class 'pandas.core.frame.DataFrame'>\n",
      "RangeIndex: 149396 entries, 0 to 149395\n",
      "Data columns (total 5 columns):\n",
      " #   Column        Non-Null Count   Dtype  \n",
      "---  ------        --------------   -----  \n",
      " 0   Unnamed: 0    149396 non-null  int64  \n",
      " 1   id            149396 non-null  object \n",
      " 2   mb_used       149396 non-null  float64\n",
      " 3   session_date  149396 non-null  object \n",
      " 4   user_id       149396 non-null  int64  \n",
      "dtypes: float64(1), int64(2), object(2)\n",
      "memory usage: 5.7+ MB\n",
      "\n",
      "\n",
      "------------- Пропуски -------------------\n",
      "Пропусков нет\n",
      "\n",
      "\n",
      "------------- Дубликаты ------------------\n",
      "Дубликатов нет\n"
     ]
    }
   ],
   "source": [
    "first_look(df_internet)"
   ]
  },
  {
   "cell_type": "markdown",
   "id": "d1c975ef",
   "metadata": {},
   "source": [
    "**Вывод**:\n",
    "* что пропусков нет\n",
    "* дубликатов нет\n",
    "* имеется первый столбец 'Unnamed: 0' - столбец для нумерации строк, т.к. в описании к данным этот столбец не указан. Удалим его\n",
    "* округлим трафик до целого числа\n",
    "* дату переведем в формат datetime64"
   ]
  },
  {
   "cell_type": "code",
   "execution_count": 6,
   "id": "6c562f83",
   "metadata": {},
   "outputs": [
    {
     "name": "stdout",
     "output_type": "stream",
     "text": [
      "------------- Первые 5 строк -------------\n"
     ]
    },
    {
     "data": {
      "text/html": [
       "<div>\n",
       "<style scoped>\n",
       "    .dataframe tbody tr th:only-of-type {\n",
       "        vertical-align: middle;\n",
       "    }\n",
       "\n",
       "    .dataframe tbody tr th {\n",
       "        vertical-align: top;\n",
       "    }\n",
       "\n",
       "    .dataframe thead th {\n",
       "        text-align: right;\n",
       "    }\n",
       "</style>\n",
       "<table border=\"1\" class=\"dataframe\">\n",
       "  <thead>\n",
       "    <tr style=\"text-align: right;\">\n",
       "      <th></th>\n",
       "      <th>id</th>\n",
       "      <th>message_date</th>\n",
       "      <th>user_id</th>\n",
       "    </tr>\n",
       "  </thead>\n",
       "  <tbody>\n",
       "    <tr>\n",
       "      <th>0</th>\n",
       "      <td>1000_0</td>\n",
       "      <td>2018-06-27</td>\n",
       "      <td>1000</td>\n",
       "    </tr>\n",
       "    <tr>\n",
       "      <th>1</th>\n",
       "      <td>1000_1</td>\n",
       "      <td>2018-10-08</td>\n",
       "      <td>1000</td>\n",
       "    </tr>\n",
       "    <tr>\n",
       "      <th>2</th>\n",
       "      <td>1000_2</td>\n",
       "      <td>2018-08-04</td>\n",
       "      <td>1000</td>\n",
       "    </tr>\n",
       "    <tr>\n",
       "      <th>3</th>\n",
       "      <td>1000_3</td>\n",
       "      <td>2018-06-16</td>\n",
       "      <td>1000</td>\n",
       "    </tr>\n",
       "    <tr>\n",
       "      <th>4</th>\n",
       "      <td>1000_4</td>\n",
       "      <td>2018-12-05</td>\n",
       "      <td>1000</td>\n",
       "    </tr>\n",
       "  </tbody>\n",
       "</table>\n",
       "</div>"
      ],
      "text/plain": [
       "       id message_date  user_id\n",
       "0  1000_0   2018-06-27     1000\n",
       "1  1000_1   2018-10-08     1000\n",
       "2  1000_2   2018-08-04     1000\n",
       "3  1000_3   2018-06-16     1000\n",
       "4  1000_4   2018-12-05     1000"
      ]
     },
     "metadata": {},
     "output_type": "display_data"
    },
    {
     "name": "stdout",
     "output_type": "stream",
     "text": [
      "\n",
      "\n",
      "------------- Информация о данных---------\n",
      "<class 'pandas.core.frame.DataFrame'>\n",
      "RangeIndex: 123036 entries, 0 to 123035\n",
      "Data columns (total 3 columns):\n",
      " #   Column        Non-Null Count   Dtype \n",
      "---  ------        --------------   ----- \n",
      " 0   id            123036 non-null  object\n",
      " 1   message_date  123036 non-null  object\n",
      " 2   user_id       123036 non-null  int64 \n",
      "dtypes: int64(1), object(2)\n",
      "memory usage: 2.8+ MB\n",
      "\n",
      "\n",
      "------------- Пропуски -------------------\n",
      "Пропусков нет\n",
      "\n",
      "\n",
      "------------- Дубликаты ------------------\n",
      "Дубликатов нет\n"
     ]
    }
   ],
   "source": [
    "first_look(df_messages)"
   ]
  },
  {
   "cell_type": "markdown",
   "id": "90cb2676",
   "metadata": {},
   "source": [
    "**Вывод**:\n",
    "* что пропусков нет\n",
    "* дубликатов нет\n",
    "* дату переведем в формат datetime64"
   ]
  },
  {
   "cell_type": "code",
   "execution_count": 7,
   "id": "b35fd4e2",
   "metadata": {},
   "outputs": [
    {
     "name": "stdout",
     "output_type": "stream",
     "text": [
      "------------- Первые 5 строк -------------\n"
     ]
    },
    {
     "data": {
      "text/html": [
       "<div>\n",
       "<style scoped>\n",
       "    .dataframe tbody tr th:only-of-type {\n",
       "        vertical-align: middle;\n",
       "    }\n",
       "\n",
       "    .dataframe tbody tr th {\n",
       "        vertical-align: top;\n",
       "    }\n",
       "\n",
       "    .dataframe thead th {\n",
       "        text-align: right;\n",
       "    }\n",
       "</style>\n",
       "<table border=\"1\" class=\"dataframe\">\n",
       "  <thead>\n",
       "    <tr style=\"text-align: right;\">\n",
       "      <th></th>\n",
       "      <th>messages_included</th>\n",
       "      <th>mb_per_month_included</th>\n",
       "      <th>minutes_included</th>\n",
       "      <th>rub_monthly_fee</th>\n",
       "      <th>rub_per_gb</th>\n",
       "      <th>rub_per_message</th>\n",
       "      <th>rub_per_minute</th>\n",
       "      <th>tariff_name</th>\n",
       "    </tr>\n",
       "  </thead>\n",
       "  <tbody>\n",
       "    <tr>\n",
       "      <th>0</th>\n",
       "      <td>50</td>\n",
       "      <td>15360</td>\n",
       "      <td>500</td>\n",
       "      <td>550</td>\n",
       "      <td>200</td>\n",
       "      <td>3</td>\n",
       "      <td>3</td>\n",
       "      <td>smart</td>\n",
       "    </tr>\n",
       "    <tr>\n",
       "      <th>1</th>\n",
       "      <td>1000</td>\n",
       "      <td>30720</td>\n",
       "      <td>3000</td>\n",
       "      <td>1950</td>\n",
       "      <td>150</td>\n",
       "      <td>1</td>\n",
       "      <td>1</td>\n",
       "      <td>ultra</td>\n",
       "    </tr>\n",
       "  </tbody>\n",
       "</table>\n",
       "</div>"
      ],
      "text/plain": [
       "   messages_included  mb_per_month_included  minutes_included  \\\n",
       "0                 50                  15360               500   \n",
       "1               1000                  30720              3000   \n",
       "\n",
       "   rub_monthly_fee  rub_per_gb  rub_per_message  rub_per_minute tariff_name  \n",
       "0              550         200                3               3       smart  \n",
       "1             1950         150                1               1       ultra  "
      ]
     },
     "metadata": {},
     "output_type": "display_data"
    },
    {
     "name": "stdout",
     "output_type": "stream",
     "text": [
      "\n",
      "\n",
      "------------- Информация о данных---------\n",
      "<class 'pandas.core.frame.DataFrame'>\n",
      "RangeIndex: 2 entries, 0 to 1\n",
      "Data columns (total 8 columns):\n",
      " #   Column                 Non-Null Count  Dtype \n",
      "---  ------                 --------------  ----- \n",
      " 0   messages_included      2 non-null      int64 \n",
      " 1   mb_per_month_included  2 non-null      int64 \n",
      " 2   minutes_included       2 non-null      int64 \n",
      " 3   rub_monthly_fee        2 non-null      int64 \n",
      " 4   rub_per_gb             2 non-null      int64 \n",
      " 5   rub_per_message        2 non-null      int64 \n",
      " 6   rub_per_minute         2 non-null      int64 \n",
      " 7   tariff_name            2 non-null      object\n",
      "dtypes: int64(7), object(1)\n",
      "memory usage: 256.0+ bytes\n",
      "\n",
      "\n",
      "------------- Пропуски -------------------\n",
      "Пропусков нет\n",
      "\n",
      "\n",
      "------------- Дубликаты ------------------\n",
      "Дубликатов нет\n"
     ]
    }
   ],
   "source": [
    "first_look(df_tariffs)"
   ]
  },
  {
   "cell_type": "markdown",
   "id": "6712a8e3",
   "metadata": {},
   "source": [
    "**Вывод**:\n",
    "* что пропусков нет\n",
    "* дубликатов нет"
   ]
  },
  {
   "cell_type": "code",
   "execution_count": 8,
   "id": "9c8c5937",
   "metadata": {},
   "outputs": [
    {
     "name": "stdout",
     "output_type": "stream",
     "text": [
      "------------- Первые 5 строк -------------\n"
     ]
    },
    {
     "data": {
      "text/html": [
       "<div>\n",
       "<style scoped>\n",
       "    .dataframe tbody tr th:only-of-type {\n",
       "        vertical-align: middle;\n",
       "    }\n",
       "\n",
       "    .dataframe tbody tr th {\n",
       "        vertical-align: top;\n",
       "    }\n",
       "\n",
       "    .dataframe thead th {\n",
       "        text-align: right;\n",
       "    }\n",
       "</style>\n",
       "<table border=\"1\" class=\"dataframe\">\n",
       "  <thead>\n",
       "    <tr style=\"text-align: right;\">\n",
       "      <th></th>\n",
       "      <th>user_id</th>\n",
       "      <th>age</th>\n",
       "      <th>churn_date</th>\n",
       "      <th>city</th>\n",
       "      <th>first_name</th>\n",
       "      <th>last_name</th>\n",
       "      <th>reg_date</th>\n",
       "      <th>tariff</th>\n",
       "    </tr>\n",
       "  </thead>\n",
       "  <tbody>\n",
       "    <tr>\n",
       "      <th>0</th>\n",
       "      <td>1000</td>\n",
       "      <td>52</td>\n",
       "      <td>NaN</td>\n",
       "      <td>Краснодар</td>\n",
       "      <td>Рафаил</td>\n",
       "      <td>Верещагин</td>\n",
       "      <td>2018-05-25</td>\n",
       "      <td>ultra</td>\n",
       "    </tr>\n",
       "    <tr>\n",
       "      <th>1</th>\n",
       "      <td>1001</td>\n",
       "      <td>41</td>\n",
       "      <td>NaN</td>\n",
       "      <td>Москва</td>\n",
       "      <td>Иван</td>\n",
       "      <td>Ежов</td>\n",
       "      <td>2018-11-01</td>\n",
       "      <td>smart</td>\n",
       "    </tr>\n",
       "    <tr>\n",
       "      <th>2</th>\n",
       "      <td>1002</td>\n",
       "      <td>59</td>\n",
       "      <td>NaN</td>\n",
       "      <td>Стерлитамак</td>\n",
       "      <td>Евгений</td>\n",
       "      <td>Абрамович</td>\n",
       "      <td>2018-06-17</td>\n",
       "      <td>smart</td>\n",
       "    </tr>\n",
       "    <tr>\n",
       "      <th>3</th>\n",
       "      <td>1003</td>\n",
       "      <td>23</td>\n",
       "      <td>NaN</td>\n",
       "      <td>Москва</td>\n",
       "      <td>Белла</td>\n",
       "      <td>Белякова</td>\n",
       "      <td>2018-08-17</td>\n",
       "      <td>ultra</td>\n",
       "    </tr>\n",
       "    <tr>\n",
       "      <th>4</th>\n",
       "      <td>1004</td>\n",
       "      <td>68</td>\n",
       "      <td>NaN</td>\n",
       "      <td>Новокузнецк</td>\n",
       "      <td>Татьяна</td>\n",
       "      <td>Авдеенко</td>\n",
       "      <td>2018-05-14</td>\n",
       "      <td>ultra</td>\n",
       "    </tr>\n",
       "  </tbody>\n",
       "</table>\n",
       "</div>"
      ],
      "text/plain": [
       "   user_id  age churn_date         city first_name  last_name    reg_date  \\\n",
       "0     1000   52        NaN    Краснодар     Рафаил  Верещагин  2018-05-25   \n",
       "1     1001   41        NaN       Москва       Иван       Ежов  2018-11-01   \n",
       "2     1002   59        NaN  Стерлитамак    Евгений  Абрамович  2018-06-17   \n",
       "3     1003   23        NaN       Москва      Белла   Белякова  2018-08-17   \n",
       "4     1004   68        NaN  Новокузнецк    Татьяна   Авдеенко  2018-05-14   \n",
       "\n",
       "  tariff  \n",
       "0  ultra  \n",
       "1  smart  \n",
       "2  smart  \n",
       "3  ultra  \n",
       "4  ultra  "
      ]
     },
     "metadata": {},
     "output_type": "display_data"
    },
    {
     "name": "stdout",
     "output_type": "stream",
     "text": [
      "\n",
      "\n",
      "------------- Информация о данных---------\n",
      "<class 'pandas.core.frame.DataFrame'>\n",
      "RangeIndex: 500 entries, 0 to 499\n",
      "Data columns (total 8 columns):\n",
      " #   Column      Non-Null Count  Dtype \n",
      "---  ------      --------------  ----- \n",
      " 0   user_id     500 non-null    int64 \n",
      " 1   age         500 non-null    int64 \n",
      " 2   churn_date  38 non-null     object\n",
      " 3   city        500 non-null    object\n",
      " 4   first_name  500 non-null    object\n",
      " 5   last_name   500 non-null    object\n",
      " 6   reg_date    500 non-null    object\n",
      " 7   tariff      500 non-null    object\n",
      "dtypes: int64(2), object(6)\n",
      "memory usage: 31.4+ KB\n",
      "\n",
      "\n",
      "------------- Пропуски -------------------\n",
      "churn_date  -  462 пропуска(ов)\n",
      "\n",
      "\n",
      "------------- Дубликаты ------------------\n",
      "Дубликатов нет\n"
     ]
    }
   ],
   "source": [
    "first_look(df_users)"
   ]
  },
  {
   "cell_type": "markdown",
   "id": "a7e02ad1",
   "metadata": {},
   "source": [
    "**Вывод**:\n",
    "* имеются пропуски в столбце churn_date, это не ошибка, т.к. пропуск означает, что тариф еще действовал на момент выгрузки\n",
    "* дубликатов нет\n",
    "* дату переведем в формат datetime64"
   ]
  },
  {
   "cell_type": "markdown",
   "id": "f6e04dfb",
   "metadata": {},
   "source": [
    "### Общий вывод:\n",
    "* пропуски только в столбце churn_date таблицы users, это не ошибка\n",
    "* дубликатов нет\n",
    "* имеется несоответствие формата даты в таблицах\n",
    "* имеется лишний столбец 'Unnamed: 0' который не участвует в исследовании\n",
    "* минуты нужно округлить в пользу увеличения"
   ]
  },
  {
   "cell_type": "markdown",
   "id": "421a03ab",
   "metadata": {},
   "source": [
    "## Шаг 2. Подготовьте данные"
   ]
  },
  {
   "cell_type": "markdown",
   "id": "0b3cd875",
   "metadata": {},
   "source": [
    "### Исправление данных"
   ]
  },
  {
   "cell_type": "code",
   "execution_count": 9,
   "id": "b75c130f",
   "metadata": {},
   "outputs": [
    {
     "data": {
      "text/html": [
       "<div>\n",
       "<style scoped>\n",
       "    .dataframe tbody tr th:only-of-type {\n",
       "        vertical-align: middle;\n",
       "    }\n",
       "\n",
       "    .dataframe tbody tr th {\n",
       "        vertical-align: top;\n",
       "    }\n",
       "\n",
       "    .dataframe thead th {\n",
       "        text-align: right;\n",
       "    }\n",
       "</style>\n",
       "<table border=\"1\" class=\"dataframe\">\n",
       "  <thead>\n",
       "    <tr style=\"text-align: right;\">\n",
       "      <th></th>\n",
       "      <th>id</th>\n",
       "      <th>call_date</th>\n",
       "      <th>duration</th>\n",
       "      <th>user_id</th>\n",
       "    </tr>\n",
       "  </thead>\n",
       "  <tbody>\n",
       "    <tr>\n",
       "      <th>0</th>\n",
       "      <td>1000_0</td>\n",
       "      <td>2018-07-25</td>\n",
       "      <td>0.00</td>\n",
       "      <td>1000</td>\n",
       "    </tr>\n",
       "    <tr>\n",
       "      <th>1</th>\n",
       "      <td>1000_1</td>\n",
       "      <td>2018-08-17</td>\n",
       "      <td>0.00</td>\n",
       "      <td>1000</td>\n",
       "    </tr>\n",
       "    <tr>\n",
       "      <th>2</th>\n",
       "      <td>1000_2</td>\n",
       "      <td>2018-06-11</td>\n",
       "      <td>2.85</td>\n",
       "      <td>1000</td>\n",
       "    </tr>\n",
       "    <tr>\n",
       "      <th>3</th>\n",
       "      <td>1000_3</td>\n",
       "      <td>2018-09-21</td>\n",
       "      <td>13.80</td>\n",
       "      <td>1000</td>\n",
       "    </tr>\n",
       "    <tr>\n",
       "      <th>4</th>\n",
       "      <td>1000_4</td>\n",
       "      <td>2018-12-15</td>\n",
       "      <td>5.18</td>\n",
       "      <td>1000</td>\n",
       "    </tr>\n",
       "    <tr>\n",
       "      <th>...</th>\n",
       "      <td>...</td>\n",
       "      <td>...</td>\n",
       "      <td>...</td>\n",
       "      <td>...</td>\n",
       "    </tr>\n",
       "    <tr>\n",
       "      <th>202602</th>\n",
       "      <td>1499_215</td>\n",
       "      <td>2018-12-26</td>\n",
       "      <td>0.76</td>\n",
       "      <td>1499</td>\n",
       "    </tr>\n",
       "    <tr>\n",
       "      <th>202603</th>\n",
       "      <td>1499_216</td>\n",
       "      <td>2018-10-18</td>\n",
       "      <td>18.83</td>\n",
       "      <td>1499</td>\n",
       "    </tr>\n",
       "    <tr>\n",
       "      <th>202604</th>\n",
       "      <td>1499_217</td>\n",
       "      <td>2018-11-10</td>\n",
       "      <td>10.81</td>\n",
       "      <td>1499</td>\n",
       "    </tr>\n",
       "    <tr>\n",
       "      <th>202605</th>\n",
       "      <td>1499_218</td>\n",
       "      <td>2018-10-06</td>\n",
       "      <td>4.27</td>\n",
       "      <td>1499</td>\n",
       "    </tr>\n",
       "    <tr>\n",
       "      <th>202606</th>\n",
       "      <td>1499_219</td>\n",
       "      <td>2018-12-14</td>\n",
       "      <td>19.62</td>\n",
       "      <td>1499</td>\n",
       "    </tr>\n",
       "  </tbody>\n",
       "</table>\n",
       "<p>202607 rows × 4 columns</p>\n",
       "</div>"
      ],
      "text/plain": [
       "              id  call_date  duration  user_id\n",
       "0         1000_0 2018-07-25      0.00     1000\n",
       "1         1000_1 2018-08-17      0.00     1000\n",
       "2         1000_2 2018-06-11      2.85     1000\n",
       "3         1000_3 2018-09-21     13.80     1000\n",
       "4         1000_4 2018-12-15      5.18     1000\n",
       "...          ...        ...       ...      ...\n",
       "202602  1499_215 2018-12-26      0.76     1499\n",
       "202603  1499_216 2018-10-18     18.83     1499\n",
       "202604  1499_217 2018-11-10     10.81     1499\n",
       "202605  1499_218 2018-10-06      4.27     1499\n",
       "202606  1499_219 2018-12-14     19.62     1499\n",
       "\n",
       "[202607 rows x 4 columns]"
      ]
     },
     "metadata": {},
     "output_type": "display_data"
    },
    {
     "data": {
      "text/html": [
       "<div>\n",
       "<style scoped>\n",
       "    .dataframe tbody tr th:only-of-type {\n",
       "        vertical-align: middle;\n",
       "    }\n",
       "\n",
       "    .dataframe tbody tr th {\n",
       "        vertical-align: top;\n",
       "    }\n",
       "\n",
       "    .dataframe thead th {\n",
       "        text-align: right;\n",
       "    }\n",
       "</style>\n",
       "<table border=\"1\" class=\"dataframe\">\n",
       "  <thead>\n",
       "    <tr style=\"text-align: right;\">\n",
       "      <th></th>\n",
       "      <th>Unnamed: 0</th>\n",
       "      <th>id</th>\n",
       "      <th>mb_used</th>\n",
       "      <th>session_date</th>\n",
       "      <th>user_id</th>\n",
       "    </tr>\n",
       "  </thead>\n",
       "  <tbody>\n",
       "    <tr>\n",
       "      <th>0</th>\n",
       "      <td>0</td>\n",
       "      <td>1000_0</td>\n",
       "      <td>112.95</td>\n",
       "      <td>2018-11-25</td>\n",
       "      <td>1000</td>\n",
       "    </tr>\n",
       "    <tr>\n",
       "      <th>1</th>\n",
       "      <td>1</td>\n",
       "      <td>1000_1</td>\n",
       "      <td>1052.81</td>\n",
       "      <td>2018-09-07</td>\n",
       "      <td>1000</td>\n",
       "    </tr>\n",
       "    <tr>\n",
       "      <th>2</th>\n",
       "      <td>2</td>\n",
       "      <td>1000_2</td>\n",
       "      <td>1197.26</td>\n",
       "      <td>2018-06-25</td>\n",
       "      <td>1000</td>\n",
       "    </tr>\n",
       "    <tr>\n",
       "      <th>3</th>\n",
       "      <td>3</td>\n",
       "      <td>1000_3</td>\n",
       "      <td>550.27</td>\n",
       "      <td>2018-08-22</td>\n",
       "      <td>1000</td>\n",
       "    </tr>\n",
       "    <tr>\n",
       "      <th>4</th>\n",
       "      <td>4</td>\n",
       "      <td>1000_4</td>\n",
       "      <td>302.56</td>\n",
       "      <td>2018-09-24</td>\n",
       "      <td>1000</td>\n",
       "    </tr>\n",
       "    <tr>\n",
       "      <th>...</th>\n",
       "      <td>...</td>\n",
       "      <td>...</td>\n",
       "      <td>...</td>\n",
       "      <td>...</td>\n",
       "      <td>...</td>\n",
       "    </tr>\n",
       "    <tr>\n",
       "      <th>149391</th>\n",
       "      <td>149391</td>\n",
       "      <td>1499_152</td>\n",
       "      <td>318.90</td>\n",
       "      <td>2018-10-03</td>\n",
       "      <td>1499</td>\n",
       "    </tr>\n",
       "    <tr>\n",
       "      <th>149392</th>\n",
       "      <td>149392</td>\n",
       "      <td>1499_153</td>\n",
       "      <td>490.13</td>\n",
       "      <td>2018-12-14</td>\n",
       "      <td>1499</td>\n",
       "    </tr>\n",
       "    <tr>\n",
       "      <th>149393</th>\n",
       "      <td>149393</td>\n",
       "      <td>1499_154</td>\n",
       "      <td>0.00</td>\n",
       "      <td>2018-10-27</td>\n",
       "      <td>1499</td>\n",
       "    </tr>\n",
       "    <tr>\n",
       "      <th>149394</th>\n",
       "      <td>149394</td>\n",
       "      <td>1499_155</td>\n",
       "      <td>1246.32</td>\n",
       "      <td>2018-11-26</td>\n",
       "      <td>1499</td>\n",
       "    </tr>\n",
       "    <tr>\n",
       "      <th>149395</th>\n",
       "      <td>149395</td>\n",
       "      <td>1499_156</td>\n",
       "      <td>544.37</td>\n",
       "      <td>2018-10-26</td>\n",
       "      <td>1499</td>\n",
       "    </tr>\n",
       "  </tbody>\n",
       "</table>\n",
       "<p>149396 rows × 5 columns</p>\n",
       "</div>"
      ],
      "text/plain": [
       "        Unnamed: 0        id  mb_used session_date  user_id\n",
       "0                0    1000_0   112.95   2018-11-25     1000\n",
       "1                1    1000_1  1052.81   2018-09-07     1000\n",
       "2                2    1000_2  1197.26   2018-06-25     1000\n",
       "3                3    1000_3   550.27   2018-08-22     1000\n",
       "4                4    1000_4   302.56   2018-09-24     1000\n",
       "...            ...       ...      ...          ...      ...\n",
       "149391      149391  1499_152   318.90   2018-10-03     1499\n",
       "149392      149392  1499_153   490.13   2018-12-14     1499\n",
       "149393      149393  1499_154     0.00   2018-10-27     1499\n",
       "149394      149394  1499_155  1246.32   2018-11-26     1499\n",
       "149395      149395  1499_156   544.37   2018-10-26     1499\n",
       "\n",
       "[149396 rows x 5 columns]"
      ]
     },
     "metadata": {},
     "output_type": "display_data"
    },
    {
     "data": {
      "text/html": [
       "<div>\n",
       "<style scoped>\n",
       "    .dataframe tbody tr th:only-of-type {\n",
       "        vertical-align: middle;\n",
       "    }\n",
       "\n",
       "    .dataframe tbody tr th {\n",
       "        vertical-align: top;\n",
       "    }\n",
       "\n",
       "    .dataframe thead th {\n",
       "        text-align: right;\n",
       "    }\n",
       "</style>\n",
       "<table border=\"1\" class=\"dataframe\">\n",
       "  <thead>\n",
       "    <tr style=\"text-align: right;\">\n",
       "      <th></th>\n",
       "      <th>id</th>\n",
       "      <th>message_date</th>\n",
       "      <th>user_id</th>\n",
       "    </tr>\n",
       "  </thead>\n",
       "  <tbody>\n",
       "    <tr>\n",
       "      <th>0</th>\n",
       "      <td>1000_0</td>\n",
       "      <td>2018-06-27</td>\n",
       "      <td>1000</td>\n",
       "    </tr>\n",
       "    <tr>\n",
       "      <th>1</th>\n",
       "      <td>1000_1</td>\n",
       "      <td>2018-10-08</td>\n",
       "      <td>1000</td>\n",
       "    </tr>\n",
       "    <tr>\n",
       "      <th>2</th>\n",
       "      <td>1000_2</td>\n",
       "      <td>2018-08-04</td>\n",
       "      <td>1000</td>\n",
       "    </tr>\n",
       "    <tr>\n",
       "      <th>3</th>\n",
       "      <td>1000_3</td>\n",
       "      <td>2018-06-16</td>\n",
       "      <td>1000</td>\n",
       "    </tr>\n",
       "    <tr>\n",
       "      <th>4</th>\n",
       "      <td>1000_4</td>\n",
       "      <td>2018-12-05</td>\n",
       "      <td>1000</td>\n",
       "    </tr>\n",
       "    <tr>\n",
       "      <th>...</th>\n",
       "      <td>...</td>\n",
       "      <td>...</td>\n",
       "      <td>...</td>\n",
       "    </tr>\n",
       "    <tr>\n",
       "      <th>123031</th>\n",
       "      <td>1499_179</td>\n",
       "      <td>2018-12-12</td>\n",
       "      <td>1499</td>\n",
       "    </tr>\n",
       "    <tr>\n",
       "      <th>123032</th>\n",
       "      <td>1499_180</td>\n",
       "      <td>2018-09-28</td>\n",
       "      <td>1499</td>\n",
       "    </tr>\n",
       "    <tr>\n",
       "      <th>123033</th>\n",
       "      <td>1499_181</td>\n",
       "      <td>2018-09-27</td>\n",
       "      <td>1499</td>\n",
       "    </tr>\n",
       "    <tr>\n",
       "      <th>123034</th>\n",
       "      <td>1499_182</td>\n",
       "      <td>2018-11-15</td>\n",
       "      <td>1499</td>\n",
       "    </tr>\n",
       "    <tr>\n",
       "      <th>123035</th>\n",
       "      <td>1499_183</td>\n",
       "      <td>2018-11-16</td>\n",
       "      <td>1499</td>\n",
       "    </tr>\n",
       "  </tbody>\n",
       "</table>\n",
       "<p>123036 rows × 3 columns</p>\n",
       "</div>"
      ],
      "text/plain": [
       "              id message_date  user_id\n",
       "0         1000_0   2018-06-27     1000\n",
       "1         1000_1   2018-10-08     1000\n",
       "2         1000_2   2018-08-04     1000\n",
       "3         1000_3   2018-06-16     1000\n",
       "4         1000_4   2018-12-05     1000\n",
       "...          ...          ...      ...\n",
       "123031  1499_179   2018-12-12     1499\n",
       "123032  1499_180   2018-09-28     1499\n",
       "123033  1499_181   2018-09-27     1499\n",
       "123034  1499_182   2018-11-15     1499\n",
       "123035  1499_183   2018-11-16     1499\n",
       "\n",
       "[123036 rows x 3 columns]"
      ]
     },
     "metadata": {},
     "output_type": "display_data"
    },
    {
     "data": {
      "text/html": [
       "<div>\n",
       "<style scoped>\n",
       "    .dataframe tbody tr th:only-of-type {\n",
       "        vertical-align: middle;\n",
       "    }\n",
       "\n",
       "    .dataframe tbody tr th {\n",
       "        vertical-align: top;\n",
       "    }\n",
       "\n",
       "    .dataframe thead th {\n",
       "        text-align: right;\n",
       "    }\n",
       "</style>\n",
       "<table border=\"1\" class=\"dataframe\">\n",
       "  <thead>\n",
       "    <tr style=\"text-align: right;\">\n",
       "      <th></th>\n",
       "      <th>user_id</th>\n",
       "      <th>age</th>\n",
       "      <th>churn_date</th>\n",
       "      <th>city</th>\n",
       "      <th>first_name</th>\n",
       "      <th>last_name</th>\n",
       "      <th>reg_date</th>\n",
       "      <th>tariff</th>\n",
       "    </tr>\n",
       "  </thead>\n",
       "  <tbody>\n",
       "    <tr>\n",
       "      <th>0</th>\n",
       "      <td>1000</td>\n",
       "      <td>52</td>\n",
       "      <td>NaT</td>\n",
       "      <td>Краснодар</td>\n",
       "      <td>Рафаил</td>\n",
       "      <td>Верещагин</td>\n",
       "      <td>2018-05-25</td>\n",
       "      <td>ultra</td>\n",
       "    </tr>\n",
       "    <tr>\n",
       "      <th>1</th>\n",
       "      <td>1001</td>\n",
       "      <td>41</td>\n",
       "      <td>NaT</td>\n",
       "      <td>Москва</td>\n",
       "      <td>Иван</td>\n",
       "      <td>Ежов</td>\n",
       "      <td>2018-11-01</td>\n",
       "      <td>smart</td>\n",
       "    </tr>\n",
       "    <tr>\n",
       "      <th>2</th>\n",
       "      <td>1002</td>\n",
       "      <td>59</td>\n",
       "      <td>NaT</td>\n",
       "      <td>Стерлитамак</td>\n",
       "      <td>Евгений</td>\n",
       "      <td>Абрамович</td>\n",
       "      <td>2018-06-17</td>\n",
       "      <td>smart</td>\n",
       "    </tr>\n",
       "    <tr>\n",
       "      <th>3</th>\n",
       "      <td>1003</td>\n",
       "      <td>23</td>\n",
       "      <td>NaT</td>\n",
       "      <td>Москва</td>\n",
       "      <td>Белла</td>\n",
       "      <td>Белякова</td>\n",
       "      <td>2018-08-17</td>\n",
       "      <td>ultra</td>\n",
       "    </tr>\n",
       "    <tr>\n",
       "      <th>4</th>\n",
       "      <td>1004</td>\n",
       "      <td>68</td>\n",
       "      <td>NaT</td>\n",
       "      <td>Новокузнецк</td>\n",
       "      <td>Татьяна</td>\n",
       "      <td>Авдеенко</td>\n",
       "      <td>2018-05-14</td>\n",
       "      <td>ultra</td>\n",
       "    </tr>\n",
       "    <tr>\n",
       "      <th>...</th>\n",
       "      <td>...</td>\n",
       "      <td>...</td>\n",
       "      <td>...</td>\n",
       "      <td>...</td>\n",
       "      <td>...</td>\n",
       "      <td>...</td>\n",
       "      <td>...</td>\n",
       "      <td>...</td>\n",
       "    </tr>\n",
       "    <tr>\n",
       "      <th>495</th>\n",
       "      <td>1495</td>\n",
       "      <td>65</td>\n",
       "      <td>NaT</td>\n",
       "      <td>Иркутск</td>\n",
       "      <td>Авксентий</td>\n",
       "      <td>Фокин</td>\n",
       "      <td>2018-08-28</td>\n",
       "      <td>ultra</td>\n",
       "    </tr>\n",
       "    <tr>\n",
       "      <th>496</th>\n",
       "      <td>1496</td>\n",
       "      <td>36</td>\n",
       "      <td>NaT</td>\n",
       "      <td>Вологда</td>\n",
       "      <td>Трифон</td>\n",
       "      <td>Блохин</td>\n",
       "      <td>2018-01-27</td>\n",
       "      <td>smart</td>\n",
       "    </tr>\n",
       "    <tr>\n",
       "      <th>497</th>\n",
       "      <td>1497</td>\n",
       "      <td>32</td>\n",
       "      <td>NaT</td>\n",
       "      <td>Челябинск</td>\n",
       "      <td>Каролина</td>\n",
       "      <td>Агеева</td>\n",
       "      <td>2018-10-09</td>\n",
       "      <td>smart</td>\n",
       "    </tr>\n",
       "    <tr>\n",
       "      <th>498</th>\n",
       "      <td>1498</td>\n",
       "      <td>68</td>\n",
       "      <td>2018-10-25</td>\n",
       "      <td>Владикавказ</td>\n",
       "      <td>Всеволод</td>\n",
       "      <td>Акимчин</td>\n",
       "      <td>2018-07-19</td>\n",
       "      <td>smart</td>\n",
       "    </tr>\n",
       "    <tr>\n",
       "      <th>499</th>\n",
       "      <td>1499</td>\n",
       "      <td>35</td>\n",
       "      <td>NaT</td>\n",
       "      <td>Пермь</td>\n",
       "      <td>Гектор</td>\n",
       "      <td>Корнилов</td>\n",
       "      <td>2018-09-27</td>\n",
       "      <td>smart</td>\n",
       "    </tr>\n",
       "  </tbody>\n",
       "</table>\n",
       "<p>500 rows × 8 columns</p>\n",
       "</div>"
      ],
      "text/plain": [
       "     user_id  age churn_date         city first_name  last_name   reg_date  \\\n",
       "0       1000   52        NaT    Краснодар     Рафаил  Верещагин 2018-05-25   \n",
       "1       1001   41        NaT       Москва       Иван       Ежов 2018-11-01   \n",
       "2       1002   59        NaT  Стерлитамак    Евгений  Абрамович 2018-06-17   \n",
       "3       1003   23        NaT       Москва      Белла   Белякова 2018-08-17   \n",
       "4       1004   68        NaT  Новокузнецк    Татьяна   Авдеенко 2018-05-14   \n",
       "..       ...  ...        ...          ...        ...        ...        ...   \n",
       "495     1495   65        NaT      Иркутск  Авксентий      Фокин 2018-08-28   \n",
       "496     1496   36        NaT      Вологда     Трифон     Блохин 2018-01-27   \n",
       "497     1497   32        NaT    Челябинск   Каролина     Агеева 2018-10-09   \n",
       "498     1498   68 2018-10-25  Владикавказ   Всеволод    Акимчин 2018-07-19   \n",
       "499     1499   35        NaT        Пермь     Гектор   Корнилов 2018-09-27   \n",
       "\n",
       "    tariff  \n",
       "0    ultra  \n",
       "1    smart  \n",
       "2    smart  \n",
       "3    ultra  \n",
       "4    ultra  \n",
       "..     ...  \n",
       "495  ultra  \n",
       "496  smart  \n",
       "497  smart  \n",
       "498  smart  \n",
       "499  smart  \n",
       "\n",
       "[500 rows x 8 columns]"
      ]
     },
     "metadata": {},
     "output_type": "display_data"
    }
   ],
   "source": [
    "#приведем дату к формату datetime64\n",
    "df_calls['call_date'] = pd.to_datetime(df_calls['call_date'], format='%Y-%m-%d')\n",
    "df_internet['session_date'] = pd.to_datetime(df_internet['session_date'], format='%Y-%m-%d')\n",
    "df_messages['message_date'] = pd.to_datetime(df_messages['message_date'], format='%Y-%m-%d')\n",
    "df_users['reg_date'] = pd.to_datetime(df_users['reg_date'], format='%Y-%m-%d')\n",
    "df_users['churn_date'] = pd.to_datetime(df_users['churn_date'], format='%Y-%m-%d')\n",
    "\n",
    "#проверим\n",
    "display(df_calls,df_internet, df_messages, df_users)"
   ]
  },
  {
   "cell_type": "code",
   "execution_count": 10,
   "id": "c47dc19f",
   "metadata": {},
   "outputs": [
    {
     "data": {
      "text/html": [
       "<div>\n",
       "<style scoped>\n",
       "    .dataframe tbody tr th:only-of-type {\n",
       "        vertical-align: middle;\n",
       "    }\n",
       "\n",
       "    .dataframe tbody tr th {\n",
       "        vertical-align: top;\n",
       "    }\n",
       "\n",
       "    .dataframe thead th {\n",
       "        text-align: right;\n",
       "    }\n",
       "</style>\n",
       "<table border=\"1\" class=\"dataframe\">\n",
       "  <thead>\n",
       "    <tr style=\"text-align: right;\">\n",
       "      <th></th>\n",
       "      <th>id</th>\n",
       "      <th>call_date</th>\n",
       "      <th>duration</th>\n",
       "      <th>user_id</th>\n",
       "      <th>month</th>\n",
       "    </tr>\n",
       "  </thead>\n",
       "  <tbody>\n",
       "    <tr>\n",
       "      <th>0</th>\n",
       "      <td>1000_0</td>\n",
       "      <td>2018-07-25</td>\n",
       "      <td>0</td>\n",
       "      <td>1000</td>\n",
       "      <td>2018-07-01</td>\n",
       "    </tr>\n",
       "    <tr>\n",
       "      <th>1</th>\n",
       "      <td>1000_1</td>\n",
       "      <td>2018-08-17</td>\n",
       "      <td>0</td>\n",
       "      <td>1000</td>\n",
       "      <td>2018-08-01</td>\n",
       "    </tr>\n",
       "    <tr>\n",
       "      <th>2</th>\n",
       "      <td>1000_2</td>\n",
       "      <td>2018-06-11</td>\n",
       "      <td>3</td>\n",
       "      <td>1000</td>\n",
       "      <td>2018-06-01</td>\n",
       "    </tr>\n",
       "    <tr>\n",
       "      <th>3</th>\n",
       "      <td>1000_3</td>\n",
       "      <td>2018-09-21</td>\n",
       "      <td>14</td>\n",
       "      <td>1000</td>\n",
       "      <td>2018-09-01</td>\n",
       "    </tr>\n",
       "    <tr>\n",
       "      <th>4</th>\n",
       "      <td>1000_4</td>\n",
       "      <td>2018-12-15</td>\n",
       "      <td>6</td>\n",
       "      <td>1000</td>\n",
       "      <td>2018-12-01</td>\n",
       "    </tr>\n",
       "    <tr>\n",
       "      <th>...</th>\n",
       "      <td>...</td>\n",
       "      <td>...</td>\n",
       "      <td>...</td>\n",
       "      <td>...</td>\n",
       "      <td>...</td>\n",
       "    </tr>\n",
       "    <tr>\n",
       "      <th>202602</th>\n",
       "      <td>1499_215</td>\n",
       "      <td>2018-12-26</td>\n",
       "      <td>1</td>\n",
       "      <td>1499</td>\n",
       "      <td>2018-12-01</td>\n",
       "    </tr>\n",
       "    <tr>\n",
       "      <th>202603</th>\n",
       "      <td>1499_216</td>\n",
       "      <td>2018-10-18</td>\n",
       "      <td>19</td>\n",
       "      <td>1499</td>\n",
       "      <td>2018-10-01</td>\n",
       "    </tr>\n",
       "    <tr>\n",
       "      <th>202604</th>\n",
       "      <td>1499_217</td>\n",
       "      <td>2018-11-10</td>\n",
       "      <td>11</td>\n",
       "      <td>1499</td>\n",
       "      <td>2018-11-01</td>\n",
       "    </tr>\n",
       "    <tr>\n",
       "      <th>202605</th>\n",
       "      <td>1499_218</td>\n",
       "      <td>2018-10-06</td>\n",
       "      <td>5</td>\n",
       "      <td>1499</td>\n",
       "      <td>2018-10-01</td>\n",
       "    </tr>\n",
       "    <tr>\n",
       "      <th>202606</th>\n",
       "      <td>1499_219</td>\n",
       "      <td>2018-12-14</td>\n",
       "      <td>20</td>\n",
       "      <td>1499</td>\n",
       "      <td>2018-12-01</td>\n",
       "    </tr>\n",
       "  </tbody>\n",
       "</table>\n",
       "<p>202607 rows × 5 columns</p>\n",
       "</div>"
      ],
      "text/plain": [
       "              id  call_date  duration  user_id      month\n",
       "0         1000_0 2018-07-25         0     1000 2018-07-01\n",
       "1         1000_1 2018-08-17         0     1000 2018-08-01\n",
       "2         1000_2 2018-06-11         3     1000 2018-06-01\n",
       "3         1000_3 2018-09-21        14     1000 2018-09-01\n",
       "4         1000_4 2018-12-15         6     1000 2018-12-01\n",
       "...          ...        ...       ...      ...        ...\n",
       "202602  1499_215 2018-12-26         1     1499 2018-12-01\n",
       "202603  1499_216 2018-10-18        19     1499 2018-10-01\n",
       "202604  1499_217 2018-11-10        11     1499 2018-11-01\n",
       "202605  1499_218 2018-10-06         5     1499 2018-10-01\n",
       "202606  1499_219 2018-12-14        20     1499 2018-12-01\n",
       "\n",
       "[202607 rows x 5 columns]"
      ]
     },
     "execution_count": 10,
     "metadata": {},
     "output_type": "execute_result"
    }
   ],
   "source": [
    "#добавим столбец с началом календарного месяца, т.к. точность до дня нам не интересна\n",
    "df_calls['month'] = df_calls['call_date'].astype('datetime64[M]')\n",
    "#округлим до целого числа\n",
    "df_calls['duration'] = np.ceil(df_calls['duration']).astype('int')\n",
    "#првоерим\n",
    "df_calls"
   ]
  },
  {
   "cell_type": "code",
   "execution_count": 11,
   "id": "185944c7",
   "metadata": {
    "scrolled": true
   },
   "outputs": [
    {
     "data": {
      "text/html": [
       "<div>\n",
       "<style scoped>\n",
       "    .dataframe tbody tr th:only-of-type {\n",
       "        vertical-align: middle;\n",
       "    }\n",
       "\n",
       "    .dataframe tbody tr th {\n",
       "        vertical-align: top;\n",
       "    }\n",
       "\n",
       "    .dataframe thead th {\n",
       "        text-align: right;\n",
       "    }\n",
       "</style>\n",
       "<table border=\"1\" class=\"dataframe\">\n",
       "  <thead>\n",
       "    <tr style=\"text-align: right;\">\n",
       "      <th></th>\n",
       "      <th>id</th>\n",
       "      <th>mb_used</th>\n",
       "      <th>session_date</th>\n",
       "      <th>user_id</th>\n",
       "      <th>month</th>\n",
       "    </tr>\n",
       "  </thead>\n",
       "  <tbody>\n",
       "    <tr>\n",
       "      <th>0</th>\n",
       "      <td>1000_0</td>\n",
       "      <td>112.95</td>\n",
       "      <td>2018-11-25</td>\n",
       "      <td>1000</td>\n",
       "      <td>2018-11-01</td>\n",
       "    </tr>\n",
       "    <tr>\n",
       "      <th>1</th>\n",
       "      <td>1000_1</td>\n",
       "      <td>1052.81</td>\n",
       "      <td>2018-09-07</td>\n",
       "      <td>1000</td>\n",
       "      <td>2018-09-01</td>\n",
       "    </tr>\n",
       "    <tr>\n",
       "      <th>2</th>\n",
       "      <td>1000_2</td>\n",
       "      <td>1197.26</td>\n",
       "      <td>2018-06-25</td>\n",
       "      <td>1000</td>\n",
       "      <td>2018-06-01</td>\n",
       "    </tr>\n",
       "    <tr>\n",
       "      <th>3</th>\n",
       "      <td>1000_3</td>\n",
       "      <td>550.27</td>\n",
       "      <td>2018-08-22</td>\n",
       "      <td>1000</td>\n",
       "      <td>2018-08-01</td>\n",
       "    </tr>\n",
       "    <tr>\n",
       "      <th>4</th>\n",
       "      <td>1000_4</td>\n",
       "      <td>302.56</td>\n",
       "      <td>2018-09-24</td>\n",
       "      <td>1000</td>\n",
       "      <td>2018-09-01</td>\n",
       "    </tr>\n",
       "    <tr>\n",
       "      <th>...</th>\n",
       "      <td>...</td>\n",
       "      <td>...</td>\n",
       "      <td>...</td>\n",
       "      <td>...</td>\n",
       "      <td>...</td>\n",
       "    </tr>\n",
       "    <tr>\n",
       "      <th>149391</th>\n",
       "      <td>1499_152</td>\n",
       "      <td>318.90</td>\n",
       "      <td>2018-10-03</td>\n",
       "      <td>1499</td>\n",
       "      <td>2018-10-01</td>\n",
       "    </tr>\n",
       "    <tr>\n",
       "      <th>149392</th>\n",
       "      <td>1499_153</td>\n",
       "      <td>490.13</td>\n",
       "      <td>2018-12-14</td>\n",
       "      <td>1499</td>\n",
       "      <td>2018-12-01</td>\n",
       "    </tr>\n",
       "    <tr>\n",
       "      <th>149393</th>\n",
       "      <td>1499_154</td>\n",
       "      <td>0.00</td>\n",
       "      <td>2018-10-27</td>\n",
       "      <td>1499</td>\n",
       "      <td>2018-10-01</td>\n",
       "    </tr>\n",
       "    <tr>\n",
       "      <th>149394</th>\n",
       "      <td>1499_155</td>\n",
       "      <td>1246.32</td>\n",
       "      <td>2018-11-26</td>\n",
       "      <td>1499</td>\n",
       "      <td>2018-11-01</td>\n",
       "    </tr>\n",
       "    <tr>\n",
       "      <th>149395</th>\n",
       "      <td>1499_156</td>\n",
       "      <td>544.37</td>\n",
       "      <td>2018-10-26</td>\n",
       "      <td>1499</td>\n",
       "      <td>2018-10-01</td>\n",
       "    </tr>\n",
       "  </tbody>\n",
       "</table>\n",
       "<p>149396 rows × 5 columns</p>\n",
       "</div>"
      ],
      "text/plain": [
       "              id  mb_used session_date  user_id      month\n",
       "0         1000_0   112.95   2018-11-25     1000 2018-11-01\n",
       "1         1000_1  1052.81   2018-09-07     1000 2018-09-01\n",
       "2         1000_2  1197.26   2018-06-25     1000 2018-06-01\n",
       "3         1000_3   550.27   2018-08-22     1000 2018-08-01\n",
       "4         1000_4   302.56   2018-09-24     1000 2018-09-01\n",
       "...          ...      ...          ...      ...        ...\n",
       "149391  1499_152   318.90   2018-10-03     1499 2018-10-01\n",
       "149392  1499_153   490.13   2018-12-14     1499 2018-12-01\n",
       "149393  1499_154     0.00   2018-10-27     1499 2018-10-01\n",
       "149394  1499_155  1246.32   2018-11-26     1499 2018-11-01\n",
       "149395  1499_156   544.37   2018-10-26     1499 2018-10-01\n",
       "\n",
       "[149396 rows x 5 columns]"
      ]
     },
     "execution_count": 11,
     "metadata": {},
     "output_type": "execute_result"
    }
   ],
   "source": [
    "#удалим столбец 'Unnamed: 0'\n",
    "df_internet = df_internet.drop(['Unnamed: 0'], axis=1)\n",
    "\n",
    "#добавим столбец с началом календарного месяца, т.к. точность до дня нам не интересна\n",
    "df_internet['month'] = df_internet['session_date'].astype('datetime64[M]')\n",
    "\n",
    "#проверим\n",
    "df_internet"
   ]
  },
  {
   "cell_type": "code",
   "execution_count": 12,
   "id": "1efffeff",
   "metadata": {},
   "outputs": [
    {
     "data": {
      "text/html": [
       "<div>\n",
       "<style scoped>\n",
       "    .dataframe tbody tr th:only-of-type {\n",
       "        vertical-align: middle;\n",
       "    }\n",
       "\n",
       "    .dataframe tbody tr th {\n",
       "        vertical-align: top;\n",
       "    }\n",
       "\n",
       "    .dataframe thead th {\n",
       "        text-align: right;\n",
       "    }\n",
       "</style>\n",
       "<table border=\"1\" class=\"dataframe\">\n",
       "  <thead>\n",
       "    <tr style=\"text-align: right;\">\n",
       "      <th></th>\n",
       "      <th>id</th>\n",
       "      <th>message_date</th>\n",
       "      <th>user_id</th>\n",
       "      <th>month</th>\n",
       "    </tr>\n",
       "  </thead>\n",
       "  <tbody>\n",
       "    <tr>\n",
       "      <th>0</th>\n",
       "      <td>1000_0</td>\n",
       "      <td>2018-06-27</td>\n",
       "      <td>1000</td>\n",
       "      <td>2018-06-01</td>\n",
       "    </tr>\n",
       "    <tr>\n",
       "      <th>1</th>\n",
       "      <td>1000_1</td>\n",
       "      <td>2018-10-08</td>\n",
       "      <td>1000</td>\n",
       "      <td>2018-10-01</td>\n",
       "    </tr>\n",
       "    <tr>\n",
       "      <th>2</th>\n",
       "      <td>1000_2</td>\n",
       "      <td>2018-08-04</td>\n",
       "      <td>1000</td>\n",
       "      <td>2018-08-01</td>\n",
       "    </tr>\n",
       "    <tr>\n",
       "      <th>3</th>\n",
       "      <td>1000_3</td>\n",
       "      <td>2018-06-16</td>\n",
       "      <td>1000</td>\n",
       "      <td>2018-06-01</td>\n",
       "    </tr>\n",
       "    <tr>\n",
       "      <th>4</th>\n",
       "      <td>1000_4</td>\n",
       "      <td>2018-12-05</td>\n",
       "      <td>1000</td>\n",
       "      <td>2018-12-01</td>\n",
       "    </tr>\n",
       "    <tr>\n",
       "      <th>...</th>\n",
       "      <td>...</td>\n",
       "      <td>...</td>\n",
       "      <td>...</td>\n",
       "      <td>...</td>\n",
       "    </tr>\n",
       "    <tr>\n",
       "      <th>123031</th>\n",
       "      <td>1499_179</td>\n",
       "      <td>2018-12-12</td>\n",
       "      <td>1499</td>\n",
       "      <td>2018-12-01</td>\n",
       "    </tr>\n",
       "    <tr>\n",
       "      <th>123032</th>\n",
       "      <td>1499_180</td>\n",
       "      <td>2018-09-28</td>\n",
       "      <td>1499</td>\n",
       "      <td>2018-09-01</td>\n",
       "    </tr>\n",
       "    <tr>\n",
       "      <th>123033</th>\n",
       "      <td>1499_181</td>\n",
       "      <td>2018-09-27</td>\n",
       "      <td>1499</td>\n",
       "      <td>2018-09-01</td>\n",
       "    </tr>\n",
       "    <tr>\n",
       "      <th>123034</th>\n",
       "      <td>1499_182</td>\n",
       "      <td>2018-11-15</td>\n",
       "      <td>1499</td>\n",
       "      <td>2018-11-01</td>\n",
       "    </tr>\n",
       "    <tr>\n",
       "      <th>123035</th>\n",
       "      <td>1499_183</td>\n",
       "      <td>2018-11-16</td>\n",
       "      <td>1499</td>\n",
       "      <td>2018-11-01</td>\n",
       "    </tr>\n",
       "  </tbody>\n",
       "</table>\n",
       "<p>123036 rows × 4 columns</p>\n",
       "</div>"
      ],
      "text/plain": [
       "              id message_date  user_id      month\n",
       "0         1000_0   2018-06-27     1000 2018-06-01\n",
       "1         1000_1   2018-10-08     1000 2018-10-01\n",
       "2         1000_2   2018-08-04     1000 2018-08-01\n",
       "3         1000_3   2018-06-16     1000 2018-06-01\n",
       "4         1000_4   2018-12-05     1000 2018-12-01\n",
       "...          ...          ...      ...        ...\n",
       "123031  1499_179   2018-12-12     1499 2018-12-01\n",
       "123032  1499_180   2018-09-28     1499 2018-09-01\n",
       "123033  1499_181   2018-09-27     1499 2018-09-01\n",
       "123034  1499_182   2018-11-15     1499 2018-11-01\n",
       "123035  1499_183   2018-11-16     1499 2018-11-01\n",
       "\n",
       "[123036 rows x 4 columns]"
      ]
     },
     "execution_count": 12,
     "metadata": {},
     "output_type": "execute_result"
    }
   ],
   "source": [
    "#добавим столбец с началом календарного месяца, т.к. точность до дня нам не интересна\n",
    "df_messages['month'] = df_messages['message_date'].astype('datetime64[M]')\n",
    "\n",
    "#проверим\n",
    "df_messages"
   ]
  },
  {
   "cell_type": "markdown",
   "id": "62139a68",
   "metadata": {},
   "source": [
    "### Вывод\n",
    "\n",
    "Были скорректирвоанны данные для дальнейшего исследования"
   ]
  },
  {
   "cell_type": "markdown",
   "id": "ceefa857",
   "metadata": {},
   "source": [
    "### Расчет потребления различных услуг для каждого клиента"
   ]
  },
  {
   "cell_type": "code",
   "execution_count": 13,
   "id": "3cb9a49b",
   "metadata": {},
   "outputs": [
    {
     "data": {
      "text/html": [
       "<div>\n",
       "<style scoped>\n",
       "    .dataframe tbody tr th:only-of-type {\n",
       "        vertical-align: middle;\n",
       "    }\n",
       "\n",
       "    .dataframe tbody tr th {\n",
       "        vertical-align: top;\n",
       "    }\n",
       "\n",
       "    .dataframe thead th {\n",
       "        text-align: right;\n",
       "    }\n",
       "</style>\n",
       "<table border=\"1\" class=\"dataframe\">\n",
       "  <thead>\n",
       "    <tr style=\"text-align: right;\">\n",
       "      <th></th>\n",
       "      <th></th>\n",
       "      <th>month_call_duration</th>\n",
       "      <th>month_call_count</th>\n",
       "    </tr>\n",
       "    <tr>\n",
       "      <th>user_id</th>\n",
       "      <th>month_num</th>\n",
       "      <th></th>\n",
       "      <th></th>\n",
       "    </tr>\n",
       "  </thead>\n",
       "  <tbody>\n",
       "    <tr>\n",
       "      <th rowspan=\"5\" valign=\"top\">1000</th>\n",
       "      <th>5</th>\n",
       "      <td>159</td>\n",
       "      <td>22</td>\n",
       "    </tr>\n",
       "    <tr>\n",
       "      <th>6</th>\n",
       "      <td>172</td>\n",
       "      <td>43</td>\n",
       "    </tr>\n",
       "    <tr>\n",
       "      <th>7</th>\n",
       "      <td>340</td>\n",
       "      <td>47</td>\n",
       "    </tr>\n",
       "    <tr>\n",
       "      <th>8</th>\n",
       "      <td>408</td>\n",
       "      <td>52</td>\n",
       "    </tr>\n",
       "    <tr>\n",
       "      <th>9</th>\n",
       "      <td>466</td>\n",
       "      <td>58</td>\n",
       "    </tr>\n",
       "    <tr>\n",
       "      <th>...</th>\n",
       "      <th>...</th>\n",
       "      <td>...</td>\n",
       "      <td>...</td>\n",
       "    </tr>\n",
       "    <tr>\n",
       "      <th>1498</th>\n",
       "      <th>10</th>\n",
       "      <td>247</td>\n",
       "      <td>41</td>\n",
       "    </tr>\n",
       "    <tr>\n",
       "      <th rowspan=\"4\" valign=\"top\">1499</th>\n",
       "      <th>9</th>\n",
       "      <td>70</td>\n",
       "      <td>9</td>\n",
       "    </tr>\n",
       "    <tr>\n",
       "      <th>10</th>\n",
       "      <td>449</td>\n",
       "      <td>68</td>\n",
       "    </tr>\n",
       "    <tr>\n",
       "      <th>11</th>\n",
       "      <td>612</td>\n",
       "      <td>74</td>\n",
       "    </tr>\n",
       "    <tr>\n",
       "      <th>12</th>\n",
       "      <td>492</td>\n",
       "      <td>69</td>\n",
       "    </tr>\n",
       "  </tbody>\n",
       "</table>\n",
       "<p>3174 rows × 2 columns</p>\n",
       "</div>"
      ],
      "text/plain": [
       "                   month_call_duration  month_call_count\n",
       "user_id month_num                                       \n",
       "1000    5                          159                22\n",
       "        6                          172                43\n",
       "        7                          340                47\n",
       "        8                          408                52\n",
       "        9                          466                58\n",
       "...                                ...               ...\n",
       "1498    10                         247                41\n",
       "1499    9                           70                 9\n",
       "        10                         449                68\n",
       "        11                         612                74\n",
       "        12                         492                69\n",
       "\n",
       "[3174 rows x 2 columns]"
      ]
     },
     "execution_count": 13,
     "metadata": {},
     "output_type": "execute_result"
    }
   ],
   "source": [
    "#посчитаем количество и длительность звонков по месяцам\n",
    "df_calls['month_num'] = df_calls['call_date'].dt.month # создадим столбец для нумерации месяца\n",
    "df_calls_month = df_calls.pivot_table(index=['user_id', 'month_num'], values=['duration'], aggfunc=['sum', 'count'])\n",
    "df_calls_month.columns = ['month_call_duration', 'month_call_count']\n",
    "df_calls_month"
   ]
  },
  {
   "cell_type": "code",
   "execution_count": 14,
   "id": "e532ca0b",
   "metadata": {},
   "outputs": [
    {
     "data": {
      "text/html": [
       "<div>\n",
       "<style scoped>\n",
       "    .dataframe tbody tr th:only-of-type {\n",
       "        vertical-align: middle;\n",
       "    }\n",
       "\n",
       "    .dataframe tbody tr th {\n",
       "        vertical-align: top;\n",
       "    }\n",
       "\n",
       "    .dataframe thead th {\n",
       "        text-align: right;\n",
       "    }\n",
       "</style>\n",
       "<table border=\"1\" class=\"dataframe\">\n",
       "  <thead>\n",
       "    <tr style=\"text-align: right;\">\n",
       "      <th></th>\n",
       "      <th></th>\n",
       "      <th>month_messages_count</th>\n",
       "    </tr>\n",
       "    <tr>\n",
       "      <th>user_id</th>\n",
       "      <th>month_num</th>\n",
       "      <th></th>\n",
       "    </tr>\n",
       "  </thead>\n",
       "  <tbody>\n",
       "    <tr>\n",
       "      <th rowspan=\"5\" valign=\"top\">1000</th>\n",
       "      <th>5</th>\n",
       "      <td>22</td>\n",
       "    </tr>\n",
       "    <tr>\n",
       "      <th>6</th>\n",
       "      <td>60</td>\n",
       "    </tr>\n",
       "    <tr>\n",
       "      <th>7</th>\n",
       "      <td>75</td>\n",
       "    </tr>\n",
       "    <tr>\n",
       "      <th>8</th>\n",
       "      <td>81</td>\n",
       "    </tr>\n",
       "    <tr>\n",
       "      <th>9</th>\n",
       "      <td>57</td>\n",
       "    </tr>\n",
       "    <tr>\n",
       "      <th>...</th>\n",
       "      <th>...</th>\n",
       "      <td>...</td>\n",
       "    </tr>\n",
       "    <tr>\n",
       "      <th>1498</th>\n",
       "      <th>10</th>\n",
       "      <td>42</td>\n",
       "    </tr>\n",
       "    <tr>\n",
       "      <th rowspan=\"4\" valign=\"top\">1499</th>\n",
       "      <th>9</th>\n",
       "      <td>11</td>\n",
       "    </tr>\n",
       "    <tr>\n",
       "      <th>10</th>\n",
       "      <td>48</td>\n",
       "    </tr>\n",
       "    <tr>\n",
       "      <th>11</th>\n",
       "      <td>59</td>\n",
       "    </tr>\n",
       "    <tr>\n",
       "      <th>12</th>\n",
       "      <td>66</td>\n",
       "    </tr>\n",
       "  </tbody>\n",
       "</table>\n",
       "<p>2717 rows × 1 columns</p>\n",
       "</div>"
      ],
      "text/plain": [
       "                   month_messages_count\n",
       "user_id month_num                      \n",
       "1000    5                            22\n",
       "        6                            60\n",
       "        7                            75\n",
       "        8                            81\n",
       "        9                            57\n",
       "...                                 ...\n",
       "1498    10                           42\n",
       "1499    9                            11\n",
       "        10                           48\n",
       "        11                           59\n",
       "        12                           66\n",
       "\n",
       "[2717 rows x 1 columns]"
      ]
     },
     "execution_count": 14,
     "metadata": {},
     "output_type": "execute_result"
    }
   ],
   "source": [
    "#посчитаем количество сообщений по месяцам\n",
    "df_messages['month_num'] = df_messages['message_date'].dt.month # создадим столбец для нумерации месяца\n",
    "df_messages_month = df_messages.pivot_table(index=['user_id', 'month_num'], values=['message_date'], aggfunc=['count'])\n",
    "df_messages_month.columns = ['month_messages_count']\n",
    "df_messages_month"
   ]
  },
  {
   "cell_type": "code",
   "execution_count": 15,
   "id": "9648cb21",
   "metadata": {},
   "outputs": [
    {
     "data": {
      "text/html": [
       "<div>\n",
       "<style scoped>\n",
       "    .dataframe tbody tr th:only-of-type {\n",
       "        vertical-align: middle;\n",
       "    }\n",
       "\n",
       "    .dataframe tbody tr th {\n",
       "        vertical-align: top;\n",
       "    }\n",
       "\n",
       "    .dataframe thead th {\n",
       "        text-align: right;\n",
       "    }\n",
       "</style>\n",
       "<table border=\"1\" class=\"dataframe\">\n",
       "  <thead>\n",
       "    <tr style=\"text-align: right;\">\n",
       "      <th></th>\n",
       "      <th></th>\n",
       "      <th>month_internet_sum</th>\n",
       "    </tr>\n",
       "    <tr>\n",
       "      <th>user_id</th>\n",
       "      <th>month_num</th>\n",
       "      <th></th>\n",
       "    </tr>\n",
       "  </thead>\n",
       "  <tbody>\n",
       "    <tr>\n",
       "      <th rowspan=\"5\" valign=\"top\">1000</th>\n",
       "      <th>5</th>\n",
       "      <td>2253.49</td>\n",
       "    </tr>\n",
       "    <tr>\n",
       "      <th>6</th>\n",
       "      <td>23233.77</td>\n",
       "    </tr>\n",
       "    <tr>\n",
       "      <th>7</th>\n",
       "      <td>14003.64</td>\n",
       "    </tr>\n",
       "    <tr>\n",
       "      <th>8</th>\n",
       "      <td>14055.93</td>\n",
       "    </tr>\n",
       "    <tr>\n",
       "      <th>9</th>\n",
       "      <td>14568.91</td>\n",
       "    </tr>\n",
       "    <tr>\n",
       "      <th>...</th>\n",
       "      <th>...</th>\n",
       "      <td>...</td>\n",
       "    </tr>\n",
       "    <tr>\n",
       "      <th>1498</th>\n",
       "      <th>10</th>\n",
       "      <td>20579.36</td>\n",
       "    </tr>\n",
       "    <tr>\n",
       "      <th rowspan=\"4\" valign=\"top\">1499</th>\n",
       "      <th>9</th>\n",
       "      <td>1845.75</td>\n",
       "    </tr>\n",
       "    <tr>\n",
       "      <th>10</th>\n",
       "      <td>17788.51</td>\n",
       "    </tr>\n",
       "    <tr>\n",
       "      <th>11</th>\n",
       "      <td>17963.31</td>\n",
       "    </tr>\n",
       "    <tr>\n",
       "      <th>12</th>\n",
       "      <td>13055.58</td>\n",
       "    </tr>\n",
       "  </tbody>\n",
       "</table>\n",
       "<p>3203 rows × 1 columns</p>\n",
       "</div>"
      ],
      "text/plain": [
       "                   month_internet_sum\n",
       "user_id month_num                    \n",
       "1000    5                     2253.49\n",
       "        6                    23233.77\n",
       "        7                    14003.64\n",
       "        8                    14055.93\n",
       "        9                    14568.91\n",
       "...                               ...\n",
       "1498    10                   20579.36\n",
       "1499    9                     1845.75\n",
       "        10                   17788.51\n",
       "        11                   17963.31\n",
       "        12                   13055.58\n",
       "\n",
       "[3203 rows x 1 columns]"
      ]
     },
     "execution_count": 15,
     "metadata": {},
     "output_type": "execute_result"
    }
   ],
   "source": [
    "#посчитаем количество израсходованного трафика по месяцам\n",
    "df_internet['month_num'] = df_internet['session_date'].dt.month # создадим столбец для нумерации месяца\n",
    "df_internet_month = df_internet.pivot_table(index=['user_id', 'month_num'], values=['mb_used'], aggfunc=['sum'])\n",
    "df_internet_month.columns = ['month_internet_sum']\n",
    "df_internet_month"
   ]
  },
  {
   "cell_type": "markdown",
   "id": "be5019e6",
   "metadata": {},
   "source": [
    "Для рассчета помесячной выручки объеденим все сводные таблицы и таблицу df_users"
   ]
  },
  {
   "cell_type": "code",
   "execution_count": 16,
   "id": "42f5a49b",
   "metadata": {},
   "outputs": [
    {
     "data": {
      "text/html": [
       "<div>\n",
       "<style scoped>\n",
       "    .dataframe tbody tr th:only-of-type {\n",
       "        vertical-align: middle;\n",
       "    }\n",
       "\n",
       "    .dataframe tbody tr th {\n",
       "        vertical-align: top;\n",
       "    }\n",
       "\n",
       "    .dataframe thead th {\n",
       "        text-align: right;\n",
       "    }\n",
       "</style>\n",
       "<table border=\"1\" class=\"dataframe\">\n",
       "  <thead>\n",
       "    <tr style=\"text-align: right;\">\n",
       "      <th></th>\n",
       "      <th></th>\n",
       "      <th>month_internet_sum</th>\n",
       "      <th>month_call_duration</th>\n",
       "      <th>month_call_count</th>\n",
       "    </tr>\n",
       "    <tr>\n",
       "      <th>user_id</th>\n",
       "      <th>month_num</th>\n",
       "      <th></th>\n",
       "      <th></th>\n",
       "      <th></th>\n",
       "    </tr>\n",
       "  </thead>\n",
       "  <tbody>\n",
       "    <tr>\n",
       "      <th rowspan=\"5\" valign=\"top\">1000</th>\n",
       "      <th>5</th>\n",
       "      <td>2253.49</td>\n",
       "      <td>159.0</td>\n",
       "      <td>22.0</td>\n",
       "    </tr>\n",
       "    <tr>\n",
       "      <th>6</th>\n",
       "      <td>23233.77</td>\n",
       "      <td>172.0</td>\n",
       "      <td>43.0</td>\n",
       "    </tr>\n",
       "    <tr>\n",
       "      <th>7</th>\n",
       "      <td>14003.64</td>\n",
       "      <td>340.0</td>\n",
       "      <td>47.0</td>\n",
       "    </tr>\n",
       "    <tr>\n",
       "      <th>8</th>\n",
       "      <td>14055.93</td>\n",
       "      <td>408.0</td>\n",
       "      <td>52.0</td>\n",
       "    </tr>\n",
       "    <tr>\n",
       "      <th>9</th>\n",
       "      <td>14568.91</td>\n",
       "      <td>466.0</td>\n",
       "      <td>58.0</td>\n",
       "    </tr>\n",
       "    <tr>\n",
       "      <th>...</th>\n",
       "      <th>...</th>\n",
       "      <td>...</td>\n",
       "      <td>...</td>\n",
       "      <td>...</td>\n",
       "    </tr>\n",
       "    <tr>\n",
       "      <th>1498</th>\n",
       "      <th>10</th>\n",
       "      <td>20579.36</td>\n",
       "      <td>247.0</td>\n",
       "      <td>41.0</td>\n",
       "    </tr>\n",
       "    <tr>\n",
       "      <th rowspan=\"4\" valign=\"top\">1499</th>\n",
       "      <th>9</th>\n",
       "      <td>1845.75</td>\n",
       "      <td>70.0</td>\n",
       "      <td>9.0</td>\n",
       "    </tr>\n",
       "    <tr>\n",
       "      <th>10</th>\n",
       "      <td>17788.51</td>\n",
       "      <td>449.0</td>\n",
       "      <td>68.0</td>\n",
       "    </tr>\n",
       "    <tr>\n",
       "      <th>11</th>\n",
       "      <td>17963.31</td>\n",
       "      <td>612.0</td>\n",
       "      <td>74.0</td>\n",
       "    </tr>\n",
       "    <tr>\n",
       "      <th>12</th>\n",
       "      <td>13055.58</td>\n",
       "      <td>492.0</td>\n",
       "      <td>69.0</td>\n",
       "    </tr>\n",
       "  </tbody>\n",
       "</table>\n",
       "<p>3214 rows × 3 columns</p>\n",
       "</div>"
      ],
      "text/plain": [
       "                   month_internet_sum  month_call_duration  month_call_count\n",
       "user_id month_num                                                           \n",
       "1000    5                     2253.49                159.0              22.0\n",
       "        6                    23233.77                172.0              43.0\n",
       "        7                    14003.64                340.0              47.0\n",
       "        8                    14055.93                408.0              52.0\n",
       "        9                    14568.91                466.0              58.0\n",
       "...                               ...                  ...               ...\n",
       "1498    10                   20579.36                247.0              41.0\n",
       "1499    9                     1845.75                 70.0               9.0\n",
       "        10                   17788.51                449.0              68.0\n",
       "        11                   17963.31                612.0              74.0\n",
       "        12                   13055.58                492.0              69.0\n",
       "\n",
       "[3214 rows x 3 columns]"
      ]
     },
     "execution_count": 16,
     "metadata": {},
     "output_type": "execute_result"
    }
   ],
   "source": [
    "df_cmi_pivot1 = df_internet_month.join(df_calls_month, how='outer')\n",
    "df_cmi_pivot1 "
   ]
  },
  {
   "cell_type": "code",
   "execution_count": 17,
   "id": "90083571",
   "metadata": {},
   "outputs": [
    {
     "data": {
      "text/html": [
       "<div>\n",
       "<style scoped>\n",
       "    .dataframe tbody tr th:only-of-type {\n",
       "        vertical-align: middle;\n",
       "    }\n",
       "\n",
       "    .dataframe tbody tr th {\n",
       "        vertical-align: top;\n",
       "    }\n",
       "\n",
       "    .dataframe thead th {\n",
       "        text-align: right;\n",
       "    }\n",
       "</style>\n",
       "<table border=\"1\" class=\"dataframe\">\n",
       "  <thead>\n",
       "    <tr style=\"text-align: right;\">\n",
       "      <th></th>\n",
       "      <th>month_num</th>\n",
       "      <th>month_internet_sum</th>\n",
       "      <th>month_call_duration</th>\n",
       "      <th>month_call_count</th>\n",
       "      <th>month_messages_count</th>\n",
       "    </tr>\n",
       "    <tr>\n",
       "      <th>user_id</th>\n",
       "      <th></th>\n",
       "      <th></th>\n",
       "      <th></th>\n",
       "      <th></th>\n",
       "      <th></th>\n",
       "    </tr>\n",
       "  </thead>\n",
       "  <tbody>\n",
       "    <tr>\n",
       "      <th>1000</th>\n",
       "      <td>5</td>\n",
       "      <td>2253.49</td>\n",
       "      <td>159.0</td>\n",
       "      <td>22.0</td>\n",
       "      <td>22.0</td>\n",
       "    </tr>\n",
       "    <tr>\n",
       "      <th>1000</th>\n",
       "      <td>6</td>\n",
       "      <td>23233.77</td>\n",
       "      <td>172.0</td>\n",
       "      <td>43.0</td>\n",
       "      <td>60.0</td>\n",
       "    </tr>\n",
       "    <tr>\n",
       "      <th>1000</th>\n",
       "      <td>7</td>\n",
       "      <td>14003.64</td>\n",
       "      <td>340.0</td>\n",
       "      <td>47.0</td>\n",
       "      <td>75.0</td>\n",
       "    </tr>\n",
       "    <tr>\n",
       "      <th>1000</th>\n",
       "      <td>8</td>\n",
       "      <td>14055.93</td>\n",
       "      <td>408.0</td>\n",
       "      <td>52.0</td>\n",
       "      <td>81.0</td>\n",
       "    </tr>\n",
       "    <tr>\n",
       "      <th>1000</th>\n",
       "      <td>9</td>\n",
       "      <td>14568.91</td>\n",
       "      <td>466.0</td>\n",
       "      <td>58.0</td>\n",
       "      <td>57.0</td>\n",
       "    </tr>\n",
       "    <tr>\n",
       "      <th>...</th>\n",
       "      <td>...</td>\n",
       "      <td>...</td>\n",
       "      <td>...</td>\n",
       "      <td>...</td>\n",
       "      <td>...</td>\n",
       "    </tr>\n",
       "    <tr>\n",
       "      <th>1498</th>\n",
       "      <td>10</td>\n",
       "      <td>20579.36</td>\n",
       "      <td>247.0</td>\n",
       "      <td>41.0</td>\n",
       "      <td>42.0</td>\n",
       "    </tr>\n",
       "    <tr>\n",
       "      <th>1499</th>\n",
       "      <td>9</td>\n",
       "      <td>1845.75</td>\n",
       "      <td>70.0</td>\n",
       "      <td>9.0</td>\n",
       "      <td>11.0</td>\n",
       "    </tr>\n",
       "    <tr>\n",
       "      <th>1499</th>\n",
       "      <td>10</td>\n",
       "      <td>17788.51</td>\n",
       "      <td>449.0</td>\n",
       "      <td>68.0</td>\n",
       "      <td>48.0</td>\n",
       "    </tr>\n",
       "    <tr>\n",
       "      <th>1499</th>\n",
       "      <td>11</td>\n",
       "      <td>17963.31</td>\n",
       "      <td>612.0</td>\n",
       "      <td>74.0</td>\n",
       "      <td>59.0</td>\n",
       "    </tr>\n",
       "    <tr>\n",
       "      <th>1499</th>\n",
       "      <td>12</td>\n",
       "      <td>13055.58</td>\n",
       "      <td>492.0</td>\n",
       "      <td>69.0</td>\n",
       "      <td>66.0</td>\n",
       "    </tr>\n",
       "  </tbody>\n",
       "</table>\n",
       "<p>3214 rows × 5 columns</p>\n",
       "</div>"
      ],
      "text/plain": [
       "         month_num  month_internet_sum  month_call_duration  month_call_count  \\\n",
       "user_id                                                                         \n",
       "1000             5             2253.49                159.0              22.0   \n",
       "1000             6            23233.77                172.0              43.0   \n",
       "1000             7            14003.64                340.0              47.0   \n",
       "1000             8            14055.93                408.0              52.0   \n",
       "1000             9            14568.91                466.0              58.0   \n",
       "...            ...                 ...                  ...               ...   \n",
       "1498            10            20579.36                247.0              41.0   \n",
       "1499             9             1845.75                 70.0               9.0   \n",
       "1499            10            17788.51                449.0              68.0   \n",
       "1499            11            17963.31                612.0              74.0   \n",
       "1499            12            13055.58                492.0              69.0   \n",
       "\n",
       "         month_messages_count  \n",
       "user_id                        \n",
       "1000                     22.0  \n",
       "1000                     60.0  \n",
       "1000                     75.0  \n",
       "1000                     81.0  \n",
       "1000                     57.0  \n",
       "...                       ...  \n",
       "1498                     42.0  \n",
       "1499                     11.0  \n",
       "1499                     48.0  \n",
       "1499                     59.0  \n",
       "1499                     66.0  \n",
       "\n",
       "[3214 rows x 5 columns]"
      ]
     },
     "execution_count": 17,
     "metadata": {},
     "output_type": "execute_result"
    }
   ],
   "source": [
    "df_cmi_pivot = df_cmi_pivot1.merge(df_messages_month, on=['user_id', 'month_num'], how='outer').reset_index(level='month_num')\n",
    "df_cmi_pivot"
   ]
  },
  {
   "cell_type": "code",
   "execution_count": 18,
   "id": "dc31b748",
   "metadata": {},
   "outputs": [
    {
     "data": {
      "text/html": [
       "<div>\n",
       "<style scoped>\n",
       "    .dataframe tbody tr th:only-of-type {\n",
       "        vertical-align: middle;\n",
       "    }\n",
       "\n",
       "    .dataframe tbody tr th {\n",
       "        vertical-align: top;\n",
       "    }\n",
       "\n",
       "    .dataframe thead th {\n",
       "        text-align: right;\n",
       "    }\n",
       "</style>\n",
       "<table border=\"1\" class=\"dataframe\">\n",
       "  <thead>\n",
       "    <tr style=\"text-align: right;\">\n",
       "      <th></th>\n",
       "      <th>user_id</th>\n",
       "      <th>month_num</th>\n",
       "      <th>month_internet_sum</th>\n",
       "      <th>month_call_duration</th>\n",
       "      <th>month_call_count</th>\n",
       "      <th>month_messages_count</th>\n",
       "      <th>age</th>\n",
       "      <th>churn_date</th>\n",
       "      <th>city</th>\n",
       "      <th>first_name</th>\n",
       "      <th>last_name</th>\n",
       "      <th>reg_date</th>\n",
       "      <th>tariff</th>\n",
       "    </tr>\n",
       "  </thead>\n",
       "  <tbody>\n",
       "    <tr>\n",
       "      <th>0</th>\n",
       "      <td>1000</td>\n",
       "      <td>5.0</td>\n",
       "      <td>2253.49</td>\n",
       "      <td>159.0</td>\n",
       "      <td>22.0</td>\n",
       "      <td>22.0</td>\n",
       "      <td>52</td>\n",
       "      <td>NaT</td>\n",
       "      <td>Краснодар</td>\n",
       "      <td>Рафаил</td>\n",
       "      <td>Верещагин</td>\n",
       "      <td>2018-05-25</td>\n",
       "      <td>ultra</td>\n",
       "    </tr>\n",
       "    <tr>\n",
       "      <th>1</th>\n",
       "      <td>1000</td>\n",
       "      <td>6.0</td>\n",
       "      <td>23233.77</td>\n",
       "      <td>172.0</td>\n",
       "      <td>43.0</td>\n",
       "      <td>60.0</td>\n",
       "      <td>52</td>\n",
       "      <td>NaT</td>\n",
       "      <td>Краснодар</td>\n",
       "      <td>Рафаил</td>\n",
       "      <td>Верещагин</td>\n",
       "      <td>2018-05-25</td>\n",
       "      <td>ultra</td>\n",
       "    </tr>\n",
       "    <tr>\n",
       "      <th>2</th>\n",
       "      <td>1000</td>\n",
       "      <td>7.0</td>\n",
       "      <td>14003.64</td>\n",
       "      <td>340.0</td>\n",
       "      <td>47.0</td>\n",
       "      <td>75.0</td>\n",
       "      <td>52</td>\n",
       "      <td>NaT</td>\n",
       "      <td>Краснодар</td>\n",
       "      <td>Рафаил</td>\n",
       "      <td>Верещагин</td>\n",
       "      <td>2018-05-25</td>\n",
       "      <td>ultra</td>\n",
       "    </tr>\n",
       "    <tr>\n",
       "      <th>3</th>\n",
       "      <td>1000</td>\n",
       "      <td>8.0</td>\n",
       "      <td>14055.93</td>\n",
       "      <td>408.0</td>\n",
       "      <td>52.0</td>\n",
       "      <td>81.0</td>\n",
       "      <td>52</td>\n",
       "      <td>NaT</td>\n",
       "      <td>Краснодар</td>\n",
       "      <td>Рафаил</td>\n",
       "      <td>Верещагин</td>\n",
       "      <td>2018-05-25</td>\n",
       "      <td>ultra</td>\n",
       "    </tr>\n",
       "    <tr>\n",
       "      <th>4</th>\n",
       "      <td>1000</td>\n",
       "      <td>9.0</td>\n",
       "      <td>14568.91</td>\n",
       "      <td>466.0</td>\n",
       "      <td>58.0</td>\n",
       "      <td>57.0</td>\n",
       "      <td>52</td>\n",
       "      <td>NaT</td>\n",
       "      <td>Краснодар</td>\n",
       "      <td>Рафаил</td>\n",
       "      <td>Верещагин</td>\n",
       "      <td>2018-05-25</td>\n",
       "      <td>ultra</td>\n",
       "    </tr>\n",
       "    <tr>\n",
       "      <th>...</th>\n",
       "      <td>...</td>\n",
       "      <td>...</td>\n",
       "      <td>...</td>\n",
       "      <td>...</td>\n",
       "      <td>...</td>\n",
       "      <td>...</td>\n",
       "      <td>...</td>\n",
       "      <td>...</td>\n",
       "      <td>...</td>\n",
       "      <td>...</td>\n",
       "      <td>...</td>\n",
       "      <td>...</td>\n",
       "      <td>...</td>\n",
       "    </tr>\n",
       "    <tr>\n",
       "      <th>3211</th>\n",
       "      <td>1499</td>\n",
       "      <td>10.0</td>\n",
       "      <td>17788.51</td>\n",
       "      <td>449.0</td>\n",
       "      <td>68.0</td>\n",
       "      <td>48.0</td>\n",
       "      <td>35</td>\n",
       "      <td>NaT</td>\n",
       "      <td>Пермь</td>\n",
       "      <td>Гектор</td>\n",
       "      <td>Корнилов</td>\n",
       "      <td>2018-09-27</td>\n",
       "      <td>smart</td>\n",
       "    </tr>\n",
       "    <tr>\n",
       "      <th>3212</th>\n",
       "      <td>1499</td>\n",
       "      <td>11.0</td>\n",
       "      <td>17963.31</td>\n",
       "      <td>612.0</td>\n",
       "      <td>74.0</td>\n",
       "      <td>59.0</td>\n",
       "      <td>35</td>\n",
       "      <td>NaT</td>\n",
       "      <td>Пермь</td>\n",
       "      <td>Гектор</td>\n",
       "      <td>Корнилов</td>\n",
       "      <td>2018-09-27</td>\n",
       "      <td>smart</td>\n",
       "    </tr>\n",
       "    <tr>\n",
       "      <th>3213</th>\n",
       "      <td>1499</td>\n",
       "      <td>12.0</td>\n",
       "      <td>13055.58</td>\n",
       "      <td>492.0</td>\n",
       "      <td>69.0</td>\n",
       "      <td>66.0</td>\n",
       "      <td>35</td>\n",
       "      <td>NaT</td>\n",
       "      <td>Пермь</td>\n",
       "      <td>Гектор</td>\n",
       "      <td>Корнилов</td>\n",
       "      <td>2018-09-27</td>\n",
       "      <td>smart</td>\n",
       "    </tr>\n",
       "    <tr>\n",
       "      <th>3214</th>\n",
       "      <td>1128</td>\n",
       "      <td>NaN</td>\n",
       "      <td>NaN</td>\n",
       "      <td>NaN</td>\n",
       "      <td>NaN</td>\n",
       "      <td>NaN</td>\n",
       "      <td>51</td>\n",
       "      <td>2018-12-23</td>\n",
       "      <td>Волжский</td>\n",
       "      <td>Ксения</td>\n",
       "      <td>Агаева</td>\n",
       "      <td>2018-12-15</td>\n",
       "      <td>ultra</td>\n",
       "    </tr>\n",
       "    <tr>\n",
       "      <th>3215</th>\n",
       "      <td>1371</td>\n",
       "      <td>NaN</td>\n",
       "      <td>NaN</td>\n",
       "      <td>NaN</td>\n",
       "      <td>NaN</td>\n",
       "      <td>NaN</td>\n",
       "      <td>50</td>\n",
       "      <td>2018-12-30</td>\n",
       "      <td>Омск</td>\n",
       "      <td>Ириней</td>\n",
       "      <td>Трофимов</td>\n",
       "      <td>2018-12-25</td>\n",
       "      <td>smart</td>\n",
       "    </tr>\n",
       "  </tbody>\n",
       "</table>\n",
       "<p>3216 rows × 13 columns</p>\n",
       "</div>"
      ],
      "text/plain": [
       "      user_id  month_num  month_internet_sum  month_call_duration  \\\n",
       "0        1000        5.0             2253.49                159.0   \n",
       "1        1000        6.0            23233.77                172.0   \n",
       "2        1000        7.0            14003.64                340.0   \n",
       "3        1000        8.0            14055.93                408.0   \n",
       "4        1000        9.0            14568.91                466.0   \n",
       "...       ...        ...                 ...                  ...   \n",
       "3211     1499       10.0            17788.51                449.0   \n",
       "3212     1499       11.0            17963.31                612.0   \n",
       "3213     1499       12.0            13055.58                492.0   \n",
       "3214     1128        NaN                 NaN                  NaN   \n",
       "3215     1371        NaN                 NaN                  NaN   \n",
       "\n",
       "      month_call_count  month_messages_count  age churn_date       city  \\\n",
       "0                 22.0                  22.0   52        NaT  Краснодар   \n",
       "1                 43.0                  60.0   52        NaT  Краснодар   \n",
       "2                 47.0                  75.0   52        NaT  Краснодар   \n",
       "3                 52.0                  81.0   52        NaT  Краснодар   \n",
       "4                 58.0                  57.0   52        NaT  Краснодар   \n",
       "...                ...                   ...  ...        ...        ...   \n",
       "3211              68.0                  48.0   35        NaT      Пермь   \n",
       "3212              74.0                  59.0   35        NaT      Пермь   \n",
       "3213              69.0                  66.0   35        NaT      Пермь   \n",
       "3214               NaN                   NaN   51 2018-12-23   Волжский   \n",
       "3215               NaN                   NaN   50 2018-12-30       Омск   \n",
       "\n",
       "     first_name  last_name   reg_date tariff  \n",
       "0        Рафаил  Верещагин 2018-05-25  ultra  \n",
       "1        Рафаил  Верещагин 2018-05-25  ultra  \n",
       "2        Рафаил  Верещагин 2018-05-25  ultra  \n",
       "3        Рафаил  Верещагин 2018-05-25  ultra  \n",
       "4        Рафаил  Верещагин 2018-05-25  ultra  \n",
       "...         ...        ...        ...    ...  \n",
       "3211     Гектор   Корнилов 2018-09-27  smart  \n",
       "3212     Гектор   Корнилов 2018-09-27  smart  \n",
       "3213     Гектор   Корнилов 2018-09-27  smart  \n",
       "3214     Ксения     Агаева 2018-12-15  ultra  \n",
       "3215     Ириней   Трофимов 2018-12-25  smart  \n",
       "\n",
       "[3216 rows x 13 columns]"
      ]
     },
     "execution_count": 18,
     "metadata": {},
     "output_type": "execute_result"
    }
   ],
   "source": [
    "# объединяем df_users и df_cmi_pivot также методом join\n",
    "# параметру 'on' передаем значения df_users['user_id']\n",
    "# метод join будет искать совпадения этих значений с индексами df_cmi_pivot и объединять по ним\n",
    "\n",
    "df_cmiu_pivot = df_cmi_pivot.merge(df_users, on='user_id', how='outer')\n",
    "df_cmiu_pivot"
   ]
  },
  {
   "cell_type": "code",
   "execution_count": 19,
   "id": "36d53051",
   "metadata": {},
   "outputs": [
    {
     "data": {
      "text/html": [
       "<div>\n",
       "<style scoped>\n",
       "    .dataframe tbody tr th:only-of-type {\n",
       "        vertical-align: middle;\n",
       "    }\n",
       "\n",
       "    .dataframe tbody tr th {\n",
       "        vertical-align: top;\n",
       "    }\n",
       "\n",
       "    .dataframe thead th {\n",
       "        text-align: right;\n",
       "    }\n",
       "</style>\n",
       "<table border=\"1\" class=\"dataframe\">\n",
       "  <thead>\n",
       "    <tr style=\"text-align: right;\">\n",
       "      <th></th>\n",
       "      <th>user_id</th>\n",
       "      <th>month_num</th>\n",
       "      <th>month_internet_sum</th>\n",
       "      <th>month_call_duration</th>\n",
       "      <th>month_call_count</th>\n",
       "      <th>month_messages_count</th>\n",
       "      <th>age</th>\n",
       "      <th>city</th>\n",
       "      <th>tariff</th>\n",
       "    </tr>\n",
       "  </thead>\n",
       "  <tbody>\n",
       "    <tr>\n",
       "      <th>0</th>\n",
       "      <td>1000</td>\n",
       "      <td>5.0</td>\n",
       "      <td>2253.49</td>\n",
       "      <td>159.0</td>\n",
       "      <td>22.0</td>\n",
       "      <td>22.0</td>\n",
       "      <td>52</td>\n",
       "      <td>Краснодар</td>\n",
       "      <td>ultra</td>\n",
       "    </tr>\n",
       "    <tr>\n",
       "      <th>1</th>\n",
       "      <td>1000</td>\n",
       "      <td>6.0</td>\n",
       "      <td>23233.77</td>\n",
       "      <td>172.0</td>\n",
       "      <td>43.0</td>\n",
       "      <td>60.0</td>\n",
       "      <td>52</td>\n",
       "      <td>Краснодар</td>\n",
       "      <td>ultra</td>\n",
       "    </tr>\n",
       "    <tr>\n",
       "      <th>2</th>\n",
       "      <td>1000</td>\n",
       "      <td>7.0</td>\n",
       "      <td>14003.64</td>\n",
       "      <td>340.0</td>\n",
       "      <td>47.0</td>\n",
       "      <td>75.0</td>\n",
       "      <td>52</td>\n",
       "      <td>Краснодар</td>\n",
       "      <td>ultra</td>\n",
       "    </tr>\n",
       "    <tr>\n",
       "      <th>3</th>\n",
       "      <td>1000</td>\n",
       "      <td>8.0</td>\n",
       "      <td>14055.93</td>\n",
       "      <td>408.0</td>\n",
       "      <td>52.0</td>\n",
       "      <td>81.0</td>\n",
       "      <td>52</td>\n",
       "      <td>Краснодар</td>\n",
       "      <td>ultra</td>\n",
       "    </tr>\n",
       "    <tr>\n",
       "      <th>4</th>\n",
       "      <td>1000</td>\n",
       "      <td>9.0</td>\n",
       "      <td>14568.91</td>\n",
       "      <td>466.0</td>\n",
       "      <td>58.0</td>\n",
       "      <td>57.0</td>\n",
       "      <td>52</td>\n",
       "      <td>Краснодар</td>\n",
       "      <td>ultra</td>\n",
       "    </tr>\n",
       "    <tr>\n",
       "      <th>...</th>\n",
       "      <td>...</td>\n",
       "      <td>...</td>\n",
       "      <td>...</td>\n",
       "      <td>...</td>\n",
       "      <td>...</td>\n",
       "      <td>...</td>\n",
       "      <td>...</td>\n",
       "      <td>...</td>\n",
       "      <td>...</td>\n",
       "    </tr>\n",
       "    <tr>\n",
       "      <th>3211</th>\n",
       "      <td>1499</td>\n",
       "      <td>10.0</td>\n",
       "      <td>17788.51</td>\n",
       "      <td>449.0</td>\n",
       "      <td>68.0</td>\n",
       "      <td>48.0</td>\n",
       "      <td>35</td>\n",
       "      <td>Пермь</td>\n",
       "      <td>smart</td>\n",
       "    </tr>\n",
       "    <tr>\n",
       "      <th>3212</th>\n",
       "      <td>1499</td>\n",
       "      <td>11.0</td>\n",
       "      <td>17963.31</td>\n",
       "      <td>612.0</td>\n",
       "      <td>74.0</td>\n",
       "      <td>59.0</td>\n",
       "      <td>35</td>\n",
       "      <td>Пермь</td>\n",
       "      <td>smart</td>\n",
       "    </tr>\n",
       "    <tr>\n",
       "      <th>3213</th>\n",
       "      <td>1499</td>\n",
       "      <td>12.0</td>\n",
       "      <td>13055.58</td>\n",
       "      <td>492.0</td>\n",
       "      <td>69.0</td>\n",
       "      <td>66.0</td>\n",
       "      <td>35</td>\n",
       "      <td>Пермь</td>\n",
       "      <td>smart</td>\n",
       "    </tr>\n",
       "    <tr>\n",
       "      <th>3214</th>\n",
       "      <td>1128</td>\n",
       "      <td>NaN</td>\n",
       "      <td>NaN</td>\n",
       "      <td>NaN</td>\n",
       "      <td>NaN</td>\n",
       "      <td>NaN</td>\n",
       "      <td>51</td>\n",
       "      <td>Волжский</td>\n",
       "      <td>ultra</td>\n",
       "    </tr>\n",
       "    <tr>\n",
       "      <th>3215</th>\n",
       "      <td>1371</td>\n",
       "      <td>NaN</td>\n",
       "      <td>NaN</td>\n",
       "      <td>NaN</td>\n",
       "      <td>NaN</td>\n",
       "      <td>NaN</td>\n",
       "      <td>50</td>\n",
       "      <td>Омск</td>\n",
       "      <td>smart</td>\n",
       "    </tr>\n",
       "  </tbody>\n",
       "</table>\n",
       "<p>3216 rows × 9 columns</p>\n",
       "</div>"
      ],
      "text/plain": [
       "      user_id  month_num  month_internet_sum  month_call_duration  \\\n",
       "0        1000        5.0             2253.49                159.0   \n",
       "1        1000        6.0            23233.77                172.0   \n",
       "2        1000        7.0            14003.64                340.0   \n",
       "3        1000        8.0            14055.93                408.0   \n",
       "4        1000        9.0            14568.91                466.0   \n",
       "...       ...        ...                 ...                  ...   \n",
       "3211     1499       10.0            17788.51                449.0   \n",
       "3212     1499       11.0            17963.31                612.0   \n",
       "3213     1499       12.0            13055.58                492.0   \n",
       "3214     1128        NaN                 NaN                  NaN   \n",
       "3215     1371        NaN                 NaN                  NaN   \n",
       "\n",
       "      month_call_count  month_messages_count  age       city tariff  \n",
       "0                 22.0                  22.0   52  Краснодар  ultra  \n",
       "1                 43.0                  60.0   52  Краснодар  ultra  \n",
       "2                 47.0                  75.0   52  Краснодар  ultra  \n",
       "3                 52.0                  81.0   52  Краснодар  ultra  \n",
       "4                 58.0                  57.0   52  Краснодар  ultra  \n",
       "...                ...                   ...  ...        ...    ...  \n",
       "3211              68.0                  48.0   35      Пермь  smart  \n",
       "3212              74.0                  59.0   35      Пермь  smart  \n",
       "3213              69.0                  66.0   35      Пермь  smart  \n",
       "3214               NaN                   NaN   51   Волжский  ultra  \n",
       "3215               NaN                   NaN   50       Омск  smart  \n",
       "\n",
       "[3216 rows x 9 columns]"
      ]
     },
     "execution_count": 19,
     "metadata": {},
     "output_type": "execute_result"
    }
   ],
   "source": [
    "# удалим столбцы, которые нам не пригодятся чтобы легче было ориентироваться в таблице\n",
    "\n",
    "df_cmiu_pivot = df_cmiu_pivot.drop(['churn_date', 'first_name', 'last_name', 'reg_date'], axis='columns')\n",
    "df_cmiu_pivot"
   ]
  },
  {
   "cell_type": "code",
   "execution_count": 20,
   "id": "14540562",
   "metadata": {},
   "outputs": [
    {
     "data": {
      "text/html": [
       "<div>\n",
       "<style scoped>\n",
       "    .dataframe tbody tr th:only-of-type {\n",
       "        vertical-align: middle;\n",
       "    }\n",
       "\n",
       "    .dataframe tbody tr th {\n",
       "        vertical-align: top;\n",
       "    }\n",
       "\n",
       "    .dataframe thead th {\n",
       "        text-align: right;\n",
       "    }\n",
       "</style>\n",
       "<table border=\"1\" class=\"dataframe\">\n",
       "  <thead>\n",
       "    <tr style=\"text-align: right;\">\n",
       "      <th></th>\n",
       "      <th>messages_included</th>\n",
       "      <th>mb_per_month_included</th>\n",
       "      <th>minutes_included</th>\n",
       "      <th>rub_monthly_fee</th>\n",
       "      <th>rub_per_gb</th>\n",
       "      <th>rub_per_message</th>\n",
       "      <th>rub_per_minute</th>\n",
       "      <th>tariff</th>\n",
       "    </tr>\n",
       "  </thead>\n",
       "  <tbody>\n",
       "    <tr>\n",
       "      <th>0</th>\n",
       "      <td>50</td>\n",
       "      <td>15360</td>\n",
       "      <td>500</td>\n",
       "      <td>550</td>\n",
       "      <td>200</td>\n",
       "      <td>3</td>\n",
       "      <td>3</td>\n",
       "      <td>smart</td>\n",
       "    </tr>\n",
       "    <tr>\n",
       "      <th>1</th>\n",
       "      <td>1000</td>\n",
       "      <td>30720</td>\n",
       "      <td>3000</td>\n",
       "      <td>1950</td>\n",
       "      <td>150</td>\n",
       "      <td>1</td>\n",
       "      <td>1</td>\n",
       "      <td>ultra</td>\n",
       "    </tr>\n",
       "  </tbody>\n",
       "</table>\n",
       "</div>"
      ],
      "text/plain": [
       "   messages_included  mb_per_month_included  minutes_included  \\\n",
       "0                 50                  15360               500   \n",
       "1               1000                  30720              3000   \n",
       "\n",
       "   rub_monthly_fee  rub_per_gb  rub_per_message  rub_per_minute tariff  \n",
       "0              550         200                3               3  smart  \n",
       "1             1950         150                1               1  ultra  "
      ]
     },
     "execution_count": 20,
     "metadata": {},
     "output_type": "execute_result"
    }
   ],
   "source": [
    "# добавим к df_cmiu_pivot информацию о тарифах из таблицы df_tariffs\n",
    "# объединим таблицы по колонке с названиями тарифов\n",
    "# для этого сначала в df_tariffs поменяем название нужного столбца на tariff\n",
    "\n",
    "df_tariffs.columns = ['messages_included', 'mb_per_month_included', 'minutes_included', 'rub_monthly_fee',\\\n",
    "                      'rub_per_gb', 'rub_per_message', 'rub_per_minute', 'tariff']\n",
    "df_tariffs"
   ]
  },
  {
   "cell_type": "code",
   "execution_count": 21,
   "id": "0484d5e5",
   "metadata": {},
   "outputs": [
    {
     "data": {
      "text/html": [
       "<div>\n",
       "<style scoped>\n",
       "    .dataframe tbody tr th:only-of-type {\n",
       "        vertical-align: middle;\n",
       "    }\n",
       "\n",
       "    .dataframe tbody tr th {\n",
       "        vertical-align: top;\n",
       "    }\n",
       "\n",
       "    .dataframe thead th {\n",
       "        text-align: right;\n",
       "    }\n",
       "</style>\n",
       "<table border=\"1\" class=\"dataframe\">\n",
       "  <thead>\n",
       "    <tr style=\"text-align: right;\">\n",
       "      <th></th>\n",
       "      <th>user_id</th>\n",
       "      <th>month_num</th>\n",
       "      <th>month_internet_sum</th>\n",
       "      <th>month_call_duration</th>\n",
       "      <th>month_call_count</th>\n",
       "      <th>month_messages_count</th>\n",
       "      <th>age</th>\n",
       "      <th>city</th>\n",
       "      <th>tariff</th>\n",
       "      <th>messages_included</th>\n",
       "      <th>mb_per_month_included</th>\n",
       "      <th>minutes_included</th>\n",
       "      <th>rub_monthly_fee</th>\n",
       "      <th>rub_per_gb</th>\n",
       "      <th>rub_per_message</th>\n",
       "      <th>rub_per_minute</th>\n",
       "    </tr>\n",
       "  </thead>\n",
       "  <tbody>\n",
       "    <tr>\n",
       "      <th>0</th>\n",
       "      <td>1000</td>\n",
       "      <td>5.0</td>\n",
       "      <td>2253.49</td>\n",
       "      <td>159.0</td>\n",
       "      <td>22.0</td>\n",
       "      <td>22.0</td>\n",
       "      <td>52</td>\n",
       "      <td>Краснодар</td>\n",
       "      <td>ultra</td>\n",
       "      <td>1000</td>\n",
       "      <td>30720</td>\n",
       "      <td>3000</td>\n",
       "      <td>1950</td>\n",
       "      <td>150</td>\n",
       "      <td>1</td>\n",
       "      <td>1</td>\n",
       "    </tr>\n",
       "    <tr>\n",
       "      <th>1</th>\n",
       "      <td>1000</td>\n",
       "      <td>6.0</td>\n",
       "      <td>23233.77</td>\n",
       "      <td>172.0</td>\n",
       "      <td>43.0</td>\n",
       "      <td>60.0</td>\n",
       "      <td>52</td>\n",
       "      <td>Краснодар</td>\n",
       "      <td>ultra</td>\n",
       "      <td>1000</td>\n",
       "      <td>30720</td>\n",
       "      <td>3000</td>\n",
       "      <td>1950</td>\n",
       "      <td>150</td>\n",
       "      <td>1</td>\n",
       "      <td>1</td>\n",
       "    </tr>\n",
       "    <tr>\n",
       "      <th>2</th>\n",
       "      <td>1000</td>\n",
       "      <td>7.0</td>\n",
       "      <td>14003.64</td>\n",
       "      <td>340.0</td>\n",
       "      <td>47.0</td>\n",
       "      <td>75.0</td>\n",
       "      <td>52</td>\n",
       "      <td>Краснодар</td>\n",
       "      <td>ultra</td>\n",
       "      <td>1000</td>\n",
       "      <td>30720</td>\n",
       "      <td>3000</td>\n",
       "      <td>1950</td>\n",
       "      <td>150</td>\n",
       "      <td>1</td>\n",
       "      <td>1</td>\n",
       "    </tr>\n",
       "    <tr>\n",
       "      <th>3</th>\n",
       "      <td>1000</td>\n",
       "      <td>8.0</td>\n",
       "      <td>14055.93</td>\n",
       "      <td>408.0</td>\n",
       "      <td>52.0</td>\n",
       "      <td>81.0</td>\n",
       "      <td>52</td>\n",
       "      <td>Краснодар</td>\n",
       "      <td>ultra</td>\n",
       "      <td>1000</td>\n",
       "      <td>30720</td>\n",
       "      <td>3000</td>\n",
       "      <td>1950</td>\n",
       "      <td>150</td>\n",
       "      <td>1</td>\n",
       "      <td>1</td>\n",
       "    </tr>\n",
       "    <tr>\n",
       "      <th>4</th>\n",
       "      <td>1000</td>\n",
       "      <td>9.0</td>\n",
       "      <td>14568.91</td>\n",
       "      <td>466.0</td>\n",
       "      <td>58.0</td>\n",
       "      <td>57.0</td>\n",
       "      <td>52</td>\n",
       "      <td>Краснодар</td>\n",
       "      <td>ultra</td>\n",
       "      <td>1000</td>\n",
       "      <td>30720</td>\n",
       "      <td>3000</td>\n",
       "      <td>1950</td>\n",
       "      <td>150</td>\n",
       "      <td>1</td>\n",
       "      <td>1</td>\n",
       "    </tr>\n",
       "  </tbody>\n",
       "</table>\n",
       "</div>"
      ],
      "text/plain": [
       "   user_id  month_num  month_internet_sum  month_call_duration  \\\n",
       "0     1000        5.0             2253.49                159.0   \n",
       "1     1000        6.0            23233.77                172.0   \n",
       "2     1000        7.0            14003.64                340.0   \n",
       "3     1000        8.0            14055.93                408.0   \n",
       "4     1000        9.0            14568.91                466.0   \n",
       "\n",
       "   month_call_count  month_messages_count  age       city tariff  \\\n",
       "0              22.0                  22.0   52  Краснодар  ultra   \n",
       "1              43.0                  60.0   52  Краснодар  ultra   \n",
       "2              47.0                  75.0   52  Краснодар  ultra   \n",
       "3              52.0                  81.0   52  Краснодар  ultra   \n",
       "4              58.0                  57.0   52  Краснодар  ultra   \n",
       "\n",
       "   messages_included  mb_per_month_included  minutes_included  \\\n",
       "0               1000                  30720              3000   \n",
       "1               1000                  30720              3000   \n",
       "2               1000                  30720              3000   \n",
       "3               1000                  30720              3000   \n",
       "4               1000                  30720              3000   \n",
       "\n",
       "   rub_monthly_fee  rub_per_gb  rub_per_message  rub_per_minute  \n",
       "0             1950         150                1               1  \n",
       "1             1950         150                1               1  \n",
       "2             1950         150                1               1  \n",
       "3             1950         150                1               1  \n",
       "4             1950         150                1               1  "
      ]
     },
     "execution_count": 21,
     "metadata": {},
     "output_type": "execute_result"
    }
   ],
   "source": [
    "# применим метод merge, параметру \"on\" передадим колонку с названиями тарифов, параметр \"how\" по умолчанию \"inner\"\n",
    "\n",
    "df_cmiu_pivot = df_cmiu_pivot.merge(df_tariffs, on='tariff')\n",
    "df_cmiu_pivot.head()"
   ]
  },
  {
   "cell_type": "markdown",
   "id": "e290854f",
   "metadata": {},
   "source": [
    "После объединения таблиц образовалось немало пропусков, особенно в messages_count. Это произошло из-за разницы в исходных данных (см. \"Общая информация о данных\"). Оставить как есть или отбросить их не вариант, т.к. в первом случае они повляют на дальнейшие расчеты, а во втором потеряем много данных. Поэтому заменим все пропуски на ноль."
   ]
  },
  {
   "cell_type": "code",
   "execution_count": 22,
   "id": "f68e5ec4",
   "metadata": {},
   "outputs": [
    {
     "data": {
      "text/plain": [
       "user_id                    0\n",
       "month_num                  2\n",
       "month_internet_sum        13\n",
       "month_call_duration       42\n",
       "month_call_count          42\n",
       "month_messages_count     499\n",
       "age                        0\n",
       "city                       0\n",
       "tariff                     0\n",
       "messages_included          0\n",
       "mb_per_month_included      0\n",
       "minutes_included           0\n",
       "rub_monthly_fee            0\n",
       "rub_per_gb                 0\n",
       "rub_per_message            0\n",
       "rub_per_minute             0\n",
       "dtype: int64"
      ]
     },
     "execution_count": 22,
     "metadata": {},
     "output_type": "execute_result"
    }
   ],
   "source": [
    "# проверим на пропуски получившийся датафрейм\n",
    "\n",
    "df_cmiu_pivot.isnull().sum()"
   ]
  },
  {
   "cell_type": "code",
   "execution_count": 23,
   "id": "ab29550f",
   "metadata": {},
   "outputs": [
    {
     "data": {
      "text/html": [
       "<div>\n",
       "<style scoped>\n",
       "    .dataframe tbody tr th:only-of-type {\n",
       "        vertical-align: middle;\n",
       "    }\n",
       "\n",
       "    .dataframe tbody tr th {\n",
       "        vertical-align: top;\n",
       "    }\n",
       "\n",
       "    .dataframe thead th {\n",
       "        text-align: right;\n",
       "    }\n",
       "</style>\n",
       "<table border=\"1\" class=\"dataframe\">\n",
       "  <thead>\n",
       "    <tr style=\"text-align: right;\">\n",
       "      <th></th>\n",
       "      <th>user_id</th>\n",
       "      <th>month_num</th>\n",
       "      <th>month_internet_sum</th>\n",
       "      <th>month_call_duration</th>\n",
       "      <th>month_call_count</th>\n",
       "      <th>month_messages_count</th>\n",
       "      <th>age</th>\n",
       "      <th>city</th>\n",
       "      <th>tariff</th>\n",
       "      <th>messages_included</th>\n",
       "      <th>mb_per_month_included</th>\n",
       "      <th>minutes_included</th>\n",
       "      <th>rub_monthly_fee</th>\n",
       "      <th>rub_per_gb</th>\n",
       "      <th>rub_per_message</th>\n",
       "      <th>rub_per_minute</th>\n",
       "    </tr>\n",
       "  </thead>\n",
       "  <tbody>\n",
       "    <tr>\n",
       "      <th>985</th>\n",
       "      <td>1128</td>\n",
       "      <td>NaN</td>\n",
       "      <td>NaN</td>\n",
       "      <td>NaN</td>\n",
       "      <td>NaN</td>\n",
       "      <td>NaN</td>\n",
       "      <td>51</td>\n",
       "      <td>Волжский</td>\n",
       "      <td>ultra</td>\n",
       "      <td>1000</td>\n",
       "      <td>30720</td>\n",
       "      <td>3000</td>\n",
       "      <td>1950</td>\n",
       "      <td>150</td>\n",
       "      <td>1</td>\n",
       "      <td>1</td>\n",
       "    </tr>\n",
       "    <tr>\n",
       "      <th>3215</th>\n",
       "      <td>1371</td>\n",
       "      <td>NaN</td>\n",
       "      <td>NaN</td>\n",
       "      <td>NaN</td>\n",
       "      <td>NaN</td>\n",
       "      <td>NaN</td>\n",
       "      <td>50</td>\n",
       "      <td>Омск</td>\n",
       "      <td>smart</td>\n",
       "      <td>50</td>\n",
       "      <td>15360</td>\n",
       "      <td>500</td>\n",
       "      <td>550</td>\n",
       "      <td>200</td>\n",
       "      <td>3</td>\n",
       "      <td>3</td>\n",
       "    </tr>\n",
       "  </tbody>\n",
       "</table>\n",
       "</div>"
      ],
      "text/plain": [
       "      user_id  month_num  month_internet_sum  month_call_duration  \\\n",
       "985      1128        NaN                 NaN                  NaN   \n",
       "3215     1371        NaN                 NaN                  NaN   \n",
       "\n",
       "      month_call_count  month_messages_count  age      city tariff  \\\n",
       "985                NaN                   NaN   51  Волжский  ultra   \n",
       "3215               NaN                   NaN   50      Омск  smart   \n",
       "\n",
       "      messages_included  mb_per_month_included  minutes_included  \\\n",
       "985                1000                  30720              3000   \n",
       "3215                 50                  15360               500   \n",
       "\n",
       "      rub_monthly_fee  rub_per_gb  rub_per_message  rub_per_minute  \n",
       "985              1950         150                1               1  \n",
       "3215              550         200                3               3  "
      ]
     },
     "execution_count": 23,
     "metadata": {},
     "output_type": "execute_result"
    }
   ],
   "source": [
    "# пропуски в колонке month_num заменить на ноль нельзя, всего три строки с пропусками, поэтому удалим их\n",
    "\n",
    "df_cmiu_pivot[df_cmiu_pivot['month_num'].isnull()]"
   ]
  },
  {
   "cell_type": "code",
   "execution_count": 24,
   "id": "6a1e4a68",
   "metadata": {},
   "outputs": [
    {
     "data": {
      "text/html": [
       "<div>\n",
       "<style scoped>\n",
       "    .dataframe tbody tr th:only-of-type {\n",
       "        vertical-align: middle;\n",
       "    }\n",
       "\n",
       "    .dataframe tbody tr th {\n",
       "        vertical-align: top;\n",
       "    }\n",
       "\n",
       "    .dataframe thead th {\n",
       "        text-align: right;\n",
       "    }\n",
       "</style>\n",
       "<table border=\"1\" class=\"dataframe\">\n",
       "  <thead>\n",
       "    <tr style=\"text-align: right;\">\n",
       "      <th></th>\n",
       "      <th>user_id</th>\n",
       "      <th>month_num</th>\n",
       "      <th>month_internet_sum</th>\n",
       "      <th>month_call_duration</th>\n",
       "      <th>month_call_count</th>\n",
       "      <th>month_messages_count</th>\n",
       "      <th>age</th>\n",
       "      <th>city</th>\n",
       "      <th>tariff</th>\n",
       "      <th>messages_included</th>\n",
       "      <th>mb_per_month_included</th>\n",
       "      <th>minutes_included</th>\n",
       "      <th>rub_monthly_fee</th>\n",
       "      <th>rub_per_gb</th>\n",
       "      <th>rub_per_message</th>\n",
       "      <th>rub_per_minute</th>\n",
       "    </tr>\n",
       "  </thead>\n",
       "  <tbody>\n",
       "  </tbody>\n",
       "</table>\n",
       "</div>"
      ],
      "text/plain": [
       "Empty DataFrame\n",
       "Columns: [user_id, month_num, month_internet_sum, month_call_duration, month_call_count, month_messages_count, age, city, tariff, messages_included, mb_per_month_included, minutes_included, rub_monthly_fee, rub_per_gb, rub_per_message, rub_per_minute]\n",
       "Index: []"
      ]
     },
     "execution_count": 24,
     "metadata": {},
     "output_type": "execute_result"
    }
   ],
   "source": [
    "df_cmiu_pivot = df_cmiu_pivot.dropna(subset=['month_num'])\n",
    "#проверим\n",
    "df_cmiu_pivot[df_cmiu_pivot['month_num'].isnull()]"
   ]
  },
  {
   "cell_type": "code",
   "execution_count": 25,
   "id": "970037c9",
   "metadata": {},
   "outputs": [
    {
     "data": {
      "text/plain": [
       "user_id                  0\n",
       "month_num                0\n",
       "month_internet_sum       0\n",
       "month_call_duration      0\n",
       "month_call_count         0\n",
       "month_messages_count     0\n",
       "age                      0\n",
       "city                     0\n",
       "tariff                   0\n",
       "messages_included        0\n",
       "mb_per_month_included    0\n",
       "minutes_included         0\n",
       "rub_monthly_fee          0\n",
       "rub_per_gb               0\n",
       "rub_per_message          0\n",
       "rub_per_minute           0\n",
       "dtype: int64"
      ]
     },
     "execution_count": 25,
     "metadata": {},
     "output_type": "execute_result"
    }
   ],
   "source": [
    "# остальные пропуски заменим на ноль\n",
    "df_cmiu_pivot = df_cmiu_pivot.fillna(0)\n",
    "#проверим\n",
    "df_cmiu_pivot.isnull().sum()"
   ]
  },
  {
   "cell_type": "markdown",
   "id": "b48806fd",
   "metadata": {},
   "source": [
    "Рассчитаем помесячную выручку при помощи функции total_bill_monthly, в которой в качестве pd.Series будет выступать строка датафрейма."
   ]
  },
  {
   "cell_type": "code",
   "execution_count": 26,
   "id": "ea60597c",
   "metadata": {},
   "outputs": [],
   "source": [
    "def total_bill_monthly(row):\n",
    "    \n",
    "#определим переменные\n",
    "    \n",
    "    bill_minutes = 0\n",
    "    bill_sms = 0\n",
    "    bill_traffic = 0\n",
    "    minutes = row['month_call_duration']\n",
    "    sms = row['month_messages_count']\n",
    "    traffic = row['month_internet_sum']\n",
    "    tariff = row['tariff']\n",
    "    minutes_limit = row['minutes_included']\n",
    "    sms_limit = row['messages_included']\n",
    "    traffic_limit = row['mb_per_month_included']\n",
    "    monthly_fee = row['rub_monthly_fee']\n",
    "    rub_per_gb = row['rub_per_gb']\n",
    "    rub_per_message = row['rub_per_message']\n",
    "    rub_per_minute = row['rub_per_minute']\n",
    "\n",
    "#проверим разницу между суммарными значениями звонков, сообщений, трафика и бесплатным лимитом тарифа\n",
    "#если эта разница меньше нуля, то возвращаем ноль - клиент не израсходовал бесплатный лимит\n",
    "#если больше - то разницу умножаем на стоимость сверх тарифного плана\n",
    "    \n",
    "    if minutes > minutes_limit:\n",
    "        bill_minutes += (minutes - minutes_limit) * rub_per_minute\n",
    "    if minutes < minutes_limit:\n",
    "        bill_minutes = 0\n",
    "    if sms > sms_limit:\n",
    "        bill_sms += (sms - sms_limit) * rub_per_message\n",
    "    if sms < sms_limit:\n",
    "        bill_sms = 0\n",
    "    if traffic > traffic_limit:\n",
    "        bill_traffic += (np.ceil((traffic - traffic_limit) / 1024 )) * rub_per_gb# округляем мегабайты вверх до гигабайт\n",
    "    if traffic < traffic_limit:\n",
    "        bill_traffic = 0\n",
    "        \n",
    "#функция возвращает итоговый счет за месяц для клиента,\n",
    "#в котором к сумме счетов за отдельные категории услуг прибавляется абонентская плата за тариф\n",
    "        \n",
    "    return bill_minutes + bill_sms + bill_traffic + monthly_fee"
   ]
  },
  {
   "cell_type": "code",
   "execution_count": 27,
   "id": "3f138e76",
   "metadata": {},
   "outputs": [
    {
     "data": {
      "text/html": [
       "<div>\n",
       "<style scoped>\n",
       "    .dataframe tbody tr th:only-of-type {\n",
       "        vertical-align: middle;\n",
       "    }\n",
       "\n",
       "    .dataframe tbody tr th {\n",
       "        vertical-align: top;\n",
       "    }\n",
       "\n",
       "    .dataframe thead th {\n",
       "        text-align: right;\n",
       "    }\n",
       "</style>\n",
       "<table border=\"1\" class=\"dataframe\">\n",
       "  <thead>\n",
       "    <tr style=\"text-align: right;\">\n",
       "      <th></th>\n",
       "      <th>user_id</th>\n",
       "      <th>month_num</th>\n",
       "      <th>month_internet_sum</th>\n",
       "      <th>month_call_duration</th>\n",
       "      <th>month_call_count</th>\n",
       "      <th>month_messages_count</th>\n",
       "      <th>age</th>\n",
       "      <th>city</th>\n",
       "      <th>tariff</th>\n",
       "      <th>messages_included</th>\n",
       "      <th>mb_per_month_included</th>\n",
       "      <th>minutes_included</th>\n",
       "      <th>rub_monthly_fee</th>\n",
       "      <th>rub_per_gb</th>\n",
       "      <th>rub_per_message</th>\n",
       "      <th>rub_per_minute</th>\n",
       "      <th>total_bill</th>\n",
       "    </tr>\n",
       "  </thead>\n",
       "  <tbody>\n",
       "    <tr>\n",
       "      <th>0</th>\n",
       "      <td>1000</td>\n",
       "      <td>5.0</td>\n",
       "      <td>2253.49</td>\n",
       "      <td>159.0</td>\n",
       "      <td>22.0</td>\n",
       "      <td>22.0</td>\n",
       "      <td>52</td>\n",
       "      <td>Краснодар</td>\n",
       "      <td>ultra</td>\n",
       "      <td>1000</td>\n",
       "      <td>30720</td>\n",
       "      <td>3000</td>\n",
       "      <td>1950</td>\n",
       "      <td>150</td>\n",
       "      <td>1</td>\n",
       "      <td>1</td>\n",
       "      <td>1950.0</td>\n",
       "    </tr>\n",
       "    <tr>\n",
       "      <th>1</th>\n",
       "      <td>1000</td>\n",
       "      <td>6.0</td>\n",
       "      <td>23233.77</td>\n",
       "      <td>172.0</td>\n",
       "      <td>43.0</td>\n",
       "      <td>60.0</td>\n",
       "      <td>52</td>\n",
       "      <td>Краснодар</td>\n",
       "      <td>ultra</td>\n",
       "      <td>1000</td>\n",
       "      <td>30720</td>\n",
       "      <td>3000</td>\n",
       "      <td>1950</td>\n",
       "      <td>150</td>\n",
       "      <td>1</td>\n",
       "      <td>1</td>\n",
       "      <td>1950.0</td>\n",
       "    </tr>\n",
       "    <tr>\n",
       "      <th>2</th>\n",
       "      <td>1000</td>\n",
       "      <td>7.0</td>\n",
       "      <td>14003.64</td>\n",
       "      <td>340.0</td>\n",
       "      <td>47.0</td>\n",
       "      <td>75.0</td>\n",
       "      <td>52</td>\n",
       "      <td>Краснодар</td>\n",
       "      <td>ultra</td>\n",
       "      <td>1000</td>\n",
       "      <td>30720</td>\n",
       "      <td>3000</td>\n",
       "      <td>1950</td>\n",
       "      <td>150</td>\n",
       "      <td>1</td>\n",
       "      <td>1</td>\n",
       "      <td>1950.0</td>\n",
       "    </tr>\n",
       "    <tr>\n",
       "      <th>3</th>\n",
       "      <td>1000</td>\n",
       "      <td>8.0</td>\n",
       "      <td>14055.93</td>\n",
       "      <td>408.0</td>\n",
       "      <td>52.0</td>\n",
       "      <td>81.0</td>\n",
       "      <td>52</td>\n",
       "      <td>Краснодар</td>\n",
       "      <td>ultra</td>\n",
       "      <td>1000</td>\n",
       "      <td>30720</td>\n",
       "      <td>3000</td>\n",
       "      <td>1950</td>\n",
       "      <td>150</td>\n",
       "      <td>1</td>\n",
       "      <td>1</td>\n",
       "      <td>1950.0</td>\n",
       "    </tr>\n",
       "    <tr>\n",
       "      <th>4</th>\n",
       "      <td>1000</td>\n",
       "      <td>9.0</td>\n",
       "      <td>14568.91</td>\n",
       "      <td>466.0</td>\n",
       "      <td>58.0</td>\n",
       "      <td>57.0</td>\n",
       "      <td>52</td>\n",
       "      <td>Краснодар</td>\n",
       "      <td>ultra</td>\n",
       "      <td>1000</td>\n",
       "      <td>30720</td>\n",
       "      <td>3000</td>\n",
       "      <td>1950</td>\n",
       "      <td>150</td>\n",
       "      <td>1</td>\n",
       "      <td>1</td>\n",
       "      <td>1950.0</td>\n",
       "    </tr>\n",
       "    <tr>\n",
       "      <th>...</th>\n",
       "      <td>...</td>\n",
       "      <td>...</td>\n",
       "      <td>...</td>\n",
       "      <td>...</td>\n",
       "      <td>...</td>\n",
       "      <td>...</td>\n",
       "      <td>...</td>\n",
       "      <td>...</td>\n",
       "      <td>...</td>\n",
       "      <td>...</td>\n",
       "      <td>...</td>\n",
       "      <td>...</td>\n",
       "      <td>...</td>\n",
       "      <td>...</td>\n",
       "      <td>...</td>\n",
       "      <td>...</td>\n",
       "      <td>...</td>\n",
       "    </tr>\n",
       "    <tr>\n",
       "      <th>3210</th>\n",
       "      <td>1498</td>\n",
       "      <td>10.0</td>\n",
       "      <td>20579.36</td>\n",
       "      <td>247.0</td>\n",
       "      <td>41.0</td>\n",
       "      <td>42.0</td>\n",
       "      <td>68</td>\n",
       "      <td>Владикавказ</td>\n",
       "      <td>smart</td>\n",
       "      <td>50</td>\n",
       "      <td>15360</td>\n",
       "      <td>500</td>\n",
       "      <td>550</td>\n",
       "      <td>200</td>\n",
       "      <td>3</td>\n",
       "      <td>3</td>\n",
       "      <td>1750.0</td>\n",
       "    </tr>\n",
       "    <tr>\n",
       "      <th>3211</th>\n",
       "      <td>1499</td>\n",
       "      <td>9.0</td>\n",
       "      <td>1845.75</td>\n",
       "      <td>70.0</td>\n",
       "      <td>9.0</td>\n",
       "      <td>11.0</td>\n",
       "      <td>35</td>\n",
       "      <td>Пермь</td>\n",
       "      <td>smart</td>\n",
       "      <td>50</td>\n",
       "      <td>15360</td>\n",
       "      <td>500</td>\n",
       "      <td>550</td>\n",
       "      <td>200</td>\n",
       "      <td>3</td>\n",
       "      <td>3</td>\n",
       "      <td>550.0</td>\n",
       "    </tr>\n",
       "    <tr>\n",
       "      <th>3212</th>\n",
       "      <td>1499</td>\n",
       "      <td>10.0</td>\n",
       "      <td>17788.51</td>\n",
       "      <td>449.0</td>\n",
       "      <td>68.0</td>\n",
       "      <td>48.0</td>\n",
       "      <td>35</td>\n",
       "      <td>Пермь</td>\n",
       "      <td>smart</td>\n",
       "      <td>50</td>\n",
       "      <td>15360</td>\n",
       "      <td>500</td>\n",
       "      <td>550</td>\n",
       "      <td>200</td>\n",
       "      <td>3</td>\n",
       "      <td>3</td>\n",
       "      <td>1150.0</td>\n",
       "    </tr>\n",
       "    <tr>\n",
       "      <th>3213</th>\n",
       "      <td>1499</td>\n",
       "      <td>11.0</td>\n",
       "      <td>17963.31</td>\n",
       "      <td>612.0</td>\n",
       "      <td>74.0</td>\n",
       "      <td>59.0</td>\n",
       "      <td>35</td>\n",
       "      <td>Пермь</td>\n",
       "      <td>smart</td>\n",
       "      <td>50</td>\n",
       "      <td>15360</td>\n",
       "      <td>500</td>\n",
       "      <td>550</td>\n",
       "      <td>200</td>\n",
       "      <td>3</td>\n",
       "      <td>3</td>\n",
       "      <td>1513.0</td>\n",
       "    </tr>\n",
       "    <tr>\n",
       "      <th>3214</th>\n",
       "      <td>1499</td>\n",
       "      <td>12.0</td>\n",
       "      <td>13055.58</td>\n",
       "      <td>492.0</td>\n",
       "      <td>69.0</td>\n",
       "      <td>66.0</td>\n",
       "      <td>35</td>\n",
       "      <td>Пермь</td>\n",
       "      <td>smart</td>\n",
       "      <td>50</td>\n",
       "      <td>15360</td>\n",
       "      <td>500</td>\n",
       "      <td>550</td>\n",
       "      <td>200</td>\n",
       "      <td>3</td>\n",
       "      <td>3</td>\n",
       "      <td>598.0</td>\n",
       "    </tr>\n",
       "  </tbody>\n",
       "</table>\n",
       "<p>3214 rows × 17 columns</p>\n",
       "</div>"
      ],
      "text/plain": [
       "      user_id  month_num  month_internet_sum  month_call_duration  \\\n",
       "0        1000        5.0             2253.49                159.0   \n",
       "1        1000        6.0            23233.77                172.0   \n",
       "2        1000        7.0            14003.64                340.0   \n",
       "3        1000        8.0            14055.93                408.0   \n",
       "4        1000        9.0            14568.91                466.0   \n",
       "...       ...        ...                 ...                  ...   \n",
       "3210     1498       10.0            20579.36                247.0   \n",
       "3211     1499        9.0             1845.75                 70.0   \n",
       "3212     1499       10.0            17788.51                449.0   \n",
       "3213     1499       11.0            17963.31                612.0   \n",
       "3214     1499       12.0            13055.58                492.0   \n",
       "\n",
       "      month_call_count  month_messages_count  age         city tariff  \\\n",
       "0                 22.0                  22.0   52    Краснодар  ultra   \n",
       "1                 43.0                  60.0   52    Краснодар  ultra   \n",
       "2                 47.0                  75.0   52    Краснодар  ultra   \n",
       "3                 52.0                  81.0   52    Краснодар  ultra   \n",
       "4                 58.0                  57.0   52    Краснодар  ultra   \n",
       "...                ...                   ...  ...          ...    ...   \n",
       "3210              41.0                  42.0   68  Владикавказ  smart   \n",
       "3211               9.0                  11.0   35        Пермь  smart   \n",
       "3212              68.0                  48.0   35        Пермь  smart   \n",
       "3213              74.0                  59.0   35        Пермь  smart   \n",
       "3214              69.0                  66.0   35        Пермь  smart   \n",
       "\n",
       "      messages_included  mb_per_month_included  minutes_included  \\\n",
       "0                  1000                  30720              3000   \n",
       "1                  1000                  30720              3000   \n",
       "2                  1000                  30720              3000   \n",
       "3                  1000                  30720              3000   \n",
       "4                  1000                  30720              3000   \n",
       "...                 ...                    ...               ...   \n",
       "3210                 50                  15360               500   \n",
       "3211                 50                  15360               500   \n",
       "3212                 50                  15360               500   \n",
       "3213                 50                  15360               500   \n",
       "3214                 50                  15360               500   \n",
       "\n",
       "      rub_monthly_fee  rub_per_gb  rub_per_message  rub_per_minute  total_bill  \n",
       "0                1950         150                1               1      1950.0  \n",
       "1                1950         150                1               1      1950.0  \n",
       "2                1950         150                1               1      1950.0  \n",
       "3                1950         150                1               1      1950.0  \n",
       "4                1950         150                1               1      1950.0  \n",
       "...               ...         ...              ...             ...         ...  \n",
       "3210              550         200                3               3      1750.0  \n",
       "3211              550         200                3               3       550.0  \n",
       "3212              550         200                3               3      1150.0  \n",
       "3213              550         200                3               3      1513.0  \n",
       "3214              550         200                3               3       598.0  \n",
       "\n",
       "[3214 rows x 17 columns]"
      ]
     },
     "execution_count": 27,
     "metadata": {},
     "output_type": "execute_result"
    }
   ],
   "source": [
    "#применим функцию к датафрейму\n",
    "#метод apply() применяем в нашем случае ко всему датафрейму\n",
    "#чтобы на вход в функцию отправлялись строки, указываем параметр axis = 1 метода apply()\n",
    "\n",
    "df_cmiu_pivot['total_bill'] = df_cmiu_pivot.apply(total_bill_monthly, axis=1)\n",
    "df_cmiu_pivot"
   ]
  },
  {
   "cell_type": "markdown",
   "id": "44a4867b",
   "metadata": {},
   "source": [
    "# Шаг 3. Анализ данных"
   ]
  },
  {
   "cell_type": "markdown",
   "id": "eb8353f8",
   "metadata": {},
   "source": [
    "**Чтобы посмотреть поведение клиентов посчитаем помесячную сумму исследуемых параметров для всех пользователей:**"
   ]
  },
  {
   "cell_type": "code",
   "execution_count": 28,
   "id": "276af2f7",
   "metadata": {},
   "outputs": [
    {
     "data": {
      "text/html": [
       "<div>\n",
       "<style scoped>\n",
       "    .dataframe tbody tr th:only-of-type {\n",
       "        vertical-align: middle;\n",
       "    }\n",
       "\n",
       "    .dataframe tbody tr th {\n",
       "        vertical-align: top;\n",
       "    }\n",
       "\n",
       "    .dataframe thead th {\n",
       "        text-align: right;\n",
       "    }\n",
       "</style>\n",
       "<table border=\"1\" class=\"dataframe\">\n",
       "  <thead>\n",
       "    <tr style=\"text-align: right;\">\n",
       "      <th></th>\n",
       "      <th>month_num</th>\n",
       "      <th>month_call_count</th>\n",
       "      <th>month_call_duration</th>\n",
       "      <th>month_internet_sum</th>\n",
       "      <th>month_messages_count</th>\n",
       "      <th>total_bill</th>\n",
       "    </tr>\n",
       "    <tr>\n",
       "      <th>tariff</th>\n",
       "      <th></th>\n",
       "      <th></th>\n",
       "      <th></th>\n",
       "      <th></th>\n",
       "      <th></th>\n",
       "      <th></th>\n",
       "    </tr>\n",
       "  </thead>\n",
       "  <tbody>\n",
       "    <tr>\n",
       "      <th>smart</th>\n",
       "      <td>1.0</td>\n",
       "      <td>941.0</td>\n",
       "      <td>6931.0</td>\n",
       "      <td>289466.40</td>\n",
       "      <td>620.0</td>\n",
       "      <td>24525.0</td>\n",
       "    </tr>\n",
       "    <tr>\n",
       "      <th>smart</th>\n",
       "      <td>2.0</td>\n",
       "      <td>2331.0</td>\n",
       "      <td>17324.0</td>\n",
       "      <td>672629.15</td>\n",
       "      <td>1397.0</td>\n",
       "      <td>48001.0</td>\n",
       "    </tr>\n",
       "    <tr>\n",
       "      <th>smart</th>\n",
       "      <td>3.0</td>\n",
       "      <td>4183.0</td>\n",
       "      <td>30034.0</td>\n",
       "      <td>1163020.25</td>\n",
       "      <td>2453.0</td>\n",
       "      <td>89676.0</td>\n",
       "    </tr>\n",
       "    <tr>\n",
       "      <th>smart</th>\n",
       "      <td>4.0</td>\n",
       "      <td>5747.0</td>\n",
       "      <td>41119.0</td>\n",
       "      <td>1507764.23</td>\n",
       "      <td>3443.0</td>\n",
       "      <td>107866.0</td>\n",
       "    </tr>\n",
       "    <tr>\n",
       "      <th>smart</th>\n",
       "      <td>5.0</td>\n",
       "      <td>7789.0</td>\n",
       "      <td>54618.0</td>\n",
       "      <td>2228530.99</td>\n",
       "      <td>4762.0</td>\n",
       "      <td>168849.0</td>\n",
       "    </tr>\n",
       "    <tr>\n",
       "      <th>smart</th>\n",
       "      <td>6.0</td>\n",
       "      <td>9110.0</td>\n",
       "      <td>64885.0</td>\n",
       "      <td>2590322.27</td>\n",
       "      <td>5478.0</td>\n",
       "      <td>197459.0</td>\n",
       "    </tr>\n",
       "    <tr>\n",
       "      <th>smart</th>\n",
       "      <td>7.0</td>\n",
       "      <td>11402.0</td>\n",
       "      <td>82079.0</td>\n",
       "      <td>3164373.22</td>\n",
       "      <td>6784.0</td>\n",
       "      <td>246014.0</td>\n",
       "    </tr>\n",
       "    <tr>\n",
       "      <th>smart</th>\n",
       "      <td>8.0</td>\n",
       "      <td>13860.0</td>\n",
       "      <td>99045.0</td>\n",
       "      <td>3903519.22</td>\n",
       "      <td>7905.0</td>\n",
       "      <td>310340.0</td>\n",
       "    </tr>\n",
       "    <tr>\n",
       "      <th>smart</th>\n",
       "      <td>9.0</td>\n",
       "      <td>15482.0</td>\n",
       "      <td>111439.0</td>\n",
       "      <td>4238930.49</td>\n",
       "      <td>8746.0</td>\n",
       "      <td>324986.0</td>\n",
       "    </tr>\n",
       "    <tr>\n",
       "      <th>smart</th>\n",
       "      <td>10.0</td>\n",
       "      <td>17629.0</td>\n",
       "      <td>125284.0</td>\n",
       "      <td>4926594.13</td>\n",
       "      <td>9927.0</td>\n",
       "      <td>401267.0</td>\n",
       "    </tr>\n",
       "    <tr>\n",
       "      <th>smart</th>\n",
       "      <td>11.0</td>\n",
       "      <td>19435.0</td>\n",
       "      <td>137544.0</td>\n",
       "      <td>5339040.14</td>\n",
       "      <td>10768.0</td>\n",
       "      <td>424403.0</td>\n",
       "    </tr>\n",
       "    <tr>\n",
       "      <th>smart</th>\n",
       "      <td>12.0</td>\n",
       "      <td>22406.0</td>\n",
       "      <td>161275.0</td>\n",
       "      <td>6104304.11</td>\n",
       "      <td>12130.0</td>\n",
       "      <td>531965.0</td>\n",
       "    </tr>\n",
       "    <tr>\n",
       "      <th>ultra</th>\n",
       "      <td>1.0</td>\n",
       "      <td>535.0</td>\n",
       "      <td>3853.0</td>\n",
       "      <td>118266.13</td>\n",
       "      <td>304.0</td>\n",
       "      <td>17550.0</td>\n",
       "    </tr>\n",
       "    <tr>\n",
       "      <th>ultra</th>\n",
       "      <td>2.0</td>\n",
       "      <td>997.0</td>\n",
       "      <td>7131.0</td>\n",
       "      <td>282622.50</td>\n",
       "      <td>527.0</td>\n",
       "      <td>47400.0</td>\n",
       "    </tr>\n",
       "    <tr>\n",
       "      <th>ultra</th>\n",
       "      <td>3.0</td>\n",
       "      <td>2504.0</td>\n",
       "      <td>18117.0</td>\n",
       "      <td>648815.36</td>\n",
       "      <td>1195.0</td>\n",
       "      <td>74550.0</td>\n",
       "    </tr>\n",
       "    <tr>\n",
       "      <th>ultra</th>\n",
       "      <td>4.0</td>\n",
       "      <td>3525.0</td>\n",
       "      <td>25191.0</td>\n",
       "      <td>925547.39</td>\n",
       "      <td>1736.0</td>\n",
       "      <td>110100.0</td>\n",
       "    </tr>\n",
       "    <tr>\n",
       "      <th>ultra</th>\n",
       "      <td>5.0</td>\n",
       "      <td>4858.0</td>\n",
       "      <td>34192.0</td>\n",
       "      <td>1297331.25</td>\n",
       "      <td>2536.0</td>\n",
       "      <td>138000.0</td>\n",
       "    </tr>\n",
       "    <tr>\n",
       "      <th>ultra</th>\n",
       "      <td>6.0</td>\n",
       "      <td>5606.0</td>\n",
       "      <td>40295.0</td>\n",
       "      <td>1589694.90</td>\n",
       "      <td>3505.0</td>\n",
       "      <td>171300.0</td>\n",
       "    </tr>\n",
       "    <tr>\n",
       "      <th>ultra</th>\n",
       "      <td>7.0</td>\n",
       "      <td>6896.0</td>\n",
       "      <td>49667.0</td>\n",
       "      <td>1865105.53</td>\n",
       "      <td>4536.0</td>\n",
       "      <td>192750.0</td>\n",
       "    </tr>\n",
       "    <tr>\n",
       "      <th>ultra</th>\n",
       "      <td>8.0</td>\n",
       "      <td>7628.0</td>\n",
       "      <td>54653.0</td>\n",
       "      <td>2094637.85</td>\n",
       "      <td>5183.0</td>\n",
       "      <td>222900.0</td>\n",
       "    </tr>\n",
       "    <tr>\n",
       "      <th>ultra</th>\n",
       "      <td>9.0</td>\n",
       "      <td>8579.0</td>\n",
       "      <td>62036.0</td>\n",
       "      <td>2208491.87</td>\n",
       "      <td>6013.0</td>\n",
       "      <td>232800.0</td>\n",
       "    </tr>\n",
       "    <tr>\n",
       "      <th>ultra</th>\n",
       "      <td>10.0</td>\n",
       "      <td>9517.0</td>\n",
       "      <td>68644.0</td>\n",
       "      <td>2465576.49</td>\n",
       "      <td>7187.0</td>\n",
       "      <td>254100.0</td>\n",
       "    </tr>\n",
       "    <tr>\n",
       "      <th>ultra</th>\n",
       "      <td>11.0</td>\n",
       "      <td>10066.0</td>\n",
       "      <td>72545.0</td>\n",
       "      <td>2651432.87</td>\n",
       "      <td>7476.0</td>\n",
       "      <td>280350.0</td>\n",
       "    </tr>\n",
       "    <tr>\n",
       "      <th>ultra</th>\n",
       "      <td>12.0</td>\n",
       "      <td>11581.0</td>\n",
       "      <td>82400.0</td>\n",
       "      <td>3029250.99</td>\n",
       "      <td>8425.0</td>\n",
       "      <td>297300.0</td>\n",
       "    </tr>\n",
       "  </tbody>\n",
       "</table>\n",
       "</div>"
      ],
      "text/plain": [
       "        month_num  month_call_count  month_call_duration  month_internet_sum  \\\n",
       "tariff                                                                         \n",
       "smart         1.0             941.0               6931.0           289466.40   \n",
       "smart         2.0            2331.0              17324.0           672629.15   \n",
       "smart         3.0            4183.0              30034.0          1163020.25   \n",
       "smart         4.0            5747.0              41119.0          1507764.23   \n",
       "smart         5.0            7789.0              54618.0          2228530.99   \n",
       "smart         6.0            9110.0              64885.0          2590322.27   \n",
       "smart         7.0           11402.0              82079.0          3164373.22   \n",
       "smart         8.0           13860.0              99045.0          3903519.22   \n",
       "smart         9.0           15482.0             111439.0          4238930.49   \n",
       "smart        10.0           17629.0             125284.0          4926594.13   \n",
       "smart        11.0           19435.0             137544.0          5339040.14   \n",
       "smart        12.0           22406.0             161275.0          6104304.11   \n",
       "ultra         1.0             535.0               3853.0           118266.13   \n",
       "ultra         2.0             997.0               7131.0           282622.50   \n",
       "ultra         3.0            2504.0              18117.0           648815.36   \n",
       "ultra         4.0            3525.0              25191.0           925547.39   \n",
       "ultra         5.0            4858.0              34192.0          1297331.25   \n",
       "ultra         6.0            5606.0              40295.0          1589694.90   \n",
       "ultra         7.0            6896.0              49667.0          1865105.53   \n",
       "ultra         8.0            7628.0              54653.0          2094637.85   \n",
       "ultra         9.0            8579.0              62036.0          2208491.87   \n",
       "ultra        10.0            9517.0              68644.0          2465576.49   \n",
       "ultra        11.0           10066.0              72545.0          2651432.87   \n",
       "ultra        12.0           11581.0              82400.0          3029250.99   \n",
       "\n",
       "        month_messages_count  total_bill  \n",
       "tariff                                    \n",
       "smart                  620.0     24525.0  \n",
       "smart                 1397.0     48001.0  \n",
       "smart                 2453.0     89676.0  \n",
       "smart                 3443.0    107866.0  \n",
       "smart                 4762.0    168849.0  \n",
       "smart                 5478.0    197459.0  \n",
       "smart                 6784.0    246014.0  \n",
       "smart                 7905.0    310340.0  \n",
       "smart                 8746.0    324986.0  \n",
       "smart                 9927.0    401267.0  \n",
       "smart                10768.0    424403.0  \n",
       "smart                12130.0    531965.0  \n",
       "ultra                  304.0     17550.0  \n",
       "ultra                  527.0     47400.0  \n",
       "ultra                 1195.0     74550.0  \n",
       "ultra                 1736.0    110100.0  \n",
       "ultra                 2536.0    138000.0  \n",
       "ultra                 3505.0    171300.0  \n",
       "ultra                 4536.0    192750.0  \n",
       "ultra                 5183.0    222900.0  \n",
       "ultra                 6013.0    232800.0  \n",
       "ultra                 7187.0    254100.0  \n",
       "ultra                 7476.0    280350.0  \n",
       "ultra                 8425.0    297300.0  "
      ]
     },
     "execution_count": 28,
     "metadata": {},
     "output_type": "execute_result"
    }
   ],
   "source": [
    "df_month_sum = (df_cmiu_pivot\n",
    "                .pivot_table(index=['tariff', 'month_num'],\n",
    "                             values=['month_call_count', 'month_call_duration', 'month_messages_count', 'month_internet_sum', 'total_bill'],\n",
    "                             aggfunc=sum))\n",
    "\n",
    "df_month_sum = df_month_sum.reset_index(level='month_num')\n",
    "df_month_sum"
   ]
  },
  {
   "cell_type": "code",
   "execution_count": 29,
   "id": "c6021aa6",
   "metadata": {},
   "outputs": [
    {
     "data": {
      "image/png": "[encoded data removed]",
      "text/plain": [
       "<Figure size 1008x504 with 1 Axes>"
      ]
     },
     "metadata": {
      "needs_background": "light"
     },
     "output_type": "display_data"
    }
   ],
   "source": [
    "##КОД РЕВЬЮЕРА\n",
    "ax = df_month_sum[df_month_sum.index=='smart'].plot(kind='bar', x='month_num', y='month_call_count', figsize=(14, 7), alpha=0.3, color='red', label=\"ultra\", grid=True, legend=True)\n",
    "df_month_sum[df_month_sum.index=='ultra'].plot(kind='bar',  x='month_num', y='month_call_count', ax=ax, color='yellow', alpha=0.2, label=\"smart\", legend=True);\n",
    "plt.xlabel('Месяц')\n",
    "plt.ylabel('Длительность звонков')\n",
    "plt.title('Анализ по длительности минут')\n",
    "plt.show();"
   ]
  },
  {
   "cell_type": "code",
   "execution_count": 30,
   "id": "a6569422",
   "metadata": {
    "scrolled": false
   },
   "outputs": [
    {
     "data": {
      "image/png": "[encoded data removed]",
      "text/plain": [
       "<Figure size 1008x504 with 1 Axes>"
      ]
     },
     "metadata": {
      "needs_background": "light"
     },
     "output_type": "display_data"
    },
    {
     "data": {
      "image/png": "[encoded data removed]",
      "text/plain": [
       "<Figure size 1008x504 with 1 Axes>"
      ]
     },
     "metadata": {
      "needs_background": "light"
     },
     "output_type": "display_data"
    },
    {
     "data": {
      "image/png": "[encoded data removed]",
      "text/plain": [
       "<Figure size 1008x504 with 1 Axes>"
      ]
     },
     "metadata": {
      "needs_background": "light"
     },
     "output_type": "display_data"
    },
    {
     "data": {
      "image/png": "[encoded data removed]",
      "text/plain": [
       "<Figure size 1008x504 with 1 Axes>"
      ]
     },
     "metadata": {
      "needs_background": "light"
     },
     "output_type": "display_data"
    },
    {
     "data": {
      "image/png": "[encoded data removed]",
      "text/plain": [
       "<Figure size 1008x504 with 1 Axes>"
      ]
     },
     "metadata": {
      "needs_background": "light"
     },
     "output_type": "display_data"
    }
   ],
   "source": [
    "for dms_col_name_2 in ['month_call_count', 'month_call_duration', 'month_messages_count', 'month_internet_sum', 'total_bill']:\n",
    "    ax = df_month_sum[df_month_sum.index=='smart'].plot(kind='bar', x='month_num', y=dms_col_name_2, figsize=(14, 7), alpha=0.3, color='red', label=\"ultra\", grid=True, legend=True)\n",
    "    df_month_sum[df_month_sum.index=='ultra'].plot(kind='bar',  x='month_num', y=dms_col_name_2, ax=ax, color='yellow', alpha=0.2, label=\"smart\", legend=True);\n",
    "    plt.xlabel('Месяц')\n",
    "    plt.title(dms_col_name_2)\n",
    "    plt.show();"
   ]
  },
  {
   "cell_type": "markdown",
   "id": "be330aa1",
   "metadata": {},
   "source": [
    "**На количественные показатели здесь можно не смотреть, т.к. объем выборок разный:**"
   ]
  },
  {
   "cell_type": "markdown",
   "id": "bb1d1e01",
   "metadata": {},
   "source": [
    "\n",
    "    \n",
    "Вывод по графикам:\n",
    "    \n",
    "Видим, что из месяца в месяц, увеличивается активность абонентов. \n",
    "Большая активность у абанентов ultra, причем по некоторым показателям и в определенные месяца разница достигает почти  50%\n"
   ]
  },
  {
   "cell_type": "code",
   "execution_count": 31,
   "id": "42bfc5a5",
   "metadata": {},
   "outputs": [
    {
     "data": {
      "text/plain": [
       "2229"
      ]
     },
     "execution_count": 31,
     "metadata": {},
     "output_type": "execute_result"
    }
   ],
   "source": [
    "df_cmiu_pivot[df_cmiu_pivot['tariff']=='smart']['tariff'].count()"
   ]
  },
  {
   "cell_type": "code",
   "execution_count": 32,
   "id": "6b9803da",
   "metadata": {},
   "outputs": [
    {
     "data": {
      "text/plain": [
       "985"
      ]
     },
     "execution_count": 32,
     "metadata": {},
     "output_type": "execute_result"
    }
   ],
   "source": [
    "df_cmiu_pivot[df_cmiu_pivot['tariff']=='ultra']['tariff'].count()"
   ]
  },
  {
   "cell_type": "markdown",
   "id": "e178950c",
   "metadata": {},
   "source": [
    "А вот поведение клиентов в течение рассматриваемого периода времени графики показывают очень хорошо:\n",
    "как видим все параметры (количество звонков, продолжительность разговоров, количество сообщений, объем израсходованного интернет-трафика и ежемесячный счет) растут от января к декабрю, причем растут довольно таки линейно и не зависимо от того, какой тариф используют клиенты."
   ]
  },
  {
   "cell_type": "code",
   "execution_count": 33,
   "id": "f16bcba6",
   "metadata": {},
   "outputs": [
    {
     "data": {
      "text/html": [
       "<div>\n",
       "<style scoped>\n",
       "    .dataframe tbody tr th:only-of-type {\n",
       "        vertical-align: middle;\n",
       "    }\n",
       "\n",
       "    .dataframe tbody tr th {\n",
       "        vertical-align: top;\n",
       "    }\n",
       "\n",
       "    .dataframe thead th {\n",
       "        text-align: right;\n",
       "    }\n",
       "</style>\n",
       "<table border=\"1\" class=\"dataframe\">\n",
       "  <thead>\n",
       "    <tr style=\"text-align: right;\">\n",
       "      <th></th>\n",
       "      <th>month_call_duration_mean</th>\n",
       "      <th>month_message_count_mean</th>\n",
       "      <th>month_internet_sum_mean</th>\n",
       "      <th>total_bill_mean</th>\n",
       "    </tr>\n",
       "    <tr>\n",
       "      <th>tariff</th>\n",
       "      <th></th>\n",
       "      <th></th>\n",
       "      <th></th>\n",
       "      <th></th>\n",
       "    </tr>\n",
       "  </thead>\n",
       "  <tbody>\n",
       "    <tr>\n",
       "      <th>smart</th>\n",
       "      <td>417.934948</td>\n",
       "      <td>16208.386990</td>\n",
       "      <td>33.384029</td>\n",
       "      <td>1289.973531</td>\n",
       "    </tr>\n",
       "    <tr>\n",
       "      <th>ultra</th>\n",
       "      <td>526.623350</td>\n",
       "      <td>19468.805208</td>\n",
       "      <td>49.363452</td>\n",
       "      <td>2070.152284</td>\n",
       "    </tr>\n",
       "  </tbody>\n",
       "</table>\n",
       "</div>"
      ],
      "text/plain": [
       "        month_call_duration_mean  month_message_count_mean  \\\n",
       "tariff                                                       \n",
       "smart                 417.934948              16208.386990   \n",
       "ultra                 526.623350              19468.805208   \n",
       "\n",
       "        month_internet_sum_mean  total_bill_mean  \n",
       "tariff                                            \n",
       "smart                 33.384029      1289.973531  \n",
       "ultra                 49.363452      2070.152284  "
      ]
     },
     "metadata": {},
     "output_type": "display_data"
    },
    {
     "data": {
      "text/html": [
       "<div>\n",
       "<style scoped>\n",
       "    .dataframe tbody tr th:only-of-type {\n",
       "        vertical-align: middle;\n",
       "    }\n",
       "\n",
       "    .dataframe tbody tr th {\n",
       "        vertical-align: top;\n",
       "    }\n",
       "\n",
       "    .dataframe thead th {\n",
       "        text-align: right;\n",
       "    }\n",
       "</style>\n",
       "<table border=\"1\" class=\"dataframe\">\n",
       "  <thead>\n",
       "    <tr style=\"text-align: right;\">\n",
       "      <th></th>\n",
       "      <th>month_call_duration_var</th>\n",
       "      <th>month_message_count_var</th>\n",
       "      <th>month_internet_sum_var</th>\n",
       "      <th>total_bill_var</th>\n",
       "    </tr>\n",
       "    <tr>\n",
       "      <th>tariff</th>\n",
       "      <th></th>\n",
       "      <th></th>\n",
       "      <th></th>\n",
       "      <th></th>\n",
       "    </tr>\n",
       "  </thead>\n",
       "  <tbody>\n",
       "    <tr>\n",
       "      <th>smart</th>\n",
       "      <td>36219.315784</td>\n",
       "      <td>3.446250e+07</td>\n",
       "      <td>796.812958</td>\n",
       "      <td>669785.708006</td>\n",
       "    </tr>\n",
       "    <tr>\n",
       "      <th>ultra</th>\n",
       "      <td>100873.633397</td>\n",
       "      <td>1.017510e+08</td>\n",
       "      <td>2285.266143</td>\n",
       "      <td>141516.745079</td>\n",
       "    </tr>\n",
       "  </tbody>\n",
       "</table>\n",
       "</div>"
      ],
      "text/plain": [
       "        month_call_duration_var  month_message_count_var  \\\n",
       "tariff                                                     \n",
       "smart              36219.315784             3.446250e+07   \n",
       "ultra             100873.633397             1.017510e+08   \n",
       "\n",
       "        month_internet_sum_var  total_bill_var  \n",
       "tariff                                          \n",
       "smart               796.812958   669785.708006  \n",
       "ultra              2285.266143   141516.745079  "
      ]
     },
     "metadata": {},
     "output_type": "display_data"
    },
    {
     "data": {
      "text/html": [
       "<div>\n",
       "<style scoped>\n",
       "    .dataframe tbody tr th:only-of-type {\n",
       "        vertical-align: middle;\n",
       "    }\n",
       "\n",
       "    .dataframe tbody tr th {\n",
       "        vertical-align: top;\n",
       "    }\n",
       "\n",
       "    .dataframe thead th {\n",
       "        text-align: right;\n",
       "    }\n",
       "</style>\n",
       "<table border=\"1\" class=\"dataframe\">\n",
       "  <thead>\n",
       "    <tr style=\"text-align: right;\">\n",
       "      <th></th>\n",
       "      <th>month_call_duration_std</th>\n",
       "      <th>month_message_count_std</th>\n",
       "      <th>month_internet_sum_std</th>\n",
       "      <th>total_bill_std</th>\n",
       "    </tr>\n",
       "    <tr>\n",
       "      <th>tariff</th>\n",
       "      <th></th>\n",
       "      <th></th>\n",
       "      <th></th>\n",
       "      <th></th>\n",
       "    </tr>\n",
       "  </thead>\n",
       "  <tbody>\n",
       "    <tr>\n",
       "      <th>smart</th>\n",
       "      <td>190.313730</td>\n",
       "      <td>5870.476681</td>\n",
       "      <td>28.227876</td>\n",
       "      <td>818.404367</td>\n",
       "    </tr>\n",
       "    <tr>\n",
       "      <th>ultra</th>\n",
       "      <td>317.606098</td>\n",
       "      <td>10087.170752</td>\n",
       "      <td>47.804457</td>\n",
       "      <td>376.187114</td>\n",
       "    </tr>\n",
       "  </tbody>\n",
       "</table>\n",
       "</div>"
      ],
      "text/plain": [
       "        month_call_duration_std  month_message_count_std  \\\n",
       "tariff                                                     \n",
       "smart                190.313730              5870.476681   \n",
       "ultra                317.606098             10087.170752   \n",
       "\n",
       "        month_internet_sum_std  total_bill_std  \n",
       "tariff                                          \n",
       "smart                28.227876      818.404367  \n",
       "ultra                47.804457      376.187114  "
      ]
     },
     "metadata": {},
     "output_type": "display_data"
    }
   ],
   "source": [
    "for i in range(0, 3):\n",
    "    functions = ['mean', np.var, np.std]# функции, которые будем применять к значениям\n",
    "    tables = ['total_month_sum_mean', 'total_month_sum_var', 'total_month_sum_std']# названия сводных таблиц\n",
    "    list_of_cols = ['month_call_duration', 'month_messages_count', 'month_internet_sum', 'total_bill']# значения\n",
    "    suffix = ['_mean', '_var', '_std']# суффикс, который добавим к именам колонок\n",
    "    \n",
    "    tables[i] = df_cmiu_pivot.pivot_table(index=['tariff'], values=list_of_cols, aggfunc=functions[i])\n",
    "    tables[i].columns = ['month_call_duration'+suffix[i], 'month_message_count'+suffix[i],\\\n",
    "                         'month_internet_sum'+suffix[i], 'total_bill'+suffix[i]]\n",
    "    display(tables[i])"
   ]
  },
  {
   "cell_type": "markdown",
   "id": "1d99cf04",
   "metadata": {},
   "source": [
    "В среднем пользователи тарифа ультра больше пользуются услугами оператора, чем пользователи тарифа смарт.\n",
    "\n",
    "Однако рассеяние вокруг среднего значения у ультра также выше, кроме параметра интернет-трафик. Тут можно выделить два момента:\n",
    "\n",
    "* большая дисперсия у ультра можно объяснить меньшим объемом выборки, чем у смарт;\n",
    "* меньшая дисперсия в интрнет-трафике говорит о том, что возможно пользователи выбирают тариф ультра из-за большого включенного пакета мегабайт трафика, т.к. сейчас в основном большая часть звонков и сообщений передается посредством сети интрнет. Т.о. пользователи ультра не заботятся об экономии трафика и используют его свободно, что приводит к среднему с меньшим разбросом. В то время как пользователи смарт экономно используют свой лимит и в итоге к концу месяца у многих оставшийся трафик сгорает, а у некоторых, кто \"забылся\" и не следил за лимитом, - перерасход."
   ]
  },
  {
   "cell_type": "markdown",
   "id": "a5cdf7da",
   "metadata": {},
   "source": [
    "**Посмотрим какое количество пользователей тратит то или иное количество предоставленных услуг. Для этого построим частотные гистограммы:**"
   ]
  },
  {
   "cell_type": "code",
   "execution_count": 34,
   "id": "e7c7ee9f",
   "metadata": {},
   "outputs": [
    {
     "data": {
      "text/html": [
       "<div>\n",
       "<style scoped>\n",
       "    .dataframe tbody tr th:only-of-type {\n",
       "        vertical-align: middle;\n",
       "    }\n",
       "\n",
       "    .dataframe tbody tr th {\n",
       "        vertical-align: top;\n",
       "    }\n",
       "\n",
       "    .dataframe thead th {\n",
       "        text-align: right;\n",
       "    }\n",
       "</style>\n",
       "<table border=\"1\" class=\"dataframe\">\n",
       "  <thead>\n",
       "    <tr style=\"text-align: right;\">\n",
       "      <th></th>\n",
       "      <th>tariff</th>\n",
       "      <th>user_id</th>\n",
       "      <th>month_call_count</th>\n",
       "      <th>month_call_duration</th>\n",
       "      <th>month_internet_sum</th>\n",
       "      <th>total_bill</th>\n",
       "      <th>month_messages_count</th>\n",
       "    </tr>\n",
       "  </thead>\n",
       "  <tbody>\n",
       "    <tr>\n",
       "      <th>0</th>\n",
       "      <td>smart</td>\n",
       "      <td>1001</td>\n",
       "      <td>122.0</td>\n",
       "      <td>844.0</td>\n",
       "      <td>32466.00</td>\n",
       "      <td>1700.0</td>\n",
       "      <td>0.0</td>\n",
       "    </tr>\n",
       "    <tr>\n",
       "      <th>1</th>\n",
       "      <td>smart</td>\n",
       "      <td>1002</td>\n",
       "      <td>217.0</td>\n",
       "      <td>1517.0</td>\n",
       "      <td>116036.52</td>\n",
       "      <td>7250.0</td>\n",
       "      <td>70.0</td>\n",
       "    </tr>\n",
       "    <tr>\n",
       "      <th>2</th>\n",
       "      <td>smart</td>\n",
       "      <td>1005</td>\n",
       "      <td>888.0</td>\n",
       "      <td>6605.0</td>\n",
       "      <td>99687.31</td>\n",
       "      <td>9924.0</td>\n",
       "      <td>552.0</td>\n",
       "    </tr>\n",
       "    <tr>\n",
       "      <th>3</th>\n",
       "      <td>smart</td>\n",
       "      <td>1006</td>\n",
       "      <td>506.0</td>\n",
       "      <td>3501.0</td>\n",
       "      <td>164188.81</td>\n",
       "      <td>10250.0</td>\n",
       "      <td>0.0</td>\n",
       "    </tr>\n",
       "    <tr>\n",
       "      <th>4</th>\n",
       "      <td>smart</td>\n",
       "      <td>1007</td>\n",
       "      <td>612.0</td>\n",
       "      <td>4379.0</td>\n",
       "      <td>131625.67</td>\n",
       "      <td>8221.0</td>\n",
       "      <td>225.0</td>\n",
       "    </tr>\n",
       "    <tr>\n",
       "      <th>...</th>\n",
       "      <td>...</td>\n",
       "      <td>...</td>\n",
       "      <td>...</td>\n",
       "      <td>...</td>\n",
       "      <td>...</td>\n",
       "      <td>...</td>\n",
       "      <td>...</td>\n",
       "    </tr>\n",
       "    <tr>\n",
       "      <th>493</th>\n",
       "      <td>ultra</td>\n",
       "      <td>1476</td>\n",
       "      <td>549.0</td>\n",
       "      <td>4204.0</td>\n",
       "      <td>150285.91</td>\n",
       "      <td>17550.0</td>\n",
       "      <td>45.0</td>\n",
       "    </tr>\n",
       "    <tr>\n",
       "      <th>494</th>\n",
       "      <td>ultra</td>\n",
       "      <td>1485</td>\n",
       "      <td>94.0</td>\n",
       "      <td>584.0</td>\n",
       "      <td>23422.76</td>\n",
       "      <td>1950.0</td>\n",
       "      <td>155.0</td>\n",
       "    </tr>\n",
       "    <tr>\n",
       "      <th>495</th>\n",
       "      <td>ultra</td>\n",
       "      <td>1491</td>\n",
       "      <td>648.0</td>\n",
       "      <td>4620.0</td>\n",
       "      <td>161462.24</td>\n",
       "      <td>17550.0</td>\n",
       "      <td>432.0</td>\n",
       "    </tr>\n",
       "    <tr>\n",
       "      <th>496</th>\n",
       "      <td>ultra</td>\n",
       "      <td>1493</td>\n",
       "      <td>110.0</td>\n",
       "      <td>744.0</td>\n",
       "      <td>54419.37</td>\n",
       "      <td>5700.0</td>\n",
       "      <td>94.0</td>\n",
       "    </tr>\n",
       "    <tr>\n",
       "      <th>497</th>\n",
       "      <td>ultra</td>\n",
       "      <td>1495</td>\n",
       "      <td>565.0</td>\n",
       "      <td>3920.0</td>\n",
       "      <td>127410.56</td>\n",
       "      <td>11550.0</td>\n",
       "      <td>340.0</td>\n",
       "    </tr>\n",
       "  </tbody>\n",
       "</table>\n",
       "<p>498 rows × 7 columns</p>\n",
       "</div>"
      ],
      "text/plain": [
       "    tariff  user_id  month_call_count  month_call_duration  \\\n",
       "0    smart     1001             122.0                844.0   \n",
       "1    smart     1002             217.0               1517.0   \n",
       "2    smart     1005             888.0               6605.0   \n",
       "3    smart     1006             506.0               3501.0   \n",
       "4    smart     1007             612.0               4379.0   \n",
       "..     ...      ...               ...                  ...   \n",
       "493  ultra     1476             549.0               4204.0   \n",
       "494  ultra     1485              94.0                584.0   \n",
       "495  ultra     1491             648.0               4620.0   \n",
       "496  ultra     1493             110.0                744.0   \n",
       "497  ultra     1495             565.0               3920.0   \n",
       "\n",
       "     month_internet_sum  total_bill  month_messages_count  \n",
       "0              32466.00      1700.0                   0.0  \n",
       "1             116036.52      7250.0                  70.0  \n",
       "2              99687.31      9924.0                 552.0  \n",
       "3             164188.81     10250.0                   0.0  \n",
       "4             131625.67      8221.0                 225.0  \n",
       "..                  ...         ...                   ...  \n",
       "493           150285.91     17550.0                  45.0  \n",
       "494            23422.76      1950.0                 155.0  \n",
       "495           161462.24     17550.0                 432.0  \n",
       "496            54419.37      5700.0                  94.0  \n",
       "497           127410.56     11550.0                 340.0  \n",
       "\n",
       "[498 rows x 7 columns]"
      ]
     },
     "execution_count": 34,
     "metadata": {},
     "output_type": "execute_result"
    }
   ],
   "source": [
    "# сгруппируем данных сводной таблицей по тарифу и пользователям:\n",
    "cmit_sum_for_hist = (df_cmiu_pivot\n",
    "                     .pivot_table(index=['tariff', 'user_id'],\\\n",
    "                                  values=['month_call_count', 'month_call_duration', 'month_messages_count', 'month_internet_sum', 'total_bill'],\\\n",
    "                                  aggfunc=sum))\n",
    "\n",
    "# расставим столбцы в удобном порядке:\n",
    "cols = cmit_sum_for_hist.columns.tolist()\n",
    "cols = cols[:3] + cols[-1:] + cols[-2:4]\n",
    "cmit_sum_for_hist = cmit_sum_for_hist[cols]\n",
    "\n",
    "cmit_sum_for_hist.reset_index(inplace=True)\n",
    "\n",
    "cmit_sum_for_hist"
   ]
  },
  {
   "cell_type": "code",
   "execution_count": 35,
   "id": "8bcb6fae",
   "metadata": {},
   "outputs": [
    {
     "data": {
      "image/png": "[encoded data removed]",
      "text/plain": [
       "<Figure size 720x432 with 1 Axes>"
      ]
     },
     "metadata": {
      "needs_background": "light"
     },
     "output_type": "display_data"
    }
   ],
   "source": [
    "##КОД РЕВЬЮЕРА\n",
    "smart = df_cmiu_pivot.query('tariff == \"smart\"')['month_call_duration']\n",
    "ultra = df_cmiu_pivot.query('tariff == \"ultra\"')['month_call_duration']\n",
    "\n",
    "plt.figure(figsize=(10,6))\n",
    "plt.hist(smart, bins=50, color='blue', edgecolor='grey', alpha=0.5, label = 'smart', density = False)\n",
    "plt.hist(ultra, bins=50, color='orange', edgecolor='grey', alpha=0.5,label = 'ultra', density = False)\n",
    "plt.legend()\n",
    "plt.show()"
   ]
  },
  {
   "cell_type": "code",
   "execution_count": 39,
   "id": "7856043a",
   "metadata": {
    "scrolled": false
   },
   "outputs": [
    {
     "data": {
      "image/png": "[encoded data removed]",
      "text/plain": [
       "<Figure size 720x432 with 1 Axes>"
      ]
     },
     "metadata": {
      "needs_background": "light"
     },
     "output_type": "display_data"
    },
    {
     "data": {
      "image/png": "[encoded data removed]",
      "text/plain": [
       "<Figure size 720x432 with 1 Axes>"
      ]
     },
     "metadata": {
      "needs_background": "light"
     },
     "output_type": "display_data"
    },
    {
     "data": {
      "image/png": "[encoded data removed]",
      "text/plain": [
       "<Figure size 720x432 with 1 Axes>"
      ]
     },
     "metadata": {
      "needs_background": "light"
     },
     "output_type": "display_data"
    },
    {
     "data": {
      "image/png": "[encoded data removed]",
      "text/plain": [
       "<Figure size 720x432 with 1 Axes>"
      ]
     },
     "metadata": {
      "needs_background": "light"
     },
     "output_type": "display_data"
    },
    {
     "data": {
      "image/png": "[encoded data removed]",
      "text/plain": [
       "<Figure size 720x432 with 1 Axes>"
      ]
     },
     "metadata": {
      "needs_background": "light"
     },
     "output_type": "display_data"
    }
   ],
   "source": [
    "for col_df_cmiu in cmit_sum_for_hist.columns[2:]:\n",
    "    smart = df_cmiu_pivot.query('tariff == \"smart\"')[col_df_cmiu]\n",
    "    ultra = df_cmiu_pivot.query('tariff == \"ultra\"')[col_df_cmiu]\n",
    "\n",
    "    plt.figure(figsize=(10,6))\n",
    "    plt.hist(smart, bins=50, color='blue', edgecolor='grey', alpha=0.5, label = 'smart', density = False)\n",
    "    plt.hist(ultra, bins=50, color='orange', edgecolor='grey', alpha=0.5,label = 'ultra', density = False)\n",
    "    plt.xlabel(col_df_cmiu)\n",
    "    plt.ylabel('Frequency')\n",
    "    plt.legend()\n",
    "    plt.show()"
   ]
  },
  {
   "cell_type": "markdown",
   "id": "ce425f01",
   "metadata": {},
   "source": [
    "В силу большей дисперсии ультра имеет более длинные хвосты чем смарт.\n",
    "\n",
    "**Вывод по графикам:**\n",
    "* Количество звонков: Пик у смарт приходится на 70, у ультра - около 0 и 75.\n",
    "* Продолжительность звонков: У смарт и ультра пика около 500 минут. Также видим, что у ультра есть небольшой пик на околонулевых значениях (0 - 250).\n",
    "* Количество сообщений: В обоих тарифах высока доля людей крайне мало использующих смс. При этом следует помнить, что ранее мы заменили 500 пропусков в датафрейме нулями и сейчас наблюдаем результаты этого действия. Но в любом случае все сейчас пользуются месенджерами.\n",
    "* Интернет-трафик: Пик у абонентов тарифа смарт приходится на 16 000 мб, а у ультры на 22 000 мб.\n",
    "* Итоговый счет: Абоненты тарифа смарт в основном не выходяят за лимит, но около четверти абонентов платят более 550 р., что касается ультры, то менее 1% выходят за лимиты"
   ]
  },
  {
   "cell_type": "markdown",
   "id": "01c99e33",
   "metadata": {},
   "source": [
    "# Шаг 4. Проверка гипотез"
   ]
  },
  {
   "cell_type": "markdown",
   "id": "1b05581e",
   "metadata": {},
   "source": [
    "## Гипотеза 1"
   ]
  },
  {
   "cell_type": "markdown",
   "id": "d6d27d2e",
   "metadata": {},
   "source": [
    "Первая гипотеза которую нужно проверить - средняя выручка пользователей тарифов «Ультра» и «Смарт» различается.\n",
    "\n",
    "Сформулируем нулевую и альтернативную гипотезы:\n",
    "\n",
    "* H0 - средняя выручка пользователей тарифов «Ультра» и «Смарт» равны (в H0 всегда используется знак равенства);\n",
    "* H1 - средние выручки пользователей тарифов «Ультра» и «Смарт» различаются.\n",
    "\n",
    "Чтобы проверить гипотезу о равенстве среднего применим метод scipy.stats.ttest_ind (array1, array2, equal_var), где equal_var - параметр, задающий считать ли равными дисперсии выборок. Передаётся как \"equal_var = True\" или \"equal_var = False\" (True — считать, False — не считать). Т.к. мы знаем, что дисперсии выборок по смарт и ультра различаются (3.436001e+07 и 9.886460e+07 соответственно), то equal_var зададим как False."
   ]
  },
  {
   "cell_type": "code",
   "execution_count": 37,
   "id": "a99be33b",
   "metadata": {},
   "outputs": [
    {
     "name": "stdout",
     "output_type": "stream",
     "text": [
      "p-значение: 4.2606313931076085e-250\n",
      "Отвергаем нулевую гипотезу\n"
     ]
    }
   ],
   "source": [
    "smart_ttest = df_cmiu_pivot[df_cmiu_pivot['tariff']=='smart']['total_bill']\n",
    "ultra_ttest = df_cmiu_pivot[df_cmiu_pivot['tariff']=='ultra']['total_bill']\n",
    "\n",
    "# уровень значимости зададим равным 5%\n",
    "alpha = 0.05\n",
    "\n",
    "results = st.ttest_ind(smart_ttest, ultra_ttest, equal_var=False)\n",
    "\n",
    "print('p-значение:', results.pvalue)\n",
    "\n",
    "if (results.pvalue < alpha):\n",
    "    print(\"Отвергаем нулевую гипотезу\")\n",
    "else:\n",
    "    print(\"Не получилось отвергнуть нулевую гипотезу\")"
   ]
  },
  {
   "cell_type": "markdown",
   "id": "b8a18a03",
   "metadata": {},
   "source": [
    "p-уровень значимости слишком мал, гораздо меньше определенного нами порогового значения в 5% => средняя выручка пользователей тарифов смарт и ульра значимо отличаются друг от друга."
   ]
  },
  {
   "cell_type": "markdown",
   "id": "a9b8eed5",
   "metadata": {},
   "source": [
    "## Гипотеза 2"
   ]
  },
  {
   "cell_type": "markdown",
   "id": "fb39c8df",
   "metadata": {},
   "source": [
    "Вторая гипотеза для проверки звучит так - средняя выручка пользователей из Москвы отличается от выручки пользователей из других регионов.\n",
    "\n",
    "* Н0 - средняя выручка пользователей из Москвы равна средней выручке пользователей из других регионов;\n",
    "* Н1 - средняя выручка пользователей из Москвы отличается от выручки пользователей из других регионов.\n",
    "\n",
    "Альтернативная гипотеза у нас двусторонняя, т.к. средняя выручка из Москвы может отличаться от других регионов как в большую так и в меньшую сторону.\n",
    "\n",
    "Для проверки гипотезы воспользуемся методом scipy.stats.ttest_1samp (array, popmean), где в качестве массива данных будет выборка выручки по москвичам, а в качестве popmean (предполагаемого среднего, на равенство которому мы делаем тест) будет выступать среднее значение выручки пользователей из других регионов."
   ]
  },
  {
   "cell_type": "code",
   "execution_count": 38,
   "id": "d8701f72",
   "metadata": {},
   "outputs": [
    {
     "name": "stdout",
     "output_type": "stream",
     "text": [
      "p-значение:  0.4744239730695693\n",
      "Не получилось отвергнуть нулевую гипотезу\n"
     ]
    }
   ],
   "source": [
    "moscow_ttest = df_cmiu_pivot[df_cmiu_pivot['city']=='Москва']['total_bill']\n",
    "\n",
    "popmean = df_cmiu_pivot[df_cmiu_pivot['city']!='Москва']['total_bill'].mean()\n",
    "\n",
    "# уровень значимости 5%\n",
    "alpha = 0.05\n",
    "\n",
    "results = st.ttest_1samp(moscow_ttest, popmean)\n",
    "\n",
    "print('p-значение: ', results.pvalue)\n",
    "\n",
    "if results.pvalue < alpha:\n",
    "    print(\"Отвергаем нулевую гипотезу\")\n",
    "else:\n",
    "    print(\"Не получилось отвергнуть нулевую гипотезу\")"
   ]
  },
  {
   "cell_type": "markdown",
   "id": "861981a4",
   "metadata": {},
   "source": [
    "р-уровень значимости составил почти 47%, что значительно выше 5% => средняя выручка по Москве статистически значимо не отличается от средней выручки по другим регионам."
   ]
  },
  {
   "cell_type": "markdown",
   "id": "6810c1ec",
   "metadata": {},
   "source": [
    "# Вывод"
   ]
  },
  {
   "cell_type": "markdown",
   "id": "1474f5aa",
   "metadata": {},
   "source": [
    "Сделав предварительный анализ тарифов на небольшой выборке пользователей можем передать следующие результаты коммерческому отделу:\n",
    "\n",
    "* Средние чеки тарифов смарт и ультра значимо различаются. В среднем пользователи тарифа ультра платят больше;\n",
    "* Т.к. средняя выручка по Москве и другим регионам значимо не различаются, то рекламную компанию можно устроить по всей территории распространения сети;\n",
    "* Поведение клиентов в течение года очень хорошо отображено на графиках. Эти графики будут полезны чтобы скорректировать во времени рекламные компании.\n",
    "\n",
    "**По выгодному тарифу:**\n",
    "* По большому счету, для этого достаточно было бы посмотреть на среднюю выручку и в ней явно выигрывает тариф \"Ультра\". Хотя тариф \"Смарт\" я бы также не сбрасывал со счетов, т.к. его пользователи часто переплачивают за услуги связи. К тому же, этот факт можно использовать, чтобы стимулировать их к переходу на тариф \"Ультра\".\n",
    "\n",
    "* В целом, предоставляемое тарифом Ультра зачастую избыточно и можно считать, что пользователи переплачивают."
   ]
  },
  {
   "cell_type": "markdown",
   "id": "b8ba2130",
   "metadata": {},
   "source": [
    "# Выводы_new"
   ]
  },
  {
   "cell_type": "markdown",
   "id": "09668f9f",
   "metadata": {},
   "source": [
    "Были получены данные оператора \"Мегалайн\". Данные включают всевозможное использование абонентом услуг телеоператора. После предобработки данных мной был выполнен анализ со следующими выводами:\n",
    "\n",
    "В силу большей дисперсии ультра имеет более длинные хвосты чем смарт.\n",
    "\n",
    "**Вывод по графикам:**\n",
    "* Количество звонков: Пик у смарт приходится на 70, у ультра - около 0 и 75.\n",
    "* Продолжительность звонков: У смарт и ультра пика около 500 минут. Также видим, что у ультра есть небольшой пик на околонулевых значениях (0 - 250).\n",
    "* Количество сообщений: В обоих тарифах высока доля людей крайне мало использующих смс. При этом следует помнить, что ранее мы заменили 500 пропусков в датафрейме нулями и сейчас наблюдаем результаты этого действия. Но в любом случае все сейчас пользуются месенджерами.\n",
    "* Интернет-трафик: Пик у абонентов тарифа смарт приходится на 16 000 мб, а у ультры на 22 000 мб.\n",
    "* Итоговый счет: Абоненты тарифа смарт в основном не выходяят за лимит, но около четверти абонентов платят более 550 р., что касается ультры, то менее 1% выходят за лимиты\n",
    "* Из месяца в месяц потребление услуг у обоих тарифов растет, причем линейно.\n",
    "* Несмотря на то, что выборки у нас разные, абонентов smart 2229, а абонентов ultra 985, что составляет чуть меньше половины от smart (44%), средняя длительность звонков в месяц у smart 394, у ultra 497 (ultra больше на 26%), среднее количество сообщений 16 229 и 19 486 соответственно (ultra больше на 20%), средний трафик в месяц 33 ГБ и 49 ГБ соответственно (ultra больше на 48%), средняя выручка 1 261 и 2 071 р. соответственно ( ultra больше на 64 %)\n",
    "* Средняя выручка тарифов ultra и smart различаются\n",
    "* Средняя выручка абонентов из Москвы почит не отличается от абонентов из регионов\n",
    "\n",
    "**Итоговый выводы по тарифу:** Тариф \"Ультра\" перспективней\n",
    "\n",
    "**Итоговый вывод по рекламе:** Т.к. средняя выручка по Москве и другим регионам значимо не различаются, то рекламную компанию можно устроить по всей территории распространения сети"
   ]
  }
 ],
 "metadata": {
  "ExecuteTimeLog": [
   {
    "duration": 9,
    "start_time": "2022-04-15T14:19:59.699Z"
   },
   {
    "duration": 95,
    "start_time": "2022-04-15T14:20:14.522Z"
   },
   {
    "duration": 110,
    "start_time": "2022-04-15T14:40:16.610Z"
   },
   {
    "duration": 45,
    "start_time": "2022-04-15T15:21:01.361Z"
   },
   {
    "duration": 1533,
    "start_time": "2022-04-15T22:17:20.442Z"
   },
   {
    "duration": 382,
    "start_time": "2022-04-15T22:17:21.978Z"
   },
   {
    "duration": 5,
    "start_time": "2022-04-15T22:17:22.362Z"
   },
   {
    "duration": 178,
    "start_time": "2022-04-15T22:17:22.368Z"
   },
   {
    "duration": 151,
    "start_time": "2022-04-15T22:17:22.549Z"
   },
   {
    "duration": 99,
    "start_time": "2022-04-15T22:17:22.702Z"
   },
   {
    "duration": 21,
    "start_time": "2022-04-15T22:17:22.803Z"
   },
   {
    "duration": 43,
    "start_time": "2022-04-15T22:17:22.826Z"
   },
   {
    "duration": 131,
    "start_time": "2022-04-15T22:17:22.872Z"
   },
   {
    "duration": 51,
    "start_time": "2022-04-15T22:17:23.005Z"
   },
   {
    "duration": 40,
    "start_time": "2022-04-15T22:17:23.059Z"
   },
   {
    "duration": 24,
    "start_time": "2022-04-15T22:17:23.101Z"
   },
   {
    "duration": 111,
    "start_time": "2022-04-15T22:17:23.127Z"
   },
   {
    "duration": 46,
    "start_time": "2022-04-15T22:17:23.242Z"
   },
   {
    "duration": 41,
    "start_time": "2022-04-15T22:17:23.290Z"
   },
   {
    "duration": 56,
    "start_time": "2022-04-15T22:17:23.333Z"
   },
   {
    "duration": 25,
    "start_time": "2022-04-15T22:17:23.390Z"
   },
   {
    "duration": 47,
    "start_time": "2022-04-15T22:17:23.418Z"
   },
   {
    "duration": 10,
    "start_time": "2022-04-15T22:17:23.467Z"
   },
   {
    "duration": 27,
    "start_time": "2022-04-15T22:17:23.479Z"
   },
   {
    "duration": 6,
    "start_time": "2022-04-15T22:17:23.508Z"
   },
   {
    "duration": 13,
    "start_time": "2022-04-15T22:17:23.516Z"
   },
   {
    "duration": 37,
    "start_time": "2022-04-15T22:17:23.530Z"
   },
   {
    "duration": 13,
    "start_time": "2022-04-15T22:17:23.570Z"
   },
   {
    "duration": 6,
    "start_time": "2022-04-15T22:17:23.585Z"
   },
   {
    "duration": 156,
    "start_time": "2022-04-15T22:17:23.592Z"
   },
   {
    "duration": 30,
    "start_time": "2022-04-15T22:17:23.750Z"
   },
   {
    "duration": 1550,
    "start_time": "2022-04-15T22:17:23.782Z"
   },
   {
    "duration": 7,
    "start_time": "2022-04-15T22:17:25.334Z"
   },
   {
    "duration": 19,
    "start_time": "2022-04-15T22:17:25.342Z"
   },
   {
    "duration": 42,
    "start_time": "2022-04-15T22:17:25.363Z"
   },
   {
    "duration": 23,
    "start_time": "2022-04-15T22:17:25.407Z"
   },
   {
    "duration": 2131,
    "start_time": "2022-04-15T22:17:25.432Z"
   },
   {
    "duration": 10,
    "start_time": "2022-04-15T22:17:27.566Z"
   },
   {
    "duration": 8,
    "start_time": "2022-04-15T22:17:27.578Z"
   },
   {
    "duration": 32,
    "start_time": "2022-04-15T22:21:55.267Z"
   },
   {
    "duration": 14,
    "start_time": "2022-04-15T22:24:50.081Z"
   },
   {
    "duration": 1275,
    "start_time": "2022-04-15T22:26:02.315Z"
   },
   {
    "duration": 377,
    "start_time": "2022-04-15T22:26:03.592Z"
   },
   {
    "duration": 6,
    "start_time": "2022-04-15T22:26:03.970Z"
   },
   {
    "duration": 162,
    "start_time": "2022-04-15T22:26:03.978Z"
   },
   {
    "duration": 131,
    "start_time": "2022-04-15T22:26:04.143Z"
   },
   {
    "duration": 103,
    "start_time": "2022-04-15T22:26:04.276Z"
   },
   {
    "duration": 21,
    "start_time": "2022-04-15T22:26:04.381Z"
   },
   {
    "duration": 61,
    "start_time": "2022-04-15T22:26:04.404Z"
   },
   {
    "duration": 189,
    "start_time": "2022-04-15T22:26:04.467Z"
   },
   {
    "duration": 41,
    "start_time": "2022-04-15T22:26:04.658Z"
   },
   {
    "duration": 71,
    "start_time": "2022-04-15T22:26:04.701Z"
   },
   {
    "duration": 30,
    "start_time": "2022-04-15T22:26:04.774Z"
   },
   {
    "duration": 133,
    "start_time": "2022-04-15T22:26:04.807Z"
   },
   {
    "duration": 54,
    "start_time": "2022-04-15T22:26:04.945Z"
   },
   {
    "duration": 70,
    "start_time": "2022-04-15T22:26:05.002Z"
   },
   {
    "duration": 50,
    "start_time": "2022-04-15T22:26:05.073Z"
   },
   {
    "duration": 33,
    "start_time": "2022-04-15T22:26:05.125Z"
   },
   {
    "duration": 23,
    "start_time": "2022-04-15T22:26:05.160Z"
   },
   {
    "duration": 18,
    "start_time": "2022-04-15T22:26:05.185Z"
   },
   {
    "duration": 14,
    "start_time": "2022-04-15T22:26:05.204Z"
   },
   {
    "duration": 39,
    "start_time": "2022-04-15T22:26:05.220Z"
   },
   {
    "duration": 22,
    "start_time": "2022-04-15T22:26:05.260Z"
   },
   {
    "duration": 6,
    "start_time": "2022-04-15T22:26:05.283Z"
   },
   {
    "duration": 12,
    "start_time": "2022-04-15T22:26:05.291Z"
   },
   {
    "duration": 17,
    "start_time": "2022-04-15T22:26:05.304Z"
   },
   {
    "duration": 6,
    "start_time": "2022-04-15T22:26:05.323Z"
   },
   {
    "duration": 5,
    "start_time": "2022-04-15T22:26:05.355Z"
   },
   {
    "duration": 133,
    "start_time": "2022-04-15T22:26:05.362Z"
   },
   {
    "duration": 26,
    "start_time": "2022-04-15T22:26:05.497Z"
   },
   {
    "duration": 1476,
    "start_time": "2022-04-15T22:26:05.524Z"
   },
   {
    "duration": 8,
    "start_time": "2022-04-15T22:26:07.002Z"
   },
   {
    "duration": 10,
    "start_time": "2022-04-15T22:26:07.011Z"
   },
   {
    "duration": 59,
    "start_time": "2022-04-15T22:26:07.023Z"
   },
   {
    "duration": 23,
    "start_time": "2022-04-15T22:26:07.084Z"
   },
   {
    "duration": 3068,
    "start_time": "2022-04-15T22:26:07.110Z"
   },
   {
    "duration": 10,
    "start_time": "2022-04-15T22:26:10.181Z"
   },
   {
    "duration": 24,
    "start_time": "2022-04-15T22:26:10.193Z"
   },
   {
    "duration": 12,
    "start_time": "2022-04-15T22:27:07.091Z"
   },
   {
    "duration": 7,
    "start_time": "2022-04-15T22:31:11.357Z"
   },
   {
    "duration": 15,
    "start_time": "2022-04-15T22:31:18.930Z"
   },
   {
    "duration": 21,
    "start_time": "2022-04-15T22:32:17.428Z"
   },
   {
    "duration": 35,
    "start_time": "2022-04-15T22:35:21.858Z"
   },
   {
    "duration": 153,
    "start_time": "2022-04-15T22:41:40.345Z"
   },
   {
    "duration": 169,
    "start_time": "2022-04-15T22:41:48.795Z"
   },
   {
    "duration": 42,
    "start_time": "2022-04-15T22:41:56.580Z"
   },
   {
    "duration": 18,
    "start_time": "2022-04-15T22:42:22.564Z"
   },
   {
    "duration": 197,
    "start_time": "2022-04-15T22:43:13.044Z"
   },
   {
    "duration": 4,
    "start_time": "2022-04-15T22:43:26.234Z"
   },
   {
    "duration": 29,
    "start_time": "2022-04-15T22:43:30.020Z"
   },
   {
    "duration": 8,
    "start_time": "2022-04-15T22:44:00.813Z"
   },
   {
    "duration": 19,
    "start_time": "2022-04-15T22:44:12.890Z"
   },
   {
    "duration": 4,
    "start_time": "2022-04-15T22:49:44.396Z"
   },
   {
    "duration": 143,
    "start_time": "2022-04-15T23:02:23.209Z"
   },
   {
    "duration": 161,
    "start_time": "2022-04-15T23:06:20.994Z"
   },
   {
    "duration": 139,
    "start_time": "2022-04-15T23:10:29.712Z"
   },
   {
    "duration": 140,
    "start_time": "2022-04-15T23:13:41.896Z"
   },
   {
    "duration": 1196,
    "start_time": "2022-04-15T23:16:03.469Z"
   },
   {
    "duration": 379,
    "start_time": "2022-04-15T23:16:04.667Z"
   },
   {
    "duration": 6,
    "start_time": "2022-04-15T23:16:05.050Z"
   },
   {
    "duration": 205,
    "start_time": "2022-04-15T23:16:05.057Z"
   },
   {
    "duration": 139,
    "start_time": "2022-04-15T23:16:05.264Z"
   },
   {
    "duration": 100,
    "start_time": "2022-04-15T23:16:05.405Z"
   },
   {
    "duration": 19,
    "start_time": "2022-04-15T23:16:05.506Z"
   },
   {
    "duration": 46,
    "start_time": "2022-04-15T23:16:05.527Z"
   },
   {
    "duration": 118,
    "start_time": "2022-04-15T23:16:05.576Z"
   },
   {
    "duration": 32,
    "start_time": "2022-04-15T23:16:05.695Z"
   },
   {
    "duration": 54,
    "start_time": "2022-04-15T23:16:05.728Z"
   },
   {
    "duration": 22,
    "start_time": "2022-04-15T23:16:05.784Z"
   },
   {
    "duration": 117,
    "start_time": "2022-04-15T23:16:05.808Z"
   },
   {
    "duration": 52,
    "start_time": "2022-04-15T23:16:05.927Z"
   },
   {
    "duration": 44,
    "start_time": "2022-04-15T23:16:05.980Z"
   },
   {
    "duration": 37,
    "start_time": "2022-04-15T23:16:06.026Z"
   },
   {
    "duration": 44,
    "start_time": "2022-04-15T23:16:06.065Z"
   },
   {
    "duration": 15,
    "start_time": "2022-04-15T23:16:06.111Z"
   },
   {
    "duration": 51,
    "start_time": "2022-04-15T23:16:06.128Z"
   },
   {
    "duration": 24,
    "start_time": "2022-04-15T23:16:06.180Z"
   },
   {
    "duration": 13,
    "start_time": "2022-04-15T23:16:06.206Z"
   },
   {
    "duration": 52,
    "start_time": "2022-04-15T23:16:06.221Z"
   },
   {
    "duration": 10,
    "start_time": "2022-04-15T23:16:06.275Z"
   },
   {
    "duration": 15,
    "start_time": "2022-04-15T23:16:06.287Z"
   },
   {
    "duration": 16,
    "start_time": "2022-04-15T23:16:06.304Z"
   },
   {
    "duration": 34,
    "start_time": "2022-04-15T23:16:06.321Z"
   },
   {
    "duration": 5,
    "start_time": "2022-04-15T23:16:06.359Z"
   },
   {
    "duration": 136,
    "start_time": "2022-04-15T23:16:06.367Z"
   },
   {
    "duration": 27,
    "start_time": "2022-04-15T23:16:06.504Z"
   },
   {
    "duration": 1477,
    "start_time": "2022-04-15T23:16:06.534Z"
   },
   {
    "duration": 6,
    "start_time": "2022-04-15T23:16:08.013Z"
   },
   {
    "duration": 10,
    "start_time": "2022-04-15T23:16:08.021Z"
   },
   {
    "duration": 56,
    "start_time": "2022-04-15T23:16:08.033Z"
   },
   {
    "duration": 27,
    "start_time": "2022-04-15T23:16:08.091Z"
   },
   {
    "duration": 1918,
    "start_time": "2022-04-15T23:16:08.120Z"
   },
   {
    "duration": 17,
    "start_time": "2022-04-15T23:16:10.040Z"
   },
   {
    "duration": 17,
    "start_time": "2022-04-15T23:16:10.059Z"
   },
   {
    "duration": 1183,
    "start_time": "2022-04-15T23:18:13.474Z"
   },
   {
    "duration": 378,
    "start_time": "2022-04-15T23:18:14.659Z"
   },
   {
    "duration": 6,
    "start_time": "2022-04-15T23:18:15.038Z"
   },
   {
    "duration": 279,
    "start_time": "2022-04-15T23:18:15.046Z"
   },
   {
    "duration": 134,
    "start_time": "2022-04-15T23:18:15.327Z"
   },
   {
    "duration": 105,
    "start_time": "2022-04-15T23:18:15.462Z"
   },
   {
    "duration": 21,
    "start_time": "2022-04-15T23:18:15.568Z"
   },
   {
    "duration": 24,
    "start_time": "2022-04-15T23:18:15.591Z"
   },
   {
    "duration": 155,
    "start_time": "2022-04-15T23:18:15.617Z"
   },
   {
    "duration": 33,
    "start_time": "2022-04-15T23:18:15.776Z"
   },
   {
    "duration": 62,
    "start_time": "2022-04-15T23:18:15.810Z"
   },
   {
    "duration": 24,
    "start_time": "2022-04-15T23:18:15.874Z"
   },
   {
    "duration": 100,
    "start_time": "2022-04-15T23:18:15.900Z"
   },
   {
    "duration": 38,
    "start_time": "2022-04-15T23:18:16.002Z"
   },
   {
    "duration": 48,
    "start_time": "2022-04-15T23:18:16.041Z"
   },
   {
    "duration": 20,
    "start_time": "2022-04-15T23:18:16.090Z"
   },
   {
    "duration": 57,
    "start_time": "2022-04-15T23:18:16.112Z"
   },
   {
    "duration": 13,
    "start_time": "2022-04-15T23:18:16.171Z"
   },
   {
    "duration": 27,
    "start_time": "2022-04-15T23:18:16.186Z"
   },
   {
    "duration": 54,
    "start_time": "2022-04-15T23:18:16.216Z"
   },
   {
    "duration": 12,
    "start_time": "2022-04-15T23:18:16.272Z"
   },
   {
    "duration": 30,
    "start_time": "2022-04-15T23:18:16.286Z"
   },
   {
    "duration": 7,
    "start_time": "2022-04-15T23:18:16.318Z"
   },
   {
    "duration": 40,
    "start_time": "2022-04-15T23:18:16.326Z"
   },
   {
    "duration": 13,
    "start_time": "2022-04-15T23:18:16.368Z"
   },
   {
    "duration": 8,
    "start_time": "2022-04-15T23:18:16.383Z"
   },
   {
    "duration": 7,
    "start_time": "2022-04-15T23:18:16.393Z"
   },
   {
    "duration": 152,
    "start_time": "2022-04-15T23:18:16.403Z"
   },
   {
    "duration": 38,
    "start_time": "2022-04-15T23:18:16.557Z"
   },
   {
    "duration": 2356,
    "start_time": "2022-04-15T23:18:16.597Z"
   },
   {
    "duration": 8,
    "start_time": "2022-04-15T23:18:18.956Z"
   },
   {
    "duration": 8,
    "start_time": "2022-04-15T23:18:18.966Z"
   },
   {
    "duration": 38,
    "start_time": "2022-04-15T23:18:18.976Z"
   },
   {
    "duration": 54,
    "start_time": "2022-04-15T23:18:19.016Z"
   },
   {
    "duration": 1961,
    "start_time": "2022-04-15T23:18:19.072Z"
   },
   {
    "duration": 21,
    "start_time": "2022-04-15T23:18:21.035Z"
   },
   {
    "duration": 10,
    "start_time": "2022-04-15T23:18:21.058Z"
   },
   {
    "duration": 1256,
    "start_time": "2022-04-17T09:45:19.736Z"
   },
   {
    "duration": 431,
    "start_time": "2022-04-17T09:45:20.994Z"
   },
   {
    "duration": 5,
    "start_time": "2022-04-17T09:45:21.427Z"
   },
   {
    "duration": 177,
    "start_time": "2022-04-17T09:45:21.435Z"
   },
   {
    "duration": 134,
    "start_time": "2022-04-17T09:45:21.613Z"
   },
   {
    "duration": 97,
    "start_time": "2022-04-17T09:45:21.749Z"
   },
   {
    "duration": 21,
    "start_time": "2022-04-17T09:45:21.847Z"
   },
   {
    "duration": 24,
    "start_time": "2022-04-17T09:45:21.869Z"
   },
   {
    "duration": 162,
    "start_time": "2022-04-17T09:45:21.894Z"
   },
   {
    "duration": 36,
    "start_time": "2022-04-17T09:45:22.059Z"
   },
   {
    "duration": 62,
    "start_time": "2022-04-17T09:45:22.097Z"
   },
   {
    "duration": 25,
    "start_time": "2022-04-17T09:45:22.161Z"
   },
   {
    "duration": 98,
    "start_time": "2022-04-17T09:45:22.188Z"
   },
   {
    "duration": 46,
    "start_time": "2022-04-17T09:45:22.288Z"
   },
   {
    "duration": 44,
    "start_time": "2022-04-17T09:45:22.336Z"
   },
   {
    "duration": 21,
    "start_time": "2022-04-17T09:45:22.382Z"
   },
   {
    "duration": 42,
    "start_time": "2022-04-17T09:45:22.405Z"
   },
   {
    "duration": 15,
    "start_time": "2022-04-17T09:45:22.449Z"
   },
   {
    "duration": 30,
    "start_time": "2022-04-17T09:45:22.465Z"
   },
   {
    "duration": 45,
    "start_time": "2022-04-17T09:45:22.496Z"
   },
   {
    "duration": 9,
    "start_time": "2022-04-17T09:45:22.542Z"
   },
   {
    "duration": 22,
    "start_time": "2022-04-17T09:45:22.553Z"
   },
   {
    "duration": 7,
    "start_time": "2022-04-17T09:45:22.576Z"
   },
   {
    "duration": 15,
    "start_time": "2022-04-17T09:45:22.585Z"
   },
   {
    "duration": 39,
    "start_time": "2022-04-17T09:45:22.602Z"
   },
   {
    "duration": 9,
    "start_time": "2022-04-17T09:45:22.643Z"
   },
   {
    "duration": 5,
    "start_time": "2022-04-17T09:45:22.654Z"
   },
   {
    "duration": 177,
    "start_time": "2022-04-17T09:45:22.663Z"
   },
   {
    "duration": 29,
    "start_time": "2022-04-17T09:45:22.841Z"
   },
   {
    "duration": 1413,
    "start_time": "2022-04-17T09:45:22.872Z"
   },
   {
    "duration": 7,
    "start_time": "2022-04-17T09:45:24.287Z"
   },
   {
    "duration": 21,
    "start_time": "2022-04-17T09:45:24.296Z"
   },
   {
    "duration": 59,
    "start_time": "2022-04-17T09:45:24.318Z"
   },
   {
    "duration": 27,
    "start_time": "2022-04-17T09:45:24.379Z"
   },
   {
    "duration": 2275,
    "start_time": "2022-04-17T09:45:24.408Z"
   },
   {
    "duration": 9,
    "start_time": "2022-04-17T09:45:26.684Z"
   },
   {
    "duration": 7,
    "start_time": "2022-04-17T09:45:26.695Z"
   },
   {
    "duration": 5,
    "start_time": "2022-04-17T09:49:47.882Z"
   },
   {
    "duration": 27,
    "start_time": "2022-04-17T09:50:29.327Z"
   },
   {
    "duration": 182,
    "start_time": "2022-04-17T09:52:55.053Z"
   },
   {
    "duration": 5,
    "start_time": "2022-04-17T09:56:49.816Z"
   },
   {
    "duration": 163,
    "start_time": "2022-04-17T10:03:54.194Z"
   },
   {
    "duration": 1379,
    "start_time": "2022-04-17T15:51:55.836Z"
   },
   {
    "duration": 450,
    "start_time": "2022-04-17T15:51:57.217Z"
   },
   {
    "duration": 5,
    "start_time": "2022-04-17T15:51:57.668Z"
   },
   {
    "duration": 225,
    "start_time": "2022-04-17T15:51:57.675Z"
   },
   {
    "duration": 134,
    "start_time": "2022-04-17T15:51:57.903Z"
   },
   {
    "duration": 132,
    "start_time": "2022-04-17T15:51:58.039Z"
   },
   {
    "duration": 40,
    "start_time": "2022-04-17T15:51:58.173Z"
   },
   {
    "duration": 36,
    "start_time": "2022-04-17T15:51:58.214Z"
   },
   {
    "duration": 155,
    "start_time": "2022-04-17T15:51:58.252Z"
   },
   {
    "duration": 44,
    "start_time": "2022-04-17T15:51:58.410Z"
   },
   {
    "duration": 46,
    "start_time": "2022-04-17T15:51:58.456Z"
   },
   {
    "duration": 23,
    "start_time": "2022-04-17T15:51:58.504Z"
   },
   {
    "duration": 89,
    "start_time": "2022-04-17T15:51:58.529Z"
   },
   {
    "duration": 45,
    "start_time": "2022-04-17T15:51:58.620Z"
   },
   {
    "duration": 71,
    "start_time": "2022-04-17T15:51:58.667Z"
   },
   {
    "duration": 20,
    "start_time": "2022-04-17T15:51:58.740Z"
   },
   {
    "duration": 42,
    "start_time": "2022-04-17T15:51:58.761Z"
   },
   {
    "duration": 38,
    "start_time": "2022-04-17T15:51:58.806Z"
   },
   {
    "duration": 17,
    "start_time": "2022-04-17T15:51:58.846Z"
   },
   {
    "duration": 12,
    "start_time": "2022-04-17T15:51:58.865Z"
   },
   {
    "duration": 24,
    "start_time": "2022-04-17T15:51:58.900Z"
   },
   {
    "duration": 8,
    "start_time": "2022-04-17T15:51:58.926Z"
   },
   {
    "duration": 22,
    "start_time": "2022-04-17T15:51:58.936Z"
   },
   {
    "duration": 14,
    "start_time": "2022-04-17T15:51:58.960Z"
   },
   {
    "duration": 9,
    "start_time": "2022-04-17T15:51:59.001Z"
   },
   {
    "duration": 9,
    "start_time": "2022-04-17T15:51:59.012Z"
   },
   {
    "duration": 137,
    "start_time": "2022-04-17T15:51:59.023Z"
   },
   {
    "duration": 36,
    "start_time": "2022-04-17T15:51:59.164Z"
   },
   {
    "duration": 1398,
    "start_time": "2022-04-17T15:51:59.202Z"
   },
   {
    "duration": 6,
    "start_time": "2022-04-17T15:52:00.602Z"
   },
   {
    "duration": 14,
    "start_time": "2022-04-17T15:52:00.610Z"
   },
   {
    "duration": 39,
    "start_time": "2022-04-17T15:52:00.625Z"
   },
   {
    "duration": 49,
    "start_time": "2022-04-17T15:52:00.666Z"
   },
   {
    "duration": 2299,
    "start_time": "2022-04-17T15:52:00.717Z"
   },
   {
    "duration": 213,
    "start_time": "2022-04-17T15:52:03.018Z"
   },
   {
    "duration": 1,
    "start_time": "2022-04-17T15:52:03.233Z"
   },
   {
    "duration": 0,
    "start_time": "2022-04-17T15:52:03.235Z"
   },
   {
    "duration": 185,
    "start_time": "2022-04-17T15:55:04.948Z"
   },
   {
    "duration": 294,
    "start_time": "2022-04-17T15:55:12.932Z"
   },
   {
    "duration": 327,
    "start_time": "2022-04-17T15:55:35.661Z"
   },
   {
    "duration": 199,
    "start_time": "2022-04-17T15:56:39.074Z"
   },
   {
    "duration": 198,
    "start_time": "2022-04-17T15:57:19.749Z"
   },
   {
    "duration": 10,
    "start_time": "2022-04-17T16:10:45.797Z"
   },
   {
    "duration": 10,
    "start_time": "2022-04-17T16:10:52.260Z"
   },
   {
    "duration": 89,
    "start_time": "2022-04-17T16:15:07.254Z"
   },
   {
    "duration": 9,
    "start_time": "2022-04-17T16:15:31.654Z"
   },
   {
    "duration": 225,
    "start_time": "2022-04-17T16:15:44.977Z"
   },
   {
    "duration": 240,
    "start_time": "2022-04-17T16:15:57.848Z"
   },
   {
    "duration": 223,
    "start_time": "2022-04-17T16:16:19.488Z"
   },
   {
    "duration": 1187,
    "start_time": "2022-04-17T16:20:35.955Z"
   },
   {
    "duration": 429,
    "start_time": "2022-04-17T16:20:37.144Z"
   },
   {
    "duration": 5,
    "start_time": "2022-04-17T16:20:37.575Z"
   },
   {
    "duration": 171,
    "start_time": "2022-04-17T16:20:37.582Z"
   },
   {
    "duration": 120,
    "start_time": "2022-04-17T16:20:37.754Z"
   },
   {
    "duration": 104,
    "start_time": "2022-04-17T16:20:37.876Z"
   },
   {
    "duration": 31,
    "start_time": "2022-04-17T16:20:37.982Z"
   },
   {
    "duration": 31,
    "start_time": "2022-04-17T16:20:38.016Z"
   },
   {
    "duration": 140,
    "start_time": "2022-04-17T16:20:38.049Z"
   },
   {
    "duration": 40,
    "start_time": "2022-04-17T16:20:38.200Z"
   },
   {
    "duration": 64,
    "start_time": "2022-04-17T16:20:38.242Z"
   },
   {
    "duration": 26,
    "start_time": "2022-04-17T16:20:38.307Z"
   },
   {
    "duration": 118,
    "start_time": "2022-04-17T16:20:38.335Z"
   },
   {
    "duration": 37,
    "start_time": "2022-04-17T16:20:38.455Z"
   },
   {
    "duration": 62,
    "start_time": "2022-04-17T16:20:38.494Z"
   },
   {
    "duration": 23,
    "start_time": "2022-04-17T16:20:38.558Z"
   },
   {
    "duration": 37,
    "start_time": "2022-04-17T16:20:38.583Z"
   },
   {
    "duration": 25,
    "start_time": "2022-04-17T16:20:38.623Z"
   },
   {
    "duration": 16,
    "start_time": "2022-04-17T16:20:38.650Z"
   },
   {
    "duration": 7,
    "start_time": "2022-04-17T16:20:38.667Z"
   },
   {
    "duration": 72,
    "start_time": "2022-04-17T16:20:38.676Z"
   },
   {
    "duration": 8,
    "start_time": "2022-04-17T16:20:38.750Z"
   },
   {
    "duration": 19,
    "start_time": "2022-04-17T16:20:38.760Z"
   },
   {
    "duration": 14,
    "start_time": "2022-04-17T16:20:38.782Z"
   },
   {
    "duration": 40,
    "start_time": "2022-04-17T16:20:38.800Z"
   },
   {
    "duration": 8,
    "start_time": "2022-04-17T16:20:38.843Z"
   },
   {
    "duration": 194,
    "start_time": "2022-04-17T16:20:38.853Z"
   },
   {
    "duration": 26,
    "start_time": "2022-04-17T16:20:39.050Z"
   },
   {
    "duration": 1377,
    "start_time": "2022-04-17T16:20:39.078Z"
   },
   {
    "duration": 269,
    "start_time": "2022-04-17T16:20:40.457Z"
   },
   {
    "duration": 8,
    "start_time": "2022-04-17T16:20:40.727Z"
   },
   {
    "duration": 8,
    "start_time": "2022-04-17T16:20:40.737Z"
   },
   {
    "duration": 62,
    "start_time": "2022-04-17T16:20:40.746Z"
   },
   {
    "duration": 32,
    "start_time": "2022-04-17T16:20:40.810Z"
   },
   {
    "duration": 2227,
    "start_time": "2022-04-17T16:20:40.844Z"
   },
   {
    "duration": 408,
    "start_time": "2022-04-17T16:20:43.072Z"
   },
   {
    "duration": 7,
    "start_time": "2022-04-17T16:20:43.482Z"
   },
   {
    "duration": 15,
    "start_time": "2022-04-17T16:20:43.504Z"
   },
   {
    "duration": 1153,
    "start_time": "2022-04-17T16:37:54.122Z"
   },
   {
    "duration": 389,
    "start_time": "2022-04-17T16:37:55.277Z"
   },
   {
    "duration": 5,
    "start_time": "2022-04-17T16:37:55.668Z"
   },
   {
    "duration": 150,
    "start_time": "2022-04-17T16:37:55.675Z"
   },
   {
    "duration": 110,
    "start_time": "2022-04-17T16:37:55.826Z"
   },
   {
    "duration": 83,
    "start_time": "2022-04-17T16:37:55.937Z"
   },
   {
    "duration": 19,
    "start_time": "2022-04-17T16:37:56.022Z"
   },
   {
    "duration": 21,
    "start_time": "2022-04-17T16:37:56.042Z"
   },
   {
    "duration": 136,
    "start_time": "2022-04-17T16:37:56.065Z"
   },
   {
    "duration": 30,
    "start_time": "2022-04-17T16:37:56.204Z"
   },
   {
    "duration": 34,
    "start_time": "2022-04-17T16:37:56.236Z"
   },
   {
    "duration": 46,
    "start_time": "2022-04-17T16:37:56.272Z"
   },
   {
    "duration": 71,
    "start_time": "2022-04-17T16:37:56.320Z"
   },
   {
    "duration": 33,
    "start_time": "2022-04-17T16:37:56.401Z"
   },
   {
    "duration": 39,
    "start_time": "2022-04-17T16:37:56.436Z"
   },
   {
    "duration": 34,
    "start_time": "2022-04-17T16:37:56.477Z"
   },
   {
    "duration": 17,
    "start_time": "2022-04-17T16:37:56.512Z"
   },
   {
    "duration": 23,
    "start_time": "2022-04-17T16:37:56.530Z"
   },
   {
    "duration": 16,
    "start_time": "2022-04-17T16:37:56.555Z"
   },
   {
    "duration": 9,
    "start_time": "2022-04-17T16:37:56.600Z"
   },
   {
    "duration": 17,
    "start_time": "2022-04-17T16:37:56.610Z"
   },
   {
    "duration": 7,
    "start_time": "2022-04-17T16:37:56.628Z"
   },
   {
    "duration": 17,
    "start_time": "2022-04-17T16:37:56.636Z"
   },
   {
    "duration": 15,
    "start_time": "2022-04-17T16:37:56.654Z"
   },
   {
    "duration": 8,
    "start_time": "2022-04-17T16:37:56.700Z"
   },
   {
    "duration": 6,
    "start_time": "2022-04-17T16:37:56.710Z"
   },
   {
    "duration": 142,
    "start_time": "2022-04-17T16:37:56.718Z"
   },
   {
    "duration": 37,
    "start_time": "2022-04-17T16:37:56.864Z"
   },
   {
    "duration": 1129,
    "start_time": "2022-04-17T16:37:56.903Z"
   },
   {
    "duration": 202,
    "start_time": "2022-04-17T16:37:58.033Z"
   },
   {
    "duration": 6,
    "start_time": "2022-04-17T16:37:58.237Z"
   },
   {
    "duration": 7,
    "start_time": "2022-04-17T16:37:58.244Z"
   },
   {
    "duration": 55,
    "start_time": "2022-04-17T16:37:58.253Z"
   },
   {
    "duration": 25,
    "start_time": "2022-04-17T16:37:58.310Z"
   },
   {
    "duration": 1817,
    "start_time": "2022-04-17T16:37:58.337Z"
   },
   {
    "duration": 346,
    "start_time": "2022-04-17T16:38:00.156Z"
   },
   {
    "duration": 9,
    "start_time": "2022-04-17T16:38:00.504Z"
   },
   {
    "duration": 10,
    "start_time": "2022-04-17T16:38:00.515Z"
   },
   {
    "duration": 69,
    "start_time": "2022-04-18T12:00:11.672Z"
   },
   {
    "duration": 1523,
    "start_time": "2022-04-18T12:00:17.151Z"
   },
   {
    "duration": 525,
    "start_time": "2022-04-18T12:00:18.677Z"
   },
   {
    "duration": 7,
    "start_time": "2022-04-18T12:00:19.204Z"
   },
   {
    "duration": 225,
    "start_time": "2022-04-18T12:00:19.214Z"
   },
   {
    "duration": 184,
    "start_time": "2022-04-18T12:00:19.441Z"
   },
   {
    "duration": 176,
    "start_time": "2022-04-18T12:00:19.628Z"
   },
   {
    "duration": 39,
    "start_time": "2022-04-18T12:00:19.807Z"
   },
   {
    "duration": 62,
    "start_time": "2022-04-18T12:00:19.849Z"
   },
   {
    "duration": 198,
    "start_time": "2022-04-18T12:00:19.913Z"
   },
   {
    "duration": 45,
    "start_time": "2022-04-18T12:00:20.115Z"
   },
   {
    "duration": 71,
    "start_time": "2022-04-18T12:00:20.162Z"
   },
   {
    "duration": 59,
    "start_time": "2022-04-18T12:00:20.235Z"
   },
   {
    "duration": 117,
    "start_time": "2022-04-18T12:00:20.297Z"
   },
   {
    "duration": 49,
    "start_time": "2022-04-18T12:00:20.416Z"
   },
   {
    "duration": 74,
    "start_time": "2022-04-18T12:00:20.467Z"
   },
   {
    "duration": 54,
    "start_time": "2022-04-18T12:00:20.543Z"
   },
   {
    "duration": 34,
    "start_time": "2022-04-18T12:00:20.600Z"
   },
   {
    "duration": 78,
    "start_time": "2022-04-18T12:00:20.636Z"
   },
   {
    "duration": 28,
    "start_time": "2022-04-18T12:00:20.716Z"
   },
   {
    "duration": 14,
    "start_time": "2022-04-18T12:00:20.747Z"
   },
   {
    "duration": 38,
    "start_time": "2022-04-18T12:00:20.794Z"
   },
   {
    "duration": 12,
    "start_time": "2022-04-18T12:00:20.835Z"
   },
   {
    "duration": 56,
    "start_time": "2022-04-18T12:00:20.850Z"
   },
   {
    "duration": 16,
    "start_time": "2022-04-18T12:00:20.908Z"
   },
   {
    "duration": 13,
    "start_time": "2022-04-18T12:00:20.926Z"
   },
   {
    "duration": 8,
    "start_time": "2022-04-18T12:00:20.941Z"
   },
   {
    "duration": 224,
    "start_time": "2022-04-18T12:00:20.992Z"
   },
   {
    "duration": 7,
    "start_time": "2022-04-18T12:00:21.220Z"
   },
   {
    "duration": 67,
    "start_time": "2022-04-18T12:00:21.230Z"
   },
   {
    "duration": 2128,
    "start_time": "2022-04-18T12:00:21.301Z"
   },
   {
    "duration": 441,
    "start_time": "2022-04-18T12:00:23.431Z"
   },
   {
    "duration": 2158,
    "start_time": "2022-04-18T12:00:23.875Z"
   },
   {
    "duration": 9,
    "start_time": "2022-04-18T12:00:26.035Z"
   },
   {
    "duration": 15,
    "start_time": "2022-04-18T12:00:26.046Z"
   },
   {
    "duration": 79,
    "start_time": "2022-04-18T12:00:26.063Z"
   },
   {
    "duration": 62,
    "start_time": "2022-04-18T12:00:26.144Z"
   },
   {
    "duration": 4647,
    "start_time": "2022-04-18T12:00:26.208Z"
   },
   {
    "duration": 454,
    "start_time": "2022-04-18T12:00:30.858Z"
   },
   {
    "duration": 2444,
    "start_time": "2022-04-18T12:00:31.315Z"
   },
   {
    "duration": 10,
    "start_time": "2022-04-18T12:00:33.761Z"
   },
   {
    "duration": 31,
    "start_time": "2022-04-18T12:00:33.773Z"
   },
   {
    "duration": 326,
    "start_time": "2022-04-18T12:01:34.141Z"
   },
   {
    "duration": 219,
    "start_time": "2022-04-18T12:05:58.691Z"
   },
   {
    "duration": 227,
    "start_time": "2022-04-18T12:21:35.771Z"
   },
   {
    "duration": 494,
    "start_time": "2022-04-18T12:25:27.890Z"
   },
   {
    "duration": 1628,
    "start_time": "2022-04-18T12:27:16.789Z"
   },
   {
    "duration": 525,
    "start_time": "2022-04-18T12:27:18.420Z"
   },
   {
    "duration": 8,
    "start_time": "2022-04-18T12:27:18.947Z"
   },
   {
    "duration": 226,
    "start_time": "2022-04-18T12:27:18.957Z"
   },
   {
    "duration": 185,
    "start_time": "2022-04-18T12:27:19.195Z"
   },
   {
    "duration": 132,
    "start_time": "2022-04-18T12:27:19.382Z"
   },
   {
    "duration": 40,
    "start_time": "2022-04-18T12:27:19.518Z"
   },
   {
    "duration": 68,
    "start_time": "2022-04-18T12:27:19.561Z"
   },
   {
    "duration": 276,
    "start_time": "2022-04-18T12:27:19.632Z"
   },
   {
    "duration": 46,
    "start_time": "2022-04-18T12:27:19.910Z"
   },
   {
    "duration": 67,
    "start_time": "2022-04-18T12:27:19.958Z"
   },
   {
    "duration": 33,
    "start_time": "2022-04-18T12:27:20.027Z"
   },
   {
    "duration": 132,
    "start_time": "2022-04-18T12:27:20.062Z"
   },
   {
    "duration": 49,
    "start_time": "2022-04-18T12:27:20.198Z"
   },
   {
    "duration": 84,
    "start_time": "2022-04-18T12:27:20.249Z"
   },
   {
    "duration": 29,
    "start_time": "2022-04-18T12:27:20.334Z"
   },
   {
    "duration": 49,
    "start_time": "2022-04-18T12:27:20.365Z"
   },
   {
    "duration": 44,
    "start_time": "2022-04-18T12:27:20.416Z"
   },
   {
    "duration": 44,
    "start_time": "2022-04-18T12:27:20.462Z"
   },
   {
    "duration": 12,
    "start_time": "2022-04-18T12:27:20.508Z"
   },
   {
    "duration": 29,
    "start_time": "2022-04-18T12:27:20.522Z"
   },
   {
    "duration": 41,
    "start_time": "2022-04-18T12:27:20.554Z"
   },
   {
    "duration": 26,
    "start_time": "2022-04-18T12:27:20.598Z"
   },
   {
    "duration": 23,
    "start_time": "2022-04-18T12:27:20.626Z"
   },
   {
    "duration": 46,
    "start_time": "2022-04-18T12:27:20.652Z"
   },
   {
    "duration": 8,
    "start_time": "2022-04-18T12:27:20.701Z"
   },
   {
    "duration": 256,
    "start_time": "2022-04-18T12:27:20.711Z"
   },
   {
    "duration": 48,
    "start_time": "2022-04-18T12:27:20.970Z"
   },
   {
    "duration": 2059,
    "start_time": "2022-04-18T12:27:21.021Z"
   },
   {
    "duration": 384,
    "start_time": "2022-04-18T12:27:23.084Z"
   },
   {
    "duration": 2746,
    "start_time": "2022-04-18T12:27:23.471Z"
   },
   {
    "duration": 11,
    "start_time": "2022-04-18T12:27:26.220Z"
   },
   {
    "duration": 27,
    "start_time": "2022-04-18T12:27:26.233Z"
   },
   {
    "duration": 96,
    "start_time": "2022-04-18T12:27:26.262Z"
   },
   {
    "duration": 58,
    "start_time": "2022-04-18T12:27:26.361Z"
   },
   {
    "duration": 3488,
    "start_time": "2022-04-18T12:27:26.421Z"
   },
   {
    "duration": 445,
    "start_time": "2022-04-18T12:27:29.911Z"
   },
   {
    "duration": 3336,
    "start_time": "2022-04-18T12:27:30.359Z"
   },
   {
    "duration": 21,
    "start_time": "2022-04-18T12:27:33.698Z"
   },
   {
    "duration": 18,
    "start_time": "2022-04-18T12:27:33.722Z"
   },
   {
    "duration": 497,
    "start_time": "2022-04-18T12:30:02.380Z"
   },
   {
    "duration": 214,
    "start_time": "2022-04-18T12:32:34.943Z"
   },
   {
    "duration": 2088,
    "start_time": "2022-04-18T12:47:02.352Z"
   },
   {
    "duration": 728,
    "start_time": "2022-04-18T12:47:04.444Z"
   },
   {
    "duration": 10,
    "start_time": "2022-04-18T12:47:05.179Z"
   },
   {
    "duration": 318,
    "start_time": "2022-04-18T12:47:05.194Z"
   },
   {
    "duration": 267,
    "start_time": "2022-04-18T12:47:05.514Z"
   },
   {
    "duration": 201,
    "start_time": "2022-04-18T12:47:05.784Z"
   },
   {
    "duration": 42,
    "start_time": "2022-04-18T12:47:05.988Z"
   },
   {
    "duration": 82,
    "start_time": "2022-04-18T12:47:06.033Z"
   },
   {
    "duration": 276,
    "start_time": "2022-04-18T12:47:06.119Z"
   },
   {
    "duration": 65,
    "start_time": "2022-04-18T12:47:06.400Z"
   },
   {
    "duration": 84,
    "start_time": "2022-04-18T12:47:06.467Z"
   },
   {
    "duration": 66,
    "start_time": "2022-04-18T12:47:06.554Z"
   },
   {
    "duration": 163,
    "start_time": "2022-04-18T12:47:06.623Z"
   },
   {
    "duration": 69,
    "start_time": "2022-04-18T12:47:06.789Z"
   },
   {
    "duration": 103,
    "start_time": "2022-04-18T12:47:06.862Z"
   },
   {
    "duration": 67,
    "start_time": "2022-04-18T12:47:06.968Z"
   },
   {
    "duration": 79,
    "start_time": "2022-04-18T12:47:07.038Z"
   },
   {
    "duration": 60,
    "start_time": "2022-04-18T12:47:07.120Z"
   },
   {
    "duration": 44,
    "start_time": "2022-04-18T12:47:07.183Z"
   },
   {
    "duration": 16,
    "start_time": "2022-04-18T12:47:07.230Z"
   },
   {
    "duration": 45,
    "start_time": "2022-04-18T12:47:07.249Z"
   },
   {
    "duration": 13,
    "start_time": "2022-04-18T12:47:07.297Z"
   },
   {
    "duration": 44,
    "start_time": "2022-04-18T12:47:07.313Z"
   },
   {
    "duration": 23,
    "start_time": "2022-04-18T12:47:07.359Z"
   },
   {
    "duration": 35,
    "start_time": "2022-04-18T12:47:07.384Z"
   },
   {
    "duration": 12,
    "start_time": "2022-04-18T12:47:07.422Z"
   },
   {
    "duration": 401,
    "start_time": "2022-04-18T12:47:07.437Z"
   },
   {
    "duration": 51,
    "start_time": "2022-04-18T12:47:07.844Z"
   },
   {
    "duration": 3819,
    "start_time": "2022-04-18T12:47:07.898Z"
   },
   {
    "duration": 508,
    "start_time": "2022-04-18T12:47:11.719Z"
   },
   {
    "duration": 2444,
    "start_time": "2022-04-18T12:47:12.230Z"
   },
   {
    "duration": 19,
    "start_time": "2022-04-18T12:47:14.676Z"
   },
   {
    "duration": 37,
    "start_time": "2022-04-18T12:47:14.698Z"
   },
   {
    "duration": 87,
    "start_time": "2022-04-18T12:47:14.737Z"
   },
   {
    "duration": 59,
    "start_time": "2022-04-18T12:47:14.827Z"
   },
   {
    "duration": 4135,
    "start_time": "2022-04-18T12:47:14.893Z"
   },
   {
    "duration": 612,
    "start_time": "2022-04-18T12:47:19.032Z"
   },
   {
    "duration": 2855,
    "start_time": "2022-04-18T12:47:19.647Z"
   },
   {
    "duration": 24,
    "start_time": "2022-04-18T12:47:22.505Z"
   },
   {
    "duration": 33,
    "start_time": "2022-04-18T12:47:22.532Z"
   }
  ],
  "kernelspec": {
   "display_name": "Python 3 (ipykernel)",
   "language": "python",
   "name": "python3"
  },
  "language_info": {
   "codemirror_mode": {
    "name": "ipython",
    "version": 3
   },
   "file_extension": ".py",
   "mimetype": "text/x-python",
   "name": "python",
   "nbconvert_exporter": "python",
   "pygments_lexer": "ipython3",
   "version": "3.9.12"
  },
  "toc": {
   "base_numbering": 1,
   "nav_menu": {},
   "number_sections": true,
   "sideBar": true,
   "skip_h1_title": true,
   "title_cell": "Table of Contents",
   "title_sidebar": "Contents",
   "toc_cell": false,
   "toc_position": {},
   "toc_section_display": true,
   "toc_window_display": false
  }
 },
 "nbformat": 4,
 "nbformat_minor": 5
}
