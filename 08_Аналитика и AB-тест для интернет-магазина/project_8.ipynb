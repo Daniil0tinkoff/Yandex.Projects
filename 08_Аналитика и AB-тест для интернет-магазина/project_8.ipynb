{
 "cells": [
  {
   "cell_type": "markdown",
   "id": "ca7cc8f3",
   "metadata": {},
   "source": [
    "# Принятие решений в бизнесе\n",
    "В нашем распоряжении 9 гипотез.\n",
    "Необходимо сприоритизировать гипотезы, запустить А/В-тест и проанализировать результаты\n",
    "## Описание данных\n",
    "### Данные для первой части\n",
    "**Файл hypothesis**\n",
    "* Hypothesis — краткое описание гипотезы;\n",
    "* Reach — охват пользователей по 10-балльной шкале;\n",
    "* Impact — влияние на пользователей по 10-балльной шкале;\n",
    "* Confidence — уверенность в гипотезе по 10-балльной шкале;\n",
    "* Efforts — затраты ресурсов на проверку гипотезы по 10-балльной шкале.\n",
    "\n",
    "### Данные для второй части\n",
    "\n",
    "**Файл orders**\n",
    "* transactionId — идентификатор заказа;\n",
    "* visitorId — идентификатор пользователя, совершившего заказ;\n",
    "* date — дата, когда был совершён заказ;\n",
    "* revenue — выручка заказа;\n",
    "* group — группа A/B-теста, в которую попал заказ.\n",
    "\n",
    "**visitors**\n",
    "* date — дата;\n",
    "* group — группа A/B-теста;\n",
    "* visitors — количество пользователей в указанную дату в указанной группе A/B-теста.\n",
    "\n",
    "### Часть 1. Приоритизация гипотез.\n",
    "**Задача**\n",
    "* Примените фреймворк ICE для приоритизации гипотез. Отсортируйте их по убыванию приоритета.\n",
    "* Примените фреймворк RICE для приоритизации гипотез. Отсортируйте их по убыванию приоритета.\n",
    "* Укажите, как изменилась приоритизация гипотез при применении RICE вместо ICE. Объясните, почему так произошло.\n",
    "\n",
    "### Часть 2. Анализ A/B-теста.\n",
    "**Задача**\n",
    "* Постройте график кумулятивной выручки по группам. Сделайте выводы и предположения.\n",
    "* Постройте график кумулятивного среднего чека по группам. Сделайте выводы и предположения.\n",
    "* Постройте график относительного изменения кумулятивного среднего чека группы B к группе A. Сделайте выводы и предположения.\n",
    "* Постройте график кумулятивной конверсии по группам. Сделайте выводы и предположения.\n",
    "* Постройте график относительного изменения кумулятивной конверсии группы B к группе A. Сделайте выводы и предположения.\n",
    "* Постройте точечный график количества заказов по пользователям. Сделайте выводы и предположения.\n",
    "* Посчитайте 95-й и 99-й перцентили количества заказов на пользователя. Выберите границу для определения аномальных пользователей.\n",
    "* Постройте точечный график стоимостей заказов. Сделайте выводы и предположения.\n",
    "* Посчитайте 95-й и 99-й перцентили стоимости заказов. Выберите границу для определения аномальных заказов.\n",
    "* Посчитайте статистическую значимость различий в конверсии между группами по «сырым» данным. Сделайте выводы и предположения.\n",
    "* Посчитайте статистическую значимость различий в среднем чеке заказа между группами по «сырым» данным. Сделайте выводы и предположения.\n",
    "* Посчитайте статистическую значимость различий в конверсии между группами по «очищенным» данным. Сделайте выводы и предположения.\n",
    "* Посчитайте статистическую значимость различий в среднем чеке заказа между группами по «очищенным» данным. Сделайте выводы и предположения.\n",
    "* Примите решение по результатам теста и объясните его. Варианты решений: 1. Остановить тест, зафиксировать победу одной из групп. 2. Остановить тест, зафиксировать отсутствие различий между группами. 3. Продолжить тест.\n",
    "\n",
    "\n"
   ]
  },
  {
   "cell_type": "code",
   "execution_count": null,
   "id": "f34c4194",
   "metadata": {},
   "outputs": [],
   "source": []
  },
  {
   "cell_type": "markdown",
   "id": "751882bf",
   "metadata": {},
   "source": [
    "## Загрузка данных и подготовка их к анализу."
   ]
  },
  {
   "cell_type": "code",
   "execution_count": 1,
   "id": "b91d48ac",
   "metadata": {},
   "outputs": [],
   "source": [
    "# импортируем библиотеки\n",
    "import pandas as pd\n",
    "import math\n",
    "import numpy as np\n",
    "import matplotlib.pyplot as plt\n",
    "from scipy import stats as st\n",
    "import seaborn as sns\n",
    "import datetime\n",
    "from datetime import datetime, timedelta\n",
    "import math"
   ]
  },
  {
   "cell_type": "code",
   "execution_count": 2,
   "id": "fb3f4369",
   "metadata": {},
   "outputs": [],
   "source": [
    "# укажем параметр для отображения всех столбцов\n",
    "pd.set_option('display.max_columns', 30)"
   ]
  },
  {
   "cell_type": "code",
   "execution_count": 3,
   "id": "9023055d",
   "metadata": {},
   "outputs": [],
   "source": [
    "# прочитаем файлы:\n",
    "\n",
    "try:\n",
    "    hyp = pd.read_csv('hypothesis.csv')\n",
    "    orders = pd.read_csv('orders.csv')\n",
    "    visitors = pd.read_csv('visitors.csv')\n",
    "except:\n",
    "    try:\n",
    "        hyp = pd.read_csv('/datasets/hypothesis.csv')\n",
    "        orders = pd.read_csv('/datasets/orders.csv')\n",
    "        visitors = pd.read_csv('/datasets/visitors.csv')\n",
    "    except:\n",
    "        hyp = pd.read_csv('https://code.s3.yandex.net/datasets/hypothesis.csv')\n",
    "        orders = pd.read_csv('https://code.s3.yandex.net/datasets/orders.csv')\n",
    "        visitors = pd.read_csv('https://code.s3.yandex.net/datasets/visitors.csv')"
   ]
  },
  {
   "cell_type": "code",
   "execution_count": 4,
   "id": "516491d3",
   "metadata": {},
   "outputs": [
    {
     "name": "stdout",
     "output_type": "stream",
     "text": [
      "<class 'pandas.core.frame.DataFrame'>\n",
      "RangeIndex: 9 entries, 0 to 8\n",
      "Data columns (total 5 columns):\n",
      " #   Column      Non-Null Count  Dtype \n",
      "---  ------      --------------  ----- \n",
      " 0   Hypothesis  9 non-null      object\n",
      " 1   Reach       9 non-null      int64 \n",
      " 2   Impact      9 non-null      int64 \n",
      " 3   Confidence  9 non-null      int64 \n",
      " 4   Efforts     9 non-null      int64 \n",
      "dtypes: int64(4), object(1)\n",
      "memory usage: 488.0+ bytes\n"
     ]
    }
   ],
   "source": [
    "hyp.info()"
   ]
  },
  {
   "cell_type": "code",
   "execution_count": 5,
   "id": "eab9a7cc",
   "metadata": {},
   "outputs": [
    {
     "data": {
      "text/html": [
       "<div>\n",
       "<style scoped>\n",
       "    .dataframe tbody tr th:only-of-type {\n",
       "        vertical-align: middle;\n",
       "    }\n",
       "\n",
       "    .dataframe tbody tr th {\n",
       "        vertical-align: top;\n",
       "    }\n",
       "\n",
       "    .dataframe thead th {\n",
       "        text-align: right;\n",
       "    }\n",
       "</style>\n",
       "<table border=\"1\" class=\"dataframe\">\n",
       "  <thead>\n",
       "    <tr style=\"text-align: right;\">\n",
       "      <th></th>\n",
       "      <th>Hypothesis</th>\n",
       "      <th>Reach</th>\n",
       "      <th>Impact</th>\n",
       "      <th>Confidence</th>\n",
       "      <th>Efforts</th>\n",
       "    </tr>\n",
       "  </thead>\n",
       "  <tbody>\n",
       "    <tr>\n",
       "      <th>0</th>\n",
       "      <td>Добавить два новых канала привлечения трафика,...</td>\n",
       "      <td>3</td>\n",
       "      <td>10</td>\n",
       "      <td>8</td>\n",
       "      <td>6</td>\n",
       "    </tr>\n",
       "    <tr>\n",
       "      <th>1</th>\n",
       "      <td>Запустить собственную службу доставки, что сок...</td>\n",
       "      <td>2</td>\n",
       "      <td>5</td>\n",
       "      <td>4</td>\n",
       "      <td>10</td>\n",
       "    </tr>\n",
       "    <tr>\n",
       "      <th>2</th>\n",
       "      <td>Добавить блоки рекомендаций товаров на сайт ин...</td>\n",
       "      <td>8</td>\n",
       "      <td>3</td>\n",
       "      <td>7</td>\n",
       "      <td>3</td>\n",
       "    </tr>\n",
       "    <tr>\n",
       "      <th>3</th>\n",
       "      <td>Изменить структура категорий, что увеличит кон...</td>\n",
       "      <td>8</td>\n",
       "      <td>3</td>\n",
       "      <td>3</td>\n",
       "      <td>8</td>\n",
       "    </tr>\n",
       "    <tr>\n",
       "      <th>4</th>\n",
       "      <td>Изменить цвет фона главной страницы, чтобы уве...</td>\n",
       "      <td>3</td>\n",
       "      <td>1</td>\n",
       "      <td>1</td>\n",
       "      <td>1</td>\n",
       "    </tr>\n",
       "    <tr>\n",
       "      <th>5</th>\n",
       "      <td>Добавить страницу отзывов клиентов о магазине,...</td>\n",
       "      <td>3</td>\n",
       "      <td>2</td>\n",
       "      <td>2</td>\n",
       "      <td>3</td>\n",
       "    </tr>\n",
       "    <tr>\n",
       "      <th>6</th>\n",
       "      <td>Показать на главной странице баннеры с актуаль...</td>\n",
       "      <td>5</td>\n",
       "      <td>3</td>\n",
       "      <td>8</td>\n",
       "      <td>3</td>\n",
       "    </tr>\n",
       "    <tr>\n",
       "      <th>7</th>\n",
       "      <td>Добавить форму подписки на все основные страни...</td>\n",
       "      <td>10</td>\n",
       "      <td>7</td>\n",
       "      <td>8</td>\n",
       "      <td>5</td>\n",
       "    </tr>\n",
       "    <tr>\n",
       "      <th>8</th>\n",
       "      <td>Запустить акцию, дающую скидку на товар в день...</td>\n",
       "      <td>1</td>\n",
       "      <td>9</td>\n",
       "      <td>9</td>\n",
       "      <td>5</td>\n",
       "    </tr>\n",
       "  </tbody>\n",
       "</table>\n",
       "</div>"
      ],
      "text/plain": [
       "                                          Hypothesis  Reach  Impact  \\\n",
       "0  Добавить два новых канала привлечения трафика,...      3      10   \n",
       "1  Запустить собственную службу доставки, что сок...      2       5   \n",
       "2  Добавить блоки рекомендаций товаров на сайт ин...      8       3   \n",
       "3  Изменить структура категорий, что увеличит кон...      8       3   \n",
       "4  Изменить цвет фона главной страницы, чтобы уве...      3       1   \n",
       "5  Добавить страницу отзывов клиентов о магазине,...      3       2   \n",
       "6  Показать на главной странице баннеры с актуаль...      5       3   \n",
       "7  Добавить форму подписки на все основные страни...     10       7   \n",
       "8  Запустить акцию, дающую скидку на товар в день...      1       9   \n",
       "\n",
       "   Confidence  Efforts  \n",
       "0           8        6  \n",
       "1           4       10  \n",
       "2           7        3  \n",
       "3           3        8  \n",
       "4           1        1  \n",
       "5           2        3  \n",
       "6           8        3  \n",
       "7           8        5  \n",
       "8           9        5  "
      ]
     },
     "execution_count": 5,
     "metadata": {},
     "output_type": "execute_result"
    }
   ],
   "source": [
    "hyp.head(10)"
   ]
  },
  {
   "cell_type": "markdown",
   "id": "812e64ba",
   "metadata": {},
   "source": [
    "Видим, что названия столбцов начинаются с заглавной буквы"
   ]
  },
  {
   "cell_type": "code",
   "execution_count": 6,
   "id": "d4b341db",
   "metadata": {},
   "outputs": [
    {
     "data": {
      "text/html": [
       "<div>\n",
       "<style scoped>\n",
       "    .dataframe tbody tr th:only-of-type {\n",
       "        vertical-align: middle;\n",
       "    }\n",
       "\n",
       "    .dataframe tbody tr th {\n",
       "        vertical-align: top;\n",
       "    }\n",
       "\n",
       "    .dataframe thead th {\n",
       "        text-align: right;\n",
       "    }\n",
       "</style>\n",
       "<table border=\"1\" class=\"dataframe\">\n",
       "  <thead>\n",
       "    <tr style=\"text-align: right;\">\n",
       "      <th></th>\n",
       "      <th>hypothesis</th>\n",
       "      <th>reach</th>\n",
       "      <th>impact</th>\n",
       "      <th>confidence</th>\n",
       "      <th>efforts</th>\n",
       "    </tr>\n",
       "  </thead>\n",
       "  <tbody>\n",
       "    <tr>\n",
       "      <th>0</th>\n",
       "      <td>Добавить два новых канала привлечения трафика,...</td>\n",
       "      <td>3</td>\n",
       "      <td>10</td>\n",
       "      <td>8</td>\n",
       "      <td>6</td>\n",
       "    </tr>\n",
       "    <tr>\n",
       "      <th>1</th>\n",
       "      <td>Запустить собственную службу доставки, что сок...</td>\n",
       "      <td>2</td>\n",
       "      <td>5</td>\n",
       "      <td>4</td>\n",
       "      <td>10</td>\n",
       "    </tr>\n",
       "    <tr>\n",
       "      <th>2</th>\n",
       "      <td>Добавить блоки рекомендаций товаров на сайт ин...</td>\n",
       "      <td>8</td>\n",
       "      <td>3</td>\n",
       "      <td>7</td>\n",
       "      <td>3</td>\n",
       "    </tr>\n",
       "    <tr>\n",
       "      <th>3</th>\n",
       "      <td>Изменить структура категорий, что увеличит кон...</td>\n",
       "      <td>8</td>\n",
       "      <td>3</td>\n",
       "      <td>3</td>\n",
       "      <td>8</td>\n",
       "    </tr>\n",
       "    <tr>\n",
       "      <th>4</th>\n",
       "      <td>Изменить цвет фона главной страницы, чтобы уве...</td>\n",
       "      <td>3</td>\n",
       "      <td>1</td>\n",
       "      <td>1</td>\n",
       "      <td>1</td>\n",
       "    </tr>\n",
       "  </tbody>\n",
       "</table>\n",
       "</div>"
      ],
      "text/plain": [
       "                                          hypothesis  reach  impact  \\\n",
       "0  Добавить два новых канала привлечения трафика,...      3      10   \n",
       "1  Запустить собственную службу доставки, что сок...      2       5   \n",
       "2  Добавить блоки рекомендаций товаров на сайт ин...      8       3   \n",
       "3  Изменить структура категорий, что увеличит кон...      8       3   \n",
       "4  Изменить цвет фона главной страницы, чтобы уве...      3       1   \n",
       "\n",
       "   confidence  efforts  \n",
       "0           8        6  \n",
       "1           4       10  \n",
       "2           7        3  \n",
       "3           3        8  \n",
       "4           1        1  "
      ]
     },
     "execution_count": 6,
     "metadata": {},
     "output_type": "execute_result"
    }
   ],
   "source": [
    "# приведем названия столбцов к нижнему регистур и змеиному написанию столбцов\n",
    "hyp = hyp.rename(columns=lambda col: col.lower())\n",
    "\n",
    "hyp.head()"
   ]
  },
  {
   "cell_type": "code",
   "execution_count": 7,
   "id": "821fdf5d",
   "metadata": {},
   "outputs": [
    {
     "name": "stdout",
     "output_type": "stream",
     "text": [
      "<class 'pandas.core.frame.DataFrame'>\n",
      "RangeIndex: 1197 entries, 0 to 1196\n",
      "Data columns (total 5 columns):\n",
      " #   Column         Non-Null Count  Dtype \n",
      "---  ------         --------------  ----- \n",
      " 0   transactionId  1197 non-null   int64 \n",
      " 1   visitorId      1197 non-null   int64 \n",
      " 2   date           1197 non-null   object\n",
      " 3   revenue        1197 non-null   int64 \n",
      " 4   group          1197 non-null   object\n",
      "dtypes: int64(3), object(2)\n",
      "memory usage: 46.9+ KB\n"
     ]
    }
   ],
   "source": [
    "orders.info()"
   ]
  },
  {
   "cell_type": "code",
   "execution_count": 8,
   "id": "7b16d624",
   "metadata": {},
   "outputs": [
    {
     "data": {
      "text/html": [
       "<div>\n",
       "<style scoped>\n",
       "    .dataframe tbody tr th:only-of-type {\n",
       "        vertical-align: middle;\n",
       "    }\n",
       "\n",
       "    .dataframe tbody tr th {\n",
       "        vertical-align: top;\n",
       "    }\n",
       "\n",
       "    .dataframe thead th {\n",
       "        text-align: right;\n",
       "    }\n",
       "</style>\n",
       "<table border=\"1\" class=\"dataframe\">\n",
       "  <thead>\n",
       "    <tr style=\"text-align: right;\">\n",
       "      <th></th>\n",
       "      <th>transactionId</th>\n",
       "      <th>visitorId</th>\n",
       "      <th>date</th>\n",
       "      <th>revenue</th>\n",
       "      <th>group</th>\n",
       "    </tr>\n",
       "  </thead>\n",
       "  <tbody>\n",
       "    <tr>\n",
       "      <th>0</th>\n",
       "      <td>3667963787</td>\n",
       "      <td>3312258926</td>\n",
       "      <td>2019-08-15</td>\n",
       "      <td>1650</td>\n",
       "      <td>B</td>\n",
       "    </tr>\n",
       "    <tr>\n",
       "      <th>1</th>\n",
       "      <td>2804400009</td>\n",
       "      <td>3642806036</td>\n",
       "      <td>2019-08-15</td>\n",
       "      <td>730</td>\n",
       "      <td>B</td>\n",
       "    </tr>\n",
       "    <tr>\n",
       "      <th>2</th>\n",
       "      <td>2961555356</td>\n",
       "      <td>4069496402</td>\n",
       "      <td>2019-08-15</td>\n",
       "      <td>400</td>\n",
       "      <td>A</td>\n",
       "    </tr>\n",
       "    <tr>\n",
       "      <th>3</th>\n",
       "      <td>3797467345</td>\n",
       "      <td>1196621759</td>\n",
       "      <td>2019-08-15</td>\n",
       "      <td>9759</td>\n",
       "      <td>B</td>\n",
       "    </tr>\n",
       "    <tr>\n",
       "      <th>4</th>\n",
       "      <td>2282983706</td>\n",
       "      <td>2322279887</td>\n",
       "      <td>2019-08-15</td>\n",
       "      <td>2308</td>\n",
       "      <td>B</td>\n",
       "    </tr>\n",
       "  </tbody>\n",
       "</table>\n",
       "</div>"
      ],
      "text/plain": [
       "   transactionId   visitorId        date  revenue group\n",
       "0     3667963787  3312258926  2019-08-15     1650     B\n",
       "1     2804400009  3642806036  2019-08-15      730     B\n",
       "2     2961555356  4069496402  2019-08-15      400     A\n",
       "3     3797467345  1196621759  2019-08-15     9759     B\n",
       "4     2282983706  2322279887  2019-08-15     2308     B"
      ]
     },
     "execution_count": 8,
     "metadata": {},
     "output_type": "execute_result"
    }
   ],
   "source": [
    "orders.head()"
   ]
  },
  {
   "cell_type": "markdown",
   "id": "3c880525",
   "metadata": {},
   "source": [
    "Видим, что названия 1 и 2 столбца имеют неправильно написание, приведем к змеиному. Столбцы с датой имеют неверный тип данных, нужно поменять на dt."
   ]
  },
  {
   "cell_type": "code",
   "execution_count": 9,
   "id": "2290d896",
   "metadata": {},
   "outputs": [],
   "source": [
    "# скорректируем названия столбцов\n",
    "orders = orders.rename(columns={'transactionId': 'transaction_id', 'visitorId': 'visitor_id'})"
   ]
  },
  {
   "cell_type": "code",
   "execution_count": 10,
   "id": "184c0ae1",
   "metadata": {},
   "outputs": [],
   "source": [
    "# приведем тип данных столбца date\n",
    "orders['date'] = pd.to_datetime(orders['date'])"
   ]
  },
  {
   "cell_type": "code",
   "execution_count": 11,
   "id": "65c81d7c",
   "metadata": {},
   "outputs": [
    {
     "name": "stdout",
     "output_type": "stream",
     "text": [
      "<class 'pandas.core.frame.DataFrame'>\n",
      "RangeIndex: 1197 entries, 0 to 1196\n",
      "Data columns (total 5 columns):\n",
      " #   Column          Non-Null Count  Dtype         \n",
      "---  ------          --------------  -----         \n",
      " 0   transaction_id  1197 non-null   int64         \n",
      " 1   visitor_id      1197 non-null   int64         \n",
      " 2   date            1197 non-null   datetime64[ns]\n",
      " 3   revenue         1197 non-null   int64         \n",
      " 4   group           1197 non-null   object        \n",
      "dtypes: datetime64[ns](1), int64(3), object(1)\n",
      "memory usage: 46.9+ KB\n"
     ]
    }
   ],
   "source": [
    "orders.info()"
   ]
  },
  {
   "cell_type": "code",
   "execution_count": 12,
   "id": "4e5d7b46",
   "metadata": {},
   "outputs": [
    {
     "name": "stdout",
     "output_type": "stream",
     "text": [
      "<class 'pandas.core.frame.DataFrame'>\n",
      "RangeIndex: 62 entries, 0 to 61\n",
      "Data columns (total 3 columns):\n",
      " #   Column    Non-Null Count  Dtype \n",
      "---  ------    --------------  ----- \n",
      " 0   date      62 non-null     object\n",
      " 1   group     62 non-null     object\n",
      " 2   visitors  62 non-null     int64 \n",
      "dtypes: int64(1), object(2)\n",
      "memory usage: 1.6+ KB\n"
     ]
    }
   ],
   "source": [
    "visitors.info()"
   ]
  },
  {
   "cell_type": "code",
   "execution_count": 13,
   "id": "f6846fa4",
   "metadata": {},
   "outputs": [
    {
     "data": {
      "text/html": [
       "<div>\n",
       "<style scoped>\n",
       "    .dataframe tbody tr th:only-of-type {\n",
       "        vertical-align: middle;\n",
       "    }\n",
       "\n",
       "    .dataframe tbody tr th {\n",
       "        vertical-align: top;\n",
       "    }\n",
       "\n",
       "    .dataframe thead th {\n",
       "        text-align: right;\n",
       "    }\n",
       "</style>\n",
       "<table border=\"1\" class=\"dataframe\">\n",
       "  <thead>\n",
       "    <tr style=\"text-align: right;\">\n",
       "      <th></th>\n",
       "      <th>date</th>\n",
       "      <th>group</th>\n",
       "      <th>visitors</th>\n",
       "    </tr>\n",
       "  </thead>\n",
       "  <tbody>\n",
       "    <tr>\n",
       "      <th>0</th>\n",
       "      <td>2019-08-01</td>\n",
       "      <td>A</td>\n",
       "      <td>719</td>\n",
       "    </tr>\n",
       "    <tr>\n",
       "      <th>1</th>\n",
       "      <td>2019-08-02</td>\n",
       "      <td>A</td>\n",
       "      <td>619</td>\n",
       "    </tr>\n",
       "    <tr>\n",
       "      <th>2</th>\n",
       "      <td>2019-08-03</td>\n",
       "      <td>A</td>\n",
       "      <td>507</td>\n",
       "    </tr>\n",
       "    <tr>\n",
       "      <th>3</th>\n",
       "      <td>2019-08-04</td>\n",
       "      <td>A</td>\n",
       "      <td>717</td>\n",
       "    </tr>\n",
       "    <tr>\n",
       "      <th>4</th>\n",
       "      <td>2019-08-05</td>\n",
       "      <td>A</td>\n",
       "      <td>756</td>\n",
       "    </tr>\n",
       "  </tbody>\n",
       "</table>\n",
       "</div>"
      ],
      "text/plain": [
       "         date group  visitors\n",
       "0  2019-08-01     A       719\n",
       "1  2019-08-02     A       619\n",
       "2  2019-08-03     A       507\n",
       "3  2019-08-04     A       717\n",
       "4  2019-08-05     A       756"
      ]
     },
     "execution_count": 13,
     "metadata": {},
     "output_type": "execute_result"
    }
   ],
   "source": [
    "visitors.head()"
   ]
  },
  {
   "cell_type": "markdown",
   "id": "c01d0a0d",
   "metadata": {},
   "source": [
    "Видим, что некорректный тип данных в столбце с датой"
   ]
  },
  {
   "cell_type": "code",
   "execution_count": 14,
   "id": "7a98e2db",
   "metadata": {},
   "outputs": [],
   "source": [
    "# приведем тип данных столбца date\n",
    "visitors['date'] = pd.to_datetime(visitors['date'])"
   ]
  },
  {
   "cell_type": "code",
   "execution_count": 15,
   "id": "6fc36be7",
   "metadata": {},
   "outputs": [
    {
     "data": {
      "text/plain": [
       "0"
      ]
     },
     "execution_count": 15,
     "metadata": {},
     "output_type": "execute_result"
    }
   ],
   "source": [
    "# проверим на наличие дубликатов\n",
    "hyp.duplicated().sum()"
   ]
  },
  {
   "cell_type": "code",
   "execution_count": 16,
   "id": "2c379410",
   "metadata": {},
   "outputs": [
    {
     "data": {
      "text/plain": [
       "0"
      ]
     },
     "execution_count": 16,
     "metadata": {},
     "output_type": "execute_result"
    }
   ],
   "source": [
    "orders.duplicated().sum()"
   ]
  },
  {
   "cell_type": "code",
   "execution_count": 17,
   "id": "fbde60bb",
   "metadata": {},
   "outputs": [
    {
     "data": {
      "text/plain": [
       "0"
      ]
     },
     "execution_count": 17,
     "metadata": {},
     "output_type": "execute_result"
    }
   ],
   "source": [
    "visitors.duplicated().sum()"
   ]
  },
  {
   "cell_type": "markdown",
   "id": "a94a6a3e",
   "metadata": {},
   "source": [
    "### Вывод"
   ]
  },
  {
   "cell_type": "markdown",
   "id": "8ea793d8",
   "metadata": {},
   "source": [
    "Полученные данные имели следующие недочеты:\n",
    "* столбцы с датой имеют тип данных object \n",
    "* названия столбцов имеют неверное написание"
   ]
  },
  {
   "cell_type": "markdown",
   "id": "191957ef",
   "metadata": {},
   "source": [
    "## Часть 1. Приоритизация гипотез.\n",
    "\n",
    "### Приоритизация фреймворком `ICE`"
   ]
  },
  {
   "cell_type": "code",
   "execution_count": 18,
   "id": "d80557a9",
   "metadata": {},
   "outputs": [
    {
     "data": {
      "text/html": [
       "<div>\n",
       "<style scoped>\n",
       "    .dataframe tbody tr th:only-of-type {\n",
       "        vertical-align: middle;\n",
       "    }\n",
       "\n",
       "    .dataframe tbody tr th {\n",
       "        vertical-align: top;\n",
       "    }\n",
       "\n",
       "    .dataframe thead th {\n",
       "        text-align: right;\n",
       "    }\n",
       "</style>\n",
       "<table border=\"1\" class=\"dataframe\">\n",
       "  <thead>\n",
       "    <tr style=\"text-align: right;\">\n",
       "      <th></th>\n",
       "      <th>hypothesis</th>\n",
       "      <th>ICE</th>\n",
       "    </tr>\n",
       "  </thead>\n",
       "  <tbody>\n",
       "    <tr>\n",
       "      <th>8</th>\n",
       "      <td>Запустить акцию, дающую скидку на товар в день...</td>\n",
       "      <td>16.200000</td>\n",
       "    </tr>\n",
       "    <tr>\n",
       "      <th>0</th>\n",
       "      <td>Добавить два новых канала привлечения трафика,...</td>\n",
       "      <td>13.333333</td>\n",
       "    </tr>\n",
       "    <tr>\n",
       "      <th>7</th>\n",
       "      <td>Добавить форму подписки на все основные страни...</td>\n",
       "      <td>11.200000</td>\n",
       "    </tr>\n",
       "    <tr>\n",
       "      <th>6</th>\n",
       "      <td>Показать на главной странице баннеры с актуаль...</td>\n",
       "      <td>8.000000</td>\n",
       "    </tr>\n",
       "    <tr>\n",
       "      <th>2</th>\n",
       "      <td>Добавить блоки рекомендаций товаров на сайт ин...</td>\n",
       "      <td>7.000000</td>\n",
       "    </tr>\n",
       "    <tr>\n",
       "      <th>1</th>\n",
       "      <td>Запустить собственную службу доставки, что сок...</td>\n",
       "      <td>2.000000</td>\n",
       "    </tr>\n",
       "    <tr>\n",
       "      <th>5</th>\n",
       "      <td>Добавить страницу отзывов клиентов о магазине,...</td>\n",
       "      <td>1.333333</td>\n",
       "    </tr>\n",
       "    <tr>\n",
       "      <th>3</th>\n",
       "      <td>Изменить структура категорий, что увеличит кон...</td>\n",
       "      <td>1.125000</td>\n",
       "    </tr>\n",
       "    <tr>\n",
       "      <th>4</th>\n",
       "      <td>Изменить цвет фона главной страницы, чтобы уве...</td>\n",
       "      <td>1.000000</td>\n",
       "    </tr>\n",
       "  </tbody>\n",
       "</table>\n",
       "</div>"
      ],
      "text/plain": [
       "                                          hypothesis        ICE\n",
       "8  Запустить акцию, дающую скидку на товар в день...  16.200000\n",
       "0  Добавить два новых канала привлечения трафика,...  13.333333\n",
       "7  Добавить форму подписки на все основные страни...  11.200000\n",
       "6  Показать на главной странице баннеры с актуаль...   8.000000\n",
       "2  Добавить блоки рекомендаций товаров на сайт ин...   7.000000\n",
       "1  Запустить собственную службу доставки, что сок...   2.000000\n",
       "5  Добавить страницу отзывов клиентов о магазине,...   1.333333\n",
       "3  Изменить структура категорий, что увеличит кон...   1.125000\n",
       "4  Изменить цвет фона главной страницы, чтобы уве...   1.000000"
      ]
     },
     "execution_count": 18,
     "metadata": {},
     "output_type": "execute_result"
    }
   ],
   "source": [
    "# посчитаем ICE\n",
    "hyp['ICE'] = hyp['impact'] * hyp['confidence'] / hyp['efforts']\n",
    "hyp.loc[:, ['hypothesis', 'ICE']].sort_values(by='ICE', ascending=False)"
   ]
  },
  {
   "cell_type": "markdown",
   "id": "b6bb885f",
   "metadata": {},
   "source": [
    "Видим, что сформировался топ-3 гипотез: 8, 0, 7"
   ]
  },
  {
   "cell_type": "markdown",
   "id": "6045e66c",
   "metadata": {},
   "source": [
    "### Приоритизация фреймворком `RICE`"
   ]
  },
  {
   "cell_type": "code",
   "execution_count": 19,
   "id": "e3fe0d50",
   "metadata": {},
   "outputs": [
    {
     "data": {
      "text/html": [
       "<div>\n",
       "<style scoped>\n",
       "    .dataframe tbody tr th:only-of-type {\n",
       "        vertical-align: middle;\n",
       "    }\n",
       "\n",
       "    .dataframe tbody tr th {\n",
       "        vertical-align: top;\n",
       "    }\n",
       "\n",
       "    .dataframe thead th {\n",
       "        text-align: right;\n",
       "    }\n",
       "</style>\n",
       "<table border=\"1\" class=\"dataframe\">\n",
       "  <thead>\n",
       "    <tr style=\"text-align: right;\">\n",
       "      <th></th>\n",
       "      <th>hypothesis</th>\n",
       "      <th>RICE</th>\n",
       "    </tr>\n",
       "  </thead>\n",
       "  <tbody>\n",
       "    <tr>\n",
       "      <th>7</th>\n",
       "      <td>Добавить форму подписки на все основные страни...</td>\n",
       "      <td>112.0</td>\n",
       "    </tr>\n",
       "    <tr>\n",
       "      <th>2</th>\n",
       "      <td>Добавить блоки рекомендаций товаров на сайт ин...</td>\n",
       "      <td>56.0</td>\n",
       "    </tr>\n",
       "    <tr>\n",
       "      <th>0</th>\n",
       "      <td>Добавить два новых канала привлечения трафика,...</td>\n",
       "      <td>40.0</td>\n",
       "    </tr>\n",
       "    <tr>\n",
       "      <th>6</th>\n",
       "      <td>Показать на главной странице баннеры с актуаль...</td>\n",
       "      <td>40.0</td>\n",
       "    </tr>\n",
       "    <tr>\n",
       "      <th>8</th>\n",
       "      <td>Запустить акцию, дающую скидку на товар в день...</td>\n",
       "      <td>16.2</td>\n",
       "    </tr>\n",
       "    <tr>\n",
       "      <th>3</th>\n",
       "      <td>Изменить структура категорий, что увеличит кон...</td>\n",
       "      <td>9.0</td>\n",
       "    </tr>\n",
       "    <tr>\n",
       "      <th>1</th>\n",
       "      <td>Запустить собственную службу доставки, что сок...</td>\n",
       "      <td>4.0</td>\n",
       "    </tr>\n",
       "    <tr>\n",
       "      <th>5</th>\n",
       "      <td>Добавить страницу отзывов клиентов о магазине,...</td>\n",
       "      <td>4.0</td>\n",
       "    </tr>\n",
       "    <tr>\n",
       "      <th>4</th>\n",
       "      <td>Изменить цвет фона главной страницы, чтобы уве...</td>\n",
       "      <td>3.0</td>\n",
       "    </tr>\n",
       "  </tbody>\n",
       "</table>\n",
       "</div>"
      ],
      "text/plain": [
       "                                          hypothesis   RICE\n",
       "7  Добавить форму подписки на все основные страни...  112.0\n",
       "2  Добавить блоки рекомендаций товаров на сайт ин...   56.0\n",
       "0  Добавить два новых канала привлечения трафика,...   40.0\n",
       "6  Показать на главной странице баннеры с актуаль...   40.0\n",
       "8  Запустить акцию, дающую скидку на товар в день...   16.2\n",
       "3  Изменить структура категорий, что увеличит кон...    9.0\n",
       "1  Запустить собственную службу доставки, что сок...    4.0\n",
       "5  Добавить страницу отзывов клиентов о магазине,...    4.0\n",
       "4  Изменить цвет фона главной страницы, чтобы уве...    3.0"
      ]
     },
     "execution_count": 19,
     "metadata": {},
     "output_type": "execute_result"
    }
   ],
   "source": [
    "# посчитаем RICE\n",
    "hyp['RICE'] = hyp['reach'] * hyp['impact'] * hyp['confidence'] / hyp['efforts']\n",
    "hyp.loc[:, ['hypothesis', 'RICE']].sort_values(by='RICE', ascending=False)"
   ]
  },
  {
   "cell_type": "markdown",
   "id": "a7db99da",
   "metadata": {},
   "source": [
    "Видим, что тут топ-3/4 отличен от `ICE`: 7, 2, 0/6"
   ]
  },
  {
   "cell_type": "markdown",
   "id": "abdb4841",
   "metadata": {},
   "source": [
    "### Вывод\n",
    "\n",
    "Согласно фреймворку `ICE` наиболее перспективные гипотезы: 8, 0, 7, 6\n",
    "Согласно фреймворку `RICE` наиболее перспективные гипотезы: 7, 2, 0, 6\n",
    "\n",
    "Согласно боим фреймворкам аутсайдеры: 1, 5, 3, 4\n",
    "\n",
    "Разница в рейтинге гипотез означает о том, что гипотезы 0, 7, 6 приоритетны, но наименее затратная 7, затем 2, после 0 и 6, но 2 не было в `ICE`, следовательно топ-3 гипотез: 7, 0, 6"
   ]
  },
  {
   "cell_type": "markdown",
   "id": "d2a3cd5a",
   "metadata": {},
   "source": [
    "## Часть 2. Анализ A/B-теста"
   ]
  },
  {
   "cell_type": "code",
   "execution_count": 20,
   "id": "16c4cf75",
   "metadata": {},
   "outputs": [
    {
     "data": {
      "text/html": [
       "<div>\n",
       "<style scoped>\n",
       "    .dataframe tbody tr th:only-of-type {\n",
       "        vertical-align: middle;\n",
       "    }\n",
       "\n",
       "    .dataframe tbody tr th {\n",
       "        vertical-align: top;\n",
       "    }\n",
       "\n",
       "    .dataframe thead th {\n",
       "        text-align: right;\n",
       "    }\n",
       "</style>\n",
       "<table border=\"1\" class=\"dataframe\">\n",
       "  <thead>\n",
       "    <tr style=\"text-align: right;\">\n",
       "      <th></th>\n",
       "      <th>transaction_id</th>\n",
       "      <th>visitor_id</th>\n",
       "      <th>date</th>\n",
       "      <th>revenue</th>\n",
       "      <th>group</th>\n",
       "    </tr>\n",
       "  </thead>\n",
       "  <tbody>\n",
       "    <tr>\n",
       "      <th>0</th>\n",
       "      <td>3667963787</td>\n",
       "      <td>3312258926</td>\n",
       "      <td>2019-08-15</td>\n",
       "      <td>1650</td>\n",
       "      <td>B</td>\n",
       "    </tr>\n",
       "    <tr>\n",
       "      <th>1</th>\n",
       "      <td>2804400009</td>\n",
       "      <td>3642806036</td>\n",
       "      <td>2019-08-15</td>\n",
       "      <td>730</td>\n",
       "      <td>B</td>\n",
       "    </tr>\n",
       "    <tr>\n",
       "      <th>2</th>\n",
       "      <td>2961555356</td>\n",
       "      <td>4069496402</td>\n",
       "      <td>2019-08-15</td>\n",
       "      <td>400</td>\n",
       "      <td>A</td>\n",
       "    </tr>\n",
       "    <tr>\n",
       "      <th>3</th>\n",
       "      <td>3797467345</td>\n",
       "      <td>1196621759</td>\n",
       "      <td>2019-08-15</td>\n",
       "      <td>9759</td>\n",
       "      <td>B</td>\n",
       "    </tr>\n",
       "    <tr>\n",
       "      <th>4</th>\n",
       "      <td>2282983706</td>\n",
       "      <td>2322279887</td>\n",
       "      <td>2019-08-15</td>\n",
       "      <td>2308</td>\n",
       "      <td>B</td>\n",
       "    </tr>\n",
       "    <tr>\n",
       "      <th>...</th>\n",
       "      <td>...</td>\n",
       "      <td>...</td>\n",
       "      <td>...</td>\n",
       "      <td>...</td>\n",
       "      <td>...</td>\n",
       "    </tr>\n",
       "    <tr>\n",
       "      <th>1192</th>\n",
       "      <td>2662137336</td>\n",
       "      <td>3733762160</td>\n",
       "      <td>2019-08-14</td>\n",
       "      <td>6490</td>\n",
       "      <td>B</td>\n",
       "    </tr>\n",
       "    <tr>\n",
       "      <th>1193</th>\n",
       "      <td>2203539145</td>\n",
       "      <td>370388673</td>\n",
       "      <td>2019-08-14</td>\n",
       "      <td>3190</td>\n",
       "      <td>A</td>\n",
       "    </tr>\n",
       "    <tr>\n",
       "      <th>1194</th>\n",
       "      <td>1807773912</td>\n",
       "      <td>573423106</td>\n",
       "      <td>2019-08-14</td>\n",
       "      <td>10550</td>\n",
       "      <td>A</td>\n",
       "    </tr>\n",
       "    <tr>\n",
       "      <th>1195</th>\n",
       "      <td>1947021204</td>\n",
       "      <td>1614305549</td>\n",
       "      <td>2019-08-14</td>\n",
       "      <td>100</td>\n",
       "      <td>A</td>\n",
       "    </tr>\n",
       "    <tr>\n",
       "      <th>1196</th>\n",
       "      <td>3936777065</td>\n",
       "      <td>2108080724</td>\n",
       "      <td>2019-08-15</td>\n",
       "      <td>202740</td>\n",
       "      <td>B</td>\n",
       "    </tr>\n",
       "  </tbody>\n",
       "</table>\n",
       "<p>1197 rows × 5 columns</p>\n",
       "</div>"
      ],
      "text/plain": [
       "      transaction_id  visitor_id       date  revenue group\n",
       "0         3667963787  3312258926 2019-08-15     1650     B\n",
       "1         2804400009  3642806036 2019-08-15      730     B\n",
       "2         2961555356  4069496402 2019-08-15      400     A\n",
       "3         3797467345  1196621759 2019-08-15     9759     B\n",
       "4         2282983706  2322279887 2019-08-15     2308     B\n",
       "...              ...         ...        ...      ...   ...\n",
       "1192      2662137336  3733762160 2019-08-14     6490     B\n",
       "1193      2203539145   370388673 2019-08-14     3190     A\n",
       "1194      1807773912   573423106 2019-08-14    10550     A\n",
       "1195      1947021204  1614305549 2019-08-14      100     A\n",
       "1196      3936777065  2108080724 2019-08-15   202740     B\n",
       "\n",
       "[1197 rows x 5 columns]"
      ]
     },
     "execution_count": 20,
     "metadata": {},
     "output_type": "execute_result"
    }
   ],
   "source": [
    "orders"
   ]
  },
  {
   "cell_type": "markdown",
   "id": "0e722426",
   "metadata": {},
   "source": [
    "### Подготовим данные к анализу"
   ]
  },
  {
   "cell_type": "code",
   "execution_count": 21,
   "id": "36c3624b",
   "metadata": {},
   "outputs": [
    {
     "data": {
      "text/html": [
       "<div>\n",
       "<style scoped>\n",
       "    .dataframe tbody tr th:only-of-type {\n",
       "        vertical-align: middle;\n",
       "    }\n",
       "\n",
       "    .dataframe tbody tr th {\n",
       "        vertical-align: top;\n",
       "    }\n",
       "\n",
       "    .dataframe thead th {\n",
       "        text-align: right;\n",
       "    }\n",
       "</style>\n",
       "<table border=\"1\" class=\"dataframe\">\n",
       "  <thead>\n",
       "    <tr style=\"text-align: right;\">\n",
       "      <th></th>\n",
       "      <th>date</th>\n",
       "      <th>group</th>\n",
       "    </tr>\n",
       "  </thead>\n",
       "  <tbody>\n",
       "    <tr>\n",
       "      <th>0</th>\n",
       "      <td>2019-08-15</td>\n",
       "      <td>B</td>\n",
       "    </tr>\n",
       "    <tr>\n",
       "      <th>2</th>\n",
       "      <td>2019-08-15</td>\n",
       "      <td>A</td>\n",
       "    </tr>\n",
       "    <tr>\n",
       "      <th>45</th>\n",
       "      <td>2019-08-16</td>\n",
       "      <td>A</td>\n",
       "    </tr>\n",
       "    <tr>\n",
       "      <th>47</th>\n",
       "      <td>2019-08-16</td>\n",
       "      <td>B</td>\n",
       "    </tr>\n",
       "    <tr>\n",
       "      <th>55</th>\n",
       "      <td>2019-08-01</td>\n",
       "      <td>A</td>\n",
       "    </tr>\n",
       "    <tr>\n",
       "      <th>...</th>\n",
       "      <td>...</td>\n",
       "      <td>...</td>\n",
       "    </tr>\n",
       "    <tr>\n",
       "      <th>1068</th>\n",
       "      <td>2019-08-12</td>\n",
       "      <td>A</td>\n",
       "    </tr>\n",
       "    <tr>\n",
       "      <th>1114</th>\n",
       "      <td>2019-08-13</td>\n",
       "      <td>B</td>\n",
       "    </tr>\n",
       "    <tr>\n",
       "      <th>1116</th>\n",
       "      <td>2019-08-13</td>\n",
       "      <td>A</td>\n",
       "    </tr>\n",
       "    <tr>\n",
       "      <th>1149</th>\n",
       "      <td>2019-08-14</td>\n",
       "      <td>B</td>\n",
       "    </tr>\n",
       "    <tr>\n",
       "      <th>1150</th>\n",
       "      <td>2019-08-14</td>\n",
       "      <td>A</td>\n",
       "    </tr>\n",
       "  </tbody>\n",
       "</table>\n",
       "<p>62 rows × 2 columns</p>\n",
       "</div>"
      ],
      "text/plain": [
       "           date group\n",
       "0    2019-08-15     B\n",
       "2    2019-08-15     A\n",
       "45   2019-08-16     A\n",
       "47   2019-08-16     B\n",
       "55   2019-08-01     A\n",
       "...         ...   ...\n",
       "1068 2019-08-12     A\n",
       "1114 2019-08-13     B\n",
       "1116 2019-08-13     A\n",
       "1149 2019-08-14     B\n",
       "1150 2019-08-14     A\n",
       "\n",
       "[62 rows x 2 columns]"
      ]
     },
     "execution_count": 21,
     "metadata": {},
     "output_type": "execute_result"
    }
   ],
   "source": [
    "# создадим массив уникальных пар значений дат и групп теста\n",
    "dates_groups = orders[['date', 'group']].drop_duplicates()\n",
    "dates_groups"
   ]
  },
  {
   "cell_type": "code",
   "execution_count": 22,
   "id": "5aa9bf82",
   "metadata": {},
   "outputs": [],
   "source": [
    "# агрегируем данные покупателей по дате заказа\n",
    "orders_aggregated = dates_groups.apply(\n",
    "    lambda x: orders[np.logical_and(orders['date'] <= x['date'], orders['group'] == x['group'])].agg(\n",
    "        {\n",
    "            'date': 'max',\n",
    "            'group': 'max',\n",
    "            'transaction_id': 'nunique',\n",
    "            'visitor_id': 'nunique',\n",
    "            'revenue': 'sum',\n",
    "        }\n",
    "    ),axis=1,).sort_values(by=['date', 'group'])"
   ]
  },
  {
   "cell_type": "code",
   "execution_count": 23,
   "id": "d7a0588d",
   "metadata": {},
   "outputs": [],
   "source": [
    "# агрегируем данные посетителей по дате\n",
    "visitors_aggregated = dates_groups.apply(\n",
    "    lambda x: visitors[np.logical_and(visitors['date'] <= x['date'], visitors['group'] == x['group'])].agg(\n",
    "        {\n",
    "            'date' : 'max',\n",
    "            'group' : 'max',\n",
    "            'visitors' : 'sum',\n",
    "        }\n",
    "    ), axis=1).sort_values(by=['date','group'])"
   ]
  },
  {
   "cell_type": "code",
   "execution_count": 24,
   "id": "1c80aea0",
   "metadata": {},
   "outputs": [
    {
     "data": {
      "text/html": [
       "<div>\n",
       "<style scoped>\n",
       "    .dataframe tbody tr th:only-of-type {\n",
       "        vertical-align: middle;\n",
       "    }\n",
       "\n",
       "    .dataframe tbody tr th {\n",
       "        vertical-align: top;\n",
       "    }\n",
       "\n",
       "    .dataframe thead th {\n",
       "        text-align: right;\n",
       "    }\n",
       "</style>\n",
       "<table border=\"1\" class=\"dataframe\">\n",
       "  <thead>\n",
       "    <tr style=\"text-align: right;\">\n",
       "      <th></th>\n",
       "      <th>date</th>\n",
       "      <th>group</th>\n",
       "      <th>orders</th>\n",
       "      <th>buyers</th>\n",
       "      <th>revenue</th>\n",
       "      <th>visitors</th>\n",
       "    </tr>\n",
       "  </thead>\n",
       "  <tbody>\n",
       "    <tr>\n",
       "      <th>0</th>\n",
       "      <td>2019-08-01</td>\n",
       "      <td>A</td>\n",
       "      <td>24</td>\n",
       "      <td>20</td>\n",
       "      <td>148579</td>\n",
       "      <td>719</td>\n",
       "    </tr>\n",
       "    <tr>\n",
       "      <th>1</th>\n",
       "      <td>2019-08-01</td>\n",
       "      <td>B</td>\n",
       "      <td>21</td>\n",
       "      <td>20</td>\n",
       "      <td>101217</td>\n",
       "      <td>713</td>\n",
       "    </tr>\n",
       "    <tr>\n",
       "      <th>2</th>\n",
       "      <td>2019-08-02</td>\n",
       "      <td>A</td>\n",
       "      <td>44</td>\n",
       "      <td>38</td>\n",
       "      <td>242401</td>\n",
       "      <td>1338</td>\n",
       "    </tr>\n",
       "    <tr>\n",
       "      <th>3</th>\n",
       "      <td>2019-08-02</td>\n",
       "      <td>B</td>\n",
       "      <td>45</td>\n",
       "      <td>43</td>\n",
       "      <td>266748</td>\n",
       "      <td>1294</td>\n",
       "    </tr>\n",
       "    <tr>\n",
       "      <th>4</th>\n",
       "      <td>2019-08-03</td>\n",
       "      <td>A</td>\n",
       "      <td>68</td>\n",
       "      <td>62</td>\n",
       "      <td>354874</td>\n",
       "      <td>1845</td>\n",
       "    </tr>\n",
       "    <tr>\n",
       "      <th>...</th>\n",
       "      <td>...</td>\n",
       "      <td>...</td>\n",
       "      <td>...</td>\n",
       "      <td>...</td>\n",
       "      <td>...</td>\n",
       "      <td>...</td>\n",
       "    </tr>\n",
       "    <tr>\n",
       "      <th>57</th>\n",
       "      <td>2019-08-29</td>\n",
       "      <td>B</td>\n",
       "      <td>596</td>\n",
       "      <td>544</td>\n",
       "      <td>5559398</td>\n",
       "      <td>17708</td>\n",
       "    </tr>\n",
       "    <tr>\n",
       "      <th>58</th>\n",
       "      <td>2019-08-30</td>\n",
       "      <td>A</td>\n",
       "      <td>545</td>\n",
       "      <td>493</td>\n",
       "      <td>4022970</td>\n",
       "      <td>18037</td>\n",
       "    </tr>\n",
       "    <tr>\n",
       "      <th>59</th>\n",
       "      <td>2019-08-30</td>\n",
       "      <td>B</td>\n",
       "      <td>620</td>\n",
       "      <td>567</td>\n",
       "      <td>5774631</td>\n",
       "      <td>18198</td>\n",
       "    </tr>\n",
       "    <tr>\n",
       "      <th>60</th>\n",
       "      <td>2019-08-31</td>\n",
       "      <td>A</td>\n",
       "      <td>557</td>\n",
       "      <td>503</td>\n",
       "      <td>4084803</td>\n",
       "      <td>18736</td>\n",
       "    </tr>\n",
       "    <tr>\n",
       "      <th>61</th>\n",
       "      <td>2019-08-31</td>\n",
       "      <td>B</td>\n",
       "      <td>640</td>\n",
       "      <td>586</td>\n",
       "      <td>5907760</td>\n",
       "      <td>18916</td>\n",
       "    </tr>\n",
       "  </tbody>\n",
       "</table>\n",
       "<p>62 rows × 6 columns</p>\n",
       "</div>"
      ],
      "text/plain": [
       "         date group  orders  buyers  revenue  visitors\n",
       "0  2019-08-01     A      24      20   148579       719\n",
       "1  2019-08-01     B      21      20   101217       713\n",
       "2  2019-08-02     A      44      38   242401      1338\n",
       "3  2019-08-02     B      45      43   266748      1294\n",
       "4  2019-08-03     A      68      62   354874      1845\n",
       "..        ...   ...     ...     ...      ...       ...\n",
       "57 2019-08-29     B     596     544  5559398     17708\n",
       "58 2019-08-30     A     545     493  4022970     18037\n",
       "59 2019-08-30     B     620     567  5774631     18198\n",
       "60 2019-08-31     A     557     503  4084803     18736\n",
       "61 2019-08-31     B     640     586  5907760     18916\n",
       "\n",
       "[62 rows x 6 columns]"
      ]
     },
     "execution_count": 24,
     "metadata": {},
     "output_type": "execute_result"
    }
   ],
   "source": [
    "# объединяем кумулятивные данные в одной таблице и присваиваем ее столбцам понятные названия\n",
    "cumulative_data = orders_aggregated.merge(visitors_aggregated, left_on=['date', 'group'], right_on=['date', 'group'])\n",
    "cumulative_data.columns = ['date', 'group', 'orders', 'buyers', 'revenue', 'visitors']\n",
    "cumulative_data"
   ]
  },
  {
   "cell_type": "code",
   "execution_count": 25,
   "id": "1aabfcd8",
   "metadata": {},
   "outputs": [],
   "source": [
    "# датафрейм с кумулятивным количеством заказов и кумулятивной выручкой по дням в группе А\n",
    "cumulative_revenue_a = cumulative_data[cumulative_data['group']=='A'][['date','revenue', 'orders']]\n",
    "\n",
    "# датафрейм с кумулятивным количеством заказов и кумулятивной выручкой по дням в группе B\n",
    "cumulative_revenue_b = cumulative_data[cumulative_data['group']=='B'][['date','revenue', 'orders']]"
   ]
  },
  {
   "cell_type": "markdown",
   "id": "635747e3",
   "metadata": {},
   "source": [
    "### Строим график кумулятивной выручки по группам"
   ]
  },
  {
   "cell_type": "code",
   "execution_count": 26,
   "id": "95de831a",
   "metadata": {},
   "outputs": [
    {
     "data": {
      "image/png": "[encoded data removed]",
      "text/plain": [
       "<Figure size 1080x576 with 1 Axes>"
      ]
     },
     "metadata": {
      "needs_background": "light"
     },
     "output_type": "display_data"
    }
   ],
   "source": [
    "plt.plot(cumulative_revenue_a['date'],\n",
    "         cumulative_revenue_a['revenue'],\n",
    "         label='A')\n",
    "\n",
    "# Строим график выручки группы B\n",
    "plt.plot(cumulative_revenue_b['date'],\n",
    "         cumulative_revenue_b['revenue'],\n",
    "         label='B')\n",
    "plt.title('Графики кумулятивной выручки по группам\\n', fontsize=18, fontweight=\"bold\")\n",
    "plt.xlabel('\\nДата', fontsize=14, fontweight=\"bold\")\n",
    "plt.ylabel('Выручка', fontsize=14, fontweight=\"bold\")\n",
    "plt.xticks(rotation=70)\n",
    "plt.legend()\n",
    "plt.gcf().set_size_inches(15, 8);"
   ]
  },
  {
   "cell_type": "markdown",
   "id": "c5b61e4e",
   "metadata": {},
   "source": [
    "Видим, что на протяжении всего теста группа B лидирует. Резкий скачок, скорей всего, говорит об аномалиях"
   ]
  },
  {
   "cell_type": "markdown",
   "id": "add5dca0",
   "metadata": {},
   "source": [
    "### Строим график кумулятивного среднего чека по группам"
   ]
  },
  {
   "cell_type": "code",
   "execution_count": 27,
   "id": "35baa43e",
   "metadata": {},
   "outputs": [],
   "source": [
    "cumulative_revenue_a = cumulative_data[cumulative_data['group'] == 'A'][\n",
    "    ['date', 'revenue', 'orders']\n",
    "]\n",
    "cumulative_revenue_b = cumulative_data[cumulative_data['group'] == 'B'][\n",
    "    ['date', 'revenue', 'orders']\n",
    "]"
   ]
  },
  {
   "cell_type": "code",
   "execution_count": 28,
   "id": "b17ff416",
   "metadata": {},
   "outputs": [
    {
     "data": {
      "image/png": "[encoded data removed]",
      "text/plain": [
       "<Figure size 1080x576 with 1 Axes>"
      ]
     },
     "metadata": {
      "needs_background": "light"
     },
     "output_type": "display_data"
    }
   ],
   "source": [
    "plt.plot(cumulative_revenue_a['date'], cumulative_revenue_a['revenue']/cumulative_revenue_a['orders'], label='A')\n",
    "plt.plot(cumulative_revenue_b['date'], cumulative_revenue_b['revenue']/cumulative_revenue_b['orders'], label='B')\n",
    "plt.title('Графики кумулятивного среднего по группам\\n', fontsize=18, fontweight=\"bold\")\n",
    "plt.xlabel('\\nДата', fontsize=14, fontweight=\"bold\")\n",
    "plt.ylabel('Средний чек', fontsize=14, fontweight=\"bold\")\n",
    "plt.legend()\n",
    "plt.xticks(rotation=70)\n",
    "plt.gcf().set_size_inches(15, 8);"
   ]
  },
  {
   "cell_type": "markdown",
   "id": "4a2a2439",
   "metadata": {},
   "source": [
    "Видим, что кумулятивное значение среднего чека по группам сперва выше было у А, после чего наблюдается провал с последующим ростом, превышающий группу В, далее наблюдается сильнейший скачок группы В. Следует сделать вывод, что имеется аномалия в данных - сильный выброс"
   ]
  },
  {
   "cell_type": "markdown",
   "id": "84914c10",
   "metadata": {},
   "source": [
    "### Строим график относительного изменения кумулятивного среднего чека группы В к группе А"
   ]
  },
  {
   "cell_type": "code",
   "execution_count": 29,
   "id": "b7543608",
   "metadata": {},
   "outputs": [
    {
     "data": {
      "image/png": "[encoded data removed]",
      "text/plain": [
       "<Figure size 1080x576 with 1 Axes>"
      ]
     },
     "metadata": {
      "needs_background": "light"
     },
     "output_type": "display_data"
    }
   ],
   "source": [
    "# собираем данные в одном датафрейме\n",
    "merged_cumulative_revenue = cumulative_revenue_a.merge(cumulative_revenue_b, left_on='date', right_on='date', how='left', suffixes=['A', 'B'])\n",
    "\n",
    "# cтроим отношение средних чеков\n",
    "plt.plot(merged_cumulative_revenue['date'], (merged_cumulative_revenue['revenueB']/merged_cumulative_revenue['ordersB'])/(merged_cumulative_revenue['revenueA']/merged_cumulative_revenue['ordersA'])-1)\n",
    "\n",
    "# добавляем ось X\n",
    "plt.axhline(y=0, color='black', linestyle='--')\n",
    "\n",
    "plt.title('Графики относительного изменения кумулятивного среднего чека группы В к группе А\\n', fontsize=18, fontweight=\"bold\")\n",
    "plt.xlabel('\\nДата', fontsize=14, fontweight=\"bold\")\n",
    "plt.ylabel('Отношение средних чеков', fontsize=14, fontweight=\"bold\")\n",
    "plt.xticks(rotation=70)\n",
    "plt.gcf().set_size_inches(15, 8);"
   ]
  },
  {
   "cell_type": "markdown",
   "id": "236aaba4",
   "metadata": {},
   "source": [
    "Видим, что имеются два артефакта: 1)Резкий спад 08.09; 2)Резкий подъем после 17.08. Скорей всего, в этих датах были аномальные покупки"
   ]
  },
  {
   "cell_type": "markdown",
   "id": "1f1e55ac",
   "metadata": {},
   "source": [
    "### Строим график кумулятивной конверсии по группам."
   ]
  },
  {
   "cell_type": "code",
   "execution_count": 30,
   "id": "fd6840d8",
   "metadata": {},
   "outputs": [
    {
     "data": {
      "text/html": [
       "<div>\n",
       "<style scoped>\n",
       "    .dataframe tbody tr th:only-of-type {\n",
       "        vertical-align: middle;\n",
       "    }\n",
       "\n",
       "    .dataframe tbody tr th {\n",
       "        vertical-align: top;\n",
       "    }\n",
       "\n",
       "    .dataframe thead th {\n",
       "        text-align: right;\n",
       "    }\n",
       "</style>\n",
       "<table border=\"1\" class=\"dataframe\">\n",
       "  <thead>\n",
       "    <tr style=\"text-align: right;\">\n",
       "      <th></th>\n",
       "      <th>date</th>\n",
       "      <th>group</th>\n",
       "      <th>orders</th>\n",
       "      <th>buyers</th>\n",
       "      <th>revenue</th>\n",
       "      <th>visitors</th>\n",
       "      <th>conversion</th>\n",
       "    </tr>\n",
       "  </thead>\n",
       "  <tbody>\n",
       "    <tr>\n",
       "      <th>0</th>\n",
       "      <td>2019-08-01</td>\n",
       "      <td>A</td>\n",
       "      <td>24</td>\n",
       "      <td>20</td>\n",
       "      <td>148579</td>\n",
       "      <td>719</td>\n",
       "      <td>0.033380</td>\n",
       "    </tr>\n",
       "    <tr>\n",
       "      <th>1</th>\n",
       "      <td>2019-08-01</td>\n",
       "      <td>B</td>\n",
       "      <td>21</td>\n",
       "      <td>20</td>\n",
       "      <td>101217</td>\n",
       "      <td>713</td>\n",
       "      <td>0.029453</td>\n",
       "    </tr>\n",
       "    <tr>\n",
       "      <th>2</th>\n",
       "      <td>2019-08-02</td>\n",
       "      <td>A</td>\n",
       "      <td>44</td>\n",
       "      <td>38</td>\n",
       "      <td>242401</td>\n",
       "      <td>1338</td>\n",
       "      <td>0.032885</td>\n",
       "    </tr>\n",
       "    <tr>\n",
       "      <th>3</th>\n",
       "      <td>2019-08-02</td>\n",
       "      <td>B</td>\n",
       "      <td>45</td>\n",
       "      <td>43</td>\n",
       "      <td>266748</td>\n",
       "      <td>1294</td>\n",
       "      <td>0.034776</td>\n",
       "    </tr>\n",
       "    <tr>\n",
       "      <th>4</th>\n",
       "      <td>2019-08-03</td>\n",
       "      <td>A</td>\n",
       "      <td>68</td>\n",
       "      <td>62</td>\n",
       "      <td>354874</td>\n",
       "      <td>1845</td>\n",
       "      <td>0.036856</td>\n",
       "    </tr>\n",
       "  </tbody>\n",
       "</table>\n",
       "</div>"
      ],
      "text/plain": [
       "        date group  orders  buyers  revenue  visitors  conversion\n",
       "0 2019-08-01     A      24      20   148579       719    0.033380\n",
       "1 2019-08-01     B      21      20   101217       713    0.029453\n",
       "2 2019-08-02     A      44      38   242401      1338    0.032885\n",
       "3 2019-08-02     B      45      43   266748      1294    0.034776\n",
       "4 2019-08-03     A      68      62   354874      1845    0.036856"
      ]
     },
     "execution_count": 30,
     "metadata": {},
     "output_type": "execute_result"
    }
   ],
   "source": [
    "# посчитаем кумулятивную конверсию\n",
    "cumulative_data['conversion'] = cumulative_data['orders'] / cumulative_data['visitors']\n",
    "cumulative_data.head()"
   ]
  },
  {
   "cell_type": "code",
   "execution_count": 31,
   "id": "70e50491",
   "metadata": {},
   "outputs": [],
   "source": [
    "# сгруппируем данны по группе А \n",
    "cumulative_data_a = cumulative_data[cumulative_data['group'] == 'A']\n",
    "\n",
    "# сгруппируем данны по группе B \n",
    "cumulative_data_b = cumulative_data[cumulative_data['group'] == 'B']\n"
   ]
  },
  {
   "cell_type": "code",
   "execution_count": 32,
   "id": "a9ada38a",
   "metadata": {},
   "outputs": [
    {
     "data": {
      "image/png": "[encoded data removed]",
      "text/plain": [
       "<Figure size 1080x576 with 1 Axes>"
      ]
     },
     "metadata": {
      "needs_background": "light"
     },
     "output_type": "display_data"
    }
   ],
   "source": [
    "plt.plot(cumulative_data_a['date'], cumulative_data_a['conversion'], label='A')\n",
    "plt.plot(cumulative_data_b['date'], cumulative_data_b['conversion'], label='B')\n",
    "plt.legend()\n",
    "plt.xticks(rotation=45)\n",
    "plt.title(\"Кумулятивная конверсия по группам\\n\", fontsize=18, fontweight=\"bold\")\n",
    "plt.xlabel('\\nДата', fontsize=14, fontweight=\"bold\")\n",
    "plt.ylabel('Конверсия', fontsize=14, fontweight=\"bold\")\n",
    "plt.gcf().set_size_inches(15, 8);"
   ]
  },
  {
   "cell_type": "markdown",
   "id": "5242cb49",
   "metadata": {},
   "source": [
    "Видим, что в начале теста группа А имела большую конверсию, пик 03.08.2019 (конверсия составлял 0,037), после это даты наблюдается сильный спад с последующим уменьшением. Группа В имела также вначале скачок, затем спад и далее скачок до 0,0365"
   ]
  },
  {
   "cell_type": "markdown",
   "id": "e2cde2cb",
   "metadata": {},
   "source": [
    "### Построим график относительного изменения кумулятивной конверсии группы B к группе A."
   ]
  },
  {
   "cell_type": "code",
   "execution_count": 33,
   "id": "c1dc08cf",
   "metadata": {},
   "outputs": [
    {
     "data": {
      "text/html": [
       "<div>\n",
       "<style scoped>\n",
       "    .dataframe tbody tr th:only-of-type {\n",
       "        vertical-align: middle;\n",
       "    }\n",
       "\n",
       "    .dataframe tbody tr th {\n",
       "        vertical-align: top;\n",
       "    }\n",
       "\n",
       "    .dataframe thead th {\n",
       "        text-align: right;\n",
       "    }\n",
       "</style>\n",
       "<table border=\"1\" class=\"dataframe\">\n",
       "  <thead>\n",
       "    <tr style=\"text-align: right;\">\n",
       "      <th></th>\n",
       "      <th>date</th>\n",
       "      <th>conversionA</th>\n",
       "      <th>conversionB</th>\n",
       "    </tr>\n",
       "  </thead>\n",
       "  <tbody>\n",
       "    <tr>\n",
       "      <th>0</th>\n",
       "      <td>2019-08-01</td>\n",
       "      <td>0.033380</td>\n",
       "      <td>0.029453</td>\n",
       "    </tr>\n",
       "    <tr>\n",
       "      <th>1</th>\n",
       "      <td>2019-08-02</td>\n",
       "      <td>0.032885</td>\n",
       "      <td>0.034776</td>\n",
       "    </tr>\n",
       "    <tr>\n",
       "      <th>2</th>\n",
       "      <td>2019-08-03</td>\n",
       "      <td>0.036856</td>\n",
       "      <td>0.033833</td>\n",
       "    </tr>\n",
       "    <tr>\n",
       "      <th>3</th>\n",
       "      <td>2019-08-04</td>\n",
       "      <td>0.032787</td>\n",
       "      <td>0.030315</td>\n",
       "    </tr>\n",
       "    <tr>\n",
       "      <th>4</th>\n",
       "      <td>2019-08-05</td>\n",
       "      <td>0.032851</td>\n",
       "      <td>0.030793</td>\n",
       "    </tr>\n",
       "  </tbody>\n",
       "</table>\n",
       "</div>"
      ],
      "text/plain": [
       "        date  conversionA  conversionB\n",
       "0 2019-08-01     0.033380     0.029453\n",
       "1 2019-08-02     0.032885     0.034776\n",
       "2 2019-08-03     0.036856     0.033833\n",
       "3 2019-08-04     0.032787     0.030315\n",
       "4 2019-08-05     0.032851     0.030793"
      ]
     },
     "execution_count": 33,
     "metadata": {},
     "output_type": "execute_result"
    }
   ],
   "source": [
    "# собираем данные в одном датафрейме\n",
    "merged_cumulative_conversions = cumulative_data_a[['date', 'conversion']].merge(cumulative_data_b[['date', 'conversion']], left_on='date', right_on='date', how='left', suffixes=['A', 'B'])\n",
    "merged_cumulative_conversions.head()"
   ]
  },
  {
   "cell_type": "code",
   "execution_count": 34,
   "id": "580b0f85",
   "metadata": {
    "scrolled": false
   },
   "outputs": [
    {
     "data": {
      "image/png": "[encoded data removed]",
      "text/plain": [
       "<Figure size 1080x576 with 1 Axes>"
      ]
     },
     "metadata": {
      "needs_background": "light"
     },
     "output_type": "display_data"
    }
   ],
   "source": [
    "# cтроим отношение конверсий\n",
    "plt.plot(merged_cumulative_conversions['date'], merged_cumulative_conversions['conversionB']/merged_cumulative_conversions['conversionA']-1) \n",
    "# добавляем ось X\n",
    "plt.axhline(y=0, color='black', linestyle='--')\n",
    "plt.axhline(y=0.2, color='grey', linestyle='--')\n",
    "\n",
    "plt.title('Графики относительного прироста конверсии группы B относительно группы A\\n', fontsize=18, fontweight=\"bold\")\n",
    "plt.xlabel('\\nДата', fontsize=14, fontweight=\"bold\")\n",
    "plt.ylabel('Значение прироста', fontsize=14, fontweight=\"bold\")\n",
    "plt.xticks(rotation=70)\n",
    "plt.gcf().set_size_inches(15, 8);"
   ]
  },
  {
   "cell_type": "markdown",
   "id": "39144d58",
   "metadata": {},
   "source": [
    "Видм, что вначале теста группа В отстовала группы А, но с 01.08 наблюдался рост, после чего спад 03.08 и далее уверенный рост. Начиная с 06.08 группа В начала лидировать"
   ]
  },
  {
   "cell_type": "markdown",
   "id": "1802e35f",
   "metadata": {},
   "source": [
    "### Строим точечный график количества заказов по пользователям."
   ]
  },
  {
   "cell_type": "code",
   "execution_count": 35,
   "id": "ab28d09d",
   "metadata": {},
   "outputs": [
    {
     "data": {
      "text/html": [
       "<div>\n",
       "<style scoped>\n",
       "    .dataframe tbody tr th:only-of-type {\n",
       "        vertical-align: middle;\n",
       "    }\n",
       "\n",
       "    .dataframe tbody tr th {\n",
       "        vertical-align: top;\n",
       "    }\n",
       "\n",
       "    .dataframe thead th {\n",
       "        text-align: right;\n",
       "    }\n",
       "</style>\n",
       "<table border=\"1\" class=\"dataframe\">\n",
       "  <thead>\n",
       "    <tr style=\"text-align: right;\">\n",
       "      <th></th>\n",
       "      <th>visitor_id</th>\n",
       "      <th>orders</th>\n",
       "    </tr>\n",
       "  </thead>\n",
       "  <tbody>\n",
       "    <tr>\n",
       "      <th>1023</th>\n",
       "      <td>4256040402</td>\n",
       "      <td>11</td>\n",
       "    </tr>\n",
       "    <tr>\n",
       "      <th>591</th>\n",
       "      <td>2458001652</td>\n",
       "      <td>11</td>\n",
       "    </tr>\n",
       "    <tr>\n",
       "      <th>569</th>\n",
       "      <td>2378935119</td>\n",
       "      <td>9</td>\n",
       "    </tr>\n",
       "    <tr>\n",
       "      <th>487</th>\n",
       "      <td>2038680547</td>\n",
       "      <td>8</td>\n",
       "    </tr>\n",
       "    <tr>\n",
       "      <th>44</th>\n",
       "      <td>199603092</td>\n",
       "      <td>5</td>\n",
       "    </tr>\n",
       "  </tbody>\n",
       "</table>\n",
       "</div>"
      ],
      "text/plain": [
       "      visitor_id  orders\n",
       "1023  4256040402      11\n",
       "591   2458001652      11\n",
       "569   2378935119       9\n",
       "487   2038680547       8\n",
       "44     199603092       5"
      ]
     },
     "metadata": {},
     "output_type": "display_data"
    },
    {
     "data": {
      "image/png": "[encoded data removed]",
      "text/plain": [
       "<Figure size 1080x576 with 1 Axes>"
      ]
     },
     "metadata": {
      "needs_background": "light"
     },
     "output_type": "display_data"
    }
   ],
   "source": [
    "# собираем данные в таблицу\n",
    "orders_by_users = (\n",
    "    orders.groupby('visitor_id', as_index=False)\n",
    "    .agg({'transaction_id': 'nunique'})\n",
    "\n",
    ")\n",
    "orders_by_users.columns = ['visitor_id', 'orders'] # скорректируем названия столбцов\n",
    "\n",
    "display(orders_by_users.sort_values(by='orders', ascending=False).head()) # выведем на экран таблицу\n",
    "\n",
    "# серия из чисел от 0 до количества наблюдений в ordersByUsers\n",
    "x_values = pd.Series(range(0, len(orders_by_users)))\n",
    "\n",
    "plt.scatter(x_values, orders_by_users['orders'])\n",
    "plt.title('Графики количества заказов по пользователям\\n', fontsize=18, fontweight=\"bold\")\n",
    "plt.xlabel('\\nЧисло пользователей', fontsize=14, fontweight=\"bold\")\n",
    "plt.ylabel('Количество заказов', fontsize=14, fontweight=\"bold\")\n",
    "plt.gcf().set_size_inches(15, 8);"
   ]
  },
  {
   "cell_type": "markdown",
   "id": "dccf9293",
   "metadata": {},
   "source": [
    "Види, что в основном офрмляют 1 заказ, значительно реже 2, 3 и т.д."
   ]
  },
  {
   "cell_type": "markdown",
   "id": "f6465321",
   "metadata": {},
   "source": [
    "### Посчитаем 95-й и 99-й перцентили количества заказов на пользователя. Выберем границу для определения аномальных пользователей."
   ]
  },
  {
   "cell_type": "code",
   "execution_count": 36,
   "id": "3904c275",
   "metadata": {},
   "outputs": [
    {
     "name": "stdout",
     "output_type": "stream",
     "text": [
      "[2. 4.]\n"
     ]
    }
   ],
   "source": [
    "# метод np.percentile('column', [percentile1, percentile2, percentile3]) находит перцентили.\n",
    "print(np.percentile(orders_by_users['orders'], [95, 99]))"
   ]
  },
  {
   "cell_type": "markdown",
   "id": "d6806a9b",
   "metadata": {},
   "source": [
    "Видим, что не более 5% пользователей совершили больше 2-х заказов. И не более 1% пользователей - больше 4-х заказов.\n",
    "Соответственно, аномальное чилсо заказов - от 4 и выше."
   ]
  },
  {
   "cell_type": "markdown",
   "id": "422b649b",
   "metadata": {},
   "source": [
    "### Постром точечный график стоимостей заказов"
   ]
  },
  {
   "cell_type": "code",
   "execution_count": 37,
   "id": "f8312449",
   "metadata": {},
   "outputs": [
    {
     "data": {
      "image/png": "[encoded data removed]",
      "text/plain": [
       "<Figure size 1080x576 with 1 Axes>"
      ]
     },
     "metadata": {
      "needs_background": "light"
     },
     "output_type": "display_data"
    }
   ],
   "source": [
    "x_values = pd.Series(range(0, len(orders['revenue'])))\n",
    "plt.scatter(x_values, orders['revenue'])\n",
    "plt.title('График стоимости заказов\\n', fontsize=18, fontweight=\"bold\")\n",
    "plt.xlabel('\\nЧисло пользователей', fontsize=14, fontweight=\"bold\")\n",
    "plt.ylabel('Стоимость заказа', fontsize=14, fontweight=\"bold\")\n",
    "plt.axis([0, 1200, 0, 100000]) # скорректируем крайний диапазон осей\n",
    "plt.gcf().set_size_inches(15, 8);"
   ]
  },
  {
   "cell_type": "markdown",
   "id": "901a5bae",
   "metadata": {},
   "source": [
    "Видим, что в основном, сумма заказа не превышает 20 000 р."
   ]
  },
  {
   "cell_type": "markdown",
   "id": "c24c6a26",
   "metadata": {},
   "source": [
    "### Посчитаем 95-й и 99-й перцентили стоимости заказов на пользователя. Выберем границу для определения аномальных заказов."
   ]
  },
  {
   "cell_type": "code",
   "execution_count": 38,
   "id": "6dc2a9a3",
   "metadata": {},
   "outputs": [
    {
     "name": "stdout",
     "output_type": "stream",
     "text": [
      "[28000.  58233.2]\n"
     ]
    }
   ],
   "source": [
    "print(np.percentile(orders['revenue'], [95, 99]))"
   ]
  },
  {
   "cell_type": "markdown",
   "id": "8f71a9f9",
   "metadata": {},
   "source": [
    "Видим, что не более чем у 5% заказов чек дороже 28 000 р. И не больше, чем у 1% заказов - дороже 58 233 р.\n",
    "Будем считать что аномальная сумма заказа 58 233 р."
   ]
  },
  {
   "cell_type": "markdown",
   "id": "95a2c79a",
   "metadata": {},
   "source": [
    "### Посчитаем статистическую значимость различий в конверсии между группами по «сырым» данным."
   ]
  },
  {
   "cell_type": "code",
   "execution_count": 39,
   "id": "293c68cc",
   "metadata": {},
   "outputs": [
    {
     "data": {
      "text/html": [
       "<div>\n",
       "<style scoped>\n",
       "    .dataframe tbody tr th:only-of-type {\n",
       "        vertical-align: middle;\n",
       "    }\n",
       "\n",
       "    .dataframe tbody tr th {\n",
       "        vertical-align: top;\n",
       "    }\n",
       "\n",
       "    .dataframe thead th {\n",
       "        text-align: right;\n",
       "    }\n",
       "</style>\n",
       "<table border=\"1\" class=\"dataframe\">\n",
       "  <thead>\n",
       "    <tr style=\"text-align: right;\">\n",
       "      <th></th>\n",
       "      <th>date</th>\n",
       "      <th>visitors_cummulative_a</th>\n",
       "    </tr>\n",
       "  </thead>\n",
       "  <tbody>\n",
       "    <tr>\n",
       "      <th>0</th>\n",
       "      <td>2019-08-01</td>\n",
       "      <td>719</td>\n",
       "    </tr>\n",
       "    <tr>\n",
       "      <th>1</th>\n",
       "      <td>2019-08-02</td>\n",
       "      <td>1338</td>\n",
       "    </tr>\n",
       "    <tr>\n",
       "      <th>2</th>\n",
       "      <td>2019-08-03</td>\n",
       "      <td>1845</td>\n",
       "    </tr>\n",
       "    <tr>\n",
       "      <th>3</th>\n",
       "      <td>2019-08-04</td>\n",
       "      <td>2562</td>\n",
       "    </tr>\n",
       "    <tr>\n",
       "      <th>4</th>\n",
       "      <td>2019-08-05</td>\n",
       "      <td>3318</td>\n",
       "    </tr>\n",
       "  </tbody>\n",
       "</table>\n",
       "</div>"
      ],
      "text/plain": [
       "        date  visitors_cummulative_a\n",
       "0 2019-08-01                     719\n",
       "1 2019-08-02                    1338\n",
       "2 2019-08-03                    1845\n",
       "3 2019-08-04                    2562\n",
       "4 2019-08-05                    3318"
      ]
     },
     "execution_count": 39,
     "metadata": {},
     "output_type": "execute_result"
    }
   ],
   "source": [
    "# сгруппируем и посчитаем екмулятивных пользователей группы А\n",
    "visitors_a_daily = visitors[visitors['group'] == 'A'][['date', 'visitors']]\n",
    "visitors_a_daily.columns = ['date', 'visitors_per_date_a']\n",
    "\n",
    "visitors_a_cummulative = visitors_a_daily.apply(\n",
    "    lambda x: visitors_a_daily[visitors_a_daily['date'] <= x['date']].agg(\n",
    "        {'date': 'max', 'visitors_per_date_a': 'sum'}\n",
    "    ),\n",
    "    axis=1,\n",
    ")\n",
    "\n",
    "visitors_a_cummulative.columns = ['date', 'visitors_cummulative_a']\n",
    "visitors_a_cummulative.head(5)"
   ]
  },
  {
   "cell_type": "code",
   "execution_count": 40,
   "id": "672c6268",
   "metadata": {},
   "outputs": [
    {
     "data": {
      "text/html": [
       "<div>\n",
       "<style scoped>\n",
       "    .dataframe tbody tr th:only-of-type {\n",
       "        vertical-align: middle;\n",
       "    }\n",
       "\n",
       "    .dataframe tbody tr th {\n",
       "        vertical-align: top;\n",
       "    }\n",
       "\n",
       "    .dataframe thead th {\n",
       "        text-align: right;\n",
       "    }\n",
       "</style>\n",
       "<table border=\"1\" class=\"dataframe\">\n",
       "  <thead>\n",
       "    <tr style=\"text-align: right;\">\n",
       "      <th></th>\n",
       "      <th>date</th>\n",
       "      <th>visitors_cummulative_b</th>\n",
       "    </tr>\n",
       "  </thead>\n",
       "  <tbody>\n",
       "    <tr>\n",
       "      <th>31</th>\n",
       "      <td>2019-08-01</td>\n",
       "      <td>713</td>\n",
       "    </tr>\n",
       "    <tr>\n",
       "      <th>32</th>\n",
       "      <td>2019-08-02</td>\n",
       "      <td>1294</td>\n",
       "    </tr>\n",
       "    <tr>\n",
       "      <th>33</th>\n",
       "      <td>2019-08-03</td>\n",
       "      <td>1803</td>\n",
       "    </tr>\n",
       "    <tr>\n",
       "      <th>34</th>\n",
       "      <td>2019-08-04</td>\n",
       "      <td>2573</td>\n",
       "    </tr>\n",
       "    <tr>\n",
       "      <th>35</th>\n",
       "      <td>2019-08-05</td>\n",
       "      <td>3280</td>\n",
       "    </tr>\n",
       "  </tbody>\n",
       "</table>\n",
       "</div>"
      ],
      "text/plain": [
       "         date  visitors_cummulative_b\n",
       "31 2019-08-01                     713\n",
       "32 2019-08-02                    1294\n",
       "33 2019-08-03                    1803\n",
       "34 2019-08-04                    2573\n",
       "35 2019-08-05                    3280"
      ]
     },
     "execution_count": 40,
     "metadata": {},
     "output_type": "execute_result"
    }
   ],
   "source": [
    "# сгруппируем и посчитаем екмулятивных пользователей группы B\n",
    "visitors_b_daily = visitors[visitors['group'] == 'B'][['date', 'visitors']]\n",
    "visitors_b_daily.columns = ['date', 'visitors_per_date_b']\n",
    "\n",
    "visitors_b_cummulative = visitors_b_daily.apply(\n",
    "    lambda x: visitors_b_daily[visitors_b_daily['date'] <= x['date']].agg(\n",
    "        {'date': 'max', 'visitors_per_date_b': 'sum'}\n",
    "    ),\n",
    "    axis=1,\n",
    ")\n",
    "\n",
    "visitors_b_cummulative.columns = ['date', 'visitors_cummulative_b']\n",
    "visitors_b_cummulative.head()"
   ]
  },
  {
   "cell_type": "code",
   "execution_count": 41,
   "id": "943271be",
   "metadata": {},
   "outputs": [
    {
     "data": {
      "text/html": [
       "<div>\n",
       "<style scoped>\n",
       "    .dataframe tbody tr th:only-of-type {\n",
       "        vertical-align: middle;\n",
       "    }\n",
       "\n",
       "    .dataframe tbody tr th {\n",
       "        vertical-align: top;\n",
       "    }\n",
       "\n",
       "    .dataframe thead th {\n",
       "        text-align: right;\n",
       "    }\n",
       "</style>\n",
       "<table border=\"1\" class=\"dataframe\">\n",
       "  <thead>\n",
       "    <tr style=\"text-align: right;\">\n",
       "      <th></th>\n",
       "      <th>date</th>\n",
       "      <th>orders_per_date_a</th>\n",
       "      <th>revenue_per_date_a</th>\n",
       "    </tr>\n",
       "  </thead>\n",
       "  <tbody>\n",
       "    <tr>\n",
       "      <th>0</th>\n",
       "      <td>2019-08-01</td>\n",
       "      <td>24</td>\n",
       "      <td>148579</td>\n",
       "    </tr>\n",
       "    <tr>\n",
       "      <th>1</th>\n",
       "      <td>2019-08-02</td>\n",
       "      <td>20</td>\n",
       "      <td>93822</td>\n",
       "    </tr>\n",
       "    <tr>\n",
       "      <th>2</th>\n",
       "      <td>2019-08-03</td>\n",
       "      <td>24</td>\n",
       "      <td>112473</td>\n",
       "    </tr>\n",
       "    <tr>\n",
       "      <th>3</th>\n",
       "      <td>2019-08-04</td>\n",
       "      <td>16</td>\n",
       "      <td>70825</td>\n",
       "    </tr>\n",
       "    <tr>\n",
       "      <th>4</th>\n",
       "      <td>2019-08-05</td>\n",
       "      <td>25</td>\n",
       "      <td>124218</td>\n",
       "    </tr>\n",
       "  </tbody>\n",
       "</table>\n",
       "</div>"
      ],
      "text/plain": [
       "        date  orders_per_date_a  revenue_per_date_a\n",
       "0 2019-08-01                 24              148579\n",
       "1 2019-08-02                 20               93822\n",
       "2 2019-08-03                 24              112473\n",
       "3 2019-08-04                 16               70825\n",
       "4 2019-08-05                 25              124218"
      ]
     },
     "execution_count": 41,
     "metadata": {},
     "output_type": "execute_result"
    }
   ],
   "source": [
    "# добавим выручку в группе А\n",
    "orders_a_daily = (\n",
    "    orders[orders['group'] == 'A'][['date', 'transaction_id', 'visitor_id', 'revenue']]\n",
    "    .groupby('date', as_index=False)\n",
    "    .agg({'transaction_id': pd.Series.nunique, 'revenue': 'sum'})\n",
    ")\n",
    "orders_a_daily.columns = ['date', 'orders_per_date_a', 'revenue_per_date_a']\n",
    "\n",
    "orders_a_cummulative = orders_a_daily.apply(\n",
    "    lambda x: orders_a_daily[orders_a_daily['date'] <= x['date']].agg(\n",
    "        {'date': 'max', 'orders_per_date_a': 'sum', 'revenue_per_date_a': 'sum'}\n",
    "    ),\n",
    "    axis=1,\n",
    ").sort_values(by=['date'])\n",
    "orders_a_cummulative.columns = [\n",
    "    'date',\n",
    "    'orders_cummulative_a',\n",
    "    'revenue_cummulative_a',\n",
    "]\n",
    "\n",
    "orders_a_daily.head()"
   ]
  },
  {
   "cell_type": "code",
   "execution_count": 42,
   "id": "9db9dfa7",
   "metadata": {},
   "outputs": [
    {
     "data": {
      "text/html": [
       "<div>\n",
       "<style scoped>\n",
       "    .dataframe tbody tr th:only-of-type {\n",
       "        vertical-align: middle;\n",
       "    }\n",
       "\n",
       "    .dataframe tbody tr th {\n",
       "        vertical-align: top;\n",
       "    }\n",
       "\n",
       "    .dataframe thead th {\n",
       "        text-align: right;\n",
       "    }\n",
       "</style>\n",
       "<table border=\"1\" class=\"dataframe\">\n",
       "  <thead>\n",
       "    <tr style=\"text-align: right;\">\n",
       "      <th></th>\n",
       "      <th>date</th>\n",
       "      <th>orders_per_date_b</th>\n",
       "      <th>revenue_per_date_b</th>\n",
       "    </tr>\n",
       "  </thead>\n",
       "  <tbody>\n",
       "    <tr>\n",
       "      <th>0</th>\n",
       "      <td>2019-08-01</td>\n",
       "      <td>21</td>\n",
       "      <td>101217</td>\n",
       "    </tr>\n",
       "    <tr>\n",
       "      <th>1</th>\n",
       "      <td>2019-08-02</td>\n",
       "      <td>24</td>\n",
       "      <td>165531</td>\n",
       "    </tr>\n",
       "    <tr>\n",
       "      <th>2</th>\n",
       "      <td>2019-08-03</td>\n",
       "      <td>16</td>\n",
       "      <td>114248</td>\n",
       "    </tr>\n",
       "    <tr>\n",
       "      <th>3</th>\n",
       "      <td>2019-08-04</td>\n",
       "      <td>17</td>\n",
       "      <td>108571</td>\n",
       "    </tr>\n",
       "    <tr>\n",
       "      <th>4</th>\n",
       "      <td>2019-08-05</td>\n",
       "      <td>23</td>\n",
       "      <td>92428</td>\n",
       "    </tr>\n",
       "  </tbody>\n",
       "</table>\n",
       "</div>"
      ],
      "text/plain": [
       "        date  orders_per_date_b  revenue_per_date_b\n",
       "0 2019-08-01                 21              101217\n",
       "1 2019-08-02                 24              165531\n",
       "2 2019-08-03                 16              114248\n",
       "3 2019-08-04                 17              108571\n",
       "4 2019-08-05                 23               92428"
      ]
     },
     "execution_count": 42,
     "metadata": {},
     "output_type": "execute_result"
    }
   ],
   "source": [
    "# добавим выручку в группе В\n",
    "orders_b_daily = (\n",
    "    orders[orders['group'] == 'B'][['date', 'transaction_id', 'visitor_id', 'revenue']]\n",
    "    .groupby('date', as_index=False)\n",
    "    .agg({'transaction_id': pd.Series.nunique, 'revenue': 'sum'})\n",
    ")\n",
    "orders_b_daily.columns = ['date', 'orders_per_date_b', 'revenue_per_date_b']\n",
    "\n",
    "orders_b_cummulative = orders_b_daily.apply(\n",
    "    lambda x: orders_b_daily[orders_b_daily['date'] <= x['date']].agg(\n",
    "        {'date': 'max', 'orders_per_date_b': 'sum', 'revenue_per_date_b': 'sum'}\n",
    "    ),\n",
    "    axis=1,\n",
    ").sort_values(by=['date'])\n",
    "orders_b_cummulative.columns = [\n",
    "    'date',\n",
    "    'orders_cummulative_b',\n",
    "    'revenue_cummulative_b',\n",
    "]\n",
    "\n",
    "orders_b_daily.head()"
   ]
  },
  {
   "cell_type": "code",
   "execution_count": 43,
   "id": "3261370c",
   "metadata": {},
   "outputs": [
    {
     "data": {
      "text/html": [
       "<div>\n",
       "<style scoped>\n",
       "    .dataframe tbody tr th:only-of-type {\n",
       "        vertical-align: middle;\n",
       "    }\n",
       "\n",
       "    .dataframe tbody tr th {\n",
       "        vertical-align: top;\n",
       "    }\n",
       "\n",
       "    .dataframe thead th {\n",
       "        text-align: right;\n",
       "    }\n",
       "</style>\n",
       "<table border=\"1\" class=\"dataframe\">\n",
       "  <thead>\n",
       "    <tr style=\"text-align: right;\">\n",
       "      <th></th>\n",
       "      <th>date</th>\n",
       "      <th>orders_per_date_a</th>\n",
       "      <th>revenue_per_date_a</th>\n",
       "      <th>orders_per_date_b</th>\n",
       "      <th>revenue_per_date_b</th>\n",
       "      <th>orders_cummulative_a</th>\n",
       "      <th>revenue_cummulative_a</th>\n",
       "      <th>orders_cummulative_b</th>\n",
       "      <th>revenue_cummulative_b</th>\n",
       "      <th>visitors_per_date_a</th>\n",
       "      <th>visitors_per_date_b</th>\n",
       "      <th>visitors_cummulative_a</th>\n",
       "      <th>visitors_cummulative_b</th>\n",
       "    </tr>\n",
       "  </thead>\n",
       "  <tbody>\n",
       "    <tr>\n",
       "      <th>0</th>\n",
       "      <td>2019-08-01</td>\n",
       "      <td>24</td>\n",
       "      <td>148579</td>\n",
       "      <td>21</td>\n",
       "      <td>101217</td>\n",
       "      <td>24</td>\n",
       "      <td>148579</td>\n",
       "      <td>21</td>\n",
       "      <td>101217</td>\n",
       "      <td>719</td>\n",
       "      <td>713</td>\n",
       "      <td>719</td>\n",
       "      <td>713</td>\n",
       "    </tr>\n",
       "    <tr>\n",
       "      <th>1</th>\n",
       "      <td>2019-08-02</td>\n",
       "      <td>20</td>\n",
       "      <td>93822</td>\n",
       "      <td>24</td>\n",
       "      <td>165531</td>\n",
       "      <td>44</td>\n",
       "      <td>242401</td>\n",
       "      <td>45</td>\n",
       "      <td>266748</td>\n",
       "      <td>619</td>\n",
       "      <td>581</td>\n",
       "      <td>1338</td>\n",
       "      <td>1294</td>\n",
       "    </tr>\n",
       "    <tr>\n",
       "      <th>2</th>\n",
       "      <td>2019-08-03</td>\n",
       "      <td>24</td>\n",
       "      <td>112473</td>\n",
       "      <td>16</td>\n",
       "      <td>114248</td>\n",
       "      <td>68</td>\n",
       "      <td>354874</td>\n",
       "      <td>61</td>\n",
       "      <td>380996</td>\n",
       "      <td>507</td>\n",
       "      <td>509</td>\n",
       "      <td>1845</td>\n",
       "      <td>1803</td>\n",
       "    </tr>\n",
       "    <tr>\n",
       "      <th>3</th>\n",
       "      <td>2019-08-04</td>\n",
       "      <td>16</td>\n",
       "      <td>70825</td>\n",
       "      <td>17</td>\n",
       "      <td>108571</td>\n",
       "      <td>84</td>\n",
       "      <td>425699</td>\n",
       "      <td>78</td>\n",
       "      <td>489567</td>\n",
       "      <td>717</td>\n",
       "      <td>770</td>\n",
       "      <td>2562</td>\n",
       "      <td>2573</td>\n",
       "    </tr>\n",
       "    <tr>\n",
       "      <th>4</th>\n",
       "      <td>2019-08-05</td>\n",
       "      <td>25</td>\n",
       "      <td>124218</td>\n",
       "      <td>23</td>\n",
       "      <td>92428</td>\n",
       "      <td>109</td>\n",
       "      <td>549917</td>\n",
       "      <td>101</td>\n",
       "      <td>581995</td>\n",
       "      <td>756</td>\n",
       "      <td>707</td>\n",
       "      <td>3318</td>\n",
       "      <td>3280</td>\n",
       "    </tr>\n",
       "  </tbody>\n",
       "</table>\n",
       "</div>"
      ],
      "text/plain": [
       "        date  orders_per_date_a  revenue_per_date_a  orders_per_date_b  \\\n",
       "0 2019-08-01                 24              148579                 21   \n",
       "1 2019-08-02                 20               93822                 24   \n",
       "2 2019-08-03                 24              112473                 16   \n",
       "3 2019-08-04                 16               70825                 17   \n",
       "4 2019-08-05                 25              124218                 23   \n",
       "\n",
       "   revenue_per_date_b  orders_cummulative_a  revenue_cummulative_a  \\\n",
       "0              101217                    24                 148579   \n",
       "1              165531                    44                 242401   \n",
       "2              114248                    68                 354874   \n",
       "3              108571                    84                 425699   \n",
       "4               92428                   109                 549917   \n",
       "\n",
       "   orders_cummulative_b  revenue_cummulative_b  visitors_per_date_a  \\\n",
       "0                    21                 101217                  719   \n",
       "1                    45                 266748                  619   \n",
       "2                    61                 380996                  507   \n",
       "3                    78                 489567                  717   \n",
       "4                   101                 581995                  756   \n",
       "\n",
       "   visitors_per_date_b  visitors_cummulative_a  visitors_cummulative_b  \n",
       "0                  713                     719                     713  \n",
       "1                  581                    1338                    1294  \n",
       "2                  509                    1845                    1803  \n",
       "3                  770                    2562                    2573  \n",
       "4                  707                    3318                    3280  "
      ]
     },
     "execution_count": 43,
     "metadata": {},
     "output_type": "execute_result"
    }
   ],
   "source": [
    "# объединим две таблицы по дате\n",
    "data = (\n",
    "    orders_a_daily.merge(\n",
    "        orders_b_daily, left_on='date', right_on='date', how='left'\n",
    "    )\n",
    "    .merge(orders_a_cummulative, left_on='date', right_on='date', how='left')\n",
    "    .merge(orders_b_cummulative, left_on='date', right_on='date', how='left')\n",
    "    .merge(visitors_a_daily, left_on='date', right_on='date', how='left')\n",
    "    .merge(visitors_b_daily, left_on='date', right_on='date', how='left')\n",
    "    .merge(visitors_a_cummulative, left_on='date', right_on='date', how='left')\n",
    "    .merge(visitors_b_cummulative, left_on='date', right_on='date', how='left')\n",
    ")\n",
    "data.head()"
   ]
  },
  {
   "cell_type": "code",
   "execution_count": 44,
   "id": "b3c056bb",
   "metadata": {},
   "outputs": [
    {
     "data": {
      "text/html": [
       "<div>\n",
       "<style scoped>\n",
       "    .dataframe tbody tr th:only-of-type {\n",
       "        vertical-align: middle;\n",
       "    }\n",
       "\n",
       "    .dataframe tbody tr th {\n",
       "        vertical-align: top;\n",
       "    }\n",
       "\n",
       "    .dataframe thead th {\n",
       "        text-align: right;\n",
       "    }\n",
       "</style>\n",
       "<table border=\"1\" class=\"dataframe\">\n",
       "  <thead>\n",
       "    <tr style=\"text-align: right;\">\n",
       "      <th></th>\n",
       "      <th>visitor_id</th>\n",
       "      <th>orders</th>\n",
       "    </tr>\n",
       "  </thead>\n",
       "  <tbody>\n",
       "    <tr>\n",
       "      <th>0</th>\n",
       "      <td>8300375</td>\n",
       "      <td>1</td>\n",
       "    </tr>\n",
       "    <tr>\n",
       "      <th>1</th>\n",
       "      <td>11685486</td>\n",
       "      <td>1</td>\n",
       "    </tr>\n",
       "    <tr>\n",
       "      <th>2</th>\n",
       "      <td>54447517</td>\n",
       "      <td>1</td>\n",
       "    </tr>\n",
       "    <tr>\n",
       "      <th>3</th>\n",
       "      <td>66685450</td>\n",
       "      <td>1</td>\n",
       "    </tr>\n",
       "    <tr>\n",
       "      <th>4</th>\n",
       "      <td>78758296</td>\n",
       "      <td>1</td>\n",
       "    </tr>\n",
       "    <tr>\n",
       "      <th>...</th>\n",
       "      <td>...</td>\n",
       "      <td>...</td>\n",
       "    </tr>\n",
       "    <tr>\n",
       "      <th>498</th>\n",
       "      <td>4243832526</td>\n",
       "      <td>1</td>\n",
       "    </tr>\n",
       "    <tr>\n",
       "      <th>499</th>\n",
       "      <td>4256040402</td>\n",
       "      <td>7</td>\n",
       "    </tr>\n",
       "    <tr>\n",
       "      <th>500</th>\n",
       "      <td>4259830713</td>\n",
       "      <td>1</td>\n",
       "    </tr>\n",
       "    <tr>\n",
       "      <th>501</th>\n",
       "      <td>4266935830</td>\n",
       "      <td>1</td>\n",
       "    </tr>\n",
       "    <tr>\n",
       "      <th>502</th>\n",
       "      <td>4278982564</td>\n",
       "      <td>1</td>\n",
       "    </tr>\n",
       "  </tbody>\n",
       "</table>\n",
       "<p>503 rows × 2 columns</p>\n",
       "</div>"
      ],
      "text/plain": [
       "     visitor_id  orders\n",
       "0       8300375       1\n",
       "1      11685486       1\n",
       "2      54447517       1\n",
       "3      66685450       1\n",
       "4      78758296       1\n",
       "..          ...     ...\n",
       "498  4243832526       1\n",
       "499  4256040402       7\n",
       "500  4259830713       1\n",
       "501  4266935830       1\n",
       "502  4278982564       1\n",
       "\n",
       "[503 rows x 2 columns]"
      ]
     },
     "metadata": {},
     "output_type": "display_data"
    },
    {
     "data": {
      "text/html": [
       "<div>\n",
       "<style scoped>\n",
       "    .dataframe tbody tr th:only-of-type {\n",
       "        vertical-align: middle;\n",
       "    }\n",
       "\n",
       "    .dataframe tbody tr th {\n",
       "        vertical-align: top;\n",
       "    }\n",
       "\n",
       "    .dataframe thead th {\n",
       "        text-align: right;\n",
       "    }\n",
       "</style>\n",
       "<table border=\"1\" class=\"dataframe\">\n",
       "  <thead>\n",
       "    <tr style=\"text-align: right;\">\n",
       "      <th></th>\n",
       "      <th>visitor_id</th>\n",
       "      <th>orders</th>\n",
       "    </tr>\n",
       "  </thead>\n",
       "  <tbody>\n",
       "    <tr>\n",
       "      <th>0</th>\n",
       "      <td>5114589</td>\n",
       "      <td>1</td>\n",
       "    </tr>\n",
       "    <tr>\n",
       "      <th>1</th>\n",
       "      <td>6958315</td>\n",
       "      <td>1</td>\n",
       "    </tr>\n",
       "    <tr>\n",
       "      <th>2</th>\n",
       "      <td>8300375</td>\n",
       "      <td>1</td>\n",
       "    </tr>\n",
       "    <tr>\n",
       "      <th>3</th>\n",
       "      <td>39475350</td>\n",
       "      <td>1</td>\n",
       "    </tr>\n",
       "    <tr>\n",
       "      <th>4</th>\n",
       "      <td>47206413</td>\n",
       "      <td>1</td>\n",
       "    </tr>\n",
       "    <tr>\n",
       "      <th>...</th>\n",
       "      <td>...</td>\n",
       "      <td>...</td>\n",
       "    </tr>\n",
       "    <tr>\n",
       "      <th>581</th>\n",
       "      <td>4258103007</td>\n",
       "      <td>1</td>\n",
       "    </tr>\n",
       "    <tr>\n",
       "      <th>582</th>\n",
       "      <td>4266935830</td>\n",
       "      <td>1</td>\n",
       "    </tr>\n",
       "    <tr>\n",
       "      <th>583</th>\n",
       "      <td>4279090005</td>\n",
       "      <td>1</td>\n",
       "    </tr>\n",
       "    <tr>\n",
       "      <th>584</th>\n",
       "      <td>4281247801</td>\n",
       "      <td>1</td>\n",
       "    </tr>\n",
       "    <tr>\n",
       "      <th>585</th>\n",
       "      <td>4283872382</td>\n",
       "      <td>1</td>\n",
       "    </tr>\n",
       "  </tbody>\n",
       "</table>\n",
       "<p>586 rows × 2 columns</p>\n",
       "</div>"
      ],
      "text/plain": [
       "     visitor_id  orders\n",
       "0       5114589       1\n",
       "1       6958315       1\n",
       "2       8300375       1\n",
       "3      39475350       1\n",
       "4      47206413       1\n",
       "..          ...     ...\n",
       "581  4258103007       1\n",
       "582  4266935830       1\n",
       "583  4279090005       1\n",
       "584  4281247801       1\n",
       "585  4283872382       1\n",
       "\n",
       "[586 rows x 2 columns]"
      ]
     },
     "metadata": {},
     "output_type": "display_data"
    }
   ],
   "source": [
    "# создадим таблицы для каждой группы, в которых буду пользователи, совершившие хотя бы один заказ\n",
    "orders_by_users_a = (\n",
    "    orders[orders['group'] == 'A']\n",
    "    .groupby('visitor_id', as_index=False)\n",
    "    .agg({'transaction_id': pd.Series.nunique})\n",
    ")\n",
    "orders_by_users_a.columns = ['visitor_id', 'orders']\n",
    "\n",
    "orders_by_users_b = (\n",
    "    orders[orders['group'] == 'B']\n",
    "    .groupby('visitor_id', as_index=False)\n",
    "    .agg({'transaction_id': pd.Series.nunique})\n",
    ")\n",
    "orders_by_users_b.columns = ['visitor_id', 'orders']\n",
    "\n",
    "display(orders_by_users_a, orders_by_users_b)"
   ]
  },
  {
   "cell_type": "markdown",
   "id": "5784ecba",
   "metadata": {},
   "source": [
    "Сформулируем гипотезы\n",
    "\n",
    "Н0 - различия в конверсиях между группами по «сырым» данным статистически не значимы\n",
    "\n",
    "Н1 - различия в конверсиях между группами по «сырым» данным статистически значимы\n",
    "\n",
    "Пороговое значение alpha примем за 5%."
   ]
  },
  {
   "cell_type": "code",
   "execution_count": 45,
   "id": "79b37f94",
   "metadata": {},
   "outputs": [],
   "source": [
    "# бъявим переменные, в которых пользователям с заказами будет соответствовать число заказов пользователя. \n",
    "# А пользователям без заказов — нули.\n",
    "\n",
    "sample_a = pd.concat([orders_by_users_a['orders'],pd.Series(0, index=np.arange(data['visitors_per_date_a'].sum() - len(orders_by_users_a['orders'])), name='orders')],axis=0)\n",
    "sample_b = pd.concat([orders_by_users_b['orders'],pd.Series(0, index=np.arange(data['visitors_per_date_b'].sum() - len(orders_by_users_b['orders'])), name='orders')],axis=0)\n"
   ]
  },
  {
   "cell_type": "code",
   "execution_count": 46,
   "id": "1f0760c7",
   "metadata": {},
   "outputs": [
    {
     "name": "stdout",
     "output_type": "stream",
     "text": [
      "0.01679\n"
     ]
    }
   ],
   "source": [
    "# посчитаем статистическую значимость различия конверсии тестом Манна-Уитни\n",
    "print(\"{0:.5f}\".format(st.mannwhitneyu(sample_a, sample_b)[1]))"
   ]
  },
  {
   "cell_type": "markdown",
   "id": "0adde6d0",
   "metadata": {},
   "source": [
    "Видим, что p-value мене 0,05, соответственно нулевую гипотезу отвергаем. То есть в конверсии между группами есть статистически значимые различия. Что в свое очередь теребует от нас удаление выбросов"
   ]
  },
  {
   "cell_type": "code",
   "execution_count": 47,
   "id": "e5c0ddbe",
   "metadata": {},
   "outputs": [
    {
     "name": "stdout",
     "output_type": "stream",
     "text": [
      "0.138\n"
     ]
    }
   ],
   "source": [
    "# посчитаем относительный прирост\n",
    "print(\"{0:.3f}\".format((sample_b.mean()/sample_a.mean())-1))"
   ]
  },
  {
   "cell_type": "markdown",
   "id": "8770e932",
   "metadata": {},
   "source": [
    "Видим, что относительный прирост конверсии группы B к А составил 13,8%"
   ]
  },
  {
   "cell_type": "markdown",
   "id": "9637b99c",
   "metadata": {},
   "source": [
    "### Посчитаем статистическую значимость различий в среднем чеке заказа между группами по «сырым» данным. "
   ]
  },
  {
   "cell_type": "markdown",
   "id": "bd9bb74a",
   "metadata": {},
   "source": [
    "Сформулируем гипотезы\n",
    "\n",
    "Н0 - различия в среднем чеке заказа между группами по «сырым» данным статистически не значимы\n",
    "\n",
    "Н1 - различия в среднем чеке заказа между группами по «сырым» данным статистически значимы\n",
    "\n",
    "Пороговое значение alpha примем за 5%."
   ]
  },
  {
   "cell_type": "code",
   "execution_count": 48,
   "id": "1c447a75",
   "metadata": {},
   "outputs": [],
   "source": [
    "# выделим столбцы с выручкой по каждой из групп\n",
    "revenue_a = orders[orders['group'] == 'A']['revenue']\n",
    "revenue_b = orders[orders['group'] == 'B']['revenue']"
   ]
  },
  {
   "cell_type": "code",
   "execution_count": 49,
   "id": "961500af",
   "metadata": {
    "scrolled": true
   },
   "outputs": [
    {
     "name": "stdout",
     "output_type": "stream",
     "text": [
      "0.72929\n"
     ]
    }
   ],
   "source": [
    "print(\"{0:.5f}\".format(st.mannwhitneyu(revenue_a, revenue_b)[1]))"
   ]
  },
  {
   "cell_type": "markdown",
   "id": "69acfbaa",
   "metadata": {},
   "source": [
    "Видим, что p-value значительно больше 0,05, соответственно нулевую гипотезу не отвергаем. То есть имеются незначительные различия в среднем чеке между групп"
   ]
  },
  {
   "cell_type": "markdown",
   "id": "8afdbede",
   "metadata": {},
   "source": [
    "### Посчитайте статистическую значимость различий в конверсии между группами по «очищенным» данным"
   ]
  },
  {
   "cell_type": "code",
   "execution_count": 50,
   "id": "de317d7f",
   "metadata": {},
   "outputs": [],
   "source": [
    "# \"очистим\" данные с помощью среза\n",
    "# соберем пользователей с 4-мя заказами, т.к. считаем их аномальными\n",
    "users_with_many_orders = pd.concat(\n",
    "    [\n",
    "        orders_by_users_a[orders_by_users_a['orders'] > 3]['visitor_id'],\n",
    "        orders_by_users_b[orders_by_users_b['orders'] > 3]['visitor_id'],\n",
    "    ],\n",
    "    axis=0,\n",
    ")\n",
    "\n",
    "# соберем заказы более 30000 р., т.к. считаем их аномальными\n",
    "users_with_expensive_orders = orders[orders['revenue'] > 30000]['visitor_id']"
   ]
  },
  {
   "cell_type": "code",
   "execution_count": 51,
   "id": "bcdab58f",
   "metadata": {},
   "outputs": [
    {
     "name": "stdout",
     "output_type": "stream",
     "text": [
      "1099    148427295\n",
      "18      199603092\n",
      "928     204675465\n",
      "23      237748145\n",
      "684     358944393\n",
      "Name: visitor_id, dtype: int64\n"
     ]
    }
   ],
   "source": [
    "# объединим таблицы, отсортируем, удалим дубликаты\n",
    "abnormal_users = (\n",
    "    pd.concat([users_with_many_orders, users_with_expensive_orders], axis=0)\n",
    "    .drop_duplicates()\n",
    "    .sort_values()\n",
    ")\n",
    "print(abnormal_users.head(5))"
   ]
  },
  {
   "cell_type": "code",
   "execution_count": 52,
   "id": "6250837e",
   "metadata": {},
   "outputs": [],
   "source": [
    "# исключим аномальных пользователей\n",
    "\n",
    "sample_a_filtered = pd.concat(\n",
    "    [\n",
    "        orders_by_users_a[\n",
    "            np.logical_not(orders_by_users_a['visitor_id'].isin(abnormal_users))\n",
    "        ]['orders'],\n",
    "        pd.Series(\n",
    "            0,\n",
    "            index=np.arange(\n",
    "                data['visitors_per_date_a'].sum() - len(orders_by_users_a['orders'])\n",
    "            ),\n",
    "            name='orders',\n",
    "        ),\n",
    "    ],\n",
    "    axis=0,\n",
    ")\n",
    "\n",
    "sample_b_filtered = pd.concat(\n",
    "    [\n",
    "        orders_by_users_b[\n",
    "            np.logical_not(orders_by_users_b['visitor_id'].isin(abnormal_users))\n",
    "        ]['orders'],\n",
    "        pd.Series(\n",
    "            0,\n",
    "            index=np.arange(\n",
    "                data['visitors_per_date_b'].sum() - len(orders_by_users_b['orders'])\n",
    "            ),\n",
    "            name='orders',\n",
    "        ),\n",
    "    ],\n",
    "    axis=0,\n",
    ")"
   ]
  },
  {
   "cell_type": "markdown",
   "id": "4aaba594",
   "metadata": {},
   "source": [
    "Сформулируем гипотезы\n",
    "\n",
    "Н0 - различия в конверсии между группами по «очищенным» данным статистически не значимы\n",
    "\n",
    "Н1 - различия в конверсии между группами по «очищенным» данным статистически значимы\n",
    "\n",
    "Пороговое значение alpha примем за 5%."
   ]
  },
  {
   "cell_type": "code",
   "execution_count": 53,
   "id": "97d9ecd7",
   "metadata": {},
   "outputs": [
    {
     "name": "stdout",
     "output_type": "stream",
     "text": [
      "0.01832\n"
     ]
    }
   ],
   "source": [
    "# посчитаем статистическую значимость\n",
    "\n",
    "print('{0:.5f}'.format(st.mannwhitneyu(sample_a_filtered, sample_b_filtered)[1]))"
   ]
  },
  {
   "cell_type": "markdown",
   "id": "df6f8765",
   "metadata": {},
   "source": [
    "Видим, что p-value менее 0,05, следовательно отвергаем нулевую гипотезу."
   ]
  },
  {
   "cell_type": "code",
   "execution_count": 54,
   "id": "8aa6f625",
   "metadata": {},
   "outputs": [
    {
     "name": "stdout",
     "output_type": "stream",
     "text": [
      "0.148\n"
     ]
    }
   ],
   "source": [
    "print('{0:.3f}'.format((sample_b_filtered.mean()/sample_a_filtered.mean()-1)))"
   ]
  },
  {
   "cell_type": "markdown",
   "id": "e1c18d42",
   "metadata": {},
   "source": [
    "Видим, что относительный прирост увеличился, на 1%"
   ]
  },
  {
   "cell_type": "markdown",
   "id": "f72905bc",
   "metadata": {},
   "source": [
    "### Посчитаем статистическую значимость различий в среднем чеке заказа между группами по «очищенным» данным."
   ]
  },
  {
   "cell_type": "code",
   "execution_count": 55,
   "id": "7f75aaca",
   "metadata": {},
   "outputs": [],
   "source": [
    "#отфильтруем аномальных пользователей\n",
    "sample_a_filtered_revenue = orders[\n",
    "                np.logical_and(\n",
    "                    orders['group'] == 'A',\n",
    "                    np.logical_not(orders['visitor_id'].isin(abnormal_users)),\n",
    "                )\n",
    "            ]['revenue']\n",
    "\n",
    "sample_b_filtered_revenue = orders[\n",
    "                np.logical_and(\n",
    "                    orders['group'] == 'B',\n",
    "                    np.logical_not(orders['visitor_id'].isin(abnormal_users)),\n",
    "                )\n",
    "            ]['revenue']"
   ]
  },
  {
   "cell_type": "markdown",
   "id": "5e5848a4",
   "metadata": {},
   "source": [
    "Сформулируем гипотезы\n",
    "\n",
    "Н0 - различия в среднем чеке заказа между группами по «очищенным» данным статистически не значимы\n",
    "\n",
    "Н1 - различия в среднем чеке заказа между группами по «очищенным» данным статистически значимы\n",
    "\n",
    "Пороговое значение alpha примем за 5%."
   ]
  },
  {
   "cell_type": "code",
   "execution_count": 56,
   "id": "e23c0119",
   "metadata": {},
   "outputs": [
    {
     "name": "stdout",
     "output_type": "stream",
     "text": [
      "0.95832\n"
     ]
    }
   ],
   "source": [
    "print('{0:.5f}'.format(st.mannwhitneyu(sample_a_filtered_revenue, sample_b_filtered_revenue)[1]))"
   ]
  },
  {
   "cell_type": "markdown",
   "id": "75baca54",
   "metadata": {},
   "source": [
    "Видим, что p-value больше 0,05, следовательно нулевую гипотезу отвергнуть не удается"
   ]
  },
  {
   "cell_type": "code",
   "execution_count": 57,
   "id": "59cb0f5b",
   "metadata": {},
   "outputs": [
    {
     "name": "stdout",
     "output_type": "stream",
     "text": [
      "-0.020\n"
     ]
    }
   ],
   "source": [
    "print('{0:.3f}'.format((sample_b_filtered_revenue.mean()/sample_a_filtered_revenue.mean()-1)))"
   ]
  },
  {
   "cell_type": "markdown",
   "id": "fb20ba37",
   "metadata": {},
   "source": [
    "Прирост среднего чека группы В к А снизился до -0,02"
   ]
  },
  {
   "cell_type": "markdown",
   "id": "1a28e559",
   "metadata": {},
   "source": [
    "### Примите решение по результатам теста и объясните его.\n",
    "\n",
    "По полученным данным можно сделать вывод: по среднему чеку статистической значимости нет, но группа В статистически значима группы А в конверсии, соответственно победа группы В. Это обсуловлено тем, что чем выше конверсия, тем больше объем пользователей, что в свою очередь увеличит количество заказов. В данном случае на среднюю выручку обращать внимания не стоит, т.к. средний чек может остаться таким же(условно, что у 5000 пользователей, что у 8000 пользователей).Тест нужно остановить."
   ]
  },
  {
   "cell_type": "markdown",
   "id": "1b8e786c",
   "metadata": {},
   "source": [
    "## Вывод\n",
    "\n",
    "По результатам исследования приоретизация гипотез выявлены следующие лидеры в соответствии с фреймворком: `ICE` - гипотеза №8, `RICE` - гипотеза №7.\n",
    "\n",
    "Кумулятивная выручка в течение всего период наблюдался рост выручки группы В, но видим, резкий скачок в середине августа, что свидетельствует, скорей всего, о большом числе заказов или о дорогих заказах.\n",
    "\n",
    "Выявили аномальное число заказов на кажого человека составляет 4, а аномальная стоимость заказа превышает 30 000 р.\n",
    "\n",
    "Изучили статистическую значимость различий в среднем чере и конверсии по \"сырым\" и \"чистым\" данным, выявили:\n",
    "* по \"сырым\" данным относительный прирост конверсии группы В к конверсии кгруппы А составил 13,8 %, статистически значимых различий в среднем чеке нет\n",
    "* по \"чистым\" данным относительный прирост конверсии группы В к конверсии группы А составил 14,8%, статистически значимых различий в среднем чеке также не выявлено\n",
    "\n",
    "Итого: тест необходимо остановить. Победа группы В, т.к. конверсия больше, что в свою очередь увеличивыает прибыль."
   ]
  },
  {
   "cell_type": "code",
   "execution_count": null,
   "id": "5a305bcc",
   "metadata": {},
   "outputs": [],
   "source": []
  }
 ],
 "metadata": {
  "ExecuteTimeLog": [
   {
    "duration": 1127,
    "start_time": "2022-05-30T09:37:51.146Z"
   },
   {
    "duration": 2,
    "start_time": "2022-05-30T09:37:52.275Z"
   },
   {
    "duration": 72,
    "start_time": "2022-05-30T09:37:52.278Z"
   },
   {
    "duration": 11,
    "start_time": "2022-05-30T09:37:52.351Z"
   },
   {
    "duration": 15,
    "start_time": "2022-05-30T09:37:52.364Z"
   },
   {
    "duration": 7,
    "start_time": "2022-05-30T09:37:52.381Z"
   },
   {
    "duration": 10,
    "start_time": "2022-05-30T09:37:52.390Z"
   },
   {
    "duration": 9,
    "start_time": "2022-05-30T09:37:52.402Z"
   },
   {
    "duration": 6,
    "start_time": "2022-05-30T09:37:52.412Z"
   },
   {
    "duration": 22,
    "start_time": "2022-05-30T09:37:52.419Z"
   },
   {
    "duration": 15,
    "start_time": "2022-05-30T09:37:52.443Z"
   },
   {
    "duration": 10,
    "start_time": "2022-05-30T09:37:52.460Z"
   },
   {
    "duration": 9,
    "start_time": "2022-05-30T09:37:52.472Z"
   },
   {
    "duration": 4,
    "start_time": "2022-05-30T09:37:52.483Z"
   },
   {
    "duration": 8,
    "start_time": "2022-05-30T09:37:52.488Z"
   },
   {
    "duration": 8,
    "start_time": "2022-05-30T09:37:52.498Z"
   },
   {
    "duration": 9,
    "start_time": "2022-05-30T09:37:52.507Z"
   },
   {
    "duration": 27,
    "start_time": "2022-05-30T09:37:52.518Z"
   },
   {
    "duration": 14,
    "start_time": "2022-05-30T09:37:52.546Z"
   },
   {
    "duration": 15,
    "start_time": "2022-05-30T09:37:52.561Z"
   },
   {
    "duration": 12,
    "start_time": "2022-05-30T09:37:52.577Z"
   },
   {
    "duration": 171,
    "start_time": "2022-05-30T09:37:52.591Z"
   },
   {
    "duration": 122,
    "start_time": "2022-05-30T09:37:52.763Z"
   },
   {
    "duration": 17,
    "start_time": "2022-05-30T09:37:52.887Z"
   },
   {
    "duration": 9,
    "start_time": "2022-05-30T09:37:52.905Z"
   },
   {
    "duration": 379,
    "start_time": "2022-05-30T09:37:52.916Z"
   },
   {
    "duration": 6,
    "start_time": "2022-05-30T09:37:53.296Z"
   },
   {
    "duration": 195,
    "start_time": "2022-05-30T09:37:53.303Z"
   },
   {
    "duration": 311,
    "start_time": "2022-05-30T09:37:53.499Z"
   },
   {
    "duration": 154,
    "start_time": "2022-05-30T09:37:53.812Z"
   },
   {
    "duration": 4,
    "start_time": "2022-05-30T09:37:53.968Z"
   },
   {
    "duration": 156,
    "start_time": "2022-05-30T09:37:53.974Z"
   },
   {
    "duration": 11,
    "start_time": "2022-05-30T09:37:54.131Z"
   },
   {
    "duration": 55,
    "start_time": "2022-05-30T09:37:54.143Z"
   },
   {
    "duration": 70,
    "start_time": "2022-05-30T09:37:54.200Z"
   },
   {
    "duration": 72,
    "start_time": "2022-05-30T09:37:54.271Z"
   },
   {
    "duration": 63,
    "start_time": "2022-05-30T09:37:54.345Z"
   },
   {
    "duration": 49,
    "start_time": "2022-05-30T09:37:54.409Z"
   },
   {
    "duration": 142,
    "start_time": "2022-05-30T09:37:54.460Z"
   },
   {
    "duration": 6,
    "start_time": "2022-05-30T09:37:54.604Z"
   },
   {
    "duration": 36,
    "start_time": "2022-05-30T09:37:54.613Z"
   },
   {
    "duration": 3,
    "start_time": "2022-05-30T09:37:54.651Z"
   },
   {
    "duration": 7,
    "start_time": "2022-05-30T09:37:54.656Z"
   },
   {
    "duration": 6,
    "start_time": "2022-05-30T09:37:54.664Z"
   },
   {
    "duration": 8,
    "start_time": "2022-05-30T09:37:54.672Z"
   },
   {
    "duration": 7,
    "start_time": "2022-05-30T09:37:54.681Z"
   },
   {
    "duration": 7,
    "start_time": "2022-05-30T09:37:54.690Z"
   },
   {
    "duration": 54,
    "start_time": "2022-05-30T09:37:54.699Z"
   },
   {
    "duration": 4,
    "start_time": "2022-05-30T09:37:54.755Z"
   },
   {
    "duration": 10,
    "start_time": "2022-05-30T09:37:54.760Z"
   },
   {
    "duration": 5,
    "start_time": "2022-05-30T09:37:54.771Z"
   },
   {
    "duration": 4,
    "start_time": "2022-05-30T09:37:54.778Z"
   },
   {
    "duration": 1176,
    "start_time": "2022-05-30T09:44:39.710Z"
   },
   {
    "duration": 3,
    "start_time": "2022-05-30T09:44:40.888Z"
   },
   {
    "duration": 70,
    "start_time": "2022-05-30T09:44:40.892Z"
   },
   {
    "duration": 12,
    "start_time": "2022-05-30T09:44:40.964Z"
   },
   {
    "duration": 12,
    "start_time": "2022-05-30T09:44:40.978Z"
   },
   {
    "duration": 8,
    "start_time": "2022-05-30T09:44:40.991Z"
   },
   {
    "duration": 22,
    "start_time": "2022-05-30T09:44:41.001Z"
   },
   {
    "duration": 16,
    "start_time": "2022-05-30T09:44:41.025Z"
   },
   {
    "duration": 7,
    "start_time": "2022-05-30T09:44:41.043Z"
   },
   {
    "duration": 9,
    "start_time": "2022-05-30T09:44:41.051Z"
   },
   {
    "duration": 13,
    "start_time": "2022-05-30T09:44:41.062Z"
   },
   {
    "duration": 9,
    "start_time": "2022-05-30T09:44:41.077Z"
   },
   {
    "duration": 8,
    "start_time": "2022-05-30T09:44:41.088Z"
   },
   {
    "duration": 3,
    "start_time": "2022-05-30T09:44:41.100Z"
   },
   {
    "duration": 7,
    "start_time": "2022-05-30T09:44:41.105Z"
   },
   {
    "duration": 32,
    "start_time": "2022-05-30T09:44:41.113Z"
   },
   {
    "duration": 18,
    "start_time": "2022-05-30T09:44:41.147Z"
   },
   {
    "duration": 12,
    "start_time": "2022-05-30T09:44:41.166Z"
   },
   {
    "duration": 9,
    "start_time": "2022-05-30T09:44:41.180Z"
   },
   {
    "duration": 11,
    "start_time": "2022-05-30T09:44:41.191Z"
   },
   {
    "duration": 10,
    "start_time": "2022-05-30T09:44:41.204Z"
   },
   {
    "duration": 179,
    "start_time": "2022-05-30T09:44:41.215Z"
   },
   {
    "duration": 123,
    "start_time": "2022-05-30T09:44:41.395Z"
   },
   {
    "duration": 22,
    "start_time": "2022-05-30T09:44:41.520Z"
   },
   {
    "duration": 6,
    "start_time": "2022-05-30T09:44:41.543Z"
   },
   {
    "duration": 372,
    "start_time": "2022-05-30T09:44:41.550Z"
   },
   {
    "duration": 6,
    "start_time": "2022-05-30T09:44:41.923Z"
   },
   {
    "duration": 189,
    "start_time": "2022-05-30T09:44:41.930Z"
   },
   {
    "duration": 334,
    "start_time": "2022-05-30T09:44:42.120Z"
   },
   {
    "duration": 142,
    "start_time": "2022-05-30T09:44:42.456Z"
   },
   {
    "duration": 4,
    "start_time": "2022-05-30T09:44:42.600Z"
   },
   {
    "duration": 138,
    "start_time": "2022-05-30T09:44:42.605Z"
   },
   {
    "duration": 4,
    "start_time": "2022-05-30T09:44:42.745Z"
   },
   {
    "duration": 49,
    "start_time": "2022-05-30T09:44:42.751Z"
   },
   {
    "duration": 71,
    "start_time": "2022-05-30T09:44:42.802Z"
   },
   {
    "duration": 70,
    "start_time": "2022-05-30T09:44:42.875Z"
   },
   {
    "duration": 67,
    "start_time": "2022-05-30T09:44:42.947Z"
   },
   {
    "duration": 47,
    "start_time": "2022-05-30T09:44:43.016Z"
   },
   {
    "duration": 161,
    "start_time": "2022-05-30T09:44:43.064Z"
   },
   {
    "duration": 18,
    "start_time": "2022-05-30T09:44:43.227Z"
   },
   {
    "duration": 25,
    "start_time": "2022-05-30T09:44:43.248Z"
   },
   {
    "duration": 3,
    "start_time": "2022-05-30T09:44:43.275Z"
   },
   {
    "duration": 6,
    "start_time": "2022-05-30T09:44:43.279Z"
   },
   {
    "duration": 5,
    "start_time": "2022-05-30T09:44:43.287Z"
   },
   {
    "duration": 6,
    "start_time": "2022-05-30T09:44:43.294Z"
   },
   {
    "duration": 9,
    "start_time": "2022-05-30T09:44:43.301Z"
   },
   {
    "duration": 7,
    "start_time": "2022-05-30T09:44:43.342Z"
   },
   {
    "duration": 28,
    "start_time": "2022-05-30T09:44:43.351Z"
   },
   {
    "duration": 3,
    "start_time": "2022-05-30T09:44:43.381Z"
   },
   {
    "duration": 8,
    "start_time": "2022-05-30T09:44:43.386Z"
   },
   {
    "duration": 7,
    "start_time": "2022-05-30T09:44:43.396Z"
   },
   {
    "duration": 3,
    "start_time": "2022-05-30T09:44:43.405Z"
   },
   {
    "duration": 1357,
    "start_time": "2022-05-30T09:45:22.129Z"
   },
   {
    "duration": 2,
    "start_time": "2022-05-30T09:45:23.488Z"
   },
   {
    "duration": 74,
    "start_time": "2022-05-30T09:45:23.491Z"
   },
   {
    "duration": 11,
    "start_time": "2022-05-30T09:45:23.567Z"
   },
   {
    "duration": 12,
    "start_time": "2022-05-30T09:45:23.581Z"
   },
   {
    "duration": 7,
    "start_time": "2022-05-30T09:45:23.595Z"
   },
   {
    "duration": 12,
    "start_time": "2022-05-30T09:45:23.604Z"
   },
   {
    "duration": 9,
    "start_time": "2022-05-30T09:45:23.617Z"
   },
   {
    "duration": 13,
    "start_time": "2022-05-30T09:45:23.628Z"
   },
   {
    "duration": 6,
    "start_time": "2022-05-30T09:45:23.642Z"
   },
   {
    "duration": 16,
    "start_time": "2022-05-30T09:45:23.650Z"
   },
   {
    "duration": 16,
    "start_time": "2022-05-30T09:45:23.668Z"
   },
   {
    "duration": 12,
    "start_time": "2022-05-30T09:45:23.686Z"
   },
   {
    "duration": 10,
    "start_time": "2022-05-30T09:45:23.702Z"
   },
   {
    "duration": 27,
    "start_time": "2022-05-30T09:45:23.714Z"
   },
   {
    "duration": 7,
    "start_time": "2022-05-30T09:45:23.744Z"
   },
   {
    "duration": 19,
    "start_time": "2022-05-30T09:45:23.753Z"
   },
   {
    "duration": 17,
    "start_time": "2022-05-30T09:45:23.774Z"
   },
   {
    "duration": 11,
    "start_time": "2022-05-30T09:45:23.792Z"
   },
   {
    "duration": 17,
    "start_time": "2022-05-30T09:45:23.804Z"
   },
   {
    "duration": 13,
    "start_time": "2022-05-30T09:45:23.841Z"
   },
   {
    "duration": 191,
    "start_time": "2022-05-30T09:45:23.855Z"
   },
   {
    "duration": 119,
    "start_time": "2022-05-30T09:45:24.048Z"
   },
   {
    "duration": 14,
    "start_time": "2022-05-30T09:45:24.169Z"
   },
   {
    "duration": 7,
    "start_time": "2022-05-30T09:45:24.184Z"
   },
   {
    "duration": 389,
    "start_time": "2022-05-30T09:45:24.192Z"
   },
   {
    "duration": 6,
    "start_time": "2022-05-30T09:45:24.583Z"
   },
   {
    "duration": 185,
    "start_time": "2022-05-30T09:45:24.590Z"
   },
   {
    "duration": 285,
    "start_time": "2022-05-30T09:45:24.776Z"
   },
   {
    "duration": 145,
    "start_time": "2022-05-30T09:45:25.062Z"
   },
   {
    "duration": 4,
    "start_time": "2022-05-30T09:45:25.209Z"
   },
   {
    "duration": 141,
    "start_time": "2022-05-30T09:45:25.215Z"
   },
   {
    "duration": 5,
    "start_time": "2022-05-30T09:45:25.357Z"
   },
   {
    "duration": 51,
    "start_time": "2022-05-30T09:45:25.363Z"
   },
   {
    "duration": 71,
    "start_time": "2022-05-30T09:45:25.415Z"
   },
   {
    "duration": 68,
    "start_time": "2022-05-30T09:45:25.487Z"
   },
   {
    "duration": 58,
    "start_time": "2022-05-30T09:45:25.557Z"
   },
   {
    "duration": 45,
    "start_time": "2022-05-30T09:45:25.617Z"
   },
   {
    "duration": 141,
    "start_time": "2022-05-30T09:45:25.663Z"
   },
   {
    "duration": 5,
    "start_time": "2022-05-30T09:45:25.806Z"
   },
   {
    "duration": 35,
    "start_time": "2022-05-30T09:45:25.814Z"
   },
   {
    "duration": 4,
    "start_time": "2022-05-30T09:45:25.851Z"
   },
   {
    "duration": 6,
    "start_time": "2022-05-30T09:45:25.856Z"
   },
   {
    "duration": 7,
    "start_time": "2022-05-30T09:45:25.864Z"
   },
   {
    "duration": 6,
    "start_time": "2022-05-30T09:45:25.873Z"
   },
   {
    "duration": 8,
    "start_time": "2022-05-30T09:45:25.880Z"
   },
   {
    "duration": 9,
    "start_time": "2022-05-30T09:45:25.889Z"
   },
   {
    "duration": 51,
    "start_time": "2022-05-30T09:45:25.900Z"
   },
   {
    "duration": 4,
    "start_time": "2022-05-30T09:45:25.952Z"
   },
   {
    "duration": 8,
    "start_time": "2022-05-30T09:45:25.957Z"
   },
   {
    "duration": 7,
    "start_time": "2022-05-30T09:45:25.967Z"
   },
   {
    "duration": 4,
    "start_time": "2022-05-30T09:45:25.975Z"
   },
   {
    "duration": 1062,
    "start_time": "2022-05-31T07:15:16.071Z"
   },
   {
    "duration": 2,
    "start_time": "2022-05-31T07:15:17.135Z"
   },
   {
    "duration": 195,
    "start_time": "2022-05-31T07:15:17.139Z"
   },
   {
    "duration": 11,
    "start_time": "2022-05-31T07:15:17.336Z"
   },
   {
    "duration": 11,
    "start_time": "2022-05-31T07:15:17.349Z"
   },
   {
    "duration": 14,
    "start_time": "2022-05-31T07:15:17.362Z"
   },
   {
    "duration": 18,
    "start_time": "2022-05-31T07:15:17.378Z"
   },
   {
    "duration": 9,
    "start_time": "2022-05-31T07:15:17.398Z"
   },
   {
    "duration": 7,
    "start_time": "2022-05-31T07:15:17.409Z"
   },
   {
    "duration": 7,
    "start_time": "2022-05-31T07:15:17.417Z"
   },
   {
    "duration": 14,
    "start_time": "2022-05-31T07:15:17.425Z"
   },
   {
    "duration": 12,
    "start_time": "2022-05-31T07:15:17.440Z"
   },
   {
    "duration": 8,
    "start_time": "2022-05-31T07:15:17.453Z"
   },
   {
    "duration": 5,
    "start_time": "2022-05-31T07:15:17.463Z"
   },
   {
    "duration": 7,
    "start_time": "2022-05-31T07:15:17.469Z"
   },
   {
    "duration": 8,
    "start_time": "2022-05-31T07:15:17.477Z"
   },
   {
    "duration": 16,
    "start_time": "2022-05-31T07:15:17.486Z"
   },
   {
    "duration": 13,
    "start_time": "2022-05-31T07:15:17.504Z"
   },
   {
    "duration": 8,
    "start_time": "2022-05-31T07:15:17.519Z"
   },
   {
    "duration": 14,
    "start_time": "2022-05-31T07:15:17.528Z"
   },
   {
    "duration": 12,
    "start_time": "2022-05-31T07:15:17.543Z"
   },
   {
    "duration": 165,
    "start_time": "2022-05-31T07:15:17.556Z"
   },
   {
    "duration": 112,
    "start_time": "2022-05-31T07:15:17.722Z"
   },
   {
    "duration": 13,
    "start_time": "2022-05-31T07:15:17.835Z"
   },
   {
    "duration": 5,
    "start_time": "2022-05-31T07:15:17.850Z"
   },
   {
    "duration": 399,
    "start_time": "2022-05-31T07:15:17.856Z"
   },
   {
    "duration": 7,
    "start_time": "2022-05-31T07:15:18.256Z"
   },
   {
    "duration": 240,
    "start_time": "2022-05-31T07:15:18.264Z"
   },
   {
    "duration": 373,
    "start_time": "2022-05-31T07:15:18.506Z"
   },
   {
    "duration": 10,
    "start_time": "2022-05-31T07:15:18.880Z"
   },
   {
    "duration": 4,
    "start_time": "2022-05-31T07:15:18.900Z"
   },
   {
    "duration": 246,
    "start_time": "2022-05-31T07:15:18.905Z"
   },
   {
    "duration": 13,
    "start_time": "2022-05-31T07:15:19.152Z"
   },
   {
    "duration": 358,
    "start_time": "2022-05-31T07:15:19.167Z"
   },
   {
    "duration": 170,
    "start_time": "2022-05-31T07:15:19.526Z"
   },
   {
    "duration": 5,
    "start_time": "2022-05-31T07:15:19.698Z"
   },
   {
    "duration": 171,
    "start_time": "2022-05-31T07:15:19.704Z"
   },
   {
    "duration": 4,
    "start_time": "2022-05-31T07:15:19.877Z"
   },
   {
    "duration": 63,
    "start_time": "2022-05-31T07:15:19.884Z"
   },
   {
    "duration": 66,
    "start_time": "2022-05-31T07:15:19.948Z"
   },
   {
    "duration": 64,
    "start_time": "2022-05-31T07:15:20.018Z"
   },
   {
    "duration": 73,
    "start_time": "2022-05-31T07:15:20.083Z"
   },
   {
    "duration": 24,
    "start_time": "2022-05-31T07:15:20.158Z"
   },
   {
    "duration": 162,
    "start_time": "2022-05-31T07:15:20.184Z"
   },
   {
    "duration": 6,
    "start_time": "2022-05-31T07:15:20.348Z"
   },
   {
    "duration": 28,
    "start_time": "2022-05-31T07:15:20.356Z"
   },
   {
    "duration": 4,
    "start_time": "2022-05-31T07:15:20.400Z"
   },
   {
    "duration": 11,
    "start_time": "2022-05-31T07:15:20.406Z"
   },
   {
    "duration": 8,
    "start_time": "2022-05-31T07:15:20.418Z"
   },
   {
    "duration": 7,
    "start_time": "2022-05-31T07:15:20.427Z"
   },
   {
    "duration": 10,
    "start_time": "2022-05-31T07:15:20.436Z"
   },
   {
    "duration": 31,
    "start_time": "2022-05-31T07:15:20.448Z"
   },
   {
    "duration": 34,
    "start_time": "2022-05-31T07:15:20.481Z"
   },
   {
    "duration": 4,
    "start_time": "2022-05-31T07:15:20.517Z"
   },
   {
    "duration": 18,
    "start_time": "2022-05-31T07:15:20.523Z"
   },
   {
    "duration": 7,
    "start_time": "2022-05-31T07:15:20.543Z"
   },
   {
    "duration": 6,
    "start_time": "2022-05-31T07:15:20.552Z"
   },
   {
    "duration": 1156,
    "start_time": "2022-05-31T07:17:20.475Z"
   },
   {
    "duration": 2,
    "start_time": "2022-05-31T07:17:21.633Z"
   },
   {
    "duration": 94,
    "start_time": "2022-05-31T07:17:21.638Z"
   },
   {
    "duration": 11,
    "start_time": "2022-05-31T07:17:21.733Z"
   },
   {
    "duration": 17,
    "start_time": "2022-05-31T07:17:21.746Z"
   },
   {
    "duration": 10,
    "start_time": "2022-05-31T07:17:21.765Z"
   },
   {
    "duration": 14,
    "start_time": "2022-05-31T07:17:21.776Z"
   },
   {
    "duration": 22,
    "start_time": "2022-05-31T07:17:21.792Z"
   },
   {
    "duration": 22,
    "start_time": "2022-05-31T07:17:21.817Z"
   },
   {
    "duration": 24,
    "start_time": "2022-05-31T07:17:21.842Z"
   },
   {
    "duration": 39,
    "start_time": "2022-05-31T07:17:21.868Z"
   },
   {
    "duration": 16,
    "start_time": "2022-05-31T07:17:21.908Z"
   },
   {
    "duration": 15,
    "start_time": "2022-05-31T07:17:21.925Z"
   },
   {
    "duration": 5,
    "start_time": "2022-05-31T07:17:21.942Z"
   },
   {
    "duration": 9,
    "start_time": "2022-05-31T07:17:21.948Z"
   },
   {
    "duration": 15,
    "start_time": "2022-05-31T07:17:21.958Z"
   },
   {
    "duration": 13,
    "start_time": "2022-05-31T07:17:21.974Z"
   },
   {
    "duration": 13,
    "start_time": "2022-05-31T07:17:21.989Z"
   },
   {
    "duration": 23,
    "start_time": "2022-05-31T07:17:22.003Z"
   },
   {
    "duration": 64,
    "start_time": "2022-05-31T07:17:22.027Z"
   },
   {
    "duration": 26,
    "start_time": "2022-05-31T07:17:22.093Z"
   },
   {
    "duration": 160,
    "start_time": "2022-05-31T07:17:22.120Z"
   },
   {
    "duration": 105,
    "start_time": "2022-05-31T07:17:22.281Z"
   },
   {
    "duration": 25,
    "start_time": "2022-05-31T07:17:22.387Z"
   },
   {
    "duration": 8,
    "start_time": "2022-05-31T07:17:22.414Z"
   },
   {
    "duration": 418,
    "start_time": "2022-05-31T07:17:22.424Z"
   },
   {
    "duration": 6,
    "start_time": "2022-05-31T07:17:22.844Z"
   },
   {
    "duration": 237,
    "start_time": "2022-05-31T07:17:22.852Z"
   },
   {
    "duration": 373,
    "start_time": "2022-05-31T07:17:23.090Z"
   },
   {
    "duration": 9,
    "start_time": "2022-05-31T07:17:23.465Z"
   },
   {
    "duration": 24,
    "start_time": "2022-05-31T07:17:23.475Z"
   },
   {
    "duration": 260,
    "start_time": "2022-05-31T07:17:23.501Z"
   },
   {
    "duration": 13,
    "start_time": "2022-05-31T07:17:23.762Z"
   },
   {
    "duration": 353,
    "start_time": "2022-05-31T07:17:23.776Z"
   },
   {
    "duration": 171,
    "start_time": "2022-05-31T07:17:24.130Z"
   },
   {
    "duration": 4,
    "start_time": "2022-05-31T07:17:24.302Z"
   },
   {
    "duration": 180,
    "start_time": "2022-05-31T07:17:24.307Z"
   },
   {
    "duration": 11,
    "start_time": "2022-05-31T07:17:24.488Z"
   },
   {
    "duration": 63,
    "start_time": "2022-05-31T07:17:24.501Z"
   },
   {
    "duration": 64,
    "start_time": "2022-05-31T07:17:24.565Z"
   },
   {
    "duration": 63,
    "start_time": "2022-05-31T07:17:24.633Z"
   },
   {
    "duration": 64,
    "start_time": "2022-05-31T07:17:24.699Z"
   },
   {
    "duration": 42,
    "start_time": "2022-05-31T07:17:24.764Z"
   },
   {
    "duration": 147,
    "start_time": "2022-05-31T07:17:24.807Z"
   },
   {
    "duration": 6,
    "start_time": "2022-05-31T07:17:24.955Z"
   },
   {
    "duration": 39,
    "start_time": "2022-05-31T07:17:24.963Z"
   },
   {
    "duration": 13,
    "start_time": "2022-05-31T07:17:25.004Z"
   },
   {
    "duration": 32,
    "start_time": "2022-05-31T07:17:25.018Z"
   },
   {
    "duration": 35,
    "start_time": "2022-05-31T07:17:25.051Z"
   },
   {
    "duration": 19,
    "start_time": "2022-05-31T07:17:25.087Z"
   },
   {
    "duration": 20,
    "start_time": "2022-05-31T07:17:25.108Z"
   },
   {
    "duration": 17,
    "start_time": "2022-05-31T07:17:25.130Z"
   },
   {
    "duration": 38,
    "start_time": "2022-05-31T07:17:25.149Z"
   },
   {
    "duration": 17,
    "start_time": "2022-05-31T07:17:25.188Z"
   },
   {
    "duration": 19,
    "start_time": "2022-05-31T07:17:25.207Z"
   },
   {
    "duration": 14,
    "start_time": "2022-05-31T07:17:25.228Z"
   },
   {
    "duration": 29,
    "start_time": "2022-05-31T07:17:25.243Z"
   }
  ],
  "kernelspec": {
   "display_name": "Python 3 (ipykernel)",
   "language": "python",
   "name": "python3"
  },
  "language_info": {
   "codemirror_mode": {
    "name": "ipython",
    "version": 3
   },
   "file_extension": ".py",
   "mimetype": "text/x-python",
   "name": "python",
   "nbconvert_exporter": "python",
   "pygments_lexer": "ipython3",
   "version": "3.9.12"
  },
  "toc": {
   "base_numbering": 1,
   "nav_menu": {},
   "number_sections": true,
   "sideBar": true,
   "skip_h1_title": true,
   "title_cell": "Table of Contents",
   "title_sidebar": "Содержание",
   "toc_cell": false,
   "toc_position": {
    "height": "calc(100% - 180px)",
    "left": "10px",
    "top": "150px",
    "width": "384px"
   },
   "toc_section_display": true,
   "toc_window_display": false
  }
 },
 "nbformat": 4,
 "nbformat_minor": 5
}
