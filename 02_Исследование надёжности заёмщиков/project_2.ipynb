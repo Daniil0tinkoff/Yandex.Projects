{
 "cells": [
  {
   "cell_type": "markdown",
   "id": "4f734a2c",
   "metadata": {},
   "source": [
    "# Исследование надежности заемщиков."
   ]
  },
  {
   "cell_type": "markdown",
   "id": "daf14f49",
   "metadata": {},
   "source": [
    "Исследование данных в финансовой сфере.\n",
    "Нужно разобраться, влияет ли семейное положение и количество детей клиента на факт погашения кредита в срок."
   ]
  },
  {
   "cell_type": "markdown",
   "id": "b52e2f93",
   "metadata": {},
   "source": [
    "## Шаг 1. Обзор данных"
   ]
  },
  {
   "cell_type": "markdown",
   "id": "5e054aa1",
   "metadata": {},
   "source": [
    "### Просмотр данных"
   ]
  },
  {
   "cell_type": "code",
   "execution_count": 1,
   "id": "c7f69f2e",
   "metadata": {},
   "outputs": [],
   "source": [
    "import pandas as pd\n",
    "try:\n",
    "    df = pd.read_csv(r'C:\\Users\\Admin\\Desktop\\Обучение\\sprint_2\\data.csv')\n",
    "except: \n",
    "    df = pd.read_csv('/datasets/data.csv')"
   ]
  },
  {
   "cell_type": "code",
   "execution_count": 2,
   "id": "77faac0d",
   "metadata": {},
   "outputs": [
    {
     "name": "stdout",
     "output_type": "stream",
     "text": [
      "<class 'pandas.core.frame.DataFrame'>\n",
      "RangeIndex: 21525 entries, 0 to 21524\n",
      "Data columns (total 12 columns):\n",
      " #   Column            Non-Null Count  Dtype  \n",
      "---  ------            --------------  -----  \n",
      " 0   children          21525 non-null  int64  \n",
      " 1   days_employed     19351 non-null  float64\n",
      " 2   dob_years         21525 non-null  int64  \n",
      " 3   education         21525 non-null  object \n",
      " 4   education_id      21525 non-null  int64  \n",
      " 5   family_status     21525 non-null  object \n",
      " 6   family_status_id  21525 non-null  int64  \n",
      " 7   gender            21525 non-null  object \n",
      " 8   income_type       21525 non-null  object \n",
      " 9   debt              21525 non-null  int64  \n",
      " 10  total_income      19351 non-null  float64\n",
      " 11  purpose           21525 non-null  object \n",
      "dtypes: float64(2), int64(5), object(5)\n",
      "memory usage: 2.0+ MB\n"
     ]
    }
   ],
   "source": [
    "#узнаем общую информацию о данных\n",
    "df.info()"
   ]
  },
  {
   "cell_type": "code",
   "execution_count": 3,
   "id": "eb3efaa5",
   "metadata": {
    "scrolled": true
   },
   "outputs": [
    {
     "data": {
      "text/html": [
       "<div>\n",
       "<style scoped>\n",
       "    .dataframe tbody tr th:only-of-type {\n",
       "        vertical-align: middle;\n",
       "    }\n",
       "\n",
       "    .dataframe tbody tr th {\n",
       "        vertical-align: top;\n",
       "    }\n",
       "\n",
       "    .dataframe thead th {\n",
       "        text-align: right;\n",
       "    }\n",
       "</style>\n",
       "<table border=\"1\" class=\"dataframe\">\n",
       "  <thead>\n",
       "    <tr style=\"text-align: right;\">\n",
       "      <th></th>\n",
       "      <th>children</th>\n",
       "      <th>days_employed</th>\n",
       "      <th>dob_years</th>\n",
       "      <th>education</th>\n",
       "      <th>education_id</th>\n",
       "      <th>family_status</th>\n",
       "      <th>family_status_id</th>\n",
       "      <th>gender</th>\n",
       "      <th>income_type</th>\n",
       "      <th>debt</th>\n",
       "      <th>total_income</th>\n",
       "      <th>purpose</th>\n",
       "    </tr>\n",
       "  </thead>\n",
       "  <tbody>\n",
       "    <tr>\n",
       "      <th>0</th>\n",
       "      <td>1</td>\n",
       "      <td>-8437.673028</td>\n",
       "      <td>42</td>\n",
       "      <td>высшее</td>\n",
       "      <td>0</td>\n",
       "      <td>женат / замужем</td>\n",
       "      <td>0</td>\n",
       "      <td>F</td>\n",
       "      <td>сотрудник</td>\n",
       "      <td>0</td>\n",
       "      <td>253875.639453</td>\n",
       "      <td>покупка жилья</td>\n",
       "    </tr>\n",
       "    <tr>\n",
       "      <th>1</th>\n",
       "      <td>1</td>\n",
       "      <td>-4024.803754</td>\n",
       "      <td>36</td>\n",
       "      <td>среднее</td>\n",
       "      <td>1</td>\n",
       "      <td>женат / замужем</td>\n",
       "      <td>0</td>\n",
       "      <td>F</td>\n",
       "      <td>сотрудник</td>\n",
       "      <td>0</td>\n",
       "      <td>112080.014102</td>\n",
       "      <td>приобретение автомобиля</td>\n",
       "    </tr>\n",
       "    <tr>\n",
       "      <th>2</th>\n",
       "      <td>0</td>\n",
       "      <td>-5623.422610</td>\n",
       "      <td>33</td>\n",
       "      <td>Среднее</td>\n",
       "      <td>1</td>\n",
       "      <td>женат / замужем</td>\n",
       "      <td>0</td>\n",
       "      <td>M</td>\n",
       "      <td>сотрудник</td>\n",
       "      <td>0</td>\n",
       "      <td>145885.952297</td>\n",
       "      <td>покупка жилья</td>\n",
       "    </tr>\n",
       "    <tr>\n",
       "      <th>3</th>\n",
       "      <td>3</td>\n",
       "      <td>-4124.747207</td>\n",
       "      <td>32</td>\n",
       "      <td>среднее</td>\n",
       "      <td>1</td>\n",
       "      <td>женат / замужем</td>\n",
       "      <td>0</td>\n",
       "      <td>M</td>\n",
       "      <td>сотрудник</td>\n",
       "      <td>0</td>\n",
       "      <td>267628.550329</td>\n",
       "      <td>дополнительное образование</td>\n",
       "    </tr>\n",
       "    <tr>\n",
       "      <th>4</th>\n",
       "      <td>0</td>\n",
       "      <td>340266.072047</td>\n",
       "      <td>53</td>\n",
       "      <td>среднее</td>\n",
       "      <td>1</td>\n",
       "      <td>гражданский брак</td>\n",
       "      <td>1</td>\n",
       "      <td>F</td>\n",
       "      <td>пенсионер</td>\n",
       "      <td>0</td>\n",
       "      <td>158616.077870</td>\n",
       "      <td>сыграть свадьбу</td>\n",
       "    </tr>\n",
       "    <tr>\n",
       "      <th>5</th>\n",
       "      <td>0</td>\n",
       "      <td>-926.185831</td>\n",
       "      <td>27</td>\n",
       "      <td>высшее</td>\n",
       "      <td>0</td>\n",
       "      <td>гражданский брак</td>\n",
       "      <td>1</td>\n",
       "      <td>M</td>\n",
       "      <td>компаньон</td>\n",
       "      <td>0</td>\n",
       "      <td>255763.565419</td>\n",
       "      <td>покупка жилья</td>\n",
       "    </tr>\n",
       "    <tr>\n",
       "      <th>6</th>\n",
       "      <td>0</td>\n",
       "      <td>-2879.202052</td>\n",
       "      <td>43</td>\n",
       "      <td>высшее</td>\n",
       "      <td>0</td>\n",
       "      <td>женат / замужем</td>\n",
       "      <td>0</td>\n",
       "      <td>F</td>\n",
       "      <td>компаньон</td>\n",
       "      <td>0</td>\n",
       "      <td>240525.971920</td>\n",
       "      <td>операции с жильем</td>\n",
       "    </tr>\n",
       "    <tr>\n",
       "      <th>7</th>\n",
       "      <td>0</td>\n",
       "      <td>-152.779569</td>\n",
       "      <td>50</td>\n",
       "      <td>СРЕДНЕЕ</td>\n",
       "      <td>1</td>\n",
       "      <td>женат / замужем</td>\n",
       "      <td>0</td>\n",
       "      <td>M</td>\n",
       "      <td>сотрудник</td>\n",
       "      <td>0</td>\n",
       "      <td>135823.934197</td>\n",
       "      <td>образование</td>\n",
       "    </tr>\n",
       "    <tr>\n",
       "      <th>8</th>\n",
       "      <td>2</td>\n",
       "      <td>-6929.865299</td>\n",
       "      <td>35</td>\n",
       "      <td>ВЫСШЕЕ</td>\n",
       "      <td>0</td>\n",
       "      <td>гражданский брак</td>\n",
       "      <td>1</td>\n",
       "      <td>F</td>\n",
       "      <td>сотрудник</td>\n",
       "      <td>0</td>\n",
       "      <td>95856.832424</td>\n",
       "      <td>на проведение свадьбы</td>\n",
       "    </tr>\n",
       "    <tr>\n",
       "      <th>9</th>\n",
       "      <td>0</td>\n",
       "      <td>-2188.756445</td>\n",
       "      <td>41</td>\n",
       "      <td>среднее</td>\n",
       "      <td>1</td>\n",
       "      <td>женат / замужем</td>\n",
       "      <td>0</td>\n",
       "      <td>M</td>\n",
       "      <td>сотрудник</td>\n",
       "      <td>0</td>\n",
       "      <td>144425.938277</td>\n",
       "      <td>покупка жилья для семьи</td>\n",
       "    </tr>\n",
       "  </tbody>\n",
       "</table>\n",
       "</div>"
      ],
      "text/plain": [
       "   children  days_employed  dob_years education  education_id  \\\n",
       "0         1   -8437.673028         42    высшее             0   \n",
       "1         1   -4024.803754         36   среднее             1   \n",
       "2         0   -5623.422610         33   Среднее             1   \n",
       "3         3   -4124.747207         32   среднее             1   \n",
       "4         0  340266.072047         53   среднее             1   \n",
       "5         0    -926.185831         27    высшее             0   \n",
       "6         0   -2879.202052         43    высшее             0   \n",
       "7         0    -152.779569         50   СРЕДНЕЕ             1   \n",
       "8         2   -6929.865299         35    ВЫСШЕЕ             0   \n",
       "9         0   -2188.756445         41   среднее             1   \n",
       "\n",
       "      family_status  family_status_id gender income_type  debt   total_income  \\\n",
       "0   женат / замужем                 0      F   сотрудник     0  253875.639453   \n",
       "1   женат / замужем                 0      F   сотрудник     0  112080.014102   \n",
       "2   женат / замужем                 0      M   сотрудник     0  145885.952297   \n",
       "3   женат / замужем                 0      M   сотрудник     0  267628.550329   \n",
       "4  гражданский брак                 1      F   пенсионер     0  158616.077870   \n",
       "5  гражданский брак                 1      M   компаньон     0  255763.565419   \n",
       "6   женат / замужем                 0      F   компаньон     0  240525.971920   \n",
       "7   женат / замужем                 0      M   сотрудник     0  135823.934197   \n",
       "8  гражданский брак                 1      F   сотрудник     0   95856.832424   \n",
       "9   женат / замужем                 0      M   сотрудник     0  144425.938277   \n",
       "\n",
       "                      purpose  \n",
       "0               покупка жилья  \n",
       "1     приобретение автомобиля  \n",
       "2               покупка жилья  \n",
       "3  дополнительное образование  \n",
       "4             сыграть свадьбу  \n",
       "5               покупка жилья  \n",
       "6           операции с жильем  \n",
       "7                 образование  \n",
       "8       на проведение свадьбы  \n",
       "9     покупка жилья для семьи  "
      ]
     },
     "metadata": {},
     "output_type": "display_data"
    }
   ],
   "source": [
    "#визуально просмотрим данные\n",
    "display(df.head(10)) "
   ]
  },
  {
   "cell_type": "markdown",
   "id": "72983c71",
   "metadata": {},
   "source": [
    "### Вывод\n",
    "\n",
    "В предоставленных данных, на первый взгляд видные следующие аномалии:\n",
    "    - Пропуски в столбцах 'days_employed' и 'total_income'\n",
    "    - В столбце 'days_employed' отрицательный стаж\n",
    "    - В столбце 'days_employed' значения стажа больше прожитых лет\n",
    "    - В столбце 'days_employed' значения в виде вещественных чисел\n",
    "    - В столбце 'education' имеются данные с разным регистром\n",
    "    - В столбце 'gender' используется верхний регистр\n",
    "    - В столбце 'total_income' имеются значения с большим количеством знаков после запятой"
   ]
  },
  {
   "cell_type": "markdown",
   "id": "8c3e939f",
   "metadata": {},
   "source": [
    "## Шаг 2 Предобработка данных"
   ]
  },
  {
   "cell_type": "markdown",
   "id": "1f79d32f",
   "metadata": {},
   "source": [
    "### Обработка пропусков"
   ]
  },
  {
   "cell_type": "code",
   "execution_count": 4,
   "id": "7b483a77",
   "metadata": {},
   "outputs": [
    {
     "data": {
      "text/plain": [
       "children               0\n",
       "days_employed       2174\n",
       "dob_years              0\n",
       "education              0\n",
       "education_id           0\n",
       "family_status          0\n",
       "family_status_id       0\n",
       "gender                 0\n",
       "income_type            0\n",
       "debt                   0\n",
       "total_income        2174\n",
       "purpose                0\n",
       "dtype: int64"
      ]
     },
     "execution_count": 4,
     "metadata": {},
     "output_type": "execute_result"
    }
   ],
   "source": [
    "#найдем пропуски\n",
    "df.isnull().sum()"
   ]
  },
  {
   "cell_type": "code",
   "execution_count": 5,
   "id": "fc5e62d4",
   "metadata": {
    "scrolled": false
   },
   "outputs": [
    {
     "data": {
      "text/html": [
       "<div>\n",
       "<style scoped>\n",
       "    .dataframe tbody tr th:only-of-type {\n",
       "        vertical-align: middle;\n",
       "    }\n",
       "\n",
       "    .dataframe tbody tr th {\n",
       "        vertical-align: top;\n",
       "    }\n",
       "\n",
       "    .dataframe thead th {\n",
       "        text-align: right;\n",
       "    }\n",
       "</style>\n",
       "<table border=\"1\" class=\"dataframe\">\n",
       "  <thead>\n",
       "    <tr style=\"text-align: right;\">\n",
       "      <th></th>\n",
       "      <th>children</th>\n",
       "      <th>days_employed</th>\n",
       "      <th>dob_years</th>\n",
       "      <th>education</th>\n",
       "      <th>education_id</th>\n",
       "      <th>family_status</th>\n",
       "      <th>family_status_id</th>\n",
       "      <th>gender</th>\n",
       "      <th>income_type</th>\n",
       "      <th>debt</th>\n",
       "      <th>total_income</th>\n",
       "      <th>purpose</th>\n",
       "    </tr>\n",
       "  </thead>\n",
       "  <tbody>\n",
       "    <tr>\n",
       "      <th>12</th>\n",
       "      <td>0</td>\n",
       "      <td>NaN</td>\n",
       "      <td>65</td>\n",
       "      <td>среднее</td>\n",
       "      <td>1</td>\n",
       "      <td>гражданский брак</td>\n",
       "      <td>1</td>\n",
       "      <td>M</td>\n",
       "      <td>пенсионер</td>\n",
       "      <td>0</td>\n",
       "      <td>NaN</td>\n",
       "      <td>сыграть свадьбу</td>\n",
       "    </tr>\n",
       "    <tr>\n",
       "      <th>26</th>\n",
       "      <td>0</td>\n",
       "      <td>NaN</td>\n",
       "      <td>41</td>\n",
       "      <td>среднее</td>\n",
       "      <td>1</td>\n",
       "      <td>женат / замужем</td>\n",
       "      <td>0</td>\n",
       "      <td>M</td>\n",
       "      <td>госслужащий</td>\n",
       "      <td>0</td>\n",
       "      <td>NaN</td>\n",
       "      <td>образование</td>\n",
       "    </tr>\n",
       "    <tr>\n",
       "      <th>29</th>\n",
       "      <td>0</td>\n",
       "      <td>NaN</td>\n",
       "      <td>63</td>\n",
       "      <td>среднее</td>\n",
       "      <td>1</td>\n",
       "      <td>Не женат / не замужем</td>\n",
       "      <td>4</td>\n",
       "      <td>F</td>\n",
       "      <td>пенсионер</td>\n",
       "      <td>0</td>\n",
       "      <td>NaN</td>\n",
       "      <td>строительство жилой недвижимости</td>\n",
       "    </tr>\n",
       "    <tr>\n",
       "      <th>41</th>\n",
       "      <td>0</td>\n",
       "      <td>NaN</td>\n",
       "      <td>50</td>\n",
       "      <td>среднее</td>\n",
       "      <td>1</td>\n",
       "      <td>женат / замужем</td>\n",
       "      <td>0</td>\n",
       "      <td>F</td>\n",
       "      <td>госслужащий</td>\n",
       "      <td>0</td>\n",
       "      <td>NaN</td>\n",
       "      <td>сделка с подержанным автомобилем</td>\n",
       "    </tr>\n",
       "    <tr>\n",
       "      <th>55</th>\n",
       "      <td>0</td>\n",
       "      <td>NaN</td>\n",
       "      <td>54</td>\n",
       "      <td>среднее</td>\n",
       "      <td>1</td>\n",
       "      <td>гражданский брак</td>\n",
       "      <td>1</td>\n",
       "      <td>F</td>\n",
       "      <td>пенсионер</td>\n",
       "      <td>1</td>\n",
       "      <td>NaN</td>\n",
       "      <td>сыграть свадьбу</td>\n",
       "    </tr>\n",
       "  </tbody>\n",
       "</table>\n",
       "</div>"
      ],
      "text/plain": [
       "    children  days_employed  dob_years education  education_id  \\\n",
       "12         0            NaN         65   среднее             1   \n",
       "26         0            NaN         41   среднее             1   \n",
       "29         0            NaN         63   среднее             1   \n",
       "41         0            NaN         50   среднее             1   \n",
       "55         0            NaN         54   среднее             1   \n",
       "\n",
       "            family_status  family_status_id gender  income_type  debt  \\\n",
       "12       гражданский брак                 1      M    пенсионер     0   \n",
       "26        женат / замужем                 0      M  госслужащий     0   \n",
       "29  Не женат / не замужем                 4      F    пенсионер     0   \n",
       "41        женат / замужем                 0      F  госслужащий     0   \n",
       "55       гражданский брак                 1      F    пенсионер     1   \n",
       "\n",
       "    total_income                           purpose  \n",
       "12           NaN                   сыграть свадьбу  \n",
       "26           NaN                       образование  \n",
       "29           NaN  строительство жилой недвижимости  \n",
       "41           NaN  сделка с подержанным автомобилем  \n",
       "55           NaN                   сыграть свадьбу  "
      ]
     },
     "execution_count": 5,
     "metadata": {},
     "output_type": "execute_result"
    }
   ],
   "source": [
    "#выведем пустые значения на экран\n",
    "df[df['total_income'].isnull()].head()"
   ]
  },
  {
   "cell_type": "markdown",
   "id": "9e75d2f0",
   "metadata": {},
   "source": [
    "Чтобы изучить ошибки в стобцах отлично подойдет метод value_counts() для каждого столбца."
   ]
  },
  {
   "cell_type": "code",
   "execution_count": 6,
   "id": "7ae81f1d",
   "metadata": {},
   "outputs": [
    {
     "data": {
      "text/plain": [
       " 0     14149\n",
       " 1      4818\n",
       " 2      2055\n",
       " 3       330\n",
       " 20       76\n",
       "-1        47\n",
       " 4        41\n",
       " 5         9\n",
       "Name: children, dtype: int64"
      ]
     },
     "execution_count": 6,
     "metadata": {},
     "output_type": "execute_result"
    }
   ],
   "source": [
    "#посмотрим уникальные значения столбца\n",
    "df['children'].value_counts()"
   ]
  },
  {
   "cell_type": "markdown",
   "id": "dd4127bc",
   "metadata": {},
   "source": [
    " - df['children'] видим следующие аномалии:\n",
    "  - количество детей -1, отрицательное количество детей невозможно, скорректируем на положительное число\n",
    "  - количество детей 20, число слишком велико, предположим, что это опечатка, т.к. 0 находится рядом с цифрой 2"
   ]
  },
  {
   "cell_type": "code",
   "execution_count": 7,
   "id": "2a1bbc44",
   "metadata": {},
   "outputs": [
    {
     "data": {
      "text/plain": [
       "-327.685916     1\n",
       "-1580.622577    1\n",
       "-4122.460569    1\n",
       "-2828.237691    1\n",
       "-2636.090517    1\n",
       "               ..\n",
       "-7120.517564    1\n",
       "-2146.884040    1\n",
       "-881.454684     1\n",
       "-794.666350     1\n",
       "-3382.113891    1\n",
       "Name: days_employed, Length: 19351, dtype: int64"
      ]
     },
     "execution_count": 7,
     "metadata": {},
     "output_type": "execute_result"
    }
   ],
   "source": [
    "#посмотрим уникальные значения столбца\n",
    "df['days_employed'].value_counts()"
   ]
  },
  {
   "cell_type": "markdown",
   "id": "41602d5c",
   "metadata": {},
   "source": [
    " - df['days_employed'] следующие аномалии:\n",
    "  - отрицательный стаж\n",
    "  - большое число трудового стажа"
   ]
  },
  {
   "cell_type": "code",
   "execution_count": 8,
   "id": "620cf778",
   "metadata": {},
   "outputs": [
    {
     "data": {
      "text/plain": [
       "35    617\n",
       "40    609\n",
       "41    607\n",
       "34    603\n",
       "38    598\n",
       "42    597\n",
       "33    581\n",
       "39    573\n",
       "31    560\n",
       "36    555\n",
       "44    547\n",
       "29    545\n",
       "30    540\n",
       "48    538\n",
       "37    537\n",
       "50    514\n",
       "43    513\n",
       "32    510\n",
       "49    508\n",
       "28    503\n",
       "45    497\n",
       "27    493\n",
       "56    487\n",
       "52    484\n",
       "47    480\n",
       "54    479\n",
       "46    475\n",
       "58    461\n",
       "57    460\n",
       "53    459\n",
       "51    448\n",
       "59    444\n",
       "55    443\n",
       "26    408\n",
       "60    377\n",
       "25    357\n",
       "61    355\n",
       "62    352\n",
       "63    269\n",
       "64    265\n",
       "24    264\n",
       "23    254\n",
       "65    194\n",
       "66    183\n",
       "22    183\n",
       "67    167\n",
       "21    111\n",
       "0     101\n",
       "68     99\n",
       "69     85\n",
       "70     65\n",
       "71     58\n",
       "20     51\n",
       "72     33\n",
       "19     14\n",
       "73      8\n",
       "74      6\n",
       "75      1\n",
       "Name: dob_years, dtype: int64"
      ]
     },
     "execution_count": 8,
     "metadata": {},
     "output_type": "execute_result"
    }
   ],
   "source": [
    "#посмотрим уникальные значения столбца\n",
    "df['dob_years'].value_counts()"
   ]
  },
  {
   "cell_type": "markdown",
   "id": "06e68983",
   "metadata": {},
   "source": [
    " - df['dob_years'] видим следующие аномалии:\n",
    "  - значения в возрасте \"0\" и \"2\"; 0 - скорей всего клиент не сообщил о своем возрасте\n",
    "  - 2 - опечатка"
   ]
  },
  {
   "cell_type": "code",
   "execution_count": 9,
   "id": "9f3f6889",
   "metadata": {},
   "outputs": [
    {
     "data": {
      "text/plain": [
       "среднее                13750\n",
       "высшее                  4718\n",
       "СРЕДНЕЕ                  772\n",
       "Среднее                  711\n",
       "неоконченное высшее      668\n",
       "ВЫСШЕЕ                   274\n",
       "Высшее                   268\n",
       "начальное                250\n",
       "Неоконченное высшее       47\n",
       "НЕОКОНЧЕННОЕ ВЫСШЕЕ       29\n",
       "НАЧАЛЬНОЕ                 17\n",
       "Начальное                 15\n",
       "ученая степень             4\n",
       "УЧЕНАЯ СТЕПЕНЬ             1\n",
       "Ученая степень             1\n",
       "Name: education, dtype: int64"
      ]
     },
     "execution_count": 9,
     "metadata": {},
     "output_type": "execute_result"
    }
   ],
   "source": [
    "#посмотрим уникальные значения столбца\n",
    "df['education'].value_counts()"
   ]
  },
  {
   "cell_type": "markdown",
   "id": "81712b18",
   "metadata": {},
   "source": [
    " - df['education'] видим следующие аномалии:\n",
    "  - разный регитср в значениях\n",
    "  - значени \"2\", предположительно, закончено два класса или два высших"
   ]
  },
  {
   "cell_type": "code",
   "execution_count": 10,
   "id": "9e46148a",
   "metadata": {},
   "outputs": [
    {
     "data": {
      "text/plain": [
       "1    15233\n",
       "0     5260\n",
       "2      744\n",
       "3      282\n",
       "4        6\n",
       "Name: education_id, dtype: int64"
      ]
     },
     "execution_count": 10,
     "metadata": {},
     "output_type": "execute_result"
    }
   ],
   "source": [
    "#посмотрим уникальные значения столбца\n",
    "df['education_id'].value_counts()"
   ]
  },
  {
   "cell_type": "markdown",
   "id": "682b282e",
   "metadata": {},
   "source": [
    " - df['education_id'] без аномалий"
   ]
  },
  {
   "cell_type": "code",
   "execution_count": 11,
   "id": "766f42f2",
   "metadata": {},
   "outputs": [
    {
     "data": {
      "text/plain": [
       "женат / замужем          12380\n",
       "гражданский брак          4177\n",
       "Не женат / не замужем     2813\n",
       "в разводе                 1195\n",
       "вдовец / вдова             960\n",
       "Name: family_status, dtype: int64"
      ]
     },
     "execution_count": 11,
     "metadata": {},
     "output_type": "execute_result"
    }
   ],
   "source": [
    "#посмотрим уникальные значения столбца\n",
    "df['family_status'].value_counts()"
   ]
  },
  {
   "cell_type": "markdown",
   "id": "ad754186",
   "metadata": {},
   "source": [
    " - df['family_status'] без аномалий"
   ]
  },
  {
   "cell_type": "code",
   "execution_count": 12,
   "id": "3564d90b",
   "metadata": {},
   "outputs": [
    {
     "data": {
      "text/plain": [
       "0    12380\n",
       "1     4177\n",
       "4     2813\n",
       "3     1195\n",
       "2      960\n",
       "Name: family_status_id, dtype: int64"
      ]
     },
     "execution_count": 12,
     "metadata": {},
     "output_type": "execute_result"
    }
   ],
   "source": [
    "#посмотрим уникальные значения столбца\n",
    "df['family_status_id'].value_counts()"
   ]
  },
  {
   "cell_type": "markdown",
   "id": "0679c15e",
   "metadata": {},
   "source": [
    " - df['family_status_id'] без аномалий"
   ]
  },
  {
   "cell_type": "code",
   "execution_count": 13,
   "id": "cabf9d1c",
   "metadata": {},
   "outputs": [
    {
     "data": {
      "text/plain": [
       "F      14236\n",
       "M       7288\n",
       "XNA        1\n",
       "Name: gender, dtype: int64"
      ]
     },
     "execution_count": 13,
     "metadata": {},
     "output_type": "execute_result"
    }
   ],
   "source": [
    "#посмотрим уникальные значения столбца\n",
    "df['gender'].value_counts()"
   ]
  },
  {
   "cell_type": "markdown",
   "id": "8cdab771",
   "metadata": {},
   "source": [
    " - df['gender'] видим следующие аномалии:\n",
    "  - регистр значений верхний\n",
    "  - имеется значение XNA"
   ]
  },
  {
   "cell_type": "code",
   "execution_count": 14,
   "id": "473d38ee",
   "metadata": {},
   "outputs": [
    {
     "data": {
      "text/plain": [
       "сотрудник          11119\n",
       "компаньон           5085\n",
       "пенсионер           3856\n",
       "госслужащий         1459\n",
       "предприниматель        2\n",
       "безработный            2\n",
       "студент                1\n",
       "в декрете              1\n",
       "Name: income_type, dtype: int64"
      ]
     },
     "execution_count": 14,
     "metadata": {},
     "output_type": "execute_result"
    }
   ],
   "source": [
    "#посмотрим уникальные значения столбца\n",
    "df['income_type'].value_counts()"
   ]
  },
  {
   "cell_type": "markdown",
   "id": "e2ec985b",
   "metadata": {},
   "source": [
    " - df['income_type'] без аномалий"
   ]
  },
  {
   "cell_type": "code",
   "execution_count": 15,
   "id": "870ef0a1",
   "metadata": {},
   "outputs": [
    {
     "data": {
      "text/plain": [
       "0    19784\n",
       "1     1741\n",
       "Name: debt, dtype: int64"
      ]
     },
     "execution_count": 15,
     "metadata": {},
     "output_type": "execute_result"
    }
   ],
   "source": [
    "#посмотрим уникальные значения столбца\n",
    "df['debt'].value_counts()"
   ]
  },
  {
   "cell_type": "markdown",
   "id": "937b8b6c",
   "metadata": {},
   "source": [
    " - df['debt'] без аномалий"
   ]
  },
  {
   "cell_type": "code",
   "execution_count": 16,
   "id": "b67d9d15",
   "metadata": {},
   "outputs": [
    {
     "data": {
      "text/plain": [
       "169846.427535    1\n",
       "257737.077768    1\n",
       "200508.675866    1\n",
       "106196.235958    1\n",
       "248730.171354    1\n",
       "                ..\n",
       "175057.266090    1\n",
       "101516.604975    1\n",
       "239154.168013    1\n",
       "165009.733021    1\n",
       "189255.286637    1\n",
       "Name: total_income, Length: 19351, dtype: int64"
      ]
     },
     "execution_count": 16,
     "metadata": {},
     "output_type": "execute_result"
    }
   ],
   "source": [
    "#посмотрим уникальные значения столбца\n",
    "df['total_income'].value_counts()"
   ]
  },
  {
   "cell_type": "markdown",
   "id": "6aa1fea8",
   "metadata": {},
   "source": [
    " - df['total_income'] без аномалий"
   ]
  },
  {
   "cell_type": "code",
   "execution_count": 17,
   "id": "e16fe570",
   "metadata": {},
   "outputs": [
    {
     "data": {
      "text/plain": [
       "свадьба                                   797\n",
       "на проведение свадьбы                     777\n",
       "сыграть свадьбу                           774\n",
       "операции с недвижимостью                  676\n",
       "покупка коммерческой недвижимости         664\n",
       "покупка жилья для сдачи                   653\n",
       "операции с жильем                         653\n",
       "операции с коммерческой недвижимостью     651\n",
       "жилье                                     647\n",
       "покупка жилья                             647\n",
       "покупка жилья для семьи                   641\n",
       "строительство собственной недвижимости    635\n",
       "недвижимость                              634\n",
       "операции со своей недвижимостью           630\n",
       "строительство жилой недвижимости          626\n",
       "покупка недвижимости                      624\n",
       "строительство недвижимости                620\n",
       "покупка своего жилья                      620\n",
       "ремонт жилью                              612\n",
       "покупка жилой недвижимости                607\n",
       "на покупку своего автомобиля              505\n",
       "заняться высшим образованием              496\n",
       "автомобиль                                495\n",
       "сделка с подержанным автомобилем          489\n",
       "свой автомобиль                           480\n",
       "на покупку подержанного автомобиля        479\n",
       "автомобили                                478\n",
       "на покупку автомобиля                     472\n",
       "дополнительное образование                462\n",
       "приобретение автомобиля                   462\n",
       "сделка с автомобилем                      455\n",
       "высшее образование                        453\n",
       "образование                               447\n",
       "получение дополнительного образования     447\n",
       "получение образования                     443\n",
       "профильное образование                    436\n",
       "получение высшего образования             426\n",
       "заняться образованием                     412\n",
       "Name: purpose, dtype: int64"
      ]
     },
     "execution_count": 17,
     "metadata": {},
     "output_type": "execute_result"
    }
   ],
   "source": [
    "#посмотрим уникальные значения столбца\n",
    "df['purpose'].value_counts()"
   ]
  },
  {
   "cell_type": "markdown",
   "id": "9c9042ee",
   "metadata": {},
   "source": [
    " - df['purpose'] имеются неявные дубликаты\n",
    " - опечатка \"ремонт жилью"
   ]
  },
  {
   "cell_type": "markdown",
   "id": "01deaf43",
   "metadata": {},
   "source": [
    "### Обработка ошибок в данных"
   ]
  },
  {
   "cell_type": "code",
   "execution_count": 18,
   "id": "b1a341df",
   "metadata": {},
   "outputs": [
    {
     "data": {
      "text/plain": [
       "0"
      ]
     },
     "execution_count": 18,
     "metadata": {},
     "output_type": "execute_result"
    }
   ],
   "source": [
    "# исправим значение -1 для количества детей согласно нашей гипотезы (т.е. заменим на 1)\n",
    "df.loc[df['children'] == -1, 'children'] = 1\n",
    "# проверим\n",
    "df.loc[df['children'] == -1]['children'].count()"
   ]
  },
  {
   "cell_type": "code",
   "execution_count": 19,
   "id": "9e39630b",
   "metadata": {},
   "outputs": [
    {
     "data": {
      "text/plain": [
       "0"
      ]
     },
     "execution_count": 19,
     "metadata": {},
     "output_type": "execute_result"
    }
   ],
   "source": [
    "# исправим значения 20 для возраста согласно нашей гипотезе\n",
    "df.loc[df['children'] == 20, 'children'] = 2\n",
    "# проверим\n",
    "df.loc[df['children'] == 20]['children'].count()"
   ]
  },
  {
   "cell_type": "code",
   "execution_count": 20,
   "id": "3c8507f3",
   "metadata": {},
   "outputs": [],
   "source": [
    "#приведем к нижнему регистру\n",
    "df['education'] = df['education'].str.lower()"
   ]
  },
  {
   "cell_type": "code",
   "execution_count": 21,
   "id": "587ce1cd",
   "metadata": {},
   "outputs": [
    {
     "data": {
      "text/plain": [
       "0"
      ]
     },
     "execution_count": 21,
     "metadata": {},
     "output_type": "execute_result"
    }
   ],
   "source": [
    "#приведем к нижнему регистру\n",
    "df['gender'] = df['gender'].str.lower()\n",
    "# исправим значение пола\n",
    "df.loc[df['gender'] == 'xna', 'gender'] = 'f'\n",
    "# проверим\n",
    "df.loc[df['gender'] == 'xna']['gender'].count()"
   ]
  },
  {
   "cell_type": "code",
   "execution_count": 22,
   "id": "e1ba5c7c",
   "metadata": {},
   "outputs": [
    {
     "data": {
      "text/plain": [
       "0"
      ]
     },
     "execution_count": 22,
     "metadata": {},
     "output_type": "execute_result"
    }
   ],
   "source": [
    "# исправим опечатку в purpose\n",
    "df.loc[df['purpose'] == 'ремонт жилью', 'purpose'] = 'ремонт жилья'\n",
    "# проверим\n",
    "df.loc[df['purpose'] == 'ремонт жилью']['purpose'].count()"
   ]
  },
  {
   "cell_type": "code",
   "execution_count": 23,
   "id": "2bde6a61",
   "metadata": {},
   "outputs": [
    {
     "name": "stdout",
     "output_type": "stream",
     "text": [
      "Доля пропущенных значений составлят:10%\n"
     ]
    }
   ],
   "source": [
    "#проверим долю пропущенных значений\n",
    "print(f\"Доля пропущенных значений составлят:{(df['total_income'].isna().sum()) / len(df['total_income']):.0%}\")"
   ]
  },
  {
   "cell_type": "markdown",
   "id": "627f93ea",
   "metadata": {},
   "source": [
    "Видим, что доля пропусков составляет 10%, что может сказаться на анализе. Необходимо заполнить пропуски. Заполним их медианным значением чтобы не учитывать \"всплески\"."
   ]
  },
  {
   "cell_type": "markdown",
   "id": "b1291bcc",
   "metadata": {},
   "source": [
    "Возможные причины могут быть следующими:\n",
    "    - пропуск в связи с отсутсвием трудового стажа\n",
    "    - пропуск т.к. в данный момент клиент безработный"
   ]
  },
  {
   "cell_type": "markdown",
   "id": "71fe85a4",
   "metadata": {},
   "source": [
    "Имеются пропуски в двух столбцах. Столбец 'days_employed' трогать не будем, т.к. он в исследовании не пригодится"
   ]
  },
  {
   "cell_type": "code",
   "execution_count": 24,
   "id": "71b1c494",
   "metadata": {},
   "outputs": [
    {
     "data": {
      "text/plain": [
       "2194"
      ]
     },
     "metadata": {},
     "output_type": "display_data"
    },
    {
     "data": {
      "text/plain": [
       "0"
      ]
     },
     "metadata": {},
     "output_type": "display_data"
    }
   ],
   "source": [
    "#В случае если бы данные в столбце 'days_employed' нам были бы нужны, тогда необходимо было бы их привести к рельным данным.\n",
    "\n",
    "#Сперва необходимо устранить отрицательные значения, взяв модуль числа (abs())\n",
    "df['days_employed'] = abs(df['days_employed'])\n",
    "\n",
    "#Сменим тип из вещественного числа на целые, найдем медиану\n",
    "days_employed_median = int(df['days_employed'].median())\n",
    "display(days_employed_median)\n",
    "\n",
    "#Заменим пропуски\n",
    "df['days_employed'] = df['days_employed'].fillna(days_employed_median)\n",
    "\n",
    "#Проверим\n",
    "display(df['days_employed'].isna().sum())\n"
   ]
  },
  {
   "cell_type": "markdown",
   "id": "8cb8f65f",
   "metadata": {},
   "source": [
    "Вернемся к удалению пропусков в столбце 'total_income'"
   ]
  },
  {
   "cell_type": "code",
   "execution_count": 25,
   "id": "cd9f7932",
   "metadata": {},
   "outputs": [
    {
     "data": {
      "text/plain": [
       "145017.93753253992"
      ]
     },
     "metadata": {},
     "output_type": "display_data"
    }
   ],
   "source": [
    "#найдем медиану значений\n",
    "total_income_median = df['total_income'].median()\n",
    "display(total_income_median)"
   ]
  },
  {
   "cell_type": "markdown",
   "id": "de3828c5",
   "metadata": {},
   "source": [
    "Так как данные имеют большое количество после запятой, приведем их к целому числу, воспользовавшись методом astype()"
   ]
  },
  {
   "cell_type": "code",
   "execution_count": 26,
   "id": "b091ac5a",
   "metadata": {},
   "outputs": [],
   "source": [
    "#заменим пропуски\n",
    "df['total_income'] = df['total_income'].fillna(total_income_median).astype('int')"
   ]
  },
  {
   "cell_type": "code",
   "execution_count": 27,
   "id": "806f3348",
   "metadata": {},
   "outputs": [
    {
     "data": {
      "text/plain": [
       "0"
      ]
     },
     "metadata": {},
     "output_type": "display_data"
    }
   ],
   "source": [
    "#проверим\n",
    "display(df['total_income'].isna().sum())"
   ]
  },
  {
   "cell_type": "markdown",
   "id": "1ace5e4e",
   "metadata": {},
   "source": [
    "### Вывод\n",
    "\n",
    "В предоставленных данных имелись пропуски в двух столбцах.\n",
    "Для анализа данных в соответствии с поставленной задачей, нужно было восставновить пропуски в столбце 'total_income'.\n",
    "Пропуски восстанавливали путем нахождения медианы значений в данном столбце. Обоснование: т.к. в данных имеются значения отличающихся друг от друга на порядки, тем самым вызывая \"всплески\", было решено найти медиану.\n",
    "Причины появления пропусков могут быть следующими: отсутсвие рабочего стажа, отсутвие официального рабочего стажа, ошибка при внесении данных.\n",
    "Сообщить ответсвенному лицу о аномалиях в данных."
   ]
  },
  {
   "cell_type": "markdown",
   "id": "33f78503",
   "metadata": {},
   "source": [
    "## Обработка дубликатов"
   ]
  },
  {
   "cell_type": "code",
   "execution_count": 28,
   "id": "1d9e4614",
   "metadata": {},
   "outputs": [
    {
     "data": {
      "text/plain": [
       "71"
      ]
     },
     "execution_count": 28,
     "metadata": {},
     "output_type": "execute_result"
    }
   ],
   "source": [
    "#проверим количество явных дубликатов\n",
    "df.duplicated().sum()"
   ]
  },
  {
   "cell_type": "code",
   "execution_count": 29,
   "id": "6a0840d9",
   "metadata": {},
   "outputs": [
    {
     "data": {
      "text/plain": [
       "0"
      ]
     },
     "execution_count": 29,
     "metadata": {},
     "output_type": "execute_result"
    }
   ],
   "source": [
    "#удалим дубликаты\n",
    "df = df.drop_duplicates().reset_index(drop=True)\n",
    "#проверим\n",
    "df.duplicated().sum()"
   ]
  },
  {
   "cell_type": "markdown",
   "id": "2c2e179b",
   "metadata": {},
   "source": [
    "Явных дубликатов было не так много. Скорей всего были задублированы."
   ]
  },
  {
   "cell_type": "markdown",
   "id": "09a72827",
   "metadata": {},
   "source": [
    "### Формирование дополнительных датафреймов словарей, декомпозиция исходного датафрейма."
   ]
  },
  {
   "cell_type": "code",
   "execution_count": 31,
   "id": "1ddcbc3b",
   "metadata": {},
   "outputs": [
    {
     "data": {
      "text/html": [
       "<div>\n",
       "<style scoped>\n",
       "    .dataframe tbody tr th:only-of-type {\n",
       "        vertical-align: middle;\n",
       "    }\n",
       "\n",
       "    .dataframe tbody tr th {\n",
       "        vertical-align: top;\n",
       "    }\n",
       "\n",
       "    .dataframe thead th {\n",
       "        text-align: right;\n",
       "    }\n",
       "</style>\n",
       "<table border=\"1\" class=\"dataframe\">\n",
       "  <thead>\n",
       "    <tr style=\"text-align: right;\">\n",
       "      <th></th>\n",
       "      <th>education_id</th>\n",
       "      <th>education</th>\n",
       "    </tr>\n",
       "  </thead>\n",
       "  <tbody>\n",
       "    <tr>\n",
       "      <th>0</th>\n",
       "      <td>0</td>\n",
       "      <td>высшее</td>\n",
       "    </tr>\n",
       "    <tr>\n",
       "      <th>1</th>\n",
       "      <td>1</td>\n",
       "      <td>среднее</td>\n",
       "    </tr>\n",
       "    <tr>\n",
       "      <th>2</th>\n",
       "      <td>2</td>\n",
       "      <td>неоконченное высшее</td>\n",
       "    </tr>\n",
       "    <tr>\n",
       "      <th>3</th>\n",
       "      <td>3</td>\n",
       "      <td>начальное</td>\n",
       "    </tr>\n",
       "    <tr>\n",
       "      <th>4</th>\n",
       "      <td>4</td>\n",
       "      <td>ученая степень</td>\n",
       "    </tr>\n",
       "  </tbody>\n",
       "</table>\n",
       "</div>"
      ],
      "text/plain": [
       "   education_id            education\n",
       "0             0               высшее\n",
       "1             1              среднее\n",
       "2             2  неоконченное высшее\n",
       "3             3            начальное\n",
       "4             4       ученая степень"
      ]
     },
     "execution_count": 31,
     "metadata": {},
     "output_type": "execute_result"
    }
   ],
   "source": [
    "#формируем новый датафрейм - \"словарь\"\n",
    "education_data = df[['education_id', 'education']]\n",
    "# удалим дубликаты из словаря\n",
    "education_data = education_data.drop_duplicates().reset_index(drop=True)\n",
    "# проверим содержимое\n",
    "education_data.head(10)\n"
   ]
  },
  {
   "cell_type": "code",
   "execution_count": 32,
   "id": "763626ae",
   "metadata": {},
   "outputs": [
    {
     "data": {
      "text/html": [
       "<div>\n",
       "<style scoped>\n",
       "    .dataframe tbody tr th:only-of-type {\n",
       "        vertical-align: middle;\n",
       "    }\n",
       "\n",
       "    .dataframe tbody tr th {\n",
       "        vertical-align: top;\n",
       "    }\n",
       "\n",
       "    .dataframe thead th {\n",
       "        text-align: right;\n",
       "    }\n",
       "</style>\n",
       "<table border=\"1\" class=\"dataframe\">\n",
       "  <thead>\n",
       "    <tr style=\"text-align: right;\">\n",
       "      <th></th>\n",
       "      <th>family_status_id</th>\n",
       "      <th>family_status</th>\n",
       "    </tr>\n",
       "  </thead>\n",
       "  <tbody>\n",
       "    <tr>\n",
       "      <th>0</th>\n",
       "      <td>0</td>\n",
       "      <td>женат / замужем</td>\n",
       "    </tr>\n",
       "    <tr>\n",
       "      <th>1</th>\n",
       "      <td>1</td>\n",
       "      <td>гражданский брак</td>\n",
       "    </tr>\n",
       "    <tr>\n",
       "      <th>2</th>\n",
       "      <td>2</td>\n",
       "      <td>вдовец / вдова</td>\n",
       "    </tr>\n",
       "    <tr>\n",
       "      <th>3</th>\n",
       "      <td>3</td>\n",
       "      <td>в разводе</td>\n",
       "    </tr>\n",
       "    <tr>\n",
       "      <th>4</th>\n",
       "      <td>4</td>\n",
       "      <td>Не женат / не замужем</td>\n",
       "    </tr>\n",
       "  </tbody>\n",
       "</table>\n",
       "</div>"
      ],
      "text/plain": [
       "   family_status_id          family_status\n",
       "0                 0        женат / замужем\n",
       "1                 1       гражданский брак\n",
       "2                 2         вдовец / вдова\n",
       "3                 3              в разводе\n",
       "4                 4  Не женат / не замужем"
      ]
     },
     "execution_count": 32,
     "metadata": {},
     "output_type": "execute_result"
    }
   ],
   "source": [
    "#формируем новый датафрейм - \"словарь\"\n",
    "family_status_data = df[['family_status_id', 'family_status']]\n",
    "# удалим дубликаты из словаря\n",
    "family_status_data = family_status_data.drop_duplicates().reset_index(drop=True)\n",
    "# проверим содержимое\n",
    "family_status_data.head(10)\n"
   ]
  },
  {
   "cell_type": "code",
   "execution_count": 33,
   "id": "d7f5c1ef",
   "metadata": {},
   "outputs": [
    {
     "name": "stdout",
     "output_type": "stream",
     "text": [
      "<class 'pandas.core.frame.DataFrame'>\n",
      "RangeIndex: 21454 entries, 0 to 21453\n",
      "Data columns (total 12 columns):\n",
      " #   Column            Non-Null Count  Dtype  \n",
      "---  ------            --------------  -----  \n",
      " 0   children          21454 non-null  int64  \n",
      " 1   days_employed     21454 non-null  float64\n",
      " 2   dob_years         21454 non-null  int64  \n",
      " 3   education         21454 non-null  object \n",
      " 4   education_id      21454 non-null  int64  \n",
      " 5   family_status     21454 non-null  object \n",
      " 6   family_status_id  21454 non-null  int64  \n",
      " 7   gender            21454 non-null  object \n",
      " 8   income_type       21454 non-null  object \n",
      " 9   debt              21454 non-null  int64  \n",
      " 10  total_income      21454 non-null  int64  \n",
      " 11  purpose           21454 non-null  object \n",
      "dtypes: float64(1), int64(6), object(5)\n",
      "memory usage: 2.0+ MB\n"
     ]
    }
   ],
   "source": [
    "#удалим столбцы education и family_status\n",
    "df.drop(['education', 'family_status'], axis=1)\n",
    "#проверим\n",
    "df.info()"
   ]
  },
  {
   "cell_type": "code",
   "execution_count": 34,
   "id": "d016167b",
   "metadata": {},
   "outputs": [
    {
     "name": "stdout",
     "output_type": "stream",
     "text": [
      "<class 'pandas.core.frame.DataFrame'>\n",
      "RangeIndex: 21454 entries, 0 to 21453\n",
      "Data columns (total 12 columns):\n",
      " #   Column            Non-Null Count  Dtype  \n",
      "---  ------            --------------  -----  \n",
      " 0   children          21454 non-null  int64  \n",
      " 1   days_employed     21454 non-null  float64\n",
      " 2   dob_years         21454 non-null  int64  \n",
      " 3   education         21454 non-null  object \n",
      " 4   education_id      21454 non-null  int64  \n",
      " 5   family_status     21454 non-null  object \n",
      " 6   family_status_id  21454 non-null  int64  \n",
      " 7   gender            21454 non-null  object \n",
      " 8   income_type       21454 non-null  object \n",
      " 9   debt              21454 non-null  int64  \n",
      " 10  total_income      21454 non-null  int64  \n",
      " 11  purpose           21454 non-null  object \n",
      "dtypes: float64(1), int64(6), object(5)\n",
      "memory usage: 2.0+ MB\n"
     ]
    }
   ],
   "source": [
    "df.info()"
   ]
  },
  {
   "cell_type": "markdown",
   "id": "b9d85c3c",
   "metadata": {},
   "source": [
    "### Создание категорий по столбцу 'total_income'"
   ]
  },
  {
   "cell_type": "code",
   "execution_count": 35,
   "id": "edd36785",
   "metadata": {},
   "outputs": [
    {
     "data": {
      "text/plain": [
       "C    16016\n",
       "B     5041\n",
       "D      350\n",
       "A       25\n",
       "E       22\n",
       "Name: total_income_category, dtype: int64"
      ]
     },
     "execution_count": 35,
     "metadata": {},
     "output_type": "execute_result"
    }
   ],
   "source": [
    "#создаем функцию, которая пробежится по столбцы 'total_income' и каждое значение в толбце отнесет к категории.\n",
    "#Если:0–30000 — 'E'; 30001–50000 — 'D'; 50001–200000 — 'C'; 200001–1000000 — 'B'; 1000001 и выше — 'A'.\n",
    "\n",
    "def func_income_category(total_income):\n",
    "    if total_income < 30000:\n",
    "        return 'E'\n",
    "    if 30001 <= total_income < 50000:\n",
    "        return 'D'\n",
    "    if 50001 <= total_income < 200000:\n",
    "        return 'C'\n",
    "    if 200001 <= total_income < 1000000:\n",
    "        return 'B'\n",
    "    return 'A'\n",
    "\n",
    "\n",
    "df['total_income_category'] = df['total_income'].apply(func_income_category)\n",
    "\n",
    "# проверим\n",
    "df['total_income_category'].value_counts()"
   ]
  },
  {
   "cell_type": "markdown",
   "id": "d2c3b7c5",
   "metadata": {},
   "source": [
    "### Создание категорий по столбцу 'purpose'"
   ]
  },
  {
   "cell_type": "code",
   "execution_count": 36,
   "id": "51ee2eed",
   "metadata": {},
   "outputs": [
    {
     "data": {
      "text/plain": [
       "операции с недвижимостью    10811\n",
       "операции с автомобилем       4306\n",
       "получение образования        4013\n",
       "проведение свадьбы           2324\n",
       "Name: purpose_category, dtype: int64"
      ]
     },
     "execution_count": 36,
     "metadata": {},
     "output_type": "execute_result"
    }
   ],
   "source": [
    "#создаем функцию, которая пробежится по столбцу 'purpose' и в зависимости от корня слова определяющего нужду кредита,\n",
    "#присвоем ей одну из категорий: ‘операции с автомобилем’, ‘операции с недвижимостью’, ‘проведение свадьбы’, ‘получение образования’.\n",
    "\n",
    "def func_purpose_category(purpose):\n",
    "    if 'авто' in purpose:\n",
    "        return 'операции с автомобилем'\n",
    "    if 'жил' in purpose:\n",
    "        return 'операции с недвижимостью'\n",
    "    if 'недвиж' in purpose:\n",
    "        return 'операции с недвижимостью'\n",
    "    if 'свад' in purpose:\n",
    "        return 'проведение свадьбы'\n",
    "    if 'образ' in purpose:\n",
    "        return 'получение образования'\n",
    "df['purpose_category'] = df['purpose'].apply(func_purpose_category) \n",
    "\n",
    "#проверим\n",
    "df['purpose_category'].value_counts()"
   ]
  },
  {
   "cell_type": "markdown",
   "id": "0fd0da19",
   "metadata": {},
   "source": [
    "### Ответы на вопросы."
   ]
  },
  {
   "cell_type": "markdown",
   "id": "f25b07a1",
   "metadata": {},
   "source": [
    "### Есть ли зависимость между наличием детей и возвратом кредита в срок?"
   ]
  },
  {
   "cell_type": "code",
   "execution_count": 37,
   "id": "0f327de3",
   "metadata": {},
   "outputs": [
    {
     "data": {
      "text/html": [
       "<div>\n",
       "<style scoped>\n",
       "    .dataframe tbody tr th:only-of-type {\n",
       "        vertical-align: middle;\n",
       "    }\n",
       "\n",
       "    .dataframe tbody tr th {\n",
       "        vertical-align: top;\n",
       "    }\n",
       "\n",
       "    .dataframe thead tr th {\n",
       "        text-align: left;\n",
       "    }\n",
       "\n",
       "    .dataframe thead tr:last-of-type th {\n",
       "        text-align: right;\n",
       "    }\n",
       "</style>\n",
       "<table border=\"1\" class=\"dataframe\">\n",
       "  <thead>\n",
       "    <tr>\n",
       "      <th></th>\n",
       "      <th>sum</th>\n",
       "      <th>count</th>\n",
       "      <th>make_proportion</th>\n",
       "    </tr>\n",
       "    <tr>\n",
       "      <th></th>\n",
       "      <th>debt</th>\n",
       "      <th>debt</th>\n",
       "      <th>debt</th>\n",
       "    </tr>\n",
       "    <tr>\n",
       "      <th>children</th>\n",
       "      <th></th>\n",
       "      <th></th>\n",
       "      <th></th>\n",
       "    </tr>\n",
       "  </thead>\n",
       "  <tbody>\n",
       "    <tr>\n",
       "      <th>5</th>\n",
       "      <td>0</td>\n",
       "      <td>9</td>\n",
       "      <td>0.0%</td>\n",
       "    </tr>\n",
       "    <tr>\n",
       "      <th>0</th>\n",
       "      <td>1063</td>\n",
       "      <td>14091</td>\n",
       "      <td>7.54%</td>\n",
       "    </tr>\n",
       "    <tr>\n",
       "      <th>3</th>\n",
       "      <td>27</td>\n",
       "      <td>330</td>\n",
       "      <td>8.18%</td>\n",
       "    </tr>\n",
       "    <tr>\n",
       "      <th>1</th>\n",
       "      <td>445</td>\n",
       "      <td>4855</td>\n",
       "      <td>9.17%</td>\n",
       "    </tr>\n",
       "    <tr>\n",
       "      <th>2</th>\n",
       "      <td>202</td>\n",
       "      <td>2128</td>\n",
       "      <td>9.49%</td>\n",
       "    </tr>\n",
       "    <tr>\n",
       "      <th>4</th>\n",
       "      <td>4</td>\n",
       "      <td>41</td>\n",
       "      <td>9.76%</td>\n",
       "    </tr>\n",
       "  </tbody>\n",
       "</table>\n",
       "</div>"
      ],
      "text/plain": [
       "           sum  count make_proportion\n",
       "          debt   debt            debt\n",
       "children                             \n",
       "5            0      9            0.0%\n",
       "0         1063  14091           7.54%\n",
       "3           27    330           8.18%\n",
       "1          445   4855           9.17%\n",
       "2          202   2128           9.49%\n",
       "4            4     41           9.76%"
      ]
     },
     "execution_count": 37,
     "metadata": {},
     "output_type": "execute_result"
    }
   ],
   "source": [
    "# функция, что посчитает нам отношение в процентах, будем использовать для ответов на все вопросы\n",
    "def make_proportion(pdSerises):\n",
    "    return str(round((pdSerises.sum() / pdSerises.count()) * 100, 2)) + '%'\n",
    "\n",
    "# построим сводную таблицу для ответа на вопрос\n",
    "data_pivot = df.pivot_table(index=['children'], values=['debt'], aggfunc=['sum', 'count', make_proportion])\n",
    "# сортируем, чтобы сразу видеть у кого ситуация лучше\n",
    "data_pivot = data_pivot.sort_values(by=('make_proportion', 'debt'))\n",
    "data_pivot"
   ]
  },
  {
   "cell_type": "markdown",
   "id": "b70ba0a7",
   "metadata": {},
   "source": [
    "### Вывод"
   ]
  },
  {
   "cell_type": "markdown",
   "id": "91d65ce9",
   "metadata": {},
   "source": [
    "Самая низкая вероятность задолженности у людей без детей. Наивысшая - у семей с четырьмя детьми"
   ]
  },
  {
   "cell_type": "markdown",
   "id": "98657dea",
   "metadata": {},
   "source": [
    "### Есть ли зависимость между семейным положением и возвратом кредита в срок?"
   ]
  },
  {
   "cell_type": "code",
   "execution_count": 38,
   "id": "82c1a5eb",
   "metadata": {},
   "outputs": [
    {
     "data": {
      "text/html": [
       "<div>\n",
       "<style scoped>\n",
       "    .dataframe tbody tr th:only-of-type {\n",
       "        vertical-align: middle;\n",
       "    }\n",
       "\n",
       "    .dataframe tbody tr th {\n",
       "        vertical-align: top;\n",
       "    }\n",
       "\n",
       "    .dataframe thead tr th {\n",
       "        text-align: left;\n",
       "    }\n",
       "\n",
       "    .dataframe thead tr:last-of-type th {\n",
       "        text-align: right;\n",
       "    }\n",
       "</style>\n",
       "<table border=\"1\" class=\"dataframe\">\n",
       "  <thead>\n",
       "    <tr>\n",
       "      <th></th>\n",
       "      <th>sum</th>\n",
       "      <th>count</th>\n",
       "      <th>make_proportion</th>\n",
       "    </tr>\n",
       "    <tr>\n",
       "      <th></th>\n",
       "      <th>debt</th>\n",
       "      <th>debt</th>\n",
       "      <th>debt</th>\n",
       "    </tr>\n",
       "    <tr>\n",
       "      <th>family_status_id</th>\n",
       "      <th></th>\n",
       "      <th></th>\n",
       "      <th></th>\n",
       "    </tr>\n",
       "  </thead>\n",
       "  <tbody>\n",
       "    <tr>\n",
       "      <th>2</th>\n",
       "      <td>63</td>\n",
       "      <td>959</td>\n",
       "      <td>6.57%</td>\n",
       "    </tr>\n",
       "    <tr>\n",
       "      <th>3</th>\n",
       "      <td>85</td>\n",
       "      <td>1195</td>\n",
       "      <td>7.11%</td>\n",
       "    </tr>\n",
       "    <tr>\n",
       "      <th>0</th>\n",
       "      <td>931</td>\n",
       "      <td>12339</td>\n",
       "      <td>7.55%</td>\n",
       "    </tr>\n",
       "    <tr>\n",
       "      <th>1</th>\n",
       "      <td>388</td>\n",
       "      <td>4151</td>\n",
       "      <td>9.35%</td>\n",
       "    </tr>\n",
       "    <tr>\n",
       "      <th>4</th>\n",
       "      <td>274</td>\n",
       "      <td>2810</td>\n",
       "      <td>9.75%</td>\n",
       "    </tr>\n",
       "  </tbody>\n",
       "</table>\n",
       "</div>"
      ],
      "text/plain": [
       "                  sum  count make_proportion\n",
       "                 debt   debt            debt\n",
       "family_status_id                            \n",
       "2                  63    959           6.57%\n",
       "3                  85   1195           7.11%\n",
       "0                 931  12339           7.55%\n",
       "1                 388   4151           9.35%\n",
       "4                 274   2810           9.75%"
      ]
     },
     "execution_count": 38,
     "metadata": {},
     "output_type": "execute_result"
    }
   ],
   "source": [
    "# поскольку мы до этого удаляли из основных данных текстовые значения family_status, тут необходимо их вернуть\n",
    "\n",
    "df_with_family_status = df.merge(family_status_data, on='family_status_id', how='left')\n",
    "\n",
    "# построим сводную таблицу для ответа на вопрос (по фрейму со значениями из словаря)\n",
    "data_pivot = df_with_family_status.pivot_table(index=['family_status_id'], values=['debt'], aggfunc=['sum', 'count', make_proportion])\n",
    "# сортируем, чтобы сразу видеть у кого ситуация лучше\n",
    "data_pivot = data_pivot.sort_values(by=('make_proportion', 'debt'))\n",
    "data_pivot\n"
   ]
  },
  {
   "cell_type": "markdown",
   "id": "a1e1b0d0",
   "metadata": {},
   "source": [
    "### Вывод"
   ]
  },
  {
   "cell_type": "markdown",
   "id": "0a449993",
   "metadata": {},
   "source": [
    "Вдовец/вдова - категория с самым низким процентом просрочки. Возможно, это связано с тем, что кредит берется осознанно.\n",
    "\n",
    "Неженатые и состоящие в гражданском браке клиенты, имеют самую большую просрочку."
   ]
  },
  {
   "cell_type": "markdown",
   "id": "a389fd06",
   "metadata": {},
   "source": [
    "### Есть ли зависимость между уровнем дохода и возвратом кредита в срок?"
   ]
  },
  {
   "cell_type": "code",
   "execution_count": 39,
   "id": "8588a185",
   "metadata": {},
   "outputs": [
    {
     "data": {
      "text/html": [
       "<div>\n",
       "<style scoped>\n",
       "    .dataframe tbody tr th:only-of-type {\n",
       "        vertical-align: middle;\n",
       "    }\n",
       "\n",
       "    .dataframe tbody tr th {\n",
       "        vertical-align: top;\n",
       "    }\n",
       "\n",
       "    .dataframe thead tr th {\n",
       "        text-align: left;\n",
       "    }\n",
       "\n",
       "    .dataframe thead tr:last-of-type th {\n",
       "        text-align: right;\n",
       "    }\n",
       "</style>\n",
       "<table border=\"1\" class=\"dataframe\">\n",
       "  <thead>\n",
       "    <tr>\n",
       "      <th></th>\n",
       "      <th>sum</th>\n",
       "      <th>count</th>\n",
       "      <th>make_proportion</th>\n",
       "    </tr>\n",
       "    <tr>\n",
       "      <th></th>\n",
       "      <th>debt</th>\n",
       "      <th>debt</th>\n",
       "      <th>debt</th>\n",
       "    </tr>\n",
       "    <tr>\n",
       "      <th>total_income_category</th>\n",
       "      <th></th>\n",
       "      <th></th>\n",
       "      <th></th>\n",
       "    </tr>\n",
       "  </thead>\n",
       "  <tbody>\n",
       "    <tr>\n",
       "      <th>D</th>\n",
       "      <td>21</td>\n",
       "      <td>350</td>\n",
       "      <td>6.0%</td>\n",
       "    </tr>\n",
       "    <tr>\n",
       "      <th>B</th>\n",
       "      <td>356</td>\n",
       "      <td>5041</td>\n",
       "      <td>7.06%</td>\n",
       "    </tr>\n",
       "    <tr>\n",
       "      <th>A</th>\n",
       "      <td>2</td>\n",
       "      <td>25</td>\n",
       "      <td>8.0%</td>\n",
       "    </tr>\n",
       "    <tr>\n",
       "      <th>C</th>\n",
       "      <td>1360</td>\n",
       "      <td>16016</td>\n",
       "      <td>8.49%</td>\n",
       "    </tr>\n",
       "    <tr>\n",
       "      <th>E</th>\n",
       "      <td>2</td>\n",
       "      <td>22</td>\n",
       "      <td>9.09%</td>\n",
       "    </tr>\n",
       "  </tbody>\n",
       "</table>\n",
       "</div>"
      ],
      "text/plain": [
       "                        sum  count make_proportion\n",
       "                       debt   debt            debt\n",
       "total_income_category                             \n",
       "D                        21    350            6.0%\n",
       "B                       356   5041           7.06%\n",
       "A                         2     25            8.0%\n",
       "C                      1360  16016           8.49%\n",
       "E                         2     22           9.09%"
      ]
     },
     "execution_count": 39,
     "metadata": {},
     "output_type": "execute_result"
    }
   ],
   "source": [
    "# построим сводную таблицу для ответа на вопрос\n",
    "data_pivot = df.pivot_table(index=['total_income_category'], values=[\"debt\"], aggfunc=['sum', 'count', make_proportion])\n",
    "# сортируем, чтобы сразу видеть у кого ситуация лучше\n",
    "data_pivot = data_pivot.sort_values(by=('make_proportion', 'debt'))\n",
    "data_pivot"
   ]
  },
  {
   "cell_type": "markdown",
   "id": "295239c9",
   "metadata": {},
   "source": [
    "### Вывод"
   ]
  },
  {
   "cell_type": "markdown",
   "id": "4fea15da",
   "metadata": {},
   "source": [
    "Тут видно, что у клиентов с более высоким доходом имеется наибольшая просрочка, в то время как \"средний класс\" имеет меньшую просрочку по оплатам. Клиенты с диаметрально противоположными доходами в кредитах не нуждаются."
   ]
  },
  {
   "cell_type": "markdown",
   "id": "0840c9ed",
   "metadata": {},
   "source": [
    "### Как разные цели кредита влияют на его возврат в срок?"
   ]
  },
  {
   "cell_type": "markdown",
   "id": "9cdc0eaa",
   "metadata": {},
   "source": []
  },
  {
   "cell_type": "code",
   "execution_count": 40,
   "id": "72a7b84e",
   "metadata": {},
   "outputs": [
    {
     "data": {
      "text/html": [
       "<div>\n",
       "<style scoped>\n",
       "    .dataframe tbody tr th:only-of-type {\n",
       "        vertical-align: middle;\n",
       "    }\n",
       "\n",
       "    .dataframe tbody tr th {\n",
       "        vertical-align: top;\n",
       "    }\n",
       "\n",
       "    .dataframe thead tr th {\n",
       "        text-align: left;\n",
       "    }\n",
       "\n",
       "    .dataframe thead tr:last-of-type th {\n",
       "        text-align: right;\n",
       "    }\n",
       "</style>\n",
       "<table border=\"1\" class=\"dataframe\">\n",
       "  <thead>\n",
       "    <tr>\n",
       "      <th></th>\n",
       "      <th>sum</th>\n",
       "      <th>count</th>\n",
       "      <th>make_proportion</th>\n",
       "    </tr>\n",
       "    <tr>\n",
       "      <th></th>\n",
       "      <th>debt</th>\n",
       "      <th>debt</th>\n",
       "      <th>debt</th>\n",
       "    </tr>\n",
       "    <tr>\n",
       "      <th>purpose_category</th>\n",
       "      <th></th>\n",
       "      <th></th>\n",
       "      <th></th>\n",
       "    </tr>\n",
       "  </thead>\n",
       "  <tbody>\n",
       "    <tr>\n",
       "      <th>операции с недвижимостью</th>\n",
       "      <td>782</td>\n",
       "      <td>10811</td>\n",
       "      <td>7.23%</td>\n",
       "    </tr>\n",
       "    <tr>\n",
       "      <th>проведение свадьбы</th>\n",
       "      <td>186</td>\n",
       "      <td>2324</td>\n",
       "      <td>8.0%</td>\n",
       "    </tr>\n",
       "    <tr>\n",
       "      <th>получение образования</th>\n",
       "      <td>370</td>\n",
       "      <td>4013</td>\n",
       "      <td>9.22%</td>\n",
       "    </tr>\n",
       "    <tr>\n",
       "      <th>операции с автомобилем</th>\n",
       "      <td>403</td>\n",
       "      <td>4306</td>\n",
       "      <td>9.36%</td>\n",
       "    </tr>\n",
       "  </tbody>\n",
       "</table>\n",
       "</div>"
      ],
      "text/plain": [
       "                          sum  count make_proportion\n",
       "                         debt   debt            debt\n",
       "purpose_category                                    \n",
       "операции с недвижимостью  782  10811           7.23%\n",
       "проведение свадьбы        186   2324            8.0%\n",
       "получение образования     370   4013           9.22%\n",
       "операции с автомобилем    403   4306           9.36%"
      ]
     },
     "execution_count": 40,
     "metadata": {},
     "output_type": "execute_result"
    }
   ],
   "source": [
    "# построим сводную таблицу для ответа на вопрос\n",
    "data_pivot = df.pivot_table(index=['purpose_category'], values=['debt'], aggfunc=['sum', 'count', make_proportion])\n",
    "# сортируем, чтобы сразу видеть у кого ситуация лучше\n",
    "data_pivot = data_pivot.sort_values(by=('make_proportion', 'debt'))\n",
    "data_pivot"
   ]
  },
  {
   "cell_type": "markdown",
   "id": "5c6a9ad6",
   "metadata": {},
   "source": [
    "### Вывод"
   ]
  },
  {
   "cell_type": "markdown",
   "id": "a27e8025",
   "metadata": {},
   "source": [
    "Выгоднее всего давать кредиты на недвижимость, а автомобиль и образование - в зоне риска. Хоть абсолютная разница не такая большая, относительно друг друга она составляет порядка 22%, что уже не мало"
   ]
  },
  {
   "cell_type": "markdown",
   "id": "d86f7970",
   "metadata": {},
   "source": [
    "## Общий вывод:"
   ]
  },
  {
   "cell_type": "markdown",
   "id": "99e76fb9",
   "metadata": {},
   "source": [
    "Самый идеальный заемщик - это человек без детей, состоящий или состоявший в официальных отношениях, имеющий уровень дохода выше среднего и берущий деньги на недвижимость.\n",
    "\n",
    "\"Разброс\" просроченных выплат по каждой из категорий примерно одинаковый. В среднем, это диапазоны от 7 до 9 процентов. В остальном разница в абсолютных цифрах не такая большая. Однако в относительных разница составляет в среднем 2 процента, что означает разницу в вероятности просрочки платежа на 20% между более\n",
    "\n",
    "Детально по категориям:\n",
    "\n",
    "Влияние наличия детей на вероятность просрочки платежа\n",
    "По наличию детей\n",
    "* 5 - 0.0% (незначительное кличество, учитывать не будем)\n",
    "* 0 - 7.54%\n",
    "* 3 - 8.18%\n",
    "* 1 - 9.16%\n",
    "* 2 - 9.49%\n",
    "* 4 - 9.76%\n",
    "\n",
    "**Абсолютная разница между минимальным и максимальным значением - 2.22%\n",
    "\n",
    "**Относительная разница между минимальным и максимальным значением - 24%\n",
    "\n",
    "\n",
    "Влияние семейного положения на вероятность просрочки платежа\n",
    "* По семейному положению\n",
    "* вдовец / вдова - 6.57%\n",
    "* в разводе - 7.11%\n",
    "* женат / замужем - 7.54%\n",
    "* гражданский брак - 9.32%\n",
    "* Не женат / не замужем - 9.75%\n",
    "\n",
    "**Абсолютная разница между минимальным и максимальным значением - 3.18%\n",
    "\n",
    "**Относительная разница между минимальным и максимальным значением - 33%\n",
    "\n",
    "\n",
    "Влияние уровня дохода на просрочку платежа\n",
    "\n",
    "По уровню дохода\n",
    "* D (30001–50000) - 6.0%\n",
    "* B (200001–1000000) - 7.06%\n",
    "* A (1000001)\t- 8.0%\n",
    "* C (50001–200000) - 8.48%\n",
    "* E (До 30000) - 9.09%\n",
    "\n",
    "**Абсолютная разница между минимальным и максимальным значением - 3.09%\n",
    "\n",
    "**Относительная разница между минимальным и максимальным значением - 34%\n",
    "\n",
    "\n",
    "Влияние цели кредита на вероятность возврата кредита в срок\n",
    "\n",
    "По цели кредита\n",
    "* недвижимость - 7.23%\n",
    "* свадьба - 8.0%\n",
    "* образование - 9.22%\n",
    "* автомобиль - 9.36%\n",
    "\n",
    "**Абсолютная разница между минимальным и максимальным значением - 2.13%\n",
    "\n",
    "**Относительная разница между минимальным и максимальным значением - 23%\n",
    "\n",
    "\n",
    "При этом, нужно отметить, что размер выборки уровня дохода для значений \"до 30000\" и \"больше 1000000\" мал. Из этого можно сделать вывод, что люди со сверхдоходами не так часто нуждаются в кредитах, а также и то, что люди с небольшим доходом также опасаются их брать.Однако же, это означает, что итоговые данные по этим выборкам могут быть статистически неточными.\n",
    "\n",
    "Поэтому, уточним более конкретный диапазон доходов среднего класса, исключив \"сверховысокий\" и \"сверхнизкий\" доходы\n",
    "* D (30001–50000) - 6.0%\n",
    "* B (200001–1000000) - 7.06%\n",
    "* C (50001–200000) - 8.48%\n",
    "\n",
    "**Абсолютная разница между минимальным и максимальным значением - 2.48%\n",
    "\n",
    "**Относительная разница между минимальным и максимальным значением - 29%\n",
    "\n",
    "\n",
    "Таким образом, несмотря на схожий в процентном отношении разброс значений, наибольшее влияние на вероятность просрочки показывает именно семейное положение. Во вторую очередь, следует обращать внимание на уровень дохода. Наименьшее влияние оказывают цели кредита и наличие детей."
   ]
  }
 ],
 "metadata": {
  "ExecuteTimeLog": [
   {
    "duration": 2364,
    "start_time": "2022-03-18T07:52:03.629Z"
   },
   {
    "duration": 48,
    "start_time": "2022-03-18T07:52:05.947Z"
   },
   {
    "duration": 42,
    "start_time": "2022-03-18T07:52:05.954Z"
   },
   {
    "duration": 40,
    "start_time": "2022-03-18T07:52:05.957Z"
   },
   {
    "duration": 39,
    "start_time": "2022-03-18T07:52:05.960Z"
   },
   {
    "duration": 36,
    "start_time": "2022-03-18T07:52:05.963Z"
   },
   {
    "duration": 34,
    "start_time": "2022-03-18T07:52:05.966Z"
   },
   {
    "duration": 32,
    "start_time": "2022-03-18T07:52:05.969Z"
   },
   {
    "duration": 27,
    "start_time": "2022-03-18T07:52:05.975Z"
   },
   {
    "duration": 24,
    "start_time": "2022-03-18T07:52:05.979Z"
   },
   {
    "duration": 21,
    "start_time": "2022-03-18T07:52:05.982Z"
   },
   {
    "duration": 15,
    "start_time": "2022-03-18T07:52:05.989Z"
   },
   {
    "duration": 13,
    "start_time": "2022-03-18T07:52:05.992Z"
   },
   {
    "duration": -34,
    "start_time": "2022-03-18T07:52:06.040Z"
   },
   {
    "duration": -36,
    "start_time": "2022-03-18T07:52:06.043Z"
   },
   {
    "duration": -38,
    "start_time": "2022-03-18T07:52:06.046Z"
   },
   {
    "duration": -42,
    "start_time": "2022-03-18T07:52:06.051Z"
   },
   {
    "duration": -46,
    "start_time": "2022-03-18T07:52:06.056Z"
   },
   {
    "duration": -49,
    "start_time": "2022-03-18T07:52:06.060Z"
   },
   {
    "duration": -50,
    "start_time": "2022-03-18T07:52:06.062Z"
   },
   {
    "duration": -52,
    "start_time": "2022-03-18T07:52:06.066Z"
   },
   {
    "duration": -53,
    "start_time": "2022-03-18T07:52:06.068Z"
   },
   {
    "duration": -56,
    "start_time": "2022-03-18T07:52:06.072Z"
   },
   {
    "duration": -58,
    "start_time": "2022-03-18T07:52:06.075Z"
   },
   {
    "duration": -59,
    "start_time": "2022-03-18T07:52:06.077Z"
   },
   {
    "duration": -60,
    "start_time": "2022-03-18T07:52:06.079Z"
   },
   {
    "duration": 421,
    "start_time": "2022-03-18T14:53:26.200Z"
   },
   {
    "duration": 149,
    "start_time": "2022-03-18T14:55:36.024Z"
   },
   {
    "duration": 125,
    "start_time": "2022-03-18T14:55:44.542Z"
   },
   {
    "duration": 138,
    "start_time": "2022-03-18T15:02:12.449Z"
   },
   {
    "duration": 188,
    "start_time": "2022-03-18T15:02:23.221Z"
   },
   {
    "duration": 1,
    "start_time": "2022-03-18T15:02:23.412Z"
   },
   {
    "duration": 0,
    "start_time": "2022-03-18T15:02:23.414Z"
   },
   {
    "duration": 0,
    "start_time": "2022-03-18T15:02:23.415Z"
   },
   {
    "duration": 0,
    "start_time": "2022-03-18T15:02:23.416Z"
   },
   {
    "duration": 1,
    "start_time": "2022-03-18T15:02:23.417Z"
   },
   {
    "duration": 0,
    "start_time": "2022-03-18T15:02:23.419Z"
   },
   {
    "duration": 0,
    "start_time": "2022-03-18T15:02:23.421Z"
   },
   {
    "duration": 0,
    "start_time": "2022-03-18T15:02:23.422Z"
   },
   {
    "duration": 0,
    "start_time": "2022-03-18T15:02:23.423Z"
   },
   {
    "duration": 0,
    "start_time": "2022-03-18T15:02:23.425Z"
   },
   {
    "duration": 0,
    "start_time": "2022-03-18T15:02:23.426Z"
   },
   {
    "duration": 0,
    "start_time": "2022-03-18T15:02:23.427Z"
   },
   {
    "duration": 0,
    "start_time": "2022-03-18T15:02:23.428Z"
   },
   {
    "duration": 0,
    "start_time": "2022-03-18T15:02:23.429Z"
   },
   {
    "duration": 0,
    "start_time": "2022-03-18T15:02:23.431Z"
   },
   {
    "duration": 0,
    "start_time": "2022-03-18T15:02:23.432Z"
   },
   {
    "duration": 0,
    "start_time": "2022-03-18T15:02:23.433Z"
   },
   {
    "duration": 0,
    "start_time": "2022-03-18T15:02:23.434Z"
   },
   {
    "duration": 0,
    "start_time": "2022-03-18T15:02:23.435Z"
   },
   {
    "duration": 0,
    "start_time": "2022-03-18T15:02:23.436Z"
   },
   {
    "duration": 0,
    "start_time": "2022-03-18T15:02:23.437Z"
   },
   {
    "duration": 0,
    "start_time": "2022-03-18T15:02:23.438Z"
   },
   {
    "duration": 0,
    "start_time": "2022-03-18T15:02:23.440Z"
   },
   {
    "duration": 0,
    "start_time": "2022-03-18T15:02:23.442Z"
   },
   {
    "duration": 0,
    "start_time": "2022-03-18T15:02:23.443Z"
   },
   {
    "duration": 0,
    "start_time": "2022-03-18T15:02:23.444Z"
   },
   {
    "duration": 183,
    "start_time": "2022-03-18T15:02:53.827Z"
   },
   {
    "duration": 550,
    "start_time": "2022-03-18T15:03:23.842Z"
   },
   {
    "duration": 16,
    "start_time": "2022-03-18T15:03:24.394Z"
   },
   {
    "duration": 18,
    "start_time": "2022-03-18T15:03:24.411Z"
   },
   {
    "duration": 11,
    "start_time": "2022-03-18T15:03:24.431Z"
   },
   {
    "duration": 13,
    "start_time": "2022-03-18T15:03:24.463Z"
   },
   {
    "duration": 4,
    "start_time": "2022-03-18T15:03:24.478Z"
   },
   {
    "duration": 15,
    "start_time": "2022-03-18T15:03:24.483Z"
   },
   {
    "duration": 5,
    "start_time": "2022-03-18T15:03:24.500Z"
   },
   {
    "duration": 6,
    "start_time": "2022-03-18T15:03:24.506Z"
   },
   {
    "duration": 5,
    "start_time": "2022-03-18T15:03:24.514Z"
   },
   {
    "duration": 55,
    "start_time": "2022-03-18T15:03:24.520Z"
   },
   {
    "duration": 35,
    "start_time": "2022-03-18T15:03:24.577Z"
   },
   {
    "duration": 9,
    "start_time": "2022-03-18T15:03:24.615Z"
   },
   {
    "duration": 7,
    "start_time": "2022-03-18T15:03:24.627Z"
   },
   {
    "duration": 33,
    "start_time": "2022-03-18T15:03:24.636Z"
   },
   {
    "duration": 12,
    "start_time": "2022-03-18T15:03:24.671Z"
   },
   {
    "duration": 6,
    "start_time": "2022-03-18T15:03:24.684Z"
   },
   {
    "duration": 14,
    "start_time": "2022-03-18T15:03:24.691Z"
   },
   {
    "duration": 5,
    "start_time": "2022-03-18T15:03:24.707Z"
   },
   {
    "duration": 16,
    "start_time": "2022-03-18T15:03:24.713Z"
   },
   {
    "duration": 40,
    "start_time": "2022-03-18T15:03:24.731Z"
   },
   {
    "duration": 17,
    "start_time": "2022-03-18T15:03:24.773Z"
   },
   {
    "duration": 36,
    "start_time": "2022-03-18T15:03:24.792Z"
   },
   {
    "duration": 75,
    "start_time": "2022-03-18T15:03:24.830Z"
   },
   {
    "duration": 31,
    "start_time": "2022-03-18T15:03:24.907Z"
   },
   {
    "duration": 48,
    "start_time": "2022-03-18T15:03:24.940Z"
   },
   {
    "duration": 827,
    "start_time": "2022-03-19T09:04:43.609Z"
   },
   {
    "duration": 12,
    "start_time": "2022-03-19T09:04:44.438Z"
   },
   {
    "duration": 19,
    "start_time": "2022-03-19T09:04:44.452Z"
   },
   {
    "duration": 10,
    "start_time": "2022-03-19T09:04:44.473Z"
   },
   {
    "duration": 14,
    "start_time": "2022-03-19T09:04:44.484Z"
   },
   {
    "duration": 4,
    "start_time": "2022-03-19T09:04:44.500Z"
   },
   {
    "duration": 9,
    "start_time": "2022-03-19T09:04:44.506Z"
   },
   {
    "duration": 46,
    "start_time": "2022-03-19T09:04:44.518Z"
   },
   {
    "duration": 5,
    "start_time": "2022-03-19T09:04:44.567Z"
   },
   {
    "duration": 6,
    "start_time": "2022-03-19T09:04:44.574Z"
   },
   {
    "duration": 19,
    "start_time": "2022-03-19T09:04:44.582Z"
   },
   {
    "duration": 32,
    "start_time": "2022-03-19T09:04:44.603Z"
   },
   {
    "duration": 34,
    "start_time": "2022-03-19T09:04:44.636Z"
   },
   {
    "duration": 8,
    "start_time": "2022-03-19T09:04:44.671Z"
   },
   {
    "duration": 12,
    "start_time": "2022-03-19T09:04:44.681Z"
   },
   {
    "duration": 9,
    "start_time": "2022-03-19T09:04:44.695Z"
   },
   {
    "duration": 9,
    "start_time": "2022-03-19T09:04:44.705Z"
   },
   {
    "duration": 14,
    "start_time": "2022-03-19T09:04:44.715Z"
   },
   {
    "duration": 35,
    "start_time": "2022-03-19T09:04:44.730Z"
   },
   {
    "duration": 10,
    "start_time": "2022-03-19T09:04:44.767Z"
   },
   {
    "duration": 15,
    "start_time": "2022-03-19T09:04:44.779Z"
   },
   {
    "duration": 15,
    "start_time": "2022-03-19T09:04:44.796Z"
   },
   {
    "duration": 68,
    "start_time": "2022-03-19T09:04:44.815Z"
   },
   {
    "duration": 50,
    "start_time": "2022-03-19T09:04:44.885Z"
   },
   {
    "duration": 41,
    "start_time": "2022-03-19T09:04:44.937Z"
   },
   {
    "duration": 32,
    "start_time": "2022-03-19T09:04:44.980Z"
   },
   {
    "duration": 7,
    "start_time": "2022-03-19T09:12:32.996Z"
   },
   {
    "duration": 8,
    "start_time": "2022-03-19T09:13:30.353Z"
   },
   {
    "duration": 816,
    "start_time": "2022-03-19T09:18:49.991Z"
   },
   {
    "duration": 12,
    "start_time": "2022-03-19T09:18:50.809Z"
   },
   {
    "duration": 18,
    "start_time": "2022-03-19T09:18:50.823Z"
   },
   {
    "duration": 20,
    "start_time": "2022-03-19T09:18:50.843Z"
   },
   {
    "duration": 12,
    "start_time": "2022-03-19T09:18:50.864Z"
   },
   {
    "duration": 11,
    "start_time": "2022-03-19T09:18:50.877Z"
   },
   {
    "duration": 14,
    "start_time": "2022-03-19T09:18:50.890Z"
   },
   {
    "duration": 6,
    "start_time": "2022-03-19T09:18:50.905Z"
   },
   {
    "duration": 6,
    "start_time": "2022-03-19T09:18:50.914Z"
   },
   {
    "duration": 6,
    "start_time": "2022-03-19T09:18:50.922Z"
   },
   {
    "duration": 17,
    "start_time": "2022-03-19T09:18:50.930Z"
   },
   {
    "duration": 28,
    "start_time": "2022-03-19T09:18:50.962Z"
   },
   {
    "duration": 8,
    "start_time": "2022-03-19T09:18:50.992Z"
   },
   {
    "duration": 13,
    "start_time": "2022-03-19T09:18:51.001Z"
   },
   {
    "duration": 15,
    "start_time": "2022-03-19T09:18:51.015Z"
   },
   {
    "duration": 31,
    "start_time": "2022-03-19T09:18:51.032Z"
   },
   {
    "duration": 10,
    "start_time": "2022-03-19T09:18:51.065Z"
   },
   {
    "duration": 7,
    "start_time": "2022-03-19T09:18:51.077Z"
   },
   {
    "duration": 17,
    "start_time": "2022-03-19T09:18:51.085Z"
   },
   {
    "duration": 5,
    "start_time": "2022-03-19T09:18:51.104Z"
   },
   {
    "duration": 46,
    "start_time": "2022-03-19T09:18:51.111Z"
   },
   {
    "duration": 14,
    "start_time": "2022-03-19T09:18:51.159Z"
   },
   {
    "duration": 13,
    "start_time": "2022-03-19T09:18:51.175Z"
   },
   {
    "duration": 35,
    "start_time": "2022-03-19T09:18:51.190Z"
   },
   {
    "duration": 59,
    "start_time": "2022-03-19T09:18:51.227Z"
   },
   {
    "duration": 29,
    "start_time": "2022-03-19T09:18:51.288Z"
   },
   {
    "duration": 49,
    "start_time": "2022-03-19T09:18:51.320Z"
   },
   {
    "duration": 910,
    "start_time": "2022-03-19T09:20:43.145Z"
   },
   {
    "duration": 11,
    "start_time": "2022-03-19T09:20:44.057Z"
   },
   {
    "duration": 20,
    "start_time": "2022-03-19T09:20:44.070Z"
   },
   {
    "duration": 8,
    "start_time": "2022-03-19T09:20:44.092Z"
   },
   {
    "duration": 14,
    "start_time": "2022-03-19T09:20:44.102Z"
   },
   {
    "duration": 3,
    "start_time": "2022-03-19T09:20:44.118Z"
   },
   {
    "duration": 13,
    "start_time": "2022-03-19T09:20:44.122Z"
   },
   {
    "duration": 27,
    "start_time": "2022-03-19T09:20:44.137Z"
   },
   {
    "duration": 4,
    "start_time": "2022-03-19T09:20:44.166Z"
   },
   {
    "duration": 9,
    "start_time": "2022-03-19T09:20:44.171Z"
   },
   {
    "duration": 19,
    "start_time": "2022-03-19T09:20:44.182Z"
   },
   {
    "duration": 29,
    "start_time": "2022-03-19T09:20:44.203Z"
   },
   {
    "duration": 30,
    "start_time": "2022-03-19T09:20:44.234Z"
   },
   {
    "duration": 8,
    "start_time": "2022-03-19T09:20:44.265Z"
   },
   {
    "duration": 11,
    "start_time": "2022-03-19T09:20:44.275Z"
   },
   {
    "duration": 10,
    "start_time": "2022-03-19T09:20:44.288Z"
   },
   {
    "duration": 10,
    "start_time": "2022-03-19T09:20:44.300Z"
   },
   {
    "duration": 3,
    "start_time": "2022-03-19T09:20:44.312Z"
   },
   {
    "duration": 14,
    "start_time": "2022-03-19T09:20:44.316Z"
   },
   {
    "duration": 32,
    "start_time": "2022-03-19T09:20:44.331Z"
   },
   {
    "duration": 11,
    "start_time": "2022-03-19T09:20:44.365Z"
   },
   {
    "duration": 16,
    "start_time": "2022-03-19T09:20:44.377Z"
   },
   {
    "duration": 15,
    "start_time": "2022-03-19T09:20:44.396Z"
   },
   {
    "duration": 63,
    "start_time": "2022-03-19T09:20:44.413Z"
   },
   {
    "duration": 48,
    "start_time": "2022-03-19T09:20:44.477Z"
   },
   {
    "duration": 53,
    "start_time": "2022-03-19T09:20:44.526Z"
   },
   {
    "duration": 33,
    "start_time": "2022-03-19T09:20:44.581Z"
   },
   {
    "duration": 53,
    "start_time": "2022-03-20T09:41:52.811Z"
   },
   {
    "duration": 527,
    "start_time": "2022-03-20T09:42:07.781Z"
   },
   {
    "duration": 17,
    "start_time": "2022-03-20T09:42:08.310Z"
   },
   {
    "duration": 19,
    "start_time": "2022-03-20T09:42:08.328Z"
   },
   {
    "duration": 12,
    "start_time": "2022-03-20T09:42:08.362Z"
   },
   {
    "duration": 12,
    "start_time": "2022-03-20T09:42:08.376Z"
   },
   {
    "duration": 3,
    "start_time": "2022-03-20T09:42:08.391Z"
   },
   {
    "duration": 11,
    "start_time": "2022-03-20T09:42:08.396Z"
   },
   {
    "duration": 9,
    "start_time": "2022-03-20T09:42:08.409Z"
   },
   {
    "duration": 3,
    "start_time": "2022-03-20T09:42:08.420Z"
   },
   {
    "duration": 40,
    "start_time": "2022-03-20T09:42:08.426Z"
   },
   {
    "duration": 10,
    "start_time": "2022-03-20T09:42:08.467Z"
   },
   {
    "duration": 27,
    "start_time": "2022-03-20T09:42:08.478Z"
   },
   {
    "duration": 32,
    "start_time": "2022-03-20T09:42:08.506Z"
   },
   {
    "duration": 7,
    "start_time": "2022-03-20T09:42:08.540Z"
   },
   {
    "duration": 7,
    "start_time": "2022-03-20T09:42:08.562Z"
   },
   {
    "duration": 11,
    "start_time": "2022-03-20T09:42:08.570Z"
   },
   {
    "duration": 8,
    "start_time": "2022-03-20T09:42:08.583Z"
   },
   {
    "duration": 9,
    "start_time": "2022-03-20T09:42:08.593Z"
   },
   {
    "duration": 2,
    "start_time": "2022-03-20T09:42:08.604Z"
   },
   {
    "duration": 39,
    "start_time": "2022-03-20T09:42:08.608Z"
   },
   {
    "duration": 14,
    "start_time": "2022-03-20T09:42:08.649Z"
   },
   {
    "duration": 17,
    "start_time": "2022-03-20T09:42:08.665Z"
   },
   {
    "duration": 15,
    "start_time": "2022-03-20T09:42:08.684Z"
   },
   {
    "duration": 15,
    "start_time": "2022-03-20T09:42:08.701Z"
   },
   {
    "duration": 51,
    "start_time": "2022-03-20T09:42:08.718Z"
   },
   {
    "duration": 50,
    "start_time": "2022-03-20T09:42:08.771Z"
   },
   {
    "duration": 48,
    "start_time": "2022-03-20T09:42:08.823Z"
   },
   {
    "duration": 31,
    "start_time": "2022-03-20T09:42:08.874Z"
   },
   {
    "duration": 562,
    "start_time": "2022-03-20T09:48:06.231Z"
   },
   {
    "duration": 22,
    "start_time": "2022-03-20T09:48:07.905Z"
   },
   {
    "duration": 29,
    "start_time": "2022-03-20T09:48:08.156Z"
   },
   {
    "duration": 11,
    "start_time": "2022-03-20T09:48:09.938Z"
   },
   {
    "duration": 16,
    "start_time": "2022-03-20T09:48:10.346Z"
   },
   {
    "duration": 4,
    "start_time": "2022-03-20T09:48:10.786Z"
   },
   {
    "duration": 13,
    "start_time": "2022-03-20T09:48:12.944Z"
   },
   {
    "duration": 6,
    "start_time": "2022-03-20T09:48:14.689Z"
   },
   {
    "duration": 5,
    "start_time": "2022-03-20T09:48:15.645Z"
   },
   {
    "duration": 6,
    "start_time": "2022-03-20T09:48:16.026Z"
   },
   {
    "duration": 7,
    "start_time": "2022-03-20T09:48:19.377Z"
   },
   {
    "duration": 74,
    "start_time": "2022-03-20T09:48:46.087Z"
   },
   {
    "duration": 12,
    "start_time": "2022-03-20T09:49:56.184Z"
   },
   {
    "duration": 10,
    "start_time": "2022-03-20T09:50:08.861Z"
   },
   {
    "duration": 135,
    "start_time": "2022-03-20T09:50:50.355Z"
   },
   {
    "duration": 7,
    "start_time": "2022-03-20T09:50:56.538Z"
   },
   {
    "duration": 6,
    "start_time": "2022-03-20T09:55:38.901Z"
   },
   {
    "duration": 10,
    "start_time": "2022-03-20T10:00:52.078Z"
   },
   {
    "duration": 7,
    "start_time": "2022-03-20T10:03:37.590Z"
   },
   {
    "duration": 10,
    "start_time": "2022-03-20T10:04:08.024Z"
   },
   {
    "duration": 16,
    "start_time": "2022-03-20T10:09:14.837Z"
   },
   {
    "duration": 9,
    "start_time": "2022-03-20T10:09:15.845Z"
   },
   {
    "duration": 549,
    "start_time": "2022-03-20T10:12:02.006Z"
   },
   {
    "duration": 25,
    "start_time": "2022-03-20T10:12:02.558Z"
   },
   {
    "duration": 35,
    "start_time": "2022-03-20T10:12:02.585Z"
   },
   {
    "duration": 11,
    "start_time": "2022-03-20T10:12:02.623Z"
   },
   {
    "duration": 26,
    "start_time": "2022-03-20T10:12:02.636Z"
   },
   {
    "duration": 7,
    "start_time": "2022-03-20T10:12:02.664Z"
   },
   {
    "duration": 36,
    "start_time": "2022-03-20T10:12:02.673Z"
   },
   {
    "duration": 14,
    "start_time": "2022-03-20T10:12:02.711Z"
   },
   {
    "duration": 22,
    "start_time": "2022-03-20T10:12:02.727Z"
   },
   {
    "duration": 13,
    "start_time": "2022-03-20T10:12:02.752Z"
   },
   {
    "duration": 22,
    "start_time": "2022-03-20T10:12:02.766Z"
   },
   {
    "duration": 21,
    "start_time": "2022-03-20T10:12:02.790Z"
   },
   {
    "duration": 17,
    "start_time": "2022-03-20T10:12:02.813Z"
   },
   {
    "duration": 19,
    "start_time": "2022-03-20T10:12:02.832Z"
   },
   {
    "duration": 13,
    "start_time": "2022-03-20T10:12:02.852Z"
   },
   {
    "duration": 20,
    "start_time": "2022-03-20T10:12:02.866Z"
   },
   {
    "duration": 49,
    "start_time": "2022-03-20T10:12:02.888Z"
   },
   {
    "duration": 33,
    "start_time": "2022-03-20T10:12:02.939Z"
   },
   {
    "duration": 9,
    "start_time": "2022-03-20T10:12:02.974Z"
   },
   {
    "duration": 18,
    "start_time": "2022-03-20T10:12:02.985Z"
   },
   {
    "duration": 11,
    "start_time": "2022-03-20T10:12:03.004Z"
   },
   {
    "duration": 15,
    "start_time": "2022-03-20T10:12:03.017Z"
   },
   {
    "duration": 5,
    "start_time": "2022-03-20T10:12:03.033Z"
   },
   {
    "duration": 13,
    "start_time": "2022-03-20T10:12:03.064Z"
   },
   {
    "duration": 4,
    "start_time": "2022-03-20T10:12:03.079Z"
   },
   {
    "duration": 17,
    "start_time": "2022-03-20T10:12:03.085Z"
   },
   {
    "duration": 15,
    "start_time": "2022-03-20T10:12:03.104Z"
   },
   {
    "duration": 42,
    "start_time": "2022-03-20T10:12:03.122Z"
   },
   {
    "duration": 33,
    "start_time": "2022-03-20T10:12:03.166Z"
   },
   {
    "duration": 70,
    "start_time": "2022-03-20T10:12:03.200Z"
   },
   {
    "duration": 32,
    "start_time": "2022-03-20T10:12:03.271Z"
   },
   {
    "duration": 34,
    "start_time": "2022-03-20T10:12:03.305Z"
   },
   {
    "duration": 6,
    "start_time": "2022-03-20T10:20:43.912Z"
   },
   {
    "duration": 8,
    "start_time": "2022-03-20T10:21:29.015Z"
   },
   {
    "duration": 552,
    "start_time": "2022-03-20T10:21:46.235Z"
   },
   {
    "duration": 16,
    "start_time": "2022-03-20T10:21:47.168Z"
   },
   {
    "duration": 19,
    "start_time": "2022-03-20T10:21:47.346Z"
   },
   {
    "duration": 11,
    "start_time": "2022-03-20T10:21:49.384Z"
   },
   {
    "duration": 13,
    "start_time": "2022-03-20T10:21:49.609Z"
   },
   {
    "duration": 38,
    "start_time": "2022-03-20T10:21:50.845Z"
   },
   {
    "duration": 149,
    "start_time": "2022-03-20T10:21:54.882Z"
   },
   {
    "duration": 7,
    "start_time": "2022-03-20T10:22:03.378Z"
   },
   {
    "duration": 6,
    "start_time": "2022-03-20T10:22:28.536Z"
   },
   {
    "duration": 7,
    "start_time": "2022-03-20T10:22:47.054Z"
   },
   {
    "duration": 6,
    "start_time": "2022-03-20T10:23:34.917Z"
   },
   {
    "duration": 7,
    "start_time": "2022-03-20T10:24:06.355Z"
   },
   {
    "duration": 7,
    "start_time": "2022-03-20T10:24:24.692Z"
   },
   {
    "duration": 671,
    "start_time": "2022-03-20T10:50:20.770Z"
   },
   {
    "duration": 24,
    "start_time": "2022-03-20T10:50:21.444Z"
   },
   {
    "duration": 29,
    "start_time": "2022-03-20T10:50:21.471Z"
   },
   {
    "duration": 15,
    "start_time": "2022-03-20T10:50:21.503Z"
   },
   {
    "duration": 13,
    "start_time": "2022-03-20T10:50:21.520Z"
   },
   {
    "duration": 50,
    "start_time": "2022-03-20T10:50:21.535Z"
   },
   {
    "duration": 4,
    "start_time": "2022-03-20T10:50:21.587Z"
   },
   {
    "duration": 10,
    "start_time": "2022-03-20T10:50:21.593Z"
   },
   {
    "duration": 4,
    "start_time": "2022-03-20T10:50:21.605Z"
   },
   {
    "duration": 7,
    "start_time": "2022-03-20T10:50:21.612Z"
   },
   {
    "duration": 42,
    "start_time": "2022-03-20T10:50:21.621Z"
   },
   {
    "duration": 12,
    "start_time": "2022-03-20T10:50:21.666Z"
   },
   {
    "duration": 26,
    "start_time": "2022-03-20T10:50:21.680Z"
   },
   {
    "duration": 37,
    "start_time": "2022-03-20T10:50:21.708Z"
   },
   {
    "duration": 9,
    "start_time": "2022-03-20T10:50:21.764Z"
   },
   {
    "duration": 8,
    "start_time": "2022-03-20T10:50:21.775Z"
   },
   {
    "duration": 16,
    "start_time": "2022-03-20T10:50:21.786Z"
   },
   {
    "duration": 14,
    "start_time": "2022-03-20T10:50:21.804Z"
   },
   {
    "duration": 7,
    "start_time": "2022-03-20T10:50:21.819Z"
   },
   {
    "duration": 46,
    "start_time": "2022-03-20T10:50:21.827Z"
   },
   {
    "duration": 72,
    "start_time": "2022-03-20T10:50:21.875Z"
   },
   {
    "duration": 0,
    "start_time": "2022-03-20T10:50:21.948Z"
   },
   {
    "duration": 0,
    "start_time": "2022-03-20T10:50:21.962Z"
   },
   {
    "duration": 0,
    "start_time": "2022-03-20T10:50:21.964Z"
   },
   {
    "duration": 0,
    "start_time": "2022-03-20T10:50:21.965Z"
   },
   {
    "duration": 0,
    "start_time": "2022-03-20T10:50:21.966Z"
   },
   {
    "duration": 0,
    "start_time": "2022-03-20T10:50:21.967Z"
   },
   {
    "duration": 0,
    "start_time": "2022-03-20T10:50:21.968Z"
   },
   {
    "duration": 9,
    "start_time": "2022-03-20T10:51:41.180Z"
   },
   {
    "duration": 14,
    "start_time": "2022-03-20T10:52:53.487Z"
   },
   {
    "duration": 555,
    "start_time": "2022-03-20T10:54:02.719Z"
   },
   {
    "duration": 24,
    "start_time": "2022-03-20T10:54:03.277Z"
   },
   {
    "duration": 29,
    "start_time": "2022-03-20T10:54:03.303Z"
   },
   {
    "duration": 31,
    "start_time": "2022-03-20T10:54:03.335Z"
   },
   {
    "duration": 18,
    "start_time": "2022-03-20T10:54:03.368Z"
   },
   {
    "duration": 25,
    "start_time": "2022-03-20T10:54:03.388Z"
   },
   {
    "duration": 4,
    "start_time": "2022-03-20T10:54:03.415Z"
   },
   {
    "duration": 19,
    "start_time": "2022-03-20T10:54:03.420Z"
   },
   {
    "duration": 6,
    "start_time": "2022-03-20T10:54:03.464Z"
   },
   {
    "duration": 14,
    "start_time": "2022-03-20T10:54:03.473Z"
   },
   {
    "duration": 21,
    "start_time": "2022-03-20T10:54:03.489Z"
   },
   {
    "duration": 11,
    "start_time": "2022-03-20T10:54:03.512Z"
   },
   {
    "duration": 19,
    "start_time": "2022-03-20T10:54:03.525Z"
   },
   {
    "duration": 62,
    "start_time": "2022-03-20T10:54:03.545Z"
   },
   {
    "duration": 8,
    "start_time": "2022-03-20T10:54:03.609Z"
   },
   {
    "duration": 8,
    "start_time": "2022-03-20T10:54:03.619Z"
   },
   {
    "duration": 35,
    "start_time": "2022-03-20T10:54:03.629Z"
   },
   {
    "duration": 11,
    "start_time": "2022-03-20T10:54:03.666Z"
   },
   {
    "duration": 13,
    "start_time": "2022-03-20T10:54:03.679Z"
   },
   {
    "duration": 38,
    "start_time": "2022-03-20T10:54:03.694Z"
   },
   {
    "duration": 49,
    "start_time": "2022-03-20T10:54:03.734Z"
   },
   {
    "duration": 35,
    "start_time": "2022-03-20T10:54:03.785Z"
   },
   {
    "duration": 66,
    "start_time": "2022-03-20T10:54:03.821Z"
   },
   {
    "duration": 45,
    "start_time": "2022-03-20T10:54:03.888Z"
   },
   {
    "duration": 36,
    "start_time": "2022-03-20T10:54:03.935Z"
   },
   {
    "duration": 78,
    "start_time": "2022-03-20T10:54:03.973Z"
   },
   {
    "duration": 0,
    "start_time": "2022-03-20T10:54:04.053Z"
   },
   {
    "duration": 0,
    "start_time": "2022-03-20T10:54:04.054Z"
   },
   {
    "duration": 17,
    "start_time": "2022-03-20T10:55:15.919Z"
   },
   {
    "duration": 566,
    "start_time": "2022-03-20T10:55:38.129Z"
   },
   {
    "duration": 19,
    "start_time": "2022-03-20T10:55:38.697Z"
   },
   {
    "duration": 26,
    "start_time": "2022-03-20T10:55:38.718Z"
   },
   {
    "duration": 15,
    "start_time": "2022-03-20T10:55:38.764Z"
   },
   {
    "duration": 13,
    "start_time": "2022-03-20T10:55:38.782Z"
   },
   {
    "duration": 24,
    "start_time": "2022-03-20T10:55:38.797Z"
   },
   {
    "duration": 4,
    "start_time": "2022-03-20T10:55:38.823Z"
   },
   {
    "duration": 58,
    "start_time": "2022-03-20T10:55:38.829Z"
   },
   {
    "duration": 35,
    "start_time": "2022-03-20T10:55:38.889Z"
   },
   {
    "duration": 8,
    "start_time": "2022-03-20T10:55:38.928Z"
   },
   {
    "duration": 9,
    "start_time": "2022-03-20T10:55:38.938Z"
   },
   {
    "duration": 18,
    "start_time": "2022-03-20T10:55:38.949Z"
   },
   {
    "duration": 28,
    "start_time": "2022-03-20T10:55:38.970Z"
   },
   {
    "duration": 46,
    "start_time": "2022-03-20T10:55:39.000Z"
   },
   {
    "duration": 9,
    "start_time": "2022-03-20T10:55:39.063Z"
   },
   {
    "duration": 7,
    "start_time": "2022-03-20T10:55:39.074Z"
   },
   {
    "duration": 17,
    "start_time": "2022-03-20T10:55:39.082Z"
   },
   {
    "duration": 11,
    "start_time": "2022-03-20T10:55:39.101Z"
   },
   {
    "duration": 4,
    "start_time": "2022-03-20T10:55:39.114Z"
   },
   {
    "duration": 43,
    "start_time": "2022-03-20T10:55:39.120Z"
   },
   {
    "duration": 26,
    "start_time": "2022-03-20T10:55:39.165Z"
   },
   {
    "duration": 15,
    "start_time": "2022-03-20T10:55:39.193Z"
   },
   {
    "duration": 15,
    "start_time": "2022-03-20T10:55:39.210Z"
   },
   {
    "duration": 39,
    "start_time": "2022-03-20T10:55:39.227Z"
   },
   {
    "duration": 32,
    "start_time": "2022-03-20T10:55:39.268Z"
   },
   {
    "duration": 71,
    "start_time": "2022-03-20T10:55:39.302Z"
   },
   {
    "duration": 29,
    "start_time": "2022-03-20T10:55:39.375Z"
   },
   {
    "duration": 56,
    "start_time": "2022-03-20T10:55:39.407Z"
   },
   {
    "duration": 595,
    "start_time": "2022-03-20T11:00:16.709Z"
   },
   {
    "duration": 20,
    "start_time": "2022-03-20T11:00:17.306Z"
   },
   {
    "duration": 35,
    "start_time": "2022-03-20T11:00:17.328Z"
   },
   {
    "duration": 14,
    "start_time": "2022-03-20T11:00:17.365Z"
   },
   {
    "duration": 17,
    "start_time": "2022-03-20T11:00:17.381Z"
   },
   {
    "duration": 26,
    "start_time": "2022-03-20T11:00:17.399Z"
   },
   {
    "duration": 4,
    "start_time": "2022-03-20T11:00:17.427Z"
   },
   {
    "duration": 12,
    "start_time": "2022-03-20T11:00:17.463Z"
   },
   {
    "duration": 5,
    "start_time": "2022-03-20T11:00:17.477Z"
   },
   {
    "duration": 6,
    "start_time": "2022-03-20T11:00:17.485Z"
   },
   {
    "duration": 6,
    "start_time": "2022-03-20T11:00:17.493Z"
   },
   {
    "duration": 19,
    "start_time": "2022-03-20T11:00:17.502Z"
   },
   {
    "duration": 61,
    "start_time": "2022-03-20T11:00:17.523Z"
   },
   {
    "duration": 54,
    "start_time": "2022-03-20T11:00:17.586Z"
   },
   {
    "duration": 26,
    "start_time": "2022-03-20T11:00:17.642Z"
   },
   {
    "duration": 8,
    "start_time": "2022-03-20T11:00:17.670Z"
   },
   {
    "duration": 16,
    "start_time": "2022-03-20T11:00:17.680Z"
   },
   {
    "duration": 8,
    "start_time": "2022-03-20T11:00:17.698Z"
   },
   {
    "duration": 7,
    "start_time": "2022-03-20T11:00:17.708Z"
   },
   {
    "duration": 15,
    "start_time": "2022-03-20T11:00:17.716Z"
   },
   {
    "duration": 18,
    "start_time": "2022-03-20T11:00:17.762Z"
   },
   {
    "duration": 14,
    "start_time": "2022-03-20T11:00:17.782Z"
   },
   {
    "duration": 15,
    "start_time": "2022-03-20T11:00:17.798Z"
   },
   {
    "duration": 23,
    "start_time": "2022-03-20T11:00:17.815Z"
   },
   {
    "duration": 37,
    "start_time": "2022-03-20T11:00:17.864Z"
   },
   {
    "duration": 80,
    "start_time": "2022-03-20T11:00:17.904Z"
   },
   {
    "duration": 33,
    "start_time": "2022-03-20T11:00:17.986Z"
   },
   {
    "duration": 53,
    "start_time": "2022-03-20T11:00:18.022Z"
   },
   {
    "duration": 640,
    "start_time": "2022-03-20T11:01:54.812Z"
   },
   {
    "duration": 24,
    "start_time": "2022-03-20T11:01:55.454Z"
   },
   {
    "duration": 27,
    "start_time": "2022-03-20T11:01:55.480Z"
   },
   {
    "duration": 11,
    "start_time": "2022-03-20T11:01:55.509Z"
   },
   {
    "duration": 14,
    "start_time": "2022-03-20T11:01:55.521Z"
   },
   {
    "duration": 48,
    "start_time": "2022-03-20T11:01:55.537Z"
   },
   {
    "duration": 3,
    "start_time": "2022-03-20T11:01:55.587Z"
   },
   {
    "duration": 12,
    "start_time": "2022-03-20T11:01:55.592Z"
   },
   {
    "duration": 5,
    "start_time": "2022-03-20T11:01:55.605Z"
   },
   {
    "duration": 5,
    "start_time": "2022-03-20T11:01:55.612Z"
   },
   {
    "duration": 6,
    "start_time": "2022-03-20T11:01:55.618Z"
   },
   {
    "duration": 12,
    "start_time": "2022-03-20T11:01:55.662Z"
   },
   {
    "duration": 21,
    "start_time": "2022-03-20T11:01:55.676Z"
   },
   {
    "duration": 34,
    "start_time": "2022-03-20T11:01:55.699Z"
   },
   {
    "duration": 30,
    "start_time": "2022-03-20T11:01:55.734Z"
   },
   {
    "duration": 7,
    "start_time": "2022-03-20T11:01:55.765Z"
   },
   {
    "duration": 16,
    "start_time": "2022-03-20T11:01:55.773Z"
   },
   {
    "duration": 8,
    "start_time": "2022-03-20T11:01:55.791Z"
   },
   {
    "duration": 7,
    "start_time": "2022-03-20T11:01:55.801Z"
   },
   {
    "duration": 15,
    "start_time": "2022-03-20T11:01:55.809Z"
   },
   {
    "duration": 42,
    "start_time": "2022-03-20T11:01:55.825Z"
   },
   {
    "duration": 15,
    "start_time": "2022-03-20T11:01:55.869Z"
   },
   {
    "duration": 14,
    "start_time": "2022-03-20T11:01:55.886Z"
   },
   {
    "duration": 20,
    "start_time": "2022-03-20T11:01:55.902Z"
   },
   {
    "duration": 51,
    "start_time": "2022-03-20T11:01:55.924Z"
   },
   {
    "duration": 64,
    "start_time": "2022-03-20T11:01:55.976Z"
   },
   {
    "duration": 62,
    "start_time": "2022-03-20T11:01:56.042Z"
   },
   {
    "duration": 34,
    "start_time": "2022-03-20T11:01:56.107Z"
   },
   {
    "duration": 2904,
    "start_time": "2022-03-21T06:15:06.698Z"
   },
   {
    "duration": 16,
    "start_time": "2022-03-21T06:15:09.604Z"
   },
   {
    "duration": 19,
    "start_time": "2022-03-21T06:15:09.622Z"
   },
   {
    "duration": 12,
    "start_time": "2022-03-21T06:15:09.643Z"
   },
   {
    "duration": 14,
    "start_time": "2022-03-21T06:15:09.657Z"
   },
   {
    "duration": 22,
    "start_time": "2022-03-21T06:15:09.673Z"
   },
   {
    "duration": 4,
    "start_time": "2022-03-21T06:15:09.697Z"
   },
   {
    "duration": 37,
    "start_time": "2022-03-21T06:15:09.703Z"
   },
   {
    "duration": 5,
    "start_time": "2022-03-21T06:15:09.741Z"
   },
   {
    "duration": 7,
    "start_time": "2022-03-21T06:15:09.748Z"
   },
   {
    "duration": 22,
    "start_time": "2022-03-21T06:15:09.756Z"
   },
   {
    "duration": 12,
    "start_time": "2022-03-21T06:15:09.780Z"
   },
   {
    "duration": 41,
    "start_time": "2022-03-21T06:15:09.794Z"
   },
   {
    "duration": 43,
    "start_time": "2022-03-21T06:15:09.839Z"
   },
   {
    "duration": 7,
    "start_time": "2022-03-21T06:15:09.884Z"
   },
   {
    "duration": 8,
    "start_time": "2022-03-21T06:15:09.893Z"
   },
   {
    "duration": 39,
    "start_time": "2022-03-21T06:15:09.902Z"
   },
   {
    "duration": 10,
    "start_time": "2022-03-21T06:15:09.942Z"
   },
   {
    "duration": 13,
    "start_time": "2022-03-21T06:15:09.954Z"
   },
   {
    "duration": 20,
    "start_time": "2022-03-21T06:15:09.968Z"
   },
   {
    "duration": 23,
    "start_time": "2022-03-21T06:15:09.989Z"
   },
   {
    "duration": 23,
    "start_time": "2022-03-21T06:15:10.014Z"
   },
   {
    "duration": 15,
    "start_time": "2022-03-21T06:15:10.039Z"
   },
   {
    "duration": 15,
    "start_time": "2022-03-21T06:15:10.056Z"
   },
   {
    "duration": 34,
    "start_time": "2022-03-21T06:15:10.073Z"
   },
   {
    "duration": 47,
    "start_time": "2022-03-21T06:15:10.133Z"
   },
   {
    "duration": 30,
    "start_time": "2022-03-21T06:15:10.181Z"
   },
   {
    "duration": 50,
    "start_time": "2022-03-21T06:15:10.213Z"
   },
   {
    "duration": 8,
    "start_time": "2022-03-21T06:25:02.525Z"
   },
   {
    "duration": 60,
    "start_time": "2022-03-21T06:26:34.810Z"
   },
   {
    "duration": 546,
    "start_time": "2022-03-21T06:30:44.304Z"
   },
   {
    "duration": 16,
    "start_time": "2022-03-21T06:30:44.852Z"
   },
   {
    "duration": 19,
    "start_time": "2022-03-21T06:30:44.869Z"
   },
   {
    "duration": 10,
    "start_time": "2022-03-21T06:30:44.890Z"
   },
   {
    "duration": 38,
    "start_time": "2022-03-21T06:30:44.903Z"
   },
   {
    "duration": 23,
    "start_time": "2022-03-21T06:30:44.943Z"
   },
   {
    "duration": 4,
    "start_time": "2022-03-21T06:30:44.968Z"
   },
   {
    "duration": 9,
    "start_time": "2022-03-21T06:30:44.974Z"
   },
   {
    "duration": 5,
    "start_time": "2022-03-21T06:30:44.985Z"
   },
   {
    "duration": 44,
    "start_time": "2022-03-21T06:30:44.991Z"
   },
   {
    "duration": 9,
    "start_time": "2022-03-21T06:30:45.037Z"
   },
   {
    "duration": 16,
    "start_time": "2022-03-21T06:30:45.047Z"
   },
   {
    "duration": 26,
    "start_time": "2022-03-21T06:30:45.065Z"
   },
   {
    "duration": 42,
    "start_time": "2022-03-21T06:30:45.093Z"
   },
   {
    "duration": 7,
    "start_time": "2022-03-21T06:30:45.137Z"
   },
   {
    "duration": 8,
    "start_time": "2022-03-21T06:30:45.146Z"
   },
   {
    "duration": 15,
    "start_time": "2022-03-21T06:30:45.155Z"
   },
   {
    "duration": 9,
    "start_time": "2022-03-21T06:30:45.171Z"
   },
   {
    "duration": 4,
    "start_time": "2022-03-21T06:30:45.181Z"
   },
   {
    "duration": 12,
    "start_time": "2022-03-21T06:30:45.186Z"
   },
   {
    "duration": 18,
    "start_time": "2022-03-21T06:30:45.233Z"
   },
   {
    "duration": 14,
    "start_time": "2022-03-21T06:30:45.252Z"
   },
   {
    "duration": 15,
    "start_time": "2022-03-21T06:30:45.267Z"
   },
   {
    "duration": 16,
    "start_time": "2022-03-21T06:30:45.283Z"
   },
   {
    "duration": 59,
    "start_time": "2022-03-21T06:30:45.301Z"
   },
   {
    "duration": 46,
    "start_time": "2022-03-21T06:30:45.362Z"
   },
   {
    "duration": 42,
    "start_time": "2022-03-21T06:30:45.410Z"
   },
   {
    "duration": 31,
    "start_time": "2022-03-21T06:30:45.455Z"
   },
   {
    "duration": 559,
    "start_time": "2022-03-21T15:28:29.523Z"
   },
   {
    "duration": 16,
    "start_time": "2022-03-21T15:28:30.084Z"
   },
   {
    "duration": 23,
    "start_time": "2022-03-21T15:28:30.102Z"
   },
   {
    "duration": 12,
    "start_time": "2022-03-21T15:28:30.127Z"
   },
   {
    "duration": 32,
    "start_time": "2022-03-21T15:28:30.141Z"
   },
   {
    "duration": 24,
    "start_time": "2022-03-21T15:28:30.175Z"
   },
   {
    "duration": 4,
    "start_time": "2022-03-21T15:28:30.200Z"
   },
   {
    "duration": 28,
    "start_time": "2022-03-21T15:28:30.205Z"
   },
   {
    "duration": 11,
    "start_time": "2022-03-21T15:28:30.235Z"
   },
   {
    "duration": 17,
    "start_time": "2022-03-21T15:28:30.247Z"
   },
   {
    "duration": 19,
    "start_time": "2022-03-21T15:28:30.266Z"
   },
   {
    "duration": 23,
    "start_time": "2022-03-21T15:28:30.287Z"
   },
   {
    "duration": 44,
    "start_time": "2022-03-21T15:28:30.311Z"
   },
   {
    "duration": 43,
    "start_time": "2022-03-21T15:28:30.358Z"
   },
   {
    "duration": 7,
    "start_time": "2022-03-21T15:28:30.403Z"
   },
   {
    "duration": 27,
    "start_time": "2022-03-21T15:28:30.411Z"
   },
   {
    "duration": 45,
    "start_time": "2022-03-21T15:28:30.440Z"
   },
   {
    "duration": 22,
    "start_time": "2022-03-21T15:28:30.486Z"
   },
   {
    "duration": 77,
    "start_time": "2022-03-21T15:28:30.509Z"
   },
   {
    "duration": 0,
    "start_time": "2022-03-21T15:28:30.587Z"
   },
   {
    "duration": 0,
    "start_time": "2022-03-21T15:28:30.588Z"
   },
   {
    "duration": 0,
    "start_time": "2022-03-21T15:28:30.590Z"
   },
   {
    "duration": 0,
    "start_time": "2022-03-21T15:28:30.592Z"
   },
   {
    "duration": 0,
    "start_time": "2022-03-21T15:28:30.593Z"
   },
   {
    "duration": 0,
    "start_time": "2022-03-21T15:28:30.594Z"
   },
   {
    "duration": 0,
    "start_time": "2022-03-21T15:28:30.595Z"
   },
   {
    "duration": 0,
    "start_time": "2022-03-21T15:28:30.596Z"
   },
   {
    "duration": 0,
    "start_time": "2022-03-21T15:28:30.597Z"
   },
   {
    "duration": 522,
    "start_time": "2022-03-21T15:29:15.696Z"
   },
   {
    "duration": 14,
    "start_time": "2022-03-21T15:29:16.220Z"
   },
   {
    "duration": 29,
    "start_time": "2022-03-21T15:29:16.235Z"
   },
   {
    "duration": 15,
    "start_time": "2022-03-21T15:29:16.268Z"
   },
   {
    "duration": 12,
    "start_time": "2022-03-21T15:29:16.285Z"
   },
   {
    "duration": 22,
    "start_time": "2022-03-21T15:29:16.298Z"
   },
   {
    "duration": 3,
    "start_time": "2022-03-21T15:29:16.322Z"
   },
   {
    "duration": 12,
    "start_time": "2022-03-21T15:29:16.362Z"
   },
   {
    "duration": 16,
    "start_time": "2022-03-21T15:29:16.376Z"
   },
   {
    "duration": 5,
    "start_time": "2022-03-21T15:29:16.394Z"
   },
   {
    "duration": 6,
    "start_time": "2022-03-21T15:29:16.400Z"
   },
   {
    "duration": 12,
    "start_time": "2022-03-21T15:29:16.408Z"
   },
   {
    "duration": 21,
    "start_time": "2022-03-21T15:29:16.421Z"
   },
   {
    "duration": 60,
    "start_time": "2022-03-21T15:29:16.444Z"
   },
   {
    "duration": 7,
    "start_time": "2022-03-21T15:29:16.505Z"
   },
   {
    "duration": 6,
    "start_time": "2022-03-21T15:29:16.513Z"
   },
   {
    "duration": 17,
    "start_time": "2022-03-21T15:29:16.520Z"
   },
   {
    "duration": 29,
    "start_time": "2022-03-21T15:29:16.538Z"
   },
   {
    "duration": 17,
    "start_time": "2022-03-21T15:29:16.569Z"
   },
   {
    "duration": 11,
    "start_time": "2022-03-21T15:29:16.588Z"
   },
   {
    "duration": 15,
    "start_time": "2022-03-21T15:29:16.601Z"
   },
   {
    "duration": 14,
    "start_time": "2022-03-21T15:29:16.617Z"
   },
   {
    "duration": 52,
    "start_time": "2022-03-21T15:29:16.633Z"
   },
   {
    "duration": 16,
    "start_time": "2022-03-21T15:29:16.687Z"
   },
   {
    "duration": 33,
    "start_time": "2022-03-21T15:29:16.705Z"
   },
   {
    "duration": 70,
    "start_time": "2022-03-21T15:29:16.740Z"
   },
   {
    "duration": 29,
    "start_time": "2022-03-21T15:29:16.812Z"
   },
   {
    "duration": 56,
    "start_time": "2022-03-21T15:29:16.844Z"
   },
   {
    "duration": 153,
    "start_time": "2022-03-21T15:30:25.214Z"
   },
   {
    "duration": 6,
    "start_time": "2022-03-21T15:41:37.270Z"
   },
   {
    "duration": 7,
    "start_time": "2022-03-21T15:42:18.680Z"
   },
   {
    "duration": 5,
    "start_time": "2022-03-21T15:45:21.258Z"
   },
   {
    "duration": 562,
    "start_time": "2022-03-21T15:47:50.051Z"
   },
   {
    "duration": 15,
    "start_time": "2022-03-21T15:47:50.615Z"
   },
   {
    "duration": 18,
    "start_time": "2022-03-21T15:47:50.632Z"
   },
   {
    "duration": 11,
    "start_time": "2022-03-21T15:47:50.662Z"
   },
   {
    "duration": 12,
    "start_time": "2022-03-21T15:47:50.675Z"
   },
   {
    "duration": 5,
    "start_time": "2022-03-21T15:47:50.689Z"
   },
   {
    "duration": 9,
    "start_time": "2022-03-21T15:47:50.696Z"
   },
   {
    "duration": 5,
    "start_time": "2022-03-21T15:47:50.707Z"
   },
   {
    "duration": 8,
    "start_time": "2022-03-21T15:47:50.714Z"
   },
   {
    "duration": 6,
    "start_time": "2022-03-21T15:47:50.762Z"
   },
   {
    "duration": 9,
    "start_time": "2022-03-21T15:47:50.770Z"
   },
   {
    "duration": 13,
    "start_time": "2022-03-21T15:47:50.781Z"
   },
   {
    "duration": 20,
    "start_time": "2022-03-21T15:47:50.795Z"
   },
   {
    "duration": 11,
    "start_time": "2022-03-21T15:47:50.817Z"
   },
   {
    "duration": 16,
    "start_time": "2022-03-21T15:47:50.830Z"
   },
   {
    "duration": 9,
    "start_time": "2022-03-21T15:47:50.863Z"
   },
   {
    "duration": 7,
    "start_time": "2022-03-21T15:47:50.875Z"
   },
   {
    "duration": 8,
    "start_time": "2022-03-21T15:47:50.884Z"
   },
   {
    "duration": 6,
    "start_time": "2022-03-21T15:47:50.894Z"
   },
   {
    "duration": 12,
    "start_time": "2022-03-21T15:47:50.901Z"
   },
   {
    "duration": 49,
    "start_time": "2022-03-21T15:47:50.915Z"
   },
   {
    "duration": 4,
    "start_time": "2022-03-21T15:47:50.965Z"
   },
   {
    "duration": 15,
    "start_time": "2022-03-21T15:47:50.970Z"
   },
   {
    "duration": 7,
    "start_time": "2022-03-21T15:47:50.986Z"
   },
   {
    "duration": 16,
    "start_time": "2022-03-21T15:47:50.994Z"
   },
   {
    "duration": 17,
    "start_time": "2022-03-21T15:47:51.012Z"
   },
   {
    "duration": 33,
    "start_time": "2022-03-21T15:47:51.030Z"
   },
   {
    "duration": 38,
    "start_time": "2022-03-21T15:47:51.065Z"
   },
   {
    "duration": 7,
    "start_time": "2022-03-21T15:47:51.106Z"
   },
   {
    "duration": 11,
    "start_time": "2022-03-21T15:47:51.114Z"
   },
   {
    "duration": 41,
    "start_time": "2022-03-21T15:47:51.127Z"
   },
   {
    "duration": 9,
    "start_time": "2022-03-21T15:47:51.170Z"
   },
   {
    "duration": 16,
    "start_time": "2022-03-21T15:47:51.181Z"
   },
   {
    "duration": 13,
    "start_time": "2022-03-21T15:47:51.199Z"
   },
   {
    "duration": 17,
    "start_time": "2022-03-21T15:47:51.214Z"
   },
   {
    "duration": 45,
    "start_time": "2022-03-21T15:47:51.232Z"
   },
   {
    "duration": 16,
    "start_time": "2022-03-21T15:47:51.279Z"
   },
   {
    "duration": 18,
    "start_time": "2022-03-21T15:47:51.296Z"
   },
   {
    "duration": 54,
    "start_time": "2022-03-21T15:47:51.315Z"
   },
   {
    "duration": 50,
    "start_time": "2022-03-21T15:47:51.370Z"
   },
   {
    "duration": 49,
    "start_time": "2022-03-21T15:47:51.422Z"
   },
   {
    "duration": 34,
    "start_time": "2022-03-21T15:47:51.473Z"
   },
   {
    "duration": 521,
    "start_time": "2022-03-21T15:48:38.786Z"
   },
   {
    "duration": 17,
    "start_time": "2022-03-21T15:48:39.309Z"
   },
   {
    "duration": 36,
    "start_time": "2022-03-21T15:48:39.327Z"
   },
   {
    "duration": 12,
    "start_time": "2022-03-21T15:48:39.366Z"
   },
   {
    "duration": 17,
    "start_time": "2022-03-21T15:48:39.380Z"
   },
   {
    "duration": 5,
    "start_time": "2022-03-21T15:48:39.399Z"
   },
   {
    "duration": 11,
    "start_time": "2022-03-21T15:48:39.406Z"
   },
   {
    "duration": 6,
    "start_time": "2022-03-21T15:48:39.418Z"
   },
   {
    "duration": 41,
    "start_time": "2022-03-21T15:48:39.426Z"
   },
   {
    "duration": 6,
    "start_time": "2022-03-21T15:48:39.470Z"
   },
   {
    "duration": 9,
    "start_time": "2022-03-21T15:48:39.477Z"
   },
   {
    "duration": 6,
    "start_time": "2022-03-21T15:48:39.488Z"
   },
   {
    "duration": 9,
    "start_time": "2022-03-21T15:48:39.496Z"
   },
   {
    "duration": 9,
    "start_time": "2022-03-21T15:48:39.506Z"
   },
   {
    "duration": 6,
    "start_time": "2022-03-21T15:48:39.517Z"
   },
   {
    "duration": 45,
    "start_time": "2022-03-21T15:48:39.524Z"
   },
   {
    "duration": 8,
    "start_time": "2022-03-21T15:48:39.571Z"
   },
   {
    "duration": 7,
    "start_time": "2022-03-21T15:48:39.581Z"
   },
   {
    "duration": 6,
    "start_time": "2022-03-21T15:48:39.590Z"
   },
   {
    "duration": 11,
    "start_time": "2022-03-21T15:48:39.598Z"
   },
   {
    "duration": 17,
    "start_time": "2022-03-21T15:48:39.611Z"
   },
   {
    "duration": 35,
    "start_time": "2022-03-21T15:48:39.630Z"
   },
   {
    "duration": 11,
    "start_time": "2022-03-21T15:48:39.667Z"
   },
   {
    "duration": 6,
    "start_time": "2022-03-21T15:48:39.680Z"
   },
   {
    "duration": 5,
    "start_time": "2022-03-21T15:48:39.688Z"
   },
   {
    "duration": 8,
    "start_time": "2022-03-21T15:48:39.694Z"
   },
   {
    "duration": 21,
    "start_time": "2022-03-21T15:48:39.703Z"
   },
   {
    "duration": 58,
    "start_time": "2022-03-21T15:48:39.727Z"
   },
   {
    "duration": 7,
    "start_time": "2022-03-21T15:48:39.787Z"
   },
   {
    "duration": 8,
    "start_time": "2022-03-21T15:48:39.795Z"
   },
   {
    "duration": 14,
    "start_time": "2022-03-21T15:48:39.805Z"
   },
   {
    "duration": 10,
    "start_time": "2022-03-21T15:48:39.821Z"
   },
   {
    "duration": 39,
    "start_time": "2022-03-21T15:48:39.832Z"
   },
   {
    "duration": 11,
    "start_time": "2022-03-21T15:48:39.873Z"
   },
   {
    "duration": 17,
    "start_time": "2022-03-21T15:48:39.885Z"
   },
   {
    "duration": 14,
    "start_time": "2022-03-21T15:48:39.904Z"
   },
   {
    "duration": 47,
    "start_time": "2022-03-21T15:48:39.920Z"
   },
   {
    "duration": 14,
    "start_time": "2022-03-21T15:48:39.969Z"
   },
   {
    "duration": 34,
    "start_time": "2022-03-21T15:48:39.985Z"
   },
   {
    "duration": 75,
    "start_time": "2022-03-21T15:48:40.021Z"
   },
   {
    "duration": 30,
    "start_time": "2022-03-21T15:48:40.098Z"
   },
   {
    "duration": 50,
    "start_time": "2022-03-21T15:48:40.130Z"
   },
   {
    "duration": 502,
    "start_time": "2022-03-21T15:56:11.608Z"
   },
   {
    "duration": 17,
    "start_time": "2022-03-21T15:56:12.112Z"
   },
   {
    "duration": 33,
    "start_time": "2022-03-21T15:56:12.131Z"
   },
   {
    "duration": 10,
    "start_time": "2022-03-21T15:56:12.165Z"
   },
   {
    "duration": 13,
    "start_time": "2022-03-21T15:56:12.177Z"
   },
   {
    "duration": 5,
    "start_time": "2022-03-21T15:56:12.192Z"
   },
   {
    "duration": 8,
    "start_time": "2022-03-21T15:56:12.198Z"
   },
   {
    "duration": 6,
    "start_time": "2022-03-21T15:56:12.208Z"
   },
   {
    "duration": 49,
    "start_time": "2022-03-21T15:56:12.216Z"
   },
   {
    "duration": 6,
    "start_time": "2022-03-21T15:56:12.268Z"
   },
   {
    "duration": 8,
    "start_time": "2022-03-21T15:56:12.276Z"
   },
   {
    "duration": 8,
    "start_time": "2022-03-21T15:56:12.286Z"
   },
   {
    "duration": 7,
    "start_time": "2022-03-21T15:56:12.296Z"
   },
   {
    "duration": 6,
    "start_time": "2022-03-21T15:56:12.306Z"
   },
   {
    "duration": 7,
    "start_time": "2022-03-21T15:56:12.314Z"
   },
   {
    "duration": 46,
    "start_time": "2022-03-21T15:56:12.322Z"
   },
   {
    "duration": 10,
    "start_time": "2022-03-21T15:56:12.370Z"
   },
   {
    "duration": 20,
    "start_time": "2022-03-21T15:56:12.381Z"
   },
   {
    "duration": 7,
    "start_time": "2022-03-21T15:56:12.403Z"
   },
   {
    "duration": 12,
    "start_time": "2022-03-21T15:56:12.412Z"
   },
   {
    "duration": 45,
    "start_time": "2022-03-21T15:56:12.426Z"
   },
   {
    "duration": 13,
    "start_time": "2022-03-21T15:56:12.473Z"
   },
   {
    "duration": 5,
    "start_time": "2022-03-21T15:56:12.487Z"
   },
   {
    "duration": 10,
    "start_time": "2022-03-21T15:56:12.494Z"
   },
   {
    "duration": 5,
    "start_time": "2022-03-21T15:56:12.507Z"
   },
   {
    "duration": 4,
    "start_time": "2022-03-21T15:56:12.514Z"
   },
   {
    "duration": 43,
    "start_time": "2022-03-21T15:56:12.520Z"
   },
   {
    "duration": 20,
    "start_time": "2022-03-21T15:56:12.564Z"
   },
   {
    "duration": 33,
    "start_time": "2022-03-21T15:56:12.586Z"
   },
   {
    "duration": 11,
    "start_time": "2022-03-21T15:56:12.621Z"
   },
   {
    "duration": 37,
    "start_time": "2022-03-21T15:56:12.634Z"
   },
   {
    "duration": 16,
    "start_time": "2022-03-21T15:56:12.673Z"
   },
   {
    "duration": 13,
    "start_time": "2022-03-21T15:56:12.691Z"
   },
   {
    "duration": 15,
    "start_time": "2022-03-21T15:56:12.706Z"
   },
   {
    "duration": 42,
    "start_time": "2022-03-21T15:56:12.723Z"
   },
   {
    "duration": 34,
    "start_time": "2022-03-21T15:56:12.767Z"
   },
   {
    "duration": 62,
    "start_time": "2022-03-21T15:56:12.802Z"
   },
   {
    "duration": 30,
    "start_time": "2022-03-21T15:56:12.865Z"
   },
   {
    "duration": 30,
    "start_time": "2022-03-21T15:56:12.897Z"
   },
   {
    "duration": 598,
    "start_time": "2022-03-21T15:59:35.649Z"
   },
   {
    "duration": 17,
    "start_time": "2022-03-21T15:59:36.250Z"
   },
   {
    "duration": 28,
    "start_time": "2022-03-21T15:59:36.269Z"
   },
   {
    "duration": 10,
    "start_time": "2022-03-21T15:59:36.300Z"
   },
   {
    "duration": 13,
    "start_time": "2022-03-21T15:59:36.311Z"
   },
   {
    "duration": 10,
    "start_time": "2022-03-21T15:59:36.326Z"
   },
   {
    "duration": 27,
    "start_time": "2022-03-21T15:59:36.338Z"
   },
   {
    "duration": 6,
    "start_time": "2022-03-21T15:59:36.366Z"
   },
   {
    "duration": 10,
    "start_time": "2022-03-21T15:59:36.373Z"
   },
   {
    "duration": 5,
    "start_time": "2022-03-21T15:59:36.386Z"
   },
   {
    "duration": 6,
    "start_time": "2022-03-21T15:59:36.394Z"
   },
   {
    "duration": 9,
    "start_time": "2022-03-21T15:59:36.401Z"
   },
   {
    "duration": 9,
    "start_time": "2022-03-21T15:59:36.412Z"
   },
   {
    "duration": 42,
    "start_time": "2022-03-21T15:59:36.422Z"
   },
   {
    "duration": 9,
    "start_time": "2022-03-21T15:59:36.466Z"
   },
   {
    "duration": 11,
    "start_time": "2022-03-21T15:59:36.476Z"
   },
   {
    "duration": 10,
    "start_time": "2022-03-21T15:59:36.488Z"
   },
   {
    "duration": 9,
    "start_time": "2022-03-21T15:59:36.499Z"
   },
   {
    "duration": 10,
    "start_time": "2022-03-21T15:59:36.509Z"
   },
   {
    "duration": 12,
    "start_time": "2022-03-21T15:59:36.521Z"
   },
   {
    "duration": 40,
    "start_time": "2022-03-21T15:59:36.535Z"
   },
   {
    "duration": 13,
    "start_time": "2022-03-21T15:59:36.577Z"
   },
   {
    "duration": 5,
    "start_time": "2022-03-21T15:59:36.592Z"
   },
   {
    "duration": 10,
    "start_time": "2022-03-21T15:59:36.599Z"
   },
   {
    "duration": 5,
    "start_time": "2022-03-21T15:59:36.610Z"
   },
   {
    "duration": 3,
    "start_time": "2022-03-21T15:59:36.619Z"
   },
   {
    "duration": 42,
    "start_time": "2022-03-21T15:59:36.623Z"
   },
   {
    "duration": 20,
    "start_time": "2022-03-21T15:59:36.668Z"
   },
   {
    "duration": 33,
    "start_time": "2022-03-21T15:59:36.690Z"
   },
   {
    "duration": 13,
    "start_time": "2022-03-21T15:59:36.725Z"
   },
   {
    "duration": 12,
    "start_time": "2022-03-21T15:59:36.763Z"
   },
   {
    "duration": 18,
    "start_time": "2022-03-21T15:59:36.776Z"
   },
   {
    "duration": 15,
    "start_time": "2022-03-21T15:59:36.795Z"
   },
   {
    "duration": 15,
    "start_time": "2022-03-21T15:59:36.811Z"
   },
   {
    "duration": 41,
    "start_time": "2022-03-21T15:59:36.828Z"
   },
   {
    "duration": 33,
    "start_time": "2022-03-21T15:59:36.870Z"
   },
   {
    "duration": 71,
    "start_time": "2022-03-21T15:59:36.904Z"
   },
   {
    "duration": 39,
    "start_time": "2022-03-21T15:59:36.978Z"
   },
   {
    "duration": 54,
    "start_time": "2022-03-21T15:59:37.019Z"
   },
   {
    "duration": 636,
    "start_time": "2022-03-21T16:00:06.315Z"
   },
   {
    "duration": 17,
    "start_time": "2022-03-21T16:00:06.953Z"
   },
   {
    "duration": 21,
    "start_time": "2022-03-21T16:00:06.971Z"
   },
   {
    "duration": 11,
    "start_time": "2022-03-21T16:00:06.994Z"
   },
   {
    "duration": 14,
    "start_time": "2022-03-21T16:00:07.007Z"
   },
   {
    "duration": 5,
    "start_time": "2022-03-21T16:00:07.023Z"
   },
   {
    "duration": 40,
    "start_time": "2022-03-21T16:00:07.029Z"
   },
   {
    "duration": 5,
    "start_time": "2022-03-21T16:00:07.071Z"
   },
   {
    "duration": 7,
    "start_time": "2022-03-21T16:00:07.078Z"
   },
   {
    "duration": 10,
    "start_time": "2022-03-21T16:00:07.088Z"
   },
   {
    "duration": 9,
    "start_time": "2022-03-21T16:00:07.100Z"
   },
   {
    "duration": 6,
    "start_time": "2022-03-21T16:00:07.111Z"
   },
   {
    "duration": 45,
    "start_time": "2022-03-21T16:00:07.119Z"
   },
   {
    "duration": 7,
    "start_time": "2022-03-21T16:00:07.166Z"
   },
   {
    "duration": 9,
    "start_time": "2022-03-21T16:00:07.175Z"
   },
   {
    "duration": 10,
    "start_time": "2022-03-21T16:00:07.186Z"
   },
   {
    "duration": 8,
    "start_time": "2022-03-21T16:00:07.197Z"
   },
   {
    "duration": 10,
    "start_time": "2022-03-21T16:00:07.207Z"
   },
   {
    "duration": 10,
    "start_time": "2022-03-21T16:00:07.219Z"
   },
   {
    "duration": 12,
    "start_time": "2022-03-21T16:00:07.264Z"
   },
   {
    "duration": 19,
    "start_time": "2022-03-21T16:00:07.277Z"
   },
   {
    "duration": 10,
    "start_time": "2022-03-21T16:00:07.298Z"
   },
   {
    "duration": 4,
    "start_time": "2022-03-21T16:00:07.310Z"
   },
   {
    "duration": 9,
    "start_time": "2022-03-21T16:00:07.315Z"
   },
   {
    "duration": 38,
    "start_time": "2022-03-21T16:00:07.326Z"
   },
   {
    "duration": 4,
    "start_time": "2022-03-21T16:00:07.366Z"
   },
   {
    "duration": 6,
    "start_time": "2022-03-21T16:00:07.372Z"
   },
   {
    "duration": 20,
    "start_time": "2022-03-21T16:00:07.382Z"
   },
   {
    "duration": 63,
    "start_time": "2022-03-21T16:00:07.404Z"
   },
   {
    "duration": 13,
    "start_time": "2022-03-21T16:00:07.470Z"
   },
   {
    "duration": 11,
    "start_time": "2022-03-21T16:00:07.485Z"
   },
   {
    "duration": 15,
    "start_time": "2022-03-21T16:00:07.498Z"
   },
   {
    "duration": 14,
    "start_time": "2022-03-21T16:00:07.515Z"
   },
   {
    "duration": 16,
    "start_time": "2022-03-21T16:00:07.564Z"
   },
   {
    "duration": 18,
    "start_time": "2022-03-21T16:00:07.581Z"
   },
   {
    "duration": 43,
    "start_time": "2022-03-21T16:00:07.600Z"
   },
   {
    "duration": 65,
    "start_time": "2022-03-21T16:00:07.645Z"
   },
   {
    "duration": 29,
    "start_time": "2022-03-21T16:00:07.712Z"
   },
   {
    "duration": 37,
    "start_time": "2022-03-21T16:00:07.763Z"
   },
   {
    "duration": 3,
    "start_time": "2022-03-21T16:01:37.618Z"
   },
   {
    "duration": 547,
    "start_time": "2022-03-21T16:01:44.598Z"
   },
   {
    "duration": 17,
    "start_time": "2022-03-21T16:01:45.148Z"
   },
   {
    "duration": 20,
    "start_time": "2022-03-21T16:01:45.167Z"
   },
   {
    "duration": 10,
    "start_time": "2022-03-21T16:01:45.189Z"
   },
   {
    "duration": 14,
    "start_time": "2022-03-21T16:01:45.201Z"
   },
   {
    "duration": 5,
    "start_time": "2022-03-21T16:01:45.216Z"
   },
   {
    "duration": 10,
    "start_time": "2022-03-21T16:01:45.223Z"
   },
   {
    "duration": 32,
    "start_time": "2022-03-21T16:01:45.235Z"
   },
   {
    "duration": 12,
    "start_time": "2022-03-21T16:01:45.269Z"
   },
   {
    "duration": 11,
    "start_time": "2022-03-21T16:01:45.284Z"
   },
   {
    "duration": 13,
    "start_time": "2022-03-21T16:01:45.296Z"
   },
   {
    "duration": 13,
    "start_time": "2022-03-21T16:01:45.311Z"
   },
   {
    "duration": 12,
    "start_time": "2022-03-21T16:01:45.325Z"
   },
   {
    "duration": 8,
    "start_time": "2022-03-21T16:01:45.339Z"
   },
   {
    "duration": 17,
    "start_time": "2022-03-21T16:01:45.349Z"
   },
   {
    "duration": 10,
    "start_time": "2022-03-21T16:01:45.368Z"
   },
   {
    "duration": 6,
    "start_time": "2022-03-21T16:01:45.380Z"
   },
   {
    "duration": 11,
    "start_time": "2022-03-21T16:01:45.387Z"
   },
   {
    "duration": 5,
    "start_time": "2022-03-21T16:01:45.400Z"
   },
   {
    "duration": 11,
    "start_time": "2022-03-21T16:01:45.407Z"
   },
   {
    "duration": 50,
    "start_time": "2022-03-21T16:01:45.420Z"
   },
   {
    "duration": 9,
    "start_time": "2022-03-21T16:01:45.472Z"
   },
   {
    "duration": 9,
    "start_time": "2022-03-21T16:01:45.483Z"
   },
   {
    "duration": 14,
    "start_time": "2022-03-21T16:01:45.493Z"
   },
   {
    "duration": 5,
    "start_time": "2022-03-21T16:01:45.509Z"
   },
   {
    "duration": 5,
    "start_time": "2022-03-21T16:01:45.516Z"
   },
   {
    "duration": 7,
    "start_time": "2022-03-21T16:01:45.523Z"
   },
   {
    "duration": 20,
    "start_time": "2022-03-21T16:01:45.562Z"
   },
   {
    "duration": 34,
    "start_time": "2022-03-21T16:01:45.583Z"
   },
   {
    "duration": 2,
    "start_time": "2022-03-21T16:01:45.619Z"
   },
   {
    "duration": 16,
    "start_time": "2022-03-21T16:01:45.623Z"
   },
   {
    "duration": 32,
    "start_time": "2022-03-21T16:01:45.640Z"
   },
   {
    "duration": 17,
    "start_time": "2022-03-21T16:01:45.673Z"
   },
   {
    "duration": 14,
    "start_time": "2022-03-21T16:01:45.691Z"
   },
   {
    "duration": 14,
    "start_time": "2022-03-21T16:01:45.706Z"
   },
   {
    "duration": 45,
    "start_time": "2022-03-21T16:01:45.722Z"
   },
   {
    "duration": 30,
    "start_time": "2022-03-21T16:01:45.769Z"
   },
   {
    "duration": 67,
    "start_time": "2022-03-21T16:01:45.801Z"
   },
   {
    "duration": 31,
    "start_time": "2022-03-21T16:01:45.870Z"
   },
   {
    "duration": 33,
    "start_time": "2022-03-21T16:01:45.902Z"
   },
   {
    "duration": 584,
    "start_time": "2022-03-21T16:06:00.804Z"
   },
   {
    "duration": 18,
    "start_time": "2022-03-21T16:06:01.390Z"
   },
   {
    "duration": 36,
    "start_time": "2022-03-21T16:06:01.410Z"
   },
   {
    "duration": 35,
    "start_time": "2022-03-21T16:06:01.449Z"
   },
   {
    "duration": 60,
    "start_time": "2022-03-21T16:06:01.486Z"
   },
   {
    "duration": 18,
    "start_time": "2022-03-21T16:06:01.548Z"
   },
   {
    "duration": 38,
    "start_time": "2022-03-21T16:06:01.567Z"
   },
   {
    "duration": 44,
    "start_time": "2022-03-21T16:06:01.607Z"
   },
   {
    "duration": 27,
    "start_time": "2022-03-21T16:06:01.654Z"
   },
   {
    "duration": 26,
    "start_time": "2022-03-21T16:06:01.684Z"
   },
   {
    "duration": 43,
    "start_time": "2022-03-21T16:06:01.712Z"
   },
   {
    "duration": 128,
    "start_time": "2022-03-21T16:06:01.757Z"
   },
   {
    "duration": 38,
    "start_time": "2022-03-21T16:06:01.887Z"
   },
   {
    "duration": 34,
    "start_time": "2022-03-21T16:06:01.926Z"
   },
   {
    "duration": 40,
    "start_time": "2022-03-21T16:06:01.962Z"
   },
   {
    "duration": 24,
    "start_time": "2022-03-21T16:06:02.004Z"
   },
   {
    "duration": 33,
    "start_time": "2022-03-21T16:06:02.030Z"
   },
   {
    "duration": 20,
    "start_time": "2022-03-21T16:06:02.065Z"
   },
   {
    "duration": 22,
    "start_time": "2022-03-21T16:06:02.086Z"
   },
   {
    "duration": 17,
    "start_time": "2022-03-21T16:06:02.110Z"
   },
   {
    "duration": 26,
    "start_time": "2022-03-21T16:06:02.129Z"
   },
   {
    "duration": 27,
    "start_time": "2022-03-21T16:06:02.157Z"
   },
   {
    "duration": 6,
    "start_time": "2022-03-21T16:06:02.186Z"
   },
   {
    "duration": 15,
    "start_time": "2022-03-21T16:06:02.194Z"
   },
   {
    "duration": 35,
    "start_time": "2022-03-21T16:06:02.211Z"
   },
   {
    "duration": 22,
    "start_time": "2022-03-21T16:06:02.248Z"
   },
   {
    "duration": 14,
    "start_time": "2022-03-21T16:06:02.272Z"
   },
   {
    "duration": 33,
    "start_time": "2022-03-21T16:06:02.290Z"
   },
   {
    "duration": 38,
    "start_time": "2022-03-21T16:06:02.325Z"
   },
   {
    "duration": 3,
    "start_time": "2022-03-21T16:06:02.365Z"
   },
   {
    "duration": 19,
    "start_time": "2022-03-21T16:06:02.370Z"
   },
   {
    "duration": 16,
    "start_time": "2022-03-21T16:06:02.391Z"
   },
   {
    "duration": 30,
    "start_time": "2022-03-21T16:06:02.409Z"
   },
   {
    "duration": 33,
    "start_time": "2022-03-21T16:06:02.441Z"
   },
   {
    "duration": 15,
    "start_time": "2022-03-21T16:06:02.477Z"
   },
   {
    "duration": 24,
    "start_time": "2022-03-21T16:06:02.494Z"
   },
   {
    "duration": 45,
    "start_time": "2022-03-21T16:06:02.521Z"
   },
   {
    "duration": 52,
    "start_time": "2022-03-21T16:06:02.568Z"
   },
   {
    "duration": 48,
    "start_time": "2022-03-21T16:06:02.622Z"
   },
   {
    "duration": 36,
    "start_time": "2022-03-21T16:06:02.672Z"
   },
   {
    "duration": 539,
    "start_time": "2022-03-21T16:10:21.965Z"
   },
   {
    "duration": 14,
    "start_time": "2022-03-21T16:10:22.506Z"
   },
   {
    "duration": 17,
    "start_time": "2022-03-21T16:10:22.522Z"
   },
   {
    "duration": 26,
    "start_time": "2022-03-21T16:10:22.541Z"
   },
   {
    "duration": 12,
    "start_time": "2022-03-21T16:10:22.569Z"
   },
   {
    "duration": 5,
    "start_time": "2022-03-21T16:10:22.583Z"
   },
   {
    "duration": 15,
    "start_time": "2022-03-21T16:10:22.590Z"
   },
   {
    "duration": 8,
    "start_time": "2022-03-21T16:10:22.606Z"
   },
   {
    "duration": 11,
    "start_time": "2022-03-21T16:10:22.616Z"
   },
   {
    "duration": 11,
    "start_time": "2022-03-21T16:10:22.629Z"
   },
   {
    "duration": 27,
    "start_time": "2022-03-21T16:10:22.642Z"
   },
   {
    "duration": 5,
    "start_time": "2022-03-21T16:10:22.671Z"
   },
   {
    "duration": 8,
    "start_time": "2022-03-21T16:10:22.678Z"
   },
   {
    "duration": 7,
    "start_time": "2022-03-21T16:10:22.688Z"
   },
   {
    "duration": 9,
    "start_time": "2022-03-21T16:10:22.697Z"
   },
   {
    "duration": 7,
    "start_time": "2022-03-21T16:10:22.708Z"
   },
   {
    "duration": 7,
    "start_time": "2022-03-21T16:10:22.716Z"
   },
   {
    "duration": 42,
    "start_time": "2022-03-21T16:10:22.725Z"
   },
   {
    "duration": 7,
    "start_time": "2022-03-21T16:10:22.769Z"
   },
   {
    "duration": 12,
    "start_time": "2022-03-21T16:10:22.777Z"
   },
   {
    "duration": 17,
    "start_time": "2022-03-21T16:10:22.791Z"
   },
   {
    "duration": 10,
    "start_time": "2022-03-21T16:10:22.809Z"
   },
   {
    "duration": 7,
    "start_time": "2022-03-21T16:10:22.820Z"
   },
   {
    "duration": 40,
    "start_time": "2022-03-21T16:10:22.829Z"
   },
   {
    "duration": 5,
    "start_time": "2022-03-21T16:10:22.870Z"
   },
   {
    "duration": 4,
    "start_time": "2022-03-21T16:10:22.876Z"
   },
   {
    "duration": 5,
    "start_time": "2022-03-21T16:10:22.881Z"
   },
   {
    "duration": 19,
    "start_time": "2022-03-21T16:10:22.888Z"
   },
   {
    "duration": 61,
    "start_time": "2022-03-21T16:10:22.908Z"
   },
   {
    "duration": 2,
    "start_time": "2022-03-21T16:10:22.971Z"
   },
   {
    "duration": 16,
    "start_time": "2022-03-21T16:10:22.975Z"
   },
   {
    "duration": 11,
    "start_time": "2022-03-21T16:10:22.993Z"
   },
   {
    "duration": 17,
    "start_time": "2022-03-21T16:10:23.006Z"
   },
   {
    "duration": 41,
    "start_time": "2022-03-21T16:10:23.025Z"
   },
   {
    "duration": 15,
    "start_time": "2022-03-21T16:10:23.068Z"
   },
   {
    "duration": 18,
    "start_time": "2022-03-21T16:10:23.085Z"
   },
   {
    "duration": 31,
    "start_time": "2022-03-21T16:10:23.104Z"
   },
   {
    "duration": 71,
    "start_time": "2022-03-21T16:10:23.137Z"
   },
   {
    "duration": 30,
    "start_time": "2022-03-21T16:10:23.209Z"
   },
   {
    "duration": 45,
    "start_time": "2022-03-21T16:10:23.241Z"
   },
   {
    "duration": 825,
    "start_time": "2022-03-22T06:26:11.358Z"
   },
   {
    "duration": 25,
    "start_time": "2022-03-22T06:26:12.186Z"
   },
   {
    "duration": 55,
    "start_time": "2022-03-22T06:26:12.215Z"
   },
   {
    "duration": 18,
    "start_time": "2022-03-22T06:26:12.273Z"
   },
   {
    "duration": 22,
    "start_time": "2022-03-22T06:26:12.296Z"
   },
   {
    "duration": 49,
    "start_time": "2022-03-22T06:26:12.321Z"
   },
   {
    "duration": 16,
    "start_time": "2022-03-22T06:26:12.373Z"
   },
   {
    "duration": 9,
    "start_time": "2022-03-22T06:26:12.391Z"
   },
   {
    "duration": 14,
    "start_time": "2022-03-22T06:26:12.403Z"
   },
   {
    "duration": 48,
    "start_time": "2022-03-22T06:26:12.421Z"
   },
   {
    "duration": 15,
    "start_time": "2022-03-22T06:26:12.472Z"
   },
   {
    "duration": 14,
    "start_time": "2022-03-22T06:26:12.490Z"
   },
   {
    "duration": 12,
    "start_time": "2022-03-22T06:26:12.506Z"
   },
   {
    "duration": 50,
    "start_time": "2022-03-22T06:26:12.525Z"
   },
   {
    "duration": 10,
    "start_time": "2022-03-22T06:26:12.578Z"
   },
   {
    "duration": 12,
    "start_time": "2022-03-22T06:26:12.590Z"
   },
   {
    "duration": 10,
    "start_time": "2022-03-22T06:26:12.605Z"
   },
   {
    "duration": 56,
    "start_time": "2022-03-22T06:26:12.618Z"
   },
   {
    "duration": 10,
    "start_time": "2022-03-22T06:26:12.676Z"
   },
   {
    "duration": 18,
    "start_time": "2022-03-22T06:26:12.689Z"
   },
   {
    "duration": 80,
    "start_time": "2022-03-22T06:26:12.709Z"
   },
   {
    "duration": 14,
    "start_time": "2022-03-22T06:26:12.792Z"
   },
   {
    "duration": 8,
    "start_time": "2022-03-22T06:26:12.809Z"
   },
   {
    "duration": 50,
    "start_time": "2022-03-22T06:26:12.820Z"
   },
   {
    "duration": 9,
    "start_time": "2022-03-22T06:26:12.873Z"
   },
   {
    "duration": 15,
    "start_time": "2022-03-22T06:26:12.885Z"
   },
   {
    "duration": 12,
    "start_time": "2022-03-22T06:26:12.903Z"
   },
   {
    "duration": 68,
    "start_time": "2022-03-22T06:26:12.918Z"
   },
   {
    "duration": 85,
    "start_time": "2022-03-22T06:26:12.989Z"
   },
   {
    "duration": 5,
    "start_time": "2022-03-22T06:26:13.076Z"
   },
   {
    "duration": 30,
    "start_time": "2022-03-22T06:26:13.083Z"
   },
   {
    "duration": 40,
    "start_time": "2022-03-22T06:26:13.115Z"
   },
   {
    "duration": 35,
    "start_time": "2022-03-22T06:26:13.157Z"
   },
   {
    "duration": 35,
    "start_time": "2022-03-22T06:26:13.196Z"
   },
   {
    "duration": 45,
    "start_time": "2022-03-22T06:26:13.234Z"
   },
   {
    "duration": 33,
    "start_time": "2022-03-22T06:26:13.282Z"
   },
   {
    "duration": 76,
    "start_time": "2022-03-22T06:26:13.317Z"
   },
   {
    "duration": 95,
    "start_time": "2022-03-22T06:26:13.395Z"
   },
   {
    "duration": 74,
    "start_time": "2022-03-22T06:26:13.493Z"
   },
   {
    "duration": 56,
    "start_time": "2022-03-22T06:26:13.570Z"
   },
   {
    "duration": 642,
    "start_time": "2022-03-22T06:29:54.920Z"
   },
   {
    "duration": 26,
    "start_time": "2022-03-22T06:29:55.565Z"
   },
   {
    "duration": 33,
    "start_time": "2022-03-22T06:29:55.593Z"
   },
   {
    "duration": 43,
    "start_time": "2022-03-22T06:29:55.630Z"
   },
   {
    "duration": 21,
    "start_time": "2022-03-22T06:29:55.677Z"
   },
   {
    "duration": 10,
    "start_time": "2022-03-22T06:29:55.701Z"
   },
   {
    "duration": 57,
    "start_time": "2022-03-22T06:29:55.713Z"
   },
   {
    "duration": 10,
    "start_time": "2022-03-22T06:29:55.773Z"
   },
   {
    "duration": 13,
    "start_time": "2022-03-22T06:29:55.786Z"
   },
   {
    "duration": 11,
    "start_time": "2022-03-22T06:29:55.804Z"
   },
   {
    "duration": 53,
    "start_time": "2022-03-22T06:29:55.818Z"
   },
   {
    "duration": 14,
    "start_time": "2022-03-22T06:29:55.873Z"
   },
   {
    "duration": 12,
    "start_time": "2022-03-22T06:29:55.889Z"
   },
   {
    "duration": 15,
    "start_time": "2022-03-22T06:29:55.904Z"
   },
   {
    "duration": 51,
    "start_time": "2022-03-22T06:29:55.921Z"
   },
   {
    "duration": 12,
    "start_time": "2022-03-22T06:29:55.975Z"
   },
   {
    "duration": 9,
    "start_time": "2022-03-22T06:29:55.989Z"
   },
   {
    "duration": 15,
    "start_time": "2022-03-22T06:29:56.000Z"
   },
   {
    "duration": 9,
    "start_time": "2022-03-22T06:29:56.017Z"
   },
   {
    "duration": 52,
    "start_time": "2022-03-22T06:29:56.027Z"
   },
   {
    "duration": 28,
    "start_time": "2022-03-22T06:29:56.081Z"
   },
   {
    "duration": 13,
    "start_time": "2022-03-22T06:29:56.112Z"
   },
   {
    "duration": 6,
    "start_time": "2022-03-22T06:29:56.168Z"
   },
   {
    "duration": 14,
    "start_time": "2022-03-22T06:29:56.177Z"
   },
   {
    "duration": 9,
    "start_time": "2022-03-22T06:29:56.193Z"
   },
   {
    "duration": 10,
    "start_time": "2022-03-22T06:29:56.205Z"
   },
   {
    "duration": 57,
    "start_time": "2022-03-22T06:29:56.217Z"
   },
   {
    "duration": 31,
    "start_time": "2022-03-22T06:29:56.279Z"
   },
   {
    "duration": 83,
    "start_time": "2022-03-22T06:29:56.313Z"
   },
   {
    "duration": 4,
    "start_time": "2022-03-22T06:29:56.401Z"
   },
   {
    "duration": 24,
    "start_time": "2022-03-22T06:29:56.408Z"
   },
   {
    "duration": 44,
    "start_time": "2022-03-22T06:29:56.436Z"
   },
   {
    "duration": 27,
    "start_time": "2022-03-22T06:29:56.482Z"
   },
   {
    "duration": 22,
    "start_time": "2022-03-22T06:29:56.511Z"
   },
   {
    "duration": 25,
    "start_time": "2022-03-22T06:29:56.569Z"
   },
   {
    "duration": 31,
    "start_time": "2022-03-22T06:29:56.599Z"
   },
   {
    "duration": 93,
    "start_time": "2022-03-22T06:29:56.633Z"
   },
   {
    "duration": 121,
    "start_time": "2022-03-22T06:29:56.730Z"
   },
   {
    "duration": 57,
    "start_time": "2022-03-22T06:29:56.854Z"
   },
   {
    "duration": 75,
    "start_time": "2022-03-22T06:29:56.914Z"
   }
  ],
  "kernelspec": {
   "display_name": "Python 3 (ipykernel)",
   "language": "python",
   "name": "python3"
  },
  "language_info": {
   "codemirror_mode": {
    "name": "ipython",
    "version": 3
   },
   "file_extension": ".py",
   "mimetype": "text/x-python",
   "name": "python",
   "nbconvert_exporter": "python",
   "pygments_lexer": "ipython3",
   "version": "3.9.12"
  },
  "toc": {
   "base_numbering": 1,
   "nav_menu": {},
   "number_sections": true,
   "sideBar": true,
   "skip_h1_title": true,
   "title_cell": "Table of Contents",
   "title_sidebar": "Contents",
   "toc_cell": false,
   "toc_position": {},
   "toc_section_display": true,
   "toc_window_display": true
  }
 },
 "nbformat": 4,
 "nbformat_minor": 5
}
