{
 "cells": [
  {
   "cell_type": "markdown",
   "metadata": {},
   "source": [
    "# Исследование объявлений о продаже квартир\n",
    "\n",
    "В вашем распоряжении данные сервиса Яндекc Недвижимость — архив объявлений о продаже квартир в Санкт-Петербурге и соседних населённых пунктах за несколько лет. Нужно научиться определять рыночную стоимость объектов недвижимости. Ваша задача — установить параметры. Это позволит построить автоматизированную систему: она отследит аномалии и мошенническую деятельность. \n",
    "\n",
    "По каждой квартире на продажу доступны два вида данных. Первые вписаны пользователем, вторые получены автоматически на основе картографических данных. Например, расстояние до центра, аэропорта, ближайшего парка и водоёма. \n",
    "\n",
    "Описание данных\n",
    "* airports_nearest — расстояние до ближайшего аэропорта в метрах (м)\n",
    "* balcony — число балконов\n",
    "* ceiling_height — высота потолков (м)\n",
    "* cityCenters_nearest — расстояние до центра города (м)\n",
    "* days_exposition — сколько дней было размещено объявление (от публикации до снятия)\n",
    "* first_day_exposition — дата публикации\n",
    "* floor — этаж\n",
    "* floors_total — всего этажей в доме\n",
    "* is_apartment — апартаменты (булев тип)\n",
    "* kitchen_area — площадь кухни в квадратных метрах (м²)\n",
    "* last_price — цена на момент снятия с публикации\n",
    "* living_area — жилая площадь в квадратных метрах (м²)\n",
    "* locality_name — название населённого пункта\n",
    "* open_plan — свободная планировка (булев тип)\n",
    "* parks_around3000 — число парков в радиусе 3 км\n",
    "* parks_nearest — расстояние до ближайшего парка (м)\n",
    "* ponds_around3000 — число водоёмов в радиусе 3 км\n",
    "* ponds_nearest — расстояние до ближайшего водоёма (м)\n",
    "* rooms — число комнат\n",
    "* studio — квартира-студия (булев тип)\n",
    "* total_area — площадь квартиры в квадратных метрах (м²)\n",
    "* total_images — число фотографий квартиры в объявлении"
   ]
  },
  {
   "cell_type": "markdown",
   "metadata": {},
   "source": [
    "## Изучение данных из файла"
   ]
  },
  {
   "cell_type": "code",
   "execution_count": 1,
   "metadata": {},
   "outputs": [],
   "source": [
    "#импортируем библиотеки\n",
    "import pandas as pd\n",
    "import seaborn as sns \n",
    "import matplotlib.pyplot as plt"
   ]
  },
  {
   "cell_type": "code",
   "execution_count": 2,
   "metadata": {},
   "outputs": [],
   "source": [
    "import warnings\n",
    "warnings.filterwarnings(\"ignore\")"
   ]
  },
  {
   "cell_type": "code",
   "execution_count": 3,
   "metadata": {},
   "outputs": [
    {
     "data": {
      "text/html": [
       "<div>\n",
       "<style scoped>\n",
       "    .dataframe tbody tr th:only-of-type {\n",
       "        vertical-align: middle;\n",
       "    }\n",
       "\n",
       "    .dataframe tbody tr th {\n",
       "        vertical-align: top;\n",
       "    }\n",
       "\n",
       "    .dataframe thead th {\n",
       "        text-align: right;\n",
       "    }\n",
       "</style>\n",
       "<table border=\"1\" class=\"dataframe\">\n",
       "  <thead>\n",
       "    <tr style=\"text-align: right;\">\n",
       "      <th></th>\n",
       "      <th>total_images\\tlast_price\\ttotal_area\\tfirst_day_exposition\\trooms\\tceiling_height\\tfloors_total\\tliving_area\\tfloor\\tis_apartment\\tstudio\\topen_plan\\tkitchen_area\\tbalcony\\tlocality_name\\tairports_nearest\\tcityCenters_nearest\\tparks_around3000\\tparks_nearest\\tponds_around3000\\tponds_nearest\\tdays_exposition</th>\n",
       "    </tr>\n",
       "  </thead>\n",
       "  <tbody>\n",
       "    <tr>\n",
       "      <th>0</th>\n",
       "      <td>20\\t13000000.0\\t108.0\\t2019-03-07T00:00:00\\t3\\...</td>\n",
       "    </tr>\n",
       "    <tr>\n",
       "      <th>1</th>\n",
       "      <td>7\\t3350000.0\\t40.4\\t2018-12-04T00:00:00\\t1\\t\\t...</td>\n",
       "    </tr>\n",
       "    <tr>\n",
       "      <th>2</th>\n",
       "      <td>10\\t5196000.0\\t56.0\\t2015-08-20T00:00:00\\t2\\t\\...</td>\n",
       "    </tr>\n",
       "    <tr>\n",
       "      <th>3</th>\n",
       "      <td>0\\t64900000.0\\t159.0\\t2015-07-24T00:00:00\\t3\\t...</td>\n",
       "    </tr>\n",
       "    <tr>\n",
       "      <th>4</th>\n",
       "      <td>2\\t10000000.0\\t100.0\\t2018-06-19T00:00:00\\t2\\t...</td>\n",
       "    </tr>\n",
       "  </tbody>\n",
       "</table>\n",
       "</div>"
      ],
      "text/plain": [
       "  total_images\\tlast_price\\ttotal_area\\tfirst_day_exposition\\trooms\\tceiling_height\\tfloors_total\\tliving_area\\tfloor\\tis_apartment\\tstudio\\topen_plan\\tkitchen_area\\tbalcony\\tlocality_name\\tairports_nearest\\tcityCenters_nearest\\tparks_around3000\\tparks_nearest\\tponds_around3000\\tponds_nearest\\tdays_exposition\n",
       "0  20\\t13000000.0\\t108.0\\t2019-03-07T00:00:00\\t3\\...                                                                                                                                                                                                                                                                  \n",
       "1  7\\t3350000.0\\t40.4\\t2018-12-04T00:00:00\\t1\\t\\t...                                                                                                                                                                                                                                                                  \n",
       "2  10\\t5196000.0\\t56.0\\t2015-08-20T00:00:00\\t2\\t\\...                                                                                                                                                                                                                                                                  \n",
       "3  0\\t64900000.0\\t159.0\\t2015-07-24T00:00:00\\t3\\t...                                                                                                                                                                                                                                                                  \n",
       "4  2\\t10000000.0\\t100.0\\t2018-06-19T00:00:00\\t2\\t...                                                                                                                                                                                                                                                                  "
      ]
     },
     "execution_count": 3,
     "metadata": {},
     "output_type": "execute_result"
    }
   ],
   "source": [
    "#откроем файл\n",
    "try:\n",
    "\n",
    "    df = pd.read_csv('/datasets/real_estate_data.csv')\n",
    "except:\n",
    "    df = pd.read_csv('https://code.s3.yandex.net/datasets/real_estate_data.csv')\n",
    "#взглянем на данные\n",
    "df.head()"
   ]
  },
  {
   "cell_type": "markdown",
   "metadata": {},
   "source": [
    "Видим, что столбцы разделены '\\t', укажем сепаратор"
   ]
  },
  {
   "cell_type": "code",
   "execution_count": 4,
   "metadata": {},
   "outputs": [
    {
     "data": {
      "text/html": [
       "<div>\n",
       "<style scoped>\n",
       "    .dataframe tbody tr th:only-of-type {\n",
       "        vertical-align: middle;\n",
       "    }\n",
       "\n",
       "    .dataframe tbody tr th {\n",
       "        vertical-align: top;\n",
       "    }\n",
       "\n",
       "    .dataframe thead th {\n",
       "        text-align: right;\n",
       "    }\n",
       "</style>\n",
       "<table border=\"1\" class=\"dataframe\">\n",
       "  <thead>\n",
       "    <tr style=\"text-align: right;\">\n",
       "      <th></th>\n",
       "      <th>total_images</th>\n",
       "      <th>last_price</th>\n",
       "      <th>total_area</th>\n",
       "      <th>first_day_exposition</th>\n",
       "      <th>rooms</th>\n",
       "      <th>ceiling_height</th>\n",
       "      <th>floors_total</th>\n",
       "      <th>living_area</th>\n",
       "      <th>floor</th>\n",
       "      <th>is_apartment</th>\n",
       "      <th>studio</th>\n",
       "      <th>open_plan</th>\n",
       "      <th>kitchen_area</th>\n",
       "      <th>balcony</th>\n",
       "      <th>locality_name</th>\n",
       "      <th>airports_nearest</th>\n",
       "      <th>cityCenters_nearest</th>\n",
       "      <th>parks_around3000</th>\n",
       "      <th>parks_nearest</th>\n",
       "      <th>ponds_around3000</th>\n",
       "      <th>ponds_nearest</th>\n",
       "      <th>days_exposition</th>\n",
       "    </tr>\n",
       "  </thead>\n",
       "  <tbody>\n",
       "    <tr>\n",
       "      <th>0</th>\n",
       "      <td>20</td>\n",
       "      <td>13000000.0</td>\n",
       "      <td>108.00</td>\n",
       "      <td>2019-03-07T00:00:00</td>\n",
       "      <td>3</td>\n",
       "      <td>2.70</td>\n",
       "      <td>16.0</td>\n",
       "      <td>51.00</td>\n",
       "      <td>8</td>\n",
       "      <td>NaN</td>\n",
       "      <td>False</td>\n",
       "      <td>False</td>\n",
       "      <td>25.00</td>\n",
       "      <td>NaN</td>\n",
       "      <td>Санкт-Петербург</td>\n",
       "      <td>18863.0</td>\n",
       "      <td>16028.0</td>\n",
       "      <td>1.0</td>\n",
       "      <td>482.0</td>\n",
       "      <td>2.0</td>\n",
       "      <td>755.0</td>\n",
       "      <td>NaN</td>\n",
       "    </tr>\n",
       "    <tr>\n",
       "      <th>1</th>\n",
       "      <td>7</td>\n",
       "      <td>3350000.0</td>\n",
       "      <td>40.40</td>\n",
       "      <td>2018-12-04T00:00:00</td>\n",
       "      <td>1</td>\n",
       "      <td>NaN</td>\n",
       "      <td>11.0</td>\n",
       "      <td>18.60</td>\n",
       "      <td>1</td>\n",
       "      <td>NaN</td>\n",
       "      <td>False</td>\n",
       "      <td>False</td>\n",
       "      <td>11.00</td>\n",
       "      <td>2.0</td>\n",
       "      <td>посёлок Шушары</td>\n",
       "      <td>12817.0</td>\n",
       "      <td>18603.0</td>\n",
       "      <td>0.0</td>\n",
       "      <td>NaN</td>\n",
       "      <td>0.0</td>\n",
       "      <td>NaN</td>\n",
       "      <td>81.0</td>\n",
       "    </tr>\n",
       "    <tr>\n",
       "      <th>2</th>\n",
       "      <td>10</td>\n",
       "      <td>5196000.0</td>\n",
       "      <td>56.00</td>\n",
       "      <td>2015-08-20T00:00:00</td>\n",
       "      <td>2</td>\n",
       "      <td>NaN</td>\n",
       "      <td>5.0</td>\n",
       "      <td>34.30</td>\n",
       "      <td>4</td>\n",
       "      <td>NaN</td>\n",
       "      <td>False</td>\n",
       "      <td>False</td>\n",
       "      <td>8.30</td>\n",
       "      <td>0.0</td>\n",
       "      <td>Санкт-Петербург</td>\n",
       "      <td>21741.0</td>\n",
       "      <td>13933.0</td>\n",
       "      <td>1.0</td>\n",
       "      <td>90.0</td>\n",
       "      <td>2.0</td>\n",
       "      <td>574.0</td>\n",
       "      <td>558.0</td>\n",
       "    </tr>\n",
       "    <tr>\n",
       "      <th>3</th>\n",
       "      <td>0</td>\n",
       "      <td>64900000.0</td>\n",
       "      <td>159.00</td>\n",
       "      <td>2015-07-24T00:00:00</td>\n",
       "      <td>3</td>\n",
       "      <td>NaN</td>\n",
       "      <td>14.0</td>\n",
       "      <td>NaN</td>\n",
       "      <td>9</td>\n",
       "      <td>NaN</td>\n",
       "      <td>False</td>\n",
       "      <td>False</td>\n",
       "      <td>NaN</td>\n",
       "      <td>0.0</td>\n",
       "      <td>Санкт-Петербург</td>\n",
       "      <td>28098.0</td>\n",
       "      <td>6800.0</td>\n",
       "      <td>2.0</td>\n",
       "      <td>84.0</td>\n",
       "      <td>3.0</td>\n",
       "      <td>234.0</td>\n",
       "      <td>424.0</td>\n",
       "    </tr>\n",
       "    <tr>\n",
       "      <th>4</th>\n",
       "      <td>2</td>\n",
       "      <td>10000000.0</td>\n",
       "      <td>100.00</td>\n",
       "      <td>2018-06-19T00:00:00</td>\n",
       "      <td>2</td>\n",
       "      <td>3.03</td>\n",
       "      <td>14.0</td>\n",
       "      <td>32.00</td>\n",
       "      <td>13</td>\n",
       "      <td>NaN</td>\n",
       "      <td>False</td>\n",
       "      <td>False</td>\n",
       "      <td>41.00</td>\n",
       "      <td>NaN</td>\n",
       "      <td>Санкт-Петербург</td>\n",
       "      <td>31856.0</td>\n",
       "      <td>8098.0</td>\n",
       "      <td>2.0</td>\n",
       "      <td>112.0</td>\n",
       "      <td>1.0</td>\n",
       "      <td>48.0</td>\n",
       "      <td>121.0</td>\n",
       "    </tr>\n",
       "    <tr>\n",
       "      <th>5</th>\n",
       "      <td>10</td>\n",
       "      <td>2890000.0</td>\n",
       "      <td>30.40</td>\n",
       "      <td>2018-09-10T00:00:00</td>\n",
       "      <td>1</td>\n",
       "      <td>NaN</td>\n",
       "      <td>12.0</td>\n",
       "      <td>14.40</td>\n",
       "      <td>5</td>\n",
       "      <td>NaN</td>\n",
       "      <td>False</td>\n",
       "      <td>False</td>\n",
       "      <td>9.10</td>\n",
       "      <td>NaN</td>\n",
       "      <td>городской посёлок Янино-1</td>\n",
       "      <td>NaN</td>\n",
       "      <td>NaN</td>\n",
       "      <td>NaN</td>\n",
       "      <td>NaN</td>\n",
       "      <td>NaN</td>\n",
       "      <td>NaN</td>\n",
       "      <td>55.0</td>\n",
       "    </tr>\n",
       "    <tr>\n",
       "      <th>6</th>\n",
       "      <td>6</td>\n",
       "      <td>3700000.0</td>\n",
       "      <td>37.30</td>\n",
       "      <td>2017-11-02T00:00:00</td>\n",
       "      <td>1</td>\n",
       "      <td>NaN</td>\n",
       "      <td>26.0</td>\n",
       "      <td>10.60</td>\n",
       "      <td>6</td>\n",
       "      <td>NaN</td>\n",
       "      <td>False</td>\n",
       "      <td>False</td>\n",
       "      <td>14.40</td>\n",
       "      <td>1.0</td>\n",
       "      <td>посёлок Парголово</td>\n",
       "      <td>52996.0</td>\n",
       "      <td>19143.0</td>\n",
       "      <td>0.0</td>\n",
       "      <td>NaN</td>\n",
       "      <td>0.0</td>\n",
       "      <td>NaN</td>\n",
       "      <td>155.0</td>\n",
       "    </tr>\n",
       "    <tr>\n",
       "      <th>7</th>\n",
       "      <td>5</td>\n",
       "      <td>7915000.0</td>\n",
       "      <td>71.60</td>\n",
       "      <td>2019-04-18T00:00:00</td>\n",
       "      <td>2</td>\n",
       "      <td>NaN</td>\n",
       "      <td>24.0</td>\n",
       "      <td>NaN</td>\n",
       "      <td>22</td>\n",
       "      <td>NaN</td>\n",
       "      <td>False</td>\n",
       "      <td>False</td>\n",
       "      <td>18.90</td>\n",
       "      <td>2.0</td>\n",
       "      <td>Санкт-Петербург</td>\n",
       "      <td>23982.0</td>\n",
       "      <td>11634.0</td>\n",
       "      <td>0.0</td>\n",
       "      <td>NaN</td>\n",
       "      <td>0.0</td>\n",
       "      <td>NaN</td>\n",
       "      <td>NaN</td>\n",
       "    </tr>\n",
       "    <tr>\n",
       "      <th>8</th>\n",
       "      <td>20</td>\n",
       "      <td>2900000.0</td>\n",
       "      <td>33.16</td>\n",
       "      <td>2018-05-23T00:00:00</td>\n",
       "      <td>1</td>\n",
       "      <td>NaN</td>\n",
       "      <td>27.0</td>\n",
       "      <td>15.43</td>\n",
       "      <td>26</td>\n",
       "      <td>NaN</td>\n",
       "      <td>False</td>\n",
       "      <td>False</td>\n",
       "      <td>8.81</td>\n",
       "      <td>NaN</td>\n",
       "      <td>посёлок Мурино</td>\n",
       "      <td>NaN</td>\n",
       "      <td>NaN</td>\n",
       "      <td>NaN</td>\n",
       "      <td>NaN</td>\n",
       "      <td>NaN</td>\n",
       "      <td>NaN</td>\n",
       "      <td>189.0</td>\n",
       "    </tr>\n",
       "    <tr>\n",
       "      <th>9</th>\n",
       "      <td>18</td>\n",
       "      <td>5400000.0</td>\n",
       "      <td>61.00</td>\n",
       "      <td>2017-02-26T00:00:00</td>\n",
       "      <td>3</td>\n",
       "      <td>2.50</td>\n",
       "      <td>9.0</td>\n",
       "      <td>43.60</td>\n",
       "      <td>7</td>\n",
       "      <td>NaN</td>\n",
       "      <td>False</td>\n",
       "      <td>False</td>\n",
       "      <td>6.50</td>\n",
       "      <td>2.0</td>\n",
       "      <td>Санкт-Петербург</td>\n",
       "      <td>50898.0</td>\n",
       "      <td>15008.0</td>\n",
       "      <td>0.0</td>\n",
       "      <td>NaN</td>\n",
       "      <td>0.0</td>\n",
       "      <td>NaN</td>\n",
       "      <td>289.0</td>\n",
       "    </tr>\n",
       "  </tbody>\n",
       "</table>\n",
       "</div>"
      ],
      "text/plain": [
       "   total_images  last_price  total_area first_day_exposition  rooms  \\\n",
       "0            20  13000000.0      108.00  2019-03-07T00:00:00      3   \n",
       "1             7   3350000.0       40.40  2018-12-04T00:00:00      1   \n",
       "2            10   5196000.0       56.00  2015-08-20T00:00:00      2   \n",
       "3             0  64900000.0      159.00  2015-07-24T00:00:00      3   \n",
       "4             2  10000000.0      100.00  2018-06-19T00:00:00      2   \n",
       "5            10   2890000.0       30.40  2018-09-10T00:00:00      1   \n",
       "6             6   3700000.0       37.30  2017-11-02T00:00:00      1   \n",
       "7             5   7915000.0       71.60  2019-04-18T00:00:00      2   \n",
       "8            20   2900000.0       33.16  2018-05-23T00:00:00      1   \n",
       "9            18   5400000.0       61.00  2017-02-26T00:00:00      3   \n",
       "\n",
       "   ceiling_height  floors_total  living_area  floor is_apartment  studio  \\\n",
       "0            2.70          16.0        51.00      8          NaN   False   \n",
       "1             NaN          11.0        18.60      1          NaN   False   \n",
       "2             NaN           5.0        34.30      4          NaN   False   \n",
       "3             NaN          14.0          NaN      9          NaN   False   \n",
       "4            3.03          14.0        32.00     13          NaN   False   \n",
       "5             NaN          12.0        14.40      5          NaN   False   \n",
       "6             NaN          26.0        10.60      6          NaN   False   \n",
       "7             NaN          24.0          NaN     22          NaN   False   \n",
       "8             NaN          27.0        15.43     26          NaN   False   \n",
       "9            2.50           9.0        43.60      7          NaN   False   \n",
       "\n",
       "   open_plan  kitchen_area  balcony              locality_name  \\\n",
       "0      False         25.00      NaN            Санкт-Петербург   \n",
       "1      False         11.00      2.0             посёлок Шушары   \n",
       "2      False          8.30      0.0            Санкт-Петербург   \n",
       "3      False           NaN      0.0            Санкт-Петербург   \n",
       "4      False         41.00      NaN            Санкт-Петербург   \n",
       "5      False          9.10      NaN  городской посёлок Янино-1   \n",
       "6      False         14.40      1.0          посёлок Парголово   \n",
       "7      False         18.90      2.0            Санкт-Петербург   \n",
       "8      False          8.81      NaN             посёлок Мурино   \n",
       "9      False          6.50      2.0            Санкт-Петербург   \n",
       "\n",
       "   airports_nearest  cityCenters_nearest  parks_around3000  parks_nearest  \\\n",
       "0           18863.0              16028.0               1.0          482.0   \n",
       "1           12817.0              18603.0               0.0            NaN   \n",
       "2           21741.0              13933.0               1.0           90.0   \n",
       "3           28098.0               6800.0               2.0           84.0   \n",
       "4           31856.0               8098.0               2.0          112.0   \n",
       "5               NaN                  NaN               NaN            NaN   \n",
       "6           52996.0              19143.0               0.0            NaN   \n",
       "7           23982.0              11634.0               0.0            NaN   \n",
       "8               NaN                  NaN               NaN            NaN   \n",
       "9           50898.0              15008.0               0.0            NaN   \n",
       "\n",
       "   ponds_around3000  ponds_nearest  days_exposition  \n",
       "0               2.0          755.0              NaN  \n",
       "1               0.0            NaN             81.0  \n",
       "2               2.0          574.0            558.0  \n",
       "3               3.0          234.0            424.0  \n",
       "4               1.0           48.0            121.0  \n",
       "5               NaN            NaN             55.0  \n",
       "6               0.0            NaN            155.0  \n",
       "7               0.0            NaN              NaN  \n",
       "8               NaN            NaN            189.0  \n",
       "9               0.0            NaN            289.0  "
      ]
     },
     "execution_count": 4,
     "metadata": {},
     "output_type": "execute_result"
    }
   ],
   "source": [
    "df = pd.read_csv('https://code.s3.yandex.net/datasets/real_estate_data.csv', sep='\\t')\n",
    "#\n",
    "pd.set_option('display.max_columns', 50) \n",
    "df.head(10)"
   ]
  },
  {
   "cell_type": "code",
   "execution_count": 5,
   "metadata": {
    "scrolled": true
   },
   "outputs": [
    {
     "data": {
      "text/html": [
       "<div>\n",
       "<style scoped>\n",
       "    .dataframe tbody tr th:only-of-type {\n",
       "        vertical-align: middle;\n",
       "    }\n",
       "\n",
       "    .dataframe tbody tr th {\n",
       "        vertical-align: top;\n",
       "    }\n",
       "\n",
       "    .dataframe thead th {\n",
       "        text-align: right;\n",
       "    }\n",
       "</style>\n",
       "<table border=\"1\" class=\"dataframe\">\n",
       "  <thead>\n",
       "    <tr style=\"text-align: right;\">\n",
       "      <th></th>\n",
       "      <th>total_images</th>\n",
       "      <th>last_price</th>\n",
       "      <th>total_area</th>\n",
       "      <th>rooms</th>\n",
       "      <th>ceiling_height</th>\n",
       "      <th>floors_total</th>\n",
       "      <th>living_area</th>\n",
       "      <th>floor</th>\n",
       "      <th>kitchen_area</th>\n",
       "      <th>balcony</th>\n",
       "      <th>airports_nearest</th>\n",
       "      <th>cityCenters_nearest</th>\n",
       "      <th>parks_around3000</th>\n",
       "      <th>parks_nearest</th>\n",
       "      <th>ponds_around3000</th>\n",
       "      <th>ponds_nearest</th>\n",
       "      <th>days_exposition</th>\n",
       "    </tr>\n",
       "  </thead>\n",
       "  <tbody>\n",
       "    <tr>\n",
       "      <th>count</th>\n",
       "      <td>23699.000000</td>\n",
       "      <td>2.369900e+04</td>\n",
       "      <td>23699.000000</td>\n",
       "      <td>23699.000000</td>\n",
       "      <td>14504.000000</td>\n",
       "      <td>23613.000000</td>\n",
       "      <td>21796.000000</td>\n",
       "      <td>23699.000000</td>\n",
       "      <td>21421.000000</td>\n",
       "      <td>12180.000000</td>\n",
       "      <td>18157.000000</td>\n",
       "      <td>18180.000000</td>\n",
       "      <td>18181.000000</td>\n",
       "      <td>8079.000000</td>\n",
       "      <td>18181.000000</td>\n",
       "      <td>9110.000000</td>\n",
       "      <td>20518.000000</td>\n",
       "    </tr>\n",
       "    <tr>\n",
       "      <th>mean</th>\n",
       "      <td>9.858475</td>\n",
       "      <td>6.541549e+06</td>\n",
       "      <td>60.348651</td>\n",
       "      <td>2.070636</td>\n",
       "      <td>2.771499</td>\n",
       "      <td>10.673824</td>\n",
       "      <td>34.457852</td>\n",
       "      <td>5.892358</td>\n",
       "      <td>10.569807</td>\n",
       "      <td>1.150082</td>\n",
       "      <td>28793.672193</td>\n",
       "      <td>14191.277833</td>\n",
       "      <td>0.611408</td>\n",
       "      <td>490.804555</td>\n",
       "      <td>0.770255</td>\n",
       "      <td>517.980900</td>\n",
       "      <td>180.888634</td>\n",
       "    </tr>\n",
       "    <tr>\n",
       "      <th>std</th>\n",
       "      <td>5.682529</td>\n",
       "      <td>1.088701e+07</td>\n",
       "      <td>35.654083</td>\n",
       "      <td>1.078405</td>\n",
       "      <td>1.261056</td>\n",
       "      <td>6.597173</td>\n",
       "      <td>22.030445</td>\n",
       "      <td>4.885249</td>\n",
       "      <td>5.905438</td>\n",
       "      <td>1.071300</td>\n",
       "      <td>12630.880622</td>\n",
       "      <td>8608.386210</td>\n",
       "      <td>0.802074</td>\n",
       "      <td>342.317995</td>\n",
       "      <td>0.938346</td>\n",
       "      <td>277.720643</td>\n",
       "      <td>219.727988</td>\n",
       "    </tr>\n",
       "    <tr>\n",
       "      <th>min</th>\n",
       "      <td>0.000000</td>\n",
       "      <td>1.219000e+04</td>\n",
       "      <td>12.000000</td>\n",
       "      <td>0.000000</td>\n",
       "      <td>1.000000</td>\n",
       "      <td>1.000000</td>\n",
       "      <td>2.000000</td>\n",
       "      <td>1.000000</td>\n",
       "      <td>1.300000</td>\n",
       "      <td>0.000000</td>\n",
       "      <td>0.000000</td>\n",
       "      <td>181.000000</td>\n",
       "      <td>0.000000</td>\n",
       "      <td>1.000000</td>\n",
       "      <td>0.000000</td>\n",
       "      <td>13.000000</td>\n",
       "      <td>1.000000</td>\n",
       "    </tr>\n",
       "    <tr>\n",
       "      <th>25%</th>\n",
       "      <td>6.000000</td>\n",
       "      <td>3.400000e+06</td>\n",
       "      <td>40.000000</td>\n",
       "      <td>1.000000</td>\n",
       "      <td>2.520000</td>\n",
       "      <td>5.000000</td>\n",
       "      <td>18.600000</td>\n",
       "      <td>2.000000</td>\n",
       "      <td>7.000000</td>\n",
       "      <td>0.000000</td>\n",
       "      <td>18585.000000</td>\n",
       "      <td>9238.000000</td>\n",
       "      <td>0.000000</td>\n",
       "      <td>288.000000</td>\n",
       "      <td>0.000000</td>\n",
       "      <td>294.000000</td>\n",
       "      <td>45.000000</td>\n",
       "    </tr>\n",
       "    <tr>\n",
       "      <th>50%</th>\n",
       "      <td>9.000000</td>\n",
       "      <td>4.650000e+06</td>\n",
       "      <td>52.000000</td>\n",
       "      <td>2.000000</td>\n",
       "      <td>2.650000</td>\n",
       "      <td>9.000000</td>\n",
       "      <td>30.000000</td>\n",
       "      <td>4.000000</td>\n",
       "      <td>9.100000</td>\n",
       "      <td>1.000000</td>\n",
       "      <td>26726.000000</td>\n",
       "      <td>13098.500000</td>\n",
       "      <td>0.000000</td>\n",
       "      <td>455.000000</td>\n",
       "      <td>1.000000</td>\n",
       "      <td>502.000000</td>\n",
       "      <td>95.000000</td>\n",
       "    </tr>\n",
       "    <tr>\n",
       "      <th>75%</th>\n",
       "      <td>14.000000</td>\n",
       "      <td>6.800000e+06</td>\n",
       "      <td>69.900000</td>\n",
       "      <td>3.000000</td>\n",
       "      <td>2.800000</td>\n",
       "      <td>16.000000</td>\n",
       "      <td>42.300000</td>\n",
       "      <td>8.000000</td>\n",
       "      <td>12.000000</td>\n",
       "      <td>2.000000</td>\n",
       "      <td>37273.000000</td>\n",
       "      <td>16293.000000</td>\n",
       "      <td>1.000000</td>\n",
       "      <td>612.000000</td>\n",
       "      <td>1.000000</td>\n",
       "      <td>729.000000</td>\n",
       "      <td>232.000000</td>\n",
       "    </tr>\n",
       "    <tr>\n",
       "      <th>max</th>\n",
       "      <td>50.000000</td>\n",
       "      <td>7.630000e+08</td>\n",
       "      <td>900.000000</td>\n",
       "      <td>19.000000</td>\n",
       "      <td>100.000000</td>\n",
       "      <td>60.000000</td>\n",
       "      <td>409.700000</td>\n",
       "      <td>33.000000</td>\n",
       "      <td>112.000000</td>\n",
       "      <td>5.000000</td>\n",
       "      <td>84869.000000</td>\n",
       "      <td>65968.000000</td>\n",
       "      <td>3.000000</td>\n",
       "      <td>3190.000000</td>\n",
       "      <td>3.000000</td>\n",
       "      <td>1344.000000</td>\n",
       "      <td>1580.000000</td>\n",
       "    </tr>\n",
       "  </tbody>\n",
       "</table>\n",
       "</div>"
      ],
      "text/plain": [
       "       total_images    last_price    total_area         rooms  ceiling_height  \\\n",
       "count  23699.000000  2.369900e+04  23699.000000  23699.000000    14504.000000   \n",
       "mean       9.858475  6.541549e+06     60.348651      2.070636        2.771499   \n",
       "std        5.682529  1.088701e+07     35.654083      1.078405        1.261056   \n",
       "min        0.000000  1.219000e+04     12.000000      0.000000        1.000000   \n",
       "25%        6.000000  3.400000e+06     40.000000      1.000000        2.520000   \n",
       "50%        9.000000  4.650000e+06     52.000000      2.000000        2.650000   \n",
       "75%       14.000000  6.800000e+06     69.900000      3.000000        2.800000   \n",
       "max       50.000000  7.630000e+08    900.000000     19.000000      100.000000   \n",
       "\n",
       "       floors_total   living_area         floor  kitchen_area       balcony  \\\n",
       "count  23613.000000  21796.000000  23699.000000  21421.000000  12180.000000   \n",
       "mean      10.673824     34.457852      5.892358     10.569807      1.150082   \n",
       "std        6.597173     22.030445      4.885249      5.905438      1.071300   \n",
       "min        1.000000      2.000000      1.000000      1.300000      0.000000   \n",
       "25%        5.000000     18.600000      2.000000      7.000000      0.000000   \n",
       "50%        9.000000     30.000000      4.000000      9.100000      1.000000   \n",
       "75%       16.000000     42.300000      8.000000     12.000000      2.000000   \n",
       "max       60.000000    409.700000     33.000000    112.000000      5.000000   \n",
       "\n",
       "       airports_nearest  cityCenters_nearest  parks_around3000  parks_nearest  \\\n",
       "count      18157.000000         18180.000000      18181.000000    8079.000000   \n",
       "mean       28793.672193         14191.277833          0.611408     490.804555   \n",
       "std        12630.880622          8608.386210          0.802074     342.317995   \n",
       "min            0.000000           181.000000          0.000000       1.000000   \n",
       "25%        18585.000000          9238.000000          0.000000     288.000000   \n",
       "50%        26726.000000         13098.500000          0.000000     455.000000   \n",
       "75%        37273.000000         16293.000000          1.000000     612.000000   \n",
       "max        84869.000000         65968.000000          3.000000    3190.000000   \n",
       "\n",
       "       ponds_around3000  ponds_nearest  days_exposition  \n",
       "count      18181.000000    9110.000000     20518.000000  \n",
       "mean           0.770255     517.980900       180.888634  \n",
       "std            0.938346     277.720643       219.727988  \n",
       "min            0.000000      13.000000         1.000000  \n",
       "25%            0.000000     294.000000        45.000000  \n",
       "50%            1.000000     502.000000        95.000000  \n",
       "75%            1.000000     729.000000       232.000000  \n",
       "max            3.000000    1344.000000      1580.000000  "
      ]
     },
     "execution_count": 5,
     "metadata": {},
     "output_type": "execute_result"
    }
   ],
   "source": [
    "#посмотрим значения\n",
    "df.describe()"
   ]
  },
  {
   "cell_type": "code",
   "execution_count": 6,
   "metadata": {
    "scrolled": false
   },
   "outputs": [
    {
     "name": "stdout",
     "output_type": "stream",
     "text": [
      "<class 'pandas.core.frame.DataFrame'>\n",
      "RangeIndex: 23699 entries, 0 to 23698\n",
      "Data columns (total 22 columns):\n",
      " #   Column                Non-Null Count  Dtype  \n",
      "---  ------                --------------  -----  \n",
      " 0   total_images          23699 non-null  int64  \n",
      " 1   last_price            23699 non-null  float64\n",
      " 2   total_area            23699 non-null  float64\n",
      " 3   first_day_exposition  23699 non-null  object \n",
      " 4   rooms                 23699 non-null  int64  \n",
      " 5   ceiling_height        14504 non-null  float64\n",
      " 6   floors_total          23613 non-null  float64\n",
      " 7   living_area           21796 non-null  float64\n",
      " 8   floor                 23699 non-null  int64  \n",
      " 9   is_apartment          2775 non-null   object \n",
      " 10  studio                23699 non-null  bool   \n",
      " 11  open_plan             23699 non-null  bool   \n",
      " 12  kitchen_area          21421 non-null  float64\n",
      " 13  balcony               12180 non-null  float64\n",
      " 14  locality_name         23650 non-null  object \n",
      " 15  airports_nearest      18157 non-null  float64\n",
      " 16  cityCenters_nearest   18180 non-null  float64\n",
      " 17  parks_around3000      18181 non-null  float64\n",
      " 18  parks_nearest         8079 non-null   float64\n",
      " 19  ponds_around3000      18181 non-null  float64\n",
      " 20  ponds_nearest         9110 non-null   float64\n",
      " 21  days_exposition       20518 non-null  float64\n",
      "dtypes: bool(2), float64(14), int64(3), object(3)\n",
      "memory usage: 3.7+ MB\n"
     ]
    }
   ],
   "source": [
    "#посмотрим общую информацию о данных\n",
    "df.info()"
   ]
  },
  {
   "cell_type": "markdown",
   "metadata": {},
   "source": [
    "### Вывод"
   ]
  },
  {
   "cell_type": "markdown",
   "metadata": {},
   "source": [
    "Видим, что имеется большое количество пропусков, несоответствие типов данных."
   ]
  },
  {
   "cell_type": "markdown",
   "metadata": {},
   "source": [
    "## Предобработка данных"
   ]
  },
  {
   "cell_type": "markdown",
   "metadata": {},
   "source": [
    "### Изучаем данные на предмет пропусков и аномалий"
   ]
  },
  {
   "cell_type": "markdown",
   "metadata": {},
   "source": [
    "Пробежимся по каждому столбцу"
   ]
  },
  {
   "cell_type": "code",
   "execution_count": 7,
   "metadata": {
    "scrolled": true
   },
   "outputs": [
    {
     "data": {
      "text/plain": [
       "10    1798\n",
       "9     1725\n",
       "20    1694\n",
       "8     1585\n",
       "7     1521\n",
       "6     1482\n",
       "11    1362\n",
       "5     1301\n",
       "12    1225\n",
       "0     1059\n",
       "13    1015\n",
       "4      986\n",
       "14     986\n",
       "15     948\n",
       "1      872\n",
       "3      769\n",
       "16     761\n",
       "17     650\n",
       "18     642\n",
       "2      640\n",
       "19     603\n",
       "23      16\n",
       "21      12\n",
       "24       8\n",
       "22       8\n",
       "26       5\n",
       "32       4\n",
       "28       4\n",
       "50       3\n",
       "29       3\n",
       "27       2\n",
       "30       2\n",
       "35       2\n",
       "31       2\n",
       "42       1\n",
       "25       1\n",
       "39       1\n",
       "37       1\n",
       "Name: total_images, dtype: int64"
      ]
     },
     "execution_count": 7,
     "metadata": {},
     "output_type": "execute_result"
    }
   ],
   "source": [
    "df['total_images'].value_counts()"
   ]
  },
  {
   "cell_type": "markdown",
   "metadata": {},
   "source": [
    "'total_images'(количетство фотографий) - 1059 строк имеют значения \"0\" доля значительная. \n",
    "Возможная причина появления: отсутствие фотографий \n",
    "Решение: изменять не будем, т.к. не требуется в исследовании"
   ]
  },
  {
   "cell_type": "code",
   "execution_count": 8,
   "metadata": {},
   "outputs": [
    {
     "data": {
      "text/plain": [
       "4500000.0     342\n",
       "3500000.0     291\n",
       "4300000.0     260\n",
       "4000000.0     260\n",
       "4200000.0     259\n",
       "             ... \n",
       "12890000.0      1\n",
       "29375000.0      1\n",
       "7545600.0       1\n",
       "5205000.0       1\n",
       "11475000.0      1\n",
       "Name: last_price, Length: 2978, dtype: int64"
      ]
     },
     "execution_count": 8,
     "metadata": {},
     "output_type": "execute_result"
    }
   ],
   "source": [
    "df['last_price'].value_counts()"
   ]
  },
  {
   "cell_type": "code",
   "execution_count": 9,
   "metadata": {},
   "outputs": [
    {
     "data": {
      "text/plain": [
       "4500000.0     342\n",
       "3500000.0     291\n",
       "4300000.0     260\n",
       "4000000.0     260\n",
       "4200000.0     259\n",
       "             ... \n",
       "12890000.0      1\n",
       "29375000.0      1\n",
       "7545600.0       1\n",
       "5205000.0       1\n",
       "11475000.0      1\n",
       "Name: last_price, Length: 2978, dtype: int64"
      ]
     },
     "execution_count": 9,
     "metadata": {},
     "output_type": "execute_result"
    }
   ],
   "source": [
    "df['last_price'].value_counts()"
   ]
  },
  {
   "cell_type": "markdown",
   "metadata": {},
   "source": [
    "Видимых аномалий нет"
   ]
  },
  {
   "cell_type": "code",
   "execution_count": 10,
   "metadata": {},
   "outputs": [
    {
     "data": {
      "text/plain": [
       "45.00     419\n",
       "42.00     383\n",
       "60.00     347\n",
       "31.00     346\n",
       "44.00     345\n",
       "         ... \n",
       "184.40      1\n",
       "55.64       1\n",
       "56.16       1\n",
       "109.10      1\n",
       "76.75       1\n",
       "Name: total_area, Length: 2182, dtype: int64"
      ]
     },
     "execution_count": 10,
     "metadata": {},
     "output_type": "execute_result"
    }
   ],
   "source": [
    "df['total_area'].value_counts()"
   ]
  },
  {
   "cell_type": "markdown",
   "metadata": {},
   "source": [
    "Видимых аномалий нет"
   ]
  },
  {
   "cell_type": "code",
   "execution_count": 11,
   "metadata": {},
   "outputs": [
    {
     "data": {
      "text/plain": [
       "2018-02-01T00:00:00    368\n",
       "2017-11-10T00:00:00    240\n",
       "2017-10-13T00:00:00    124\n",
       "2017-09-27T00:00:00    111\n",
       "2018-03-26T00:00:00     97\n",
       "                      ... \n",
       "2018-05-20T00:00:00      1\n",
       "2015-05-15T00:00:00      1\n",
       "2015-01-12T00:00:00      1\n",
       "2015-12-19T00:00:00      1\n",
       "2015-07-19T00:00:00      1\n",
       "Name: first_day_exposition, Length: 1491, dtype: int64"
      ]
     },
     "execution_count": 11,
     "metadata": {},
     "output_type": "execute_result"
    }
   ],
   "source": [
    "df['first_day_exposition'].value_counts()"
   ]
  },
  {
   "cell_type": "markdown",
   "metadata": {},
   "source": [
    "Видимых аномалий нет. Отбросим время"
   ]
  },
  {
   "cell_type": "code",
   "execution_count": 12,
   "metadata": {},
   "outputs": [
    {
     "data": {
      "text/plain": [
       "1     8047\n",
       "2     7940\n",
       "3     5814\n",
       "4     1180\n",
       "5      326\n",
       "0      197\n",
       "6      105\n",
       "7       59\n",
       "8       12\n",
       "9        8\n",
       "10       3\n",
       "11       2\n",
       "14       2\n",
       "15       1\n",
       "19       1\n",
       "16       1\n",
       "12       1\n",
       "Name: rooms, dtype: int64"
      ]
     },
     "execution_count": 12,
     "metadata": {},
     "output_type": "execute_result"
    }
   ],
   "source": [
    "df['rooms'].value_counts()"
   ]
  },
  {
   "cell_type": "markdown",
   "metadata": {},
   "source": [
    "'rooms'(количество комнт) - 197 строк имеют значение '0', доля от всего столбца незначительная. \n",
    "Возможная причина появления: отсутствие информации.\n",
    "Решение: скорректировань данные на 1, т.к. квартира не может быть без одной комнаты"
   ]
  },
  {
   "cell_type": "code",
   "execution_count": 13,
   "metadata": {},
   "outputs": [
    {
     "data": {
      "text/plain": [
       "2.50    3515\n",
       "2.60    1646\n",
       "2.70    1574\n",
       "3.00    1112\n",
       "2.80     993\n",
       "        ... \n",
       "5.00       1\n",
       "2.20       1\n",
       "2.34       1\n",
       "3.93       1\n",
       "3.59       1\n",
       "Name: ceiling_height, Length: 183, dtype: int64"
      ]
     },
     "execution_count": 13,
     "metadata": {},
     "output_type": "execute_result"
    }
   ],
   "source": [
    "df['ceiling_height'].value_counts()"
   ]
  },
  {
   "cell_type": "markdown",
   "metadata": {},
   "source": [
    "'ceiling_height'(высота потолков) - имеются пропуски, доля значительная.\n",
    "Возможная причина появления пропусков: отсутствие информации, т.е. никто не мерил высоту.\n",
    "Решение: восстанавливать значения путем поиска значений в таком же доме"
   ]
  },
  {
   "cell_type": "code",
   "execution_count": 14,
   "metadata": {},
   "outputs": [
    {
     "data": {
      "text/plain": [
       "5.0     5788\n",
       "9.0     3761\n",
       "16.0    1376\n",
       "12.0    1362\n",
       "4.0     1200\n",
       "10.0    1174\n",
       "25.0    1075\n",
       "6.0      914\n",
       "17.0     833\n",
       "3.0      668\n",
       "7.0      592\n",
       "14.0     553\n",
       "18.0     505\n",
       "24.0     469\n",
       "8.0      390\n",
       "2.0      383\n",
       "15.0     365\n",
       "23.0     352\n",
       "19.0     339\n",
       "22.0     286\n",
       "20.0     271\n",
       "13.0     229\n",
       "11.0     203\n",
       "27.0     164\n",
       "21.0     158\n",
       "26.0     124\n",
       "1.0       25\n",
       "35.0      24\n",
       "28.0      21\n",
       "36.0       3\n",
       "34.0       1\n",
       "60.0       1\n",
       "29.0       1\n",
       "33.0       1\n",
       "52.0       1\n",
       "37.0       1\n",
       "Name: floors_total, dtype: int64"
      ]
     },
     "execution_count": 14,
     "metadata": {},
     "output_type": "execute_result"
    }
   ],
   "source": [
    "df['floors_total'].value_counts()"
   ]
  },
  {
   "cell_type": "markdown",
   "metadata": {},
   "source": [
    "'floors_total'(всего этажей) - имеется незначительное количество пропусков, доля незначительная; имеются недостоверные значения(например, 60, 52, 37 этажи и т.д.), доля незначительная. Для справки: средняя этажность домов в СПБ - 24 этажа\n",
    "Возможная причина появления пропусков: отсутствие информации\n",
    "Возможная причина появление недостоверных данных: опечатка\n",
    "Решение: заполним пропуски в соответствии с этажностью дома, название столбца привести к 'total_floors'"
   ]
  },
  {
   "cell_type": "code",
   "execution_count": 15,
   "metadata": {},
   "outputs": [
    {
     "data": {
      "text/plain": [
       "18.00     882\n",
       "17.00     675\n",
       "30.00     598\n",
       "16.00     486\n",
       "20.00     481\n",
       "         ... \n",
       "76.70       1\n",
       "39.41       1\n",
       "124.90      1\n",
       "36.07       1\n",
       "42.55       1\n",
       "Name: living_area, Length: 1782, dtype: int64"
      ]
     },
     "execution_count": 15,
     "metadata": {},
     "output_type": "execute_result"
    }
   ],
   "source": [
    "df['living_area'].value_counts()"
   ]
  },
  {
   "cell_type": "markdown",
   "metadata": {},
   "source": [
    "'living_area'(жилая площадь) - имеются пропуски, доля значительная\n",
    "Возможная причина появления пропусков: отсутствие информации\n",
    "Решение: восстановление данных\n"
   ]
  },
  {
   "cell_type": "code",
   "execution_count": 16,
   "metadata": {},
   "outputs": [
    {
     "data": {
      "text/plain": [
       "2     3368\n",
       "3     3073\n",
       "1     2917\n",
       "4     2804\n",
       "5     2621\n",
       "6     1305\n",
       "7     1218\n",
       "8     1083\n",
       "9     1051\n",
       "10     687\n",
       "12     526\n",
       "11     523\n",
       "13     379\n",
       "15     343\n",
       "14     337\n",
       "16     315\n",
       "17     227\n",
       "18     178\n",
       "19     147\n",
       "21     125\n",
       "22     113\n",
       "20     110\n",
       "23     100\n",
       "24      63\n",
       "25      46\n",
       "26      24\n",
       "27      10\n",
       "28       1\n",
       "30       1\n",
       "29       1\n",
       "32       1\n",
       "33       1\n",
       "31       1\n",
       "Name: floor, dtype: int64"
      ]
     },
     "execution_count": 16,
     "metadata": {},
     "output_type": "execute_result"
    }
   ],
   "source": [
    "df['floor'].value_counts()"
   ]
  },
  {
   "cell_type": "markdown",
   "metadata": {},
   "source": [
    "Видимых аномалий нет"
   ]
  },
  {
   "cell_type": "code",
   "execution_count": 17,
   "metadata": {},
   "outputs": [
    {
     "data": {
      "text/plain": [
       "False    2725\n",
       "True       50\n",
       "Name: is_apartment, dtype: int64"
      ]
     },
     "execution_count": 17,
     "metadata": {},
     "output_type": "execute_result"
    }
   ],
   "source": [
    "df['is_apartment'].value_counts()"
   ]
  },
  {
   "cell_type": "markdown",
   "metadata": {},
   "source": [
    "'is_apartment'(жилье является аппартаментами?) - имеются пропуски, доля значительная.\n",
    "Возможная причина появления пропусков: поле не было заполнено.\n",
    "Решение: пропуски заменить на False, т.к. колечество аппартаментов в городах очень низкое"
   ]
  },
  {
   "cell_type": "code",
   "execution_count": 18,
   "metadata": {},
   "outputs": [
    {
     "data": {
      "text/plain": [
       "False    23550\n",
       "True       149\n",
       "Name: studio, dtype: int64"
      ]
     },
     "execution_count": 18,
     "metadata": {},
     "output_type": "execute_result"
    }
   ],
   "source": [
    "df['studio'].value_counts()"
   ]
  },
  {
   "cell_type": "markdown",
   "metadata": {},
   "source": [
    "Видимых аномалий нет"
   ]
  },
  {
   "cell_type": "code",
   "execution_count": 19,
   "metadata": {},
   "outputs": [
    {
     "data": {
      "text/plain": [
       "False    23632\n",
       "True        67\n",
       "Name: open_plan, dtype: int64"
      ]
     },
     "execution_count": 19,
     "metadata": {},
     "output_type": "execute_result"
    }
   ],
   "source": [
    "df['open_plan'].value_counts()"
   ]
  },
  {
   "cell_type": "markdown",
   "metadata": {},
   "source": [
    "Видимых аномалий нет"
   ]
  },
  {
   "cell_type": "code",
   "execution_count": 20,
   "metadata": {},
   "outputs": [
    {
     "data": {
      "text/plain": [
       "6.00     1300\n",
       "10.00    1262\n",
       "8.00     1110\n",
       "9.00     1101\n",
       "7.00     1062\n",
       "         ... \n",
       "53.10       1\n",
       "12.56       1\n",
       "11.84       1\n",
       "13.27       1\n",
       "13.83       1\n",
       "Name: kitchen_area, Length: 971, dtype: int64"
      ]
     },
     "execution_count": 20,
     "metadata": {},
     "output_type": "execute_result"
    }
   ],
   "source": [
    "df['kitchen_area'].value_counts()"
   ]
  },
  {
   "cell_type": "markdown",
   "metadata": {},
   "source": [
    "'kitchen_area'(площадь кухни) - имеются пропуски, доля значительная\n",
    "Возможная причина появления пропусков: отсутствие информации\n",
    "Решение восстановить данные"
   ]
  },
  {
   "cell_type": "code",
   "execution_count": 21,
   "metadata": {},
   "outputs": [
    {
     "data": {
      "text/plain": [
       "1.0    4195\n",
       "0.0    3758\n",
       "2.0    3659\n",
       "5.0     304\n",
       "4.0     183\n",
       "3.0      81\n",
       "Name: balcony, dtype: int64"
      ]
     },
     "execution_count": 21,
     "metadata": {},
     "output_type": "execute_result"
    }
   ],
   "source": [
    "df['balcony'].value_counts()"
   ]
  },
  {
   "cell_type": "markdown",
   "metadata": {},
   "source": [
    "'balcony' - имеются пропуски, доля значительная.\n",
    "Возможная причина появления пропусков: пропуск - отсутствие балкона\n",
    "Решение: заполнить пропускы нулями"
   ]
  },
  {
   "cell_type": "code",
   "execution_count": 22,
   "metadata": {},
   "outputs": [
    {
     "data": {
      "text/plain": [
       "Санкт-Петербург                    15721\n",
       "посёлок Мурино                       522\n",
       "посёлок Шушары                       440\n",
       "Всеволожск                           398\n",
       "Пушкин                               369\n",
       "                                   ...  \n",
       "поселок Каложицы                       1\n",
       "посёлок Платформа 69-й километр        1\n",
       "поселок Почап                          1\n",
       "поселок Гончарово                      1\n",
       "посёлок Дзержинского                   1\n",
       "Name: locality_name, Length: 364, dtype: int64"
      ]
     },
     "execution_count": 22,
     "metadata": {},
     "output_type": "execute_result"
    }
   ],
   "source": [
    "df['locality_name'].value_counts()"
   ]
  },
  {
   "cell_type": "markdown",
   "metadata": {},
   "source": [
    "'locality_name'(населенный пункт) - имеются пропуски, доля незначительная.\n",
    "Возможная причина появления пропусков: отсутствие информации\n",
    "Решение: удалить пропуски"
   ]
  },
  {
   "cell_type": "code",
   "execution_count": 23,
   "metadata": {},
   "outputs": [
    {
     "data": {
      "text/plain": [
       "37434.0    61\n",
       "21928.0    32\n",
       "44870.0    30\n",
       "39946.0    30\n",
       "18732.0    27\n",
       "           ..\n",
       "32366.0     1\n",
       "13024.0     1\n",
       "52394.0     1\n",
       "20007.0     1\n",
       "24665.0     1\n",
       "Name: airports_nearest, Length: 8275, dtype: int64"
      ]
     },
     "execution_count": 23,
     "metadata": {},
     "output_type": "execute_result"
    }
   ],
   "source": [
    "df['airports_nearest'].value_counts()"
   ]
  },
  {
   "cell_type": "markdown",
   "metadata": {},
   "source": [
    "'airports_nearest'(удаленность от аэропорта) - имеются пропуски, доля значительная.\n",
    "Возможная причина появления пропусков: отсутствие информации\n",
    "Решение: не трогать, т.к. этот параметр не рассматривается в исследовании"
   ]
  },
  {
   "cell_type": "code",
   "execution_count": 24,
   "metadata": {},
   "outputs": [
    {
     "data": {
      "text/plain": [
       "8460.0     61\n",
       "20802.0    32\n",
       "10720.0    30\n",
       "20444.0    27\n",
       "8434.0     27\n",
       "           ..\n",
       "16631.0     1\n",
       "24311.0     1\n",
       "15782.0     1\n",
       "11940.0     1\n",
       "6263.0      1\n",
       "Name: cityCenters_nearest, Length: 7642, dtype: int64"
      ]
     },
     "execution_count": 24,
     "metadata": {},
     "output_type": "execute_result"
    }
   ],
   "source": [
    "df['cityCenters_nearest'].value_counts()"
   ]
  },
  {
   "cell_type": "markdown",
   "metadata": {},
   "source": [
    "'cityCenters_nearest' (удаленность от центра) - имеются пропуски, доля значительная; название столбца требует корректировки.\n",
    "Возможная причина появления пропусков: отсутствие информации\n",
    "Решение: заполнить пропуски "
   ]
  },
  {
   "cell_type": "code",
   "execution_count": 25,
   "metadata": {},
   "outputs": [
    {
     "data": {
      "text/plain": [
       "0.0    10106\n",
       "1.0     5681\n",
       "2.0     1747\n",
       "3.0      647\n",
       "Name: parks_around3000, dtype: int64"
      ]
     },
     "execution_count": 25,
     "metadata": {},
     "output_type": "execute_result"
    }
   ],
   "source": [
    "df['parks_around3000'].value_counts()"
   ]
  },
  {
   "cell_type": "markdown",
   "metadata": {},
   "source": [
    "'parks_around3000'(количество парков в радиусе 3км) - имеются пропусик, доля значительная.\n",
    "Возможная причина появления пропусков: отсутствие информации\n",
    "Решение: пропуски не заполнять, т.к. не участвует в исследовании"
   ]
  },
  {
   "cell_type": "code",
   "execution_count": 26,
   "metadata": {},
   "outputs": [
    {
     "data": {
      "text/plain": [
       "441.0     67\n",
       "173.0     41\n",
       "392.0     41\n",
       "456.0     40\n",
       "471.0     32\n",
       "          ..\n",
       "3.0        1\n",
       "2847.0     1\n",
       "1443.0     1\n",
       "7.0        1\n",
       "2984.0     1\n",
       "Name: parks_nearest, Length: 995, dtype: int64"
      ]
     },
     "execution_count": 26,
     "metadata": {},
     "output_type": "execute_result"
    }
   ],
   "source": [
    "df['parks_nearest'].value_counts()"
   ]
  },
  {
   "cell_type": "markdown",
   "metadata": {},
   "source": [
    "'parks_nearest' (удаленность от парка) - имеются пропуски, доля значительная.\n",
    "Возможная причина появления пропусков: отсутствие информации.\n",
    "Решение: пропуски не заполнять, т.к. не участвует в исследовании"
   ]
  },
  {
   "cell_type": "code",
   "execution_count": 27,
   "metadata": {},
   "outputs": [
    {
     "data": {
      "text/plain": [
       "0.0    9071\n",
       "1.0    5717\n",
       "2.0    1892\n",
       "3.0    1501\n",
       "Name: ponds_around3000, dtype: int64"
      ]
     },
     "execution_count": 27,
     "metadata": {},
     "output_type": "execute_result"
    }
   ],
   "source": [
    "df['ponds_around3000'].value_counts()"
   ]
  },
  {
   "cell_type": "markdown",
   "metadata": {},
   "source": [
    "'ponds_around3000'(количество водоемов в радиусе 3км) - имеются пропуски, доля значительная.\n",
    "Возможная причина появления пропусков: отсутствие информации\n",
    "Решение: пропуски не заполнять,т.к. не участсвует в исследовании"
   ]
  },
  {
   "cell_type": "code",
   "execution_count": 28,
   "metadata": {},
   "outputs": [
    {
     "data": {
      "text/plain": [
       "427.0     70\n",
       "454.0     41\n",
       "153.0     40\n",
       "433.0     39\n",
       "474.0     37\n",
       "          ..\n",
       "150.0      1\n",
       "967.0      1\n",
       "131.0      1\n",
       "1164.0     1\n",
       "1134.0     1\n",
       "Name: ponds_nearest, Length: 1096, dtype: int64"
      ]
     },
     "execution_count": 28,
     "metadata": {},
     "output_type": "execute_result"
    }
   ],
   "source": [
    "df['ponds_nearest'].value_counts()"
   ]
  },
  {
   "cell_type": "markdown",
   "metadata": {},
   "source": [
    "'ponds_nearest'(удаленность от водоема) - имеются пропуски, доля значительная.\n",
    "Возможная причина появления пропусков: отсутствие информации\n",
    "Решение: пропуски не заполнять, т.к. не участсвует в исследовании"
   ]
  },
  {
   "cell_type": "code",
   "execution_count": 29,
   "metadata": {},
   "outputs": [
    {
     "data": {
      "text/plain": [
       "45.0      880\n",
       "60.0      538\n",
       "7.0       234\n",
       "30.0      208\n",
       "90.0      204\n",
       "         ... \n",
       "1021.0      1\n",
       "1362.0      1\n",
       "1105.0      1\n",
       "795.0       1\n",
       "971.0       1\n",
       "Name: days_exposition, Length: 1141, dtype: int64"
      ]
     },
     "execution_count": 29,
     "metadata": {},
     "output_type": "execute_result"
    }
   ],
   "source": [
    "df['days_exposition'].value_counts()"
   ]
  },
  {
   "cell_type": "markdown",
   "metadata": {},
   "source": [
    "'days_exposition'(количество дней объявлению) - имеются пропуски, доля значительная.\n",
    "Возможная причина появления пропусков: отсутствие информации\n",
    "Решение: заполнить пропуски медианным значением, т.к. медиана не учитывает \"всплески\" данных."
   ]
  },
  {
   "cell_type": "markdown",
   "metadata": {},
   "source": [
    "### Заполняем пропуски, приводим данные к нужным типам"
   ]
  },
  {
   "cell_type": "code",
   "execution_count": 30,
   "metadata": {},
   "outputs": [
    {
     "data": {
      "text/plain": [
       "0        13000000\n",
       "1         3350000\n",
       "2         5196000\n",
       "3        64900000\n",
       "4        10000000\n",
       "           ...   \n",
       "23694     9700000\n",
       "23695     3100000\n",
       "23696     2500000\n",
       "23697    11475000\n",
       "23698     1350000\n",
       "Name: last_price, Length: 23699, dtype: int32"
      ]
     },
     "execution_count": 30,
     "metadata": {},
     "output_type": "execute_result"
    }
   ],
   "source": [
    "#изменим цену на тип int для удобства просмотра\n",
    "df['last_price'] = df['last_price'].astype('int')\n",
    "#проверим\n",
    "df['last_price']"
   ]
  },
  {
   "cell_type": "code",
   "execution_count": 31,
   "metadata": {},
   "outputs": [],
   "source": [
    "#переведем столбец с датой в формат даты без времени, т.к. время не указано\n",
    "df['first_day_exposition'] = pd.to_datetime(df['first_day_exposition'], format = '%Y-%m-%d')"
   ]
  },
  {
   "cell_type": "code",
   "execution_count": 32,
   "metadata": {},
   "outputs": [
    {
     "data": {
      "text/plain": [
       "0"
      ]
     },
     "metadata": {},
     "output_type": "display_data"
    },
    {
     "data": {
      "text/plain": [
       "array([ 3,  1,  2,  4,  5,  6,  7, 11,  8, 14, 10, 15,  9, 19, 16, 12],\n",
       "      dtype=int64)"
      ]
     },
     "execution_count": 32,
     "metadata": {},
     "output_type": "execute_result"
    }
   ],
   "source": [
    "df['rooms'] = df['rooms'].fillna(1) #заменим пропуски на 1\n",
    "df.loc[df['rooms'] == 0, 'rooms'] = 1 #заменим 0 на 1\n",
    "#проверим\n",
    "display(df['rooms'].isna().sum())\n",
    "df['rooms'].unique()"
   ]
  },
  {
   "cell_type": "code",
   "execution_count": 33,
   "metadata": {},
   "outputs": [
    {
     "data": {
      "text/html": [
       "<div>\n",
       "<style scoped>\n",
       "    .dataframe tbody tr th:only-of-type {\n",
       "        vertical-align: middle;\n",
       "    }\n",
       "\n",
       "    .dataframe tbody tr th {\n",
       "        vertical-align: top;\n",
       "    }\n",
       "\n",
       "    .dataframe thead th {\n",
       "        text-align: right;\n",
       "    }\n",
       "</style>\n",
       "<table border=\"1\" class=\"dataframe\">\n",
       "  <thead>\n",
       "    <tr style=\"text-align: right;\">\n",
       "      <th></th>\n",
       "      <th>median</th>\n",
       "      <th>count</th>\n",
       "    </tr>\n",
       "    <tr>\n",
       "      <th>floors_total</th>\n",
       "      <th></th>\n",
       "      <th></th>\n",
       "    </tr>\n",
       "  </thead>\n",
       "  <tbody>\n",
       "    <tr>\n",
       "      <th>1.0</th>\n",
       "      <td>2.80</td>\n",
       "      <td>10</td>\n",
       "    </tr>\n",
       "    <tr>\n",
       "      <th>2.0</th>\n",
       "      <td>2.70</td>\n",
       "      <td>215</td>\n",
       "    </tr>\n",
       "    <tr>\n",
       "      <th>3.0</th>\n",
       "      <td>2.80</td>\n",
       "      <td>399</td>\n",
       "    </tr>\n",
       "    <tr>\n",
       "      <th>4.0</th>\n",
       "      <td>3.00</td>\n",
       "      <td>789</td>\n",
       "    </tr>\n",
       "    <tr>\n",
       "      <th>5.0</th>\n",
       "      <td>2.55</td>\n",
       "      <td>3666</td>\n",
       "    </tr>\n",
       "  </tbody>\n",
       "</table>\n",
       "</div>"
      ],
      "text/plain": [
       "              median  count\n",
       "floors_total               \n",
       "1.0             2.80     10\n",
       "2.0             2.70    215\n",
       "3.0             2.80    399\n",
       "4.0             3.00    789\n",
       "5.0             2.55   3666"
      ]
     },
     "metadata": {},
     "output_type": "display_data"
    }
   ],
   "source": [
    "#заполним пропуски в столбце ceiling_height\n",
    "#сгруппируем данные\n",
    "ceiling_medians = df.pivot_table(index='floors_total', values='ceiling_height', aggfunc=['median', 'count'])\n",
    "ceiling_medians.columns = ['median', 'count']\n",
    "display(ceiling_medians.head())"
   ]
  },
  {
   "cell_type": "code",
   "execution_count": 34,
   "metadata": {},
   "outputs": [
    {
     "data": {
      "text/plain": [
       "0"
      ]
     },
     "execution_count": 34,
     "metadata": {},
     "output_type": "execute_result"
    }
   ],
   "source": [
    "#заменяем значения высоты потолков на общую медиану для отсутствующих значений этажности дома\n",
    "for floor in ceiling_medians.index:\n",
    "    df.loc[(df['floors_total'].isna()) | \n",
    "             ((df['floors_total'] == floor) & (ceiling_medians.loc[floor, 'count'] == 0)), \n",
    "             'ceiling_height'] = df['ceiling_height'].describe()[5]\n",
    "\n",
    "# медианы из сгруппированной таблицы вставляем на места пропущенных значений высоты потолков для дома соответствующей этажности\n",
    "for floor in ceiling_medians.index:\n",
    "    df.loc[(df['ceiling_height'].isna()) & \n",
    "             (df['floors_total'] == floor), \n",
    "             'ceiling_height'] = ceiling_medians.loc[floor, 'median']\n",
    "\n",
    "# посчитаем количество пропущенных значений после проделанной замены\n",
    "df['ceiling_height'].isna().sum()"
   ]
  },
  {
   "cell_type": "code",
   "execution_count": 35,
   "metadata": {},
   "outputs": [
    {
     "data": {
      "text/plain": [
       "0"
      ]
     },
     "execution_count": 35,
     "metadata": {},
     "output_type": "execute_result"
    }
   ],
   "source": [
    "#пропущенных значений очень мало, удалим\n",
    "df = df.dropna(subset=['floors_total'])\n",
    "#проверим\n",
    "df['floors_total'].isna().sum()"
   ]
  },
  {
   "cell_type": "code",
   "execution_count": 36,
   "metadata": {},
   "outputs": [
    {
     "data": {
      "text/plain": [
       "0        51.0\n",
       "1        18.6\n",
       "2        34.3\n",
       "3         NaN\n",
       "4        32.0\n",
       "         ... \n",
       "23694    73.3\n",
       "23695    38.0\n",
       "23696    29.7\n",
       "23697     NaN\n",
       "23698    12.3\n",
       "Name: living_area, Length: 23613, dtype: float64"
      ]
     },
     "execution_count": 36,
     "metadata": {},
     "output_type": "execute_result"
    }
   ],
   "source": [
    "#living_area слишком много знаков после запятой и есть пропущенные значения, \n",
    "#да, пропусков много, но заполнить их не представляется возможным,\n",
    "#т.к. в каждом доме даже на одном этаже площадь квартир разная\n",
    "#оставим как есть, ео удалим лишние знаки после запятой\n",
    "df['living_area'].round(2)"
   ]
  },
  {
   "cell_type": "code",
   "execution_count": 37,
   "metadata": {},
   "outputs": [
    {
     "data": {
      "text/plain": [
       "0         8\n",
       "1         1\n",
       "2         4\n",
       "3         9\n",
       "4        13\n",
       "         ..\n",
       "23694     3\n",
       "23695     4\n",
       "23696     1\n",
       "23697    12\n",
       "23698     1\n",
       "Name: floor, Length: 23613, dtype: int64"
      ]
     },
     "execution_count": 37,
     "metadata": {},
     "output_type": "execute_result"
    }
   ],
   "source": [
    "#floor округлим до целого числа, т.к. этаж не может быть дробным числом,\n",
    "df['floor'].round()"
   ]
  },
  {
   "cell_type": "code",
   "execution_count": 38,
   "metadata": {},
   "outputs": [
    {
     "data": {
      "text/plain": [
       "0"
      ]
     },
     "execution_count": 38,
     "metadata": {},
     "output_type": "execute_result"
    }
   ],
   "source": [
    "#столбец апартаменты видимо появился не вместе с началом ведения записей, все пропущенные значения заменим на False, \n",
    "#апартаменты появились относительно недавно\n",
    "df['is_apartment'] = df['is_apartment'].fillna(False)\n",
    "df['is_apartment'].isna().sum()"
   ]
  },
  {
   "cell_type": "code",
   "execution_count": 39,
   "metadata": {},
   "outputs": [],
   "source": [
    "#kitchen_area тоже трогать не будем, т.к. площадь кухни жильцами может быть скорректирована\n",
    "#не будем придумывать площадь кухонь, будем работать с тем, что есть"
   ]
  },
  {
   "cell_type": "code",
   "execution_count": 40,
   "metadata": {},
   "outputs": [
    {
     "data": {
      "text/plain": [
       "0"
      ]
     },
     "execution_count": 40,
     "metadata": {},
     "output_type": "execute_result"
    }
   ],
   "source": [
    "#balcony много пропусков, будем считать, что пропуск это отсутствие балкона\n",
    "df['balcony'] = df['balcony'].fillna(0)\n",
    "df['balcony'] = df['balcony'].astype('int')\n",
    "#проверим\n",
    "df['balcony'].isna().sum()"
   ]
  },
  {
   "cell_type": "code",
   "execution_count": 41,
   "metadata": {},
   "outputs": [],
   "source": [
    "#locality_name имеются пропуски, оставим как есть с пропусками, т.к. даже не известно в каком регионе недвижимость"
   ]
  },
  {
   "cell_type": "code",
   "execution_count": 42,
   "metadata": {},
   "outputs": [],
   "source": [
    "#airports_nearest имеются пропуски, заполнять не будуем, т.к. не участвует в анализе"
   ]
  },
  {
   "cell_type": "code",
   "execution_count": 43,
   "metadata": {},
   "outputs": [],
   "source": [
    "#cityCenters_nearest имеются пропуски, скорретируем позже; скорректируем название столбца\n",
    "df = df.rename(columns={'cityCenters_nearest': 'city_centers_neares'})"
   ]
  },
  {
   "cell_type": "code",
   "execution_count": 44,
   "metadata": {},
   "outputs": [],
   "source": [
    "#parks_around3000 #airports_nearest имеются пропуски, заполнять не будуем, т.к. не участвует в анализе"
   ]
  },
  {
   "cell_type": "code",
   "execution_count": 45,
   "metadata": {},
   "outputs": [],
   "source": [
    "#parks_nearest имеются пропуски, заполнять не будуем, т.к. не участвует в анализе"
   ]
  },
  {
   "cell_type": "code",
   "execution_count": 46,
   "metadata": {},
   "outputs": [],
   "source": [
    "#ponds_around3000 имеются пропуски, заполнять не будуем, т.к. не участвует в анализе"
   ]
  },
  {
   "cell_type": "code",
   "execution_count": 47,
   "metadata": {},
   "outputs": [],
   "source": [
    "#ponds_nearest имеются пропуски, заполнять не будуем, т.к. не участвует в анализе"
   ]
  },
  {
   "cell_type": "code",
   "execution_count": 48,
   "metadata": {},
   "outputs": [
    {
     "data": {
      "text/plain": [
       "0"
      ]
     },
     "execution_count": 48,
     "metadata": {},
     "output_type": "execute_result"
    }
   ],
   "source": [
    "#заменим пропуски в days_exposition и заменим тип данных\n",
    "days_exposition_median = df['days_exposition'].median()\n",
    "df['days_exposition'] = df['days_exposition'].fillna(days_exposition_median).astype('int')\n",
    "df['days_exposition'].isna().sum()"
   ]
  },
  {
   "cell_type": "code",
   "execution_count": 49,
   "metadata": {},
   "outputs": [
    {
     "data": {
      "text/plain": [
       "0"
      ]
     },
     "execution_count": 49,
     "metadata": {},
     "output_type": "execute_result"
    }
   ],
   "source": [
    "#floors_total пропусков менее 1%, удалим\n",
    "df.dropna(subset=['floors_total'], inplace=True)\n",
    "#проверим\n",
    "df['floors_total'].isna().sum()"
   ]
  },
  {
   "cell_type": "markdown",
   "metadata": {},
   "source": [
    "### Вывод"
   ]
  },
  {
   "cell_type": "markdown",
   "metadata": {},
   "source": [
    "Достались довольно \"грязные данные\". Мы провели работу по предобработке данных, заполнив пропуски, где это было необходимо для дальнейшего анализа. Все пропуски не стали заполнять, т.к. в это не было необходимости (некоторые данные не участвуют в исследовании). "
   ]
  },
  {
   "cell_type": "markdown",
   "metadata": {},
   "source": [
    "## Расчёты и добавление результатов в таблицу"
   ]
  },
  {
   "cell_type": "markdown",
   "metadata": {},
   "source": [
    "### Цена квадратного метра"
   ]
  },
  {
   "cell_type": "code",
   "execution_count": 50,
   "metadata": {},
   "outputs": [
    {
     "data": {
      "text/plain": [
       "0        120370\n",
       "1         82920\n",
       "2         92785\n",
       "3        408176\n",
       "4        100000\n",
       "          ...  \n",
       "23694     72490\n",
       "23695     52542\n",
       "23696     44091\n",
       "23697    149511\n",
       "23698     41795\n",
       "Name: price_per_sqm, Length: 23613, dtype: int32"
      ]
     },
     "metadata": {},
     "output_type": "display_data"
    }
   ],
   "source": [
    "#цена квадратного метра считается как стоимость квартиры разделить на общую площадь;\n",
    "#переведем в целое число, т.к. с точность до копейки не требуется\n",
    "df['price_per_sqm'] = (df['last_price'] / df['total_area']).astype('int')\n",
    "#првоерим\n",
    "display(df['price_per_sqm'])"
   ]
  },
  {
   "cell_type": "markdown",
   "metadata": {},
   "source": [
    "### День недели, месяц и год публикации"
   ]
  },
  {
   "cell_type": "code",
   "execution_count": 51,
   "metadata": {},
   "outputs": [
    {
     "data": {
      "text/plain": [
       "0       2019-03-07\n",
       "1       2018-12-04\n",
       "2       2015-08-20\n",
       "3       2015-07-24\n",
       "4       2018-06-19\n",
       "           ...    \n",
       "23694   2017-03-21\n",
       "23695   2018-01-15\n",
       "23696   2018-02-11\n",
       "23697   2017-03-28\n",
       "23698   2017-07-21\n",
       "Name: first_day_exposition, Length: 23613, dtype: datetime64[ns]"
      ]
     },
     "metadata": {},
     "output_type": "display_data"
    },
    {
     "data": {
      "text/plain": [
       "0        3\n",
       "1        1\n",
       "2        3\n",
       "3        4\n",
       "4        1\n",
       "        ..\n",
       "23694    1\n",
       "23695    0\n",
       "23696    6\n",
       "23697    1\n",
       "23698    4\n",
       "Name: weekday, Length: 23613, dtype: int64"
      ]
     },
     "metadata": {},
     "output_type": "display_data"
    },
    {
     "data": {
      "text/plain": [
       "0         3\n",
       "1        12\n",
       "2         8\n",
       "3         7\n",
       "4         6\n",
       "         ..\n",
       "23694     3\n",
       "23695     1\n",
       "23696     2\n",
       "23697     3\n",
       "23698     7\n",
       "Name: month, Length: 23613, dtype: int64"
      ]
     },
     "metadata": {},
     "output_type": "display_data"
    },
    {
     "data": {
      "text/plain": [
       "0        2019\n",
       "1        2018\n",
       "2        2015\n",
       "3        2015\n",
       "4        2018\n",
       "         ... \n",
       "23694    2017\n",
       "23695    2018\n",
       "23696    2018\n",
       "23697    2017\n",
       "23698    2017\n",
       "Name: year, Length: 23613, dtype: int64"
      ]
     },
     "metadata": {},
     "output_type": "display_data"
    }
   ],
   "source": [
    "display(df['first_day_exposition'])\n",
    "#применим интсрумент pandas\n",
    "df['weekday'] = df['first_day_exposition'].dt.weekday\n",
    "df['month'] = df['first_day_exposition'].dt.month\n",
    "df['year'] = df['first_day_exposition'].dt.year\n",
    "#проверим\n",
    "display(df['weekday'], df['month'], df['year'])"
   ]
  },
  {
   "cell_type": "markdown",
   "metadata": {},
   "source": [
    "### Этаж квартиры (первый, последний, другой)"
   ]
  },
  {
   "cell_type": "code",
   "execution_count": 52,
   "metadata": {},
   "outputs": [
    {
     "data": {
      "text/plain": [
       "0        другой\n",
       "1        первый\n",
       "2        другой\n",
       "3        другой\n",
       "4        другой\n",
       "          ...  \n",
       "23694    другой\n",
       "23695    другой\n",
       "23696    первый\n",
       "23697    другой\n",
       "23698    первый\n",
       "Name: floor_category, Length: 23613, dtype: object"
      ]
     },
     "execution_count": 52,
     "metadata": {},
     "output_type": "execute_result"
    }
   ],
   "source": [
    "#скотегорезируем данные по этажам\n",
    "#напишем функцию, которая будет пробегаться по этамжам и относить к той или иной категории\n",
    "\n",
    "def func_floor(row):\n",
    "    if row['floor'] == 1:\n",
    "        return 'первый'\n",
    "    if row['floor'] == row['floors_total']:\n",
    "        return 'последний'\n",
    "    return 'другой'\n",
    "df['floor_category'] = df.apply(func_floor, axis=1)\n",
    "#проверим\n",
    "df['floor_category']"
   ]
  },
  {
   "cell_type": "markdown",
   "metadata": {},
   "source": [
    "### Отношение жилой и общей площади"
   ]
  },
  {
   "cell_type": "code",
   "execution_count": 53,
   "metadata": {},
   "outputs": [
    {
     "data": {
      "text/plain": [
       "0        0.47\n",
       "1        0.46\n",
       "2        0.61\n",
       "3         NaN\n",
       "4        0.32\n",
       "         ... \n",
       "23694    0.55\n",
       "23695    0.64\n",
       "23696    0.52\n",
       "23697     NaN\n",
       "23698    0.38\n",
       "Name: living_area_ratio, Length: 23613, dtype: float64"
      ]
     },
     "execution_count": 53,
     "metadata": {},
     "output_type": "execute_result"
    }
   ],
   "source": [
    "#соотношение, то есть деление одного на другое, округлим до 2-х знаков после запятой\n",
    "df['living_area_ratio'] = (df['living_area'] / df['total_area']).round(2)\n",
    "#проверим\n",
    "df['living_area_ratio']"
   ]
  },
  {
   "cell_type": "markdown",
   "metadata": {},
   "source": [
    "### Отношение площади кухни к общей"
   ]
  },
  {
   "cell_type": "code",
   "execution_count": 54,
   "metadata": {},
   "outputs": [
    {
     "data": {
      "text/plain": [
       "0        0.23\n",
       "1        0.27\n",
       "2        0.15\n",
       "3         NaN\n",
       "4        0.41\n",
       "         ... \n",
       "23694    0.10\n",
       "23695    0.14\n",
       "23696     NaN\n",
       "23697    0.30\n",
       "23698    0.28\n",
       "Name: kithcen_area_ratio, Length: 23613, dtype: float64"
      ]
     },
     "execution_count": 54,
     "metadata": {},
     "output_type": "execute_result"
    }
   ],
   "source": [
    "#соотношение, то есть деление одного на другое, округлим до 2-х знаков после запятой\n",
    "df['kithcen_area_ratio'] = (df['kitchen_area'] / df['total_area']).round(2)\n",
    "#проверим\n",
    "df['kithcen_area_ratio']"
   ]
  },
  {
   "cell_type": "markdown",
   "metadata": {},
   "source": [
    "## Исследовательский анализ данных"
   ]
  },
  {
   "cell_type": "markdown",
   "metadata": {},
   "source": [
    "Произвели расчет квадратного метра для оценки стоимости объектов; Разбили дату по году, месяцу, дню; создали категории для этажей; расчитали отношение жилой площади к общей; расчитали отношение площади кухни к общей. Все эти параметры нам понадобятся для дальнейшего исследования"
   ]
  },
  {
   "cell_type": "code",
   "execution_count": 55,
   "metadata": {},
   "outputs": [],
   "source": [
    "# функция, получающая на вход название признака, и возвращающая границы \"усов\"\n",
    "def det_whiskers(column):\n",
    "    stat = df[column].describe()\n",
    "    \n",
    "    # межквартирльный размах\n",
    "    iqr = stat[6] - stat[4]\n",
    "    \n",
    "    # левый и правый \"ус\"    \n",
    "    left_whisker = round(stat[4] - 1.5 * iqr, 2)\n",
    "    right_whisker = round(stat[6] + 1.5 * iqr, 2)\n",
    "\n",
    "    # левый \"ус\" не должен быть меньше минимального значения\n",
    "    if left_whisker < stat[3]: left_whisker = stat[3] \n",
    "        \n",
    "    # правый \"ус\" не должен быть больше максимального значения\n",
    "    if right_whisker > stat[7]: right_whisker = stat[7]\n",
    "        \n",
    "    return [left_whisker, right_whisker]"
   ]
  },
  {
   "cell_type": "markdown",
   "metadata": {},
   "source": [
    "### Изучение параметров: площадь, цена, число комнат, высота потолков"
   ]
  },
  {
   "cell_type": "code",
   "execution_count": 56,
   "metadata": {},
   "outputs": [
    {
     "data": {
      "text/plain": [
       "count    23613.000000\n",
       "mean        60.340678\n",
       "std         35.648988\n",
       "min         12.000000\n",
       "25%         40.000000\n",
       "50%         52.000000\n",
       "75%         69.800000\n",
       "max        900.000000\n",
       "Name: total_area, dtype: float64"
      ]
     },
     "execution_count": 56,
     "metadata": {},
     "output_type": "execute_result"
    }
   ],
   "source": [
    "#изучим указанные ранее параметры посредством гистограмм\n",
    "#сперва посмотрим размах данных\n",
    "df['total_area'].describe()"
   ]
  },
  {
   "cell_type": "code",
   "execution_count": 57,
   "metadata": {},
   "outputs": [
    {
     "data": {
      "image/png": "[encoded data removed]",
      "text/plain": [
       "<Figure size 432x288 with 1 Axes>"
      ]
     },
     "metadata": {
      "needs_background": "light"
     },
     "output_type": "display_data"
    }
   ],
   "source": [
    "#по размаху видно, что значения в третьем квартиле не более 69 м2, ограничим диаграмму 150 м2\n",
    "df.boxplot(column='total_area')\n",
    "plt.title('Диаграмма размаха')\n",
    "plt.ylim(0, 150)\n",
    "plt.show()"
   ]
  },
  {
   "cell_type": "code",
   "execution_count": 58,
   "metadata": {},
   "outputs": [
    {
     "data": {
      "image/png": "[encoded data removed]",
      "text/plain": [
       "<Figure size 432x288 with 1 Axes>"
      ]
     },
     "metadata": {
      "needs_background": "light"
     },
     "output_type": "display_data"
    }
   ],
   "source": [
    "#построим гистограмму для объектов по параметру площадь\n",
    "df['total_area'].hist(range=(0, 150))\n",
    "plt.title('Гистограмма общей площади')\n",
    "plt.xlabel('Общая площадь, кв.м')\n",
    "plt.show()"
   ]
  },
  {
   "cell_type": "code",
   "execution_count": 59,
   "metadata": {},
   "outputs": [
    {
     "data": {
      "text/plain": [
       "114.5"
      ]
     },
     "execution_count": 59,
     "metadata": {},
     "output_type": "execute_result"
    }
   ],
   "source": [
    "#прсчитаем \"порог\" \"средних\" занчений\n",
    "det_whiskers('total_area')[1]"
   ]
  },
  {
   "cell_type": "code",
   "execution_count": 60,
   "metadata": {},
   "outputs": [],
   "source": [
    "#создадим переменную с \"хорошими значениями\"\n",
    "#считаем, что можем отбрасить не более 5% от данных\n",
    "good_large_area_quant = df['total_area'].quantile(.95)\n",
    "good_large_area = df.query('total_area < @good_large_area_quant')"
   ]
  },
  {
   "cell_type": "code",
   "execution_count": 61,
   "metadata": {},
   "outputs": [
    {
     "data": {
      "text/plain": [
       "count    2.361300e+04\n",
       "mean     6.540555e+06\n",
       "std      1.090172e+07\n",
       "min      1.219000e+04\n",
       "25%      3.400000e+06\n",
       "50%      4.650000e+06\n",
       "75%      6.799000e+06\n",
       "max      7.630000e+08\n",
       "Name: last_price, dtype: float64"
      ]
     },
     "execution_count": 61,
     "metadata": {},
     "output_type": "execute_result"
    }
   ],
   "source": [
    "#изучим указанные ранее параметры посредством гистограмм\n",
    "#сперва посмотрим размах данных\n",
    "df['last_price'].describe()"
   ]
  },
  {
   "cell_type": "code",
   "execution_count": 62,
   "metadata": {},
   "outputs": [
    {
     "data": {
      "image/png": "[encoded data removed]",
      "text/plain": [
       "<Figure size 432x288 with 1 Axes>"
      ]
     },
     "metadata": {
      "needs_background": "light"
     },
     "output_type": "display_data"
    }
   ],
   "source": [
    "#построим диаграмму для объектов со стоимостью 1,0 млн до 15 млн \n",
    "df.boxplot(column='last_price',)\n",
    "plt.title('Диаграмма размаха')\n",
    "plt.ylim(1000000, 15000000)\n",
    "plt.show()"
   ]
  },
  {
   "cell_type": "code",
   "execution_count": 63,
   "metadata": {},
   "outputs": [
    {
     "data": {
      "image/png": "[encoded data removed]",
      "text/plain": [
       "<Figure size 432x288 with 1 Axes>"
      ]
     },
     "metadata": {
      "needs_background": "light"
     },
     "output_type": "display_data"
    }
   ],
   "source": [
    "#построим диаграмму для объектов со стоимостью 1,0 млн до 15 млн \n",
    "df['last_price'].hist(range=(1000000, 15000000))\n",
    "plt.title('Гистограмма стоимости')\n",
    "plt.xlabel('Стоимость')\n",
    "plt.show()"
   ]
  },
  {
   "cell_type": "code",
   "execution_count": 64,
   "metadata": {},
   "outputs": [
    {
     "data": {
      "text/plain": [
       "11897500.0"
      ]
     },
     "execution_count": 64,
     "metadata": {},
     "output_type": "execute_result"
    }
   ],
   "source": [
    "det_whiskers('last_price')[1]"
   ]
  },
  {
   "cell_type": "code",
   "execution_count": 65,
   "metadata": {},
   "outputs": [],
   "source": [
    "#создадим переменную с \"хорошими значениями\"\n",
    "#считаем, что можем отбрасить не более 5% от данных\n",
    "good_last_price_quant = df['last_price'].quantile(.95)\n",
    "good_price = df.query('last_price < @good_last_price_quant')"
   ]
  },
  {
   "cell_type": "code",
   "execution_count": 66,
   "metadata": {},
   "outputs": [
    {
     "data": {
      "text/plain": [
       "count    23613.000000\n",
       "mean         2.079363\n",
       "std          1.066311\n",
       "min          1.000000\n",
       "25%          1.000000\n",
       "50%          2.000000\n",
       "75%          3.000000\n",
       "max         19.000000\n",
       "Name: rooms, dtype: float64"
      ]
     },
     "execution_count": 66,
     "metadata": {},
     "output_type": "execute_result"
    }
   ],
   "source": [
    "#изучим указанные ранее параметры посредством гистограмм\n",
    "#сперва посмотрим размах данных\n",
    "df['rooms'].describe()"
   ]
  },
  {
   "cell_type": "code",
   "execution_count": 67,
   "metadata": {},
   "outputs": [
    {
     "data": {
      "image/png": "[encoded data removed]",
      "text/plain": [
       "<Figure size 432x288 with 1 Axes>"
      ]
     },
     "metadata": {
      "needs_background": "light"
     },
     "output_type": "display_data"
    }
   ],
   "source": [
    "#по размаху видно, что значения в третьем квартиле не более 3\n",
    "df.boxplot(column='rooms')\n",
    "plt.title('Диаграмма размаха')\n",
    "plt.ylim(0, 10)\n",
    "plt.show()"
   ]
  },
  {
   "cell_type": "code",
   "execution_count": 68,
   "metadata": {},
   "outputs": [
    {
     "data": {
      "image/png": "[encoded data removed]",
      "text/plain": [
       "<Figure size 432x288 with 1 Axes>"
      ]
     },
     "metadata": {
      "needs_background": "light"
     },
     "output_type": "display_data"
    }
   ],
   "source": [
    "#построим диаграмму для объектов с количеством комнат до 10 \n",
    "df['rooms'].hist(range=(0, 10))\n",
    "plt.title('Гистограмма количество комнат')\n",
    "plt.xlabel('количество комнат')\n",
    "plt.show()"
   ]
  },
  {
   "cell_type": "code",
   "execution_count": 69,
   "metadata": {},
   "outputs": [
    {
     "data": {
      "text/plain": [
       "6.0"
      ]
     },
     "execution_count": 69,
     "metadata": {},
     "output_type": "execute_result"
    }
   ],
   "source": [
    "det_whiskers('rooms')[1]"
   ]
  },
  {
   "cell_type": "code",
   "execution_count": 70,
   "metadata": {},
   "outputs": [],
   "source": [
    "#создадим переменную с \"хорошими значениями\"\n",
    "good_many_rooms = good_price.query('rooms < 6')"
   ]
  },
  {
   "cell_type": "code",
   "execution_count": 71,
   "metadata": {},
   "outputs": [
    {
     "data": {
      "text/plain": [
       "count    23613.000000\n",
       "mean         2.735913\n",
       "std          0.996070\n",
       "min          1.000000\n",
       "25%          2.550000\n",
       "50%          2.650000\n",
       "75%          2.750000\n",
       "max        100.000000\n",
       "Name: ceiling_height, dtype: float64"
      ]
     },
     "execution_count": 71,
     "metadata": {},
     "output_type": "execute_result"
    }
   ],
   "source": [
    "df['ceiling_height'].describe()"
   ]
  },
  {
   "cell_type": "code",
   "execution_count": 72,
   "metadata": {},
   "outputs": [
    {
     "data": {
      "image/png": "[encoded data removed]",
      "text/plain": [
       "<Figure size 432x288 with 1 Axes>"
      ]
     },
     "metadata": {
      "needs_background": "light"
     },
     "output_type": "display_data"
    }
   ],
   "source": [
    "#по размаху видно, что значения в третьем квартиле не более 3\n",
    "df.boxplot(column='ceiling_height')\n",
    "plt.title('Диаграмма размаха')\n",
    "plt.ylim(0, 4)\n",
    "plt.show()"
   ]
  },
  {
   "cell_type": "code",
   "execution_count": 73,
   "metadata": {},
   "outputs": [
    {
     "data": {
      "image/png": "[encoded data removed]",
      "text/plain": [
       "<Figure size 432x288 with 1 Axes>"
      ]
     },
     "metadata": {
      "needs_background": "light"
     },
     "output_type": "display_data"
    }
   ],
   "source": [
    "#построим диаграмму для объектов с высотой потолков от 2 до 5 м\n",
    "df['ceiling_height'].hist(range=(2, 5), bins=10)\n",
    "plt.title('Гистограмма высоты потолков')\n",
    "plt.xlabel('Высота потолков')\n",
    "plt.show()"
   ]
  },
  {
   "cell_type": "code",
   "execution_count": 74,
   "metadata": {},
   "outputs": [
    {
     "data": {
      "text/plain": [
       "3.05"
      ]
     },
     "metadata": {},
     "output_type": "display_data"
    },
    {
     "data": {
      "text/plain": [
       "2.25"
      ]
     },
     "metadata": {},
     "output_type": "display_data"
    }
   ],
   "source": [
    "display(det_whiskers('ceiling_height')[1])\n",
    "display(det_whiskers('ceiling_height')[0])"
   ]
  },
  {
   "cell_type": "code",
   "execution_count": 75,
   "metadata": {},
   "outputs": [],
   "source": [
    "#создадим переменную с \"хорошими значениями\"\n",
    "usual_ceiling = good_many_rooms.query('2.25 < ceiling_height < 3.05')"
   ]
  },
  {
   "cell_type": "code",
   "execution_count": 76,
   "metadata": {},
   "outputs": [
    {
     "data": {
      "text/plain": [
       "count    23613.000000\n",
       "mean       169.347690\n",
       "std        206.485173\n",
       "min          1.000000\n",
       "25%         45.000000\n",
       "50%         95.000000\n",
       "75%        199.000000\n",
       "max       1580.000000\n",
       "Name: days_exposition, dtype: float64"
      ]
     },
     "execution_count": 76,
     "metadata": {},
     "output_type": "execute_result"
    }
   ],
   "source": [
    "df['days_exposition'].describe()"
   ]
  },
  {
   "cell_type": "code",
   "execution_count": 77,
   "metadata": {},
   "outputs": [
    {
     "data": {
      "image/png": "[encoded data removed]",
      "text/plain": [
       "<Figure size 432x288 with 1 Axes>"
      ]
     },
     "metadata": {
      "needs_background": "light"
     },
     "output_type": "display_data"
    }
   ],
   "source": [
    "#по размаху видно, что значения в третьем квартиле не более 200 дней\n",
    "df.boxplot(column='days_exposition')\n",
    "plt.title('Диаграмма размаха')\n",
    "plt.ylim(0, 600)\n",
    "plt.show()"
   ]
  },
  {
   "cell_type": "code",
   "execution_count": 78,
   "metadata": {},
   "outputs": [
    {
     "data": {
      "image/png": "[encoded data removed]",
      "text/plain": [
       "<Figure size 432x288 with 1 Axes>"
      ]
     },
     "metadata": {
      "needs_background": "light"
     },
     "output_type": "display_data"
    }
   ],
   "source": [
    "#построим диаграмму для объектов, объявление которых весело не более 500 дней\n",
    "df['days_exposition'].hist()\n",
    "plt.title('Гистограмма количества дней')\n",
    "plt.xlabel('количество дней')\n",
    "plt.show()"
   ]
  },
  {
   "cell_type": "code",
   "execution_count": 79,
   "metadata": {},
   "outputs": [
    {
     "data": {
      "text/plain": [
       "430.0"
      ]
     },
     "execution_count": 79,
     "metadata": {},
     "output_type": "execute_result"
    }
   ],
   "source": [
    "det_whiskers('days_exposition')[1]"
   ]
  },
  {
   "cell_type": "code",
   "execution_count": 80,
   "metadata": {},
   "outputs": [],
   "source": [
    "#создадим переменную с \"хорошими значениями\"\n",
    "good_day = usual_ceiling.query('30 < days_exposition < 430')"
   ]
  },
  {
   "cell_type": "code",
   "execution_count": 81,
   "metadata": {},
   "outputs": [],
   "source": [
    "#создадим датафрейм с \"хорошими значениями\" для построение матрицы графиков\n",
    "good_df = pd.DataFrame(good_day, columns=['total_area', 'last_price', 'rooms', 'ceiling_height'])"
   ]
  },
  {
   "cell_type": "code",
   "execution_count": 82,
   "metadata": {},
   "outputs": [],
   "source": [
    "#отфильтруем исходные данные с целью получения \"хороших данных\"\n",
    "good_data = df.query('total_area < 114 and last_price < 11897500 and rooms < 6 and 2.25 < ceiling_height < 3.05 and 30 < days_exposition < 430')"
   ]
  },
  {
   "cell_type": "code",
   "execution_count": 83,
   "metadata": {},
   "outputs": [
    {
     "data": {
      "text/html": [
       "<div>\n",
       "<style scoped>\n",
       "    .dataframe tbody tr th:only-of-type {\n",
       "        vertical-align: middle;\n",
       "    }\n",
       "\n",
       "    .dataframe tbody tr th {\n",
       "        vertical-align: top;\n",
       "    }\n",
       "\n",
       "    .dataframe thead th {\n",
       "        text-align: right;\n",
       "    }\n",
       "</style>\n",
       "<table border=\"1\" class=\"dataframe\">\n",
       "  <thead>\n",
       "    <tr style=\"text-align: right;\">\n",
       "      <th></th>\n",
       "      <th>total_area</th>\n",
       "      <th>last_price</th>\n",
       "      <th>rooms</th>\n",
       "      <th>ceiling_height</th>\n",
       "    </tr>\n",
       "  </thead>\n",
       "  <tbody>\n",
       "    <tr>\n",
       "      <th>total_area</th>\n",
       "      <td>1.000000</td>\n",
       "      <td>0.726533</td>\n",
       "      <td>0.788107</td>\n",
       "      <td>0.221183</td>\n",
       "    </tr>\n",
       "    <tr>\n",
       "      <th>last_price</th>\n",
       "      <td>0.726533</td>\n",
       "      <td>1.000000</td>\n",
       "      <td>0.453249</td>\n",
       "      <td>0.326839</td>\n",
       "    </tr>\n",
       "    <tr>\n",
       "      <th>rooms</th>\n",
       "      <td>0.788107</td>\n",
       "      <td>0.453249</td>\n",
       "      <td>1.000000</td>\n",
       "      <td>-0.002118</td>\n",
       "    </tr>\n",
       "    <tr>\n",
       "      <th>ceiling_height</th>\n",
       "      <td>0.221183</td>\n",
       "      <td>0.326839</td>\n",
       "      <td>-0.002118</td>\n",
       "      <td>1.000000</td>\n",
       "    </tr>\n",
       "  </tbody>\n",
       "</table>\n",
       "</div>"
      ],
      "text/plain": [
       "                total_area  last_price     rooms  ceiling_height\n",
       "total_area        1.000000    0.726533  0.788107        0.221183\n",
       "last_price        0.726533    1.000000  0.453249        0.326839\n",
       "rooms             0.788107    0.453249  1.000000       -0.002118\n",
       "ceiling_height    0.221183    0.326839 -0.002118        1.000000"
      ]
     },
     "execution_count": 83,
     "metadata": {},
     "output_type": "execute_result"
    },
    {
     "data": {
      "image/png": "[encoded data removed]",
      "text/plain": [
       "<Figure size 648x648 with 16 Axes>"
      ]
     },
     "metadata": {
      "needs_background": "light"
     },
     "output_type": "display_data"
    }
   ],
   "source": [
    "#построим матрицу графиков и рассчитаем корреляцию для параметров\n",
    "pd.plotting.scatter_matrix(good_df, figsize=(9, 9))\n",
    "good_df.corr()"
   ]
  },
  {
   "cell_type": "markdown",
   "metadata": {},
   "source": [
    "Вывод:\n",
    "* total_area: \n",
    "     - наибольшая связь с количеством комнат, что очевидно\n",
    "     - наименьшая связь с высотой потолков\n",
    "* last_price:\n",
    "     - наибольшая связь с общей площадь, довольно очевидно\n",
    "     - наименьшая связь с высотой потолков\n",
    "* rooms:\n",
    "     - наивысшая связь с общей площадбю, что очевидно\n",
    "     - наименьшая связь, причем отрицательная, с высотой потолков (иными словами чем больше количество комнат, тем ниже потолки)"
   ]
  },
  {
   "cell_type": "markdown",
   "metadata": {},
   "source": [
    "### Зависимость цены от площади квартиры и от расстояния до центра города"
   ]
  },
  {
   "cell_type": "code",
   "execution_count": 84,
   "metadata": {},
   "outputs": [
    {
     "data": {
      "text/plain": [
       "Text(0.5, 1.0, 'Площадь')"
      ]
     },
     "execution_count": 84,
     "metadata": {},
     "output_type": "execute_result"
    },
    {
     "data": {
      "image/png": "[encoded data removed]",
      "text/plain": [
       "<Figure size 576x432 with 2 Axes>"
      ]
     },
     "metadata": {
      "needs_background": "light"
     },
     "output_type": "display_data"
    }
   ],
   "source": [
    "#построим график зависимости цены за м2 от площади\n",
    "good_data.plot.hexbin(x='total_area', y='price_per_sqm', gridsize=30, figsize=(8,6)).set_title('Площадь')"
   ]
  },
  {
   "cell_type": "code",
   "execution_count": 85,
   "metadata": {},
   "outputs": [
    {
     "data": {
      "text/plain": [
       "Text(0.5, 1.0, 'Удаленность от центра')"
      ]
     },
     "execution_count": 85,
     "metadata": {},
     "output_type": "execute_result"
    },
    {
     "data": {
      "image/png": "[encoded data removed]",
      "text/plain": [
       "<Figure size 576x432 with 2 Axes>"
      ]
     },
     "metadata": {
      "needs_background": "light"
     },
     "output_type": "display_data"
    }
   ],
   "source": [
    "#построим график зависимости цены за м2 от удаленности от центра\n",
    "good_day.plot.hexbin(x='city_centers_neares', y='price_per_sqm', gridsize=30, figsize=(8,6)).set_title('Удаленность от центра')"
   ]
  },
  {
   "cell_type": "markdown",
   "metadata": {},
   "source": [
    "### Зависимость цены от числа комнат, этажа квартиры и времени публикации объявления"
   ]
  },
  {
   "cell_type": "code",
   "execution_count": 86,
   "metadata": {
    "scrolled": false
   },
   "outputs": [
    {
     "data": {
      "image/png": "[encoded data removed]",
      "text/plain": [
       "<Figure size 360x360 with 1 Axes>"
      ]
     },
     "metadata": {
      "needs_background": "light"
     },
     "output_type": "display_data"
    },
    {
     "data": {
      "image/png": "[encoded data removed]",
      "text/plain": [
       "<Figure size 360x360 with 1 Axes>"
      ]
     },
     "metadata": {
      "needs_background": "light"
     },
     "output_type": "display_data"
    },
    {
     "data": {
      "image/png": "[encoded data removed]",
      "text/plain": [
       "<Figure size 360x360 with 1 Axes>"
      ]
     },
     "metadata": {
      "needs_background": "light"
     },
     "output_type": "display_data"
    },
    {
     "data": {
      "image/png": "[encoded data removed]",
      "text/plain": [
       "<Figure size 360x360 with 1 Axes>"
      ]
     },
     "metadata": {
      "needs_background": "light"
     },
     "output_type": "display_data"
    },
    {
     "data": {
      "image/png": "[encoded data removed]",
      "text/plain": [
       "<Figure size 360x360 with 1 Axes>"
      ]
     },
     "metadata": {
      "needs_background": "light"
     },
     "output_type": "display_data"
    }
   ],
   "source": [
    "for column in ['rooms', 'floor_category', 'weekday', 'month', 'year']:\n",
    "    sns.catplot(x=column, y=\"last_price\", kind=\"box\", data=good_data, palette='husl')"
   ]
  },
  {
   "cell_type": "markdown",
   "metadata": {},
   "source": [
    "### Населенных пунктов с наибольшим числом объявлений"
   ]
  },
  {
   "cell_type": "code",
   "execution_count": 87,
   "metadata": {},
   "outputs": [
    {
     "data": {
      "text/html": [
       "<div>\n",
       "<style scoped>\n",
       "    .dataframe tbody tr th:only-of-type {\n",
       "        vertical-align: middle;\n",
       "    }\n",
       "\n",
       "    .dataframe tbody tr th {\n",
       "        vertical-align: top;\n",
       "    }\n",
       "\n",
       "    .dataframe thead th {\n",
       "        text-align: right;\n",
       "    }\n",
       "</style>\n",
       "<table border=\"1\" class=\"dataframe\">\n",
       "  <thead>\n",
       "    <tr style=\"text-align: right;\">\n",
       "      <th></th>\n",
       "      <th>count</th>\n",
       "      <th>median</th>\n",
       "    </tr>\n",
       "    <tr>\n",
       "      <th>locality_name</th>\n",
       "      <th></th>\n",
       "      <th></th>\n",
       "    </tr>\n",
       "  </thead>\n",
       "  <tbody>\n",
       "    <tr>\n",
       "      <th>Санкт-Петербург</th>\n",
       "      <td>9223</td>\n",
       "      <td>102140.0</td>\n",
       "    </tr>\n",
       "    <tr>\n",
       "      <th>посёлок Мурино</th>\n",
       "      <td>361</td>\n",
       "      <td>85714.0</td>\n",
       "    </tr>\n",
       "    <tr>\n",
       "      <th>посёлок Шушары</th>\n",
       "      <td>329</td>\n",
       "      <td>76562.0</td>\n",
       "    </tr>\n",
       "    <tr>\n",
       "      <th>Всеволожск</th>\n",
       "      <td>311</td>\n",
       "      <td>65857.0</td>\n",
       "    </tr>\n",
       "    <tr>\n",
       "      <th>Пушкин</th>\n",
       "      <td>247</td>\n",
       "      <td>98471.0</td>\n",
       "    </tr>\n",
       "    <tr>\n",
       "      <th>посёлок Парголово</th>\n",
       "      <td>245</td>\n",
       "      <td>91040.0</td>\n",
       "    </tr>\n",
       "    <tr>\n",
       "      <th>Колпино</th>\n",
       "      <td>237</td>\n",
       "      <td>74324.0</td>\n",
       "    </tr>\n",
       "    <tr>\n",
       "      <th>Гатчина</th>\n",
       "      <td>226</td>\n",
       "      <td>67180.0</td>\n",
       "    </tr>\n",
       "    <tr>\n",
       "      <th>деревня Кудрово</th>\n",
       "      <td>211</td>\n",
       "      <td>92297.0</td>\n",
       "    </tr>\n",
       "    <tr>\n",
       "      <th>Выборг</th>\n",
       "      <td>173</td>\n",
       "      <td>57432.0</td>\n",
       "    </tr>\n",
       "  </tbody>\n",
       "</table>\n",
       "</div>"
      ],
      "text/plain": [
       "                   count    median\n",
       "locality_name                     \n",
       "Санкт-Петербург     9223  102140.0\n",
       "посёлок Мурино       361   85714.0\n",
       "посёлок Шушары       329   76562.0\n",
       "Всеволожск           311   65857.0\n",
       "Пушкин               247   98471.0\n",
       "посёлок Парголово    245   91040.0\n",
       "Колпино              237   74324.0\n",
       "Гатчина              226   67180.0\n",
       "деревня Кудрово      211   92297.0\n",
       "Выборг               173   57432.0"
      ]
     },
     "execution_count": 87,
     "metadata": {},
     "output_type": "execute_result"
    }
   ],
   "source": [
    "median_price_per_sqm = good_data.pivot_table(index='locality_name', values='price_per_sqm', aggfunc=['count', 'median'])\n",
    "median_price_per_sqm.columns = ['count', 'median']\n",
    "median_price_per_sqm.sort_values('count', ascending=False).head(10)"
   ]
  },
  {
   "cell_type": "markdown",
   "metadata": {},
   "source": [
    "### Изучим предложения квартир: для каждой квартиры есть информация о расстоянии до центра. Выделите квартиры в Санкт-Петербурге"
   ]
  },
  {
   "cell_type": "code",
   "execution_count": 88,
   "metadata": {},
   "outputs": [
    {
     "data": {
      "text/plain": [
       "0        18\n",
       "1         8\n",
       "2    999999\n",
       "3        19\n",
       "4        11\n",
       "Name: city_centers_neares_km, dtype: int32"
      ]
     },
     "metadata": {},
     "output_type": "display_data"
    }
   ],
   "source": [
    "#создадим столбец удаленности от центра в км\n",
    "good_data['city_centers_neares_km'] = (good_data['city_centers_neares'] / 1000).fillna(999999).astype('int') #к пропускам применим служебное значение\n",
    "good_data.reset_index(inplace=True)\n",
    "display(good_data['city_centers_neares_km'].head())"
   ]
  },
  {
   "cell_type": "code",
   "execution_count": 89,
   "metadata": {},
   "outputs": [
    {
     "name": "stdout",
     "output_type": "stream",
     "text": [
      "По идее list_1 не должен меняться, но list_1 = [4, 2, 3]\n",
      "list_1 не изменился, list_1 = [1, 2, 3]\n"
     ]
    }
   ],
   "source": [
    "# Код ревьюера\n",
    "\n",
    "# Вот пример на массивах, но с df похожая ситуация может произойти\n",
    "list_1 = [1, 2, 3]\n",
    "list_2 = list_1\n",
    "list_2[0] = 4\n",
    "\n",
    "print('По идее list_1 не должен меняться, но list_1 =', list_1)\n",
    "\n",
    "list_1 = [1, 2, 3]\n",
    "list_2 = list_1.copy()\n",
    "list_2[0] = 4\n",
    "\n",
    "print('list_1 не изменился, list_1 =', list_1)"
   ]
  },
  {
   "cell_type": "code",
   "execution_count": 90,
   "metadata": {},
   "outputs": [
    {
     "data": {
      "text/plain": [
       "<AxesSubplot:xlabel='city_centers_neares_km'>"
      ]
     },
     "execution_count": 90,
     "metadata": {},
     "output_type": "execute_result"
    },
    {
     "data": {
      "image/png": "[encoded data removed]",
      "text/plain": [
       "<Figure size 432x288 with 1 Axes>"
      ]
     },
     "metadata": {
      "needs_background": "light"
     },
     "output_type": "display_data"
    }
   ],
   "source": [
    "#построим график\n",
    "pivot_table_km = good_data.query('locality_name == \"Санкт-Петербург\" and city_centers_neares_km !=999999').pivot_table(index='city_centers_neares_km', values = 'price_per_sqm', aggfunc='mean')\n",
    "pivot_table_km.plot(marker='o', grid=True)"
   ]
  },
  {
   "cell_type": "markdown",
   "metadata": {},
   "source": [
    "Видим, что резкий спад в диапазоне от 5 до 10 км."
   ]
  },
  {
   "cell_type": "code",
   "execution_count": 91,
   "metadata": {},
   "outputs": [
    {
     "data": {
      "image/png": "[encoded data removed]",
      "text/plain": [
       "<Figure size 432x288 with 1 Axes>"
      ]
     },
     "metadata": {
      "needs_background": "light"
     },
     "output_type": "display_data"
    }
   ],
   "source": [
    "#увеличим масштаб отрезка\n",
    "pivot_table_km = good_data.query('locality_name == \"Санкт-Петербург\" and city_centers_neares_km !=999999').pivot_table(index='city_centers_neares_km', values = 'price_per_sqm', aggfunc='mean')\n",
    "pivot_table_km.plot(marker='o', grid=True)\n",
    "plt.xlim(5, 10)\n",
    "plt.ylim(100000, 120000)\n",
    "plt.show()"
   ]
  },
  {
   "cell_type": "markdown",
   "metadata": {},
   "source": [
    "Видим, что резкий спад стоимости квадратного метра находится на 7 км."
   ]
  },
  {
   "cell_type": "markdown",
   "metadata": {},
   "source": [
    "### Изучим центра СПБ"
   ]
  },
  {
   "cell_type": "code",
   "execution_count": 92,
   "metadata": {},
   "outputs": [],
   "source": [
    "#создадим таблицу центра СПБ\n",
    "center_spb_data = good_data.query('city_centers_neares_km <= 7 and locality_name == \"Санкт-Петербург\"')"
   ]
  },
  {
   "cell_type": "markdown",
   "metadata": {},
   "source": [
    "### Изучим влияение количества комнат на стоимость м2"
   ]
  },
  {
   "cell_type": "code",
   "execution_count": 93,
   "metadata": {},
   "outputs": [
    {
     "data": {
      "image/png": "[encoded data removed]",
      "text/plain": [
       "<Figure size 432x288 with 1 Axes>"
      ]
     },
     "metadata": {
      "needs_background": "light"
     },
     "output_type": "display_data"
    }
   ],
   "source": [
    "#построим график\n",
    "center_spb_rooms = center_spb_data.groupby('rooms')['price_per_sqm'].median().plot()\n",
    "good_data_rooms = good_data.groupby('rooms')['price_per_sqm'].median().plot()"
   ]
  },
  {
   "cell_type": "markdown",
   "metadata": {},
   "source": [
    "Видим, что чем больше комнат, тем ниже стоимость м2\n",
    "Синий цвет - значения в центре СПБ\n",
    "Оранжевый - по всему региону"
   ]
  },
  {
   "cell_type": "markdown",
   "metadata": {},
   "source": [
    "### Изучим влияние этажа на стоимость квадратного метра"
   ]
  },
  {
   "cell_type": "code",
   "execution_count": 94,
   "metadata": {},
   "outputs": [
    {
     "data": {
      "text/html": [
       "<div>\n",
       "<style scoped>\n",
       "    .dataframe tbody tr th:only-of-type {\n",
       "        vertical-align: middle;\n",
       "    }\n",
       "\n",
       "    .dataframe tbody tr th {\n",
       "        vertical-align: top;\n",
       "    }\n",
       "\n",
       "    .dataframe thead th {\n",
       "        text-align: right;\n",
       "    }\n",
       "</style>\n",
       "<table border=\"1\" class=\"dataframe\">\n",
       "  <thead>\n",
       "    <tr style=\"text-align: right;\">\n",
       "      <th></th>\n",
       "      <th>mean</th>\n",
       "      <th>count</th>\n",
       "      <th>median</th>\n",
       "    </tr>\n",
       "    <tr>\n",
       "      <th>floor_category</th>\n",
       "      <th></th>\n",
       "      <th></th>\n",
       "      <th></th>\n",
       "    </tr>\n",
       "  </thead>\n",
       "  <tbody>\n",
       "    <tr>\n",
       "      <th>первый</th>\n",
       "      <td>109344.147541</td>\n",
       "      <td>183</td>\n",
       "      <td>103333</td>\n",
       "    </tr>\n",
       "    <tr>\n",
       "      <th>последний</th>\n",
       "      <td>113650.932367</td>\n",
       "      <td>207</td>\n",
       "      <td>111111</td>\n",
       "    </tr>\n",
       "  </tbody>\n",
       "</table>\n",
       "</div>"
      ],
      "text/plain": [
       "                         mean  count  median\n",
       "floor_category                              \n",
       "первый          109344.147541    183  103333\n",
       "последний       113650.932367    207  111111"
      ]
     },
     "execution_count": 94,
     "metadata": {},
     "output_type": "execute_result"
    },
    {
     "data": {
      "image/png": "[encoded data removed]",
      "text/plain": [
       "<Figure size 432x288 with 1 Axes>"
      ]
     },
     "metadata": {
      "needs_background": "light"
     },
     "output_type": "display_data"
    }
   ],
   "source": [
    "center_spb_floor_category = center_spb_data.query('floor_category != \"другой\"').pivot_table(index = 'floor_category', values = 'price_per_sqm', aggfunc = ['mean', 'count', 'median'])\n",
    "center_spb_floor_category.columns = ['mean', 'count', 'median']\n",
    "center_spb_floor_category.plot(y = 'median')\n",
    "good_day_floor_cat = good_day.groupby('floor_category')['price_per_sqm'].median().plot()\n",
    "center_spb_floor_category"
   ]
  },
  {
   "cell_type": "markdown",
   "metadata": {},
   "source": [
    "Видим, что в центре СПБ чем выше этаж, тем дороже, в то время как во всем регионе обратная картина"
   ]
  },
  {
   "cell_type": "markdown",
   "metadata": {},
   "source": [
    "### Зависимость стоимости квадратного метра от удаленности от центра."
   ]
  },
  {
   "cell_type": "code",
   "execution_count": 95,
   "metadata": {},
   "outputs": [
    {
     "data": {
      "text/plain": [
       "0.05504499352336831"
      ]
     },
     "execution_count": 95,
     "metadata": {},
     "output_type": "execute_result"
    },
    {
     "data": {
      "image/png": "[encoded data removed]",
      "text/plain": [
       "<Figure size 432x288 with 1 Axes>"
      ]
     },
     "metadata": {
      "needs_background": "light"
     },
     "output_type": "display_data"
    }
   ],
   "source": [
    "center_spb_data.plot(kind = 'scatter', y = 'price_per_sqm', x = 'city_centers_neares', alpha = 0.3)\n",
    "center_spb_data['city_centers_neares'].corr(center_spb_data['price_per_sqm'])"
   ]
  },
  {
   "cell_type": "markdown",
   "metadata": {},
   "source": [
    "Видим, что нет никакой зависимости, что ожидаемо, т.к. это значения центра "
   ]
  },
  {
   "cell_type": "code",
   "execution_count": 96,
   "metadata": {},
   "outputs": [
    {
     "data": {
      "text/plain": [
       "-0.40193520445503944"
      ]
     },
     "metadata": {},
     "output_type": "display_data"
    },
    {
     "data": {
      "text/plain": [
       "<AxesSubplot:xlabel='city_centers_neares', ylabel='price_per_sqm'>"
      ]
     },
     "execution_count": 96,
     "metadata": {},
     "output_type": "execute_result"
    },
    {
     "data": {
      "image/png": "[encoded data removed]",
      "text/plain": [
       "<Figure size 432x288 with 1 Axes>"
      ]
     },
     "metadata": {
      "needs_background": "light"
     },
     "output_type": "display_data"
    }
   ],
   "source": [
    "display(good_data['city_centers_neares'].corr(good_data['price_per_sqm']))\n",
    "\n",
    "#построим график зависимости цены за м2 от площади\n",
    "good_data.plot(x='city_centers_neares', y='price_per_sqm', kind='scatter')"
   ]
  },
  {
   "cell_type": "markdown",
   "metadata": {},
   "source": [
    "Во все регионе видно, чем ближе к центру, тем выше стоимость, но заметим интересную вещь, что в 55 км от центра имеется скачок, скорей всего это элитное жилье"
   ]
  },
  {
   "cell_type": "markdown",
   "metadata": {},
   "source": [
    "### Зависимость стоимости квадратного метра от дня недели размещения объявления"
   ]
  },
  {
   "cell_type": "code",
   "execution_count": 97,
   "metadata": {},
   "outputs": [
    {
     "data": {
      "text/html": [
       "<div>\n",
       "<style scoped>\n",
       "    .dataframe tbody tr th:only-of-type {\n",
       "        vertical-align: middle;\n",
       "    }\n",
       "\n",
       "    .dataframe tbody tr th {\n",
       "        vertical-align: top;\n",
       "    }\n",
       "\n",
       "    .dataframe thead th {\n",
       "        text-align: right;\n",
       "    }\n",
       "</style>\n",
       "<table border=\"1\" class=\"dataframe\">\n",
       "  <thead>\n",
       "    <tr style=\"text-align: right;\">\n",
       "      <th></th>\n",
       "      <th>mean</th>\n",
       "      <th>count</th>\n",
       "      <th>median</th>\n",
       "    </tr>\n",
       "    <tr>\n",
       "      <th>weekday</th>\n",
       "      <th></th>\n",
       "      <th></th>\n",
       "      <th></th>\n",
       "    </tr>\n",
       "  </thead>\n",
       "  <tbody>\n",
       "    <tr>\n",
       "      <th>5</th>\n",
       "      <td>123325.062500</td>\n",
       "      <td>112</td>\n",
       "      <td>121461.0</td>\n",
       "    </tr>\n",
       "    <tr>\n",
       "      <th>6</th>\n",
       "      <td>123122.146667</td>\n",
       "      <td>75</td>\n",
       "      <td>119767.0</td>\n",
       "    </tr>\n",
       "    <tr>\n",
       "      <th>3</th>\n",
       "      <td>119914.675105</td>\n",
       "      <td>237</td>\n",
       "      <td>116666.0</td>\n",
       "    </tr>\n",
       "    <tr>\n",
       "      <th>2</th>\n",
       "      <td>120977.454545</td>\n",
       "      <td>220</td>\n",
       "      <td>116041.5</td>\n",
       "    </tr>\n",
       "    <tr>\n",
       "      <th>4</th>\n",
       "      <td>119541.773756</td>\n",
       "      <td>221</td>\n",
       "      <td>115740.0</td>\n",
       "    </tr>\n",
       "    <tr>\n",
       "      <th>1</th>\n",
       "      <td>118804.020408</td>\n",
       "      <td>196</td>\n",
       "      <td>114443.0</td>\n",
       "    </tr>\n",
       "    <tr>\n",
       "      <th>0</th>\n",
       "      <td>117875.311828</td>\n",
       "      <td>186</td>\n",
       "      <td>113078.5</td>\n",
       "    </tr>\n",
       "  </tbody>\n",
       "</table>\n",
       "</div>"
      ],
      "text/plain": [
       "                  mean  count    median\n",
       "weekday                                \n",
       "5        123325.062500    112  121461.0\n",
       "6        123122.146667     75  119767.0\n",
       "3        119914.675105    237  116666.0\n",
       "2        120977.454545    220  116041.5\n",
       "4        119541.773756    221  115740.0\n",
       "1        118804.020408    196  114443.0\n",
       "0        117875.311828    186  113078.5"
      ]
     },
     "execution_count": 97,
     "metadata": {},
     "output_type": "execute_result"
    },
    {
     "data": {
      "image/png": "[encoded data removed]",
      "text/plain": [
       "<Figure size 432x288 with 1 Axes>"
      ]
     },
     "metadata": {
      "needs_background": "light"
     },
     "output_type": "display_data"
    }
   ],
   "source": [
    "center_spb_weekday_exposition = center_spb_data.pivot_table(index = 'weekday', values = 'price_per_sqm', aggfunc = ['mean', 'count', 'median'])\n",
    "center_spb_weekday_exposition.columns = ['mean', 'count', 'median']\n",
    "center_spb_weekday_exposition.plot(y = 'median')\n",
    "good_day_floor_cat = good_day.groupby('weekday')['price_per_sqm'].median().plot()\n",
    "center_spb_weekday_exposition.sort_values('median', ascending = False)"
   ]
  },
  {
   "cell_type": "markdown",
   "metadata": {},
   "source": [
    "Видим, что самые дорогие обявления жилья в центре СПБ в субботу. Думаю, что это связано с тем, что спрос больше, т.к. больше времени можно уделить поиску и соответсвенно если спрос растет, можно и подять стоимость.\n",
    "Что касается всего региона, то там в целом день недели не имеет значения"
   ]
  },
  {
   "cell_type": "markdown",
   "metadata": {},
   "source": [
    "### Зависимость стоимости квадратного метра от месяца недели размещения объявления"
   ]
  },
  {
   "cell_type": "code",
   "execution_count": 98,
   "metadata": {},
   "outputs": [
    {
     "data": {
      "text/html": [
       "<div>\n",
       "<style scoped>\n",
       "    .dataframe tbody tr th:only-of-type {\n",
       "        vertical-align: middle;\n",
       "    }\n",
       "\n",
       "    .dataframe tbody tr th {\n",
       "        vertical-align: top;\n",
       "    }\n",
       "\n",
       "    .dataframe thead th {\n",
       "        text-align: right;\n",
       "    }\n",
       "</style>\n",
       "<table border=\"1\" class=\"dataframe\">\n",
       "  <thead>\n",
       "    <tr style=\"text-align: right;\">\n",
       "      <th></th>\n",
       "      <th>mean</th>\n",
       "      <th>count</th>\n",
       "      <th>median</th>\n",
       "    </tr>\n",
       "    <tr>\n",
       "      <th>month</th>\n",
       "      <th></th>\n",
       "      <th></th>\n",
       "      <th></th>\n",
       "    </tr>\n",
       "  </thead>\n",
       "  <tbody>\n",
       "    <tr>\n",
       "      <th>3</th>\n",
       "      <td>129008.062016</td>\n",
       "      <td>129</td>\n",
       "      <td>130555.0</td>\n",
       "    </tr>\n",
       "    <tr>\n",
       "      <th>9</th>\n",
       "      <td>123921.273585</td>\n",
       "      <td>106</td>\n",
       "      <td>122262.5</td>\n",
       "    </tr>\n",
       "    <tr>\n",
       "      <th>2</th>\n",
       "      <td>120504.036496</td>\n",
       "      <td>137</td>\n",
       "      <td>118397.0</td>\n",
       "    </tr>\n",
       "    <tr>\n",
       "      <th>8</th>\n",
       "      <td>121593.037975</td>\n",
       "      <td>79</td>\n",
       "      <td>117450.0</td>\n",
       "    </tr>\n",
       "    <tr>\n",
       "      <th>4</th>\n",
       "      <td>118650.014706</td>\n",
       "      <td>136</td>\n",
       "      <td>115747.5</td>\n",
       "    </tr>\n",
       "    <tr>\n",
       "      <th>11</th>\n",
       "      <td>117584.403361</td>\n",
       "      <td>119</td>\n",
       "      <td>115625.0</td>\n",
       "    </tr>\n",
       "    <tr>\n",
       "      <th>10</th>\n",
       "      <td>116982.050420</td>\n",
       "      <td>119</td>\n",
       "      <td>113888.0</td>\n",
       "    </tr>\n",
       "    <tr>\n",
       "      <th>12</th>\n",
       "      <td>118005.055556</td>\n",
       "      <td>90</td>\n",
       "      <td>113731.5</td>\n",
       "    </tr>\n",
       "    <tr>\n",
       "      <th>5</th>\n",
       "      <td>123481.805195</td>\n",
       "      <td>77</td>\n",
       "      <td>113247.0</td>\n",
       "    </tr>\n",
       "    <tr>\n",
       "      <th>1</th>\n",
       "      <td>119188.855072</td>\n",
       "      <td>69</td>\n",
       "      <td>110991.0</td>\n",
       "    </tr>\n",
       "    <tr>\n",
       "      <th>7</th>\n",
       "      <td>118311.411111</td>\n",
       "      <td>90</td>\n",
       "      <td>110383.0</td>\n",
       "    </tr>\n",
       "    <tr>\n",
       "      <th>6</th>\n",
       "      <td>112161.395833</td>\n",
       "      <td>96</td>\n",
       "      <td>110206.5</td>\n",
       "    </tr>\n",
       "  </tbody>\n",
       "</table>\n",
       "</div>"
      ],
      "text/plain": [
       "                mean  count    median\n",
       "month                                \n",
       "3      129008.062016    129  130555.0\n",
       "9      123921.273585    106  122262.5\n",
       "2      120504.036496    137  118397.0\n",
       "8      121593.037975     79  117450.0\n",
       "4      118650.014706    136  115747.5\n",
       "11     117584.403361    119  115625.0\n",
       "10     116982.050420    119  113888.0\n",
       "12     118005.055556     90  113731.5\n",
       "5      123481.805195     77  113247.0\n",
       "1      119188.855072     69  110991.0\n",
       "7      118311.411111     90  110383.0\n",
       "6      112161.395833     96  110206.5"
      ]
     },
     "execution_count": 98,
     "metadata": {},
     "output_type": "execute_result"
    },
    {
     "data": {
      "image/png": "[encoded data removed]",
      "text/plain": [
       "<Figure size 432x288 with 1 Axes>"
      ]
     },
     "metadata": {
      "needs_background": "light"
     },
     "output_type": "display_data"
    }
   ],
   "source": [
    "center_spb_month_exposition = center_spb_data.pivot_table(index = 'month', values = 'price_per_sqm', aggfunc = ['mean', 'count', 'median'])\n",
    "center_spb_month_exposition.columns = ['mean', 'count', 'median']\n",
    "center_spb_month_exposition.plot(y = 'median')\n",
    "good_day_floor_cat = good_day.groupby('month')['price_per_sqm'].median().plot()\n",
    "center_spb_month_exposition.sort_values('median', ascending = False)"
   ]
  },
  {
   "cell_type": "markdown",
   "metadata": {},
   "source": [
    "Видим, что только для объектов в центре существенен месяц, для остальных объектов по большому счету разницы нет в каком месяце."
   ]
  },
  {
   "cell_type": "markdown",
   "metadata": {},
   "source": [
    "### Зависимость стоимости квадратного метра от года размещения объявления."
   ]
  },
  {
   "cell_type": "code",
   "execution_count": 99,
   "metadata": {},
   "outputs": [
    {
     "data": {
      "text/html": [
       "<div>\n",
       "<style scoped>\n",
       "    .dataframe tbody tr th:only-of-type {\n",
       "        vertical-align: middle;\n",
       "    }\n",
       "\n",
       "    .dataframe tbody tr th {\n",
       "        vertical-align: top;\n",
       "    }\n",
       "\n",
       "    .dataframe thead th {\n",
       "        text-align: right;\n",
       "    }\n",
       "</style>\n",
       "<table border=\"1\" class=\"dataframe\">\n",
       "  <thead>\n",
       "    <tr style=\"text-align: right;\">\n",
       "      <th></th>\n",
       "      <th>mean</th>\n",
       "      <th>count</th>\n",
       "      <th>median</th>\n",
       "    </tr>\n",
       "    <tr>\n",
       "      <th>year</th>\n",
       "      <th></th>\n",
       "      <th></th>\n",
       "      <th></th>\n",
       "    </tr>\n",
       "  </thead>\n",
       "  <tbody>\n",
       "    <tr>\n",
       "      <th>2019</th>\n",
       "      <td>130870.360902</td>\n",
       "      <td>133</td>\n",
       "      <td>130188.0</td>\n",
       "    </tr>\n",
       "    <tr>\n",
       "      <th>2018</th>\n",
       "      <td>123235.767442</td>\n",
       "      <td>430</td>\n",
       "      <td>120329.5</td>\n",
       "    </tr>\n",
       "    <tr>\n",
       "      <th>2017</th>\n",
       "      <td>117202.857143</td>\n",
       "      <td>483</td>\n",
       "      <td>112195.0</td>\n",
       "    </tr>\n",
       "    <tr>\n",
       "      <th>2016</th>\n",
       "      <td>113262.460606</td>\n",
       "      <td>165</td>\n",
       "      <td>108518.0</td>\n",
       "    </tr>\n",
       "    <tr>\n",
       "      <th>2015</th>\n",
       "      <td>111558.055556</td>\n",
       "      <td>36</td>\n",
       "      <td>102997.5</td>\n",
       "    </tr>\n",
       "  </tbody>\n",
       "</table>\n",
       "</div>"
      ],
      "text/plain": [
       "               mean  count    median\n",
       "year                                \n",
       "2019  130870.360902    133  130188.0\n",
       "2018  123235.767442    430  120329.5\n",
       "2017  117202.857143    483  112195.0\n",
       "2016  113262.460606    165  108518.0\n",
       "2015  111558.055556     36  102997.5"
      ]
     },
     "execution_count": 99,
     "metadata": {},
     "output_type": "execute_result"
    },
    {
     "data": {
      "image/png": "[encoded data removed]",
      "text/plain": [
       "<Figure size 432x288 with 1 Axes>"
      ]
     },
     "metadata": {
      "needs_background": "light"
     },
     "output_type": "display_data"
    }
   ],
   "source": [
    "center_spb_month_exposition = center_spb_data.pivot_table(index = 'year', values = 'price_per_sqm', aggfunc = ['mean', 'count', 'median'])\n",
    "center_spb_month_exposition.columns = ['mean', 'count', 'median']\n",
    "center_spb_month_exposition.plot(y = 'median')\n",
    "center_spb_month_exposition.sort_values('median', ascending = False)"
   ]
  },
  {
   "cell_type": "markdown",
   "metadata": {},
   "source": [
    "Видим, что стоимость м2 росла из года в год, что вполне очевидно"
   ]
  },
  {
   "cell_type": "markdown",
   "metadata": {},
   "source": [
    "## Общий вывод"
   ]
  },
  {
   "cell_type": "markdown",
   "metadata": {},
   "source": [
    "**Лирика:**"
   ]
  },
  {
   "cell_type": "markdown",
   "metadata": {},
   "source": [
    "Мы обработали полученный архив данных - обработали пропущенные значения там, где это необходимо, заменили типы данных на необходимые для удобной работы. Посчитали и добавили в таблицу цену квадратного метра жилья, вывели из даты дни недели, месяцы и года размещения объявлений, добавили категории по этажам квартир. Изучили следующие параметры на наличие выбивающихся значений - площадь, цена, число комнат, высота потолков. Были определены аномалии в данных параметрах.\n",
    "\n",
    "Мы выявили при помощи диаграммы размаха, что нормальные значения продажи квартир варьируются от 30 до 430 дней, где до 30 дней считаем, что это быстрая продажа, а более 464 дня - долгая. Мы выявили, что на стоимость квадратного метра квартиры больше всего влияют количество комнат, этаж квартиры, близость к центру. Незначительно на стоимость квадратного метра влияют день, месяц, год размещения и общая площадь. Судя, по резкости изменения цен в зависимости от удаления от центра СПБ, мы выявили центр города в радиусе 7 километров.\n",
    "\n",
    "Также важно учитывать, что, рассматривая среднюю стоимость квартир в 2014-2019 годах, мы не делали сегментацию рынка, а лишь смотрели средние показатели по рынку в целом. Т.е. возможно, что цены на аналогичные квартиры в разных годах вели себя абсолютно по-разному. Т.е. например в то время, когда средняя стоимость метра по рынку в 2016-2017 годах была наиболее низкой, какие-то аналогичные прошлым годам квартиры могли и не падать в цене, а наоборот дорожать! Именно об этом нам и говорят данные, полученные при изучении единственного сегмента квартир - находящихся в радиусе 7 км в центре СПБ."
   ]
  }
 ],
 "metadata": {
  "ExecuteTimeLog": [
   {
    "duration": 1829,
    "start_time": "2022-03-23T15:22:51.426Z"
   },
   {
    "duration": 100,
    "start_time": "2022-03-23T15:23:22.934Z"
   },
   {
    "duration": 132,
    "start_time": "2022-03-23T15:23:54.823Z"
   },
   {
    "duration": 99,
    "start_time": "2022-03-23T15:24:32.220Z"
   },
   {
    "duration": 33,
    "start_time": "2022-03-23T15:24:44.426Z"
   },
   {
    "duration": 8,
    "start_time": "2022-03-23T15:29:02.256Z"
   },
   {
    "duration": 9,
    "start_time": "2022-03-23T15:29:51.959Z"
   },
   {
    "duration": 9,
    "start_time": "2022-03-23T15:30:12.369Z"
   },
   {
    "duration": 9,
    "start_time": "2022-03-23T15:30:58.559Z"
   },
   {
    "duration": 11,
    "start_time": "2022-03-23T15:31:21.821Z"
   },
   {
    "duration": 8,
    "start_time": "2022-03-23T15:33:30.339Z"
   },
   {
    "duration": 8,
    "start_time": "2022-03-23T15:34:10.240Z"
   },
   {
    "duration": 10,
    "start_time": "2022-03-23T15:35:09.517Z"
   },
   {
    "duration": 10,
    "start_time": "2022-03-23T15:36:04.281Z"
   },
   {
    "duration": 8,
    "start_time": "2022-03-23T15:36:28.439Z"
   },
   {
    "duration": 9,
    "start_time": "2022-03-23T15:36:57.470Z"
   },
   {
    "duration": 8,
    "start_time": "2022-03-23T15:37:29.549Z"
   },
   {
    "duration": 7,
    "start_time": "2022-03-23T15:37:56.427Z"
   },
   {
    "duration": 9,
    "start_time": "2022-03-23T15:38:27.890Z"
   },
   {
    "duration": 8,
    "start_time": "2022-03-23T15:38:52.497Z"
   },
   {
    "duration": 12,
    "start_time": "2022-03-23T15:39:32.984Z"
   },
   {
    "duration": 9,
    "start_time": "2022-03-23T15:39:59.800Z"
   },
   {
    "duration": 1609,
    "start_time": "2022-03-23T17:58:49.729Z"
   },
   {
    "duration": 146,
    "start_time": "2022-03-23T17:58:51.341Z"
   },
   {
    "duration": 112,
    "start_time": "2022-03-23T17:58:51.489Z"
   },
   {
    "duration": 21,
    "start_time": "2022-03-23T17:58:51.604Z"
   },
   {
    "duration": 86,
    "start_time": "2022-03-23T17:58:51.628Z"
   },
   {
    "duration": 0,
    "start_time": "2022-03-23T17:58:51.718Z"
   },
   {
    "duration": 0,
    "start_time": "2022-03-23T17:58:51.719Z"
   },
   {
    "duration": 0,
    "start_time": "2022-03-23T17:58:51.721Z"
   },
   {
    "duration": 0,
    "start_time": "2022-03-23T17:58:51.722Z"
   },
   {
    "duration": 0,
    "start_time": "2022-03-23T17:58:51.725Z"
   },
   {
    "duration": 0,
    "start_time": "2022-03-23T17:58:51.726Z"
   },
   {
    "duration": 0,
    "start_time": "2022-03-23T17:58:51.728Z"
   },
   {
    "duration": 0,
    "start_time": "2022-03-23T17:58:51.730Z"
   },
   {
    "duration": 0,
    "start_time": "2022-03-23T17:58:51.732Z"
   },
   {
    "duration": 0,
    "start_time": "2022-03-23T17:58:51.734Z"
   },
   {
    "duration": 0,
    "start_time": "2022-03-23T17:58:51.736Z"
   },
   {
    "duration": 0,
    "start_time": "2022-03-23T17:58:51.738Z"
   },
   {
    "duration": 0,
    "start_time": "2022-03-23T17:58:51.740Z"
   },
   {
    "duration": 0,
    "start_time": "2022-03-23T17:58:51.742Z"
   },
   {
    "duration": 0,
    "start_time": "2022-03-23T17:58:51.744Z"
   },
   {
    "duration": 0,
    "start_time": "2022-03-23T17:58:51.746Z"
   },
   {
    "duration": 0,
    "start_time": "2022-03-23T17:58:51.749Z"
   },
   {
    "duration": 0,
    "start_time": "2022-03-23T17:58:51.751Z"
   },
   {
    "duration": 0,
    "start_time": "2022-03-23T17:58:51.753Z"
   },
   {
    "duration": 0,
    "start_time": "2022-03-23T17:58:51.755Z"
   },
   {
    "duration": 0,
    "start_time": "2022-03-23T17:58:51.757Z"
   },
   {
    "duration": 0,
    "start_time": "2022-03-23T17:58:51.774Z"
   },
   {
    "duration": 0,
    "start_time": "2022-03-23T17:58:51.775Z"
   },
   {
    "duration": 0,
    "start_time": "2022-03-23T17:58:51.776Z"
   },
   {
    "duration": 0,
    "start_time": "2022-03-23T17:58:51.778Z"
   },
   {
    "duration": 0,
    "start_time": "2022-03-23T17:58:51.779Z"
   },
   {
    "duration": 113,
    "start_time": "2022-03-23T17:59:11.165Z"
   },
   {
    "duration": 148,
    "start_time": "2022-03-23T17:59:11.281Z"
   },
   {
    "duration": 109,
    "start_time": "2022-03-23T17:59:11.432Z"
   },
   {
    "duration": 33,
    "start_time": "2022-03-23T17:59:11.544Z"
   },
   {
    "duration": 8,
    "start_time": "2022-03-23T17:59:11.579Z"
   },
   {
    "duration": 17,
    "start_time": "2022-03-23T17:59:11.589Z"
   },
   {
    "duration": 20,
    "start_time": "2022-03-23T17:59:11.609Z"
   },
   {
    "duration": 17,
    "start_time": "2022-03-23T17:59:11.631Z"
   },
   {
    "duration": 13,
    "start_time": "2022-03-23T17:59:11.675Z"
   },
   {
    "duration": 8,
    "start_time": "2022-03-23T17:59:11.694Z"
   },
   {
    "duration": 10,
    "start_time": "2022-03-23T17:59:11.705Z"
   },
   {
    "duration": 8,
    "start_time": "2022-03-23T17:59:11.717Z"
   },
   {
    "duration": 54,
    "start_time": "2022-03-23T17:59:11.728Z"
   },
   {
    "duration": 7,
    "start_time": "2022-03-23T17:59:11.784Z"
   },
   {
    "duration": 84,
    "start_time": "2022-03-23T17:59:11.793Z"
   },
   {
    "duration": 0,
    "start_time": "2022-03-23T17:59:11.880Z"
   },
   {
    "duration": 0,
    "start_time": "2022-03-23T17:59:11.882Z"
   },
   {
    "duration": 0,
    "start_time": "2022-03-23T17:59:11.884Z"
   },
   {
    "duration": 0,
    "start_time": "2022-03-23T17:59:11.885Z"
   },
   {
    "duration": 0,
    "start_time": "2022-03-23T17:59:11.887Z"
   },
   {
    "duration": 0,
    "start_time": "2022-03-23T17:59:11.888Z"
   },
   {
    "duration": 0,
    "start_time": "2022-03-23T17:59:11.890Z"
   },
   {
    "duration": 0,
    "start_time": "2022-03-23T17:59:11.891Z"
   },
   {
    "duration": 0,
    "start_time": "2022-03-23T17:59:11.893Z"
   },
   {
    "duration": 0,
    "start_time": "2022-03-23T17:59:11.894Z"
   },
   {
    "duration": 0,
    "start_time": "2022-03-23T17:59:11.896Z"
   },
   {
    "duration": 0,
    "start_time": "2022-03-23T17:59:11.898Z"
   },
   {
    "duration": 0,
    "start_time": "2022-03-23T17:59:11.899Z"
   },
   {
    "duration": 0,
    "start_time": "2022-03-23T17:59:11.900Z"
   },
   {
    "duration": 0,
    "start_time": "2022-03-23T17:59:11.903Z"
   },
   {
    "duration": 92,
    "start_time": "2022-03-23T17:59:24.161Z"
   },
   {
    "duration": 165,
    "start_time": "2022-03-23T17:59:24.255Z"
   },
   {
    "duration": 116,
    "start_time": "2022-03-23T17:59:24.423Z"
   },
   {
    "duration": 31,
    "start_time": "2022-03-23T17:59:24.542Z"
   },
   {
    "duration": 7,
    "start_time": "2022-03-23T17:59:24.576Z"
   },
   {
    "duration": 9,
    "start_time": "2022-03-23T17:59:24.586Z"
   },
   {
    "duration": 8,
    "start_time": "2022-03-23T17:59:24.598Z"
   },
   {
    "duration": 9,
    "start_time": "2022-03-23T17:59:24.608Z"
   },
   {
    "duration": 56,
    "start_time": "2022-03-23T17:59:24.619Z"
   },
   {
    "duration": 8,
    "start_time": "2022-03-23T17:59:24.679Z"
   },
   {
    "duration": 8,
    "start_time": "2022-03-23T17:59:24.689Z"
   },
   {
    "duration": 9,
    "start_time": "2022-03-23T17:59:24.699Z"
   },
   {
    "duration": 9,
    "start_time": "2022-03-23T17:59:24.710Z"
   },
   {
    "duration": 7,
    "start_time": "2022-03-23T17:59:24.721Z"
   },
   {
    "duration": 10,
    "start_time": "2022-03-23T17:59:24.774Z"
   },
   {
    "duration": 8,
    "start_time": "2022-03-23T17:59:24.786Z"
   },
   {
    "duration": 7,
    "start_time": "2022-03-23T17:59:24.796Z"
   },
   {
    "duration": 10,
    "start_time": "2022-03-23T17:59:24.805Z"
   },
   {
    "duration": 59,
    "start_time": "2022-03-23T17:59:24.817Z"
   },
   {
    "duration": 13,
    "start_time": "2022-03-23T17:59:24.878Z"
   },
   {
    "duration": 9,
    "start_time": "2022-03-23T17:59:24.894Z"
   },
   {
    "duration": 9,
    "start_time": "2022-03-23T17:59:24.905Z"
   },
   {
    "duration": 8,
    "start_time": "2022-03-23T17:59:24.916Z"
   },
   {
    "duration": 54,
    "start_time": "2022-03-23T17:59:24.926Z"
   },
   {
    "duration": 8,
    "start_time": "2022-03-23T17:59:24.982Z"
   },
   {
    "duration": 8,
    "start_time": "2022-03-23T17:59:24.993Z"
   },
   {
    "duration": 8,
    "start_time": "2022-03-23T17:59:25.003Z"
   },
   {
    "duration": 8,
    "start_time": "2022-03-23T17:59:25.015Z"
   },
   {
    "duration": 52,
    "start_time": "2022-03-23T17:59:25.025Z"
   },
   {
    "duration": 1641,
    "start_time": "2022-03-23T18:08:55.279Z"
   },
   {
    "duration": 145,
    "start_time": "2022-03-23T18:08:56.923Z"
   },
   {
    "duration": 116,
    "start_time": "2022-03-23T18:08:57.073Z"
   },
   {
    "duration": 22,
    "start_time": "2022-03-23T18:08:57.192Z"
   },
   {
    "duration": 9,
    "start_time": "2022-03-23T18:08:57.216Z"
   },
   {
    "duration": 13,
    "start_time": "2022-03-23T18:08:57.227Z"
   },
   {
    "duration": 38,
    "start_time": "2022-03-23T18:08:57.242Z"
   },
   {
    "duration": 7,
    "start_time": "2022-03-23T18:08:57.283Z"
   },
   {
    "duration": 11,
    "start_time": "2022-03-23T18:08:57.292Z"
   },
   {
    "duration": 8,
    "start_time": "2022-03-23T18:08:57.307Z"
   },
   {
    "duration": 57,
    "start_time": "2022-03-23T18:08:57.317Z"
   },
   {
    "duration": 11,
    "start_time": "2022-03-23T18:08:57.377Z"
   },
   {
    "duration": 11,
    "start_time": "2022-03-23T18:08:57.390Z"
   },
   {
    "duration": 9,
    "start_time": "2022-03-23T18:08:57.404Z"
   },
   {
    "duration": 10,
    "start_time": "2022-03-23T18:08:57.415Z"
   },
   {
    "duration": 10,
    "start_time": "2022-03-23T18:08:57.475Z"
   },
   {
    "duration": 8,
    "start_time": "2022-03-23T18:08:57.487Z"
   },
   {
    "duration": 11,
    "start_time": "2022-03-23T18:08:57.498Z"
   },
   {
    "duration": 9,
    "start_time": "2022-03-23T18:08:57.512Z"
   },
   {
    "duration": 12,
    "start_time": "2022-03-23T18:08:57.575Z"
   },
   {
    "duration": 11,
    "start_time": "2022-03-23T18:08:57.589Z"
   },
   {
    "duration": 9,
    "start_time": "2022-03-23T18:08:57.602Z"
   },
   {
    "duration": 8,
    "start_time": "2022-03-23T18:08:57.613Z"
   },
   {
    "duration": 56,
    "start_time": "2022-03-23T18:08:57.623Z"
   },
   {
    "duration": 10,
    "start_time": "2022-03-23T18:08:57.681Z"
   },
   {
    "duration": 11,
    "start_time": "2022-03-23T18:08:57.693Z"
   },
   {
    "duration": 8,
    "start_time": "2022-03-23T18:08:57.706Z"
   },
   {
    "duration": 8,
    "start_time": "2022-03-23T18:08:57.720Z"
   },
   {
    "duration": 12,
    "start_time": "2022-03-23T18:08:57.774Z"
   },
   {
    "duration": 123,
    "start_time": "2022-03-23T18:08:57.788Z"
   },
   {
    "duration": 35,
    "start_time": "2022-03-23T18:08:57.913Z"
   },
   {
    "duration": 307,
    "start_time": "2022-03-23T18:08:57.951Z"
   },
   {
    "duration": 24,
    "start_time": "2022-03-23T18:08:58.261Z"
   },
   {
    "duration": 9,
    "start_time": "2022-03-23T18:08:58.287Z"
   },
   {
    "duration": 12,
    "start_time": "2022-03-23T18:08:58.298Z"
   },
   {
    "duration": 13,
    "start_time": "2022-03-23T18:08:58.312Z"
   },
   {
    "duration": 6,
    "start_time": "2022-03-23T18:08:58.327Z"
   },
   {
    "duration": 10,
    "start_time": "2022-03-23T18:08:58.373Z"
   },
   {
    "duration": 3,
    "start_time": "2022-03-23T18:08:58.385Z"
   },
   {
    "duration": 6,
    "start_time": "2022-03-23T18:08:58.390Z"
   },
   {
    "duration": 12,
    "start_time": "2022-03-23T18:08:58.397Z"
   },
   {
    "duration": 4,
    "start_time": "2022-03-23T18:08:58.412Z"
   },
   {
    "duration": 6,
    "start_time": "2022-03-23T18:08:58.418Z"
   },
   {
    "duration": 48,
    "start_time": "2022-03-23T18:08:58.426Z"
   },
   {
    "duration": 6,
    "start_time": "2022-03-23T18:08:58.476Z"
   },
   {
    "duration": 13,
    "start_time": "2022-03-23T18:08:58.484Z"
   },
   {
    "duration": 17,
    "start_time": "2022-03-23T18:08:58.499Z"
   },
   {
    "duration": 10,
    "start_time": "2022-03-23T18:08:58.518Z"
   },
   {
    "duration": 199,
    "start_time": "2022-03-23T18:08:58.530Z"
   },
   {
    "duration": 0,
    "start_time": "2022-03-23T18:08:58.731Z"
   },
   {
    "duration": 0,
    "start_time": "2022-03-23T18:08:58.733Z"
   },
   {
    "duration": 0,
    "start_time": "2022-03-23T18:08:58.735Z"
   },
   {
    "duration": 0,
    "start_time": "2022-03-23T18:08:58.737Z"
   },
   {
    "duration": 12,
    "start_time": "2022-03-23T18:08:59.088Z"
   },
   {
    "duration": 232,
    "start_time": "2022-03-23T18:08:59.103Z"
   },
   {
    "duration": 349,
    "start_time": "2022-03-23T18:08:59.337Z"
   },
   {
    "duration": 15,
    "start_time": "2022-03-23T18:08:59.690Z"
   },
   {
    "duration": 0,
    "start_time": "2022-03-23T18:08:59.708Z"
   },
   {
    "duration": 0,
    "start_time": "2022-03-23T18:08:59.710Z"
   },
   {
    "duration": 0,
    "start_time": "2022-03-23T18:08:59.712Z"
   },
   {
    "duration": 0,
    "start_time": "2022-03-23T18:08:59.714Z"
   },
   {
    "duration": 0,
    "start_time": "2022-03-23T18:08:59.716Z"
   },
   {
    "duration": 0,
    "start_time": "2022-03-23T18:08:59.717Z"
   },
   {
    "duration": 0,
    "start_time": "2022-03-23T18:08:59.719Z"
   },
   {
    "duration": 0,
    "start_time": "2022-03-23T18:08:59.720Z"
   },
   {
    "duration": 0,
    "start_time": "2022-03-23T18:08:59.722Z"
   },
   {
    "duration": 0,
    "start_time": "2022-03-23T18:08:59.724Z"
   },
   {
    "duration": 0,
    "start_time": "2022-03-23T18:08:59.725Z"
   },
   {
    "duration": 0,
    "start_time": "2022-03-23T18:08:59.727Z"
   },
   {
    "duration": 0,
    "start_time": "2022-03-23T18:08:59.728Z"
   },
   {
    "duration": 0,
    "start_time": "2022-03-23T18:08:59.774Z"
   },
   {
    "duration": 0,
    "start_time": "2022-03-23T18:08:59.776Z"
   },
   {
    "duration": 0,
    "start_time": "2022-03-23T18:08:59.778Z"
   },
   {
    "duration": 0,
    "start_time": "2022-03-23T18:08:59.779Z"
   },
   {
    "duration": 0,
    "start_time": "2022-03-23T18:08:59.781Z"
   },
   {
    "duration": 0,
    "start_time": "2022-03-23T18:08:59.782Z"
   },
   {
    "duration": 0,
    "start_time": "2022-03-23T18:08:59.784Z"
   },
   {
    "duration": 0,
    "start_time": "2022-03-23T18:08:59.785Z"
   },
   {
    "duration": 0,
    "start_time": "2022-03-23T18:08:59.786Z"
   },
   {
    "duration": 0,
    "start_time": "2022-03-23T18:08:59.788Z"
   },
   {
    "duration": 0,
    "start_time": "2022-03-23T18:08:59.790Z"
   },
   {
    "duration": 12,
    "start_time": "2022-03-23T18:09:00.039Z"
   },
   {
    "duration": 0,
    "start_time": "2022-03-23T18:09:00.054Z"
   },
   {
    "duration": 13,
    "start_time": "2022-03-23T18:09:00.470Z"
   },
   {
    "duration": 12,
    "start_time": "2022-03-23T18:09:00.904Z"
   },
   {
    "duration": 12,
    "start_time": "2022-03-23T18:09:01.426Z"
   },
   {
    "duration": 0,
    "start_time": "2022-03-23T18:09:01.440Z"
   },
   {
    "duration": 0,
    "start_time": "2022-03-23T18:09:01.442Z"
   },
   {
    "duration": 18,
    "start_time": "2022-03-23T18:09:01.445Z"
   },
   {
    "duration": 0,
    "start_time": "2022-03-23T18:09:01.465Z"
   },
   {
    "duration": 10,
    "start_time": "2022-03-23T18:09:01.910Z"
   },
   {
    "duration": 11,
    "start_time": "2022-03-23T18:09:02.391Z"
   },
   {
    "duration": 11,
    "start_time": "2022-03-23T18:09:56.241Z"
   },
   {
    "duration": 15,
    "start_time": "2022-03-23T18:10:28.474Z"
   },
   {
    "duration": 12,
    "start_time": "2022-03-23T18:10:29.927Z"
   },
   {
    "duration": 199,
    "start_time": "2022-03-23T18:10:30.774Z"
   },
   {
    "duration": 224,
    "start_time": "2022-03-23T18:10:32.202Z"
   },
   {
    "duration": 11,
    "start_time": "2022-03-23T18:10:32.954Z"
   },
   {
    "duration": 14,
    "start_time": "2022-03-23T18:10:38.282Z"
   },
   {
    "duration": 15,
    "start_time": "2022-03-23T18:10:38.561Z"
   },
   {
    "duration": 166,
    "start_time": "2022-03-23T18:10:38.809Z"
   },
   {
    "duration": 219,
    "start_time": "2022-03-23T18:10:39.136Z"
   },
   {
    "duration": 10,
    "start_time": "2022-03-23T18:10:39.423Z"
   },
   {
    "duration": 15,
    "start_time": "2022-03-23T18:10:39.680Z"
   },
   {
    "duration": 12,
    "start_time": "2022-03-23T18:10:39.910Z"
   },
   {
    "duration": 281,
    "start_time": "2022-03-23T18:10:40.134Z"
   },
   {
    "duration": 239,
    "start_time": "2022-03-23T18:10:40.418Z"
   },
   {
    "duration": 11,
    "start_time": "2022-03-23T18:10:40.929Z"
   },
   {
    "duration": 14,
    "start_time": "2022-03-23T18:10:41.223Z"
   },
   {
    "duration": 11,
    "start_time": "2022-03-23T18:10:41.462Z"
   },
   {
    "duration": 182,
    "start_time": "2022-03-23T18:10:41.694Z"
   },
   {
    "duration": 254,
    "start_time": "2022-03-23T18:10:41.924Z"
   },
   {
    "duration": 11,
    "start_time": "2022-03-23T18:10:42.181Z"
   },
   {
    "duration": 13,
    "start_time": "2022-03-23T18:10:42.742Z"
   },
   {
    "duration": 4,
    "start_time": "2022-03-23T18:10:43.592Z"
   },
   {
    "duration": 19,
    "start_time": "2022-03-23T18:10:44.123Z"
   },
   {
    "duration": 2220,
    "start_time": "2022-03-23T18:10:44.678Z"
   },
   {
    "duration": 375,
    "start_time": "2022-03-23T18:10:49.586Z"
   },
   {
    "duration": 512,
    "start_time": "2022-03-23T18:10:49.964Z"
   },
   {
    "duration": 468,
    "start_time": "2022-03-23T18:10:51.880Z"
   },
   {
    "duration": 33,
    "start_time": "2022-03-23T18:10:52.433Z"
   },
   {
    "duration": 11,
    "start_time": "2022-03-23T18:10:54.960Z"
   },
   {
    "duration": 231,
    "start_time": "2022-03-23T18:10:55.878Z"
   },
   {
    "duration": 107,
    "start_time": "2022-03-23T18:10:56.149Z"
   },
   {
    "duration": 244,
    "start_time": "2022-03-23T18:10:56.367Z"
   },
   {
    "duration": 88,
    "start_time": "2022-03-23T18:10:56.614Z"
   },
   {
    "duration": 10,
    "start_time": "2022-03-23T18:10:57.221Z"
   },
   {
    "duration": 225,
    "start_time": "2022-03-23T18:10:58.429Z"
   },
   {
    "duration": 50,
    "start_time": "2022-03-23T18:13:14.033Z"
   },
   {
    "duration": 1667,
    "start_time": "2022-03-23T18:13:47.560Z"
   },
   {
    "duration": 165,
    "start_time": "2022-03-23T18:13:49.231Z"
   },
   {
    "duration": 119,
    "start_time": "2022-03-23T18:13:49.399Z"
   },
   {
    "duration": 21,
    "start_time": "2022-03-23T18:13:49.520Z"
   },
   {
    "duration": 31,
    "start_time": "2022-03-23T18:13:49.543Z"
   },
   {
    "duration": 12,
    "start_time": "2022-03-23T18:13:49.577Z"
   },
   {
    "duration": 20,
    "start_time": "2022-03-23T18:13:49.591Z"
   },
   {
    "duration": 40,
    "start_time": "2022-03-23T18:13:49.613Z"
   },
   {
    "duration": 24,
    "start_time": "2022-03-23T18:13:49.655Z"
   },
   {
    "duration": 44,
    "start_time": "2022-03-23T18:13:49.683Z"
   },
   {
    "duration": 16,
    "start_time": "2022-03-23T18:13:49.730Z"
   },
   {
    "duration": 25,
    "start_time": "2022-03-23T18:13:49.748Z"
   },
   {
    "duration": 48,
    "start_time": "2022-03-23T18:13:49.775Z"
   },
   {
    "duration": 39,
    "start_time": "2022-03-23T18:13:49.826Z"
   },
   {
    "duration": 18,
    "start_time": "2022-03-23T18:13:49.867Z"
   },
   {
    "duration": 25,
    "start_time": "2022-03-23T18:13:49.887Z"
   },
   {
    "duration": 12,
    "start_time": "2022-03-23T18:13:49.915Z"
   },
   {
    "duration": 20,
    "start_time": "2022-03-23T18:13:49.929Z"
   },
   {
    "duration": 25,
    "start_time": "2022-03-23T18:13:49.952Z"
   },
   {
    "duration": 19,
    "start_time": "2022-03-23T18:13:49.980Z"
   },
   {
    "duration": 17,
    "start_time": "2022-03-23T18:13:50.001Z"
   },
   {
    "duration": 39,
    "start_time": "2022-03-23T18:13:50.020Z"
   },
   {
    "duration": 14,
    "start_time": "2022-03-23T18:13:50.061Z"
   },
   {
    "duration": 11,
    "start_time": "2022-03-23T18:13:50.078Z"
   },
   {
    "duration": 9,
    "start_time": "2022-03-23T18:13:50.092Z"
   },
   {
    "duration": 13,
    "start_time": "2022-03-23T18:13:50.103Z"
   },
   {
    "duration": 12,
    "start_time": "2022-03-23T18:13:50.118Z"
   },
   {
    "duration": 11,
    "start_time": "2022-03-23T18:13:50.181Z"
   },
   {
    "duration": 11,
    "start_time": "2022-03-23T18:13:50.194Z"
   },
   {
    "duration": 137,
    "start_time": "2022-03-23T18:13:50.206Z"
   },
   {
    "duration": 51,
    "start_time": "2022-03-23T18:13:50.345Z"
   },
   {
    "duration": 275,
    "start_time": "2022-03-23T18:13:50.399Z"
   },
   {
    "duration": 17,
    "start_time": "2022-03-23T18:13:50.676Z"
   },
   {
    "duration": 8,
    "start_time": "2022-03-23T18:13:50.695Z"
   },
   {
    "duration": 8,
    "start_time": "2022-03-23T18:13:50.705Z"
   },
   {
    "duration": 15,
    "start_time": "2022-03-23T18:13:50.715Z"
   },
   {
    "duration": 3,
    "start_time": "2022-03-23T18:13:50.775Z"
   },
   {
    "duration": 14,
    "start_time": "2022-03-23T18:13:50.780Z"
   },
   {
    "duration": 3,
    "start_time": "2022-03-23T18:13:50.796Z"
   },
   {
    "duration": 5,
    "start_time": "2022-03-23T18:13:50.801Z"
   },
   {
    "duration": 11,
    "start_time": "2022-03-23T18:13:50.808Z"
   },
   {
    "duration": 5,
    "start_time": "2022-03-23T18:13:50.821Z"
   },
   {
    "duration": 8,
    "start_time": "2022-03-23T18:13:50.875Z"
   },
   {
    "duration": 7,
    "start_time": "2022-03-23T18:13:50.885Z"
   },
   {
    "duration": 7,
    "start_time": "2022-03-23T18:13:50.894Z"
   },
   {
    "duration": 14,
    "start_time": "2022-03-23T18:13:50.903Z"
   },
   {
    "duration": 14,
    "start_time": "2022-03-23T18:13:50.919Z"
   },
   {
    "duration": 46,
    "start_time": "2022-03-23T18:13:50.936Z"
   },
   {
    "duration": 185,
    "start_time": "2022-03-23T18:13:50.984Z"
   },
   {
    "duration": 0,
    "start_time": "2022-03-23T18:13:51.171Z"
   },
   {
    "duration": 0,
    "start_time": "2022-03-23T18:13:51.173Z"
   },
   {
    "duration": 0,
    "start_time": "2022-03-23T18:13:51.175Z"
   },
   {
    "duration": 0,
    "start_time": "2022-03-23T18:13:51.177Z"
   },
   {
    "duration": 0,
    "start_time": "2022-03-23T18:13:51.178Z"
   },
   {
    "duration": 0,
    "start_time": "2022-03-23T18:13:51.181Z"
   },
   {
    "duration": 0,
    "start_time": "2022-03-23T18:13:51.183Z"
   },
   {
    "duration": 0,
    "start_time": "2022-03-23T18:13:51.184Z"
   },
   {
    "duration": 0,
    "start_time": "2022-03-23T18:13:51.185Z"
   },
   {
    "duration": 0,
    "start_time": "2022-03-23T18:13:51.187Z"
   },
   {
    "duration": 0,
    "start_time": "2022-03-23T18:13:51.189Z"
   },
   {
    "duration": 0,
    "start_time": "2022-03-23T18:13:51.190Z"
   },
   {
    "duration": 0,
    "start_time": "2022-03-23T18:13:51.192Z"
   },
   {
    "duration": 0,
    "start_time": "2022-03-23T18:13:51.194Z"
   },
   {
    "duration": 0,
    "start_time": "2022-03-23T18:13:51.195Z"
   },
   {
    "duration": 0,
    "start_time": "2022-03-23T18:13:51.197Z"
   },
   {
    "duration": 0,
    "start_time": "2022-03-23T18:13:51.199Z"
   },
   {
    "duration": 0,
    "start_time": "2022-03-23T18:13:51.200Z"
   },
   {
    "duration": 0,
    "start_time": "2022-03-23T18:13:51.202Z"
   },
   {
    "duration": 0,
    "start_time": "2022-03-23T18:13:51.205Z"
   },
   {
    "duration": 0,
    "start_time": "2022-03-23T18:13:51.206Z"
   },
   {
    "duration": 0,
    "start_time": "2022-03-23T18:13:51.208Z"
   },
   {
    "duration": 0,
    "start_time": "2022-03-23T18:13:51.209Z"
   },
   {
    "duration": 0,
    "start_time": "2022-03-23T18:13:51.211Z"
   },
   {
    "duration": 0,
    "start_time": "2022-03-23T18:13:51.212Z"
   },
   {
    "duration": 0,
    "start_time": "2022-03-23T18:13:51.274Z"
   },
   {
    "duration": 0,
    "start_time": "2022-03-23T18:13:51.276Z"
   },
   {
    "duration": 0,
    "start_time": "2022-03-23T18:13:51.278Z"
   },
   {
    "duration": 0,
    "start_time": "2022-03-23T18:13:51.279Z"
   },
   {
    "duration": 0,
    "start_time": "2022-03-23T18:13:51.281Z"
   },
   {
    "duration": 0,
    "start_time": "2022-03-23T18:13:51.283Z"
   },
   {
    "duration": 0,
    "start_time": "2022-03-23T18:13:51.284Z"
   },
   {
    "duration": 0,
    "start_time": "2022-03-23T18:13:51.286Z"
   },
   {
    "duration": 0,
    "start_time": "2022-03-23T18:13:51.296Z"
   },
   {
    "duration": 0,
    "start_time": "2022-03-23T18:13:51.299Z"
   },
   {
    "duration": 0,
    "start_time": "2022-03-23T18:13:51.300Z"
   },
   {
    "duration": 0,
    "start_time": "2022-03-23T18:13:51.302Z"
   },
   {
    "duration": 0,
    "start_time": "2022-03-23T18:13:51.304Z"
   },
   {
    "duration": 0,
    "start_time": "2022-03-23T18:13:51.306Z"
   },
   {
    "duration": 0,
    "start_time": "2022-03-23T18:13:51.308Z"
   },
   {
    "duration": 0,
    "start_time": "2022-03-23T18:13:51.309Z"
   },
   {
    "duration": 0,
    "start_time": "2022-03-23T18:13:51.310Z"
   },
   {
    "duration": 11,
    "start_time": "2022-03-23T18:14:37.219Z"
   },
   {
    "duration": 21,
    "start_time": "2022-03-23T18:14:38.568Z"
   },
   {
    "duration": 20,
    "start_time": "2022-03-23T18:15:42.665Z"
   },
   {
    "duration": 1878,
    "start_time": "2022-03-23T18:19:08.796Z"
   },
   {
    "duration": 146,
    "start_time": "2022-03-23T18:19:10.677Z"
   },
   {
    "duration": 114,
    "start_time": "2022-03-23T18:19:10.825Z"
   },
   {
    "duration": 33,
    "start_time": "2022-03-23T18:19:10.942Z"
   },
   {
    "duration": 10,
    "start_time": "2022-03-23T18:19:10.978Z"
   },
   {
    "duration": 17,
    "start_time": "2022-03-23T18:19:10.991Z"
   },
   {
    "duration": 12,
    "start_time": "2022-03-23T18:19:11.011Z"
   },
   {
    "duration": 52,
    "start_time": "2022-03-23T18:19:11.025Z"
   },
   {
    "duration": 13,
    "start_time": "2022-03-23T18:19:11.079Z"
   },
   {
    "duration": 7,
    "start_time": "2022-03-23T18:19:11.097Z"
   },
   {
    "duration": 8,
    "start_time": "2022-03-23T18:19:11.107Z"
   },
   {
    "duration": 10,
    "start_time": "2022-03-23T18:19:11.117Z"
   },
   {
    "duration": 9,
    "start_time": "2022-03-23T18:19:11.175Z"
   },
   {
    "duration": 8,
    "start_time": "2022-03-23T18:19:11.186Z"
   },
   {
    "duration": 12,
    "start_time": "2022-03-23T18:19:11.196Z"
   },
   {
    "duration": 8,
    "start_time": "2022-03-23T18:19:11.210Z"
   },
   {
    "duration": 55,
    "start_time": "2022-03-23T18:19:11.221Z"
   },
   {
    "duration": 10,
    "start_time": "2022-03-23T18:19:11.278Z"
   },
   {
    "duration": 10,
    "start_time": "2022-03-23T18:19:11.289Z"
   },
   {
    "duration": 11,
    "start_time": "2022-03-23T18:19:11.301Z"
   },
   {
    "duration": 16,
    "start_time": "2022-03-23T18:19:11.314Z"
   },
   {
    "duration": 46,
    "start_time": "2022-03-23T18:19:11.333Z"
   },
   {
    "duration": 10,
    "start_time": "2022-03-23T18:19:11.381Z"
   },
   {
    "duration": 11,
    "start_time": "2022-03-23T18:19:11.393Z"
   },
   {
    "duration": 7,
    "start_time": "2022-03-23T18:19:11.406Z"
   },
   {
    "duration": 13,
    "start_time": "2022-03-23T18:19:11.415Z"
   },
   {
    "duration": 12,
    "start_time": "2022-03-23T18:19:11.475Z"
   },
   {
    "duration": 11,
    "start_time": "2022-03-23T18:19:11.498Z"
   },
   {
    "duration": 17,
    "start_time": "2022-03-23T18:19:11.512Z"
   },
   {
    "duration": 148,
    "start_time": "2022-03-23T18:19:11.531Z"
   },
   {
    "duration": 32,
    "start_time": "2022-03-23T18:19:11.681Z"
   },
   {
    "duration": 292,
    "start_time": "2022-03-23T18:19:11.715Z"
   },
   {
    "duration": 15,
    "start_time": "2022-03-23T18:19:12.009Z"
   },
   {
    "duration": 8,
    "start_time": "2022-03-23T18:19:12.027Z"
   },
   {
    "duration": 38,
    "start_time": "2022-03-23T18:19:12.037Z"
   },
   {
    "duration": 16,
    "start_time": "2022-03-23T18:19:12.077Z"
   },
   {
    "duration": 3,
    "start_time": "2022-03-23T18:19:12.095Z"
   },
   {
    "duration": 10,
    "start_time": "2022-03-23T18:19:12.100Z"
   },
   {
    "duration": 3,
    "start_time": "2022-03-23T18:19:12.112Z"
   },
   {
    "duration": 6,
    "start_time": "2022-03-23T18:19:12.117Z"
   },
   {
    "duration": 49,
    "start_time": "2022-03-23T18:19:12.125Z"
   },
   {
    "duration": 3,
    "start_time": "2022-03-23T18:19:12.176Z"
   },
   {
    "duration": 6,
    "start_time": "2022-03-23T18:19:12.181Z"
   },
   {
    "duration": 8,
    "start_time": "2022-03-23T18:19:12.189Z"
   },
   {
    "duration": 10,
    "start_time": "2022-03-23T18:19:12.200Z"
   },
   {
    "duration": 15,
    "start_time": "2022-03-23T18:19:12.212Z"
   },
   {
    "duration": 14,
    "start_time": "2022-03-23T18:19:12.229Z"
   },
   {
    "duration": 34,
    "start_time": "2022-03-23T18:19:12.245Z"
   },
   {
    "duration": 174,
    "start_time": "2022-03-23T18:19:12.281Z"
   },
   {
    "duration": 0,
    "start_time": "2022-03-23T18:19:12.458Z"
   },
   {
    "duration": 0,
    "start_time": "2022-03-23T18:19:12.460Z"
   },
   {
    "duration": 0,
    "start_time": "2022-03-23T18:19:12.473Z"
   },
   {
    "duration": 0,
    "start_time": "2022-03-23T18:19:12.474Z"
   },
   {
    "duration": 0,
    "start_time": "2022-03-23T18:19:12.477Z"
   },
   {
    "duration": 0,
    "start_time": "2022-03-23T18:19:12.479Z"
   },
   {
    "duration": 0,
    "start_time": "2022-03-23T18:19:12.480Z"
   },
   {
    "duration": 0,
    "start_time": "2022-03-23T18:19:12.481Z"
   },
   {
    "duration": 1,
    "start_time": "2022-03-23T18:19:12.482Z"
   },
   {
    "duration": 0,
    "start_time": "2022-03-23T18:19:12.484Z"
   },
   {
    "duration": 0,
    "start_time": "2022-03-23T18:19:12.485Z"
   },
   {
    "duration": 0,
    "start_time": "2022-03-23T18:19:12.487Z"
   },
   {
    "duration": 0,
    "start_time": "2022-03-23T18:19:12.488Z"
   },
   {
    "duration": 0,
    "start_time": "2022-03-23T18:19:12.490Z"
   },
   {
    "duration": 0,
    "start_time": "2022-03-23T18:19:12.491Z"
   },
   {
    "duration": 0,
    "start_time": "2022-03-23T18:19:12.493Z"
   },
   {
    "duration": 0,
    "start_time": "2022-03-23T18:19:12.494Z"
   },
   {
    "duration": 0,
    "start_time": "2022-03-23T18:19:12.495Z"
   },
   {
    "duration": 0,
    "start_time": "2022-03-23T18:19:12.496Z"
   },
   {
    "duration": 0,
    "start_time": "2022-03-23T18:19:12.497Z"
   },
   {
    "duration": 0,
    "start_time": "2022-03-23T18:19:12.498Z"
   },
   {
    "duration": 0,
    "start_time": "2022-03-23T18:19:12.500Z"
   },
   {
    "duration": 0,
    "start_time": "2022-03-23T18:19:12.501Z"
   },
   {
    "duration": 0,
    "start_time": "2022-03-23T18:19:12.502Z"
   },
   {
    "duration": 0,
    "start_time": "2022-03-23T18:19:12.503Z"
   },
   {
    "duration": 0,
    "start_time": "2022-03-23T18:19:12.506Z"
   },
   {
    "duration": 0,
    "start_time": "2022-03-23T18:19:12.508Z"
   },
   {
    "duration": 0,
    "start_time": "2022-03-23T18:19:12.509Z"
   },
   {
    "duration": 0,
    "start_time": "2022-03-23T18:19:12.511Z"
   },
   {
    "duration": 0,
    "start_time": "2022-03-23T18:19:12.513Z"
   },
   {
    "duration": 0,
    "start_time": "2022-03-23T18:19:12.574Z"
   },
   {
    "duration": 0,
    "start_time": "2022-03-23T18:19:12.576Z"
   },
   {
    "duration": 0,
    "start_time": "2022-03-23T18:19:12.577Z"
   },
   {
    "duration": 0,
    "start_time": "2022-03-23T18:19:12.579Z"
   },
   {
    "duration": 0,
    "start_time": "2022-03-23T18:19:12.581Z"
   },
   {
    "duration": 0,
    "start_time": "2022-03-23T18:19:12.582Z"
   },
   {
    "duration": 0,
    "start_time": "2022-03-23T18:19:12.584Z"
   },
   {
    "duration": 0,
    "start_time": "2022-03-23T18:19:12.586Z"
   },
   {
    "duration": 0,
    "start_time": "2022-03-23T18:19:12.587Z"
   },
   {
    "duration": 0,
    "start_time": "2022-03-23T18:19:12.589Z"
   },
   {
    "duration": 0,
    "start_time": "2022-03-23T18:19:12.591Z"
   },
   {
    "duration": 0,
    "start_time": "2022-03-23T18:19:12.592Z"
   },
   {
    "duration": 1649,
    "start_time": "2022-03-23T18:25:52.352Z"
   },
   {
    "duration": 146,
    "start_time": "2022-03-23T18:25:54.004Z"
   },
   {
    "duration": 114,
    "start_time": "2022-03-23T18:25:54.152Z"
   },
   {
    "duration": 22,
    "start_time": "2022-03-23T18:25:54.276Z"
   },
   {
    "duration": 10,
    "start_time": "2022-03-23T18:25:54.301Z"
   },
   {
    "duration": 11,
    "start_time": "2022-03-23T18:25:54.313Z"
   },
   {
    "duration": 49,
    "start_time": "2022-03-23T18:25:54.327Z"
   },
   {
    "duration": 9,
    "start_time": "2022-03-23T18:25:54.378Z"
   },
   {
    "duration": 11,
    "start_time": "2022-03-23T18:25:54.389Z"
   },
   {
    "duration": 7,
    "start_time": "2022-03-23T18:25:54.404Z"
   },
   {
    "duration": 10,
    "start_time": "2022-03-23T18:25:54.414Z"
   },
   {
    "duration": 12,
    "start_time": "2022-03-23T18:25:54.475Z"
   },
   {
    "duration": 14,
    "start_time": "2022-03-23T18:25:54.489Z"
   },
   {
    "duration": 9,
    "start_time": "2022-03-23T18:25:54.506Z"
   },
   {
    "duration": 17,
    "start_time": "2022-03-23T18:25:54.518Z"
   },
   {
    "duration": 42,
    "start_time": "2022-03-23T18:25:54.537Z"
   },
   {
    "duration": 9,
    "start_time": "2022-03-23T18:25:54.582Z"
   },
   {
    "duration": 8,
    "start_time": "2022-03-23T18:25:54.593Z"
   },
   {
    "duration": 10,
    "start_time": "2022-03-23T18:25:54.603Z"
   },
   {
    "duration": 11,
    "start_time": "2022-03-23T18:25:54.615Z"
   },
   {
    "duration": 10,
    "start_time": "2022-03-23T18:25:54.674Z"
   },
   {
    "duration": 9,
    "start_time": "2022-03-23T18:25:54.686Z"
   },
   {
    "duration": 6,
    "start_time": "2022-03-23T18:25:54.698Z"
   },
   {
    "duration": 69,
    "start_time": "2022-03-23T18:25:54.707Z"
   },
   {
    "duration": 9,
    "start_time": "2022-03-23T18:25:54.779Z"
   },
   {
    "duration": 10,
    "start_time": "2022-03-23T18:25:54.790Z"
   },
   {
    "duration": 8,
    "start_time": "2022-03-23T18:25:54.803Z"
   },
   {
    "duration": 9,
    "start_time": "2022-03-23T18:25:54.818Z"
   },
   {
    "duration": 56,
    "start_time": "2022-03-23T18:25:54.829Z"
   },
   {
    "duration": 28,
    "start_time": "2022-03-23T18:25:54.888Z"
   },
   {
    "duration": 30,
    "start_time": "2022-03-23T18:25:54.919Z"
   },
   {
    "duration": 294,
    "start_time": "2022-03-23T18:25:54.952Z"
   },
   {
    "duration": 27,
    "start_time": "2022-03-23T18:25:55.249Z"
   },
   {
    "duration": 8,
    "start_time": "2022-03-23T18:25:55.279Z"
   },
   {
    "duration": 8,
    "start_time": "2022-03-23T18:25:55.290Z"
   },
   {
    "duration": 16,
    "start_time": "2022-03-23T18:25:55.300Z"
   },
   {
    "duration": 4,
    "start_time": "2022-03-23T18:25:55.318Z"
   },
   {
    "duration": 50,
    "start_time": "2022-03-23T18:25:55.325Z"
   },
   {
    "duration": 4,
    "start_time": "2022-03-23T18:25:55.377Z"
   },
   {
    "duration": 6,
    "start_time": "2022-03-23T18:25:55.383Z"
   },
   {
    "duration": 12,
    "start_time": "2022-03-23T18:25:55.392Z"
   },
   {
    "duration": 3,
    "start_time": "2022-03-23T18:25:55.406Z"
   },
   {
    "duration": 6,
    "start_time": "2022-03-23T18:25:55.412Z"
   },
   {
    "duration": 5,
    "start_time": "2022-03-23T18:25:55.420Z"
   },
   {
    "duration": 8,
    "start_time": "2022-03-23T18:25:55.427Z"
   },
   {
    "duration": 11,
    "start_time": "2022-03-23T18:25:55.475Z"
   },
   {
    "duration": 16,
    "start_time": "2022-03-23T18:25:55.488Z"
   },
   {
    "duration": 11,
    "start_time": "2022-03-23T18:25:55.507Z"
   },
   {
    "duration": 73,
    "start_time": "2022-03-23T18:25:55.520Z"
   },
   {
    "duration": 599,
    "start_time": "2022-03-23T18:25:55.595Z"
   },
   {
    "duration": 10,
    "start_time": "2022-03-23T18:25:56.197Z"
   },
   {
    "duration": 17,
    "start_time": "2022-03-23T18:25:56.209Z"
   },
   {
    "duration": 6,
    "start_time": "2022-03-23T18:25:56.229Z"
   },
   {
    "duration": 44,
    "start_time": "2022-03-23T18:25:56.237Z"
   },
   {
    "duration": 231,
    "start_time": "2022-03-23T18:25:56.283Z"
   },
   {
    "duration": 254,
    "start_time": "2022-03-23T18:25:56.516Z"
   },
   {
    "duration": 10,
    "start_time": "2022-03-23T18:25:56.772Z"
   },
   {
    "duration": 15,
    "start_time": "2022-03-23T18:25:56.784Z"
   },
   {
    "duration": 11,
    "start_time": "2022-03-23T18:25:56.802Z"
   },
   {
    "duration": 230,
    "start_time": "2022-03-23T18:25:56.815Z"
   },
   {
    "duration": 237,
    "start_time": "2022-03-23T18:25:57.048Z"
   },
   {
    "duration": 10,
    "start_time": "2022-03-23T18:25:57.287Z"
   },
   {
    "duration": 18,
    "start_time": "2022-03-23T18:25:57.299Z"
   },
   {
    "duration": 20,
    "start_time": "2022-03-23T18:25:57.319Z"
   },
   {
    "duration": 193,
    "start_time": "2022-03-23T18:25:57.341Z"
   },
   {
    "duration": 357,
    "start_time": "2022-03-23T18:25:57.536Z"
   },
   {
    "duration": 12,
    "start_time": "2022-03-23T18:25:57.895Z"
   },
   {
    "duration": 15,
    "start_time": "2022-03-23T18:25:57.909Z"
   },
   {
    "duration": 13,
    "start_time": "2022-03-23T18:25:57.926Z"
   },
   {
    "duration": 294,
    "start_time": "2022-03-23T18:25:57.978Z"
   },
   {
    "duration": 233,
    "start_time": "2022-03-23T18:25:58.275Z"
   },
   {
    "duration": 16,
    "start_time": "2022-03-23T18:25:58.510Z"
   },
   {
    "duration": 15,
    "start_time": "2022-03-23T18:25:58.529Z"
   },
   {
    "duration": 36,
    "start_time": "2022-03-23T18:25:58.546Z"
   },
   {
    "duration": 200,
    "start_time": "2022-03-23T18:25:58.584Z"
   },
   {
    "duration": 265,
    "start_time": "2022-03-23T18:25:58.786Z"
   },
   {
    "duration": 23,
    "start_time": "2022-03-23T18:25:59.053Z"
   },
   {
    "duration": 13,
    "start_time": "2022-03-23T18:25:59.078Z"
   },
   {
    "duration": 6,
    "start_time": "2022-03-23T18:25:59.093Z"
   },
   {
    "duration": 30,
    "start_time": "2022-03-23T18:25:59.101Z"
   },
   {
    "duration": 2120,
    "start_time": "2022-03-23T18:25:59.134Z"
   },
   {
    "duration": 360,
    "start_time": "2022-03-23T18:26:01.262Z"
   },
   {
    "duration": 449,
    "start_time": "2022-03-23T18:26:01.625Z"
   },
   {
    "duration": 2800,
    "start_time": "2022-03-23T18:26:02.076Z"
   },
   {
    "duration": 34,
    "start_time": "2022-03-23T18:26:04.878Z"
   },
   {
    "duration": 10,
    "start_time": "2022-03-23T18:26:04.914Z"
   },
   {
    "duration": 269,
    "start_time": "2022-03-23T18:26:04.926Z"
   },
   {
    "duration": 258,
    "start_time": "2022-03-23T18:26:05.197Z"
   },
   {
    "duration": 16,
    "start_time": "2022-03-23T18:26:05.458Z"
   },
   {
    "duration": 239,
    "start_time": "2022-03-23T18:26:05.477Z"
   },
   {
    "duration": 257,
    "start_time": "2022-03-23T18:26:05.719Z"
   },
   {
    "duration": 235,
    "start_time": "2022-03-23T18:28:15.771Z"
   },
   {
    "duration": 234,
    "start_time": "2022-03-23T18:28:29.744Z"
   },
   {
    "duration": 242,
    "start_time": "2022-03-23T18:31:03.778Z"
   },
   {
    "duration": 201,
    "start_time": "2022-03-23T18:31:58.124Z"
   },
   {
    "duration": 211,
    "start_time": "2022-03-23T18:33:10.293Z"
   },
   {
    "duration": 224,
    "start_time": "2022-03-23T18:33:58.018Z"
   },
   {
    "duration": 216,
    "start_time": "2022-03-23T18:36:03.068Z"
   },
   {
    "duration": 325,
    "start_time": "2022-03-23T18:36:19.791Z"
   },
   {
    "duration": 266,
    "start_time": "2022-03-23T18:37:24.028Z"
   },
   {
    "duration": 3,
    "start_time": "2022-03-23T18:37:45.967Z"
   },
   {
    "duration": 299,
    "start_time": "2022-03-23T18:39:38.255Z"
   },
   {
    "duration": 279,
    "start_time": "2022-03-23T18:41:10.595Z"
   },
   {
    "duration": 1628,
    "start_time": "2022-03-23T18:51:33.091Z"
   },
   {
    "duration": 153,
    "start_time": "2022-03-23T18:51:34.722Z"
   },
   {
    "duration": 119,
    "start_time": "2022-03-23T18:51:34.878Z"
   },
   {
    "duration": 22,
    "start_time": "2022-03-23T18:51:35.000Z"
   },
   {
    "duration": 9,
    "start_time": "2022-03-23T18:51:35.025Z"
   },
   {
    "duration": 42,
    "start_time": "2022-03-23T18:51:35.036Z"
   },
   {
    "duration": 9,
    "start_time": "2022-03-23T18:51:35.080Z"
   },
   {
    "duration": 10,
    "start_time": "2022-03-23T18:51:35.091Z"
   },
   {
    "duration": 13,
    "start_time": "2022-03-23T18:51:35.104Z"
   },
   {
    "duration": 53,
    "start_time": "2022-03-23T18:51:35.122Z"
   },
   {
    "duration": 13,
    "start_time": "2022-03-23T18:51:35.177Z"
   },
   {
    "duration": 12,
    "start_time": "2022-03-23T18:51:35.192Z"
   },
   {
    "duration": 9,
    "start_time": "2022-03-23T18:51:35.207Z"
   },
   {
    "duration": 9,
    "start_time": "2022-03-23T18:51:35.218Z"
   },
   {
    "duration": 53,
    "start_time": "2022-03-23T18:51:35.229Z"
   },
   {
    "duration": 13,
    "start_time": "2022-03-23T18:51:35.284Z"
   },
   {
    "duration": 7,
    "start_time": "2022-03-23T18:51:35.299Z"
   },
   {
    "duration": 10,
    "start_time": "2022-03-23T18:51:35.308Z"
   },
   {
    "duration": 8,
    "start_time": "2022-03-23T18:51:35.320Z"
   },
   {
    "duration": 54,
    "start_time": "2022-03-23T18:51:35.330Z"
   },
   {
    "duration": 13,
    "start_time": "2022-03-23T18:51:35.386Z"
   },
   {
    "duration": 9,
    "start_time": "2022-03-23T18:51:35.402Z"
   },
   {
    "duration": 8,
    "start_time": "2022-03-23T18:51:35.413Z"
   },
   {
    "duration": 9,
    "start_time": "2022-03-23T18:51:35.423Z"
   },
   {
    "duration": 9,
    "start_time": "2022-03-23T18:51:35.474Z"
   },
   {
    "duration": 9,
    "start_time": "2022-03-23T18:51:35.485Z"
   },
   {
    "duration": 9,
    "start_time": "2022-03-23T18:51:35.496Z"
   },
   {
    "duration": 8,
    "start_time": "2022-03-23T18:51:35.512Z"
   },
   {
    "duration": 52,
    "start_time": "2022-03-23T18:51:35.523Z"
   },
   {
    "duration": 16,
    "start_time": "2022-03-23T18:51:35.577Z"
   },
   {
    "duration": 32,
    "start_time": "2022-03-23T18:51:35.596Z"
   },
   {
    "duration": 297,
    "start_time": "2022-03-23T18:51:35.630Z"
   },
   {
    "duration": 16,
    "start_time": "2022-03-23T18:51:35.930Z"
   },
   {
    "duration": 28,
    "start_time": "2022-03-23T18:51:35.948Z"
   },
   {
    "duration": 11,
    "start_time": "2022-03-23T18:51:35.978Z"
   },
   {
    "duration": 13,
    "start_time": "2022-03-23T18:51:35.991Z"
   },
   {
    "duration": 7,
    "start_time": "2022-03-23T18:51:36.006Z"
   },
   {
    "duration": 11,
    "start_time": "2022-03-23T18:51:36.015Z"
   },
   {
    "duration": 3,
    "start_time": "2022-03-23T18:51:36.028Z"
   },
   {
    "duration": 3,
    "start_time": "2022-03-23T18:51:36.074Z"
   },
   {
    "duration": 10,
    "start_time": "2022-03-23T18:51:36.079Z"
   },
   {
    "duration": 4,
    "start_time": "2022-03-23T18:51:36.091Z"
   },
   {
    "duration": 4,
    "start_time": "2022-03-23T18:51:36.098Z"
   },
   {
    "duration": 7,
    "start_time": "2022-03-23T18:51:36.105Z"
   },
   {
    "duration": 5,
    "start_time": "2022-03-23T18:51:36.115Z"
   },
   {
    "duration": 53,
    "start_time": "2022-03-23T18:51:36.122Z"
   },
   {
    "duration": 16,
    "start_time": "2022-03-23T18:51:36.177Z"
   },
   {
    "duration": 10,
    "start_time": "2022-03-23T18:51:36.194Z"
   },
   {
    "duration": 34,
    "start_time": "2022-03-23T18:51:36.206Z"
   },
   {
    "duration": 567,
    "start_time": "2022-03-23T18:51:36.273Z"
   },
   {
    "duration": 10,
    "start_time": "2022-03-23T18:51:36.842Z"
   },
   {
    "duration": 27,
    "start_time": "2022-03-23T18:51:36.854Z"
   },
   {
    "duration": 14,
    "start_time": "2022-03-23T18:51:36.883Z"
   },
   {
    "duration": 15,
    "start_time": "2022-03-23T18:51:36.900Z"
   },
   {
    "duration": 234,
    "start_time": "2022-03-23T18:51:36.917Z"
   },
   {
    "duration": 245,
    "start_time": "2022-03-23T18:51:37.153Z"
   },
   {
    "duration": 11,
    "start_time": "2022-03-23T18:51:37.400Z"
   },
   {
    "duration": 16,
    "start_time": "2022-03-23T18:51:37.413Z"
   },
   {
    "duration": 44,
    "start_time": "2022-03-23T18:51:37.431Z"
   },
   {
    "duration": 200,
    "start_time": "2022-03-23T18:51:37.477Z"
   },
   {
    "duration": 236,
    "start_time": "2022-03-23T18:51:37.679Z"
   },
   {
    "duration": 10,
    "start_time": "2022-03-23T18:51:37.918Z"
   },
   {
    "duration": 15,
    "start_time": "2022-03-23T18:51:37.931Z"
   },
   {
    "duration": 34,
    "start_time": "2022-03-23T18:51:37.949Z"
   },
   {
    "duration": 193,
    "start_time": "2022-03-23T18:51:37.986Z"
   },
   {
    "duration": 240,
    "start_time": "2022-03-23T18:51:38.183Z"
   },
   {
    "duration": 11,
    "start_time": "2022-03-23T18:51:38.425Z"
   },
   {
    "duration": 36,
    "start_time": "2022-03-23T18:51:38.439Z"
   },
   {
    "duration": 13,
    "start_time": "2022-03-23T18:51:38.478Z"
   },
   {
    "duration": 298,
    "start_time": "2022-03-23T18:51:38.494Z"
   },
   {
    "duration": 229,
    "start_time": "2022-03-23T18:51:38.794Z"
   },
   {
    "duration": 18,
    "start_time": "2022-03-23T18:51:39.026Z"
   },
   {
    "duration": 37,
    "start_time": "2022-03-23T18:51:39.046Z"
   },
   {
    "duration": 12,
    "start_time": "2022-03-23T18:51:39.086Z"
   },
   {
    "duration": 212,
    "start_time": "2022-03-23T18:51:39.100Z"
   },
   {
    "duration": 262,
    "start_time": "2022-03-23T18:51:39.314Z"
   },
   {
    "duration": 11,
    "start_time": "2022-03-23T18:51:39.578Z"
   },
   {
    "duration": 14,
    "start_time": "2022-03-23T18:51:39.591Z"
   },
   {
    "duration": 4,
    "start_time": "2022-03-23T18:51:39.608Z"
   },
   {
    "duration": 19,
    "start_time": "2022-03-23T18:51:39.615Z"
   },
   {
    "duration": 2229,
    "start_time": "2022-03-23T18:51:39.637Z"
   },
   {
    "duration": 352,
    "start_time": "2022-03-23T18:51:41.875Z"
   },
   {
    "duration": 446,
    "start_time": "2022-03-23T18:51:42.230Z"
   },
   {
    "duration": 2956,
    "start_time": "2022-03-23T18:51:42.679Z"
   },
   {
    "duration": 44,
    "start_time": "2022-03-23T18:51:45.637Z"
   },
   {
    "duration": 12,
    "start_time": "2022-03-23T18:51:45.684Z"
   },
   {
    "duration": 263,
    "start_time": "2022-03-23T18:51:45.699Z"
   },
   {
    "duration": 255,
    "start_time": "2022-03-23T18:51:45.965Z"
   },
   {
    "duration": 10,
    "start_time": "2022-03-23T18:51:46.222Z"
   },
   {
    "duration": 241,
    "start_time": "2022-03-23T18:51:46.234Z"
   },
   {
    "duration": 245,
    "start_time": "2022-03-23T18:51:46.477Z"
   },
   {
    "duration": 248,
    "start_time": "2022-03-23T18:51:46.725Z"
   },
   {
    "duration": 221,
    "start_time": "2022-03-23T18:51:46.976Z"
   },
   {
    "duration": 292,
    "start_time": "2022-03-23T18:51:47.200Z"
   },
   {
    "duration": 301,
    "start_time": "2022-03-23T18:51:47.494Z"
   },
   {
    "duration": 317,
    "start_time": "2022-03-23T18:51:47.797Z"
   },
   {
    "duration": 1628,
    "start_time": "2022-04-03T15:04:07.816Z"
   },
   {
    "duration": 133,
    "start_time": "2022-04-03T15:04:09.447Z"
   },
   {
    "duration": 107,
    "start_time": "2022-04-03T15:04:09.582Z"
   },
   {
    "duration": 21,
    "start_time": "2022-04-03T15:04:09.692Z"
   },
   {
    "duration": 30,
    "start_time": "2022-04-03T15:04:09.715Z"
   },
   {
    "duration": 10,
    "start_time": "2022-04-03T15:04:09.747Z"
   },
   {
    "duration": 8,
    "start_time": "2022-04-03T15:04:09.760Z"
   },
   {
    "duration": 8,
    "start_time": "2022-04-03T15:04:09.770Z"
   },
   {
    "duration": 10,
    "start_time": "2022-04-03T15:04:09.780Z"
   },
   {
    "duration": 8,
    "start_time": "2022-04-03T15:04:09.842Z"
   },
   {
    "duration": 18,
    "start_time": "2022-04-03T15:04:09.852Z"
   },
   {
    "duration": 9,
    "start_time": "2022-04-03T15:04:09.872Z"
   },
   {
    "duration": 8,
    "start_time": "2022-04-03T15:04:09.883Z"
   },
   {
    "duration": 7,
    "start_time": "2022-04-03T15:04:09.893Z"
   },
   {
    "duration": 46,
    "start_time": "2022-04-03T15:04:09.903Z"
   },
   {
    "duration": 11,
    "start_time": "2022-04-03T15:04:09.951Z"
   },
   {
    "duration": 7,
    "start_time": "2022-04-03T15:04:09.964Z"
   },
   {
    "duration": 10,
    "start_time": "2022-04-03T15:04:09.973Z"
   },
   {
    "duration": 8,
    "start_time": "2022-04-03T15:04:09.985Z"
   },
   {
    "duration": 56,
    "start_time": "2022-04-03T15:04:09.995Z"
   },
   {
    "duration": 10,
    "start_time": "2022-04-03T15:04:10.053Z"
   },
   {
    "duration": 8,
    "start_time": "2022-04-03T15:04:10.066Z"
   },
   {
    "duration": 8,
    "start_time": "2022-04-03T15:04:10.076Z"
   },
   {
    "duration": 9,
    "start_time": "2022-04-03T15:04:10.086Z"
   },
   {
    "duration": 7,
    "start_time": "2022-04-03T15:04:10.144Z"
   },
   {
    "duration": 10,
    "start_time": "2022-04-03T15:04:10.153Z"
   },
   {
    "duration": 9,
    "start_time": "2022-04-03T15:04:10.165Z"
   },
   {
    "duration": 9,
    "start_time": "2022-04-03T15:04:10.180Z"
   },
   {
    "duration": 9,
    "start_time": "2022-04-03T15:04:10.191Z"
   },
   {
    "duration": 15,
    "start_time": "2022-04-03T15:04:10.244Z"
   },
   {
    "duration": 28,
    "start_time": "2022-04-03T15:04:10.261Z"
   },
   {
    "duration": 278,
    "start_time": "2022-04-03T15:04:10.291Z"
   },
   {
    "duration": 15,
    "start_time": "2022-04-03T15:04:10.572Z"
   },
   {
    "duration": 8,
    "start_time": "2022-04-03T15:04:10.589Z"
   },
   {
    "duration": 7,
    "start_time": "2022-04-03T15:04:10.599Z"
   },
   {
    "duration": 43,
    "start_time": "2022-04-03T15:04:10.608Z"
   },
   {
    "duration": 10,
    "start_time": "2022-04-03T15:04:10.653Z"
   },
   {
    "duration": 11,
    "start_time": "2022-04-03T15:04:10.665Z"
   },
   {
    "duration": 3,
    "start_time": "2022-04-03T15:04:10.678Z"
   },
   {
    "duration": 5,
    "start_time": "2022-04-03T15:04:10.683Z"
   },
   {
    "duration": 14,
    "start_time": "2022-04-03T15:04:10.690Z"
   },
   {
    "duration": 3,
    "start_time": "2022-04-03T15:04:10.707Z"
   },
   {
    "duration": 3,
    "start_time": "2022-04-03T15:04:10.744Z"
   },
   {
    "duration": 6,
    "start_time": "2022-04-03T15:04:10.749Z"
   },
   {
    "duration": 6,
    "start_time": "2022-04-03T15:04:10.757Z"
   },
   {
    "duration": 14,
    "start_time": "2022-04-03T15:04:10.765Z"
   },
   {
    "duration": 15,
    "start_time": "2022-04-03T15:04:10.781Z"
   },
   {
    "duration": 49,
    "start_time": "2022-04-03T15:04:10.798Z"
   },
   {
    "duration": 30,
    "start_time": "2022-04-03T15:04:10.849Z"
   },
   {
    "duration": 548,
    "start_time": "2022-04-03T15:04:10.881Z"
   },
   {
    "duration": 13,
    "start_time": "2022-04-03T15:04:11.431Z"
   },
   {
    "duration": 10,
    "start_time": "2022-04-03T15:04:11.446Z"
   },
   {
    "duration": 11,
    "start_time": "2022-04-03T15:04:11.458Z"
   },
   {
    "duration": 13,
    "start_time": "2022-04-03T15:04:11.471Z"
   },
   {
    "duration": 228,
    "start_time": "2022-04-03T15:04:11.486Z"
   },
   {
    "duration": 245,
    "start_time": "2022-04-03T15:04:11.716Z"
   },
   {
    "duration": 10,
    "start_time": "2022-04-03T15:04:11.963Z"
   },
   {
    "duration": 15,
    "start_time": "2022-04-03T15:04:11.975Z"
   },
   {
    "duration": 11,
    "start_time": "2022-04-03T15:04:11.992Z"
   },
   {
    "duration": 213,
    "start_time": "2022-04-03T15:04:12.006Z"
   },
   {
    "duration": 227,
    "start_time": "2022-04-03T15:04:12.221Z"
   },
   {
    "duration": 10,
    "start_time": "2022-04-03T15:04:12.451Z"
   },
   {
    "duration": 16,
    "start_time": "2022-04-03T15:04:12.464Z"
   },
   {
    "duration": 13,
    "start_time": "2022-04-03T15:04:12.483Z"
   },
   {
    "duration": 224,
    "start_time": "2022-04-03T15:04:12.498Z"
   },
   {
    "duration": 229,
    "start_time": "2022-04-03T15:04:12.724Z"
   },
   {
    "duration": 11,
    "start_time": "2022-04-03T15:04:12.956Z"
   },
   {
    "duration": 14,
    "start_time": "2022-04-03T15:04:12.969Z"
   },
   {
    "duration": 12,
    "start_time": "2022-04-03T15:04:12.985Z"
   },
   {
    "duration": 301,
    "start_time": "2022-04-03T15:04:12.999Z"
   },
   {
    "duration": 219,
    "start_time": "2022-04-03T15:04:13.302Z"
   },
   {
    "duration": 28,
    "start_time": "2022-04-03T15:04:13.523Z"
   },
   {
    "duration": 14,
    "start_time": "2022-04-03T15:04:13.554Z"
   },
   {
    "duration": 11,
    "start_time": "2022-04-03T15:04:13.570Z"
   },
   {
    "duration": 200,
    "start_time": "2022-04-03T15:04:13.583Z"
   },
   {
    "duration": 244,
    "start_time": "2022-04-03T15:04:13.785Z"
   },
   {
    "duration": 18,
    "start_time": "2022-04-03T15:04:14.031Z"
   },
   {
    "duration": 13,
    "start_time": "2022-04-03T15:04:14.051Z"
   },
   {
    "duration": 6,
    "start_time": "2022-04-03T15:04:14.066Z"
   },
   {
    "duration": 16,
    "start_time": "2022-04-03T15:04:14.075Z"
   },
   {
    "duration": 2081,
    "start_time": "2022-04-03T15:04:14.093Z"
   },
   {
    "duration": 351,
    "start_time": "2022-04-03T15:04:16.182Z"
   },
   {
    "duration": 394,
    "start_time": "2022-04-03T15:04:16.543Z"
   },
   {
    "duration": 2734,
    "start_time": "2022-04-03T15:04:16.944Z"
   },
   {
    "duration": 31,
    "start_time": "2022-04-03T15:04:19.680Z"
   },
   {
    "duration": 31,
    "start_time": "2022-04-03T15:04:19.713Z"
   },
   {
    "duration": 232,
    "start_time": "2022-04-03T15:04:19.746Z"
   },
   {
    "duration": 236,
    "start_time": "2022-04-03T15:04:19.980Z"
   },
   {
    "duration": 11,
    "start_time": "2022-04-03T15:04:20.219Z"
   },
   {
    "duration": 228,
    "start_time": "2022-04-03T15:04:20.231Z"
   },
   {
    "duration": 242,
    "start_time": "2022-04-03T15:04:20.461Z"
   },
   {
    "duration": 220,
    "start_time": "2022-04-03T15:04:20.705Z"
   },
   {
    "duration": 432,
    "start_time": "2022-04-03T15:04:20.928Z"
   },
   {
    "duration": 316,
    "start_time": "2022-04-03T15:04:21.363Z"
   },
   {
    "duration": 378,
    "start_time": "2022-04-03T15:04:21.682Z"
   },
   {
    "duration": 267,
    "start_time": "2022-04-03T15:04:22.062Z"
   },
   {
    "duration": 1640,
    "start_time": "2022-04-03T15:16:35.429Z"
   },
   {
    "duration": 139,
    "start_time": "2022-04-03T15:16:37.072Z"
   },
   {
    "duration": 113,
    "start_time": "2022-04-03T15:16:37.213Z"
   },
   {
    "duration": 29,
    "start_time": "2022-04-03T15:16:37.329Z"
   },
   {
    "duration": 8,
    "start_time": "2022-04-03T15:16:37.360Z"
   },
   {
    "duration": 9,
    "start_time": "2022-04-03T15:16:37.370Z"
   },
   {
    "duration": 8,
    "start_time": "2022-04-03T15:16:37.382Z"
   },
   {
    "duration": 8,
    "start_time": "2022-04-03T15:16:37.392Z"
   },
   {
    "duration": 11,
    "start_time": "2022-04-03T15:16:37.443Z"
   },
   {
    "duration": 8,
    "start_time": "2022-04-03T15:16:37.458Z"
   },
   {
    "duration": 11,
    "start_time": "2022-04-03T15:16:37.468Z"
   },
   {
    "duration": 8,
    "start_time": "2022-04-03T15:16:37.481Z"
   },
   {
    "duration": 52,
    "start_time": "2022-04-03T15:16:37.491Z"
   },
   {
    "duration": 8,
    "start_time": "2022-04-03T15:16:37.545Z"
   },
   {
    "duration": 10,
    "start_time": "2022-04-03T15:16:37.555Z"
   },
   {
    "duration": 7,
    "start_time": "2022-04-03T15:16:37.567Z"
   },
   {
    "duration": 8,
    "start_time": "2022-04-03T15:16:37.576Z"
   },
   {
    "duration": 59,
    "start_time": "2022-04-03T15:16:37.585Z"
   },
   {
    "duration": 8,
    "start_time": "2022-04-03T15:16:37.646Z"
   },
   {
    "duration": 13,
    "start_time": "2022-04-03T15:16:37.656Z"
   },
   {
    "duration": 11,
    "start_time": "2022-04-03T15:16:37.671Z"
   },
   {
    "duration": 8,
    "start_time": "2022-04-03T15:16:37.684Z"
   },
   {
    "duration": 7,
    "start_time": "2022-04-03T15:16:37.694Z"
   },
   {
    "duration": 8,
    "start_time": "2022-04-03T15:16:37.742Z"
   },
   {
    "duration": 7,
    "start_time": "2022-04-03T15:16:37.753Z"
   },
   {
    "duration": 10,
    "start_time": "2022-04-03T15:16:37.762Z"
   },
   {
    "duration": 8,
    "start_time": "2022-04-03T15:16:37.775Z"
   },
   {
    "duration": 57,
    "start_time": "2022-04-03T15:16:37.789Z"
   },
   {
    "duration": 10,
    "start_time": "2022-04-03T15:16:37.848Z"
   },
   {
    "duration": 13,
    "start_time": "2022-04-03T15:16:37.860Z"
   },
   {
    "duration": 68,
    "start_time": "2022-04-03T15:16:37.875Z"
   },
   {
    "duration": 272,
    "start_time": "2022-04-03T15:16:37.946Z"
   },
   {
    "duration": 27,
    "start_time": "2022-04-03T15:16:38.220Z"
   },
   {
    "duration": 8,
    "start_time": "2022-04-03T15:16:38.250Z"
   },
   {
    "duration": 10,
    "start_time": "2022-04-03T15:16:38.259Z"
   },
   {
    "duration": 15,
    "start_time": "2022-04-03T15:16:38.271Z"
   },
   {
    "duration": 3,
    "start_time": "2022-04-03T15:16:38.288Z"
   },
   {
    "duration": 10,
    "start_time": "2022-04-03T15:16:38.293Z"
   },
   {
    "duration": 40,
    "start_time": "2022-04-03T15:16:38.305Z"
   },
   {
    "duration": 5,
    "start_time": "2022-04-03T15:16:38.348Z"
   },
   {
    "duration": 11,
    "start_time": "2022-04-03T15:16:38.355Z"
   },
   {
    "duration": 4,
    "start_time": "2022-04-03T15:16:38.368Z"
   },
   {
    "duration": 8,
    "start_time": "2022-04-03T15:16:38.375Z"
   },
   {
    "duration": 4,
    "start_time": "2022-04-03T15:16:38.386Z"
   },
   {
    "duration": 7,
    "start_time": "2022-04-03T15:16:38.392Z"
   },
   {
    "duration": 50,
    "start_time": "2022-04-03T15:16:38.401Z"
   },
   {
    "duration": 15,
    "start_time": "2022-04-03T15:16:38.453Z"
   },
   {
    "duration": 11,
    "start_time": "2022-04-03T15:16:38.470Z"
   },
   {
    "duration": 81,
    "start_time": "2022-04-03T15:16:38.484Z"
   },
   {
    "duration": 539,
    "start_time": "2022-04-03T15:16:38.568Z"
   },
   {
    "duration": 11,
    "start_time": "2022-04-03T15:16:39.109Z"
   },
   {
    "duration": 28,
    "start_time": "2022-04-03T15:16:39.123Z"
   },
   {
    "duration": 6,
    "start_time": "2022-04-03T15:16:39.153Z"
   },
   {
    "duration": 13,
    "start_time": "2022-04-03T15:16:39.162Z"
   },
   {
    "duration": 260,
    "start_time": "2022-04-03T15:16:39.177Z"
   },
   {
    "duration": 237,
    "start_time": "2022-04-03T15:16:39.449Z"
   },
   {
    "duration": 12,
    "start_time": "2022-04-03T15:16:39.689Z"
   },
   {
    "duration": 44,
    "start_time": "2022-04-03T15:16:39.703Z"
   },
   {
    "duration": 14,
    "start_time": "2022-04-03T15:16:39.749Z"
   },
   {
    "duration": 198,
    "start_time": "2022-04-03T15:16:39.765Z"
   },
   {
    "duration": 223,
    "start_time": "2022-04-03T15:16:39.965Z"
   },
   {
    "duration": 10,
    "start_time": "2022-04-03T15:16:40.190Z"
   },
   {
    "duration": 15,
    "start_time": "2022-04-03T15:16:40.202Z"
   },
   {
    "duration": 11,
    "start_time": "2022-04-03T15:16:40.243Z"
   },
   {
    "duration": 171,
    "start_time": "2022-04-03T15:16:40.256Z"
   },
   {
    "duration": 225,
    "start_time": "2022-04-03T15:16:40.429Z"
   },
   {
    "duration": 10,
    "start_time": "2022-04-03T15:16:40.656Z"
   },
   {
    "duration": 15,
    "start_time": "2022-04-03T15:16:40.668Z"
   },
   {
    "duration": 11,
    "start_time": "2022-04-03T15:16:40.685Z"
   },
   {
    "duration": 287,
    "start_time": "2022-04-03T15:16:40.698Z"
   },
   {
    "duration": 220,
    "start_time": "2022-04-03T15:16:40.988Z"
   },
   {
    "duration": 35,
    "start_time": "2022-04-03T15:16:41.210Z"
   },
   {
    "duration": 14,
    "start_time": "2022-04-03T15:16:41.247Z"
   },
   {
    "duration": 11,
    "start_time": "2022-04-03T15:16:41.263Z"
   },
   {
    "duration": 209,
    "start_time": "2022-04-03T15:16:41.276Z"
   },
   {
    "duration": 249,
    "start_time": "2022-04-03T15:16:41.488Z"
   },
   {
    "duration": 12,
    "start_time": "2022-04-03T15:16:41.743Z"
   },
   {
    "duration": 15,
    "start_time": "2022-04-03T15:16:41.758Z"
   },
   {
    "duration": 5,
    "start_time": "2022-04-03T15:16:41.775Z"
   },
   {
    "duration": 20,
    "start_time": "2022-04-03T15:16:41.782Z"
   },
   {
    "duration": 1950,
    "start_time": "2022-04-03T15:16:41.805Z"
   },
   {
    "duration": 346,
    "start_time": "2022-04-03T15:16:43.757Z"
   },
   {
    "duration": 413,
    "start_time": "2022-04-03T15:16:44.106Z"
   },
   {
    "duration": 4234,
    "start_time": "2022-04-03T15:16:44.521Z"
   },
   {
    "duration": 34,
    "start_time": "2022-04-03T15:16:48.757Z"
   },
   {
    "duration": 10,
    "start_time": "2022-04-03T15:16:48.793Z"
   },
   {
    "duration": 42,
    "start_time": "2022-04-03T15:16:48.805Z"
   },
   {
    "duration": 237,
    "start_time": "2022-04-03T15:16:48.849Z"
   },
   {
    "duration": 245,
    "start_time": "2022-04-03T15:16:49.088Z"
   },
   {
    "duration": 11,
    "start_time": "2022-04-03T15:16:49.342Z"
   },
   {
    "duration": 227,
    "start_time": "2022-04-03T15:16:49.355Z"
   },
   {
    "duration": 262,
    "start_time": "2022-04-03T15:16:49.584Z"
   },
   {
    "duration": 240,
    "start_time": "2022-04-03T15:16:49.849Z"
   },
   {
    "duration": 218,
    "start_time": "2022-04-03T15:16:50.092Z"
   },
   {
    "duration": 280,
    "start_time": "2022-04-03T15:16:50.313Z"
   },
   {
    "duration": 300,
    "start_time": "2022-04-03T15:16:50.596Z"
   },
   {
    "duration": 271,
    "start_time": "2022-04-03T15:16:50.898Z"
   },
   {
    "duration": 1717,
    "start_time": "2022-04-03T15:20:15.340Z"
   },
   {
    "duration": 142,
    "start_time": "2022-04-03T15:20:17.059Z"
   },
   {
    "duration": 114,
    "start_time": "2022-04-03T15:20:17.204Z"
   },
   {
    "duration": 42,
    "start_time": "2022-04-03T15:20:17.321Z"
   },
   {
    "duration": 8,
    "start_time": "2022-04-03T15:20:17.366Z"
   },
   {
    "duration": 12,
    "start_time": "2022-04-03T15:20:17.376Z"
   },
   {
    "duration": 8,
    "start_time": "2022-04-03T15:20:17.390Z"
   },
   {
    "duration": 44,
    "start_time": "2022-04-03T15:20:17.401Z"
   },
   {
    "duration": 12,
    "start_time": "2022-04-03T15:20:17.448Z"
   },
   {
    "duration": 7,
    "start_time": "2022-04-03T15:20:17.463Z"
   },
   {
    "duration": 8,
    "start_time": "2022-04-03T15:20:17.472Z"
   },
   {
    "duration": 8,
    "start_time": "2022-04-03T15:20:17.483Z"
   },
   {
    "duration": 56,
    "start_time": "2022-04-03T15:20:17.493Z"
   },
   {
    "duration": 9,
    "start_time": "2022-04-03T15:20:17.551Z"
   },
   {
    "duration": 10,
    "start_time": "2022-04-03T15:20:17.562Z"
   },
   {
    "duration": 9,
    "start_time": "2022-04-03T15:20:17.574Z"
   },
   {
    "duration": 7,
    "start_time": "2022-04-03T15:20:17.585Z"
   },
   {
    "duration": 9,
    "start_time": "2022-04-03T15:20:17.642Z"
   },
   {
    "duration": 8,
    "start_time": "2022-04-03T15:20:17.652Z"
   },
   {
    "duration": 10,
    "start_time": "2022-04-03T15:20:17.662Z"
   },
   {
    "duration": 10,
    "start_time": "2022-04-03T15:20:17.674Z"
   },
   {
    "duration": 10,
    "start_time": "2022-04-03T15:20:17.742Z"
   },
   {
    "duration": 7,
    "start_time": "2022-04-03T15:20:17.754Z"
   },
   {
    "duration": 8,
    "start_time": "2022-04-03T15:20:17.764Z"
   },
   {
    "duration": 8,
    "start_time": "2022-04-03T15:20:17.774Z"
   },
   {
    "duration": 9,
    "start_time": "2022-04-03T15:20:17.842Z"
   },
   {
    "duration": 8,
    "start_time": "2022-04-03T15:20:17.854Z"
   },
   {
    "duration": 8,
    "start_time": "2022-04-03T15:20:17.869Z"
   },
   {
    "duration": 66,
    "start_time": "2022-04-03T15:20:17.880Z"
   },
   {
    "duration": 23,
    "start_time": "2022-04-03T15:20:17.948Z"
   },
   {
    "duration": 78,
    "start_time": "2022-04-03T15:20:17.973Z"
   },
   {
    "duration": 508,
    "start_time": "2022-04-03T15:20:18.052Z"
   },
   {
    "duration": 16,
    "start_time": "2022-04-03T15:20:18.562Z"
   },
   {
    "duration": 8,
    "start_time": "2022-04-03T15:20:18.580Z"
   },
   {
    "duration": 6,
    "start_time": "2022-04-03T15:20:18.644Z"
   },
   {
    "duration": 11,
    "start_time": "2022-04-03T15:20:18.652Z"
   },
   {
    "duration": 5,
    "start_time": "2022-04-03T15:20:18.665Z"
   },
   {
    "duration": 10,
    "start_time": "2022-04-03T15:20:18.672Z"
   },
   {
    "duration": 59,
    "start_time": "2022-04-03T15:20:18.684Z"
   },
   {
    "duration": 4,
    "start_time": "2022-04-03T15:20:18.746Z"
   },
   {
    "duration": 11,
    "start_time": "2022-04-03T15:20:18.753Z"
   },
   {
    "duration": 4,
    "start_time": "2022-04-03T15:20:18.767Z"
   },
   {
    "duration": 4,
    "start_time": "2022-04-03T15:20:18.774Z"
   },
   {
    "duration": 6,
    "start_time": "2022-04-03T15:20:18.781Z"
   },
   {
    "duration": 4,
    "start_time": "2022-04-03T15:20:18.844Z"
   },
   {
    "duration": 14,
    "start_time": "2022-04-03T15:20:18.850Z"
   },
   {
    "duration": 19,
    "start_time": "2022-04-03T15:20:18.867Z"
   },
   {
    "duration": 13,
    "start_time": "2022-04-03T15:20:18.943Z"
   },
   {
    "duration": 90,
    "start_time": "2022-04-03T15:20:18.959Z"
   },
   {
    "duration": 1023,
    "start_time": "2022-04-03T15:20:19.052Z"
   },
   {
    "duration": 9,
    "start_time": "2022-04-03T15:20:20.077Z"
   },
   {
    "duration": 10,
    "start_time": "2022-04-03T15:20:20.143Z"
   },
   {
    "duration": 6,
    "start_time": "2022-04-03T15:20:20.155Z"
   },
   {
    "duration": 13,
    "start_time": "2022-04-03T15:20:20.163Z"
   },
   {
    "duration": 468,
    "start_time": "2022-04-03T15:20:20.178Z"
   },
   {
    "duration": 267,
    "start_time": "2022-04-03T15:20:20.648Z"
   },
   {
    "duration": 10,
    "start_time": "2022-04-03T15:20:20.918Z"
   },
   {
    "duration": 20,
    "start_time": "2022-04-03T15:20:20.930Z"
   },
   {
    "duration": 11,
    "start_time": "2022-04-03T15:20:20.952Z"
   },
   {
    "duration": 188,
    "start_time": "2022-04-03T15:20:20.965Z"
   },
   {
    "duration": 223,
    "start_time": "2022-04-03T15:20:21.155Z"
   },
   {
    "duration": 10,
    "start_time": "2022-04-03T15:20:21.380Z"
   },
   {
    "duration": 16,
    "start_time": "2022-04-03T15:20:21.393Z"
   },
   {
    "duration": 11,
    "start_time": "2022-04-03T15:20:21.411Z"
   },
   {
    "duration": 178,
    "start_time": "2022-04-03T15:20:21.424Z"
   },
   {
    "duration": 228,
    "start_time": "2022-04-03T15:20:21.604Z"
   },
   {
    "duration": 15,
    "start_time": "2022-04-03T15:20:21.834Z"
   },
   {
    "duration": 15,
    "start_time": "2022-04-03T15:20:21.852Z"
   },
   {
    "duration": 12,
    "start_time": "2022-04-03T15:20:21.869Z"
   },
   {
    "duration": 290,
    "start_time": "2022-04-03T15:20:21.883Z"
   },
   {
    "duration": 329,
    "start_time": "2022-04-03T15:20:22.176Z"
   },
   {
    "duration": 17,
    "start_time": "2022-04-03T15:20:22.507Z"
   },
   {
    "duration": 15,
    "start_time": "2022-04-03T15:20:22.542Z"
   },
   {
    "duration": 11,
    "start_time": "2022-04-03T15:20:22.559Z"
   },
   {
    "duration": 300,
    "start_time": "2022-04-03T15:20:22.572Z"
   },
   {
    "duration": 248,
    "start_time": "2022-04-03T15:20:22.874Z"
   },
   {
    "duration": 9,
    "start_time": "2022-04-03T15:20:23.124Z"
   },
   {
    "duration": 19,
    "start_time": "2022-04-03T15:20:23.135Z"
   },
   {
    "duration": 4,
    "start_time": "2022-04-03T15:20:23.156Z"
   },
   {
    "duration": 17,
    "start_time": "2022-04-03T15:20:23.162Z"
   },
   {
    "duration": 2465,
    "start_time": "2022-04-03T15:20:23.181Z"
   },
   {
    "duration": 391,
    "start_time": "2022-04-03T15:20:25.655Z"
   },
   {
    "duration": 403,
    "start_time": "2022-04-03T15:20:26.049Z"
   },
   {
    "duration": 2624,
    "start_time": "2022-04-03T15:20:26.454Z"
   },
   {
    "duration": 33,
    "start_time": "2022-04-03T15:20:29.080Z"
   },
   {
    "duration": 30,
    "start_time": "2022-04-03T15:20:29.115Z"
   },
   {
    "duration": 8,
    "start_time": "2022-04-03T15:20:29.147Z"
   },
   {
    "duration": 240,
    "start_time": "2022-04-03T15:20:29.157Z"
   },
   {
    "duration": 247,
    "start_time": "2022-04-03T15:20:29.399Z"
   },
   {
    "duration": 10,
    "start_time": "2022-04-03T15:20:29.649Z"
   },
   {
    "duration": 238,
    "start_time": "2022-04-03T15:20:29.661Z"
   },
   {
    "duration": 272,
    "start_time": "2022-04-03T15:20:29.902Z"
   },
   {
    "duration": 238,
    "start_time": "2022-04-03T15:20:30.177Z"
   },
   {
    "duration": 225,
    "start_time": "2022-04-03T15:20:30.418Z"
   },
   {
    "duration": 276,
    "start_time": "2022-04-03T15:20:30.645Z"
   },
   {
    "duration": 288,
    "start_time": "2022-04-03T15:20:30.924Z"
   },
   {
    "duration": 297,
    "start_time": "2022-04-03T15:20:31.214Z"
   },
   {
    "duration": 1256,
    "start_time": "2022-04-04T15:17:10.584Z"
   },
   {
    "duration": 77,
    "start_time": "2022-04-04T15:17:13.097Z"
   },
   {
    "duration": 100,
    "start_time": "2022-04-04T15:17:22.865Z"
   },
   {
    "duration": 73,
    "start_time": "2022-04-04T15:21:56.356Z"
   },
   {
    "duration": 94,
    "start_time": "2022-04-04T15:22:08.538Z"
   },
   {
    "duration": 112,
    "start_time": "2022-04-04T15:22:50.151Z"
   },
   {
    "duration": 126,
    "start_time": "2022-04-04T15:23:38.282Z"
   },
   {
    "duration": 93,
    "start_time": "2022-04-04T15:37:04.355Z"
   },
   {
    "duration": 1198,
    "start_time": "2022-04-04T15:38:07.300Z"
   },
   {
    "duration": 83,
    "start_time": "2022-04-04T15:38:08.500Z"
   },
   {
    "duration": 107,
    "start_time": "2022-04-04T15:38:08.586Z"
   },
   {
    "duration": 80,
    "start_time": "2022-04-04T15:38:08.695Z"
   },
   {
    "duration": 14,
    "start_time": "2022-04-04T15:38:08.777Z"
   },
   {
    "duration": 6,
    "start_time": "2022-04-04T15:38:08.793Z"
   },
   {
    "duration": 8,
    "start_time": "2022-04-04T15:38:08.801Z"
   },
   {
    "duration": 32,
    "start_time": "2022-04-04T15:38:08.811Z"
   },
   {
    "duration": 10,
    "start_time": "2022-04-04T15:38:08.845Z"
   },
   {
    "duration": 8,
    "start_time": "2022-04-04T15:38:08.858Z"
   },
   {
    "duration": 9,
    "start_time": "2022-04-04T15:38:08.868Z"
   },
   {
    "duration": 12,
    "start_time": "2022-04-04T15:38:08.879Z"
   },
   {
    "duration": 8,
    "start_time": "2022-04-04T15:38:08.893Z"
   },
   {
    "duration": 9,
    "start_time": "2022-04-04T15:38:08.903Z"
   },
   {
    "duration": 6,
    "start_time": "2022-04-04T15:38:08.938Z"
   },
   {
    "duration": 11,
    "start_time": "2022-04-04T15:38:08.946Z"
   },
   {
    "duration": 8,
    "start_time": "2022-04-04T15:38:08.959Z"
   },
   {
    "duration": 5,
    "start_time": "2022-04-04T15:38:08.969Z"
   },
   {
    "duration": 6,
    "start_time": "2022-04-04T15:38:08.976Z"
   },
   {
    "duration": 5,
    "start_time": "2022-04-04T15:38:08.984Z"
   },
   {
    "duration": 10,
    "start_time": "2022-04-04T15:38:08.991Z"
   },
   {
    "duration": 7,
    "start_time": "2022-04-04T15:38:09.038Z"
   },
   {
    "duration": 9,
    "start_time": "2022-04-04T15:38:09.047Z"
   },
   {
    "duration": 5,
    "start_time": "2022-04-04T15:38:09.058Z"
   },
   {
    "duration": 11,
    "start_time": "2022-04-04T15:38:09.065Z"
   },
   {
    "duration": 12,
    "start_time": "2022-04-04T15:38:09.078Z"
   },
   {
    "duration": 6,
    "start_time": "2022-04-04T15:38:09.092Z"
   },
   {
    "duration": 40,
    "start_time": "2022-04-04T15:38:09.101Z"
   },
   {
    "duration": 8,
    "start_time": "2022-04-04T15:38:09.142Z"
   },
   {
    "duration": 8,
    "start_time": "2022-04-04T15:38:09.151Z"
   },
   {
    "duration": 12,
    "start_time": "2022-04-04T15:38:09.160Z"
   },
   {
    "duration": 20,
    "start_time": "2022-04-04T15:38:09.173Z"
   },
   {
    "duration": 225,
    "start_time": "2022-04-04T15:38:09.195Z"
   },
   {
    "duration": 23,
    "start_time": "2022-04-04T15:38:09.423Z"
   },
   {
    "duration": 6,
    "start_time": "2022-04-04T15:38:09.448Z"
   },
   {
    "duration": 7,
    "start_time": "2022-04-04T15:38:09.455Z"
   },
   {
    "duration": 8,
    "start_time": "2022-04-04T15:38:09.464Z"
   },
   {
    "duration": 7,
    "start_time": "2022-04-04T15:38:09.474Z"
   },
   {
    "duration": 11,
    "start_time": "2022-04-04T15:38:09.482Z"
   },
   {
    "duration": 3,
    "start_time": "2022-04-04T15:38:09.494Z"
   },
   {
    "duration": 39,
    "start_time": "2022-04-04T15:38:09.499Z"
   },
   {
    "duration": 6,
    "start_time": "2022-04-04T15:38:09.539Z"
   },
   {
    "duration": 2,
    "start_time": "2022-04-04T15:38:09.547Z"
   },
   {
    "duration": 5,
    "start_time": "2022-04-04T15:38:09.551Z"
   },
   {
    "duration": 6,
    "start_time": "2022-04-04T15:38:09.557Z"
   },
   {
    "duration": 4,
    "start_time": "2022-04-04T15:38:09.565Z"
   },
   {
    "duration": 11,
    "start_time": "2022-04-04T15:38:09.570Z"
   },
   {
    "duration": 11,
    "start_time": "2022-04-04T15:38:09.583Z"
   },
   {
    "duration": 45,
    "start_time": "2022-04-04T15:38:09.595Z"
   },
   {
    "duration": 24,
    "start_time": "2022-04-04T15:38:09.641Z"
   },
   {
    "duration": 345,
    "start_time": "2022-04-04T15:38:09.667Z"
   },
   {
    "duration": 7,
    "start_time": "2022-04-04T15:38:10.014Z"
   },
   {
    "duration": 16,
    "start_time": "2022-04-04T15:38:10.023Z"
   },
   {
    "duration": 6,
    "start_time": "2022-04-04T15:38:10.041Z"
   },
   {
    "duration": 24,
    "start_time": "2022-04-04T15:38:10.048Z"
   },
   {
    "duration": 136,
    "start_time": "2022-04-04T15:38:10.074Z"
   },
   {
    "duration": 158,
    "start_time": "2022-04-04T15:38:10.212Z"
   },
   {
    "duration": 8,
    "start_time": "2022-04-04T15:38:10.371Z"
   },
   {
    "duration": 11,
    "start_time": "2022-04-04T15:38:10.381Z"
   },
   {
    "duration": 16,
    "start_time": "2022-04-04T15:38:10.394Z"
   },
   {
    "duration": 139,
    "start_time": "2022-04-04T15:38:10.412Z"
   },
   {
    "duration": 142,
    "start_time": "2022-04-04T15:38:10.555Z"
   },
   {
    "duration": 7,
    "start_time": "2022-04-04T15:38:10.699Z"
   },
   {
    "duration": 11,
    "start_time": "2022-04-04T15:38:10.708Z"
   },
   {
    "duration": 23,
    "start_time": "2022-04-04T15:38:10.721Z"
   },
   {
    "duration": 107,
    "start_time": "2022-04-04T15:38:10.745Z"
   },
   {
    "duration": 148,
    "start_time": "2022-04-04T15:38:10.853Z"
   },
   {
    "duration": 8,
    "start_time": "2022-04-04T15:38:11.002Z"
   },
   {
    "duration": 26,
    "start_time": "2022-04-04T15:38:11.011Z"
   },
   {
    "duration": 9,
    "start_time": "2022-04-04T15:38:11.039Z"
   },
   {
    "duration": 209,
    "start_time": "2022-04-04T15:38:11.050Z"
   },
   {
    "duration": 142,
    "start_time": "2022-04-04T15:38:11.261Z"
   },
   {
    "duration": 13,
    "start_time": "2022-04-04T15:38:11.405Z"
   },
   {
    "duration": 24,
    "start_time": "2022-04-04T15:38:11.419Z"
   },
   {
    "duration": 9,
    "start_time": "2022-04-04T15:38:11.444Z"
   },
   {
    "duration": 127,
    "start_time": "2022-04-04T15:38:11.455Z"
   },
   {
    "duration": 161,
    "start_time": "2022-04-04T15:38:11.584Z"
   },
   {
    "duration": 7,
    "start_time": "2022-04-04T15:38:11.747Z"
   },
   {
    "duration": 9,
    "start_time": "2022-04-04T15:38:11.756Z"
   },
   {
    "duration": 9,
    "start_time": "2022-04-04T15:38:11.766Z"
   },
   {
    "duration": 16,
    "start_time": "2022-04-04T15:38:11.776Z"
   },
   {
    "duration": 1260,
    "start_time": "2022-04-04T15:38:11.794Z"
   },
   {
    "duration": 222,
    "start_time": "2022-04-04T15:38:13.056Z"
   },
   {
    "duration": 314,
    "start_time": "2022-04-04T15:38:13.279Z"
   },
   {
    "duration": 2043,
    "start_time": "2022-04-04T15:38:13.595Z"
   },
   {
    "duration": 24,
    "start_time": "2022-04-04T15:38:15.640Z"
   },
   {
    "duration": 2065,
    "start_time": "2022-04-04T15:38:15.666Z"
   },
   {
    "duration": 0,
    "start_time": "2022-04-04T15:38:17.733Z"
   },
   {
    "duration": 0,
    "start_time": "2022-04-04T15:38:17.735Z"
   },
   {
    "duration": 0,
    "start_time": "2022-04-04T15:38:17.736Z"
   },
   {
    "duration": 0,
    "start_time": "2022-04-04T15:38:17.738Z"
   },
   {
    "duration": 0,
    "start_time": "2022-04-04T15:38:17.739Z"
   },
   {
    "duration": 0,
    "start_time": "2022-04-04T15:38:17.741Z"
   },
   {
    "duration": 0,
    "start_time": "2022-04-04T15:38:17.742Z"
   },
   {
    "duration": 1,
    "start_time": "2022-04-04T15:38:17.743Z"
   },
   {
    "duration": 0,
    "start_time": "2022-04-04T15:38:17.745Z"
   },
   {
    "duration": 0,
    "start_time": "2022-04-04T15:38:17.746Z"
   },
   {
    "duration": 1,
    "start_time": "2022-04-04T15:38:17.747Z"
   },
   {
    "duration": 9,
    "start_time": "2022-04-04T15:39:06.161Z"
   },
   {
    "duration": 8,
    "start_time": "2022-04-04T15:40:41.884Z"
   },
   {
    "duration": 1225,
    "start_time": "2022-04-04T15:41:37.080Z"
   },
   {
    "duration": 85,
    "start_time": "2022-04-04T15:41:38.307Z"
   },
   {
    "duration": 107,
    "start_time": "2022-04-04T15:41:38.395Z"
   },
   {
    "duration": 78,
    "start_time": "2022-04-04T15:41:38.505Z"
   },
   {
    "duration": 16,
    "start_time": "2022-04-04T15:41:38.585Z"
   },
   {
    "duration": 5,
    "start_time": "2022-04-04T15:41:38.603Z"
   },
   {
    "duration": 28,
    "start_time": "2022-04-04T15:41:38.610Z"
   },
   {
    "duration": 7,
    "start_time": "2022-04-04T15:41:38.640Z"
   },
   {
    "duration": 7,
    "start_time": "2022-04-04T15:41:38.649Z"
   },
   {
    "duration": 15,
    "start_time": "2022-04-04T15:41:38.660Z"
   },
   {
    "duration": 10,
    "start_time": "2022-04-04T15:41:38.678Z"
   },
   {
    "duration": 10,
    "start_time": "2022-04-04T15:41:38.690Z"
   },
   {
    "duration": 42,
    "start_time": "2022-04-04T15:41:38.702Z"
   },
   {
    "duration": 12,
    "start_time": "2022-04-04T15:41:38.747Z"
   },
   {
    "duration": 10,
    "start_time": "2022-04-04T15:41:38.761Z"
   },
   {
    "duration": 7,
    "start_time": "2022-04-04T15:41:38.773Z"
   },
   {
    "duration": 9,
    "start_time": "2022-04-04T15:41:38.781Z"
   },
   {
    "duration": 18,
    "start_time": "2022-04-04T15:41:38.791Z"
   },
   {
    "duration": 11,
    "start_time": "2022-04-04T15:41:38.837Z"
   },
   {
    "duration": 6,
    "start_time": "2022-04-04T15:41:38.849Z"
   },
   {
    "duration": 9,
    "start_time": "2022-04-04T15:41:38.857Z"
   },
   {
    "duration": 9,
    "start_time": "2022-04-04T15:41:38.868Z"
   },
   {
    "duration": 8,
    "start_time": "2022-04-04T15:41:38.879Z"
   },
   {
    "duration": 7,
    "start_time": "2022-04-04T15:41:38.888Z"
   },
   {
    "duration": 48,
    "start_time": "2022-04-04T15:41:38.896Z"
   },
   {
    "duration": 10,
    "start_time": "2022-04-04T15:41:38.946Z"
   },
   {
    "duration": 17,
    "start_time": "2022-04-04T15:41:38.958Z"
   },
   {
    "duration": 8,
    "start_time": "2022-04-04T15:41:38.981Z"
   },
   {
    "duration": 8,
    "start_time": "2022-04-04T15:41:38.991Z"
   },
   {
    "duration": 38,
    "start_time": "2022-04-04T15:41:39.002Z"
   },
   {
    "duration": 18,
    "start_time": "2022-04-04T15:41:39.043Z"
   },
   {
    "duration": 29,
    "start_time": "2022-04-04T15:41:39.062Z"
   },
   {
    "duration": 237,
    "start_time": "2022-04-04T15:41:39.093Z"
   },
   {
    "duration": 13,
    "start_time": "2022-04-04T15:41:39.332Z"
   },
   {
    "duration": 6,
    "start_time": "2022-04-04T15:41:39.346Z"
   },
   {
    "duration": 9,
    "start_time": "2022-04-04T15:41:39.354Z"
   },
   {
    "duration": 11,
    "start_time": "2022-04-04T15:41:39.365Z"
   },
   {
    "duration": 6,
    "start_time": "2022-04-04T15:41:39.377Z"
   },
   {
    "duration": 14,
    "start_time": "2022-04-04T15:41:39.385Z"
   },
   {
    "duration": 8,
    "start_time": "2022-04-04T15:41:39.401Z"
   },
   {
    "duration": 29,
    "start_time": "2022-04-04T15:41:39.410Z"
   },
   {
    "duration": 17,
    "start_time": "2022-04-04T15:41:39.441Z"
   },
   {
    "duration": 8,
    "start_time": "2022-04-04T15:41:39.460Z"
   },
   {
    "duration": 12,
    "start_time": "2022-04-04T15:41:39.470Z"
   },
   {
    "duration": 6,
    "start_time": "2022-04-04T15:41:39.484Z"
   },
   {
    "duration": 5,
    "start_time": "2022-04-04T15:41:39.492Z"
   },
   {
    "duration": 10,
    "start_time": "2022-04-04T15:41:39.499Z"
   },
   {
    "duration": 35,
    "start_time": "2022-04-04T15:41:39.511Z"
   },
   {
    "duration": 9,
    "start_time": "2022-04-04T15:41:39.548Z"
   },
   {
    "duration": 29,
    "start_time": "2022-04-04T15:41:39.559Z"
   },
   {
    "duration": 342,
    "start_time": "2022-04-04T15:41:39.590Z"
   },
   {
    "duration": 9,
    "start_time": "2022-04-04T15:41:39.937Z"
   },
   {
    "duration": 15,
    "start_time": "2022-04-04T15:41:39.948Z"
   },
   {
    "duration": 5,
    "start_time": "2022-04-04T15:41:39.965Z"
   },
   {
    "duration": 11,
    "start_time": "2022-04-04T15:41:39.972Z"
   },
   {
    "duration": 168,
    "start_time": "2022-04-04T15:41:39.985Z"
   },
   {
    "duration": 156,
    "start_time": "2022-04-04T15:41:40.155Z"
   },
   {
    "duration": 7,
    "start_time": "2022-04-04T15:41:40.313Z"
   },
   {
    "duration": 21,
    "start_time": "2022-04-04T15:41:40.322Z"
   },
   {
    "duration": 11,
    "start_time": "2022-04-04T15:41:40.345Z"
   },
   {
    "duration": 138,
    "start_time": "2022-04-04T15:41:40.358Z"
   },
   {
    "duration": 162,
    "start_time": "2022-04-04T15:41:40.498Z"
   },
   {
    "duration": 9,
    "start_time": "2022-04-04T15:41:40.662Z"
   },
   {
    "duration": 11,
    "start_time": "2022-04-04T15:41:40.673Z"
   },
   {
    "duration": 8,
    "start_time": "2022-04-04T15:41:40.686Z"
   },
   {
    "duration": 130,
    "start_time": "2022-04-04T15:41:40.696Z"
   },
   {
    "duration": 145,
    "start_time": "2022-04-04T15:41:40.828Z"
   },
   {
    "duration": 7,
    "start_time": "2022-04-04T15:41:40.975Z"
   },
   {
    "duration": 10,
    "start_time": "2022-04-04T15:41:40.984Z"
   },
   {
    "duration": 8,
    "start_time": "2022-04-04T15:41:40.996Z"
   },
   {
    "duration": 231,
    "start_time": "2022-04-04T15:41:41.006Z"
   },
   {
    "duration": 137,
    "start_time": "2022-04-04T15:41:41.239Z"
   },
   {
    "duration": 13,
    "start_time": "2022-04-04T15:41:41.378Z"
   },
   {
    "duration": 12,
    "start_time": "2022-04-04T15:41:41.392Z"
   },
   {
    "duration": 34,
    "start_time": "2022-04-04T15:41:41.406Z"
   },
   {
    "duration": 126,
    "start_time": "2022-04-04T15:41:41.442Z"
   },
   {
    "duration": 160,
    "start_time": "2022-04-04T15:41:41.570Z"
   },
   {
    "duration": 10,
    "start_time": "2022-04-04T15:41:41.733Z"
   },
   {
    "duration": 10,
    "start_time": "2022-04-04T15:41:41.746Z"
   },
   {
    "duration": 5,
    "start_time": "2022-04-04T15:41:41.757Z"
   },
   {
    "duration": 18,
    "start_time": "2022-04-04T15:41:41.764Z"
   },
   {
    "duration": 1297,
    "start_time": "2022-04-04T15:41:41.789Z"
   },
   {
    "duration": 224,
    "start_time": "2022-04-04T15:41:43.088Z"
   },
   {
    "duration": 326,
    "start_time": "2022-04-04T15:41:43.314Z"
   },
   {
    "duration": 2020,
    "start_time": "2022-04-04T15:41:43.641Z"
   },
   {
    "duration": 24,
    "start_time": "2022-04-04T15:41:45.663Z"
   },
   {
    "duration": 8,
    "start_time": "2022-04-04T15:41:45.689Z"
   },
   {
    "duration": 8,
    "start_time": "2022-04-04T15:41:45.698Z"
   },
   {
    "duration": 181,
    "start_time": "2022-04-04T15:41:45.707Z"
   },
   {
    "duration": 168,
    "start_time": "2022-04-04T15:41:45.890Z"
   },
   {
    "duration": 7,
    "start_time": "2022-04-04T15:41:46.060Z"
   },
   {
    "duration": 157,
    "start_time": "2022-04-04T15:41:46.069Z"
   },
   {
    "duration": 165,
    "start_time": "2022-04-04T15:41:46.228Z"
   },
   {
    "duration": 161,
    "start_time": "2022-04-04T15:41:46.395Z"
   },
   {
    "duration": 147,
    "start_time": "2022-04-04T15:41:46.559Z"
   },
   {
    "duration": 191,
    "start_time": "2022-04-04T15:41:46.707Z"
   },
   {
    "duration": 192,
    "start_time": "2022-04-04T15:41:46.900Z"
   },
   {
    "duration": 197,
    "start_time": "2022-04-04T15:41:47.093Z"
   },
   {
    "duration": 12,
    "start_time": "2022-04-04T15:43:21.540Z"
   },
   {
    "duration": 8,
    "start_time": "2022-04-04T15:43:31.443Z"
   },
   {
    "duration": 8,
    "start_time": "2022-04-04T15:43:50.609Z"
   },
   {
    "duration": 9,
    "start_time": "2022-04-04T15:44:43.742Z"
   },
   {
    "duration": 134,
    "start_time": "2022-04-04T15:47:31.839Z"
   },
   {
    "duration": 102,
    "start_time": "2022-04-04T15:47:46.630Z"
   },
   {
    "duration": 13,
    "start_time": "2022-04-04T15:47:55.917Z"
   },
   {
    "duration": 14,
    "start_time": "2022-04-04T15:48:35.068Z"
   },
   {
    "duration": 19,
    "start_time": "2022-04-04T15:49:47.032Z"
   },
   {
    "duration": 309,
    "start_time": "2022-04-04T15:49:57.072Z"
   },
   {
    "duration": 213,
    "start_time": "2022-04-04T15:50:53.709Z"
   },
   {
    "duration": 207,
    "start_time": "2022-04-04T15:51:16.156Z"
   },
   {
    "duration": 203,
    "start_time": "2022-04-04T15:51:28.751Z"
   },
   {
    "duration": 205,
    "start_time": "2022-04-04T15:57:50.999Z"
   },
   {
    "duration": 204,
    "start_time": "2022-04-04T15:58:04.344Z"
   },
   {
    "duration": 141,
    "start_time": "2022-04-04T15:59:03.595Z"
   },
   {
    "duration": 135,
    "start_time": "2022-04-04T16:39:58.823Z"
   },
   {
    "duration": 5,
    "start_time": "2022-04-04T16:40:43.339Z"
   },
   {
    "duration": 6,
    "start_time": "2022-04-04T16:40:56.205Z"
   },
   {
    "duration": 6,
    "start_time": "2022-04-04T16:42:52.641Z"
   },
   {
    "duration": 7,
    "start_time": "2022-04-04T16:43:00.279Z"
   },
   {
    "duration": 6,
    "start_time": "2022-04-04T16:43:05.479Z"
   },
   {
    "duration": 7,
    "start_time": "2022-04-04T16:43:18.230Z"
   },
   {
    "duration": 7,
    "start_time": "2022-04-04T16:43:27.125Z"
   },
   {
    "duration": 6,
    "start_time": "2022-04-04T16:50:28.427Z"
   },
   {
    "duration": 7,
    "start_time": "2022-04-04T16:56:52.925Z"
   },
   {
    "duration": 9,
    "start_time": "2022-04-04T16:57:59.043Z"
   },
   {
    "duration": 10,
    "start_time": "2022-04-04T16:58:25.844Z"
   },
   {
    "duration": 11,
    "start_time": "2022-04-04T16:58:30.313Z"
   },
   {
    "duration": 7,
    "start_time": "2022-04-04T16:58:36.594Z"
   },
   {
    "duration": 7,
    "start_time": "2022-04-04T17:02:06.152Z"
   },
   {
    "duration": 6,
    "start_time": "2022-04-04T17:02:19.454Z"
   },
   {
    "duration": 137,
    "start_time": "2022-04-04T17:03:00.542Z"
   },
   {
    "duration": 144,
    "start_time": "2022-04-04T17:03:09.422Z"
   },
   {
    "duration": 138,
    "start_time": "2022-04-04T17:03:13.332Z"
   },
   {
    "duration": 8,
    "start_time": "2022-04-04T17:03:40.917Z"
   },
   {
    "duration": 22,
    "start_time": "2022-04-04T17:05:32.302Z"
   },
   {
    "duration": 29,
    "start_time": "2022-04-04T17:05:49.186Z"
   },
   {
    "duration": 19,
    "start_time": "2022-04-04T17:06:07.614Z"
   },
   {
    "duration": 11,
    "start_time": "2022-04-04T17:08:05.559Z"
   },
   {
    "duration": 42,
    "start_time": "2022-04-04T17:08:45.915Z"
   },
   {
    "duration": 10,
    "start_time": "2022-04-04T17:10:09.834Z"
   },
   {
    "duration": 16,
    "start_time": "2022-04-04T17:10:24.178Z"
   },
   {
    "duration": 12,
    "start_time": "2022-04-04T17:10:29.643Z"
   },
   {
    "duration": 11,
    "start_time": "2022-04-04T17:10:56.752Z"
   },
   {
    "duration": 10,
    "start_time": "2022-04-04T17:11:02.592Z"
   },
   {
    "duration": 10,
    "start_time": "2022-04-04T17:12:48.086Z"
   },
   {
    "duration": 9,
    "start_time": "2022-04-04T17:33:33.827Z"
   },
   {
    "duration": 7,
    "start_time": "2022-04-04T17:33:44.777Z"
   },
   {
    "duration": 2919,
    "start_time": "2022-04-04T17:33:51.612Z"
   },
   {
    "duration": 3200,
    "start_time": "2022-04-04T17:33:54.532Z"
   },
   {
    "duration": 97,
    "start_time": "2022-04-04T17:33:57.734Z"
   },
   {
    "duration": 69,
    "start_time": "2022-04-04T17:33:57.837Z"
   },
   {
    "duration": 31,
    "start_time": "2022-04-04T17:33:57.908Z"
   },
   {
    "duration": 7,
    "start_time": "2022-04-04T17:33:57.940Z"
   },
   {
    "duration": 13,
    "start_time": "2022-04-04T17:33:57.948Z"
   },
   {
    "duration": 7,
    "start_time": "2022-04-04T17:33:57.962Z"
   },
   {
    "duration": 8,
    "start_time": "2022-04-04T17:33:57.971Z"
   },
   {
    "duration": 11,
    "start_time": "2022-04-04T17:33:57.981Z"
   },
   {
    "duration": 12,
    "start_time": "2022-04-04T17:33:57.994Z"
   },
   {
    "duration": 6,
    "start_time": "2022-04-04T17:33:58.039Z"
   },
   {
    "duration": 7,
    "start_time": "2022-04-04T17:33:58.047Z"
   },
   {
    "duration": 8,
    "start_time": "2022-04-04T17:33:58.056Z"
   },
   {
    "duration": 6,
    "start_time": "2022-04-04T17:33:58.065Z"
   },
   {
    "duration": 8,
    "start_time": "2022-04-04T17:33:58.073Z"
   },
   {
    "duration": 7,
    "start_time": "2022-04-04T17:33:58.083Z"
   },
   {
    "duration": 47,
    "start_time": "2022-04-04T17:33:58.092Z"
   },
   {
    "duration": 6,
    "start_time": "2022-04-04T17:33:58.140Z"
   },
   {
    "duration": 6,
    "start_time": "2022-04-04T17:33:58.148Z"
   },
   {
    "duration": 7,
    "start_time": "2022-04-04T17:33:58.155Z"
   },
   {
    "duration": 8,
    "start_time": "2022-04-04T17:33:58.164Z"
   },
   {
    "duration": 6,
    "start_time": "2022-04-04T17:33:58.174Z"
   },
   {
    "duration": 5,
    "start_time": "2022-04-04T17:33:58.182Z"
   },
   {
    "duration": 52,
    "start_time": "2022-04-04T17:33:58.189Z"
   },
   {
    "duration": 7,
    "start_time": "2022-04-04T17:33:58.243Z"
   },
   {
    "duration": 58,
    "start_time": "2022-04-04T17:33:58.252Z"
   },
   {
    "duration": 11,
    "start_time": "2022-04-04T17:33:58.311Z"
   },
   {
    "duration": 12,
    "start_time": "2022-04-04T17:33:58.325Z"
   },
   {
    "duration": 15,
    "start_time": "2022-04-04T17:33:58.339Z"
   },
   {
    "duration": 16,
    "start_time": "2022-04-04T17:33:58.356Z"
   },
   {
    "duration": 23,
    "start_time": "2022-04-04T17:33:58.373Z"
   },
   {
    "duration": 218,
    "start_time": "2022-04-04T17:33:58.398Z"
   },
   {
    "duration": 21,
    "start_time": "2022-04-04T17:33:58.618Z"
   },
   {
    "duration": 7,
    "start_time": "2022-04-04T17:33:58.641Z"
   },
   {
    "duration": 7,
    "start_time": "2022-04-04T17:33:58.653Z"
   },
   {
    "duration": 13,
    "start_time": "2022-04-04T17:33:58.661Z"
   },
   {
    "duration": 6,
    "start_time": "2022-04-04T17:33:58.675Z"
   },
   {
    "duration": 10,
    "start_time": "2022-04-04T17:33:58.682Z"
   },
   {
    "duration": 2,
    "start_time": "2022-04-04T17:33:58.694Z"
   },
   {
    "duration": 5,
    "start_time": "2022-04-04T17:33:58.697Z"
   },
   {
    "duration": 34,
    "start_time": "2022-04-04T17:33:58.704Z"
   },
   {
    "duration": 3,
    "start_time": "2022-04-04T17:33:58.739Z"
   },
   {
    "duration": 4,
    "start_time": "2022-04-04T17:33:58.745Z"
   },
   {
    "duration": 6,
    "start_time": "2022-04-04T17:33:58.751Z"
   },
   {
    "duration": 5,
    "start_time": "2022-04-04T17:33:58.759Z"
   },
   {
    "duration": 14,
    "start_time": "2022-04-04T17:33:58.766Z"
   },
   {
    "duration": 11,
    "start_time": "2022-04-04T17:33:58.781Z"
   },
   {
    "duration": 7,
    "start_time": "2022-04-04T17:33:58.793Z"
   },
   {
    "duration": 53,
    "start_time": "2022-04-04T17:33:58.801Z"
   },
   {
    "duration": 315,
    "start_time": "2022-04-04T17:33:58.856Z"
   },
   {
    "duration": 8,
    "start_time": "2022-04-04T17:33:59.173Z"
   },
   {
    "duration": 13,
    "start_time": "2022-04-04T17:33:59.183Z"
   },
   {
    "duration": 5,
    "start_time": "2022-04-04T17:33:59.197Z"
   },
   {
    "duration": 11,
    "start_time": "2022-04-04T17:33:59.204Z"
   },
   {
    "duration": 152,
    "start_time": "2022-04-04T17:33:59.217Z"
   },
   {
    "duration": 154,
    "start_time": "2022-04-04T17:33:59.371Z"
   },
   {
    "duration": 14,
    "start_time": "2022-04-04T17:33:59.527Z"
   },
   {
    "duration": 14,
    "start_time": "2022-04-04T17:33:59.542Z"
   },
   {
    "duration": 8,
    "start_time": "2022-04-04T17:33:59.558Z"
   },
   {
    "duration": 144,
    "start_time": "2022-04-04T17:33:59.567Z"
   },
   {
    "duration": 147,
    "start_time": "2022-04-04T17:33:59.712Z"
   },
   {
    "duration": 8,
    "start_time": "2022-04-04T17:33:59.861Z"
   },
   {
    "duration": 16,
    "start_time": "2022-04-04T17:33:59.871Z"
   },
   {
    "duration": 11,
    "start_time": "2022-04-04T17:33:59.889Z"
   },
   {
    "duration": 142,
    "start_time": "2022-04-04T17:33:59.902Z"
   },
   {
    "duration": 153,
    "start_time": "2022-04-04T17:34:00.046Z"
   },
   {
    "duration": 7,
    "start_time": "2022-04-04T17:34:00.201Z"
   },
   {
    "duration": 30,
    "start_time": "2022-04-04T17:34:00.210Z"
   },
   {
    "duration": 13,
    "start_time": "2022-04-04T17:34:00.242Z"
   },
   {
    "duration": 226,
    "start_time": "2022-04-04T17:34:00.257Z"
   },
   {
    "duration": 148,
    "start_time": "2022-04-04T17:34:00.485Z"
   },
   {
    "duration": 14,
    "start_time": "2022-04-04T17:34:00.634Z"
   },
   {
    "duration": 17,
    "start_time": "2022-04-04T17:34:00.650Z"
   },
   {
    "duration": 17,
    "start_time": "2022-04-04T17:34:00.669Z"
   },
   {
    "duration": 131,
    "start_time": "2022-04-04T17:34:00.688Z"
   },
   {
    "duration": 169,
    "start_time": "2022-04-04T17:34:00.822Z"
   },
   {
    "duration": 9,
    "start_time": "2022-04-04T17:34:00.993Z"
   },
   {
    "duration": 45,
    "start_time": "2022-04-04T17:34:01.003Z"
   },
   {
    "duration": 27,
    "start_time": "2022-04-04T17:34:01.050Z"
   },
   {
    "duration": 33,
    "start_time": "2022-04-04T17:34:01.080Z"
   },
   {
    "duration": 1425,
    "start_time": "2022-04-04T17:34:01.115Z"
   },
   {
    "duration": 261,
    "start_time": "2022-04-04T17:34:02.542Z"
   },
   {
    "duration": 327,
    "start_time": "2022-04-04T17:34:02.805Z"
   },
   {
    "duration": 1993,
    "start_time": "2022-04-04T17:34:03.138Z"
   },
   {
    "duration": 25,
    "start_time": "2022-04-04T17:34:05.138Z"
   },
   {
    "duration": 11,
    "start_time": "2022-04-04T17:34:05.165Z"
   },
   {
    "duration": 6,
    "start_time": "2022-04-04T17:34:05.178Z"
   },
   {
    "duration": 177,
    "start_time": "2022-04-04T17:34:05.186Z"
   },
   {
    "duration": 158,
    "start_time": "2022-04-04T17:34:05.365Z"
   },
   {
    "duration": 18,
    "start_time": "2022-04-04T17:34:05.525Z"
   },
   {
    "duration": 145,
    "start_time": "2022-04-04T17:34:05.544Z"
   },
   {
    "duration": 168,
    "start_time": "2022-04-04T17:34:05.691Z"
   },
   {
    "duration": 147,
    "start_time": "2022-04-04T17:34:05.861Z"
   },
   {
    "duration": 167,
    "start_time": "2022-04-04T17:34:06.009Z"
   },
   {
    "duration": 182,
    "start_time": "2022-04-04T17:34:06.178Z"
   },
   {
    "duration": 295,
    "start_time": "2022-04-04T17:34:06.361Z"
   },
   {
    "duration": 165,
    "start_time": "2022-04-04T17:34:06.658Z"
   },
   {
    "duration": 1259,
    "start_time": "2022-04-04T17:51:46.838Z"
   },
   {
    "duration": 80,
    "start_time": "2022-04-04T17:51:48.099Z"
   },
   {
    "duration": 108,
    "start_time": "2022-04-04T17:51:48.181Z"
   },
   {
    "duration": 79,
    "start_time": "2022-04-04T17:51:48.291Z"
   },
   {
    "duration": 15,
    "start_time": "2022-04-04T17:51:48.371Z"
   },
   {
    "duration": 5,
    "start_time": "2022-04-04T17:51:48.387Z"
   },
   {
    "duration": 8,
    "start_time": "2022-04-04T17:51:48.394Z"
   },
   {
    "duration": 35,
    "start_time": "2022-04-04T17:51:48.404Z"
   },
   {
    "duration": 7,
    "start_time": "2022-04-04T17:51:48.441Z"
   },
   {
    "duration": 8,
    "start_time": "2022-04-04T17:51:48.450Z"
   },
   {
    "duration": 8,
    "start_time": "2022-04-04T17:51:48.460Z"
   },
   {
    "duration": 8,
    "start_time": "2022-04-04T17:51:48.469Z"
   },
   {
    "duration": 6,
    "start_time": "2022-04-04T17:51:48.479Z"
   },
   {
    "duration": 50,
    "start_time": "2022-04-04T17:51:48.487Z"
   },
   {
    "duration": 6,
    "start_time": "2022-04-04T17:51:48.539Z"
   },
   {
    "duration": 8,
    "start_time": "2022-04-04T17:51:48.546Z"
   },
   {
    "duration": 7,
    "start_time": "2022-04-04T17:51:48.556Z"
   },
   {
    "duration": 5,
    "start_time": "2022-04-04T17:51:48.565Z"
   },
   {
    "duration": 10,
    "start_time": "2022-04-04T17:51:48.571Z"
   },
   {
    "duration": 7,
    "start_time": "2022-04-04T17:51:48.582Z"
   },
   {
    "duration": 9,
    "start_time": "2022-04-04T17:51:48.591Z"
   },
   {
    "duration": 43,
    "start_time": "2022-04-04T17:51:48.601Z"
   },
   {
    "duration": 8,
    "start_time": "2022-04-04T17:51:48.646Z"
   },
   {
    "duration": 6,
    "start_time": "2022-04-04T17:51:48.655Z"
   },
   {
    "duration": 11,
    "start_time": "2022-04-04T17:51:48.663Z"
   },
   {
    "duration": 6,
    "start_time": "2022-04-04T17:51:48.676Z"
   },
   {
    "duration": 7,
    "start_time": "2022-04-04T17:51:48.684Z"
   },
   {
    "duration": 46,
    "start_time": "2022-04-04T17:51:48.697Z"
   },
   {
    "duration": 9,
    "start_time": "2022-04-04T17:51:48.745Z"
   },
   {
    "duration": 8,
    "start_time": "2022-04-04T17:51:48.756Z"
   },
   {
    "duration": 17,
    "start_time": "2022-04-04T17:51:48.766Z"
   },
   {
    "duration": 23,
    "start_time": "2022-04-04T17:51:48.784Z"
   },
   {
    "duration": 230,
    "start_time": "2022-04-04T17:51:48.808Z"
   },
   {
    "duration": 11,
    "start_time": "2022-04-04T17:51:49.040Z"
   },
   {
    "duration": 7,
    "start_time": "2022-04-04T17:51:49.052Z"
   },
   {
    "duration": 13,
    "start_time": "2022-04-04T17:51:49.061Z"
   },
   {
    "duration": 11,
    "start_time": "2022-04-04T17:51:49.075Z"
   },
   {
    "duration": 9,
    "start_time": "2022-04-04T17:51:49.088Z"
   },
   {
    "duration": 11,
    "start_time": "2022-04-04T17:51:49.098Z"
   },
   {
    "duration": 5,
    "start_time": "2022-04-04T17:51:49.110Z"
   },
   {
    "duration": 3,
    "start_time": "2022-04-04T17:51:49.138Z"
   },
   {
    "duration": 11,
    "start_time": "2022-04-04T17:51:49.143Z"
   },
   {
    "duration": 5,
    "start_time": "2022-04-04T17:51:49.156Z"
   },
   {
    "duration": 6,
    "start_time": "2022-04-04T17:51:49.162Z"
   },
   {
    "duration": 7,
    "start_time": "2022-04-04T17:51:49.170Z"
   },
   {
    "duration": 7,
    "start_time": "2022-04-04T17:51:49.179Z"
   },
   {
    "duration": 12,
    "start_time": "2022-04-04T17:51:49.188Z"
   },
   {
    "duration": 12,
    "start_time": "2022-04-04T17:51:49.202Z"
   },
   {
    "duration": 7,
    "start_time": "2022-04-04T17:51:49.215Z"
   },
   {
    "duration": 36,
    "start_time": "2022-04-04T17:51:49.224Z"
   },
   {
    "duration": 327,
    "start_time": "2022-04-04T17:51:49.262Z"
   },
   {
    "duration": 7,
    "start_time": "2022-04-04T17:51:49.591Z"
   },
   {
    "duration": 11,
    "start_time": "2022-04-04T17:51:49.599Z"
   },
   {
    "duration": 7,
    "start_time": "2022-04-04T17:51:49.611Z"
   },
   {
    "duration": 25,
    "start_time": "2022-04-04T17:51:49.619Z"
   },
   {
    "duration": 149,
    "start_time": "2022-04-04T17:51:49.646Z"
   },
   {
    "duration": 159,
    "start_time": "2022-04-04T17:51:49.797Z"
   },
   {
    "duration": 10,
    "start_time": "2022-04-04T17:51:49.958Z"
   },
   {
    "duration": 11,
    "start_time": "2022-04-04T17:51:49.970Z"
   },
   {
    "duration": 10,
    "start_time": "2022-04-04T17:51:49.983Z"
   },
   {
    "duration": 155,
    "start_time": "2022-04-04T17:51:49.995Z"
   },
   {
    "duration": 141,
    "start_time": "2022-04-04T17:51:50.152Z"
   },
   {
    "duration": 8,
    "start_time": "2022-04-04T17:51:50.294Z"
   },
   {
    "duration": 11,
    "start_time": "2022-04-04T17:51:50.303Z"
   },
   {
    "duration": 25,
    "start_time": "2022-04-04T17:51:50.316Z"
   },
   {
    "duration": 119,
    "start_time": "2022-04-04T17:51:50.343Z"
   },
   {
    "duration": 151,
    "start_time": "2022-04-04T17:51:50.464Z"
   },
   {
    "duration": 7,
    "start_time": "2022-04-04T17:51:50.617Z"
   },
   {
    "duration": 20,
    "start_time": "2022-04-04T17:51:50.626Z"
   },
   {
    "duration": 9,
    "start_time": "2022-04-04T17:51:50.648Z"
   },
   {
    "duration": 219,
    "start_time": "2022-04-04T17:51:50.659Z"
   },
   {
    "duration": 138,
    "start_time": "2022-04-04T17:51:50.879Z"
   },
   {
    "duration": 23,
    "start_time": "2022-04-04T17:51:51.019Z"
   },
   {
    "duration": 10,
    "start_time": "2022-04-04T17:51:51.044Z"
   },
   {
    "duration": 9,
    "start_time": "2022-04-04T17:51:51.056Z"
   },
   {
    "duration": 139,
    "start_time": "2022-04-04T17:51:51.066Z"
   },
   {
    "duration": 164,
    "start_time": "2022-04-04T17:51:51.206Z"
   },
   {
    "duration": 8,
    "start_time": "2022-04-04T17:51:51.372Z"
   },
   {
    "duration": 10,
    "start_time": "2022-04-04T17:51:51.382Z"
   },
   {
    "duration": 4,
    "start_time": "2022-04-04T17:51:51.394Z"
   },
   {
    "duration": 38,
    "start_time": "2022-04-04T17:51:51.400Z"
   },
   {
    "duration": 1399,
    "start_time": "2022-04-04T17:51:51.443Z"
   },
   {
    "duration": 240,
    "start_time": "2022-04-04T17:51:52.844Z"
   },
   {
    "duration": 326,
    "start_time": "2022-04-04T17:51:53.086Z"
   },
   {
    "duration": 2023,
    "start_time": "2022-04-04T17:51:53.414Z"
   },
   {
    "duration": 25,
    "start_time": "2022-04-04T17:51:55.439Z"
   },
   {
    "duration": 9,
    "start_time": "2022-04-04T17:51:55.465Z"
   },
   {
    "duration": 6,
    "start_time": "2022-04-04T17:51:55.475Z"
   },
   {
    "duration": 178,
    "start_time": "2022-04-04T17:51:55.483Z"
   },
   {
    "duration": 165,
    "start_time": "2022-04-04T17:51:55.663Z"
   },
   {
    "duration": 10,
    "start_time": "2022-04-04T17:51:55.830Z"
   },
   {
    "duration": 142,
    "start_time": "2022-04-04T17:51:55.841Z"
   },
   {
    "duration": 175,
    "start_time": "2022-04-04T17:51:55.985Z"
   },
   {
    "duration": 154,
    "start_time": "2022-04-04T17:51:56.162Z"
   },
   {
    "duration": 163,
    "start_time": "2022-04-04T17:51:56.318Z"
   },
   {
    "duration": 182,
    "start_time": "2022-04-04T17:51:56.482Z"
   },
   {
    "duration": 299,
    "start_time": "2022-04-04T17:51:56.666Z"
   },
   {
    "duration": 196,
    "start_time": "2022-04-04T17:51:56.967Z"
   },
   {
    "duration": 172,
    "start_time": "2022-04-04T17:53:21.696Z"
   },
   {
    "duration": 161,
    "start_time": "2022-04-04T17:53:25.387Z"
   },
   {
    "duration": 1258,
    "start_time": "2022-04-04T18:21:45.232Z"
   },
   {
    "duration": 85,
    "start_time": "2022-04-04T18:21:46.492Z"
   },
   {
    "duration": 115,
    "start_time": "2022-04-04T18:21:46.579Z"
   },
   {
    "duration": 87,
    "start_time": "2022-04-04T18:21:46.696Z"
   },
   {
    "duration": 15,
    "start_time": "2022-04-04T18:21:46.785Z"
   },
   {
    "duration": 6,
    "start_time": "2022-04-04T18:21:46.802Z"
   },
   {
    "duration": 30,
    "start_time": "2022-04-04T18:21:46.809Z"
   },
   {
    "duration": 9,
    "start_time": "2022-04-04T18:21:46.841Z"
   },
   {
    "duration": 8,
    "start_time": "2022-04-04T18:21:46.852Z"
   },
   {
    "duration": 12,
    "start_time": "2022-04-04T18:21:46.862Z"
   },
   {
    "duration": 7,
    "start_time": "2022-04-04T18:21:46.876Z"
   },
   {
    "duration": 10,
    "start_time": "2022-04-04T18:21:46.885Z"
   },
   {
    "duration": 10,
    "start_time": "2022-04-04T18:21:46.937Z"
   },
   {
    "duration": 9,
    "start_time": "2022-04-04T18:21:46.949Z"
   },
   {
    "duration": 7,
    "start_time": "2022-04-04T18:21:46.960Z"
   },
   {
    "duration": 13,
    "start_time": "2022-04-04T18:21:46.969Z"
   },
   {
    "duration": 10,
    "start_time": "2022-04-04T18:21:46.984Z"
   },
   {
    "duration": 8,
    "start_time": "2022-04-04T18:21:46.995Z"
   },
   {
    "duration": 9,
    "start_time": "2022-04-04T18:21:47.037Z"
   },
   {
    "duration": 9,
    "start_time": "2022-04-04T18:21:47.048Z"
   },
   {
    "duration": 10,
    "start_time": "2022-04-04T18:21:47.059Z"
   },
   {
    "duration": 10,
    "start_time": "2022-04-04T18:21:47.071Z"
   },
   {
    "duration": 8,
    "start_time": "2022-04-04T18:21:47.083Z"
   },
   {
    "duration": 46,
    "start_time": "2022-04-04T18:21:47.093Z"
   },
   {
    "duration": 10,
    "start_time": "2022-04-04T18:21:47.141Z"
   },
   {
    "duration": 12,
    "start_time": "2022-04-04T18:21:47.153Z"
   },
   {
    "duration": 9,
    "start_time": "2022-04-04T18:21:47.167Z"
   },
   {
    "duration": 8,
    "start_time": "2022-04-04T18:21:47.178Z"
   },
   {
    "duration": 8,
    "start_time": "2022-04-04T18:21:47.188Z"
   },
   {
    "duration": 9,
    "start_time": "2022-04-04T18:21:47.239Z"
   },
   {
    "duration": 13,
    "start_time": "2022-04-04T18:21:47.251Z"
   },
   {
    "duration": 25,
    "start_time": "2022-04-04T18:21:47.265Z"
   },
   {
    "duration": 239,
    "start_time": "2022-04-04T18:21:47.292Z"
   },
   {
    "duration": 14,
    "start_time": "2022-04-04T18:21:47.537Z"
   },
   {
    "duration": 10,
    "start_time": "2022-04-04T18:21:47.552Z"
   },
   {
    "duration": 12,
    "start_time": "2022-04-04T18:21:47.564Z"
   },
   {
    "duration": 12,
    "start_time": "2022-04-04T18:21:47.579Z"
   },
   {
    "duration": 7,
    "start_time": "2022-04-04T18:21:47.593Z"
   },
   {
    "duration": 37,
    "start_time": "2022-04-04T18:21:47.602Z"
   },
   {
    "duration": 3,
    "start_time": "2022-04-04T18:21:47.647Z"
   },
   {
    "duration": 11,
    "start_time": "2022-04-04T18:21:47.652Z"
   },
   {
    "duration": 8,
    "start_time": "2022-04-04T18:21:47.666Z"
   },
   {
    "duration": 3,
    "start_time": "2022-04-04T18:21:47.676Z"
   },
   {
    "duration": 8,
    "start_time": "2022-04-04T18:21:47.681Z"
   },
   {
    "duration": 6,
    "start_time": "2022-04-04T18:21:47.690Z"
   },
   {
    "duration": 7,
    "start_time": "2022-04-04T18:21:47.698Z"
   },
   {
    "duration": 36,
    "start_time": "2022-04-04T18:21:47.707Z"
   },
   {
    "duration": 16,
    "start_time": "2022-04-04T18:21:47.745Z"
   },
   {
    "duration": 8,
    "start_time": "2022-04-04T18:21:47.763Z"
   },
   {
    "duration": 24,
    "start_time": "2022-04-04T18:21:47.774Z"
   },
   {
    "duration": 413,
    "start_time": "2022-04-04T18:21:47.800Z"
   },
   {
    "duration": 9,
    "start_time": "2022-04-04T18:21:48.214Z"
   },
   {
    "duration": 10,
    "start_time": "2022-04-04T18:21:48.238Z"
   },
   {
    "duration": 7,
    "start_time": "2022-04-04T18:21:48.250Z"
   },
   {
    "duration": 15,
    "start_time": "2022-04-04T18:21:48.258Z"
   },
   {
    "duration": 202,
    "start_time": "2022-04-04T18:21:48.275Z"
   },
   {
    "duration": 162,
    "start_time": "2022-04-04T18:21:48.479Z"
   },
   {
    "duration": 10,
    "start_time": "2022-04-04T18:21:48.643Z"
   },
   {
    "duration": 14,
    "start_time": "2022-04-04T18:21:48.655Z"
   },
   {
    "duration": 9,
    "start_time": "2022-04-04T18:21:48.671Z"
   },
   {
    "duration": 162,
    "start_time": "2022-04-04T18:21:48.682Z"
   },
   {
    "duration": 152,
    "start_time": "2022-04-04T18:21:48.846Z"
   },
   {
    "duration": 8,
    "start_time": "2022-04-04T18:21:48.999Z"
   },
   {
    "duration": 32,
    "start_time": "2022-04-04T18:21:49.009Z"
   },
   {
    "duration": 10,
    "start_time": "2022-04-04T18:21:49.043Z"
   },
   {
    "duration": 147,
    "start_time": "2022-04-04T18:21:49.055Z"
   },
   {
    "duration": 163,
    "start_time": "2022-04-04T18:21:49.204Z"
   },
   {
    "duration": 8,
    "start_time": "2022-04-04T18:21:49.369Z"
   },
   {
    "duration": 13,
    "start_time": "2022-04-04T18:21:49.379Z"
   },
   {
    "duration": 9,
    "start_time": "2022-04-04T18:21:49.394Z"
   },
   {
    "duration": 246,
    "start_time": "2022-04-04T18:21:49.405Z"
   },
   {
    "duration": 153,
    "start_time": "2022-04-04T18:21:49.653Z"
   },
   {
    "duration": 12,
    "start_time": "2022-04-04T18:21:49.808Z"
   },
   {
    "duration": 25,
    "start_time": "2022-04-04T18:21:49.821Z"
   },
   {
    "duration": 9,
    "start_time": "2022-04-04T18:21:49.848Z"
   },
   {
    "duration": 137,
    "start_time": "2022-04-04T18:21:49.859Z"
   },
   {
    "duration": 168,
    "start_time": "2022-04-04T18:21:49.998Z"
   },
   {
    "duration": 11,
    "start_time": "2022-04-04T18:21:50.168Z"
   },
   {
    "duration": 14,
    "start_time": "2022-04-04T18:21:50.181Z"
   },
   {
    "duration": 5,
    "start_time": "2022-04-04T18:21:50.197Z"
   },
   {
    "duration": 46,
    "start_time": "2022-04-04T18:21:50.203Z"
   },
   {
    "duration": 1375,
    "start_time": "2022-04-04T18:21:50.251Z"
   },
   {
    "duration": 220,
    "start_time": "2022-04-04T18:21:51.628Z"
   },
   {
    "duration": 332,
    "start_time": "2022-04-04T18:21:51.849Z"
   },
   {
    "duration": 2174,
    "start_time": "2022-04-04T18:21:52.184Z"
   },
   {
    "duration": 32,
    "start_time": "2022-04-04T18:21:54.360Z"
   },
   {
    "duration": 10,
    "start_time": "2022-04-04T18:21:54.394Z"
   },
   {
    "duration": 31,
    "start_time": "2022-04-04T18:21:54.406Z"
   },
   {
    "duration": 166,
    "start_time": "2022-04-04T18:21:54.439Z"
   },
   {
    "duration": 158,
    "start_time": "2022-04-04T18:21:54.607Z"
   },
   {
    "duration": 10,
    "start_time": "2022-04-04T18:21:54.767Z"
   },
   {
    "duration": 180,
    "start_time": "2022-04-04T18:21:54.779Z"
   },
   {
    "duration": 187,
    "start_time": "2022-04-04T18:21:54.961Z"
   },
   {
    "duration": 168,
    "start_time": "2022-04-04T18:21:55.151Z"
   },
   {
    "duration": 171,
    "start_time": "2022-04-04T18:21:55.321Z"
   },
   {
    "duration": 197,
    "start_time": "2022-04-04T18:21:55.494Z"
   },
   {
    "duration": 296,
    "start_time": "2022-04-04T18:21:55.692Z"
   },
   {
    "duration": 181,
    "start_time": "2022-04-04T18:21:55.990Z"
   },
   {
    "duration": 71,
    "start_time": "2022-04-04T19:54:19.892Z"
   },
   {
    "duration": 1523,
    "start_time": "2022-04-04T19:54:25.419Z"
   },
   {
    "duration": 105,
    "start_time": "2022-04-04T19:54:26.945Z"
   },
   {
    "duration": 144,
    "start_time": "2022-04-04T19:54:27.052Z"
   },
   {
    "duration": 119,
    "start_time": "2022-04-04T19:54:27.200Z"
   },
   {
    "duration": 21,
    "start_time": "2022-04-04T19:54:27.322Z"
   },
   {
    "duration": 33,
    "start_time": "2022-04-04T19:54:27.346Z"
   },
   {
    "duration": 23,
    "start_time": "2022-04-04T19:54:27.381Z"
   },
   {
    "duration": 9,
    "start_time": "2022-04-04T19:54:27.406Z"
   },
   {
    "duration": 23,
    "start_time": "2022-04-04T19:54:27.417Z"
   },
   {
    "duration": 26,
    "start_time": "2022-04-04T19:54:27.445Z"
   },
   {
    "duration": 11,
    "start_time": "2022-04-04T19:54:27.476Z"
   },
   {
    "duration": 31,
    "start_time": "2022-04-04T19:54:27.490Z"
   },
   {
    "duration": 25,
    "start_time": "2022-04-04T19:54:27.523Z"
   },
   {
    "duration": 21,
    "start_time": "2022-04-04T19:54:27.550Z"
   },
   {
    "duration": 24,
    "start_time": "2022-04-04T19:54:27.575Z"
   },
   {
    "duration": 27,
    "start_time": "2022-04-04T19:54:27.602Z"
   },
   {
    "duration": 15,
    "start_time": "2022-04-04T19:54:27.631Z"
   },
   {
    "duration": 31,
    "start_time": "2022-04-04T19:54:27.648Z"
   },
   {
    "duration": 42,
    "start_time": "2022-04-04T19:54:27.681Z"
   },
   {
    "duration": 28,
    "start_time": "2022-04-04T19:54:27.725Z"
   },
   {
    "duration": 64,
    "start_time": "2022-04-04T19:54:27.755Z"
   },
   {
    "duration": 27,
    "start_time": "2022-04-04T19:54:27.822Z"
   },
   {
    "duration": 46,
    "start_time": "2022-04-04T19:54:27.851Z"
   },
   {
    "duration": 12,
    "start_time": "2022-04-04T19:54:27.900Z"
   },
   {
    "duration": 46,
    "start_time": "2022-04-04T19:54:27.914Z"
   },
   {
    "duration": 62,
    "start_time": "2022-04-04T19:54:27.962Z"
   },
   {
    "duration": 49,
    "start_time": "2022-04-04T19:54:28.026Z"
   },
   {
    "duration": 35,
    "start_time": "2022-04-04T19:54:28.083Z"
   },
   {
    "duration": 33,
    "start_time": "2022-04-04T19:54:28.120Z"
   },
   {
    "duration": 63,
    "start_time": "2022-04-04T19:54:28.156Z"
   },
   {
    "duration": 56,
    "start_time": "2022-04-04T19:54:28.221Z"
   },
   {
    "duration": 40,
    "start_time": "2022-04-04T19:54:28.280Z"
   },
   {
    "duration": 371,
    "start_time": "2022-04-04T19:54:28.323Z"
   },
   {
    "duration": 19,
    "start_time": "2022-04-04T19:54:28.697Z"
   },
   {
    "duration": 10,
    "start_time": "2022-04-04T19:54:28.719Z"
   },
   {
    "duration": 38,
    "start_time": "2022-04-04T19:54:28.732Z"
   },
   {
    "duration": 23,
    "start_time": "2022-04-04T19:54:28.772Z"
   },
   {
    "duration": 5,
    "start_time": "2022-04-04T19:54:28.797Z"
   },
   {
    "duration": 12,
    "start_time": "2022-04-04T19:54:28.804Z"
   },
   {
    "duration": 3,
    "start_time": "2022-04-04T19:54:28.819Z"
   },
   {
    "duration": 5,
    "start_time": "2022-04-04T19:54:28.824Z"
   },
   {
    "duration": 37,
    "start_time": "2022-04-04T19:54:28.831Z"
   },
   {
    "duration": 8,
    "start_time": "2022-04-04T19:54:28.871Z"
   },
   {
    "duration": 9,
    "start_time": "2022-04-04T19:54:28.881Z"
   },
   {
    "duration": 11,
    "start_time": "2022-04-04T19:54:28.895Z"
   },
   {
    "duration": 6,
    "start_time": "2022-04-04T19:54:28.909Z"
   },
   {
    "duration": 12,
    "start_time": "2022-04-04T19:54:28.918Z"
   },
   {
    "duration": 45,
    "start_time": "2022-04-04T19:54:28.932Z"
   },
   {
    "duration": 12,
    "start_time": "2022-04-04T19:54:28.980Z"
   },
   {
    "duration": 36,
    "start_time": "2022-04-04T19:54:28.994Z"
   },
   {
    "duration": 586,
    "start_time": "2022-04-04T19:54:29.032Z"
   },
   {
    "duration": 9,
    "start_time": "2022-04-04T19:54:29.620Z"
   },
   {
    "duration": 9,
    "start_time": "2022-04-04T19:54:29.631Z"
   },
   {
    "duration": 33,
    "start_time": "2022-04-04T19:54:29.642Z"
   },
   {
    "duration": 25,
    "start_time": "2022-04-04T19:54:29.677Z"
   },
   {
    "duration": 219,
    "start_time": "2022-04-04T19:54:29.704Z"
   },
   {
    "duration": 262,
    "start_time": "2022-04-04T19:54:29.925Z"
   },
   {
    "duration": 11,
    "start_time": "2022-04-04T19:54:30.189Z"
   },
   {
    "duration": 47,
    "start_time": "2022-04-04T19:54:30.202Z"
   },
   {
    "duration": 42,
    "start_time": "2022-04-04T19:54:30.251Z"
   },
   {
    "duration": 308,
    "start_time": "2022-04-04T19:54:30.295Z"
   },
   {
    "duration": 763,
    "start_time": "2022-04-04T19:54:30.605Z"
   },
   {
    "duration": 15,
    "start_time": "2022-04-04T19:54:31.371Z"
   },
   {
    "duration": 91,
    "start_time": "2022-04-04T19:54:31.389Z"
   },
   {
    "duration": 16,
    "start_time": "2022-04-04T19:54:31.482Z"
   },
   {
    "duration": 574,
    "start_time": "2022-04-04T19:54:31.500Z"
   },
   {
    "duration": 500,
    "start_time": "2022-04-04T19:54:32.076Z"
   },
   {
    "duration": 17,
    "start_time": "2022-04-04T19:54:32.577Z"
   },
   {
    "duration": 82,
    "start_time": "2022-04-04T19:54:32.596Z"
   },
   {
    "duration": 36,
    "start_time": "2022-04-04T19:54:32.681Z"
   },
   {
    "duration": 856,
    "start_time": "2022-04-04T19:54:32.720Z"
   },
   {
    "duration": 561,
    "start_time": "2022-04-04T19:54:33.579Z"
   },
   {
    "duration": 41,
    "start_time": "2022-04-04T19:54:34.143Z"
   },
   {
    "duration": 27,
    "start_time": "2022-04-04T19:54:34.187Z"
   },
   {
    "duration": 14,
    "start_time": "2022-04-04T19:54:34.217Z"
   },
   {
    "duration": 220,
    "start_time": "2022-04-04T19:54:34.234Z"
   },
   {
    "duration": 265,
    "start_time": "2022-04-04T19:54:34.456Z"
   },
   {
    "duration": 10,
    "start_time": "2022-04-04T19:54:34.723Z"
   },
   {
    "duration": 35,
    "start_time": "2022-04-04T19:54:34.735Z"
   },
   {
    "duration": 8,
    "start_time": "2022-04-04T19:54:34.773Z"
   },
   {
    "duration": 25,
    "start_time": "2022-04-04T19:54:34.783Z"
   },
   {
    "duration": 2307,
    "start_time": "2022-04-04T19:54:34.817Z"
   },
   {
    "duration": 375,
    "start_time": "2022-04-04T19:54:37.127Z"
   },
   {
    "duration": 482,
    "start_time": "2022-04-04T19:54:37.505Z"
   },
   {
    "duration": 2909,
    "start_time": "2022-04-04T19:54:37.991Z"
   },
   {
    "duration": 35,
    "start_time": "2022-04-04T19:54:40.902Z"
   },
   {
    "duration": 36,
    "start_time": "2022-04-04T19:54:40.939Z"
   },
   {
    "duration": 6,
    "start_time": "2022-04-04T19:54:40.978Z"
   },
   {
    "duration": 302,
    "start_time": "2022-04-04T19:54:40.987Z"
   },
   {
    "duration": 283,
    "start_time": "2022-04-04T19:54:41.291Z"
   },
   {
    "duration": 13,
    "start_time": "2022-04-04T19:54:41.576Z"
   },
   {
    "duration": 251,
    "start_time": "2022-04-04T19:54:41.592Z"
   },
   {
    "duration": 264,
    "start_time": "2022-04-04T19:54:41.846Z"
   },
   {
    "duration": 259,
    "start_time": "2022-04-04T19:54:42.112Z"
   },
   {
    "duration": 262,
    "start_time": "2022-04-04T19:54:42.374Z"
   },
   {
    "duration": 295,
    "start_time": "2022-04-04T19:54:42.639Z"
   },
   {
    "duration": 401,
    "start_time": "2022-04-04T19:54:42.936Z"
   },
   {
    "duration": 288,
    "start_time": "2022-04-04T19:54:43.339Z"
   }
  ],
  "kernelspec": {
   "display_name": "Python 3.9.12 ('base')",
   "language": "python",
   "name": "python3"
  },
  "language_info": {
   "codemirror_mode": {
    "name": "ipython",
    "version": 3
   },
   "file_extension": ".py",
   "mimetype": "text/x-python",
   "name": "python",
   "nbconvert_exporter": "python",
   "pygments_lexer": "ipython3",
   "version": "3.9.12"
  },
  "toc": {
   "base_numbering": 1,
   "nav_menu": {},
   "number_sections": true,
   "sideBar": true,
   "skip_h1_title": true,
   "title_cell": "Содержание",
   "title_sidebar": "Contents",
   "toc_cell": true,
   "toc_position": {},
   "toc_section_display": true,
   "toc_window_display": true
  },
  "vscode": {
   "interpreter": {
    "hash": "ad2bdc8ecc057115af97d19610ffacc2b4e99fae6737bb82f5d7fb13d2f2c186"
   }
  }
 },
 "nbformat": 4,
 "nbformat_minor": 4
}
