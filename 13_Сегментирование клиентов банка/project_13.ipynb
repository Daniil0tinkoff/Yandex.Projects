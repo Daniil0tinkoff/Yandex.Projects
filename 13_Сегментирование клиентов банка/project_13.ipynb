{
 "cells": [
  {
   "cell_type": "markdown",
   "id": "032a0ff4",
   "metadata": {},
   "source": [
    "# Знакомство с проектом (описание)\n",
    "## Описание\n",
    "В нашем распоряжении база данных клиентов банка «Метанпром». Банк располагается в Ярославле и областных городах: Ростов Великий и Рыбинск. Необходимо исследовать клиентов с целью удержания.\n",
    "\n",
    "Колонки:\n",
    "\n",
    "- `userid` — идентификатор пользователя,\n",
    "- `score` — баллы кредитного скоринга,\n",
    "- `City` — город,\n",
    "- `Gender` — пол,\n",
    "- `Age` — возраст,\n",
    "- `Objects` — количество объектов в собственности,\n",
    "- `Balance` — баланс на счёте,\n",
    "- `Products` — количество продуктов, которыми пользуется клиент,\n",
    "- `CreditCard` — есть ли кредитная карта,\n",
    "- `Loyalty` — активный клиент,\n",
    "- `estimated_salary` — заработная плата клиента,\n",
    "- `Churn` — ушёл или нет.\n",
    "## Цель\n",
    "Сегментация клиентов по количеству потребляемых продуктов для удержания клиентов, уменьшения оттока.\n",
    "## Задача\n",
    "Проанализировать клиентов регионального банка и сегментировать пользователей по количеству потребляемых продуктов.\n",
    "# Загрузка данных, первичный осмотр и предобработка данных\n",
    "# Исследовательский анализ\n",
    "# Сегментирование пользователей по количество потребляемых продуктов\n",
    "## Составление портрета клиентов\n",
    "# Проверка гипотез\n",
    "## Формулировка гипотез\n",
    "## Проверка гипотез\n",
    "# Вывод\n",
    "## Общий вывод\n",
    "## Рекомендации для каждого сегмента"
   ]
  },
  {
   "cell_type": "markdown",
   "id": "8f1b7ec8",
   "metadata": {},
   "source": [
    "# Шаг 1. Загрузка данных, первичный осмотр и предобработка данных\n",
    "## Загрузим библиотеки и датасет"
   ]
  },
  {
   "cell_type": "code",
   "execution_count": 1,
   "id": "9ae9aebd",
   "metadata": {},
   "outputs": [],
   "source": [
    "# импортируем библиотеки\n",
    "import pandas as pd\n",
    "import math as mth\n",
    "import numpy as np\n",
    "import seaborn as sns\n",
    "import matplotlib.pyplot as plt\n",
    "\n",
    "from scipy import stats as st\n",
    "from statsmodels.stats import weightstats as stests\n",
    "from sklearn.preprocessing import StandardScaler\n",
    "from sklearn.cluster import KMeans\n",
    "from statsmodels.stats.proportion import proportions_ztest"
   ]
  },
  {
   "cell_type": "code",
   "execution_count": 2,
   "id": "994aa9c1",
   "metadata": {},
   "outputs": [],
   "source": [
    "# уберем красные предупреждения\n",
    "import warnings\n",
    "warnings.filterwarnings('ignore')"
   ]
  },
  {
   "cell_type": "code",
   "execution_count": 3,
   "id": "24c11049",
   "metadata": {},
   "outputs": [],
   "source": [
    "# прочитаем файлы:\n",
    "\n",
    "try:\n",
    "    df = pd.read_csv('bank_dataset.csv')\n",
    "\n",
    "except:\n",
    "    try:\n",
    "        df = pd.read_csv('/datasets/bank_dataset.csv')\n",
    "\n",
    "    except:\n",
    "        df = pd.read_csv('https://disk.yandex.ru/d/JVAJ9uxtV1uydQ/bank_dataset.csv')"
   ]
  },
  {
   "cell_type": "markdown",
   "id": "a678ee60",
   "metadata": {},
   "source": [
    "## Посмотрим данные"
   ]
  },
  {
   "cell_type": "code",
   "execution_count": 4,
   "id": "f6d319d8",
   "metadata": {},
   "outputs": [
    {
     "name": "stdout",
     "output_type": "stream",
     "text": [
      "<class 'pandas.core.frame.DataFrame'>\n",
      "RangeIndex: 10000 entries, 0 to 9999\n",
      "Data columns (total 12 columns):\n",
      " #   Column            Non-Null Count  Dtype  \n",
      "---  ------            --------------  -----  \n",
      " 0   userid            10000 non-null  int64  \n",
      " 1   score             10000 non-null  int64  \n",
      " 2   City              10000 non-null  object \n",
      " 3   Gender            10000 non-null  object \n",
      " 4   Age               10000 non-null  int64  \n",
      " 5   Objects           10000 non-null  int64  \n",
      " 6   Balance           6383 non-null   float64\n",
      " 7   Products          10000 non-null  int64  \n",
      " 8   CreditCard        10000 non-null  int64  \n",
      " 9   Loyalty           10000 non-null  int64  \n",
      " 10  estimated_salary  10000 non-null  float64\n",
      " 11  Churn             10000 non-null  int64  \n",
      "dtypes: float64(2), int64(8), object(2)\n",
      "memory usage: 937.6+ KB\n"
     ]
    }
   ],
   "source": [
    "df.info()"
   ]
  },
  {
   "cell_type": "code",
   "execution_count": 5,
   "id": "d519ca0f",
   "metadata": {},
   "outputs": [
    {
     "data": {
      "text/html": [
       "<div>\n",
       "<style scoped>\n",
       "    .dataframe tbody tr th:only-of-type {\n",
       "        vertical-align: middle;\n",
       "    }\n",
       "\n",
       "    .dataframe tbody tr th {\n",
       "        vertical-align: top;\n",
       "    }\n",
       "\n",
       "    .dataframe thead th {\n",
       "        text-align: right;\n",
       "    }\n",
       "</style>\n",
       "<table border=\"1\" class=\"dataframe\">\n",
       "  <thead>\n",
       "    <tr style=\"text-align: right;\">\n",
       "      <th></th>\n",
       "      <th>userid</th>\n",
       "      <th>score</th>\n",
       "      <th>City</th>\n",
       "      <th>Gender</th>\n",
       "      <th>Age</th>\n",
       "      <th>Objects</th>\n",
       "      <th>Balance</th>\n",
       "      <th>Products</th>\n",
       "      <th>CreditCard</th>\n",
       "      <th>Loyalty</th>\n",
       "      <th>estimated_salary</th>\n",
       "      <th>Churn</th>\n",
       "    </tr>\n",
       "  </thead>\n",
       "  <tbody>\n",
       "    <tr>\n",
       "      <th>0</th>\n",
       "      <td>15677338</td>\n",
       "      <td>619</td>\n",
       "      <td>Ярославль</td>\n",
       "      <td>Ж</td>\n",
       "      <td>42</td>\n",
       "      <td>2</td>\n",
       "      <td>NaN</td>\n",
       "      <td>1</td>\n",
       "      <td>1</td>\n",
       "      <td>1</td>\n",
       "      <td>101348.88</td>\n",
       "      <td>1</td>\n",
       "    </tr>\n",
       "    <tr>\n",
       "      <th>1</th>\n",
       "      <td>15690047</td>\n",
       "      <td>608</td>\n",
       "      <td>Рыбинск</td>\n",
       "      <td>Ж</td>\n",
       "      <td>41</td>\n",
       "      <td>1</td>\n",
       "      <td>83807.86</td>\n",
       "      <td>1</td>\n",
       "      <td>0</td>\n",
       "      <td>1</td>\n",
       "      <td>112542.58</td>\n",
       "      <td>0</td>\n",
       "    </tr>\n",
       "    <tr>\n",
       "      <th>2</th>\n",
       "      <td>15662040</td>\n",
       "      <td>502</td>\n",
       "      <td>Ярославль</td>\n",
       "      <td>Ж</td>\n",
       "      <td>42</td>\n",
       "      <td>8</td>\n",
       "      <td>159660.80</td>\n",
       "      <td>3</td>\n",
       "      <td>1</td>\n",
       "      <td>0</td>\n",
       "      <td>113931.57</td>\n",
       "      <td>1</td>\n",
       "    </tr>\n",
       "    <tr>\n",
       "      <th>3</th>\n",
       "      <td>15744090</td>\n",
       "      <td>699</td>\n",
       "      <td>Ярославль</td>\n",
       "      <td>Ж</td>\n",
       "      <td>39</td>\n",
       "      <td>1</td>\n",
       "      <td>NaN</td>\n",
       "      <td>2</td>\n",
       "      <td>0</td>\n",
       "      <td>0</td>\n",
       "      <td>93826.63</td>\n",
       "      <td>0</td>\n",
       "    </tr>\n",
       "    <tr>\n",
       "      <th>4</th>\n",
       "      <td>15780624</td>\n",
       "      <td>850</td>\n",
       "      <td>Рыбинск</td>\n",
       "      <td>Ж</td>\n",
       "      <td>43</td>\n",
       "      <td>2</td>\n",
       "      <td>125510.82</td>\n",
       "      <td>1</td>\n",
       "      <td>1</td>\n",
       "      <td>1</td>\n",
       "      <td>79084.10</td>\n",
       "      <td>0</td>\n",
       "    </tr>\n",
       "  </tbody>\n",
       "</table>\n",
       "</div>"
      ],
      "text/plain": [
       "     userid  score       City Gender  Age  Objects    Balance  Products  \\\n",
       "0  15677338    619  Ярославль      Ж   42        2        NaN         1   \n",
       "1  15690047    608    Рыбинск      Ж   41        1   83807.86         1   \n",
       "2  15662040    502  Ярославль      Ж   42        8  159660.80         3   \n",
       "3  15744090    699  Ярославль      Ж   39        1        NaN         2   \n",
       "4  15780624    850    Рыбинск      Ж   43        2  125510.82         1   \n",
       "\n",
       "   CreditCard  Loyalty  estimated_salary  Churn  \n",
       "0           1        1         101348.88      1  \n",
       "1           0        1         112542.58      0  \n",
       "2           1        0         113931.57      1  \n",
       "3           0        0          93826.63      0  \n",
       "4           1        1          79084.10      0  "
      ]
     },
     "execution_count": 5,
     "metadata": {},
     "output_type": "execute_result"
    }
   ],
   "source": [
    "df.head()"
   ]
  },
  {
   "cell_type": "markdown",
   "id": "a03a290c",
   "metadata": {},
   "source": [
    "Видим, что названия столбцов имеют разный регистр; имеются пропуски в столбце `Balance`. Количество пропусков значительное. \n",
    "\n",
    "Скорректируем названия столбцов"
   ]
  },
  {
   "cell_type": "code",
   "execution_count": 6,
   "id": "442351c8",
   "metadata": {},
   "outputs": [
    {
     "data": {
      "text/html": [
       "<div>\n",
       "<style scoped>\n",
       "    .dataframe tbody tr th:only-of-type {\n",
       "        vertical-align: middle;\n",
       "    }\n",
       "\n",
       "    .dataframe tbody tr th {\n",
       "        vertical-align: top;\n",
       "    }\n",
       "\n",
       "    .dataframe thead th {\n",
       "        text-align: right;\n",
       "    }\n",
       "</style>\n",
       "<table border=\"1\" class=\"dataframe\">\n",
       "  <thead>\n",
       "    <tr style=\"text-align: right;\">\n",
       "      <th></th>\n",
       "      <th>user_id</th>\n",
       "      <th>score</th>\n",
       "      <th>city</th>\n",
       "      <th>gender</th>\n",
       "      <th>age</th>\n",
       "      <th>objects</th>\n",
       "      <th>balance</th>\n",
       "      <th>products</th>\n",
       "      <th>credit_card</th>\n",
       "      <th>loyalty</th>\n",
       "      <th>estimated_salary</th>\n",
       "      <th>churn</th>\n",
       "    </tr>\n",
       "  </thead>\n",
       "  <tbody>\n",
       "    <tr>\n",
       "      <th>0</th>\n",
       "      <td>15677338</td>\n",
       "      <td>619</td>\n",
       "      <td>Ярославль</td>\n",
       "      <td>Ж</td>\n",
       "      <td>42</td>\n",
       "      <td>2</td>\n",
       "      <td>NaN</td>\n",
       "      <td>1</td>\n",
       "      <td>1</td>\n",
       "      <td>1</td>\n",
       "      <td>101348.88</td>\n",
       "      <td>1</td>\n",
       "    </tr>\n",
       "    <tr>\n",
       "      <th>1</th>\n",
       "      <td>15690047</td>\n",
       "      <td>608</td>\n",
       "      <td>Рыбинск</td>\n",
       "      <td>Ж</td>\n",
       "      <td>41</td>\n",
       "      <td>1</td>\n",
       "      <td>83807.86</td>\n",
       "      <td>1</td>\n",
       "      <td>0</td>\n",
       "      <td>1</td>\n",
       "      <td>112542.58</td>\n",
       "      <td>0</td>\n",
       "    </tr>\n",
       "    <tr>\n",
       "      <th>2</th>\n",
       "      <td>15662040</td>\n",
       "      <td>502</td>\n",
       "      <td>Ярославль</td>\n",
       "      <td>Ж</td>\n",
       "      <td>42</td>\n",
       "      <td>8</td>\n",
       "      <td>159660.80</td>\n",
       "      <td>3</td>\n",
       "      <td>1</td>\n",
       "      <td>0</td>\n",
       "      <td>113931.57</td>\n",
       "      <td>1</td>\n",
       "    </tr>\n",
       "    <tr>\n",
       "      <th>3</th>\n",
       "      <td>15744090</td>\n",
       "      <td>699</td>\n",
       "      <td>Ярославль</td>\n",
       "      <td>Ж</td>\n",
       "      <td>39</td>\n",
       "      <td>1</td>\n",
       "      <td>NaN</td>\n",
       "      <td>2</td>\n",
       "      <td>0</td>\n",
       "      <td>0</td>\n",
       "      <td>93826.63</td>\n",
       "      <td>0</td>\n",
       "    </tr>\n",
       "    <tr>\n",
       "      <th>4</th>\n",
       "      <td>15780624</td>\n",
       "      <td>850</td>\n",
       "      <td>Рыбинск</td>\n",
       "      <td>Ж</td>\n",
       "      <td>43</td>\n",
       "      <td>2</td>\n",
       "      <td>125510.82</td>\n",
       "      <td>1</td>\n",
       "      <td>1</td>\n",
       "      <td>1</td>\n",
       "      <td>79084.10</td>\n",
       "      <td>0</td>\n",
       "    </tr>\n",
       "    <tr>\n",
       "      <th>...</th>\n",
       "      <td>...</td>\n",
       "      <td>...</td>\n",
       "      <td>...</td>\n",
       "      <td>...</td>\n",
       "      <td>...</td>\n",
       "      <td>...</td>\n",
       "      <td>...</td>\n",
       "      <td>...</td>\n",
       "      <td>...</td>\n",
       "      <td>...</td>\n",
       "      <td>...</td>\n",
       "      <td>...</td>\n",
       "    </tr>\n",
       "    <tr>\n",
       "      <th>9995</th>\n",
       "      <td>15648965</td>\n",
       "      <td>771</td>\n",
       "      <td>Ярославль</td>\n",
       "      <td>М</td>\n",
       "      <td>39</td>\n",
       "      <td>5</td>\n",
       "      <td>NaN</td>\n",
       "      <td>2</td>\n",
       "      <td>1</td>\n",
       "      <td>0</td>\n",
       "      <td>96270.64</td>\n",
       "      <td>0</td>\n",
       "    </tr>\n",
       "    <tr>\n",
       "      <th>9996</th>\n",
       "      <td>15612628</td>\n",
       "      <td>516</td>\n",
       "      <td>Ярославль</td>\n",
       "      <td>М</td>\n",
       "      <td>35</td>\n",
       "      <td>10</td>\n",
       "      <td>57369.61</td>\n",
       "      <td>1</td>\n",
       "      <td>1</td>\n",
       "      <td>1</td>\n",
       "      <td>101699.77</td>\n",
       "      <td>0</td>\n",
       "    </tr>\n",
       "    <tr>\n",
       "      <th>9997</th>\n",
       "      <td>15627268</td>\n",
       "      <td>709</td>\n",
       "      <td>Ярославль</td>\n",
       "      <td>Ж</td>\n",
       "      <td>36</td>\n",
       "      <td>7</td>\n",
       "      <td>NaN</td>\n",
       "      <td>1</td>\n",
       "      <td>0</td>\n",
       "      <td>1</td>\n",
       "      <td>42085.58</td>\n",
       "      <td>1</td>\n",
       "    </tr>\n",
       "    <tr>\n",
       "      <th>9998</th>\n",
       "      <td>15725091</td>\n",
       "      <td>772</td>\n",
       "      <td>Ростов Великий</td>\n",
       "      <td>М</td>\n",
       "      <td>42</td>\n",
       "      <td>3</td>\n",
       "      <td>75075.31</td>\n",
       "      <td>2</td>\n",
       "      <td>1</td>\n",
       "      <td>0</td>\n",
       "      <td>92888.52</td>\n",
       "      <td>1</td>\n",
       "    </tr>\n",
       "    <tr>\n",
       "      <th>9999</th>\n",
       "      <td>15671055</td>\n",
       "      <td>792</td>\n",
       "      <td>Ярославль</td>\n",
       "      <td>Ж</td>\n",
       "      <td>28</td>\n",
       "      <td>4</td>\n",
       "      <td>130142.79</td>\n",
       "      <td>1</td>\n",
       "      <td>1</td>\n",
       "      <td>0</td>\n",
       "      <td>38190.78</td>\n",
       "      <td>0</td>\n",
       "    </tr>\n",
       "  </tbody>\n",
       "</table>\n",
       "<p>10000 rows × 12 columns</p>\n",
       "</div>"
      ],
      "text/plain": [
       "       user_id  score            city gender  age  objects    balance  \\\n",
       "0     15677338    619       Ярославль      Ж   42        2        NaN   \n",
       "1     15690047    608         Рыбинск      Ж   41        1   83807.86   \n",
       "2     15662040    502       Ярославль      Ж   42        8  159660.80   \n",
       "3     15744090    699       Ярославль      Ж   39        1        NaN   \n",
       "4     15780624    850         Рыбинск      Ж   43        2  125510.82   \n",
       "...        ...    ...             ...    ...  ...      ...        ...   \n",
       "9995  15648965    771       Ярославль      М   39        5        NaN   \n",
       "9996  15612628    516       Ярославль      М   35       10   57369.61   \n",
       "9997  15627268    709       Ярославль      Ж   36        7        NaN   \n",
       "9998  15725091    772  Ростов Великий      М   42        3   75075.31   \n",
       "9999  15671055    792       Ярославль      Ж   28        4  130142.79   \n",
       "\n",
       "      products  credit_card  loyalty  estimated_salary  churn  \n",
       "0            1            1        1         101348.88      1  \n",
       "1            1            0        1         112542.58      0  \n",
       "2            3            1        0         113931.57      1  \n",
       "3            2            0        0          93826.63      0  \n",
       "4            1            1        1          79084.10      0  \n",
       "...        ...          ...      ...               ...    ...  \n",
       "9995         2            1        0          96270.64      0  \n",
       "9996         1            1        1         101699.77      0  \n",
       "9997         1            0        1          42085.58      1  \n",
       "9998         2            1        0          92888.52      1  \n",
       "9999         1            1        0          38190.78      0  \n",
       "\n",
       "[10000 rows x 12 columns]"
      ]
     },
     "execution_count": 6,
     "metadata": {},
     "output_type": "execute_result"
    }
   ],
   "source": [
    "# скорректируем названия столбцов\n",
    "df = df.rename(columns={'userid': 'user_id', 'CreditCard': 'credit_card'})\n",
    "df.columns = df.columns.str.lower()\n",
    "df"
   ]
  },
  {
   "cell_type": "markdown",
   "id": "5b601c26",
   "metadata": {},
   "source": [
    "## Вывод\n",
    "* названия столбцов имеют разный регистр; имеются пропуски в столбце `balance`\n",
    "* все пользователи уникальны\n"
   ]
  },
  {
   "cell_type": "markdown",
   "id": "004e2634",
   "metadata": {},
   "source": [
    "# Шаг 2. Исследовательский анализ"
   ]
  },
  {
   "cell_type": "markdown",
   "id": "12df8c2a",
   "metadata": {},
   "source": [
    "## Изучим каждый столбец"
   ]
  },
  {
   "cell_type": "code",
   "execution_count": 7,
   "id": "9b063790",
   "metadata": {},
   "outputs": [
    {
     "data": {
      "text/plain": [
       "15677338    1\n",
       "15710668    1\n",
       "15808921    1\n",
       "15710368    1\n",
       "15641760    1\n",
       "           ..\n",
       "15641814    1\n",
       "15745036    1\n",
       "15703471    1\n",
       "15714126    1\n",
       "15671055    1\n",
       "Name: user_id, Length: 10000, dtype: int64"
      ]
     },
     "execution_count": 7,
     "metadata": {},
     "output_type": "execute_result"
    }
   ],
   "source": [
    "df['user_id'].value_counts()"
   ]
  },
  {
   "cell_type": "markdown",
   "id": "eb40fdc9",
   "metadata": {},
   "source": [
    "Видим, что все пользователи уникальны"
   ]
  },
  {
   "cell_type": "code",
   "execution_count": 8,
   "id": "80f97df8",
   "metadata": {},
   "outputs": [
    {
     "data": {
      "text/plain": [
       "850    233\n",
       "678     63\n",
       "655     54\n",
       "705     53\n",
       "667     53\n",
       "      ... \n",
       "404      1\n",
       "351      1\n",
       "365      1\n",
       "417      1\n",
       "419      1\n",
       "Name: score, Length: 460, dtype: int64"
      ]
     },
     "execution_count": 8,
     "metadata": {},
     "output_type": "execute_result"
    }
   ],
   "source": [
    "df['score'].value_counts()"
   ]
  },
  {
   "cell_type": "code",
   "execution_count": 9,
   "id": "ffa5771f",
   "metadata": {},
   "outputs": [
    {
     "data": {
      "text/plain": [
       "count    10000.000000\n",
       "mean       650.528800\n",
       "std         96.653299\n",
       "min        350.000000\n",
       "25%        584.000000\n",
       "50%        652.000000\n",
       "75%        718.000000\n",
       "max        850.000000\n",
       "Name: score, dtype: float64"
      ]
     },
     "execution_count": 9,
     "metadata": {},
     "output_type": "execute_result"
    }
   ],
   "source": [
    "df['score'].describe()"
   ]
  },
  {
   "cell_type": "markdown",
   "id": "3a39bc0c",
   "metadata": {},
   "source": [
    "Видим, что наивысший балл - 850 единиц, у 233 пользователей. Средний показатель - 650 единиц. Стандартное отклонение - 96 ед."
   ]
  },
  {
   "cell_type": "code",
   "execution_count": 10,
   "id": "58cd706c",
   "metadata": {},
   "outputs": [
    {
     "data": {
      "text/plain": [
       "Ярославль         5014\n",
       "Ростов Великий    2509\n",
       "Рыбинск           2477\n",
       "Name: city, dtype: int64"
      ]
     },
     "execution_count": 10,
     "metadata": {},
     "output_type": "execute_result"
    }
   ],
   "source": [
    "df['city'].value_counts()"
   ]
  },
  {
   "cell_type": "markdown",
   "id": "596edd9f",
   "metadata": {},
   "source": [
    "Видим, что больше всего пользователей из г. Ярославль (около 50%), и примерно по 25% пользователей для каждого из городов: Ростов Великий и Рыбинск"
   ]
  },
  {
   "cell_type": "code",
   "execution_count": 11,
   "id": "9ded396d",
   "metadata": {},
   "outputs": [
    {
     "data": {
      "text/plain": [
       "М    5457\n",
       "Ж    4543\n",
       "Name: gender, dtype: int64"
      ]
     },
     "execution_count": 11,
     "metadata": {},
     "output_type": "execute_result"
    }
   ],
   "source": [
    "df['gender'].value_counts()"
   ]
  },
  {
   "cell_type": "markdown",
   "id": "d504883e",
   "metadata": {},
   "source": [
    "Видим, что пользователей мужского пола чуть-чуть больше чем женского, примерно 55% и 45% соответственно"
   ]
  },
  {
   "cell_type": "code",
   "execution_count": 12,
   "id": "b75e85f9",
   "metadata": {},
   "outputs": [
    {
     "data": {
      "text/plain": [
       "37    478\n",
       "38    477\n",
       "35    474\n",
       "36    456\n",
       "34    447\n",
       "     ... \n",
       "92      2\n",
       "82      1\n",
       "88      1\n",
       "85      1\n",
       "83      1\n",
       "Name: age, Length: 70, dtype: int64"
      ]
     },
     "execution_count": 12,
     "metadata": {},
     "output_type": "execute_result"
    }
   ],
   "source": [
    "df['age'].value_counts()"
   ]
  },
  {
   "cell_type": "code",
   "execution_count": 13,
   "id": "63225a56",
   "metadata": {},
   "outputs": [
    {
     "data": {
      "text/plain": [
       "count    10000.000000\n",
       "mean        38.921800\n",
       "std         10.487806\n",
       "min         18.000000\n",
       "25%         32.000000\n",
       "50%         37.000000\n",
       "75%         44.000000\n",
       "max         92.000000\n",
       "Name: age, dtype: float64"
      ]
     },
     "execution_count": 13,
     "metadata": {},
     "output_type": "execute_result"
    }
   ],
   "source": [
    "df['age'].describe()"
   ]
  },
  {
   "cell_type": "markdown",
   "id": "dfdb6072",
   "metadata": {},
   "source": [
    "Видим, что средний возраст пользователей - 38 полных лет. Стандартное отклонение - 10 лет."
   ]
  },
  {
   "cell_type": "code",
   "execution_count": 14,
   "id": "0acc27bf",
   "metadata": {},
   "outputs": [
    {
     "data": {
      "text/plain": [
       "2     1048\n",
       "1     1035\n",
       "7     1028\n",
       "8     1025\n",
       "5     1012\n",
       "3     1009\n",
       "4      989\n",
       "9      984\n",
       "6      967\n",
       "10     490\n",
       "0      413\n",
       "Name: objects, dtype: int64"
      ]
     },
     "execution_count": 14,
     "metadata": {},
     "output_type": "execute_result"
    }
   ],
   "source": [
    "df['objects'].value_counts()"
   ]
  },
  {
   "cell_type": "markdown",
   "id": "2953601f",
   "metadata": {},
   "source": [
    "Видим, топ-3 по количеству объектов у клиентов: 2 объекта (1048), 1 объект(1035) и 7 объектов (1028)"
   ]
  },
  {
   "cell_type": "code",
   "execution_count": 15,
   "id": "a04a94ed",
   "metadata": {},
   "outputs": [
    {
     "data": {
      "text/plain": [
       "105473.74    2\n",
       "130170.82    2\n",
       "83807.86     1\n",
       "85304.27     1\n",
       "159397.75    1\n",
       "            ..\n",
       "81556.89     1\n",
       "112687.69    1\n",
       "108698.96    1\n",
       "238387.56    1\n",
       "130142.79    1\n",
       "Name: balance, Length: 6381, dtype: int64"
      ]
     },
     "execution_count": 15,
     "metadata": {},
     "output_type": "execute_result"
    }
   ],
   "source": [
    "df['balance'].value_counts()"
   ]
  },
  {
   "cell_type": "code",
   "execution_count": 16,
   "id": "10b9b0fb",
   "metadata": {},
   "outputs": [
    {
     "data": {
      "text/plain": [
       "count      6383.000000\n",
       "mean     119827.493793\n",
       "std       30095.056462\n",
       "min        3768.690000\n",
       "25%      100181.975000\n",
       "50%      119839.690000\n",
       "75%      139512.290000\n",
       "max      250898.090000\n",
       "Name: balance, dtype: float64"
      ]
     },
     "execution_count": 16,
     "metadata": {},
     "output_type": "execute_result"
    }
   ],
   "source": [
    "df['balance'].describe()"
   ]
  },
  {
   "cell_type": "markdown",
   "id": "fbe9cf26",
   "metadata": {},
   "source": [
    "Видим, что средний баланс на счете - 119 827 у.е.\n",
    "Т.к. мы имеем большое количество пропусков, посмотрим имеем ли взаимосвязь признак `Balance` с каким либо другим признаком"
   ]
  },
  {
   "cell_type": "code",
   "execution_count": 17,
   "id": "51809035",
   "metadata": {},
   "outputs": [
    {
     "data": {
      "text/html": [
       "<div>\n",
       "<style scoped>\n",
       "    .dataframe tbody tr th:only-of-type {\n",
       "        vertical-align: middle;\n",
       "    }\n",
       "\n",
       "    .dataframe tbody tr th {\n",
       "        vertical-align: top;\n",
       "    }\n",
       "\n",
       "    .dataframe thead th {\n",
       "        text-align: right;\n",
       "    }\n",
       "</style>\n",
       "<table border=\"1\" class=\"dataframe\">\n",
       "  <thead>\n",
       "    <tr style=\"text-align: right;\">\n",
       "      <th></th>\n",
       "      <th>user_id</th>\n",
       "      <th>score</th>\n",
       "      <th>age</th>\n",
       "      <th>objects</th>\n",
       "      <th>balance</th>\n",
       "      <th>products</th>\n",
       "      <th>credit_card</th>\n",
       "      <th>loyalty</th>\n",
       "      <th>estimated_salary</th>\n",
       "      <th>churn</th>\n",
       "    </tr>\n",
       "  </thead>\n",
       "  <tbody>\n",
       "    <tr>\n",
       "      <th>user_id</th>\n",
       "      <td>1.000000</td>\n",
       "      <td>0.005308</td>\n",
       "      <td>0.009497</td>\n",
       "      <td>-0.014883</td>\n",
       "      <td>-0.008690</td>\n",
       "      <td>0.016972</td>\n",
       "      <td>-0.014025</td>\n",
       "      <td>0.001665</td>\n",
       "      <td>0.015271</td>\n",
       "      <td>-0.006248</td>\n",
       "    </tr>\n",
       "    <tr>\n",
       "      <th>score</th>\n",
       "      <td>0.005308</td>\n",
       "      <td>1.000000</td>\n",
       "      <td>-0.003965</td>\n",
       "      <td>0.000842</td>\n",
       "      <td>-0.004744</td>\n",
       "      <td>0.012238</td>\n",
       "      <td>-0.005458</td>\n",
       "      <td>0.025651</td>\n",
       "      <td>-0.001384</td>\n",
       "      <td>-0.027094</td>\n",
       "    </tr>\n",
       "    <tr>\n",
       "      <th>age</th>\n",
       "      <td>0.009497</td>\n",
       "      <td>-0.003965</td>\n",
       "      <td>1.000000</td>\n",
       "      <td>-0.009997</td>\n",
       "      <td>-0.012822</td>\n",
       "      <td>-0.030680</td>\n",
       "      <td>-0.011721</td>\n",
       "      <td>0.085472</td>\n",
       "      <td>-0.007201</td>\n",
       "      <td>0.285323</td>\n",
       "    </tr>\n",
       "    <tr>\n",
       "      <th>objects</th>\n",
       "      <td>-0.014883</td>\n",
       "      <td>0.000842</td>\n",
       "      <td>-0.009997</td>\n",
       "      <td>1.000000</td>\n",
       "      <td>0.005827</td>\n",
       "      <td>0.013444</td>\n",
       "      <td>0.022583</td>\n",
       "      <td>-0.028362</td>\n",
       "      <td>0.007784</td>\n",
       "      <td>-0.014001</td>\n",
       "    </tr>\n",
       "    <tr>\n",
       "      <th>balance</th>\n",
       "      <td>-0.008690</td>\n",
       "      <td>-0.004744</td>\n",
       "      <td>-0.012822</td>\n",
       "      <td>0.005827</td>\n",
       "      <td>1.000000</td>\n",
       "      <td>-0.001027</td>\n",
       "      <td>0.006721</td>\n",
       "      <td>-0.020418</td>\n",
       "      <td>-0.001856</td>\n",
       "      <td>0.017208</td>\n",
       "    </tr>\n",
       "    <tr>\n",
       "      <th>products</th>\n",
       "      <td>0.016972</td>\n",
       "      <td>0.012238</td>\n",
       "      <td>-0.030680</td>\n",
       "      <td>0.013444</td>\n",
       "      <td>-0.001027</td>\n",
       "      <td>1.000000</td>\n",
       "      <td>0.003183</td>\n",
       "      <td>0.009612</td>\n",
       "      <td>0.014204</td>\n",
       "      <td>-0.047820</td>\n",
       "    </tr>\n",
       "    <tr>\n",
       "      <th>credit_card</th>\n",
       "      <td>-0.014025</td>\n",
       "      <td>-0.005458</td>\n",
       "      <td>-0.011721</td>\n",
       "      <td>0.022583</td>\n",
       "      <td>0.006721</td>\n",
       "      <td>0.003183</td>\n",
       "      <td>1.000000</td>\n",
       "      <td>-0.011866</td>\n",
       "      <td>-0.009933</td>\n",
       "      <td>-0.007138</td>\n",
       "    </tr>\n",
       "    <tr>\n",
       "      <th>loyalty</th>\n",
       "      <td>0.001665</td>\n",
       "      <td>0.025651</td>\n",
       "      <td>0.085472</td>\n",
       "      <td>-0.028362</td>\n",
       "      <td>-0.020418</td>\n",
       "      <td>0.009612</td>\n",
       "      <td>-0.011866</td>\n",
       "      <td>1.000000</td>\n",
       "      <td>-0.011421</td>\n",
       "      <td>-0.156128</td>\n",
       "    </tr>\n",
       "    <tr>\n",
       "      <th>estimated_salary</th>\n",
       "      <td>0.015271</td>\n",
       "      <td>-0.001384</td>\n",
       "      <td>-0.007201</td>\n",
       "      <td>0.007784</td>\n",
       "      <td>-0.001856</td>\n",
       "      <td>0.014204</td>\n",
       "      <td>-0.009933</td>\n",
       "      <td>-0.011421</td>\n",
       "      <td>1.000000</td>\n",
       "      <td>0.012097</td>\n",
       "    </tr>\n",
       "    <tr>\n",
       "      <th>churn</th>\n",
       "      <td>-0.006248</td>\n",
       "      <td>-0.027094</td>\n",
       "      <td>0.285323</td>\n",
       "      <td>-0.014001</td>\n",
       "      <td>0.017208</td>\n",
       "      <td>-0.047820</td>\n",
       "      <td>-0.007138</td>\n",
       "      <td>-0.156128</td>\n",
       "      <td>0.012097</td>\n",
       "      <td>1.000000</td>\n",
       "    </tr>\n",
       "  </tbody>\n",
       "</table>\n",
       "</div>"
      ],
      "text/plain": [
       "                   user_id     score       age   objects   balance  products  \\\n",
       "user_id           1.000000  0.005308  0.009497 -0.014883 -0.008690  0.016972   \n",
       "score             0.005308  1.000000 -0.003965  0.000842 -0.004744  0.012238   \n",
       "age               0.009497 -0.003965  1.000000 -0.009997 -0.012822 -0.030680   \n",
       "objects          -0.014883  0.000842 -0.009997  1.000000  0.005827  0.013444   \n",
       "balance          -0.008690 -0.004744 -0.012822  0.005827  1.000000 -0.001027   \n",
       "products          0.016972  0.012238 -0.030680  0.013444 -0.001027  1.000000   \n",
       "credit_card      -0.014025 -0.005458 -0.011721  0.022583  0.006721  0.003183   \n",
       "loyalty           0.001665  0.025651  0.085472 -0.028362 -0.020418  0.009612   \n",
       "estimated_salary  0.015271 -0.001384 -0.007201  0.007784 -0.001856  0.014204   \n",
       "churn            -0.006248 -0.027094  0.285323 -0.014001  0.017208 -0.047820   \n",
       "\n",
       "                  credit_card   loyalty  estimated_salary     churn  \n",
       "user_id             -0.014025  0.001665          0.015271 -0.006248  \n",
       "score               -0.005458  0.025651         -0.001384 -0.027094  \n",
       "age                 -0.011721  0.085472         -0.007201  0.285323  \n",
       "objects              0.022583 -0.028362          0.007784 -0.014001  \n",
       "balance              0.006721 -0.020418         -0.001856  0.017208  \n",
       "products             0.003183  0.009612          0.014204 -0.047820  \n",
       "credit_card          1.000000 -0.011866         -0.009933 -0.007138  \n",
       "loyalty             -0.011866  1.000000         -0.011421 -0.156128  \n",
       "estimated_salary    -0.009933 -0.011421          1.000000  0.012097  \n",
       "churn               -0.007138 -0.156128          0.012097  1.000000  "
      ]
     },
     "execution_count": 17,
     "metadata": {},
     "output_type": "execute_result"
    }
   ],
   "source": [
    "df.corr()"
   ]
  },
  {
   "cell_type": "markdown",
   "id": "de90e450",
   "metadata": {},
   "source": [
    "Видим, что у признака `balance` везде связь низкая. Создадим две группы: 0 - имеются пропуски в признаке `balance`, 1 - нет пропусков"
   ]
  },
  {
   "cell_type": "code",
   "execution_count": 18,
   "id": "f49906ad",
   "metadata": {},
   "outputs": [
    {
     "data": {
      "text/html": [
       "<div>\n",
       "<style scoped>\n",
       "    .dataframe tbody tr th:only-of-type {\n",
       "        vertical-align: middle;\n",
       "    }\n",
       "\n",
       "    .dataframe tbody tr th {\n",
       "        vertical-align: top;\n",
       "    }\n",
       "\n",
       "    .dataframe thead th {\n",
       "        text-align: right;\n",
       "    }\n",
       "</style>\n",
       "<table border=\"1\" class=\"dataframe\">\n",
       "  <thead>\n",
       "    <tr style=\"text-align: right;\">\n",
       "      <th></th>\n",
       "      <th>user_id</th>\n",
       "      <th>score</th>\n",
       "      <th>age</th>\n",
       "      <th>objects</th>\n",
       "      <th>balance</th>\n",
       "      <th>products</th>\n",
       "      <th>credit_card</th>\n",
       "      <th>loyalty</th>\n",
       "      <th>estimated_salary</th>\n",
       "      <th>churn</th>\n",
       "    </tr>\n",
       "    <tr>\n",
       "      <th>group_balance</th>\n",
       "      <th></th>\n",
       "      <th></th>\n",
       "      <th></th>\n",
       "      <th></th>\n",
       "      <th></th>\n",
       "      <th></th>\n",
       "      <th></th>\n",
       "      <th></th>\n",
       "      <th></th>\n",
       "      <th></th>\n",
       "    </tr>\n",
       "  </thead>\n",
       "  <tbody>\n",
       "    <tr>\n",
       "      <th>0</th>\n",
       "      <td>1.573469e+07</td>\n",
       "      <td>649.452861</td>\n",
       "      <td>38.434891</td>\n",
       "      <td>5.071330</td>\n",
       "      <td>NaN</td>\n",
       "      <td>1.784628</td>\n",
       "      <td>0.716616</td>\n",
       "      <td>0.517832</td>\n",
       "      <td>98983.559549</td>\n",
       "      <td>0.138236</td>\n",
       "    </tr>\n",
       "    <tr>\n",
       "      <th>1</th>\n",
       "      <td>1.573310e+07</td>\n",
       "      <td>651.138493</td>\n",
       "      <td>39.197713</td>\n",
       "      <td>4.979633</td>\n",
       "      <td>119827.493793</td>\n",
       "      <td>1.386025</td>\n",
       "      <td>0.699201</td>\n",
       "      <td>0.513552</td>\n",
       "      <td>100717.352956</td>\n",
       "      <td>0.240796</td>\n",
       "    </tr>\n",
       "  </tbody>\n",
       "</table>\n",
       "</div>"
      ],
      "text/plain": [
       "                    user_id       score        age   objects        balance  \\\n",
       "group_balance                                                                 \n",
       "0              1.573469e+07  649.452861  38.434891  5.071330            NaN   \n",
       "1              1.573310e+07  651.138493  39.197713  4.979633  119827.493793   \n",
       "\n",
       "               products  credit_card   loyalty  estimated_salary     churn  \n",
       "group_balance                                                               \n",
       "0              1.784628     0.716616  0.517832      98983.559549  0.138236  \n",
       "1              1.386025     0.699201  0.513552     100717.352956  0.240796  "
      ]
     },
     "execution_count": 18,
     "metadata": {},
     "output_type": "execute_result"
    }
   ],
   "source": [
    "df['group_balance'] = 0 # создаем новый столбец\n",
    "df.loc[df['balance'] > 0, 'group_balance'] = 1 # срез с условие\n",
    "df.groupby('group_balance').agg('mean') # агрегируем данные"
   ]
  },
  {
   "cell_type": "markdown",
   "id": "b77240fc",
   "metadata": {},
   "source": [
    "Видим, что у группы с отсутсвующим балансом в спеднем ниже рейтинг, возраст, отток, но выше количество продуктов. У группы с балансом рейтинг повыше, возраст выше, продуктов меньше, отток больше. Предположение: клиент не пользуется продкутом со счетом по которому считается баланс, например, кредитный проект. Соотвутственно такие балансы можно заполнить нулями."
   ]
  },
  {
   "cell_type": "markdown",
   "id": "18e19193",
   "metadata": {},
   "source": [
    "## Изучим клиентов с отсутствующим балансом"
   ]
  },
  {
   "cell_type": "code",
   "execution_count": 19,
   "id": "ec323208",
   "metadata": {},
   "outputs": [
    {
     "data": {
      "text/html": [
       "<div>\n",
       "<style scoped>\n",
       "    .dataframe tbody tr th:only-of-type {\n",
       "        vertical-align: middle;\n",
       "    }\n",
       "\n",
       "    .dataframe tbody tr th {\n",
       "        vertical-align: top;\n",
       "    }\n",
       "\n",
       "    .dataframe thead th {\n",
       "        text-align: right;\n",
       "    }\n",
       "</style>\n",
       "<table border=\"1\" class=\"dataframe\">\n",
       "  <thead>\n",
       "    <tr style=\"text-align: right;\">\n",
       "      <th></th>\n",
       "      <th>user_id</th>\n",
       "      <th>score</th>\n",
       "      <th>city</th>\n",
       "      <th>gender</th>\n",
       "      <th>age</th>\n",
       "      <th>objects</th>\n",
       "      <th>balance</th>\n",
       "      <th>products</th>\n",
       "      <th>credit_card</th>\n",
       "      <th>loyalty</th>\n",
       "      <th>estimated_salary</th>\n",
       "      <th>churn</th>\n",
       "      <th>group_balance</th>\n",
       "    </tr>\n",
       "  </thead>\n",
       "  <tbody>\n",
       "    <tr>\n",
       "      <th>0</th>\n",
       "      <td>15677338</td>\n",
       "      <td>619</td>\n",
       "      <td>Ярославль</td>\n",
       "      <td>Ж</td>\n",
       "      <td>42</td>\n",
       "      <td>2</td>\n",
       "      <td>NaN</td>\n",
       "      <td>1</td>\n",
       "      <td>1</td>\n",
       "      <td>1</td>\n",
       "      <td>101348.88</td>\n",
       "      <td>1</td>\n",
       "      <td>0</td>\n",
       "    </tr>\n",
       "    <tr>\n",
       "      <th>3</th>\n",
       "      <td>15744090</td>\n",
       "      <td>699</td>\n",
       "      <td>Ярославль</td>\n",
       "      <td>Ж</td>\n",
       "      <td>39</td>\n",
       "      <td>1</td>\n",
       "      <td>NaN</td>\n",
       "      <td>2</td>\n",
       "      <td>0</td>\n",
       "      <td>0</td>\n",
       "      <td>93826.63</td>\n",
       "      <td>0</td>\n",
       "      <td>0</td>\n",
       "    </tr>\n",
       "    <tr>\n",
       "      <th>6</th>\n",
       "      <td>15635267</td>\n",
       "      <td>822</td>\n",
       "      <td>Ярославль</td>\n",
       "      <td>М</td>\n",
       "      <td>50</td>\n",
       "      <td>7</td>\n",
       "      <td>NaN</td>\n",
       "      <td>2</td>\n",
       "      <td>1</td>\n",
       "      <td>1</td>\n",
       "      <td>10062.80</td>\n",
       "      <td>0</td>\n",
       "      <td>0</td>\n",
       "    </tr>\n",
       "    <tr>\n",
       "      <th>11</th>\n",
       "      <td>15779909</td>\n",
       "      <td>497</td>\n",
       "      <td>Рыбинск</td>\n",
       "      <td>М</td>\n",
       "      <td>24</td>\n",
       "      <td>3</td>\n",
       "      <td>NaN</td>\n",
       "      <td>2</td>\n",
       "      <td>1</td>\n",
       "      <td>0</td>\n",
       "      <td>76390.01</td>\n",
       "      <td>0</td>\n",
       "      <td>0</td>\n",
       "    </tr>\n",
       "    <tr>\n",
       "      <th>12</th>\n",
       "      <td>15675000</td>\n",
       "      <td>476</td>\n",
       "      <td>Ярославль</td>\n",
       "      <td>Ж</td>\n",
       "      <td>34</td>\n",
       "      <td>10</td>\n",
       "      <td>NaN</td>\n",
       "      <td>2</td>\n",
       "      <td>1</td>\n",
       "      <td>0</td>\n",
       "      <td>26260.98</td>\n",
       "      <td>0</td>\n",
       "      <td>0</td>\n",
       "    </tr>\n",
       "    <tr>\n",
       "      <th>...</th>\n",
       "      <td>...</td>\n",
       "      <td>...</td>\n",
       "      <td>...</td>\n",
       "      <td>...</td>\n",
       "      <td>...</td>\n",
       "      <td>...</td>\n",
       "      <td>...</td>\n",
       "      <td>...</td>\n",
       "      <td>...</td>\n",
       "      <td>...</td>\n",
       "      <td>...</td>\n",
       "      <td>...</td>\n",
       "      <td>...</td>\n",
       "    </tr>\n",
       "    <tr>\n",
       "      <th>9989</th>\n",
       "      <td>15648358</td>\n",
       "      <td>841</td>\n",
       "      <td>Рыбинск</td>\n",
       "      <td>М</td>\n",
       "      <td>28</td>\n",
       "      <td>4</td>\n",
       "      <td>NaN</td>\n",
       "      <td>2</td>\n",
       "      <td>1</td>\n",
       "      <td>1</td>\n",
       "      <td>179436.60</td>\n",
       "      <td>0</td>\n",
       "      <td>0</td>\n",
       "    </tr>\n",
       "    <tr>\n",
       "      <th>9992</th>\n",
       "      <td>15699841</td>\n",
       "      <td>726</td>\n",
       "      <td>Рыбинск</td>\n",
       "      <td>М</td>\n",
       "      <td>36</td>\n",
       "      <td>2</td>\n",
       "      <td>NaN</td>\n",
       "      <td>1</td>\n",
       "      <td>1</td>\n",
       "      <td>0</td>\n",
       "      <td>195192.40</td>\n",
       "      <td>0</td>\n",
       "      <td>0</td>\n",
       "    </tr>\n",
       "    <tr>\n",
       "      <th>9994</th>\n",
       "      <td>15762030</td>\n",
       "      <td>800</td>\n",
       "      <td>Ярославль</td>\n",
       "      <td>Ж</td>\n",
       "      <td>29</td>\n",
       "      <td>2</td>\n",
       "      <td>NaN</td>\n",
       "      <td>2</td>\n",
       "      <td>0</td>\n",
       "      <td>0</td>\n",
       "      <td>167773.55</td>\n",
       "      <td>0</td>\n",
       "      <td>0</td>\n",
       "    </tr>\n",
       "    <tr>\n",
       "      <th>9995</th>\n",
       "      <td>15648965</td>\n",
       "      <td>771</td>\n",
       "      <td>Ярославль</td>\n",
       "      <td>М</td>\n",
       "      <td>39</td>\n",
       "      <td>5</td>\n",
       "      <td>NaN</td>\n",
       "      <td>2</td>\n",
       "      <td>1</td>\n",
       "      <td>0</td>\n",
       "      <td>96270.64</td>\n",
       "      <td>0</td>\n",
       "      <td>0</td>\n",
       "    </tr>\n",
       "    <tr>\n",
       "      <th>9997</th>\n",
       "      <td>15627268</td>\n",
       "      <td>709</td>\n",
       "      <td>Ярославль</td>\n",
       "      <td>Ж</td>\n",
       "      <td>36</td>\n",
       "      <td>7</td>\n",
       "      <td>NaN</td>\n",
       "      <td>1</td>\n",
       "      <td>0</td>\n",
       "      <td>1</td>\n",
       "      <td>42085.58</td>\n",
       "      <td>1</td>\n",
       "      <td>0</td>\n",
       "    </tr>\n",
       "  </tbody>\n",
       "</table>\n",
       "<p>3617 rows × 13 columns</p>\n",
       "</div>"
      ],
      "text/plain": [
       "       user_id  score       city gender  age  objects  balance  products  \\\n",
       "0     15677338    619  Ярославль      Ж   42        2      NaN         1   \n",
       "3     15744090    699  Ярославль      Ж   39        1      NaN         2   \n",
       "6     15635267    822  Ярославль      М   50        7      NaN         2   \n",
       "11    15779909    497    Рыбинск      М   24        3      NaN         2   \n",
       "12    15675000    476  Ярославль      Ж   34       10      NaN         2   \n",
       "...        ...    ...        ...    ...  ...      ...      ...       ...   \n",
       "9989  15648358    841    Рыбинск      М   28        4      NaN         2   \n",
       "9992  15699841    726    Рыбинск      М   36        2      NaN         1   \n",
       "9994  15762030    800  Ярославль      Ж   29        2      NaN         2   \n",
       "9995  15648965    771  Ярославль      М   39        5      NaN         2   \n",
       "9997  15627268    709  Ярославль      Ж   36        7      NaN         1   \n",
       "\n",
       "      credit_card  loyalty  estimated_salary  churn  group_balance  \n",
       "0               1        1         101348.88      1              0  \n",
       "3               0        0          93826.63      0              0  \n",
       "6               1        1          10062.80      0              0  \n",
       "11              1        0          76390.01      0              0  \n",
       "12              1        0          26260.98      0              0  \n",
       "...           ...      ...               ...    ...            ...  \n",
       "9989            1        1         179436.60      0              0  \n",
       "9992            1        0         195192.40      0              0  \n",
       "9994            0        0         167773.55      0              0  \n",
       "9995            1        0          96270.64      0              0  \n",
       "9997            0        1          42085.58      1              0  \n",
       "\n",
       "[3617 rows x 13 columns]"
      ]
     },
     "execution_count": 19,
     "metadata": {},
     "output_type": "execute_result"
    }
   ],
   "source": [
    "df_w0 = df.query('group_balance == 0')\n",
    "df_w0"
   ]
  },
  {
   "cell_type": "code",
   "execution_count": 20,
   "id": "e7b7c2e1",
   "metadata": {},
   "outputs": [
    {
     "data": {
      "text/plain": [
       "count    3617.000000\n",
       "mean      649.452861\n",
       "std        96.158798\n",
       "min       350.000000\n",
       "25%       583.000000\n",
       "50%       651.000000\n",
       "75%       717.000000\n",
       "max       850.000000\n",
       "Name: score, dtype: float64"
      ]
     },
     "execution_count": 20,
     "metadata": {},
     "output_type": "execute_result"
    }
   ],
   "source": [
    "df_w0['score'].describe()"
   ]
  },
  {
   "cell_type": "markdown",
   "id": "0944d6b8",
   "metadata": {},
   "source": [
    "Видим, что среднее значение скоринга 650, стандартное отклонение 96, медиана 651"
   ]
  },
  {
   "cell_type": "code",
   "execution_count": 21,
   "id": "8b07f028",
   "metadata": {},
   "outputs": [
    {
     "data": {
      "text/plain": [
       "Ярославль    2418\n",
       "Рыбинск      1199\n",
       "Name: city, dtype: int64"
      ]
     },
     "execution_count": 21,
     "metadata": {},
     "output_type": "execute_result"
    }
   ],
   "source": [
    "df_w0['city'].value_counts()"
   ]
  },
  {
   "cell_type": "markdown",
   "id": "80dd7fe1",
   "metadata": {},
   "source": [
    "Видим, что нет информации только у клиентов из Ярославля (2418) и Рыбинска (1199)"
   ]
  },
  {
   "cell_type": "code",
   "execution_count": 22,
   "id": "2e4f318d",
   "metadata": {},
   "outputs": [
    {
     "data": {
      "text/plain": [
       "М    1963\n",
       "Ж    1654\n",
       "Name: gender, dtype: int64"
      ]
     },
     "execution_count": 22,
     "metadata": {},
     "output_type": "execute_result"
    }
   ],
   "source": [
    "df_w0['gender'].value_counts()"
   ]
  },
  {
   "cell_type": "markdown",
   "id": "3d0e7085",
   "metadata": {},
   "source": [
    "Видим, что клиентов-мужчин: 1963 и женщин: 1654"
   ]
  },
  {
   "cell_type": "code",
   "execution_count": 23,
   "id": "e0a4691c",
   "metadata": {},
   "outputs": [
    {
     "data": {
      "text/plain": [
       "count    3617.000000\n",
       "mean       38.434891\n",
       "std        10.492002\n",
       "min        18.000000\n",
       "25%        31.000000\n",
       "50%        37.000000\n",
       "75%        43.000000\n",
       "max        88.000000\n",
       "Name: age, dtype: float64"
      ]
     },
     "execution_count": 23,
     "metadata": {},
     "output_type": "execute_result"
    }
   ],
   "source": [
    "df_w0['age'].describe()"
   ]
  },
  {
   "cell_type": "markdown",
   "id": "1145f0e5",
   "metadata": {},
   "source": [
    "Видим, что средний возраст клиентов с отсутсвующим балансом - 38 лет, стандартное отклонение 10, медиана - 37"
   ]
  },
  {
   "cell_type": "code",
   "execution_count": 24,
   "id": "7a63018f",
   "metadata": {},
   "outputs": [
    {
     "data": {
      "text/plain": [
       "count    3617.000000\n",
       "mean        5.071330\n",
       "std         2.860781\n",
       "min         0.000000\n",
       "25%         3.000000\n",
       "50%         5.000000\n",
       "75%         7.000000\n",
       "max        10.000000\n",
       "Name: objects, dtype: float64"
      ]
     },
     "execution_count": 24,
     "metadata": {},
     "output_type": "execute_result"
    }
   ],
   "source": [
    "df_w0['objects'].describe()"
   ]
  },
  {
   "cell_type": "markdown",
   "id": "72e82bca",
   "metadata": {},
   "source": [
    "Видим, что в среднем у таких клиентов 5 объектов, стандартное отклонение около 3, медиана 5"
   ]
  },
  {
   "cell_type": "code",
   "execution_count": 25,
   "id": "ba398abc",
   "metadata": {},
   "outputs": [
    {
     "data": {
      "text/plain": [
       "count    3617.000000\n",
       "mean        1.784628\n",
       "std         0.496455\n",
       "min         1.000000\n",
       "25%         1.000000\n",
       "50%         2.000000\n",
       "75%         2.000000\n",
       "max         4.000000\n",
       "Name: products, dtype: float64"
      ]
     },
     "execution_count": 25,
     "metadata": {},
     "output_type": "execute_result"
    }
   ],
   "source": [
    "df_w0['products'].describe()"
   ]
  },
  {
   "cell_type": "markdown",
   "id": "543eddac",
   "metadata": {},
   "source": [
    "Видим, что в среднем такие клиенты пользуются 2 продуктами, стандартное отклонение 0,5, медиана 2"
   ]
  },
  {
   "cell_type": "code",
   "execution_count": 26,
   "id": "1d600f35",
   "metadata": {},
   "outputs": [
    {
     "data": {
      "text/plain": [
       "count    3617.000000\n",
       "mean        0.716616\n",
       "std         0.450704\n",
       "min         0.000000\n",
       "25%         0.000000\n",
       "50%         1.000000\n",
       "75%         1.000000\n",
       "max         1.000000\n",
       "Name: credit_card, dtype: float64"
      ]
     },
     "execution_count": 26,
     "metadata": {},
     "output_type": "execute_result"
    }
   ],
   "source": [
    "df_w0['credit_card'].describe()"
   ]
  },
  {
   "cell_type": "markdown",
   "id": "dba9b5a1",
   "metadata": {},
   "source": [
    "Видим, что около 72% таких клиентов пользуются кредитными картами"
   ]
  },
  {
   "cell_type": "code",
   "execution_count": 27,
   "id": "4950be52",
   "metadata": {},
   "outputs": [
    {
     "data": {
      "text/plain": [
       "count    3617.000000\n",
       "mean        0.517832\n",
       "std         0.499751\n",
       "min         0.000000\n",
       "25%         0.000000\n",
       "50%         1.000000\n",
       "75%         1.000000\n",
       "max         1.000000\n",
       "Name: loyalty, dtype: float64"
      ]
     },
     "execution_count": 27,
     "metadata": {},
     "output_type": "execute_result"
    }
   ],
   "source": [
    "df_w0['loyalty'].describe()"
   ]
  },
  {
   "cell_type": "markdown",
   "id": "7670678e",
   "metadata": {},
   "source": [
    "Видим, что около 52% таких клиентов активны"
   ]
  },
  {
   "cell_type": "code",
   "execution_count": 28,
   "id": "bfc16913",
   "metadata": {},
   "outputs": [
    {
     "data": {
      "text/plain": [
       "count      3617.000000\n",
       "mean      98983.559549\n",
       "std       57730.828955\n",
       "min          90.070000\n",
       "25%       49506.820000\n",
       "50%       98618.790000\n",
       "75%      148330.970000\n",
       "max      199992.480000\n",
       "Name: estimated_salary, dtype: float64"
      ]
     },
     "execution_count": 28,
     "metadata": {},
     "output_type": "execute_result"
    }
   ],
   "source": [
    "df_w0['estimated_salary'].describe()"
   ]
  },
  {
   "cell_type": "markdown",
   "id": "475614fa",
   "metadata": {},
   "source": [
    "Видим, что в среднем у таких клиентов доход составляет 98 984 у.е. Стандартное отклонение 57 731 у.е., медианан 98 619 у.е."
   ]
  },
  {
   "cell_type": "code",
   "execution_count": 29,
   "id": "029f6c67",
   "metadata": {},
   "outputs": [
    {
     "data": {
      "text/plain": [
       "count    3617.000000\n",
       "mean        0.138236\n",
       "std         0.345195\n",
       "min         0.000000\n",
       "25%         0.000000\n",
       "50%         0.000000\n",
       "75%         0.000000\n",
       "max         1.000000\n",
       "Name: churn, dtype: float64"
      ]
     },
     "execution_count": 29,
     "metadata": {},
     "output_type": "execute_result"
    }
   ],
   "source": [
    "df_w0['churn'].describe()"
   ]
  },
  {
   "cell_type": "markdown",
   "id": "5d3a0f67",
   "metadata": {},
   "source": [
    "Видим, что отток у таких клиентов низкий, составляет около 14%"
   ]
  },
  {
   "cell_type": "markdown",
   "id": "e6878318",
   "metadata": {},
   "source": [
    "## Вывод:\n",
    "* среднее значение скоринга 650, стандартное отклонение 96, медиана 651\n",
    "* нет информации о балансе только у клиентов из Ярославля (2418) и Рыбинска (1199)\n",
    "* клиентов-мужчин: 1963 и женщин: 1654\n",
    "* средний возраст клиентов с отсутсвующим балансом - 38 лет, стандартное отклонение 10, медиана - 37\n",
    "* в среднем у таких клиентов 5 объектов, стандартное отклонение около 3, медиана 5\n",
    "* среднем такие клиенты пользуются 2 продуктами, стандартное отклонение 0,5, медиана 2\n",
    "* около 72% таких клиентов пользуются кредитными картами\n",
    "* около 52% таких клиентов активны\n",
    "* в среднем у таких клиентов доход составляет 98 984 у.е. Стандартное отклонение 57 731 у.е., медианан 98 619 у.е.\n",
    "* отток у таких клиентов низкий, составляет около 14%"
   ]
  },
  {
   "cell_type": "code",
   "execution_count": 30,
   "id": "c812c0e2",
   "metadata": {},
   "outputs": [
    {
     "data": {
      "text/html": [
       "<div>\n",
       "<style scoped>\n",
       "    .dataframe tbody tr th:only-of-type {\n",
       "        vertical-align: middle;\n",
       "    }\n",
       "\n",
       "    .dataframe tbody tr th {\n",
       "        vertical-align: top;\n",
       "    }\n",
       "\n",
       "    .dataframe thead th {\n",
       "        text-align: right;\n",
       "    }\n",
       "</style>\n",
       "<table border=\"1\" class=\"dataframe\">\n",
       "  <thead>\n",
       "    <tr style=\"text-align: right;\">\n",
       "      <th></th>\n",
       "      <th>user_id</th>\n",
       "      <th>score</th>\n",
       "      <th>city</th>\n",
       "      <th>gender</th>\n",
       "      <th>age</th>\n",
       "      <th>objects</th>\n",
       "      <th>balance</th>\n",
       "      <th>products</th>\n",
       "      <th>credit_card</th>\n",
       "      <th>loyalty</th>\n",
       "      <th>estimated_salary</th>\n",
       "      <th>churn</th>\n",
       "      <th>group_balance</th>\n",
       "    </tr>\n",
       "  </thead>\n",
       "  <tbody>\n",
       "    <tr>\n",
       "      <th>0</th>\n",
       "      <td>15677338</td>\n",
       "      <td>619</td>\n",
       "      <td>Ярославль</td>\n",
       "      <td>Ж</td>\n",
       "      <td>42</td>\n",
       "      <td>2</td>\n",
       "      <td>0.00</td>\n",
       "      <td>1</td>\n",
       "      <td>1</td>\n",
       "      <td>1</td>\n",
       "      <td>101348.88</td>\n",
       "      <td>1</td>\n",
       "      <td>0</td>\n",
       "    </tr>\n",
       "    <tr>\n",
       "      <th>1</th>\n",
       "      <td>15690047</td>\n",
       "      <td>608</td>\n",
       "      <td>Рыбинск</td>\n",
       "      <td>Ж</td>\n",
       "      <td>41</td>\n",
       "      <td>1</td>\n",
       "      <td>83807.86</td>\n",
       "      <td>1</td>\n",
       "      <td>0</td>\n",
       "      <td>1</td>\n",
       "      <td>112542.58</td>\n",
       "      <td>0</td>\n",
       "      <td>1</td>\n",
       "    </tr>\n",
       "    <tr>\n",
       "      <th>2</th>\n",
       "      <td>15662040</td>\n",
       "      <td>502</td>\n",
       "      <td>Ярославль</td>\n",
       "      <td>Ж</td>\n",
       "      <td>42</td>\n",
       "      <td>8</td>\n",
       "      <td>159660.80</td>\n",
       "      <td>3</td>\n",
       "      <td>1</td>\n",
       "      <td>0</td>\n",
       "      <td>113931.57</td>\n",
       "      <td>1</td>\n",
       "      <td>1</td>\n",
       "    </tr>\n",
       "    <tr>\n",
       "      <th>3</th>\n",
       "      <td>15744090</td>\n",
       "      <td>699</td>\n",
       "      <td>Ярославль</td>\n",
       "      <td>Ж</td>\n",
       "      <td>39</td>\n",
       "      <td>1</td>\n",
       "      <td>0.00</td>\n",
       "      <td>2</td>\n",
       "      <td>0</td>\n",
       "      <td>0</td>\n",
       "      <td>93826.63</td>\n",
       "      <td>0</td>\n",
       "      <td>0</td>\n",
       "    </tr>\n",
       "    <tr>\n",
       "      <th>4</th>\n",
       "      <td>15780624</td>\n",
       "      <td>850</td>\n",
       "      <td>Рыбинск</td>\n",
       "      <td>Ж</td>\n",
       "      <td>43</td>\n",
       "      <td>2</td>\n",
       "      <td>125510.82</td>\n",
       "      <td>1</td>\n",
       "      <td>1</td>\n",
       "      <td>1</td>\n",
       "      <td>79084.10</td>\n",
       "      <td>0</td>\n",
       "      <td>1</td>\n",
       "    </tr>\n",
       "    <tr>\n",
       "      <th>...</th>\n",
       "      <td>...</td>\n",
       "      <td>...</td>\n",
       "      <td>...</td>\n",
       "      <td>...</td>\n",
       "      <td>...</td>\n",
       "      <td>...</td>\n",
       "      <td>...</td>\n",
       "      <td>...</td>\n",
       "      <td>...</td>\n",
       "      <td>...</td>\n",
       "      <td>...</td>\n",
       "      <td>...</td>\n",
       "      <td>...</td>\n",
       "    </tr>\n",
       "    <tr>\n",
       "      <th>9995</th>\n",
       "      <td>15648965</td>\n",
       "      <td>771</td>\n",
       "      <td>Ярославль</td>\n",
       "      <td>М</td>\n",
       "      <td>39</td>\n",
       "      <td>5</td>\n",
       "      <td>0.00</td>\n",
       "      <td>2</td>\n",
       "      <td>1</td>\n",
       "      <td>0</td>\n",
       "      <td>96270.64</td>\n",
       "      <td>0</td>\n",
       "      <td>0</td>\n",
       "    </tr>\n",
       "    <tr>\n",
       "      <th>9996</th>\n",
       "      <td>15612628</td>\n",
       "      <td>516</td>\n",
       "      <td>Ярославль</td>\n",
       "      <td>М</td>\n",
       "      <td>35</td>\n",
       "      <td>10</td>\n",
       "      <td>57369.61</td>\n",
       "      <td>1</td>\n",
       "      <td>1</td>\n",
       "      <td>1</td>\n",
       "      <td>101699.77</td>\n",
       "      <td>0</td>\n",
       "      <td>1</td>\n",
       "    </tr>\n",
       "    <tr>\n",
       "      <th>9997</th>\n",
       "      <td>15627268</td>\n",
       "      <td>709</td>\n",
       "      <td>Ярославль</td>\n",
       "      <td>Ж</td>\n",
       "      <td>36</td>\n",
       "      <td>7</td>\n",
       "      <td>0.00</td>\n",
       "      <td>1</td>\n",
       "      <td>0</td>\n",
       "      <td>1</td>\n",
       "      <td>42085.58</td>\n",
       "      <td>1</td>\n",
       "      <td>0</td>\n",
       "    </tr>\n",
       "    <tr>\n",
       "      <th>9998</th>\n",
       "      <td>15725091</td>\n",
       "      <td>772</td>\n",
       "      <td>Ростов Великий</td>\n",
       "      <td>М</td>\n",
       "      <td>42</td>\n",
       "      <td>3</td>\n",
       "      <td>75075.31</td>\n",
       "      <td>2</td>\n",
       "      <td>1</td>\n",
       "      <td>0</td>\n",
       "      <td>92888.52</td>\n",
       "      <td>1</td>\n",
       "      <td>1</td>\n",
       "    </tr>\n",
       "    <tr>\n",
       "      <th>9999</th>\n",
       "      <td>15671055</td>\n",
       "      <td>792</td>\n",
       "      <td>Ярославль</td>\n",
       "      <td>Ж</td>\n",
       "      <td>28</td>\n",
       "      <td>4</td>\n",
       "      <td>130142.79</td>\n",
       "      <td>1</td>\n",
       "      <td>1</td>\n",
       "      <td>0</td>\n",
       "      <td>38190.78</td>\n",
       "      <td>0</td>\n",
       "      <td>1</td>\n",
       "    </tr>\n",
       "  </tbody>\n",
       "</table>\n",
       "<p>10000 rows × 13 columns</p>\n",
       "</div>"
      ],
      "text/plain": [
       "       user_id  score            city gender  age  objects    balance  \\\n",
       "0     15677338    619       Ярославль      Ж   42        2       0.00   \n",
       "1     15690047    608         Рыбинск      Ж   41        1   83807.86   \n",
       "2     15662040    502       Ярославль      Ж   42        8  159660.80   \n",
       "3     15744090    699       Ярославль      Ж   39        1       0.00   \n",
       "4     15780624    850         Рыбинск      Ж   43        2  125510.82   \n",
       "...        ...    ...             ...    ...  ...      ...        ...   \n",
       "9995  15648965    771       Ярославль      М   39        5       0.00   \n",
       "9996  15612628    516       Ярославль      М   35       10   57369.61   \n",
       "9997  15627268    709       Ярославль      Ж   36        7       0.00   \n",
       "9998  15725091    772  Ростов Великий      М   42        3   75075.31   \n",
       "9999  15671055    792       Ярославль      Ж   28        4  130142.79   \n",
       "\n",
       "      products  credit_card  loyalty  estimated_salary  churn  group_balance  \n",
       "0            1            1        1         101348.88      1              0  \n",
       "1            1            0        1         112542.58      0              1  \n",
       "2            3            1        0         113931.57      1              1  \n",
       "3            2            0        0          93826.63      0              0  \n",
       "4            1            1        1          79084.10      0              1  \n",
       "...        ...          ...      ...               ...    ...            ...  \n",
       "9995         2            1        0          96270.64      0              0  \n",
       "9996         1            1        1         101699.77      0              1  \n",
       "9997         1            0        1          42085.58      1              0  \n",
       "9998         2            1        0          92888.52      1              1  \n",
       "9999         1            1        0          38190.78      0              1  \n",
       "\n",
       "[10000 rows x 13 columns]"
      ]
     },
     "execution_count": 30,
     "metadata": {},
     "output_type": "execute_result"
    }
   ],
   "source": [
    "df = df.fillna(0)\n",
    "df"
   ]
  },
  {
   "cell_type": "code",
   "execution_count": 31,
   "id": "0d664d22",
   "metadata": {},
   "outputs": [
    {
     "data": {
      "text/plain": [
       "1    5084\n",
       "2    4590\n",
       "3     266\n",
       "4      60\n",
       "Name: products, dtype: int64"
      ]
     },
     "execution_count": 31,
     "metadata": {},
     "output_type": "execute_result"
    }
   ],
   "source": [
    "df['products'].value_counts()"
   ]
  },
  {
   "cell_type": "markdown",
   "id": "789d064e",
   "metadata": {},
   "source": [
    "Видим, что чуть больше половины клиентов 5084 (около 51%) пользуются 1 продуктом, чуть меньше 4590 (околок 46%) - 2 продуктами, 266 (2,66%) - 3 продуктвами, и 60 клиентов ( 0,06%) пользуются 4 продуктами"
   ]
  },
  {
   "cell_type": "code",
   "execution_count": 32,
   "id": "dcb940e2",
   "metadata": {},
   "outputs": [
    {
     "data": {
      "text/plain": [
       "1    7055\n",
       "0    2945\n",
       "Name: credit_card, dtype: int64"
      ]
     },
     "execution_count": 32,
     "metadata": {},
     "output_type": "execute_result"
    }
   ],
   "source": [
    "df['credit_card'].value_counts()"
   ]
  },
  {
   "cell_type": "markdown",
   "id": "f7cf559a",
   "metadata": {},
   "source": [
    "Видим, что около 70% (7055  клиентов) имеют кредитную карту и около 30% (2945 клиентов) не имеют"
   ]
  },
  {
   "cell_type": "code",
   "execution_count": 33,
   "id": "dcd5af99",
   "metadata": {},
   "outputs": [
    {
     "data": {
      "text/plain": [
       "1    5151\n",
       "0    4849\n",
       "Name: loyalty, dtype: int64"
      ]
     },
     "execution_count": 33,
     "metadata": {},
     "output_type": "execute_result"
    }
   ],
   "source": [
    "df['loyalty'].value_counts()"
   ]
  },
  {
   "cell_type": "markdown",
   "id": "72b776d6",
   "metadata": {},
   "source": [
    "Видим, что 5151 клиент (около 51%) - активные клиенты и 4849 (около 49%) неактивные"
   ]
  },
  {
   "cell_type": "code",
   "execution_count": 34,
   "id": "9e52647c",
   "metadata": {},
   "outputs": [
    {
     "data": {
      "text/plain": [
       "24924.92     2\n",
       "101348.88    1\n",
       "55313.44     1\n",
       "72500.68     1\n",
       "182692.80    1\n",
       "            ..\n",
       "120893.07    1\n",
       "188377.21    1\n",
       "55902.93     1\n",
       "4523.74      1\n",
       "38190.78     1\n",
       "Name: estimated_salary, Length: 9999, dtype: int64"
      ]
     },
     "execution_count": 34,
     "metadata": {},
     "output_type": "execute_result"
    }
   ],
   "source": [
    "df['estimated_salary'].value_counts()"
   ]
  },
  {
   "cell_type": "code",
   "execution_count": 35,
   "id": "bd20453b",
   "metadata": {},
   "outputs": [
    {
     "data": {
      "text/plain": [
       "count     10000.000000\n",
       "mean     100090.239881\n",
       "std       57510.492818\n",
       "min          11.580000\n",
       "25%       51002.110000\n",
       "50%      100193.915000\n",
       "75%      149388.247500\n",
       "max      199992.480000\n",
       "Name: estimated_salary, dtype: float64"
      ]
     },
     "execution_count": 35,
     "metadata": {},
     "output_type": "execute_result"
    }
   ],
   "source": [
    "df['estimated_salary'].describe()"
   ]
  },
  {
   "cell_type": "markdown",
   "id": "422e87c6",
   "metadata": {},
   "source": [
    "Видим, что средний доход составляет 100 090 у.е. Стандартное отклонение составляет 57 511 у.е."
   ]
  },
  {
   "cell_type": "code",
   "execution_count": 36,
   "id": "e7739739",
   "metadata": {},
   "outputs": [
    {
     "data": {
      "text/plain": [
       "0    7963\n",
       "1    2037\n",
       "Name: churn, dtype: int64"
      ]
     },
     "execution_count": 36,
     "metadata": {},
     "output_type": "execute_result"
    }
   ],
   "source": [
    "df['churn'].value_counts()"
   ]
  },
  {
   "cell_type": "markdown",
   "id": "9c8948a3",
   "metadata": {},
   "source": [
    "Видим, что 7963 клиентов удержано (около 80%), ушло 2037 клиента (около 20%)"
   ]
  },
  {
   "cell_type": "markdown",
   "id": "c64fee4e",
   "metadata": {},
   "source": [
    "## Посомтрим дубликаты"
   ]
  },
  {
   "cell_type": "code",
   "execution_count": 37,
   "id": "a418efb1",
   "metadata": {},
   "outputs": [
    {
     "data": {
      "text/plain": [
       "0"
      ]
     },
     "execution_count": 37,
     "metadata": {},
     "output_type": "execute_result"
    }
   ],
   "source": [
    "df.duplicated().sum()"
   ]
  },
  {
   "cell_type": "markdown",
   "id": "92186237",
   "metadata": {},
   "source": [
    "Видим, что полных дубликатов нет"
   ]
  },
  {
   "cell_type": "markdown",
   "id": "4fcce402",
   "metadata": {},
   "source": [
    "## Выводы:\n",
    "* наивысший балл - 850 единиц, у 233 пользователей. Средний показатель - 650 единиц. Стандартное отклонение - 96 ед.\n",
    "* больше всего пользователей из г. Ярославль (около 50%), и примерно по 25% пользователей для каждого из городов: Ростов Великий и Рыбинск\n",
    "* пользователей мужского пола чуть-чуть больше чем женского, примерно 55% и 45% соответственно\n",
    "* средний возраст пользователей - 38 полных лет. Стандартное отклонение - 10 лет.\n",
    "* топ-3 по количеству объектов у клиентов: 2 объекта (1048), 1 объект(1035) и 7 объектов (1028)\n",
    "* средний баланс на счете - 119 827 у.е. Т.к. мы имеем большое количество пропусков\n",
    "* у признака `balance` везде связь низкая. Скорей всего был сбой при выгрузке данных\n",
    "* чуть больше половины клиентов 5084 (около 51%) пользуются 1 продуктом, чуть меньше 4590 (околок 46%) - 2 продуктами, 266 (2,66%) - 3 продуктвами, и 60 клиентов ( 0,06%) пользуются 4 продуктами\n",
    "* около 70% (7055 клиентов) имеют кредитную карту и около 30% (2945 клиентов) не имеют\n",
    "* 5151 клиент (около 51%) - активные клиенты и 4849 (около 49%) неактивные\n",
    "* средний доход составляет 100 090 у.е. Стандартное отклонение составляет 57 511 у.е.\n",
    "* 7963 клиентов удержано (около 80%), ушло 2037 клиента (около 20%)\n",
    "* дубликатов нет"
   ]
  },
  {
   "cell_type": "markdown",
   "id": "a2cf878d",
   "metadata": {},
   "source": [
    "## Шаг 2. Исследовательский анализ\n",
    "\n",
    "### Посмотрим на средние значения признаков  в четырех группах соответсвующих количеству используемых продуктов\n",
    "\n",
    "Удалим признак `user_id` т.к. он не потребуется в анализе"
   ]
  },
  {
   "cell_type": "code",
   "execution_count": 38,
   "id": "6726432b",
   "metadata": {},
   "outputs": [],
   "source": [
    "df = df.drop(columns='user_id')"
   ]
  },
  {
   "cell_type": "code",
   "execution_count": 39,
   "id": "0a924bcc",
   "metadata": {},
   "outputs": [
    {
     "data": {
      "text/html": [
       "<style type=\"text/css\">\n",
       "</style>\n",
       "<table id=\"T_c14ee\">\n",
       "  <thead>\n",
       "    <tr>\n",
       "      <th class=\"blank level0\" >&nbsp;</th>\n",
       "      <th id=\"T_c14ee_level0_col0\" class=\"col_heading level0 col0\" >score</th>\n",
       "      <th id=\"T_c14ee_level0_col1\" class=\"col_heading level0 col1\" >age</th>\n",
       "      <th id=\"T_c14ee_level0_col2\" class=\"col_heading level0 col2\" >objects</th>\n",
       "      <th id=\"T_c14ee_level0_col3\" class=\"col_heading level0 col3\" >balance</th>\n",
       "      <th id=\"T_c14ee_level0_col4\" class=\"col_heading level0 col4\" >credit_card</th>\n",
       "      <th id=\"T_c14ee_level0_col5\" class=\"col_heading level0 col5\" >loyalty</th>\n",
       "      <th id=\"T_c14ee_level0_col6\" class=\"col_heading level0 col6\" >estimated_salary</th>\n",
       "      <th id=\"T_c14ee_level0_col7\" class=\"col_heading level0 col7\" >churn</th>\n",
       "      <th id=\"T_c14ee_level0_col8\" class=\"col_heading level0 col8\" >group_balance</th>\n",
       "    </tr>\n",
       "    <tr>\n",
       "      <th class=\"index_name level0\" >products</th>\n",
       "      <th class=\"blank col0\" >&nbsp;</th>\n",
       "      <th class=\"blank col1\" >&nbsp;</th>\n",
       "      <th class=\"blank col2\" >&nbsp;</th>\n",
       "      <th class=\"blank col3\" >&nbsp;</th>\n",
       "      <th class=\"blank col4\" >&nbsp;</th>\n",
       "      <th class=\"blank col5\" >&nbsp;</th>\n",
       "      <th class=\"blank col6\" >&nbsp;</th>\n",
       "      <th class=\"blank col7\" >&nbsp;</th>\n",
       "      <th class=\"blank col8\" >&nbsp;</th>\n",
       "    </tr>\n",
       "  </thead>\n",
       "  <tbody>\n",
       "    <tr>\n",
       "      <th id=\"T_c14ee_level0_row0\" class=\"row_heading level0 row0\" >1</th>\n",
       "      <td id=\"T_c14ee_row0_col0\" class=\"data row0 col0\" >649.12</td>\n",
       "      <td id=\"T_c14ee_row0_col1\" class=\"data row0 col1\" >39.67</td>\n",
       "      <td id=\"T_c14ee_row0_col2\" class=\"data row0 col2\" >4.97</td>\n",
       "      <td id=\"T_c14ee_row0_col3\" class=\"data row0 col3\" >98 551.87</td>\n",
       "      <td id=\"T_c14ee_row0_col4\" class=\"data row0 col4\" >0.70</td>\n",
       "      <td id=\"T_c14ee_row0_col5\" class=\"data row0 col5\" >0.50</td>\n",
       "      <td id=\"T_c14ee_row0_col6\" class=\"data row0 col6\" >99 487.26</td>\n",
       "      <td id=\"T_c14ee_row0_col7\" class=\"data row0 col7\" >0.28</td>\n",
       "      <td id=\"T_c14ee_row0_col8\" class=\"data row0 col8\" >0.82</td>\n",
       "    </tr>\n",
       "    <tr>\n",
       "      <th id=\"T_c14ee_level0_row1\" class=\"row_heading level0 row1\" >2</th>\n",
       "      <td id=\"T_c14ee_row1_col0\" class=\"data row1 col0\" >652.19</td>\n",
       "      <td id=\"T_c14ee_row1_col1\" class=\"data row1 col1\" >37.75</td>\n",
       "      <td id=\"T_c14ee_row1_col2\" class=\"data row1 col2\" >5.05</td>\n",
       "      <td id=\"T_c14ee_row1_col3\" class=\"data row1 col3\" >51 879.15</td>\n",
       "      <td id=\"T_c14ee_row1_col4\" class=\"data row1 col4\" >0.71</td>\n",
       "      <td id=\"T_c14ee_row1_col5\" class=\"data row1 col5\" >0.53</td>\n",
       "      <td id=\"T_c14ee_row1_col6\" class=\"data row1 col6\" >100 452.01</td>\n",
       "      <td id=\"T_c14ee_row1_col7\" class=\"data row1 col7\" >0.08</td>\n",
       "      <td id=\"T_c14ee_row1_col8\" class=\"data row1 col8\" >0.43</td>\n",
       "    </tr>\n",
       "    <tr>\n",
       "      <th id=\"T_c14ee_level0_row2\" class=\"row_heading level0 row2\" >3</th>\n",
       "      <td id=\"T_c14ee_row2_col0\" class=\"data row2 col0\" >648.11</td>\n",
       "      <td id=\"T_c14ee_row2_col1\" class=\"data row2 col1\" >43.20</td>\n",
       "      <td id=\"T_c14ee_row2_col2\" class=\"data row2 col2\" >5.00</td>\n",
       "      <td id=\"T_c14ee_row2_col3\" class=\"data row2 col3\" >75 458.33</td>\n",
       "      <td id=\"T_c14ee_row2_col4\" class=\"data row2 col4\" >0.71</td>\n",
       "      <td id=\"T_c14ee_row2_col5\" class=\"data row2 col5\" >0.42</td>\n",
       "      <td id=\"T_c14ee_row2_col6\" class=\"data row2 col6\" >104 318.13</td>\n",
       "      <td id=\"T_c14ee_row2_col7\" class=\"data row2 col7\" >0.83</td>\n",
       "      <td id=\"T_c14ee_row2_col8\" class=\"data row2 col8\" >0.63</td>\n",
       "    </tr>\n",
       "    <tr>\n",
       "      <th id=\"T_c14ee_level0_row3\" class=\"row_heading level0 row3\" >4</th>\n",
       "      <td id=\"T_c14ee_row3_col0\" class=\"data row3 col0\" >653.58</td>\n",
       "      <td id=\"T_c14ee_row3_col1\" class=\"data row3 col1\" >45.68</td>\n",
       "      <td id=\"T_c14ee_row3_col2\" class=\"data row3 col2\" >5.30</td>\n",
       "      <td id=\"T_c14ee_row3_col3\" class=\"data row3 col3\" >93 733.13</td>\n",
       "      <td id=\"T_c14ee_row3_col4\" class=\"data row3 col4\" >0.68</td>\n",
       "      <td id=\"T_c14ee_row3_col5\" class=\"data row3 col5\" >0.48</td>\n",
       "      <td id=\"T_c14ee_row3_col6\" class=\"data row3 col6\" >104 763.72</td>\n",
       "      <td id=\"T_c14ee_row3_col7\" class=\"data row3 col7\" >1.00</td>\n",
       "      <td id=\"T_c14ee_row3_col8\" class=\"data row3 col8\" >0.77</td>\n",
       "    </tr>\n",
       "  </tbody>\n",
       "</table>\n"
      ],
      "text/plain": [
       "<pandas.io.formats.style.Styler at 0x276c7189730>"
      ]
     },
     "execution_count": 39,
     "metadata": {},
     "output_type": "execute_result"
    }
   ],
   "source": [
    "# применим метод groupby()\n",
    "df.groupby('products').agg('mean').style.format(precision=2, thousands=\" \")"
   ]
  },
  {
   "cell_type": "markdown",
   "id": "69882bff",
   "metadata": {},
   "source": [
    "* `score`: рейтинг у 4 группы самый высокий (653), самый низкий у 3 (648)\n",
    "* `age`: самые молодые клиенты из группы 2 (37 полных лет), самые взрослые - 4 (45 полных лет)\n",
    "* `objects`: у всех групп клиентов в среднем 5 объектов\n",
    "* `balance`: у трех групп 1,2,3 в среднее значение на балансе 119 тыс. у.е., но у 4 все же больше - 122 тыс. у.е.\n",
    "* `credit_card`: меньше всего кредитных карт у клиентов из 4 группы (0,68), у групп 1,2,3 в среднем одинаковое значение клиентов с кредитными картам (0,7)\n",
    "* `loyalty`: наибольшее количество клиентов во 2 группе (0,53), наименьшее у 3\n",
    "* `estimated_salary`: в среднем заработная плата у клиентов из первой группы самая низкая (99 487 у.е), наибольшая у клиентов из 4 группы (104 763 у.е.)\n",
    "* `churn`: клиенты из группы 4 все отточные, наименьший оттко у клиентов из группы 2 (7,6%)\n",
    "* `group_balance`: меньше всего у группы 2 и 3"
   ]
  },
  {
   "cell_type": "markdown",
   "id": "679b9aae",
   "metadata": {},
   "source": [
    "Изучим 2 и 3 группы"
   ]
  },
  {
   "cell_type": "code",
   "execution_count": 40,
   "id": "1c73029d",
   "metadata": {},
   "outputs": [
    {
     "data": {
      "text/html": [
       "<div>\n",
       "<style scoped>\n",
       "    .dataframe tbody tr th:only-of-type {\n",
       "        vertical-align: middle;\n",
       "    }\n",
       "\n",
       "    .dataframe tbody tr th {\n",
       "        vertical-align: top;\n",
       "    }\n",
       "\n",
       "    .dataframe thead th {\n",
       "        text-align: right;\n",
       "    }\n",
       "</style>\n",
       "<table border=\"1\" class=\"dataframe\">\n",
       "  <thead>\n",
       "    <tr style=\"text-align: right;\">\n",
       "      <th></th>\n",
       "      <th>score</th>\n",
       "      <th>city</th>\n",
       "      <th>gender</th>\n",
       "      <th>age</th>\n",
       "      <th>objects</th>\n",
       "      <th>balance</th>\n",
       "      <th>products</th>\n",
       "      <th>credit_card</th>\n",
       "      <th>loyalty</th>\n",
       "      <th>estimated_salary</th>\n",
       "      <th>churn</th>\n",
       "      <th>group_balance</th>\n",
       "    </tr>\n",
       "  </thead>\n",
       "  <tbody>\n",
       "    <tr>\n",
       "      <th>3</th>\n",
       "      <td>699</td>\n",
       "      <td>Ярославль</td>\n",
       "      <td>Ж</td>\n",
       "      <td>39</td>\n",
       "      <td>1</td>\n",
       "      <td>0.00</td>\n",
       "      <td>2</td>\n",
       "      <td>0</td>\n",
       "      <td>0</td>\n",
       "      <td>93826.63</td>\n",
       "      <td>0</td>\n",
       "      <td>0</td>\n",
       "    </tr>\n",
       "    <tr>\n",
       "      <th>5</th>\n",
       "      <td>645</td>\n",
       "      <td>Рыбинск</td>\n",
       "      <td>М</td>\n",
       "      <td>44</td>\n",
       "      <td>8</td>\n",
       "      <td>113755.78</td>\n",
       "      <td>2</td>\n",
       "      <td>1</td>\n",
       "      <td>0</td>\n",
       "      <td>149756.71</td>\n",
       "      <td>1</td>\n",
       "      <td>1</td>\n",
       "    </tr>\n",
       "    <tr>\n",
       "      <th>6</th>\n",
       "      <td>822</td>\n",
       "      <td>Ярославль</td>\n",
       "      <td>М</td>\n",
       "      <td>50</td>\n",
       "      <td>7</td>\n",
       "      <td>0.00</td>\n",
       "      <td>2</td>\n",
       "      <td>1</td>\n",
       "      <td>1</td>\n",
       "      <td>10062.80</td>\n",
       "      <td>0</td>\n",
       "      <td>0</td>\n",
       "    </tr>\n",
       "    <tr>\n",
       "      <th>8</th>\n",
       "      <td>501</td>\n",
       "      <td>Ярославль</td>\n",
       "      <td>М</td>\n",
       "      <td>44</td>\n",
       "      <td>4</td>\n",
       "      <td>142051.07</td>\n",
       "      <td>2</td>\n",
       "      <td>0</td>\n",
       "      <td>1</td>\n",
       "      <td>74940.50</td>\n",
       "      <td>0</td>\n",
       "      <td>1</td>\n",
       "    </tr>\n",
       "    <tr>\n",
       "      <th>10</th>\n",
       "      <td>528</td>\n",
       "      <td>Ярославль</td>\n",
       "      <td>М</td>\n",
       "      <td>31</td>\n",
       "      <td>6</td>\n",
       "      <td>102016.72</td>\n",
       "      <td>2</td>\n",
       "      <td>0</td>\n",
       "      <td>0</td>\n",
       "      <td>80181.12</td>\n",
       "      <td>0</td>\n",
       "      <td>1</td>\n",
       "    </tr>\n",
       "    <tr>\n",
       "      <th>11</th>\n",
       "      <td>497</td>\n",
       "      <td>Рыбинск</td>\n",
       "      <td>М</td>\n",
       "      <td>24</td>\n",
       "      <td>3</td>\n",
       "      <td>0.00</td>\n",
       "      <td>2</td>\n",
       "      <td>1</td>\n",
       "      <td>0</td>\n",
       "      <td>76390.01</td>\n",
       "      <td>0</td>\n",
       "      <td>0</td>\n",
       "    </tr>\n",
       "    <tr>\n",
       "      <th>12</th>\n",
       "      <td>476</td>\n",
       "      <td>Ярославль</td>\n",
       "      <td>Ж</td>\n",
       "      <td>34</td>\n",
       "      <td>10</td>\n",
       "      <td>0.00</td>\n",
       "      <td>2</td>\n",
       "      <td>1</td>\n",
       "      <td>0</td>\n",
       "      <td>26260.98</td>\n",
       "      <td>0</td>\n",
       "      <td>0</td>\n",
       "    </tr>\n",
       "    <tr>\n",
       "      <th>13</th>\n",
       "      <td>549</td>\n",
       "      <td>Ярославль</td>\n",
       "      <td>Ж</td>\n",
       "      <td>25</td>\n",
       "      <td>5</td>\n",
       "      <td>0.00</td>\n",
       "      <td>2</td>\n",
       "      <td>0</td>\n",
       "      <td>0</td>\n",
       "      <td>190857.79</td>\n",
       "      <td>0</td>\n",
       "      <td>0</td>\n",
       "    </tr>\n",
       "    <tr>\n",
       "      <th>14</th>\n",
       "      <td>635</td>\n",
       "      <td>Рыбинск</td>\n",
       "      <td>Ж</td>\n",
       "      <td>35</td>\n",
       "      <td>7</td>\n",
       "      <td>0.00</td>\n",
       "      <td>2</td>\n",
       "      <td>1</td>\n",
       "      <td>1</td>\n",
       "      <td>65951.65</td>\n",
       "      <td>0</td>\n",
       "      <td>0</td>\n",
       "    </tr>\n",
       "    <tr>\n",
       "      <th>15</th>\n",
       "      <td>616</td>\n",
       "      <td>Ростов Великий</td>\n",
       "      <td>М</td>\n",
       "      <td>45</td>\n",
       "      <td>3</td>\n",
       "      <td>143129.41</td>\n",
       "      <td>2</td>\n",
       "      <td>0</td>\n",
       "      <td>1</td>\n",
       "      <td>64327.26</td>\n",
       "      <td>0</td>\n",
       "      <td>1</td>\n",
       "    </tr>\n",
       "  </tbody>\n",
       "</table>\n",
       "</div>"
      ],
      "text/plain": [
       "    score            city gender  age  objects    balance  products  \\\n",
       "3     699       Ярославль      Ж   39        1       0.00         2   \n",
       "5     645         Рыбинск      М   44        8  113755.78         2   \n",
       "6     822       Ярославль      М   50        7       0.00         2   \n",
       "8     501       Ярославль      М   44        4  142051.07         2   \n",
       "10    528       Ярославль      М   31        6  102016.72         2   \n",
       "11    497         Рыбинск      М   24        3       0.00         2   \n",
       "12    476       Ярославль      Ж   34       10       0.00         2   \n",
       "13    549       Ярославль      Ж   25        5       0.00         2   \n",
       "14    635         Рыбинск      Ж   35        7       0.00         2   \n",
       "15    616  Ростов Великий      М   45        3  143129.41         2   \n",
       "\n",
       "    credit_card  loyalty  estimated_salary  churn  group_balance  \n",
       "3             0        0          93826.63      0              0  \n",
       "5             1        0         149756.71      1              1  \n",
       "6             1        1          10062.80      0              0  \n",
       "8             0        1          74940.50      0              1  \n",
       "10            0        0          80181.12      0              1  \n",
       "11            1        0          76390.01      0              0  \n",
       "12            1        0          26260.98      0              0  \n",
       "13            0        0         190857.79      0              0  \n",
       "14            1        1          65951.65      0              0  \n",
       "15            0        1          64327.26      0              1  "
      ]
     },
     "execution_count": 40,
     "metadata": {},
     "output_type": "execute_result"
    }
   ],
   "source": [
    "df_2_3 = df.loc[(df['products'] == 2)]\n",
    "df_2_3.head(10)"
   ]
  },
  {
   "cell_type": "markdown",
   "id": "441be026",
   "metadata": {},
   "source": [
    "Видим, что встречаются города Ярославль и Рыбинск. Посмотрим как часто встречаются данные города"
   ]
  },
  {
   "cell_type": "code",
   "execution_count": 41,
   "id": "90ee3300",
   "metadata": {},
   "outputs": [
    {
     "data": {
      "text/plain": [
       "Ярославль         2367\n",
       "Рыбинск           1183\n",
       "Ростов Великий    1040\n",
       "Name: city, dtype: int64"
      ]
     },
     "execution_count": 41,
     "metadata": {},
     "output_type": "execute_result"
    }
   ],
   "source": [
    "df_2_3['city'].value_counts()"
   ]
  },
  {
   "cell_type": "markdown",
   "id": "a0ed4b73",
   "metadata": {},
   "source": [
    "Заменим города на цифры 1- Ярославль, 2 - Рыбинск, 3 - Ростов Великий, для выявления взаимосвязи"
   ]
  },
  {
   "cell_type": "code",
   "execution_count": 42,
   "id": "06abca7c",
   "metadata": {},
   "outputs": [],
   "source": [
    "df_2_3['city'] = df_2_3['city'].map({'Ярославль': 1, 'Рыбинск': 2, 'Ростов Великий': 3})"
   ]
  },
  {
   "cell_type": "code",
   "execution_count": 43,
   "id": "dff741ee",
   "metadata": {},
   "outputs": [
    {
     "data": {
      "text/html": [
       "<div>\n",
       "<style scoped>\n",
       "    .dataframe tbody tr th:only-of-type {\n",
       "        vertical-align: middle;\n",
       "    }\n",
       "\n",
       "    .dataframe tbody tr th {\n",
       "        vertical-align: top;\n",
       "    }\n",
       "\n",
       "    .dataframe thead th {\n",
       "        text-align: right;\n",
       "    }\n",
       "</style>\n",
       "<table border=\"1\" class=\"dataframe\">\n",
       "  <thead>\n",
       "    <tr style=\"text-align: right;\">\n",
       "      <th></th>\n",
       "      <th>score</th>\n",
       "      <th>city</th>\n",
       "      <th>age</th>\n",
       "      <th>objects</th>\n",
       "      <th>balance</th>\n",
       "      <th>products</th>\n",
       "      <th>credit_card</th>\n",
       "      <th>loyalty</th>\n",
       "      <th>estimated_salary</th>\n",
       "      <th>churn</th>\n",
       "      <th>group_balance</th>\n",
       "    </tr>\n",
       "  </thead>\n",
       "  <tbody>\n",
       "    <tr>\n",
       "      <th>score</th>\n",
       "      <td>1.000000</td>\n",
       "      <td>0.002558</td>\n",
       "      <td>-0.004299</td>\n",
       "      <td>-0.014975</td>\n",
       "      <td>0.003825</td>\n",
       "      <td>NaN</td>\n",
       "      <td>-0.014332</td>\n",
       "      <td>0.031784</td>\n",
       "      <td>0.008009</td>\n",
       "      <td>-0.025565</td>\n",
       "      <td>0.008712</td>\n",
       "    </tr>\n",
       "    <tr>\n",
       "      <th>city</th>\n",
       "      <td>0.002558</td>\n",
       "      <td>1.000000</td>\n",
       "      <td>0.032919</td>\n",
       "      <td>0.001761</td>\n",
       "      <td>0.504081</td>\n",
       "      <td>NaN</td>\n",
       "      <td>0.014418</td>\n",
       "      <td>0.003312</td>\n",
       "      <td>-0.001419</td>\n",
       "      <td>0.092902</td>\n",
       "      <td>0.534820</td>\n",
       "    </tr>\n",
       "    <tr>\n",
       "      <th>age</th>\n",
       "      <td>-0.004299</td>\n",
       "      <td>0.032919</td>\n",
       "      <td>1.000000</td>\n",
       "      <td>-0.029182</td>\n",
       "      <td>0.030488</td>\n",
       "      <td>NaN</td>\n",
       "      <td>-0.000244</td>\n",
       "      <td>0.140358</td>\n",
       "      <td>0.007171</td>\n",
       "      <td>0.194940</td>\n",
       "      <td>0.032951</td>\n",
       "    </tr>\n",
       "    <tr>\n",
       "      <th>objects</th>\n",
       "      <td>-0.014975</td>\n",
       "      <td>0.001761</td>\n",
       "      <td>-0.029182</td>\n",
       "      <td>1.000000</td>\n",
       "      <td>-0.025119</td>\n",
       "      <td>NaN</td>\n",
       "      <td>0.021487</td>\n",
       "      <td>-0.035000</td>\n",
       "      <td>0.026579</td>\n",
       "      <td>-0.013790</td>\n",
       "      <td>-0.027166</td>\n",
       "    </tr>\n",
       "    <tr>\n",
       "      <th>balance</th>\n",
       "      <td>0.003825</td>\n",
       "      <td>0.504081</td>\n",
       "      <td>0.030488</td>\n",
       "      <td>-0.025119</td>\n",
       "      <td>1.000000</td>\n",
       "      <td>NaN</td>\n",
       "      <td>-0.008398</td>\n",
       "      <td>-0.000447</td>\n",
       "      <td>0.028790</td>\n",
       "      <td>0.175468</td>\n",
       "      <td>0.946711</td>\n",
       "    </tr>\n",
       "    <tr>\n",
       "      <th>products</th>\n",
       "      <td>NaN</td>\n",
       "      <td>NaN</td>\n",
       "      <td>NaN</td>\n",
       "      <td>NaN</td>\n",
       "      <td>NaN</td>\n",
       "      <td>NaN</td>\n",
       "      <td>NaN</td>\n",
       "      <td>NaN</td>\n",
       "      <td>NaN</td>\n",
       "      <td>NaN</td>\n",
       "      <td>NaN</td>\n",
       "    </tr>\n",
       "    <tr>\n",
       "      <th>credit_card</th>\n",
       "      <td>-0.014332</td>\n",
       "      <td>0.014418</td>\n",
       "      <td>-0.000244</td>\n",
       "      <td>0.021487</td>\n",
       "      <td>-0.008398</td>\n",
       "      <td>NaN</td>\n",
       "      <td>1.000000</td>\n",
       "      <td>0.005004</td>\n",
       "      <td>-0.011468</td>\n",
       "      <td>-0.018271</td>\n",
       "      <td>-0.018653</td>\n",
       "    </tr>\n",
       "    <tr>\n",
       "      <th>loyalty</th>\n",
       "      <td>0.031784</td>\n",
       "      <td>0.003312</td>\n",
       "      <td>0.140358</td>\n",
       "      <td>-0.035000</td>\n",
       "      <td>-0.000447</td>\n",
       "      <td>NaN</td>\n",
       "      <td>0.005004</td>\n",
       "      <td>1.000000</td>\n",
       "      <td>0.000297</td>\n",
       "      <td>-0.081573</td>\n",
       "      <td>0.000470</td>\n",
       "    </tr>\n",
       "    <tr>\n",
       "      <th>estimated_salary</th>\n",
       "      <td>0.008009</td>\n",
       "      <td>-0.001419</td>\n",
       "      <td>0.007171</td>\n",
       "      <td>0.026579</td>\n",
       "      <td>0.028790</td>\n",
       "      <td>NaN</td>\n",
       "      <td>-0.011468</td>\n",
       "      <td>0.000297</td>\n",
       "      <td>1.000000</td>\n",
       "      <td>0.002138</td>\n",
       "      <td>0.027807</td>\n",
       "    </tr>\n",
       "    <tr>\n",
       "      <th>churn</th>\n",
       "      <td>-0.025565</td>\n",
       "      <td>0.092902</td>\n",
       "      <td>0.194940</td>\n",
       "      <td>-0.013790</td>\n",
       "      <td>0.175468</td>\n",
       "      <td>NaN</td>\n",
       "      <td>-0.018271</td>\n",
       "      <td>-0.081573</td>\n",
       "      <td>0.002138</td>\n",
       "      <td>1.000000</td>\n",
       "      <td>0.184558</td>\n",
       "    </tr>\n",
       "    <tr>\n",
       "      <th>group_balance</th>\n",
       "      <td>0.008712</td>\n",
       "      <td>0.534820</td>\n",
       "      <td>0.032951</td>\n",
       "      <td>-0.027166</td>\n",
       "      <td>0.946711</td>\n",
       "      <td>NaN</td>\n",
       "      <td>-0.018653</td>\n",
       "      <td>0.000470</td>\n",
       "      <td>0.027807</td>\n",
       "      <td>0.184558</td>\n",
       "      <td>1.000000</td>\n",
       "    </tr>\n",
       "  </tbody>\n",
       "</table>\n",
       "</div>"
      ],
      "text/plain": [
       "                     score      city       age   objects   balance  products  \\\n",
       "score             1.000000  0.002558 -0.004299 -0.014975  0.003825       NaN   \n",
       "city              0.002558  1.000000  0.032919  0.001761  0.504081       NaN   \n",
       "age              -0.004299  0.032919  1.000000 -0.029182  0.030488       NaN   \n",
       "objects          -0.014975  0.001761 -0.029182  1.000000 -0.025119       NaN   \n",
       "balance           0.003825  0.504081  0.030488 -0.025119  1.000000       NaN   \n",
       "products               NaN       NaN       NaN       NaN       NaN       NaN   \n",
       "credit_card      -0.014332  0.014418 -0.000244  0.021487 -0.008398       NaN   \n",
       "loyalty           0.031784  0.003312  0.140358 -0.035000 -0.000447       NaN   \n",
       "estimated_salary  0.008009 -0.001419  0.007171  0.026579  0.028790       NaN   \n",
       "churn            -0.025565  0.092902  0.194940 -0.013790  0.175468       NaN   \n",
       "group_balance     0.008712  0.534820  0.032951 -0.027166  0.946711       NaN   \n",
       "\n",
       "                  credit_card   loyalty  estimated_salary     churn  \\\n",
       "score               -0.014332  0.031784          0.008009 -0.025565   \n",
       "city                 0.014418  0.003312         -0.001419  0.092902   \n",
       "age                 -0.000244  0.140358          0.007171  0.194940   \n",
       "objects              0.021487 -0.035000          0.026579 -0.013790   \n",
       "balance             -0.008398 -0.000447          0.028790  0.175468   \n",
       "products                  NaN       NaN               NaN       NaN   \n",
       "credit_card          1.000000  0.005004         -0.011468 -0.018271   \n",
       "loyalty              0.005004  1.000000          0.000297 -0.081573   \n",
       "estimated_salary    -0.011468  0.000297          1.000000  0.002138   \n",
       "churn               -0.018271 -0.081573          0.002138  1.000000   \n",
       "group_balance       -0.018653  0.000470          0.027807  0.184558   \n",
       "\n",
       "                  group_balance  \n",
       "score                  0.008712  \n",
       "city                   0.534820  \n",
       "age                    0.032951  \n",
       "objects               -0.027166  \n",
       "balance                0.946711  \n",
       "products                    NaN  \n",
       "credit_card           -0.018653  \n",
       "loyalty                0.000470  \n",
       "estimated_salary       0.027807  \n",
       "churn                  0.184558  \n",
       "group_balance          1.000000  "
      ]
     },
     "execution_count": 43,
     "metadata": {},
     "output_type": "execute_result"
    }
   ],
   "source": [
    "df_2_3.corr()"
   ]
  },
  {
   "cell_type": "markdown",
   "id": "1aabd49c",
   "metadata": {},
   "source": [
    "Видим, что средняя связь между группами по балансу и городом. Сагрегируем города и посмотрим на признак `group_balance`"
   ]
  },
  {
   "cell_type": "code",
   "execution_count": 44,
   "id": "be1c4c34",
   "metadata": {},
   "outputs": [
    {
     "data": {
      "text/plain": [
       "city\n",
       "1    0.265315\n",
       "2    0.272189\n",
       "3    1.000000\n",
       "Name: group_balance, dtype: float64"
      ]
     },
     "execution_count": 44,
     "metadata": {},
     "output_type": "execute_result"
    }
   ],
   "source": [
    "df_2_3.groupby('city')['group_balance'].agg('mean')"
   ]
  },
  {
   "cell_type": "markdown",
   "id": "2b4f3a21",
   "metadata": {},
   "source": [
    "Видим, что у города Ростов Великий отсутсвуют пропуски в балансе. Скорей всего возникла ошибка в выгрузке данных из городов Ярославль и Рыбинск"
   ]
  },
  {
   "cell_type": "markdown",
   "id": "353e888f",
   "metadata": {},
   "source": [
    "## Визуализируем данные\n",
    "Построим гистограммы для следующих признаков: `score`, `age`, `balance`, `estimated_salary`"
   ]
  },
  {
   "cell_type": "code",
   "execution_count": 45,
   "id": "68a94415",
   "metadata": {},
   "outputs": [],
   "source": [
    "def hist(data, column):\n",
    "        \n",
    "    min_value = min(data[column])\n",
    "    max_value = max(data[column])\n",
    "    \n",
    "    plt.figure(figsize=(12,7))\n",
    "    sns.distplot(data[column], norm_hist=True)\n",
    "    plt.ylabel('Частота')\n",
    "    plt.xlabel(f'Признак {column}')\n",
    "    plt.title(f'Распределение параметра {column}')\n",
    "    \n",
    "    \n",
    "    plt.show()"
   ]
  },
  {
   "cell_type": "code",
   "execution_count": 46,
   "id": "ee4410fd",
   "metadata": {
    "scrolled": true
   },
   "outputs": [
    {
     "data": {
      "image/png": "[encoded data removed]",
      "text/plain": [
       "<Figure size 864x504 with 1 Axes>"
      ]
     },
     "metadata": {
      "needs_background": "light"
     },
     "output_type": "display_data"
    },
    {
     "data": {
      "image/png": "[encoded data removed]",
      "text/plain": [
       "<Figure size 864x504 with 1 Axes>"
      ]
     },
     "metadata": {
      "needs_background": "light"
     },
     "output_type": "display_data"
    },
    {
     "data": {
      "image/png": "[encoded data removed]",
      "text/plain": [
       "<Figure size 864x504 with 1 Axes>"
      ]
     },
     "metadata": {
      "needs_background": "light"
     },
     "output_type": "display_data"
    },
    {
     "data": {
      "image/png": "[encoded data removed]",
      "text/plain": [
       "<Figure size 864x504 with 1 Axes>"
      ]
     },
     "metadata": {
      "needs_background": "light"
     },
     "output_type": "display_data"
    }
   ],
   "source": [
    "col = ['score', 'age', 'balance', 'estimated_salary']\n",
    "\n",
    "for i in col:\n",
    "    hist(df, i)"
   ]
  },
  {
   "cell_type": "markdown",
   "id": "0b7b61a5",
   "metadata": {},
   "source": [
    "Построим графики для остальных параметров"
   ]
  },
  {
   "cell_type": "code",
   "execution_count": 47,
   "id": "c026b9f7",
   "metadata": {},
   "outputs": [],
   "source": [
    "def coount_plot(data, column):\n",
    "    \n",
    "    plt.figure(figsize=(12,7))\n",
    "    sns.countplot(x=column,data=data)\n",
    "    plt.ylabel('Частота')\n",
    "    plt.xlabel(f'Признак {column}')\n",
    "    plt.title(f'Распределение параметра {column}')\n",
    "    \n",
    "    plt.show()"
   ]
  },
  {
   "cell_type": "code",
   "execution_count": 48,
   "id": "e5fdfdf3",
   "metadata": {
    "scrolled": true
   },
   "outputs": [
    {
     "data": {
      "image/png": "[encoded data removed]",
      "text/plain": [
       "<Figure size 864x504 with 1 Axes>"
      ]
     },
     "metadata": {
      "needs_background": "light"
     },
     "output_type": "display_data"
    },
    {
     "data": {
      "image/png": "[encoded data removed]",
      "text/plain": [
       "<Figure size 864x504 with 1 Axes>"
      ]
     },
     "metadata": {
      "needs_background": "light"
     },
     "output_type": "display_data"
    },
    {
     "data": {
      "image/png": "[encoded data removed]",
      "text/plain": [
       "<Figure size 864x504 with 1 Axes>"
      ]
     },
     "metadata": {
      "needs_background": "light"
     },
     "output_type": "display_data"
    },
    {
     "data": {
      "image/png": "[encoded data removed]",
      "text/plain": [
       "<Figure size 864x504 with 1 Axes>"
      ]
     },
     "metadata": {
      "needs_background": "light"
     },
     "output_type": "display_data"
    },
    {
     "data": {
      "image/png": "[encoded data removed]",
      "text/plain": [
       "<Figure size 864x504 with 1 Axes>"
      ]
     },
     "metadata": {
      "needs_background": "light"
     },
     "output_type": "display_data"
    },
    {
     "data": {
      "image/png": "[encoded data removed]",
      "text/plain": [
       "<Figure size 864x504 with 1 Axes>"
      ]
     },
     "metadata": {
      "needs_background": "light"
     },
     "output_type": "display_data"
    }
   ],
   "source": [
    "categ = ['city', 'gender', 'credit_card', 'loyalty', 'objects', 'products']\n",
    "\n",
    "for i in categ:\n",
    "    coount_plot(df, i)"
   ]
  },
  {
   "cell_type": "markdown",
   "id": "4eaee901",
   "metadata": {},
   "source": [
    "## Выводы по графикам\n",
    "* признаки: `score`, `age` имеют нормальное распределение \n",
    "* признак `balance` имеет в целом нормальное распределение, но из-за замены пропусков на 0, имеется выброс\n",
    "* Количесво клиентов в Ярослвале приблизительно равно сумме клиентов в Рыбинске и Ростове Великом\n",
    "* мужчин чуть-чуть больше чем женщин\n",
    "* клиентов с кредитными картами примерно в 2 раза больше, чем без\n",
    "* активных клиентов чуть больше чем неактивных\n",
    "* клиентов с обектами от 1 до 9 почти одинаковое количство, что не сказать о клиентах с 0 и 10 объектами, их меньше почти в 2 раза\n",
    "* в основном клиенты пользуются 1-2 продуктами, значительно реже 3 и 4"
   ]
  },
  {
   "cell_type": "markdown",
   "id": "3167a11e",
   "metadata": {},
   "source": [
    "# Шаг 3. Сегментирование пользователей по количество потребляемых продуктов\n",
    "## Составление портрета клиентов"
   ]
  },
  {
   "cell_type": "markdown",
   "id": "8f9b36e5",
   "metadata": {},
   "source": [
    "С помощью машинного обучения сегментируем клиентов для составления портрета клиента.\n",
    "\n",
    "Сперва необходимо скорретировать данные: удалить строковые данные, т.к. их невозможно стандартизировать\n"
   ]
  },
  {
   "cell_type": "code",
   "execution_count": 49,
   "id": "d538eb1f",
   "metadata": {},
   "outputs": [],
   "source": [
    "df_ml = df.drop(columns=['city', 'gender', 'group_balance'])"
   ]
  },
  {
   "cell_type": "code",
   "execution_count": 50,
   "id": "a8b1b2d2",
   "metadata": {},
   "outputs": [],
   "source": [
    "# стандартизируем данные\n",
    "sc = StandardScaler()\n",
    "X_sc = sc.fit_transform(df_ml)"
   ]
  },
  {
   "cell_type": "markdown",
   "id": "53cf19a8",
   "metadata": {},
   "source": [
    "Т.к. мы будем сегментировать клиентов по количеству продуктов, то сразу укажем количество кластеров равное 4"
   ]
  },
  {
   "cell_type": "code",
   "execution_count": 51,
   "id": "3887322b",
   "metadata": {},
   "outputs": [
    {
     "data": {
      "text/html": [
       "<div>\n",
       "<style scoped>\n",
       "    .dataframe tbody tr th:only-of-type {\n",
       "        vertical-align: middle;\n",
       "    }\n",
       "\n",
       "    .dataframe tbody tr th {\n",
       "        vertical-align: top;\n",
       "    }\n",
       "\n",
       "    .dataframe thead th {\n",
       "        text-align: right;\n",
       "    }\n",
       "</style>\n",
       "<table border=\"1\" class=\"dataframe\">\n",
       "  <thead>\n",
       "    <tr style=\"text-align: right;\">\n",
       "      <th></th>\n",
       "      <th>score</th>\n",
       "      <th>age</th>\n",
       "      <th>objects</th>\n",
       "      <th>balance</th>\n",
       "      <th>products</th>\n",
       "      <th>credit_card</th>\n",
       "      <th>loyalty</th>\n",
       "      <th>estimated_salary</th>\n",
       "      <th>churn</th>\n",
       "    </tr>\n",
       "    <tr>\n",
       "      <th>cluster_km</th>\n",
       "      <th></th>\n",
       "      <th></th>\n",
       "      <th></th>\n",
       "      <th></th>\n",
       "      <th></th>\n",
       "      <th></th>\n",
       "      <th></th>\n",
       "      <th></th>\n",
       "      <th></th>\n",
       "    </tr>\n",
       "  </thead>\n",
       "  <tbody>\n",
       "    <tr>\n",
       "      <th>0</th>\n",
       "      <td>652.424165</td>\n",
       "      <td>37.475150</td>\n",
       "      <td>4.908740</td>\n",
       "      <td>74174.772566</td>\n",
       "      <td>1.538989</td>\n",
       "      <td>0.000000</td>\n",
       "      <td>0.553985</td>\n",
       "      <td>100298.091448</td>\n",
       "      <td>0.000857</td>\n",
       "    </tr>\n",
       "    <tr>\n",
       "      <th>1</th>\n",
       "      <td>651.985194</td>\n",
       "      <td>37.288094</td>\n",
       "      <td>5.034855</td>\n",
       "      <td>122030.236709</td>\n",
       "      <td>1.332202</td>\n",
       "      <td>1.000000</td>\n",
       "      <td>0.561073</td>\n",
       "      <td>100482.444460</td>\n",
       "      <td>0.000000</td>\n",
       "    </tr>\n",
       "    <tr>\n",
       "      <th>2</th>\n",
       "      <td>645.246521</td>\n",
       "      <td>44.928429</td>\n",
       "      <td>4.928926</td>\n",
       "      <td>92240.603693</td>\n",
       "      <td>1.453777</td>\n",
       "      <td>0.696819</td>\n",
       "      <td>0.355865</td>\n",
       "      <td>101161.334935</td>\n",
       "      <td>1.000000</td>\n",
       "    </tr>\n",
       "    <tr>\n",
       "      <th>3</th>\n",
       "      <td>651.143449</td>\n",
       "      <td>37.507048</td>\n",
       "      <td>5.153814</td>\n",
       "      <td>4363.537177</td>\n",
       "      <td>1.851575</td>\n",
       "      <td>0.999585</td>\n",
       "      <td>0.548507</td>\n",
       "      <td>98468.475348</td>\n",
       "      <td>0.009536</td>\n",
       "    </tr>\n",
       "  </tbody>\n",
       "</table>\n",
       "</div>"
      ],
      "text/plain": [
       "                 score        age   objects        balance  products  \\\n",
       "cluster_km                                                             \n",
       "0           652.424165  37.475150  4.908740   74174.772566  1.538989   \n",
       "1           651.985194  37.288094  5.034855  122030.236709  1.332202   \n",
       "2           645.246521  44.928429  4.928926   92240.603693  1.453777   \n",
       "3           651.143449  37.507048  5.153814    4363.537177  1.851575   \n",
       "\n",
       "            credit_card   loyalty  estimated_salary     churn  \n",
       "cluster_km                                                     \n",
       "0              0.000000  0.553985     100298.091448  0.000857  \n",
       "1              1.000000  0.561073     100482.444460  0.000000  \n",
       "2              0.696819  0.355865     101161.334935  1.000000  \n",
       "3              0.999585  0.548507      98468.475348  0.009536  "
      ]
     },
     "execution_count": 51,
     "metadata": {},
     "output_type": "execute_result"
    }
   ],
   "source": [
    "# задаём модель k_means с числом кластеров 4\n",
    "km = KMeans(n_clusters = 4, random_state=0)\n",
    "\n",
    "# прогнозируем кластеры для наблюдений \n",
    "labels = km.fit_predict(X_sc)\n",
    "\n",
    "# сохраняем метки кластера в поле нашего датасета\n",
    "df_ml['cluster_km'] = labels\n",
    "\n",
    "# выводим статистику по средним значениям наших признаков по кластеру\n",
    "df_ml.groupby('cluster_km').agg('mean')"
   ]
  },
  {
   "cell_type": "markdown",
   "id": "1a2c6b59",
   "metadata": {},
   "source": [
    "Портреты клиентов:\n",
    "* \"0 - низкий отток\" : клиенты со средним рейтингом (652 единицы), средний возраст (37 полных лет), количество объектов 5, баланс средний - 74 175 у.е., количество используемых продуктов - 1,5, не пользуются кредитными картами, активность средняя - 55%, средний доход (з/п) 100 298 у.е., отток менее 1%\n",
    "* \"1 - удержанные\": клиенты со средним рейтингом (652 ед.), возраст - средний (37 полных лет), количество объектов 5, баланс счета самый высокий (122 030 у.е), с самым низким искользованием продуктов 1,3, 100% пользуются кредитными картами, средняя активность (56%), со средним доходом (100 483 у.е.), отток нулевой\n",
    "* \"2 - ушедшие\": клиенты с самым низким рейтингом (645 ед.), средний возраст наивысший (45 лет), количесво объектов 5, баланс средний (92 241 у.е.), со средним использованием продуктов - 1,5, 70% пользуются кредитными картами, низкоактивные клиенты 36%, с наивысшим доходом (101 161 у.е.), отток менее 100%\n",
    "* \"3 - низкий отток\": средний рейтинг (651 ед.), возраст - средний (37 лет), 5 объектов, самый низкий баланс (4 364 у.е.), средние использование продуктов - 1,85, почти все пользуются кредитными картами (99%), со средней активность - 55%, с самым низким доходом (98 469 у.е.), отток около 1%"
   ]
  },
  {
   "cell_type": "markdown",
   "id": "4027457f",
   "metadata": {},
   "source": [
    "# Шаг 4. Проверка гипотез\n",
    "## Формулировка гипотез\n",
    "\n",
    "### Выясним, статистически значимы ли различия доходов у клиентов с разным количеством продуктов\n",
    "\n",
    "Сформулируем нулевую гипотезу H0:\n",
    "\n",
    "* **Доходы клиентов, которые пользуются одним продуктом банка, и теми, которые пользуются больше одного, равны**\n",
    "\n",
    "Сформулируем альтернативную гипотезу H1:\n",
    "\n",
    "* **Доходы клиентов, которые пользуются одним продуктом банка, и теми, которые пользуются больше одного, различны**\n",
    "\n",
    "Применим метод U-критерий Манна-Уитни, т.к. он подходит для любого вида распределений"
   ]
  },
  {
   "cell_type": "code",
   "execution_count": 52,
   "id": "8686e0f1",
   "metadata": {},
   "outputs": [
    {
     "name": "stdout",
     "output_type": "stream",
     "text": [
      "p-значение: 0.2850986972637063\n",
      "Не удалось отвергнуть нулевую гипотезу\n"
     ]
    }
   ],
   "source": [
    "alpha = 0.05\n",
    "\n",
    "results = st.mannwhitneyu(\n",
    "    df.query('products == 1')['estimated_salary'], \n",
    "    df.query('products > 1')['estimated_salary'], \n",
    "    alternative = 'two-sided')\n",
    "\n",
    "print('p-значение:', results.pvalue)\n",
    "\n",
    "if (results.pvalue < alpha):\n",
    "    print('Отвергаем нулевую гипотезу')\n",
    "else:\n",
    "    print('Не удалось отвергнуть нулевую гипотезу')"
   ]
  },
  {
   "cell_type": "markdown",
   "id": "f08ae0c8",
   "metadata": {},
   "source": [
    "Видим, что нулевая гипотеза не отвергнута. Делаем вывод, что доходы клиентов, которые пользуются одним продуктом и теми, которые пользуются несколькими, не различаются"
   ]
  },
  {
   "cell_type": "markdown",
   "id": "732ca8c7",
   "metadata": {},
   "source": [
    "### Выясним, статистически значимы ли различия оттока клиентов с разным количеством продуктов у клиентов\n",
    "\n",
    "Сформулируем нулевую гипотезу H0:\n",
    "\n",
    "* **Отток клиентов, которые пользуются одним продуктом банка, и теми, которые пользуются больше одного, равны**\n",
    "\n",
    "Сформулируем альтернативную гипотезу H1:\n",
    "\n",
    "* **Отток клиентов, которые пользуются одним продуктом банка, и теми, которые пользуются больше одного, различны**\n",
    "\n",
    "Применим z-критерий , т.к. будут сравниваться доли и количесво наблюдений больше 30"
   ]
  },
  {
   "cell_type": "code",
   "execution_count": 53,
   "id": "0d0b391d",
   "metadata": {},
   "outputs": [
    {
     "data": {
      "text/plain": [
       "1409"
      ]
     },
     "execution_count": 53,
     "metadata": {},
     "output_type": "execute_result"
    }
   ],
   "source": [
    "# посчитаем количество ушедших клиентов с одним продуктов\n",
    "count_сhurn_1 = df.query('products == 1 and churn == 1')['churn'].count()\n",
    "count_сhurn_1"
   ]
  },
  {
   "cell_type": "code",
   "execution_count": 54,
   "id": "fef6497f",
   "metadata": {},
   "outputs": [
    {
     "data": {
      "text/plain": [
       "5084"
      ]
     },
     "execution_count": 54,
     "metadata": {},
     "output_type": "execute_result"
    }
   ],
   "source": [
    "# посчитаем количество всех клиентов с одним продуктом\n",
    "nobs_сhurn_1 = df.query('products == 1')['churn'].count()\n",
    "nobs_сhurn_1"
   ]
  },
  {
   "cell_type": "code",
   "execution_count": 55,
   "id": "81b627f9",
   "metadata": {},
   "outputs": [
    {
     "data": {
      "text/plain": [
       "628"
      ]
     },
     "execution_count": 55,
     "metadata": {},
     "output_type": "execute_result"
    }
   ],
   "source": [
    "# посчитаем количество ушедших клиентов с несколькими продкутами\n",
    "count_сhurn_more = df.query('products > 1 and churn == 1')['churn'].count()\n",
    "count_сhurn_more"
   ]
  },
  {
   "cell_type": "code",
   "execution_count": 56,
   "id": "43810625",
   "metadata": {},
   "outputs": [
    {
     "data": {
      "text/plain": [
       "4916"
      ]
     },
     "execution_count": 56,
     "metadata": {},
     "output_type": "execute_result"
    }
   ],
   "source": [
    "# посчитаем количество всех клиентов с одним продуктом\n",
    "nobs_сhurn_more = df.query('products > 1')['churn'].count()\n",
    "nobs_сhurn_more"
   ]
  },
  {
   "cell_type": "code",
   "execution_count": 57,
   "id": "1ba71271",
   "metadata": {},
   "outputs": [],
   "source": [
    "# соберем полученные результаты\n",
    "\n",
    "count_сhurn_1, nobs_сhurn_1 = (1409, 5084)\n",
    "count_сhurn_more, nobs_сhurn_more = (628, 4916)"
   ]
  },
  {
   "cell_type": "code",
   "execution_count": 58,
   "id": "1600c059",
   "metadata": {},
   "outputs": [],
   "source": [
    "successes = np.array([count_сhurn_1, count_сhurn_more])\n",
    "samples = np.array([nobs_сhurn_1, nobs_сhurn_more])"
   ]
  },
  {
   "cell_type": "code",
   "execution_count": 59,
   "id": "6b813dfb",
   "metadata": {},
   "outputs": [
    {
     "name": "stdout",
     "output_type": "stream",
     "text": [
      "p-значение: 9.00472401452901e-77\n",
      "Отвергаем нулевую гипотезу\n"
     ]
    }
   ],
   "source": [
    "alpha = 0.05\n",
    "\n",
    "results, pvalue = proportions_ztest(\n",
    "    count = successes, \n",
    "    nobs = samples,\n",
    "    alternative='two-sided')\n",
    "\n",
    "print('p-значение:', pvalue)\n",
    "\n",
    "if (pvalue < alpha):\n",
    "    print('Отвергаем нулевую гипотезу')\n",
    "else:\n",
    "    print('Не удалось отвергнуть нулевую гипотезу')"
   ]
  },
  {
   "cell_type": "markdown",
   "id": "a0c2349b",
   "metadata": {},
   "source": [
    "Видим, что нулевая гипотеза отвергнута. Делаем вывод, что отток клиентов, которые пользуются одним продуктом и теми, которые пользуются несколькими, различаются"
   ]
  },
  {
   "cell_type": "markdown",
   "id": "d2f111ff",
   "metadata": {},
   "source": [
    "# Вывод\n",
    "## Общий вывод по исследованию\n",
    "### Шаг 1\n",
    "* названия столбцов имеют разный регистр; имеются пропуски в столбце balance\n",
    "* все пользователи уникальны\n",
    "* наивысший балл - 850 единиц, у 233 пользователей. Средний показатель - 650 единиц. Стандартное отклонение - 96 ед.\n",
    "* больше всего пользователей из г. Ярославль (около 50%), и примерно по 25% пользователей для каждого из городов: Ростов Великий и Рыбинск\n",
    "* пользователей мужского пола чуть-чуть больше чем женского, примерно 55% и 45% соответственно\n",
    "* средний возраст пользователей - 38 полных лет. Стандартное отклонение - 10 лет.\n",
    "* топ-3 по количеству объектов у клиентов: 2 объекта (1048), 1 объект(1035) и 7 объектов (1028)\n",
    "* средний баланс на счете - 119 827 у.е. Т.к. мы имеем большое количество пропусков\n",
    "* у признака balance везде связь низкая. Скорей всего был сбой при выгрузке данных\n",
    "* чуть больше половины клиентов 5084 (около 51%) пользуются 1 продуктом, чуть меньше 4590 (околок 46%) - 2 продуктами, 266 (2,66%) - 3 продуктвами, и 60 клиентов ( 0,06%) пользуются 4 продуктами\n",
    "* около 70% (7055 клиентов) имеют кредитную карту и около 30% (2945 клиентов) не имеют\n",
    "* 5151 клиент (около 51%) - активные клиенты и 4849 (около 49%) неактивные\n",
    "* средний доход составляет 100 090 у.е. Стандартное отклонение составляет 57 511 у.е.\n",
    "* 7963 клиентов удержано (около 80%), ушло 2037 клиента (около 20%)\n",
    "* дубликатов нет\n",
    "\n",
    "### Шаг 2\n",
    "\n",
    "* `score`: рейтинг у 4 группы самый высокий (653), самый низкий у 3 (648)\n",
    "* `age`: самые молодые клиенты из группы 2 (37 полных лет), самые взрослые - 4 (45 полных лет)\n",
    "* `objects`: у всех групп клиентов в среднем 5 объектов\n",
    "* `balance`: у трех групп 1,2,3 в среднее значение на балансе 119 тыс. у.е., но у 4 все же больше - 122 тыс. у.е.\n",
    "* `credit_card`: меньше всего кредитных карт у клиентов из 4 группы (0,68), у групп 1,2,3 в среднем одинаковое значение клиентов с кредитными картам (0,7)\n",
    "* `loyalty`: наиболеьшее количество клиентов во 2 группе (0,53), наименьшее у 3\n",
    "* `estimated_salary`: в среднем заработная плата у клиентов из первой группы самая низкая (99 487 у.е), наибольшая у клиентов из 4 группы (104 763 у.е.)\n",
    "* `churn`: клиенты из группы 4 все отточные, наименьший оттко у клиентов из группы 2 (7,6%)\n",
    "* `group_balance`: меньше всего у группы 2 и 3\n",
    "\n",
    "### Шаг 3\n",
    "\n",
    "Портреты клиентов:\n",
    "* \"0 - низкий отток\" : клиенты со средним рейтингом (652 единицы), средний возраст (37 полных лет), количество объектов 5, баланс средний - 74 175 у.е., количество используемых продуктов - 1,5, не пользуются кредитными картами, активность средняя - 55%, средний доход  100 298 у.е., отток менее 1%\n",
    "* \"1 - удержанные\": клиенты со средним рейтингом (652 ед.), возраст - средний (37 полных лет), количество объектов 5, баланс счета самый высокий (122 030 у.е), с самым низким искользованием продуктов 1,3, 100% пользуются кредитными картами, средняя активность (56%), со средним доходом (100 483 у.е.), отток нулевой\n",
    "* \"2 - ушедшие\": клиенты с самым низким рейтингом (645 ед.), средний возраст наивысший (45 лет), количесво объектов 5, баланс средний (92 241 у.е.), со средним использованием продуктов - 1,5, 70% пользуются кредитными картами, низкоактивные клиенты 36%, с наивысшим доходом (101 161 у.е.), отток 100%\n",
    "* \"3 - низкий отток\": средний рейтинг (651 ед.), возраст - средний (37 лет), 5 объектов, самый низкий баланс (4 364 у.е.), средние использование продуктов довольно высокое - 1,85, почти все пользуются кредитными картами (99%), со средней активность - 55%, с самым низким доходом (98 469 у.е.), отток около 1%\n",
    "\n",
    "### Шаг 4\n",
    "\n",
    "* доходы клиентов, которые пользуются одним продуктом и теми, которые пользуются несколькими, не различаются\n",
    "* отток клиентов, которые пользуются одним продуктом и теми, которые пользуются несколькими, различаются\n",
    "\n",
    "## Рекомендации для каждого сегмента\n",
    "* \"0 - низкий отток\": т.к. клиенты данного сегмента не пользуются кредитными картами, стоит им рассказать про все бонусы пользования данной услугой\n",
    "* \"1 - удержанные\": т.к. клиенты наиболее лояльные, но используют мало продуктов, хотя баланс наивысший, стоит предложить клиенту различные накопительные счета/вклады\n",
    "* \"2 - ушедшие\": т.к. это возрастные клиент, к тому же отточные, с низким уровнем активности и наивысшим доходом, стоит нопинать о себе, например, пуш-уведомлениями с различными акциями и предложениями, повышать активность путем оплаты тех или иных услуг, предложить пенсионный проект. Высокий доход позволяет предложить широкий ассортимет продуктов\n",
    "* \"3 - низкий отток\": т.к. клиент очень лояльны к банку и не большая часть их не имеют баланса, предложить открыть дебетовый счет. Скорей всего, клиент согласится, т.к. у данных клиентов наибольшее количество использований продуктов\n"
   ]
  },
  {
   "cell_type": "markdown",
   "id": "11d17bc1",
   "metadata": {},
   "source": [
    "Презентация: https://disk.yandex.ru/i/trt9KK_fKtJljQ"
   ]
  },
  {
   "cell_type": "markdown",
   "id": "a613cbaa",
   "metadata": {},
   "source": [
    "Даш борд: https://public.tableau.com/views/Dash_final_proj/Dashboard1?:language=enUS&publish=yes&:display_count=n&:origin=viz_share_link"
   ]
  },
  {
   "cell_type": "code",
   "execution_count": null,
   "id": "23c01f4e",
   "metadata": {},
   "outputs": [],
   "source": []
  }
 ],
 "metadata": {
  "ExecuteTimeLog": [
   {
    "duration": 110,
    "start_time": "2022-08-05T17:51:21.252Z"
   },
   {
    "duration": 114,
    "start_time": "2022-08-05T17:51:40.122Z"
   },
   {
    "duration": 142,
    "start_time": "2022-08-05T17:54:10.956Z"
   },
   {
    "duration": 113,
    "start_time": "2022-08-05T17:57:17.793Z"
   },
   {
    "duration": 149,
    "start_time": "2022-08-05T17:57:35.468Z"
   },
   {
    "duration": 122,
    "start_time": "2022-08-05T17:59:51.847Z"
   },
   {
    "duration": 152,
    "start_time": "2022-08-05T18:00:22.004Z"
   }
  ],
  "kernelspec": {
   "display_name": "Python 3 (ipykernel)",
   "language": "python",
   "name": "python3"
  },
  "language_info": {
   "codemirror_mode": {
    "name": "ipython",
    "version": 3
   },
   "file_extension": ".py",
   "mimetype": "text/x-python",
   "name": "python",
   "nbconvert_exporter": "python",
   "pygments_lexer": "ipython3",
   "version": "3.9.12"
  },
  "toc": {
   "base_numbering": 1,
   "nav_menu": {},
   "number_sections": true,
   "sideBar": true,
   "skip_h1_title": true,
   "title_cell": "Table of Contents",
   "title_sidebar": "Contents",
   "toc_cell": false,
   "toc_position": {},
   "toc_section_display": true,
   "toc_window_display": false
  }
 },
 "nbformat": 4,
 "nbformat_minor": 5
}
