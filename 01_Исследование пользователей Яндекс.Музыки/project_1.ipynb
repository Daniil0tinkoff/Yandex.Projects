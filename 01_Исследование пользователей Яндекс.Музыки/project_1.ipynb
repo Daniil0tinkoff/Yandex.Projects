{
 "cells": [
  {
   "cell_type": "markdown",
   "metadata": {
    "id": "E0vqbgi9ay0H"
   },
   "source": [
    "# Яндекс.Музыка"
   ]
  },
  {
   "cell_type": "markdown",
   "metadata": {
    "id": "VUC88oWjTJw2"
   },
   "source": [
    "Сравнение Москвы и Петербурга окружено мифами. Например:\n",
    " * Москва — мегаполис, подчинённый жёсткому ритму рабочей недели;\n",
    " * Петербург — культурная столица, со своими вкусами.\n",
    "\n",
    "На данных Яндекс.Музыки вы сравните поведение пользователей двух столиц.\n",
    "\n",
    "**Цель исследования** — проверьте три гипотезы:\n",
    "1. Активность пользователей зависит от дня недели. Причём в Москве и Петербурге это проявляется по-разному.\n",
    "2. В понедельник утром в Москве преобладают одни жанры, а в Петербурге — другие. Так же и вечером пятницы преобладают разные жанры — в зависимости от города. \n",
    "3. Москва и Петербург предпочитают разные жанры музыки. В Москве чаще слушают поп-музыку, в Петербурге — русский рэп.\n",
    "\n",
    "**Ход исследования**\n",
    "\n",
    "Данные о поведении пользователей вы получите из файла `yandex_music_project.csv`. О качестве данных ничего не известно. Поэтому перед проверкой гипотез понадобится обзор данных. \n",
    "\n",
    "Вы проверите данные на ошибки и оцените их влияние на исследование. Затем, на этапе предобработки вы поищете возможность исправить самые критичные ошибки данных.\n",
    " \n",
    "Таким образом, исследование пройдёт в три этапа:\n",
    " 1. Обзор данных.\n",
    " 2. Предобработка данных.\n",
    " 3. Проверка гипотез.\n",
    "\n"
   ]
  },
  {
   "cell_type": "markdown",
   "metadata": {
    "id": "Ml1hmfXC_Zcs"
   },
   "source": [
    "## Обзор данных\n",
    "\n",
    "Составьте первое представление о данных Яндекс.Музыки.\n",
    "\n",
    "\n"
   ]
  },
  {
   "cell_type": "markdown",
   "metadata": {
    "id": "57eAOGIz_Zcs"
   },
   "source": [
    "Основной инструмент аналитика — `pandas`. Импортируйте эту библиотеку."
   ]
  },
  {
   "cell_type": "code",
   "execution_count": 1,
   "metadata": {
    "id": "AXN7PHPN_Zcs"
   },
   "outputs": [],
   "source": [
    "import pandas as pd # импорт библиотеки pandas"
   ]
  },
  {
   "cell_type": "markdown",
   "metadata": {
    "id": "SG23P8tt_Zcs"
   },
   "source": [
    "Прочитайте файл `yandex_music_project.csv` из папки `/datasets` и сохраните его в переменной `df`:"
   ]
  },
  {
   "cell_type": "code",
   "execution_count": 2,
   "metadata": {
    "id": "fFVu7vqh_Zct",
    "scrolled": true
   },
   "outputs": [],
   "source": [
    "df = pd.read_csv('/datasets/yandex_music_project.csv') # чтение файла с данными и сохранение в df"
   ]
  },
  {
   "cell_type": "markdown",
   "metadata": {
    "id": "rDoOMd3uTqnZ"
   },
   "source": [
    "Выведите на экран первые десять строк таблицы:"
   ]
  },
  {
   "cell_type": "code",
   "execution_count": 3,
   "metadata": {
    "id": "oWTVX3gW_Zct"
   },
   "outputs": [
    {
     "data": {
      "text/html": [
       "<div>\n",
       "<style scoped>\n",
       "    .dataframe tbody tr th:only-of-type {\n",
       "        vertical-align: middle;\n",
       "    }\n",
       "\n",
       "    .dataframe tbody tr th {\n",
       "        vertical-align: top;\n",
       "    }\n",
       "\n",
       "    .dataframe thead th {\n",
       "        text-align: right;\n",
       "    }\n",
       "</style>\n",
       "<table border=\"1\" class=\"dataframe\">\n",
       "  <thead>\n",
       "    <tr style=\"text-align: right;\">\n",
       "      <th></th>\n",
       "      <th>userID</th>\n",
       "      <th>Track</th>\n",
       "      <th>artist</th>\n",
       "      <th>genre</th>\n",
       "      <th>City</th>\n",
       "      <th>time</th>\n",
       "      <th>Day</th>\n",
       "    </tr>\n",
       "  </thead>\n",
       "  <tbody>\n",
       "    <tr>\n",
       "      <td>0</td>\n",
       "      <td>FFB692EC</td>\n",
       "      <td>Kamigata To Boots</td>\n",
       "      <td>The Mass Missile</td>\n",
       "      <td>rock</td>\n",
       "      <td>Saint-Petersburg</td>\n",
       "      <td>20:28:33</td>\n",
       "      <td>Wednesday</td>\n",
       "    </tr>\n",
       "    <tr>\n",
       "      <td>1</td>\n",
       "      <td>55204538</td>\n",
       "      <td>Delayed Because of Accident</td>\n",
       "      <td>Andreas Rönnberg</td>\n",
       "      <td>rock</td>\n",
       "      <td>Moscow</td>\n",
       "      <td>14:07:09</td>\n",
       "      <td>Friday</td>\n",
       "    </tr>\n",
       "    <tr>\n",
       "      <td>2</td>\n",
       "      <td>20EC38</td>\n",
       "      <td>Funiculì funiculà</td>\n",
       "      <td>Mario Lanza</td>\n",
       "      <td>pop</td>\n",
       "      <td>Saint-Petersburg</td>\n",
       "      <td>20:58:07</td>\n",
       "      <td>Wednesday</td>\n",
       "    </tr>\n",
       "    <tr>\n",
       "      <td>3</td>\n",
       "      <td>A3DD03C9</td>\n",
       "      <td>Dragons in the Sunset</td>\n",
       "      <td>Fire + Ice</td>\n",
       "      <td>folk</td>\n",
       "      <td>Saint-Petersburg</td>\n",
       "      <td>08:37:09</td>\n",
       "      <td>Monday</td>\n",
       "    </tr>\n",
       "    <tr>\n",
       "      <td>4</td>\n",
       "      <td>E2DC1FAE</td>\n",
       "      <td>Soul People</td>\n",
       "      <td>Space Echo</td>\n",
       "      <td>dance</td>\n",
       "      <td>Moscow</td>\n",
       "      <td>08:34:34</td>\n",
       "      <td>Monday</td>\n",
       "    </tr>\n",
       "    <tr>\n",
       "      <td>5</td>\n",
       "      <td>842029A1</td>\n",
       "      <td>Преданная</td>\n",
       "      <td>IMPERVTOR</td>\n",
       "      <td>rusrap</td>\n",
       "      <td>Saint-Petersburg</td>\n",
       "      <td>13:09:41</td>\n",
       "      <td>Friday</td>\n",
       "    </tr>\n",
       "    <tr>\n",
       "      <td>6</td>\n",
       "      <td>4CB90AA5</td>\n",
       "      <td>True</td>\n",
       "      <td>Roman Messer</td>\n",
       "      <td>dance</td>\n",
       "      <td>Moscow</td>\n",
       "      <td>13:00:07</td>\n",
       "      <td>Wednesday</td>\n",
       "    </tr>\n",
       "    <tr>\n",
       "      <td>7</td>\n",
       "      <td>F03E1C1F</td>\n",
       "      <td>Feeling This Way</td>\n",
       "      <td>Polina Griffith</td>\n",
       "      <td>dance</td>\n",
       "      <td>Moscow</td>\n",
       "      <td>20:47:49</td>\n",
       "      <td>Wednesday</td>\n",
       "    </tr>\n",
       "    <tr>\n",
       "      <td>8</td>\n",
       "      <td>8FA1D3BE</td>\n",
       "      <td>И вновь продолжается бой</td>\n",
       "      <td>NaN</td>\n",
       "      <td>ruspop</td>\n",
       "      <td>Moscow</td>\n",
       "      <td>09:17:40</td>\n",
       "      <td>Friday</td>\n",
       "    </tr>\n",
       "    <tr>\n",
       "      <td>9</td>\n",
       "      <td>E772D5C0</td>\n",
       "      <td>Pessimist</td>\n",
       "      <td>NaN</td>\n",
       "      <td>dance</td>\n",
       "      <td>Saint-Petersburg</td>\n",
       "      <td>21:20:49</td>\n",
       "      <td>Wednesday</td>\n",
       "    </tr>\n",
       "  </tbody>\n",
       "</table>\n",
       "</div>"
      ],
      "text/plain": [
       "     userID                        Track            artist   genre  \\\n",
       "0  FFB692EC            Kamigata To Boots  The Mass Missile    rock   \n",
       "1  55204538  Delayed Because of Accident  Andreas Rönnberg    rock   \n",
       "2    20EC38            Funiculì funiculà       Mario Lanza     pop   \n",
       "3  A3DD03C9        Dragons in the Sunset        Fire + Ice    folk   \n",
       "4  E2DC1FAE                  Soul People        Space Echo   dance   \n",
       "5  842029A1                    Преданная         IMPERVTOR  rusrap   \n",
       "6  4CB90AA5                         True      Roman Messer   dance   \n",
       "7  F03E1C1F             Feeling This Way   Polina Griffith   dance   \n",
       "8  8FA1D3BE     И вновь продолжается бой               NaN  ruspop   \n",
       "9  E772D5C0                    Pessimist               NaN   dance   \n",
       "\n",
       "             City        time        Day  \n",
       "0  Saint-Petersburg  20:28:33  Wednesday  \n",
       "1            Moscow  14:07:09     Friday  \n",
       "2  Saint-Petersburg  20:58:07  Wednesday  \n",
       "3  Saint-Petersburg  08:37:09     Monday  \n",
       "4            Moscow  08:34:34     Monday  \n",
       "5  Saint-Petersburg  13:09:41     Friday  \n",
       "6            Moscow  13:00:07  Wednesday  \n",
       "7            Moscow  20:47:49  Wednesday  \n",
       "8            Moscow  09:17:40     Friday  \n",
       "9  Saint-Petersburg  21:20:49  Wednesday  "
      ]
     },
     "execution_count": 3,
     "metadata": {},
     "output_type": "execute_result"
    }
   ],
   "source": [
    "df.head(10) # получение первых 10 строк таблицы df"
   ]
  },
  {
   "cell_type": "code",
   "execution_count": 4,
   "metadata": {},
   "outputs": [
    {
     "data": {
      "text/html": [
       "<div>\n",
       "<style scoped>\n",
       "    .dataframe tbody tr th:only-of-type {\n",
       "        vertical-align: middle;\n",
       "    }\n",
       "\n",
       "    .dataframe tbody tr th {\n",
       "        vertical-align: top;\n",
       "    }\n",
       "\n",
       "    .dataframe thead th {\n",
       "        text-align: right;\n",
       "    }\n",
       "</style>\n",
       "<table border=\"1\" class=\"dataframe\">\n",
       "  <thead>\n",
       "    <tr style=\"text-align: right;\">\n",
       "      <th></th>\n",
       "      <th>userID</th>\n",
       "      <th>Track</th>\n",
       "      <th>artist</th>\n",
       "      <th>genre</th>\n",
       "      <th>City</th>\n",
       "      <th>time</th>\n",
       "      <th>Day</th>\n",
       "    </tr>\n",
       "  </thead>\n",
       "  <tbody>\n",
       "    <tr>\n",
       "      <td>65074</td>\n",
       "      <td>729CBB09</td>\n",
       "      <td>My Name</td>\n",
       "      <td>McLean</td>\n",
       "      <td>rnb</td>\n",
       "      <td>Moscow</td>\n",
       "      <td>13:32:28</td>\n",
       "      <td>Wednesday</td>\n",
       "    </tr>\n",
       "    <tr>\n",
       "      <td>65075</td>\n",
       "      <td>D08D4A55</td>\n",
       "      <td>Maybe One Day (feat. Black Spade)</td>\n",
       "      <td>Blu &amp; Exile</td>\n",
       "      <td>hip</td>\n",
       "      <td>Saint-Petersburg</td>\n",
       "      <td>10:00:00</td>\n",
       "      <td>Monday</td>\n",
       "    </tr>\n",
       "    <tr>\n",
       "      <td>65076</td>\n",
       "      <td>C5E3A0D5</td>\n",
       "      <td>Jalopiina</td>\n",
       "      <td>NaN</td>\n",
       "      <td>industrial</td>\n",
       "      <td>Moscow</td>\n",
       "      <td>20:09:26</td>\n",
       "      <td>Friday</td>\n",
       "    </tr>\n",
       "    <tr>\n",
       "      <td>65077</td>\n",
       "      <td>321D0506</td>\n",
       "      <td>Freight Train</td>\n",
       "      <td>Chas McDevitt</td>\n",
       "      <td>rock</td>\n",
       "      <td>Moscow</td>\n",
       "      <td>21:43:59</td>\n",
       "      <td>Friday</td>\n",
       "    </tr>\n",
       "    <tr>\n",
       "      <td>65078</td>\n",
       "      <td>3A64EF84</td>\n",
       "      <td>Tell Me Sweet Little Lies</td>\n",
       "      <td>Monica Lopez</td>\n",
       "      <td>country</td>\n",
       "      <td>Moscow</td>\n",
       "      <td>21:59:46</td>\n",
       "      <td>Friday</td>\n",
       "    </tr>\n",
       "  </tbody>\n",
       "</table>\n",
       "</div>"
      ],
      "text/plain": [
       "         userID                              Track         artist       genre  \\\n",
       "65074  729CBB09                            My Name         McLean         rnb   \n",
       "65075  D08D4A55  Maybe One Day (feat. Black Spade)    Blu & Exile         hip   \n",
       "65076  C5E3A0D5                          Jalopiina            NaN  industrial   \n",
       "65077  321D0506                      Freight Train  Chas McDevitt        rock   \n",
       "65078  3A64EF84          Tell Me Sweet Little Lies   Monica Lopez     country   \n",
       "\n",
       "                 City        time        Day  \n",
       "65074            Moscow  13:32:28  Wednesday  \n",
       "65075  Saint-Petersburg  10:00:00     Monday  \n",
       "65076            Moscow  20:09:26     Friday  \n",
       "65077            Moscow  21:43:59     Friday  \n",
       "65078            Moscow  21:59:46     Friday  "
      ]
     },
     "execution_count": 4,
     "metadata": {},
     "output_type": "execute_result"
    }
   ],
   "source": [
    "# Комментарий ревьюера\n",
    "df.tail(5)"
   ]
  },
  {
   "cell_type": "markdown",
   "metadata": {
    "id": "EO73Kwic_Zct"
   },
   "source": [
    "Одной командой получить общую информацию о таблице:"
   ]
  },
  {
   "cell_type": "code",
   "execution_count": 5,
   "metadata": {
    "id": "DSf2kIb-_Zct"
   },
   "outputs": [
    {
     "name": "stdout",
     "output_type": "stream",
     "text": [
      "<class 'pandas.core.frame.DataFrame'>\n",
      "RangeIndex: 65079 entries, 0 to 65078\n",
      "Data columns (total 7 columns):\n",
      "  userID    65079 non-null object\n",
      "Track       63848 non-null object\n",
      "artist      57876 non-null object\n",
      "genre       63881 non-null object\n",
      "  City      65079 non-null object\n",
      "time        65079 non-null object\n",
      "Day         65079 non-null object\n",
      "dtypes: object(7)\n",
      "memory usage: 3.5+ MB\n"
     ]
    }
   ],
   "source": [
    "df. info() # получение общей информации о данных в таблице df"
   ]
  },
  {
   "cell_type": "markdown",
   "metadata": {
    "id": "TaQ2Iwbr_Zct"
   },
   "source": [
    "Итак, в таблице семь столбцов. Тип данных во всех столбцах — `object`.\n",
    "\n",
    "Согласно документации к данным:\n",
    "* `userID` — идентификатор пользователя;\n",
    "* `Track` — название трека;  \n",
    "* `artist` — имя исполнителя;\n",
    "* `genre` — название жанра;\n",
    "* `City` — город пользователя;\n",
    "* `time` — время начала прослушивания;\n",
    "* `Day` — день недели.\n",
    "\n",
    "В названиях колонок видны три нарушения стиля:\n",
    "1. Строчные буквы сочетаются с прописными.\n",
    "2. Встречаются пробелы.\n",
    "3. Навзания столбцов начинаются со строчной буквы.\n",
    "\n",
    "\n",
    "\n",
    "\n",
    "Количество значений в столбцах различается. Значит, в данных есть пропущенные значения.\n"
   ]
  },
  {
   "cell_type": "markdown",
   "metadata": {
    "id": "MCB6-dXG_Zct"
   },
   "source": [
    "**Выводы**\n",
    "\n",
    "В каждой строке таблицы — данные о прослушанном треке. Часть колонок описывает саму композицию: название, исполнителя и жанр. Остальные данные рассказывают о пользователе: из какого он города, когда он слушал музыку. \n",
    "\n",
    "Предварительно можно утверждать, что, данных достаточно для проверки гипотез. Но встречаются пропуски в данных, а в названиях колонок — расхождения с хорошим стилем.\n",
    "\n",
    "Чтобы двигаться дальше, нужно устранить проблемы в данных."
   ]
  },
  {
   "cell_type": "markdown",
   "metadata": {
    "id": "SjYF6Ub9_Zct"
   },
   "source": [
    "## Предобработка данных\n",
    "Исправьте стиль в заголовках столбцов, исключите пропуски. Затем проверьте данные на дубликаты."
   ]
  },
  {
   "cell_type": "markdown",
   "metadata": {
    "id": "dIaKXr29_Zct"
   },
   "source": [
    "### Стиль заголовков\n",
    "Выведите на экран названия столбцов:"
   ]
  },
  {
   "cell_type": "code",
   "execution_count": 6,
   "metadata": {
    "id": "oKOTdF_Q_Zct"
   },
   "outputs": [
    {
     "data": {
      "text/plain": [
       "Index(['  userID', 'Track', 'artist', 'genre', '  City  ', 'time', 'Day'], dtype='object')"
      ]
     },
     "execution_count": 6,
     "metadata": {},
     "output_type": "execute_result"
    }
   ],
   "source": [
    "df.columns # перечень названий столбцов таблицы df"
   ]
  },
  {
   "cell_type": "markdown",
   "metadata": {
    "id": "zj5534cv_Zct"
   },
   "source": [
    "Приведите названия в соответствие с хорошим стилем:\n",
    "* несколько слов в названии запишите в «змеином_регистре»,\n",
    "* все символы сделайте строчными,\n",
    "* устраните пробелы.\n",
    "\n",
    "Для этого переименуйте колонки так:\n",
    "* `'  userID'` → `'user_id'`;\n",
    "* `'Track'` → `'track'`;\n",
    "* `'  City  '` → `'city'`;\n",
    "* `'Day'` → `'day'`."
   ]
  },
  {
   "cell_type": "code",
   "execution_count": 7,
   "metadata": {
    "id": "ISlFqs5y_Zct"
   },
   "outputs": [],
   "source": [
    "df = df.rename( # переименование столбцов\n",
    "    columns={\n",
    "        '  userID': 'user_id',\n",
    "        'Track': 'track',\n",
    "        '  City  ': 'city',\n",
    "        'Day': 'day',\n",
    "    }\n",
    ")"
   ]
  },
  {
   "cell_type": "markdown",
   "metadata": {
    "id": "1dqbh00J_Zct"
   },
   "source": [
    "Проверьте результат. Для этого ещё раз выведите на экран названия столбцов:"
   ]
  },
  {
   "cell_type": "code",
   "execution_count": 8,
   "metadata": {
    "id": "d4NOAmTW_Zct",
    "scrolled": true
   },
   "outputs": [
    {
     "data": {
      "text/plain": [
       "Index(['user_id', 'track', 'artist', 'genre', 'city', 'time', 'day'], dtype='object')"
      ]
     },
     "execution_count": 8,
     "metadata": {},
     "output_type": "execute_result"
    }
   ],
   "source": [
    "df.columns # проверка результатов - перечень названий столбцов"
   ]
  },
  {
   "cell_type": "markdown",
   "metadata": {
    "id": "5ISfbcfY_Zct"
   },
   "source": [
    "### Пропуски значений\n",
    "Сначала посчитайте, сколько в таблице пропущенных значений. Для этого достаточно двух методов `pandas`:"
   ]
  },
  {
   "cell_type": "code",
   "execution_count": 9,
   "metadata": {
    "id": "RskX29qr_Zct"
   },
   "outputs": [
    {
     "data": {
      "text/plain": [
       "user_id       0\n",
       "track      1231\n",
       "artist     7203\n",
       "genre      1198\n",
       "city          0\n",
       "time          0\n",
       "day           0\n",
       "dtype: int64"
      ]
     },
     "execution_count": 9,
     "metadata": {},
     "output_type": "execute_result"
    }
   ],
   "source": [
    "df.isna().sum() # подсчёт пропусков"
   ]
  },
  {
   "cell_type": "markdown",
   "metadata": {
    "id": "qubhgnlO_Zct"
   },
   "source": [
    "Не все пропущенные значения влияют на исследование. Так в `track` и `artist` пропуски не важны для вашей работы. Достаточно заменить их явными обозначениями.\n",
    "\n",
    "Но пропуски в `genre` могут помешать сравнению музыкальных вкусов в Москве и Санкт-Петербурге. На практике было бы правильно установить причину пропусков и восстановить данные. Такой возможности нет в учебном проекте. Придётся:\n",
    "* заполнить и эти пропуски явными обозначениями,\n",
    "* оценить, насколько они повредят расчётам. "
   ]
  },
  {
   "cell_type": "markdown",
   "metadata": {
    "id": "fSv2laPA_Zct"
   },
   "source": [
    "Замените пропущенные значения в столбцах `track`, `artist` и `genre` на строку `'unknown'`. Для этого создайте список `columns_to_replace`, переберите его элементы циклом `for` и для каждого столбца выполните замену пропущенных значений:"
   ]
  },
  {
   "cell_type": "code",
   "execution_count": 10,
   "metadata": {
    "id": "KplB5qWs_Zct"
   },
   "outputs": [],
   "source": [
    "columns_to_replace = ['track', 'artist', 'genre'] # перебор названий столбцов в цикле и замена пропущенных значений на 'unknown'\n",
    "\n",
    "for column in columns_to_replace:\n",
    "        df[column] = df[column].fillna('unknown')\n",
    "    \n",
    "        \n",
    "    \n",
    "    "
   ]
  },
  {
   "cell_type": "markdown",
   "metadata": {
    "id": "Ilsm-MZo_Zct"
   },
   "source": [
    "Убедитесь, что в таблице не осталось пропусков. Для этого ещё раз посчитайте пропущенные значения."
   ]
  },
  {
   "cell_type": "code",
   "execution_count": 11,
   "metadata": {
    "id": "Tq4nYRX4_Zct"
   },
   "outputs": [
    {
     "data": {
      "text/plain": [
       "user_id    0\n",
       "track      0\n",
       "artist     0\n",
       "genre      0\n",
       "city       0\n",
       "time       0\n",
       "day        0\n",
       "dtype: int64"
      ]
     },
     "execution_count": 11,
     "metadata": {},
     "output_type": "execute_result"
    }
   ],
   "source": [
    "df.isna().sum() # подсчёт пропусков"
   ]
  },
  {
   "cell_type": "markdown",
   "metadata": {
    "id": "BWKRtBJ3_Zct"
   },
   "source": [
    "### Дубликаты\n",
    "Посчитайте явные дубликаты в таблице одной командой:"
   ]
  },
  {
   "cell_type": "code",
   "execution_count": 12,
   "metadata": {
    "id": "36eES_S0_Zct"
   },
   "outputs": [
    {
     "data": {
      "text/plain": [
       "3826"
      ]
     },
     "execution_count": 12,
     "metadata": {},
     "output_type": "execute_result"
    }
   ],
   "source": [
    "df.duplicated().sum() # подсчёт явных дубликатов"
   ]
  },
  {
   "cell_type": "markdown",
   "metadata": {
    "id": "Ot25h6XR_Zct"
   },
   "source": [
    "Вызовите специальный метод `pandas`, чтобы удалить явные дубликаты:"
   ]
  },
  {
   "cell_type": "code",
   "execution_count": 13,
   "metadata": {
    "id": "exFHq6tt_Zct"
   },
   "outputs": [],
   "source": [
    "df = df.drop_duplicates().reset_index(drop=True) # удаление явных дубликатов (с удалением старых индексов и формированием новых)"
   ]
  },
  {
   "cell_type": "markdown",
   "metadata": {
    "id": "Im2YwBEG_Zct"
   },
   "source": [
    "Ещё раз посчитайте явные дубликаты в таблице — убедитесь, что полностью от них избавились:"
   ]
  },
  {
   "cell_type": "code",
   "execution_count": 14,
   "metadata": {
    "id": "-8PuNWQ0_Zct"
   },
   "outputs": [
    {
     "data": {
      "text/plain": [
       "0"
      ]
     },
     "execution_count": 14,
     "metadata": {},
     "output_type": "execute_result"
    }
   ],
   "source": [
    "df.duplicated().sum() # проверка на отсутствие дубликатов"
   ]
  },
  {
   "cell_type": "markdown",
   "metadata": {
    "id": "QlFBsxAr_Zct"
   },
   "source": [
    "Теперь избавьтесь от неявных дубликатов в колонке `genre`. Например, название одного и того же жанра может быть записано немного по-разному. Такие ошибки тоже повлияют на результат исследования."
   ]
  },
  {
   "cell_type": "markdown",
   "metadata": {
    "id": "eSjWwsOh_Zct"
   },
   "source": [
    "Выведите на экран список уникальных названий жанров, отсортированный в алфавитном порядке. Для этого:\n",
    "* извлеките нужный столбец датафрейма, \n",
    "* примените к нему метод сортировки,\n",
    "* для отсортированного столбца вызовите метод, который вернёт уникальные значения из столбца."
   ]
  },
  {
   "cell_type": "code",
   "execution_count": 15,
   "metadata": {
    "id": "JIUcqzZN_Zct"
   },
   "outputs": [
    {
     "data": {
      "text/plain": [
       "array(['acid', 'acoustic', 'action', 'adult', 'africa', 'afrikaans',\n",
       "       'alternative', 'alternativepunk', 'ambient', 'americana',\n",
       "       'animated', 'anime', 'arabesk', 'arabic', 'arena',\n",
       "       'argentinetango', 'art', 'audiobook', 'author', 'avantgarde',\n",
       "       'axé', 'baile', 'balkan', 'beats', 'bigroom', 'black', 'bluegrass',\n",
       "       'blues', 'bollywood', 'bossa', 'brazilian', 'breakbeat', 'breaks',\n",
       "       'broadway', 'cantautori', 'cantopop', 'canzone', 'caribbean',\n",
       "       'caucasian', 'celtic', 'chamber', 'chanson', 'children', 'chill',\n",
       "       'chinese', 'choral', 'christian', 'christmas', 'classical',\n",
       "       'classicmetal', 'club', 'colombian', 'comedy', 'conjazz',\n",
       "       'contemporary', 'country', 'cuban', 'dance', 'dancehall',\n",
       "       'dancepop', 'dark', 'death', 'deep', 'deutschrock', 'deutschspr',\n",
       "       'dirty', 'disco', 'dnb', 'documentary', 'downbeat', 'downtempo',\n",
       "       'drum', 'dub', 'dubstep', 'eastern', 'easy', 'electronic',\n",
       "       'electropop', 'emo', 'entehno', 'epicmetal', 'estrada', 'ethnic',\n",
       "       'eurofolk', 'european', 'experimental', 'extrememetal', 'fado',\n",
       "       'fairytail', 'film', 'fitness', 'flamenco', 'folk', 'folklore',\n",
       "       'folkmetal', 'folkrock', 'folktronica', 'forró', 'frankreich',\n",
       "       'französisch', 'french', 'funk', 'future', 'gangsta', 'garage',\n",
       "       'german', 'ghazal', 'gitarre', 'glitch', 'gospel', 'gothic',\n",
       "       'grime', 'grunge', 'gypsy', 'handsup', \"hard'n'heavy\", 'hardcore',\n",
       "       'hardstyle', 'hardtechno', 'hip', 'hip-hop', 'hiphop',\n",
       "       'historisch', 'holiday', 'hop', 'horror', 'house', 'hymn', 'idm',\n",
       "       'independent', 'indian', 'indie', 'indipop', 'industrial',\n",
       "       'inspirational', 'instrumental', 'international', 'irish', 'jam',\n",
       "       'japanese', 'jazz', 'jewish', 'jpop', 'jungle', 'k-pop',\n",
       "       'karadeniz', 'karaoke', 'kayokyoku', 'korean', 'laiko', 'latin',\n",
       "       'latino', 'leftfield', 'local', 'lounge', 'loungeelectronic',\n",
       "       'lovers', 'malaysian', 'mandopop', 'marschmusik', 'meditative',\n",
       "       'mediterranean', 'melodic', 'metal', 'metalcore', 'mexican',\n",
       "       'middle', 'minimal', 'miscellaneous', 'modern', 'mood', 'mpb',\n",
       "       'muslim', 'native', 'neoklassik', 'neue', 'new', 'newage',\n",
       "       'newwave', 'nu', 'nujazz', 'numetal', 'oceania', 'old', 'opera',\n",
       "       'orchestral', 'other', 'piano', 'podcasts', 'pop', 'popdance',\n",
       "       'popelectronic', 'popeurodance', 'poprussian', 'post',\n",
       "       'posthardcore', 'postrock', 'power', 'progmetal', 'progressive',\n",
       "       'psychedelic', 'punjabi', 'punk', 'quebecois', 'ragga', 'ram',\n",
       "       'rancheras', 'rap', 'rave', 'reggae', 'reggaeton', 'regional',\n",
       "       'relax', 'religious', 'retro', 'rhythm', 'rnb', 'rnr', 'rock',\n",
       "       'rockabilly', 'rockalternative', 'rockindie', 'rockother',\n",
       "       'romance', 'roots', 'ruspop', 'rusrap', 'rusrock', 'russian',\n",
       "       'salsa', 'samba', 'scenic', 'schlager', 'self', 'sertanejo',\n",
       "       'shanson', 'shoegazing', 'showtunes', 'singer', 'ska', 'skarock',\n",
       "       'slow', 'smooth', 'soft', 'soul', 'soulful', 'sound', 'soundtrack',\n",
       "       'southern', 'specialty', 'speech', 'spiritual', 'sport',\n",
       "       'stonerrock', 'surf', 'swing', 'synthpop', 'synthrock',\n",
       "       'sängerportrait', 'tango', 'tanzorchester', 'taraftar', 'tatar',\n",
       "       'tech', 'techno', 'teen', 'thrash', 'top', 'traditional',\n",
       "       'tradjazz', 'trance', 'tribal', 'trip', 'triphop', 'tropical',\n",
       "       'türk', 'türkçe', 'ukrrock', 'unknown', 'urban', 'uzbek',\n",
       "       'variété', 'vi', 'videogame', 'vocal', 'western', 'world',\n",
       "       'worldbeat', 'ïîï', 'электроника'], dtype=object)"
      ]
     },
     "execution_count": 15,
     "metadata": {},
     "output_type": "execute_result"
    }
   ],
   "source": [
    "df['genre'].sort_values().unique()"
   ]
  },
  {
   "cell_type": "markdown",
   "metadata": {
    "id": "qej-Qmuo_Zct"
   },
   "source": [
    "Просмотрите список и найдите неявные дубликаты названия `hiphop`. Это могут быть названия с ошибками или альтернативные названия того же жанра.\n",
    "\n",
    "Вы увидите следующие неявные дубликаты:\n",
    "* *hip*,\n",
    "* *hop*,\n",
    "* *hip-hop*.\n",
    "\n",
    "Чтобы очистить от них таблицу, напишите функцию `replace_wrong_genres()` с двумя параметрами: \n",
    "* `wrong_genres` — список дубликатов,\n",
    "* `correct_genre` — строка с правильным значением.\n",
    "\n",
    "Функция должна исправить колонку `genre` в таблице `df`: заменить каждое значение из списка `wrong_genres` на значение из `correct_genre`."
   ]
  },
  {
   "cell_type": "code",
   "execution_count": 16,
   "metadata": {
    "id": "ErNDkmns_Zct"
   },
   "outputs": [],
   "source": [
    "def replace_wrong_genres(wrong_genres, correct_genre): # Функция для замены неявных дубликатов\n",
    "    for wrong_genre in wrong_genres:\n",
    "        df['genre'] = df['genre'].replace(wrong_genre, correct_genre)\n",
    "\n",
    "\n",
    "duplicates = ['hip','hop','hip-hop']\n",
    "genre = 'hiphop'"
   ]
  },
  {
   "cell_type": "markdown",
   "metadata": {
    "id": "aDoBJxbA_Zct"
   },
   "source": [
    "Вызовите `replace_wrong_genres()` и передайте ей такие аргументы, чтобы она устранила неявные дубликаты: вместо `hip`, `hop` и `hip-hop` в таблице должно быть значение `hiphop`:"
   ]
  },
  {
   "cell_type": "code",
   "execution_count": 17,
   "metadata": {
    "id": "YN5i2hpmSo09"
   },
   "outputs": [],
   "source": [
    "replace_wrong_genres(duplicates, genre) # Устранение неявных дубликатов"
   ]
  },
  {
   "cell_type": "markdown",
   "metadata": {
    "id": "zQKF16_RG15m"
   },
   "source": [
    "Проверьте, что заменили неправильные названия:\n",
    "\n",
    "*   hip\n",
    "*   hop\n",
    "*   hip-hop\n",
    "\n",
    "Выведите отсортированный список уникальных значений столбца `genre`:"
   ]
  },
  {
   "cell_type": "code",
   "execution_count": 18,
   "metadata": {
    "id": "wvixALnFG15m"
   },
   "outputs": [
    {
     "data": {
      "text/plain": [
       "array(['acid', 'acoustic', 'action', 'adult', 'africa', 'afrikaans',\n",
       "       'alternative', 'alternativepunk', 'ambient', 'americana',\n",
       "       'animated', 'anime', 'arabesk', 'arabic', 'arena',\n",
       "       'argentinetango', 'art', 'audiobook', 'author', 'avantgarde',\n",
       "       'axé', 'baile', 'balkan', 'beats', 'bigroom', 'black', 'bluegrass',\n",
       "       'blues', 'bollywood', 'bossa', 'brazilian', 'breakbeat', 'breaks',\n",
       "       'broadway', 'cantautori', 'cantopop', 'canzone', 'caribbean',\n",
       "       'caucasian', 'celtic', 'chamber', 'chanson', 'children', 'chill',\n",
       "       'chinese', 'choral', 'christian', 'christmas', 'classical',\n",
       "       'classicmetal', 'club', 'colombian', 'comedy', 'conjazz',\n",
       "       'contemporary', 'country', 'cuban', 'dance', 'dancehall',\n",
       "       'dancepop', 'dark', 'death', 'deep', 'deutschrock', 'deutschspr',\n",
       "       'dirty', 'disco', 'dnb', 'documentary', 'downbeat', 'downtempo',\n",
       "       'drum', 'dub', 'dubstep', 'eastern', 'easy', 'electronic',\n",
       "       'electropop', 'emo', 'entehno', 'epicmetal', 'estrada', 'ethnic',\n",
       "       'eurofolk', 'european', 'experimental', 'extrememetal', 'fado',\n",
       "       'fairytail', 'film', 'fitness', 'flamenco', 'folk', 'folklore',\n",
       "       'folkmetal', 'folkrock', 'folktronica', 'forró', 'frankreich',\n",
       "       'französisch', 'french', 'funk', 'future', 'gangsta', 'garage',\n",
       "       'german', 'ghazal', 'gitarre', 'glitch', 'gospel', 'gothic',\n",
       "       'grime', 'grunge', 'gypsy', 'handsup', \"hard'n'heavy\", 'hardcore',\n",
       "       'hardstyle', 'hardtechno', 'hiphop', 'historisch', 'holiday',\n",
       "       'horror', 'house', 'hymn', 'idm', 'independent', 'indian', 'indie',\n",
       "       'indipop', 'industrial', 'inspirational', 'instrumental',\n",
       "       'international', 'irish', 'jam', 'japanese', 'jazz', 'jewish',\n",
       "       'jpop', 'jungle', 'k-pop', 'karadeniz', 'karaoke', 'kayokyoku',\n",
       "       'korean', 'laiko', 'latin', 'latino', 'leftfield', 'local',\n",
       "       'lounge', 'loungeelectronic', 'lovers', 'malaysian', 'mandopop',\n",
       "       'marschmusik', 'meditative', 'mediterranean', 'melodic', 'metal',\n",
       "       'metalcore', 'mexican', 'middle', 'minimal', 'miscellaneous',\n",
       "       'modern', 'mood', 'mpb', 'muslim', 'native', 'neoklassik', 'neue',\n",
       "       'new', 'newage', 'newwave', 'nu', 'nujazz', 'numetal', 'oceania',\n",
       "       'old', 'opera', 'orchestral', 'other', 'piano', 'podcasts', 'pop',\n",
       "       'popdance', 'popelectronic', 'popeurodance', 'poprussian', 'post',\n",
       "       'posthardcore', 'postrock', 'power', 'progmetal', 'progressive',\n",
       "       'psychedelic', 'punjabi', 'punk', 'quebecois', 'ragga', 'ram',\n",
       "       'rancheras', 'rap', 'rave', 'reggae', 'reggaeton', 'regional',\n",
       "       'relax', 'religious', 'retro', 'rhythm', 'rnb', 'rnr', 'rock',\n",
       "       'rockabilly', 'rockalternative', 'rockindie', 'rockother',\n",
       "       'romance', 'roots', 'ruspop', 'rusrap', 'rusrock', 'russian',\n",
       "       'salsa', 'samba', 'scenic', 'schlager', 'self', 'sertanejo',\n",
       "       'shanson', 'shoegazing', 'showtunes', 'singer', 'ska', 'skarock',\n",
       "       'slow', 'smooth', 'soft', 'soul', 'soulful', 'sound', 'soundtrack',\n",
       "       'southern', 'specialty', 'speech', 'spiritual', 'sport',\n",
       "       'stonerrock', 'surf', 'swing', 'synthpop', 'synthrock',\n",
       "       'sängerportrait', 'tango', 'tanzorchester', 'taraftar', 'tatar',\n",
       "       'tech', 'techno', 'teen', 'thrash', 'top', 'traditional',\n",
       "       'tradjazz', 'trance', 'tribal', 'trip', 'triphop', 'tropical',\n",
       "       'türk', 'türkçe', 'ukrrock', 'unknown', 'urban', 'uzbek',\n",
       "       'variété', 'vi', 'videogame', 'vocal', 'western', 'world',\n",
       "       'worldbeat', 'ïîï', 'электроника'], dtype=object)"
      ]
     },
     "execution_count": 18,
     "metadata": {},
     "output_type": "execute_result"
    }
   ],
   "source": [
    "df['genre'].sort_values().unique() # Проверка на неявные дубликаты"
   ]
  },
  {
   "cell_type": "markdown",
   "metadata": {
    "id": "jz6a9-7HQUDd"
   },
   "source": [
    "**Выводы**\n",
    "\n",
    "Предобработка обнаружила три проблемы в данных:\n",
    "\n",
    "- нарушения в стиле заголовков,\n",
    "- пропущенные значения,\n",
    "- дубликаты — явные и неявные.\n",
    "\n",
    "Вы исправили заголовки, чтобы упростить работу с таблицей. Без дубликатов исследование станет более точным.\n",
    "\n",
    "Пропущенные значения вы заменили на `'unknown'`. Ещё предстоит увидеть, не повредят ли исследованию пропуски в колонке `genre`.\n",
    "\n",
    "Теперь можно перейти к проверке гипотез. "
   ]
  },
  {
   "cell_type": "markdown",
   "metadata": {
    "id": "WttZHXH0SqKk"
   },
   "source": [
    "## Проверка гипотез"
   ]
  },
  {
   "cell_type": "markdown",
   "metadata": {
    "id": "Im936VVi_Zcu"
   },
   "source": [
    "### Сравнение поведения пользователей двух столиц"
   ]
  },
  {
   "cell_type": "markdown",
   "metadata": {
    "id": "nwt_MuaL_Zcu"
   },
   "source": [
    "Первая гипотеза утверждает, что пользователи по-разному слушают музыку в Москве и Санкт-Петербурге. Проверьте это предположение по данным о трёх днях недели — понедельнике, среде и пятнице. Для этого:\n",
    "\n",
    "* Разделите пользователей Москвы и Санкт-Петербурга\n",
    "* Сравните, сколько треков послушала каждая группа пользователей в понедельник, среду и пятницу.\n"
   ]
  },
  {
   "cell_type": "markdown",
   "metadata": {
    "id": "8Dw_YMmT_Zcu"
   },
   "source": [
    "Для тренировки сначала выполните каждый из расчётов по отдельности. \n",
    "\n",
    "Оцените активность пользователей в каждом городе. Сгруппируйте данные по городу и посчитайте прослушивания в каждой группе.\n",
    "\n"
   ]
  },
  {
   "cell_type": "code",
   "execution_count": 19,
   "metadata": {
    "id": "0_Qs96oh_Zcu"
   },
   "outputs": [
    {
     "data": {
      "text/plain": [
       "city\n",
       "Moscow              42741\n",
       "Saint-Petersburg    18512\n",
       "Name: user_id, dtype: int64"
      ]
     },
     "execution_count": 19,
     "metadata": {},
     "output_type": "execute_result"
    }
   ],
   "source": [
    "city_count = df.groupby('city')['user_id'].count() # Подсчёт прослушиваний в каждом городе\n",
    "city_count"
   ]
  },
  {
   "cell_type": "markdown",
   "metadata": {
    "id": "dzli3w8o_Zcu"
   },
   "source": [
    "В Москве прослушиваний больше, чем в Петербурге. Из этого не следует, что московские пользователи чаще слушают музыку. Просто самих пользователей в Москве больше.\n",
    "\n",
    "Теперь сгруппируйте данные по дню недели и подсчитайте прослушивания в понедельник, среду и пятницу. Учтите, что в данных есть информация только о прослушиваниях только за эти дни.\n"
   ]
  },
  {
   "cell_type": "code",
   "execution_count": 20,
   "metadata": {
    "id": "uZMKjiJz_Zcu"
   },
   "outputs": [
    {
     "data": {
      "text/plain": [
       "day\n",
       "Friday       21840\n",
       "Monday       21354\n",
       "Wednesday    18059\n",
       "Name: user_id, dtype: int64"
      ]
     },
     "metadata": {},
     "output_type": "display_data"
    }
   ],
   "source": [
    "day_count = df.groupby('day')['user_id'].count() # Подсчёт прослушиваний в каждый из трёх дней\n",
    "display(day_count)"
   ]
  },
  {
   "cell_type": "markdown",
   "metadata": {
    "id": "cC2tNrlL_Zcu"
   },
   "source": [
    "В среднем пользователи из двух городов менее активны по средам. Но картина может измениться, если рассмотреть каждый город в отдельности."
   ]
  },
  {
   "cell_type": "markdown",
   "metadata": {
    "id": "POzs8bGa_Zcu"
   },
   "source": [
    "Вы видели, как работает группировка по городу и по дням недели. Теперь напишите функцию, которая объединит два эти расчёта.\n",
    "\n",
    "Создайте функцию `number_tracks()`, которая посчитает прослушивания для заданного дня и города. Ей понадобятся два параметра:\n",
    "* день недели,\n",
    "* название города.\n",
    "\n",
    "В функции сохраните в переменную строки исходной таблицы, у которых значение:\n",
    "  * в колонке `day` равно параметру `day`,\n",
    "  * в колонке `city` равно параметру `city`.\n",
    "\n",
    "Для этого примените последовательную фильтрацию с логической индексацией.\n",
    "\n",
    "Затем посчитайте значения в столбце `user_id` получившейся таблицы. Результат сохраните в новую переменную. Верните эту переменную из функции."
   ]
  },
  {
   "cell_type": "code",
   "execution_count": 21,
   "metadata": {
    "id": "Nz3GdQB1_Zcu"
   },
   "outputs": [],
   "source": [
    "def number_tracks(day, city): \n",
    "    track_list = df[(df['day'] == day) & (df['city'] == city)]\n",
    "    track_list_count = track_list['user_id'].count()\n",
    "    return track_list_count \n",
    "\n",
    "# <создание функции number_tracks()>\n",
    "# Объявляется функция с двумя параметрами: day, city.\n",
    "# В переменной track_list сохраняются те строки таблицы df, для которых \n",
    "# значение в столбце 'day' равно параметру day и одновременно значение\n",
    "# в столбце 'city' равно параметру city (используйте последовательную фильтрацию\n",
    "# с помощью логической индексации).\n",
    "# В переменной track_list_count сохраняется число значений столбца 'user_id',\n",
    "# рассчитанное методом count() для таблицы track_list.\n",
    "# Функция возвращает число - значение track_list_count.\n",
    "\n",
    "# Функция для подсчёта прослушиваний для конкретного города и дня.\n",
    "# С помощью последовательной фильтрации с логической индексацией она \n",
    "# сначала получит из исходной таблицы строки с нужным днём,\n",
    "# затем из результата отфильтрует строки с нужным городом,\n",
    "# методом count() посчитает количество значений в колонке user_id. \n",
    "# Это количество функция вернёт в качестве результата"
   ]
  },
  {
   "cell_type": "markdown",
   "metadata": {
    "id": "ytf7xFrFJQ2r"
   },
   "source": [
    "Вызовите `number_tracks()` шесть раз, меняя значение параметров — так, чтобы получить данные для каждого города в каждый из трёх дней."
   ]
  },
  {
   "cell_type": "code",
   "execution_count": 22,
   "metadata": {
    "id": "rJcRATNQ_Zcu"
   },
   "outputs": [],
   "source": [
    "a=number_tracks('Monday', 'Moscow') # количество прослушиваний в Москве по понедельникам"
   ]
  },
  {
   "cell_type": "code",
   "execution_count": 23,
   "metadata": {
    "id": "hq_ncZ5T_Zcu"
   },
   "outputs": [],
   "source": [
    "b=number_tracks('Monday', 'Saint-Petersburg') # количество прослушиваний в Санкт-Петербурге по понедельникам"
   ]
  },
  {
   "cell_type": "code",
   "execution_count": 24,
   "metadata": {
    "id": "_NTy2VPU_Zcu"
   },
   "outputs": [],
   "source": [
    "c=number_tracks('Wednesday', 'Moscow') # количество прослушиваний в Москве по средам"
   ]
  },
  {
   "cell_type": "code",
   "execution_count": 25,
   "metadata": {
    "id": "j2y3TAwo_Zcu"
   },
   "outputs": [],
   "source": [
    "d=number_tracks('Wednesday', 'Saint-Petersburg') # количество прослушиваний в Санкт-Петербурге по средам"
   ]
  },
  {
   "cell_type": "code",
   "execution_count": 26,
   "metadata": {
    "id": "vYDw5u_K_Zcu"
   },
   "outputs": [],
   "source": [
    "e=number_tracks('Friday', 'Moscow') # количество прослушиваний в Москве по пятницам"
   ]
  },
  {
   "cell_type": "code",
   "execution_count": 27,
   "metadata": {
    "id": "8_yzFtW3_Zcu"
   },
   "outputs": [],
   "source": [
    "f=number_tracks('Friday', 'Saint-Petersburg') # количество прослушиваний в Санкт-Петербурге по пятницам"
   ]
  },
  {
   "cell_type": "markdown",
   "metadata": {
    "id": "7QXffbO-_Zcu"
   },
   "source": [
    "Создайте c помощью конструктора `pd.DataFrame` таблицу, где\n",
    "* названия колонок — `['city', 'monday', 'wednesday', 'friday']`;\n",
    "* данные — результаты, которые вы получили с помощью `number_tracks`."
   ]
  },
  {
   "cell_type": "code",
   "execution_count": 28,
   "metadata": {
    "id": "APAcLpOr_Zcu"
   },
   "outputs": [],
   "source": [
    "columns_one = ['city', 'monday', 'wednesday', 'friday']\n",
    "data = [['Moscow', a, c, e],\n",
    "        ['Saint-Peterburg', b, d, f]]\n",
    "\n",
    "number_tracks_city = pd.DataFrame(data=data, columns=columns_one) # Таблица с результатами"
   ]
  },
  {
   "cell_type": "markdown",
   "metadata": {
    "id": "-EgPIHYu_Zcu"
   },
   "source": [
    "**Выводы**\n",
    "\n",
    "Данные показывают разницу поведения пользователей:\n",
    "\n",
    "- В Москве пик прослушиваний приходится на понедельник и пятницу, а в среду заметен спад.\n",
    "- В Петербурге, наоборот, больше слушают музыку по средам. Активность в понедельник и пятницу здесь почти в равной мере уступает среде.\n",
    "\n",
    "Значит, данные говорят в пользу первой гипотезы."
   ]
  },
  {
   "cell_type": "markdown",
   "metadata": {
    "id": "atZAxtq4_Zcu"
   },
   "source": [
    "### Музыка в начале и в конце недели"
   ]
  },
  {
   "cell_type": "markdown",
   "metadata": {
    "id": "eXrQqXFH_Zcu"
   },
   "source": [
    "Согласно второй гипотезе, утром в понедельник в Москве преобладают одни жанры, а в Петербурге — другие. Так же и вечером пятницы преобладают разные жанры — в зависимости от города."
   ]
  },
  {
   "cell_type": "markdown",
   "metadata": {
    "id": "S8UcW6Hw_Zcu"
   },
   "source": [
    "Сохраните таблицы с данными в две переменные:\n",
    "* по Москве — в `moscow_general`;\n",
    "* по Санкт-Петербургу — в `spb_general`."
   ]
  },
  {
   "cell_type": "code",
   "execution_count": 29,
   "metadata": {
    "id": "qeaFfM_P_Zcu"
   },
   "outputs": [
    {
     "data": {
      "text/html": [
       "<div>\n",
       "<style scoped>\n",
       "    .dataframe tbody tr th:only-of-type {\n",
       "        vertical-align: middle;\n",
       "    }\n",
       "\n",
       "    .dataframe tbody tr th {\n",
       "        vertical-align: top;\n",
       "    }\n",
       "\n",
       "    .dataframe thead th {\n",
       "        text-align: right;\n",
       "    }\n",
       "</style>\n",
       "<table border=\"1\" class=\"dataframe\">\n",
       "  <thead>\n",
       "    <tr style=\"text-align: right;\">\n",
       "      <th></th>\n",
       "      <th>user_id</th>\n",
       "      <th>track</th>\n",
       "      <th>artist</th>\n",
       "      <th>genre</th>\n",
       "      <th>city</th>\n",
       "      <th>time</th>\n",
       "      <th>day</th>\n",
       "    </tr>\n",
       "  </thead>\n",
       "  <tbody>\n",
       "    <tr>\n",
       "      <td>1</td>\n",
       "      <td>55204538</td>\n",
       "      <td>Delayed Because of Accident</td>\n",
       "      <td>Andreas Rönnberg</td>\n",
       "      <td>rock</td>\n",
       "      <td>Moscow</td>\n",
       "      <td>14:07:09</td>\n",
       "      <td>Friday</td>\n",
       "    </tr>\n",
       "    <tr>\n",
       "      <td>4</td>\n",
       "      <td>E2DC1FAE</td>\n",
       "      <td>Soul People</td>\n",
       "      <td>Space Echo</td>\n",
       "      <td>dance</td>\n",
       "      <td>Moscow</td>\n",
       "      <td>08:34:34</td>\n",
       "      <td>Monday</td>\n",
       "    </tr>\n",
       "    <tr>\n",
       "      <td>6</td>\n",
       "      <td>4CB90AA5</td>\n",
       "      <td>True</td>\n",
       "      <td>Roman Messer</td>\n",
       "      <td>dance</td>\n",
       "      <td>Moscow</td>\n",
       "      <td>13:00:07</td>\n",
       "      <td>Wednesday</td>\n",
       "    </tr>\n",
       "    <tr>\n",
       "      <td>7</td>\n",
       "      <td>F03E1C1F</td>\n",
       "      <td>Feeling This Way</td>\n",
       "      <td>Polina Griffith</td>\n",
       "      <td>dance</td>\n",
       "      <td>Moscow</td>\n",
       "      <td>20:47:49</td>\n",
       "      <td>Wednesday</td>\n",
       "    </tr>\n",
       "    <tr>\n",
       "      <td>8</td>\n",
       "      <td>8FA1D3BE</td>\n",
       "      <td>И вновь продолжается бой</td>\n",
       "      <td>unknown</td>\n",
       "      <td>ruspop</td>\n",
       "      <td>Moscow</td>\n",
       "      <td>09:17:40</td>\n",
       "      <td>Friday</td>\n",
       "    </tr>\n",
       "    <tr>\n",
       "      <td>...</td>\n",
       "      <td>...</td>\n",
       "      <td>...</td>\n",
       "      <td>...</td>\n",
       "      <td>...</td>\n",
       "      <td>...</td>\n",
       "      <td>...</td>\n",
       "      <td>...</td>\n",
       "    </tr>\n",
       "    <tr>\n",
       "      <td>61247</td>\n",
       "      <td>83A474E7</td>\n",
       "      <td>I Worship Only What You Bleed</td>\n",
       "      <td>The Black Dahlia Murder</td>\n",
       "      <td>extrememetal</td>\n",
       "      <td>Moscow</td>\n",
       "      <td>21:07:12</td>\n",
       "      <td>Monday</td>\n",
       "    </tr>\n",
       "    <tr>\n",
       "      <td>61248</td>\n",
       "      <td>729CBB09</td>\n",
       "      <td>My Name</td>\n",
       "      <td>McLean</td>\n",
       "      <td>rnb</td>\n",
       "      <td>Moscow</td>\n",
       "      <td>13:32:28</td>\n",
       "      <td>Wednesday</td>\n",
       "    </tr>\n",
       "    <tr>\n",
       "      <td>61250</td>\n",
       "      <td>C5E3A0D5</td>\n",
       "      <td>Jalopiina</td>\n",
       "      <td>unknown</td>\n",
       "      <td>industrial</td>\n",
       "      <td>Moscow</td>\n",
       "      <td>20:09:26</td>\n",
       "      <td>Friday</td>\n",
       "    </tr>\n",
       "    <tr>\n",
       "      <td>61251</td>\n",
       "      <td>321D0506</td>\n",
       "      <td>Freight Train</td>\n",
       "      <td>Chas McDevitt</td>\n",
       "      <td>rock</td>\n",
       "      <td>Moscow</td>\n",
       "      <td>21:43:59</td>\n",
       "      <td>Friday</td>\n",
       "    </tr>\n",
       "    <tr>\n",
       "      <td>61252</td>\n",
       "      <td>3A64EF84</td>\n",
       "      <td>Tell Me Sweet Little Lies</td>\n",
       "      <td>Monica Lopez</td>\n",
       "      <td>country</td>\n",
       "      <td>Moscow</td>\n",
       "      <td>21:59:46</td>\n",
       "      <td>Friday</td>\n",
       "    </tr>\n",
       "  </tbody>\n",
       "</table>\n",
       "<p>42741 rows × 7 columns</p>\n",
       "</div>"
      ],
      "text/plain": [
       "        user_id                          track                   artist  \\\n",
       "1      55204538    Delayed Because of Accident         Andreas Rönnberg   \n",
       "4      E2DC1FAE                    Soul People               Space Echo   \n",
       "6      4CB90AA5                           True             Roman Messer   \n",
       "7      F03E1C1F               Feeling This Way          Polina Griffith   \n",
       "8      8FA1D3BE       И вновь продолжается бой                  unknown   \n",
       "...         ...                            ...                      ...   \n",
       "61247  83A474E7  I Worship Only What You Bleed  The Black Dahlia Murder   \n",
       "61248  729CBB09                        My Name                   McLean   \n",
       "61250  C5E3A0D5                      Jalopiina                  unknown   \n",
       "61251  321D0506                  Freight Train            Chas McDevitt   \n",
       "61252  3A64EF84      Tell Me Sweet Little Lies             Monica Lopez   \n",
       "\n",
       "              genre    city      time        day  \n",
       "1              rock  Moscow  14:07:09     Friday  \n",
       "4             dance  Moscow  08:34:34     Monday  \n",
       "6             dance  Moscow  13:00:07  Wednesday  \n",
       "7             dance  Moscow  20:47:49  Wednesday  \n",
       "8            ruspop  Moscow  09:17:40     Friday  \n",
       "...             ...     ...       ...        ...  \n",
       "61247  extrememetal  Moscow  21:07:12     Monday  \n",
       "61248           rnb  Moscow  13:32:28  Wednesday  \n",
       "61250    industrial  Moscow  20:09:26     Friday  \n",
       "61251          rock  Moscow  21:43:59     Friday  \n",
       "61252       country  Moscow  21:59:46     Friday  \n",
       "\n",
       "[42741 rows x 7 columns]"
      ]
     },
     "execution_count": 29,
     "metadata": {},
     "output_type": "execute_result"
    }
   ],
   "source": [
    "moscow_general = df[df['city'] == 'Moscow'] # получение таблицы moscow_general из тех строк таблицы df, \n",
    "# для которых значение в столбце 'city' равно 'Moscow'\n",
    "moscow_general #просмотрим таблицу"
   ]
  },
  {
   "cell_type": "code",
   "execution_count": 30,
   "metadata": {
    "id": "ORaVRKto_Zcu"
   },
   "outputs": [
    {
     "data": {
      "text/html": [
       "<div>\n",
       "<style scoped>\n",
       "    .dataframe tbody tr th:only-of-type {\n",
       "        vertical-align: middle;\n",
       "    }\n",
       "\n",
       "    .dataframe tbody tr th {\n",
       "        vertical-align: top;\n",
       "    }\n",
       "\n",
       "    .dataframe thead th {\n",
       "        text-align: right;\n",
       "    }\n",
       "</style>\n",
       "<table border=\"1\" class=\"dataframe\">\n",
       "  <thead>\n",
       "    <tr style=\"text-align: right;\">\n",
       "      <th></th>\n",
       "      <th>user_id</th>\n",
       "      <th>track</th>\n",
       "      <th>artist</th>\n",
       "      <th>genre</th>\n",
       "      <th>city</th>\n",
       "      <th>time</th>\n",
       "      <th>day</th>\n",
       "    </tr>\n",
       "  </thead>\n",
       "  <tbody>\n",
       "    <tr>\n",
       "      <td>0</td>\n",
       "      <td>FFB692EC</td>\n",
       "      <td>Kamigata To Boots</td>\n",
       "      <td>The Mass Missile</td>\n",
       "      <td>rock</td>\n",
       "      <td>Saint-Petersburg</td>\n",
       "      <td>20:28:33</td>\n",
       "      <td>Wednesday</td>\n",
       "    </tr>\n",
       "    <tr>\n",
       "      <td>2</td>\n",
       "      <td>20EC38</td>\n",
       "      <td>Funiculì funiculà</td>\n",
       "      <td>Mario Lanza</td>\n",
       "      <td>pop</td>\n",
       "      <td>Saint-Petersburg</td>\n",
       "      <td>20:58:07</td>\n",
       "      <td>Wednesday</td>\n",
       "    </tr>\n",
       "    <tr>\n",
       "      <td>3</td>\n",
       "      <td>A3DD03C9</td>\n",
       "      <td>Dragons in the Sunset</td>\n",
       "      <td>Fire + Ice</td>\n",
       "      <td>folk</td>\n",
       "      <td>Saint-Petersburg</td>\n",
       "      <td>08:37:09</td>\n",
       "      <td>Monday</td>\n",
       "    </tr>\n",
       "    <tr>\n",
       "      <td>5</td>\n",
       "      <td>842029A1</td>\n",
       "      <td>Преданная</td>\n",
       "      <td>IMPERVTOR</td>\n",
       "      <td>rusrap</td>\n",
       "      <td>Saint-Petersburg</td>\n",
       "      <td>13:09:41</td>\n",
       "      <td>Friday</td>\n",
       "    </tr>\n",
       "    <tr>\n",
       "      <td>9</td>\n",
       "      <td>E772D5C0</td>\n",
       "      <td>Pessimist</td>\n",
       "      <td>unknown</td>\n",
       "      <td>dance</td>\n",
       "      <td>Saint-Petersburg</td>\n",
       "      <td>21:20:49</td>\n",
       "      <td>Wednesday</td>\n",
       "    </tr>\n",
       "    <tr>\n",
       "      <td>...</td>\n",
       "      <td>...</td>\n",
       "      <td>...</td>\n",
       "      <td>...</td>\n",
       "      <td>...</td>\n",
       "      <td>...</td>\n",
       "      <td>...</td>\n",
       "      <td>...</td>\n",
       "    </tr>\n",
       "    <tr>\n",
       "      <td>61239</td>\n",
       "      <td>D94F810B</td>\n",
       "      <td>Theme from the Walking Dead</td>\n",
       "      <td>Proyecto Halloween</td>\n",
       "      <td>film</td>\n",
       "      <td>Saint-Petersburg</td>\n",
       "      <td>21:14:40</td>\n",
       "      <td>Monday</td>\n",
       "    </tr>\n",
       "    <tr>\n",
       "      <td>61240</td>\n",
       "      <td>BC8EC5CF</td>\n",
       "      <td>Red Lips: Gta (Rover Rework)</td>\n",
       "      <td>Rover</td>\n",
       "      <td>electronic</td>\n",
       "      <td>Saint-Petersburg</td>\n",
       "      <td>21:06:50</td>\n",
       "      <td>Monday</td>\n",
       "    </tr>\n",
       "    <tr>\n",
       "      <td>61241</td>\n",
       "      <td>29E04611</td>\n",
       "      <td>Bre Petrunko</td>\n",
       "      <td>Perunika Trio</td>\n",
       "      <td>world</td>\n",
       "      <td>Saint-Petersburg</td>\n",
       "      <td>13:56:00</td>\n",
       "      <td>Monday</td>\n",
       "    </tr>\n",
       "    <tr>\n",
       "      <td>61242</td>\n",
       "      <td>1B91C621</td>\n",
       "      <td>(Hello) Cloud Mountain</td>\n",
       "      <td>sleepmakeswaves</td>\n",
       "      <td>postrock</td>\n",
       "      <td>Saint-Petersburg</td>\n",
       "      <td>09:22:13</td>\n",
       "      <td>Monday</td>\n",
       "    </tr>\n",
       "    <tr>\n",
       "      <td>61249</td>\n",
       "      <td>D08D4A55</td>\n",
       "      <td>Maybe One Day (feat. Black Spade)</td>\n",
       "      <td>Blu &amp; Exile</td>\n",
       "      <td>hiphop</td>\n",
       "      <td>Saint-Petersburg</td>\n",
       "      <td>10:00:00</td>\n",
       "      <td>Monday</td>\n",
       "    </tr>\n",
       "  </tbody>\n",
       "</table>\n",
       "<p>18512 rows × 7 columns</p>\n",
       "</div>"
      ],
      "text/plain": [
       "        user_id                              track              artist  \\\n",
       "0      FFB692EC                  Kamigata To Boots    The Mass Missile   \n",
       "2        20EC38                  Funiculì funiculà         Mario Lanza   \n",
       "3      A3DD03C9              Dragons in the Sunset          Fire + Ice   \n",
       "5      842029A1                          Преданная           IMPERVTOR   \n",
       "9      E772D5C0                          Pessimist             unknown   \n",
       "...         ...                                ...                 ...   \n",
       "61239  D94F810B        Theme from the Walking Dead  Proyecto Halloween   \n",
       "61240  BC8EC5CF       Red Lips: Gta (Rover Rework)               Rover   \n",
       "61241  29E04611                       Bre Petrunko       Perunika Trio   \n",
       "61242  1B91C621             (Hello) Cloud Mountain     sleepmakeswaves   \n",
       "61249  D08D4A55  Maybe One Day (feat. Black Spade)         Blu & Exile   \n",
       "\n",
       "            genre              city      time        day  \n",
       "0            rock  Saint-Petersburg  20:28:33  Wednesday  \n",
       "2             pop  Saint-Petersburg  20:58:07  Wednesday  \n",
       "3            folk  Saint-Petersburg  08:37:09     Monday  \n",
       "5          rusrap  Saint-Petersburg  13:09:41     Friday  \n",
       "9           dance  Saint-Petersburg  21:20:49  Wednesday  \n",
       "...           ...               ...       ...        ...  \n",
       "61239        film  Saint-Petersburg  21:14:40     Monday  \n",
       "61240  electronic  Saint-Petersburg  21:06:50     Monday  \n",
       "61241       world  Saint-Petersburg  13:56:00     Monday  \n",
       "61242    postrock  Saint-Petersburg  09:22:13     Monday  \n",
       "61249      hiphop  Saint-Petersburg  10:00:00     Monday  \n",
       "\n",
       "[18512 rows x 7 columns]"
      ]
     },
     "execution_count": 30,
     "metadata": {},
     "output_type": "execute_result"
    }
   ],
   "source": [
    "spb_general = df[df['city'] == 'Saint-Petersburg'] # получение таблицы spb_general из тех строк таблицы df,\n",
    "# для которых значение в столбце 'city' равно 'Saint-Petersburg'\n",
    "spb_general #просмотрим таблицу"
   ]
  },
  {
   "cell_type": "markdown",
   "metadata": {
    "id": "MEJV-CX2_Zcu"
   },
   "source": [
    "Создайте функцию `genre_weekday()` с четырьмя параметрами:\n",
    "* таблица (датафрейм) с данными,\n",
    "* день недели,\n",
    "* начальная временная метка в формате 'hh:mm', \n",
    "* последняя временная метка в формате 'hh:mm'.\n",
    "\n",
    "Функция должна вернуть информацию о топ-10 жанров тех треков, которые прослушивали в указанный день, в промежутке между двумя отметками времени."
   ]
  },
  {
   "cell_type": "code",
   "execution_count": 31,
   "metadata": {
    "id": "laJT9BYl_Zcu"
   },
   "outputs": [],
   "source": [
    "def genre_weekday(table, day, time1, time2):\n",
    "    genre_df = table[table['day'] == day]\n",
    "    genre_df = genre_df[genre_df['time'] >= time1]\n",
    "    genre_df = genre_df[genre_df['time'] <= time2]\n",
    "    genre_df_count = genre_df.groupby('genre')['genre'].count()\n",
    "    genre_df_sorted = genre_df_count.sort_values(ascending=False)\n",
    "    return genre_df_sorted[:10]\n",
    "      \n",
    "\n",
    "# Объявление функции genre_weekday() с параметрами table, day, time1, time2,\n",
    "# которая возвращает информацию о самых популярных жанрах в указанный день в\n",
    "# заданное время:\n",
    "# 1) в переменную genre_df сохраняются те строки переданного датафрейма table, для\n",
    "#    которых одновременно:\n",
    "#    - значение в столбце day равно значению аргумента day\n",
    "#    - значение в столбце time больше значения аргумента time1\n",
    "#    - значение в столбце time меньше значения аргумента time2\n",
    "#    Используйте последовательную фильтрацию с помощью логической индексации.\n",
    "# 2) сгруппировать датафрейм genre_df по столбцу genre, взять один из его\n",
    "#    столбцов и посчитать методом count() количество записей для каждого из\n",
    "#    присутствующих жанров, получившийся Series записать в переменную\n",
    "#    genre_df_count\n",
    "# 3) отсортировать genre_df_count по убыванию встречаемости и сохранить\n",
    "#    в переменную genre_df_sorted\n",
    "# 4) вернуть Series из 10 первых значений genre_df_sorted, это будут топ-10\n",
    "#    популярных жанров (в указанный день, в заданное время)"
   ]
  },
  {
   "cell_type": "markdown",
   "metadata": {
    "id": "la2s2_PF_Zcu"
   },
   "source": [
    "Cравните результаты функции `genre_weekday()` для Москвы и Санкт-Петербурга в понедельник утром (с 7:00 до 11:00) и в пятницу вечером (с 17:00 до 23:00):"
   ]
  },
  {
   "cell_type": "code",
   "execution_count": 32,
   "metadata": {
    "id": "yz7itPUQ_Zcu"
   },
   "outputs": [
    {
     "data": {
      "text/plain": [
       "genre\n",
       "pop            781\n",
       "dance          549\n",
       "electronic     480\n",
       "rock           474\n",
       "hiphop         286\n",
       "ruspop         186\n",
       "world          181\n",
       "rusrap         175\n",
       "alternative    164\n",
       "unknown        161\n",
       "Name: genre, dtype: int64"
      ]
     },
     "execution_count": 32,
     "metadata": {},
     "output_type": "execute_result"
    }
   ],
   "source": [
    "genre_weekday(moscow_general, 'Monday', '07:00', '11:00')\n",
    "# вызов функции для утра понедельника в Москве (вместо df — таблица moscow_general)\n",
    "# объекты, хранящие время, являются строками и сравниваются как строки\n",
    "# пример вызова: genre_weekday(moscow_general, 'Monday', '07:00', '11:00')"
   ]
  },
  {
   "cell_type": "code",
   "execution_count": 33,
   "metadata": {
    "id": "kwUcHPdy_Zcu"
   },
   "outputs": [
    {
     "data": {
      "text/plain": [
       "genre\n",
       "pop            218\n",
       "dance          182\n",
       "rock           162\n",
       "electronic     147\n",
       "hiphop          80\n",
       "ruspop          64\n",
       "alternative     58\n",
       "rusrap          55\n",
       "jazz            44\n",
       "classical       40\n",
       "Name: genre, dtype: int64"
      ]
     },
     "execution_count": 33,
     "metadata": {},
     "output_type": "execute_result"
    }
   ],
   "source": [
    "genre_weekday(spb_general, 'Monday', '07:00', '11:00')# вызов функции для утра понедельника в Петербурге (вместо df — таблица spb_general)"
   ]
  },
  {
   "cell_type": "code",
   "execution_count": 34,
   "metadata": {
    "id": "EzXVRE1o_Zcu"
   },
   "outputs": [
    {
     "data": {
      "text/plain": [
       "genre\n",
       "pop            717\n",
       "dance          524\n",
       "rock           518\n",
       "electronic     485\n",
       "hiphop         238\n",
       "alternative    182\n",
       "world          172\n",
       "classical      172\n",
       "ruspop         149\n",
       "rusrap         133\n",
       "Name: genre, dtype: int64"
      ]
     },
     "execution_count": 34,
     "metadata": {},
     "output_type": "execute_result"
    }
   ],
   "source": [
    "genre_weekday(moscow_general, 'Monday', '17:00', '23:00')# вызов функции для вечера пятницы в Москве"
   ]
  },
  {
   "cell_type": "code",
   "execution_count": 35,
   "metadata": {
    "id": "JZaEKu5v_Zcu"
   },
   "outputs": [
    {
     "data": {
      "text/plain": [
       "genre\n",
       "pop            263\n",
       "rock           208\n",
       "electronic     192\n",
       "dance          191\n",
       "hiphop         104\n",
       "alternative     72\n",
       "classical       71\n",
       "jazz            57\n",
       "rusrap          54\n",
       "ruspop          53\n",
       "Name: genre, dtype: int64"
      ]
     },
     "execution_count": 35,
     "metadata": {},
     "output_type": "execute_result"
    }
   ],
   "source": [
    "genre_weekday(spb_general, 'Monday', '17:00', '23:00')# вызов функции для вечера пятницы в Петербурге"
   ]
  },
  {
   "cell_type": "markdown",
   "metadata": {
    "id": "wrCe4MNX_Zcu"
   },
   "source": [
    "**Выводы**\n",
    "\n",
    "Если сравнить топ-10 жанров в понедельник утром, можно сделать такие выводы:\n",
    "\n",
    "1. В Москве и Петербурге слушают похожую музыку. Единственное отличие — в московский рейтинг вошёл жанр “world”, а в петербургский — джаз и классика.\n",
    "\n",
    "2. В Москве пропущенных значений оказалось так много, что значение `'unknown'` заняло десятое место среди самых популярных жанров. Значит, пропущенные значения занимают существенную долю в данных и угрожают достоверности исследования.\n",
    "\n",
    "Вечер пятницы не меняет эту картину. Некоторые жанры поднимаются немного выше, другие спускаются, но в целом топ-10 остаётся тем же самым.\n",
    "\n",
    "Таким образом, вторая гипотеза подтвердилась лишь частично:\n",
    "* Пользователи слушают похожую музыку в начале недели и в конце.\n",
    "* Разница между Москвой и Петербургом не слишком выражена. В Москве чаще слушают русскую популярную музыку, в Петербурге — джаз.\n",
    "\n",
    "Однако пропуски в данных ставят под сомнение этот результат. В Москве их так много, что рейтинг топ-10 мог бы выглядеть иначе, если бы не утерянные  данные о жанрах."
   ]
  },
  {
   "cell_type": "markdown",
   "metadata": {
    "id": "JolODAqr_Zcu"
   },
   "source": [
    "### Жанровые предпочтения в Москве и Петербурге\n",
    "\n",
    "Гипотеза: Петербург — столица рэпа, музыку этого жанра там слушают чаще, чем в Москве.  А Москва — город контрастов, в котором, тем не менее, преобладает поп-музыка."
   ]
  },
  {
   "cell_type": "markdown",
   "metadata": {
    "id": "DlegSvaT_Zcu"
   },
   "source": [
    "Сгруппируйте таблицу `moscow_general` по жанру и посчитайте прослушивания треков каждого жанра методом `count()`. Затем отсортируйте результат в порядке убывания и сохраните его в таблице `moscow_genres`."
   ]
  },
  {
   "cell_type": "code",
   "execution_count": 36,
   "metadata": {
    "id": "r19lIPke_Zcu"
   },
   "outputs": [],
   "source": [
    "moscow_genres = moscow_general.groupby('genre')['genre'].count().sort_values(ascending=False)\n",
    "# одной строкой: группировка таблицы moscow_general по столбцу 'genre', \n",
    "# подсчёт числа значений 'genre' в этой группировке методом count(), \n",
    "# сортировка получившегося Series в порядке убывания и сохранение в moscow_genres"
   ]
  },
  {
   "cell_type": "markdown",
   "metadata": {
    "id": "6kMuomxTiIr8"
   },
   "source": [
    "Выведите на экран первые десять строк `moscow_genres`:"
   ]
  },
  {
   "cell_type": "code",
   "execution_count": 37,
   "metadata": {
    "id": "WhCSooF8_Zcv"
   },
   "outputs": [
    {
     "data": {
      "text/plain": [
       "genre\n",
       "pop            5892\n",
       "dance          4435\n",
       "rock           3965\n",
       "electronic     3786\n",
       "hiphop         2096\n",
       "classical      1616\n",
       "world          1432\n",
       "alternative    1379\n",
       "ruspop         1372\n",
       "rusrap         1161\n",
       "Name: genre, dtype: int64"
      ]
     },
     "execution_count": 37,
     "metadata": {},
     "output_type": "execute_result"
    }
   ],
   "source": [
    "moscow_genres.head(10) # просмотр первых 10 строк moscow_genres"
   ]
  },
  {
   "cell_type": "markdown",
   "metadata": {
    "id": "cnPG2vnN_Zcv"
   },
   "source": [
    "Теперь повторите то же и для Петербурга.\n",
    "\n",
    "Сгруппируйте таблицу `spb_general` по жанру. Посчитайте прослушивания треков каждого жанра. Результат отсортируйте в порядке убывания и сохраните в таблице `spb_genres`:\n"
   ]
  },
  {
   "cell_type": "code",
   "execution_count": 38,
   "metadata": {
    "id": "gluLIpE7_Zcv"
   },
   "outputs": [],
   "source": [
    "spb_genres = spb_general.groupby('genre')['genre'].count().sort_values(ascending=False)\n",
    "# одной строкой: группировка таблицы spb_general по столбцу 'genre', \n",
    "# подсчёт числа значений 'genre' в этой группировке методом count(), \n",
    "# сортировка получившегося Series в порядке убывания и сохранение в spb_genres"
   ]
  },
  {
   "cell_type": "markdown",
   "metadata": {
    "id": "5Doha_ODgyQ8"
   },
   "source": [
    "Выведите на экран первые десять строк `spb_genres`:"
   ]
  },
  {
   "cell_type": "code",
   "execution_count": 39,
   "metadata": {
    "id": "uaGJHjVU_Zcv"
   },
   "outputs": [
    {
     "data": {
      "text/plain": [
       "genre\n",
       "pop            2431\n",
       "dance          1932\n",
       "rock           1879\n",
       "electronic     1736\n",
       "hiphop          960\n",
       "alternative     649\n",
       "classical       646\n",
       "rusrap          564\n",
       "ruspop          538\n",
       "world           515\n",
       "Name: genre, dtype: int64"
      ]
     },
     "execution_count": 39,
     "metadata": {},
     "output_type": "execute_result"
    }
   ],
   "source": [
    "spb_genres.head(10) # просмотр первых 10 строк spb_genres"
   ]
  },
  {
   "cell_type": "markdown",
   "metadata": {
    "id": "RY51YJYu_Zcv"
   },
   "source": [
    "**Выводы**"
   ]
  },
  {
   "cell_type": "markdown",
   "metadata": {
    "id": "nVhnJEm__Zcv"
   },
   "source": [
    "Гипотеза частично подтвердилась:\n",
    "* Поп-музыка — самый популярный жанр в Москве, как и предполагала гипотеза. Более того, в топ-10 жанров встречается близкий жанр — русская популярная музыка.\n",
    "* Вопреки ожиданиям, рэп одинаково популярен в Москве и Петербурге. \n"
   ]
  },
  {
   "cell_type": "markdown",
   "metadata": {
    "id": "ykKQ0N65_Zcv"
   },
   "source": [
    "## Итоги исследования"
   ]
  },
  {
   "cell_type": "markdown",
   "metadata": {
    "id": "tjUwbHb3_Zcv"
   },
   "source": [
    "Вы проверили три гипотезы и установили:\n",
    "\n",
    "1. День недели по-разному влияет на активность пользователей в Москве и Петербурге. \n",
    "\n",
    "Первая гипотеза полностью подтвердилась.\n",
    "\n",
    "2. Музыкальные предпочтения не сильно меняются в течение недели — будь то Москва или Петербург. Небольшие различия заметны в начале недели, по понедельникам:\n",
    "* в Москве слушают музыку жанра “world”,\n",
    "* в Петербурге — джаз и классику.\n",
    "\n",
    "Таким образом, вторая гипотеза подтвердилась лишь отчасти. Этот результат мог оказаться иным, если бы не пропуски в данных.\n",
    "\n",
    "3. Во вкусах пользователей Москвы и Петербурга больше общего чем различий. Вопреки ожиданиям, предпочтения жанров в Петербурге напоминают московские.\n",
    "\n",
    "Третья гипотеза не подтвердилась. Если различия в предпочтениях и существуют, на основной массе пользователей они незаметны.\n",
    "\n",
    "**На практике исследования содержат проверки статистических гипотез.**\n",
    "Из данных одного сервиса не всегда можно сделать вывод о всех жителях города.\n",
    "Проверки статистических гипотез покажут, насколько они достоверны, исходя из имеющихся данных. \n",
    "С методами проверок гипотез вы ещё познакомитесь в следующих темах."
   ]
  }
 ],
 "metadata": {
  "ExecuteTimeLog": [
   {
    "duration": 427,
    "start_time": "2022-02-21T16:15:50.018Z"
   },
   {
    "duration": 772,
    "start_time": "2022-02-21T16:16:15.370Z"
   },
   {
    "duration": 2704,
    "start_time": "2022-02-21T16:16:18.890Z"
   },
   {
    "duration": 121,
    "start_time": "2022-02-21T16:16:58.885Z"
   },
   {
    "duration": 141,
    "start_time": "2022-02-21T16:17:12.594Z"
   },
   {
    "duration": 372,
    "start_time": "2022-02-21T16:17:38.267Z"
   },
   {
    "duration": 4,
    "start_time": "2022-02-21T16:18:26.038Z"
   },
   {
    "duration": 165,
    "start_time": "2022-02-21T16:18:28.832Z"
   },
   {
    "duration": 310,
    "start_time": "2022-02-21T16:18:33.558Z"
   },
   {
    "duration": 550,
    "start_time": "2022-02-21T16:18:41.701Z"
   },
   {
    "duration": 289,
    "start_time": "2022-02-21T16:20:51.874Z"
   },
   {
    "duration": 279,
    "start_time": "2022-02-21T16:20:59.724Z"
   },
   {
    "duration": 1986,
    "start_time": "2022-02-21T16:23:16.339Z"
   },
   {
    "duration": 92,
    "start_time": "2022-02-21T16:26:06.404Z"
   },
   {
    "duration": 716,
    "start_time": "2022-02-21T16:26:25.064Z"
   },
   {
    "duration": 2002,
    "start_time": "2022-02-21T16:27:27.929Z"
   },
   {
    "duration": 1894,
    "start_time": "2022-02-21T16:29:52.786Z"
   },
   {
    "duration": 2377,
    "start_time": "2022-02-21T16:30:10.069Z"
   },
   {
    "duration": 2093,
    "start_time": "2022-02-21T16:30:22.488Z"
   },
   {
    "duration": 107,
    "start_time": "2022-02-21T16:30:56.023Z"
   },
   {
    "duration": 181,
    "start_time": "2022-02-21T16:31:12.330Z"
   },
   {
    "duration": 26,
    "start_time": "2022-02-21T16:31:18.980Z"
   },
   {
    "duration": 34,
    "start_time": "2022-02-21T16:31:26.674Z"
   },
   {
    "duration": 341,
    "start_time": "2022-02-21T16:39:22.630Z"
   },
   {
    "duration": 7,
    "start_time": "2022-02-21T16:39:58.543Z"
   },
   {
    "duration": 26,
    "start_time": "2022-02-21T16:47:28.826Z"
   },
   {
    "duration": 430,
    "start_time": "2022-02-21T16:47:32.106Z"
   },
   {
    "duration": 6,
    "start_time": "2022-02-21T16:47:59.510Z"
   },
   {
    "duration": 6,
    "start_time": "2022-02-21T16:48:28.916Z"
   },
   {
    "duration": 28,
    "start_time": "2022-02-21T16:48:35.757Z"
   },
   {
    "duration": 6,
    "start_time": "2022-02-21T16:48:36.963Z"
   },
   {
    "duration": 33,
    "start_time": "2022-02-21T16:50:37.687Z"
   },
   {
    "duration": -4189,
    "start_time": "2022-02-21T17:06:19.596Z"
   },
   {
    "duration": 32,
    "start_time": "2022-02-21T17:06:33.120Z"
   },
   {
    "duration": 527,
    "start_time": "2022-02-21T17:08:31.964Z"
   },
   {
    "duration": 265,
    "start_time": "2022-02-21T17:13:23.575Z"
   },
   {
    "duration": 270,
    "start_time": "2022-02-21T17:13:43.399Z"
   },
   {
    "duration": 518,
    "start_time": "2022-02-21T17:14:50.809Z"
   },
   {
    "duration": 7492,
    "start_time": "2022-02-21T17:15:50.389Z"
   },
   {
    "duration": -4225,
    "start_time": "2022-02-21T17:16:02.112Z"
   },
   {
    "duration": 280,
    "start_time": "2022-02-21T17:19:03.935Z"
   },
   {
    "duration": 414,
    "start_time": "2022-02-21T17:19:15.603Z"
   },
   {
    "duration": 279,
    "start_time": "2022-02-21T17:19:21.178Z"
   },
   {
    "duration": 266,
    "start_time": "2022-02-21T17:35:12.714Z"
   },
   {
    "duration": 267,
    "start_time": "2022-02-21T17:38:20.493Z"
   },
   {
    "duration": 1042,
    "start_time": "2022-02-21T17:38:29.299Z"
   },
   {
    "duration": 1237,
    "start_time": "2022-02-21T17:38:36.148Z"
   },
   {
    "duration": 32,
    "start_time": "2022-02-21T17:38:38.372Z"
   },
   {
    "duration": 20,
    "start_time": "2022-02-21T17:40:56.492Z"
   },
   {
    "duration": 32,
    "start_time": "2022-02-21T17:40:58.499Z"
   },
   {
    "duration": 32,
    "start_time": "2022-02-21T17:41:00.610Z"
   },
   {
    "duration": 7166,
    "start_time": "2022-02-21T17:49:33.702Z"
   },
   {
    "duration": -4329,
    "start_time": "2022-02-21T17:49:45.199Z"
   },
   {
    "duration": -4302,
    "start_time": "2022-02-21T17:50:40.303Z"
   },
   {
    "duration": 31,
    "start_time": "2022-02-21T17:50:36.992Z"
   },
   {
    "duration": 7087,
    "start_time": "2022-02-21T17:50:55.648Z"
   },
   {
    "duration": -4314,
    "start_time": "2022-02-21T17:51:07.053Z"
   },
   {
    "duration": 8346,
    "start_time": "2022-02-21T17:52:41.907Z"
   },
   {
    "duration": -4326,
    "start_time": "2022-02-21T17:52:54.582Z"
   },
   {
    "duration": 36,
    "start_time": "2022-02-21T17:55:25.339Z"
   },
   {
    "duration": 32,
    "start_time": "2022-02-21T17:55:29.477Z"
   },
   {
    "duration": 22,
    "start_time": "2022-02-21T17:55:53.200Z"
   },
   {
    "duration": 32,
    "start_time": "2022-02-21T17:55:55.186Z"
   },
   {
    "duration": 90,
    "start_time": "2022-02-21T17:56:55.462Z"
   },
   {
    "duration": 78,
    "start_time": "2022-02-21T17:57:12.492Z"
   },
   {
    "duration": 103,
    "start_time": "2022-02-21T17:58:24.267Z"
   },
   {
    "duration": 351,
    "start_time": "2022-02-21T17:58:52.295Z"
   },
   {
    "duration": 78,
    "start_time": "2022-02-21T17:58:57.455Z"
   },
   {
    "duration": 91,
    "start_time": "2022-02-21T17:59:29.905Z"
   },
   {
    "duration": 88,
    "start_time": "2022-02-21T17:59:32.702Z"
   },
   {
    "duration": 76,
    "start_time": "2022-02-21T17:59:33.837Z"
   },
   {
    "duration": 87,
    "start_time": "2022-02-21T18:00:01.133Z"
   },
   {
    "duration": 102,
    "start_time": "2022-02-21T18:00:04.489Z"
   },
   {
    "duration": 77,
    "start_time": "2022-02-21T18:00:08.075Z"
   },
   {
    "duration": 107,
    "start_time": "2022-02-21T18:00:10.501Z"
   },
   {
    "duration": 82,
    "start_time": "2022-02-21T18:00:11.699Z"
   },
   {
    "duration": 7,
    "start_time": "2022-02-21T18:05:29.101Z"
   },
   {
    "duration": 8,
    "start_time": "2022-02-21T18:12:25.132Z"
   },
   {
    "duration": 7,
    "start_time": "2022-02-21T18:12:30.632Z"
   },
   {
    "duration": 91,
    "start_time": "2022-02-21T18:21:24.845Z"
   },
   {
    "duration": 5,
    "start_time": "2022-02-21T18:21:34.733Z"
   },
   {
    "duration": 4,
    "start_time": "2022-02-21T18:24:18.826Z"
   },
   {
    "duration": 551,
    "start_time": "2022-02-21T18:25:11.595Z"
   },
   {
    "duration": 4,
    "start_time": "2022-02-21T18:27:15.174Z"
   },
   {
    "duration": 5,
    "start_time": "2022-02-21T18:27:18.783Z"
   },
   {
    "duration": 605,
    "start_time": "2022-02-21T18:27:22.026Z"
   },
   {
    "duration": 5,
    "start_time": "2022-02-21T18:37:13.701Z"
   },
   {
    "duration": 589,
    "start_time": "2022-02-21T18:37:16.656Z"
   },
   {
    "duration": 524,
    "start_time": "2022-02-21T18:38:12.781Z"
   },
   {
    "duration": 5,
    "start_time": "2022-02-21T18:38:16.749Z"
   },
   {
    "duration": 505,
    "start_time": "2022-02-21T18:38:17.998Z"
   },
   {
    "duration": 6,
    "start_time": "2022-02-21T18:38:58.920Z"
   },
   {
    "duration": 90,
    "start_time": "2022-02-21T18:38:59.843Z"
   },
   {
    "duration": 66,
    "start_time": "2022-02-21T18:41:17.636Z"
   },
   {
    "duration": 71,
    "start_time": "2022-02-21T18:41:32.237Z"
   },
   {
    "duration": 70,
    "start_time": "2022-02-21T18:41:42.254Z"
   },
   {
    "duration": 54,
    "start_time": "2022-02-21T18:42:45.281Z"
   },
   {
    "duration": 50,
    "start_time": "2022-02-21T18:42:46.745Z"
   },
   {
    "duration": 387,
    "start_time": "2022-02-21T18:43:08.800Z"
   },
   {
    "duration": 57,
    "start_time": "2022-02-21T18:43:44.102Z"
   },
   {
    "duration": 30,
    "start_time": "2022-02-21T18:45:01.283Z"
   },
   {
    "duration": 8,
    "start_time": "2022-02-21T18:46:13.439Z"
   },
   {
    "duration": 10,
    "start_time": "2022-02-21T18:46:31.485Z"
   },
   {
    "duration": 6,
    "start_time": "2022-02-21T18:51:53.273Z"
   },
   {
    "duration": 549,
    "start_time": "2022-02-21T18:51:55.086Z"
   },
   {
    "duration": 5,
    "start_time": "2022-02-21T18:53:51.650Z"
   },
   {
    "duration": 5,
    "start_time": "2022-02-21T18:54:08.870Z"
   },
   {
    "duration": 711,
    "start_time": "2022-02-21T18:54:10.105Z"
   },
   {
    "duration": 5,
    "start_time": "2022-02-21T18:55:19.628Z"
   },
   {
    "duration": 557,
    "start_time": "2022-02-21T18:55:21.365Z"
   },
   {
    "duration": 5,
    "start_time": "2022-02-21T18:55:45.400Z"
   },
   {
    "duration": 15,
    "start_time": "2022-02-21T18:55:46.314Z"
   },
   {
    "duration": 4,
    "start_time": "2022-02-21T18:59:36.456Z"
   },
   {
    "duration": 13,
    "start_time": "2022-02-21T18:59:37.359Z"
   },
   {
    "duration": 5,
    "start_time": "2022-02-21T18:59:57.040Z"
   },
   {
    "duration": 12,
    "start_time": "2022-02-21T18:59:59.302Z"
   },
   {
    "duration": 5,
    "start_time": "2022-02-21T19:08:16.998Z"
   },
   {
    "duration": 9,
    "start_time": "2022-02-21T19:08:18.200Z"
   },
   {
    "duration": 10,
    "start_time": "2022-02-21T19:08:20.711Z"
   },
   {
    "duration": 13,
    "start_time": "2022-02-21T19:08:22.232Z"
   },
   {
    "duration": 10,
    "start_time": "2022-02-21T19:08:24.231Z"
   },
   {
    "duration": 5,
    "start_time": "2022-02-21T19:13:45.233Z"
   },
   {
    "duration": 11,
    "start_time": "2022-02-21T19:13:48.095Z"
   },
   {
    "duration": 5,
    "start_time": "2022-02-22T05:22:25.042Z"
   },
   {
    "duration": 10,
    "start_time": "2022-02-22T05:22:28.825Z"
   },
   {
    "duration": 4,
    "start_time": "2022-02-22T05:22:37.723Z"
   },
   {
    "duration": 5,
    "start_time": "2022-02-22T05:24:19.020Z"
   },
   {
    "duration": 841,
    "start_time": "2022-02-22T05:24:20.965Z"
   },
   {
    "duration": 10,
    "start_time": "2022-02-22T05:24:22.388Z"
   },
   {
    "duration": 5,
    "start_time": "2022-02-22T05:24:38.844Z"
   },
   {
    "duration": 10,
    "start_time": "2022-02-22T05:24:40.099Z"
   },
   {
    "duration": 14,
    "start_time": "2022-02-22T05:24:42.269Z"
   },
   {
    "duration": 5,
    "start_time": "2022-02-22T05:26:58.125Z"
   },
   {
    "duration": 550,
    "start_time": "2022-02-22T05:26:59.652Z"
   },
   {
    "duration": 4,
    "start_time": "2022-02-22T05:27:12.524Z"
   },
   {
    "duration": 9,
    "start_time": "2022-02-22T05:27:14.662Z"
   },
   {
    "duration": 10,
    "start_time": "2022-02-22T05:27:17.724Z"
   },
   {
    "duration": 211,
    "start_time": "2022-02-22T07:57:30.438Z"
   },
   {
    "duration": 5,
    "start_time": "2022-02-22T07:57:37.147Z"
   },
   {
    "duration": 9,
    "start_time": "2022-02-22T07:57:41.916Z"
   },
   {
    "duration": 11,
    "start_time": "2022-02-22T07:57:51.754Z"
   },
   {
    "duration": 10,
    "start_time": "2022-02-22T07:59:01.527Z"
   },
   {
    "duration": 10,
    "start_time": "2022-02-22T07:59:40.945Z"
   },
   {
    "duration": 10,
    "start_time": "2022-02-22T07:59:58.716Z"
   },
   {
    "duration": 10,
    "start_time": "2022-02-22T08:03:34.001Z"
   },
   {
    "duration": 11,
    "start_time": "2022-02-22T08:07:56.982Z"
   },
   {
    "duration": 282,
    "start_time": "2022-02-22T08:07:59.540Z"
   },
   {
    "duration": 637,
    "start_time": "2022-02-22T08:08:13.422Z"
   },
   {
    "duration": 627,
    "start_time": "2022-02-22T08:08:17.804Z"
   },
   {
    "duration": 5,
    "start_time": "2022-02-22T08:08:22.499Z"
   },
   {
    "duration": 577,
    "start_time": "2022-02-22T08:08:24.179Z"
   },
   {
    "duration": 4,
    "start_time": "2022-02-22T08:08:45.780Z"
   },
   {
    "duration": 871,
    "start_time": "2022-02-22T08:09:06.640Z"
   },
   {
    "duration": 658,
    "start_time": "2022-02-22T08:09:32.504Z"
   },
   {
    "duration": 9,
    "start_time": "2022-02-22T08:09:41.040Z"
   },
   {
    "duration": 575,
    "start_time": "2022-02-22T08:09:57.695Z"
   },
   {
    "duration": 621,
    "start_time": "2022-02-22T08:10:01.070Z"
   },
   {
    "duration": 5,
    "start_time": "2022-02-22T08:50:30.203Z"
   },
   {
    "duration": 4,
    "start_time": "2022-02-22T08:50:31.673Z"
   },
   {
    "duration": 5,
    "start_time": "2022-02-22T08:50:32.384Z"
   },
   {
    "duration": 5,
    "start_time": "2022-02-22T08:50:33.278Z"
   },
   {
    "duration": 4,
    "start_time": "2022-02-22T08:50:33.567Z"
   },
   {
    "duration": 5,
    "start_time": "2022-02-22T08:50:33.807Z"
   },
   {
    "duration": 5,
    "start_time": "2022-02-22T08:50:33.999Z"
   },
   {
    "duration": 382,
    "start_time": "2022-02-22T15:05:36.022Z"
   },
   {
    "duration": 487,
    "start_time": "2022-02-22T15:05:49.333Z"
   },
   {
    "duration": 299,
    "start_time": "2022-02-22T15:05:54.757Z"
   },
   {
    "duration": 307,
    "start_time": "2022-02-22T15:06:01.680Z"
   },
   {
    "duration": 3,
    "start_time": "2022-02-22T15:06:18.725Z"
   },
   {
    "duration": 249,
    "start_time": "2022-02-22T15:06:21.468Z"
   },
   {
    "duration": 17,
    "start_time": "2022-02-22T15:06:24.071Z"
   },
   {
    "duration": 32,
    "start_time": "2022-02-22T15:06:27.750Z"
   },
   {
    "duration": 8,
    "start_time": "2022-02-22T15:06:32.948Z"
   },
   {
    "duration": 29,
    "start_time": "2022-02-22T15:06:34.755Z"
   },
   {
    "duration": 7,
    "start_time": "2022-02-22T15:06:36.555Z"
   },
   {
    "duration": 31,
    "start_time": "2022-02-22T15:06:38.115Z"
   },
   {
    "duration": 36,
    "start_time": "2022-02-22T15:06:41.476Z"
   },
   {
    "duration": 31,
    "start_time": "2022-02-22T15:06:43.043Z"
   },
   {
    "duration": 109,
    "start_time": "2022-02-22T15:06:45.074Z"
   },
   {
    "duration": 105,
    "start_time": "2022-02-22T15:06:49.106Z"
   },
   {
    "duration": 124,
    "start_time": "2022-02-22T15:06:51.362Z"
   },
   {
    "duration": 8,
    "start_time": "2022-02-22T15:06:55.800Z"
   },
   {
    "duration": 5,
    "start_time": "2022-02-22T15:07:02.300Z"
   },
   {
    "duration": 10,
    "start_time": "2022-02-22T15:07:04.197Z"
   },
   {
    "duration": 10,
    "start_time": "2022-02-22T15:07:06.657Z"
   },
   {
    "duration": 12,
    "start_time": "2022-02-22T15:07:47.816Z"
   },
   {
    "duration": 310,
    "start_time": "2022-02-22T15:12:19.377Z"
   },
   {
    "duration": 39,
    "start_time": "2022-02-22T15:13:16.081Z"
   },
   {
    "duration": 43,
    "start_time": "2022-02-22T15:13:17.688Z"
   },
   {
    "duration": 49,
    "start_time": "2022-02-22T15:13:36.320Z"
   },
   {
    "duration": 6,
    "start_time": "2022-02-22T15:18:45.978Z"
   },
   {
    "duration": 47,
    "start_time": "2022-02-22T15:18:55.584Z"
   },
   {
    "duration": 5,
    "start_time": "2022-02-22T15:40:27.993Z"
   },
   {
    "duration": 125,
    "start_time": "2022-02-22T15:41:56.286Z"
   },
   {
    "duration": 5,
    "start_time": "2022-02-22T15:42:47.341Z"
   },
   {
    "duration": 109,
    "start_time": "2022-02-22T15:51:14.043Z"
   },
   {
    "duration": 305,
    "start_time": "2022-02-22T15:51:25.473Z"
   },
   {
    "duration": 281,
    "start_time": "2022-02-22T15:53:29.446Z"
   },
   {
    "duration": 459,
    "start_time": "2022-02-22T15:54:20.704Z"
   },
   {
    "duration": 304,
    "start_time": "2022-02-22T15:55:57.117Z"
   },
   {
    "duration": 563,
    "start_time": "2022-02-22T15:57:35.448Z"
   },
   {
    "duration": 5,
    "start_time": "2022-02-22T15:57:55.993Z"
   },
   {
    "duration": 6,
    "start_time": "2022-02-22T15:59:03.340Z"
   },
   {
    "duration": 5,
    "start_time": "2022-02-22T15:59:04.949Z"
   },
   {
    "duration": 595,
    "start_time": "2022-02-22T15:59:06.540Z"
   },
   {
    "duration": 5,
    "start_time": "2022-02-22T15:59:18.268Z"
   },
   {
    "duration": 605,
    "start_time": "2022-02-22T15:59:20.492Z"
   },
   {
    "duration": 5,
    "start_time": "2022-02-22T16:00:43.118Z"
   },
   {
    "duration": 607,
    "start_time": "2022-02-22T16:00:44.846Z"
   },
   {
    "duration": 5,
    "start_time": "2022-02-22T16:03:01.202Z"
   },
   {
    "duration": 867,
    "start_time": "2022-02-22T16:03:02.941Z"
   },
   {
    "duration": 96,
    "start_time": "2022-02-22T16:03:35.769Z"
   },
   {
    "duration": 122,
    "start_time": "2022-02-22T16:04:08.742Z"
   },
   {
    "duration": 98,
    "start_time": "2022-02-22T16:04:10.413Z"
   },
   {
    "duration": 100,
    "start_time": "2022-02-22T16:04:30.660Z"
   },
   {
    "duration": 98,
    "start_time": "2022-02-22T16:06:50.565Z"
   },
   {
    "duration": 94,
    "start_time": "2022-02-22T16:06:51.893Z"
   },
   {
    "duration": 100,
    "start_time": "2022-02-22T16:07:11.028Z"
   },
   {
    "duration": 5,
    "start_time": "2022-02-22T16:07:44.350Z"
   },
   {
    "duration": 10,
    "start_time": "2022-02-22T16:07:45.827Z"
   },
   {
    "duration": 6,
    "start_time": "2022-02-22T16:09:50.572Z"
   },
   {
    "duration": -1376,
    "start_time": "2022-02-22T16:10:02.491Z"
   },
   {
    "duration": -1391,
    "start_time": "2022-02-22T16:10:02.507Z"
   },
   {
    "duration": -1397,
    "start_time": "2022-02-22T16:10:02.515Z"
   },
   {
    "duration": -1404,
    "start_time": "2022-02-22T16:10:02.524Z"
   },
   {
    "duration": -1408,
    "start_time": "2022-02-22T16:10:02.529Z"
   },
   {
    "duration": -1413,
    "start_time": "2022-02-22T16:10:02.535Z"
   },
   {
    "duration": 8257,
    "start_time": "2022-02-22T16:10:02.980Z"
   },
   {
    "duration": 15,
    "start_time": "2022-02-22T16:10:51.188Z"
   },
   {
    "duration": 6,
    "start_time": "2022-02-22T16:10:52.345Z"
   },
   {
    "duration": 6,
    "start_time": "2022-02-22T16:11:00.338Z"
   },
   {
    "duration": 17,
    "start_time": "2022-02-22T16:11:01.603Z"
   },
   {
    "duration": 6,
    "start_time": "2022-02-22T16:11:03.216Z"
   },
   {
    "duration": 17,
    "start_time": "2022-02-22T16:11:47.894Z"
   },
   {
    "duration": 6,
    "start_time": "2022-02-22T16:11:49.182Z"
   },
   {
    "duration": 18,
    "start_time": "2022-02-22T16:12:13.005Z"
   },
   {
    "duration": 5,
    "start_time": "2022-02-22T16:12:14.840Z"
   },
   {
    "duration": 6,
    "start_time": "2022-02-22T16:12:22.374Z"
   },
   {
    "duration": 33,
    "start_time": "2022-02-22T16:12:25.044Z"
   },
   {
    "duration": 23,
    "start_time": "2022-02-22T16:12:27.061Z"
   },
   {
    "duration": 32,
    "start_time": "2022-02-22T16:12:28.212Z"
   },
   {
    "duration": 18,
    "start_time": "2022-02-22T16:18:55.616Z"
   },
   {
    "duration": 5,
    "start_time": "2022-02-22T16:19:04.516Z"
   },
   {
    "duration": 31,
    "start_time": "2022-02-22T16:19:14.269Z"
   },
   {
    "duration": 18,
    "start_time": "2022-02-22T16:20:22.368Z"
   },
   {
    "duration": 20,
    "start_time": "2022-02-22T16:20:26.157Z"
   },
   {
    "duration": 6,
    "start_time": "2022-02-22T16:20:27.028Z"
   },
   {
    "duration": 18,
    "start_time": "2022-02-22T16:20:43.765Z"
   },
   {
    "duration": 16,
    "start_time": "2022-02-22T16:20:45.244Z"
   },
   {
    "duration": 8,
    "start_time": "2022-02-22T16:20:46.029Z"
   },
   {
    "duration": 108,
    "start_time": "2022-02-22T16:21:11.364Z"
   },
   {
    "duration": 76,
    "start_time": "2022-02-22T16:21:16.386Z"
   },
   {
    "duration": 11,
    "start_time": "2022-02-22T16:21:18.330Z"
   },
   {
    "duration": 6,
    "start_time": "2022-02-22T16:21:20.987Z"
   },
   {
    "duration": 14,
    "start_time": "2022-02-22T16:21:22.333Z"
   },
   {
    "duration": 9,
    "start_time": "2022-02-22T16:21:24.068Z"
   },
   {
    "duration": 4,
    "start_time": "2022-02-22T16:21:30.148Z"
   },
   {
    "duration": 8587,
    "start_time": "2022-02-22T16:21:32.603Z"
   },
   {
    "duration": 22,
    "start_time": "2022-02-22T16:23:07.407Z"
   },
   {
    "duration": 21,
    "start_time": "2022-02-22T16:23:21.770Z"
   },
   {
    "duration": 15,
    "start_time": "2022-02-22T16:23:26.827Z"
   },
   {
    "duration": 102,
    "start_time": "2022-02-22T16:25:04.046Z"
   },
   {
    "duration": 127,
    "start_time": "2022-02-22T16:25:22.070Z"
   },
   {
    "duration": 18,
    "start_time": "2022-02-22T16:25:31.414Z"
   },
   {
    "duration": 17,
    "start_time": "2022-02-22T16:25:53.765Z"
   },
   {
    "duration": 19,
    "start_time": "2022-02-22T16:25:56.342Z"
   },
   {
    "duration": 6,
    "start_time": "2022-02-22T16:26:02.527Z"
   },
   {
    "duration": 7,
    "start_time": "2022-02-22T16:26:06.319Z"
   },
   {
    "duration": 18,
    "start_time": "2022-02-22T16:32:10.598Z"
   },
   {
    "duration": 7,
    "start_time": "2022-02-22T16:32:15.101Z"
   },
   {
    "duration": 17,
    "start_time": "2022-02-22T16:32:19.799Z"
   },
   {
    "duration": 14,
    "start_time": "2022-02-22T16:32:22.093Z"
   },
   {
    "duration": 7,
    "start_time": "2022-02-22T16:32:31.962Z"
   },
   {
    "duration": 16,
    "start_time": "2022-02-22T16:37:16.212Z"
   },
   {
    "duration": 6,
    "start_time": "2022-02-22T16:37:40.393Z"
   },
   {
    "duration": 287,
    "start_time": "2022-02-22T16:37:59.838Z"
   },
   {
    "duration": 6,
    "start_time": "2022-02-22T16:38:02.936Z"
   },
   {
    "duration": 18,
    "start_time": "2022-02-22T16:38:35.230Z"
   },
   {
    "duration": 7,
    "start_time": "2022-02-22T16:38:37.397Z"
   },
   {
    "duration": 6,
    "start_time": "2022-02-22T16:38:42.235Z"
   },
   {
    "duration": 6,
    "start_time": "2022-02-22T16:38:54.345Z"
   },
   {
    "duration": 20,
    "start_time": "2022-02-22T16:38:56.586Z"
   },
   {
    "duration": 7,
    "start_time": "2022-02-22T16:39:02.366Z"
   },
   {
    "duration": 349,
    "start_time": "2022-02-22T16:39:11.009Z"
   },
   {
    "duration": 16,
    "start_time": "2022-02-22T16:39:18.994Z"
   },
   {
    "duration": 6,
    "start_time": "2022-02-22T16:39:38.894Z"
   },
   {
    "duration": 7,
    "start_time": "2022-02-22T16:39:44.768Z"
   },
   {
    "duration": 7,
    "start_time": "2022-02-22T16:39:47.063Z"
   },
   {
    "duration": 6,
    "start_time": "2022-02-22T16:39:54.032Z"
   },
   {
    "duration": 28,
    "start_time": "2022-02-22T16:40:26.367Z"
   },
   {
    "duration": 6,
    "start_time": "2022-02-22T16:40:30.940Z"
   },
   {
    "duration": 6,
    "start_time": "2022-02-22T16:40:33.572Z"
   },
   {
    "duration": 18,
    "start_time": "2022-02-22T16:40:51.607Z"
   },
   {
    "duration": 7,
    "start_time": "2022-02-22T16:40:54.615Z"
   },
   {
    "duration": 22,
    "start_time": "2022-02-22T16:41:16.711Z"
   },
   {
    "duration": 7,
    "start_time": "2022-02-22T16:41:18.633Z"
   },
   {
    "duration": 18,
    "start_time": "2022-02-22T16:41:26.660Z"
   },
   {
    "duration": 6,
    "start_time": "2022-02-22T16:41:28.708Z"
   },
   {
    "duration": 19,
    "start_time": "2022-02-22T16:41:47.018Z"
   },
   {
    "duration": 9,
    "start_time": "2022-02-22T16:41:49.180Z"
   },
   {
    "duration": 5,
    "start_time": "2022-02-22T16:42:20.274Z"
   },
   {
    "duration": 6,
    "start_time": "2022-02-22T16:42:41.954Z"
   },
   {
    "duration": 30,
    "start_time": "2022-02-22T16:42:46.326Z"
   },
   {
    "duration": 76,
    "start_time": "2022-02-22T16:43:26.360Z"
   },
   {
    "duration": 105,
    "start_time": "2022-02-22T16:43:27.632Z"
   },
   {
    "duration": 10,
    "start_time": "2022-02-22T16:43:30.262Z"
   },
   {
    "duration": 5,
    "start_time": "2022-02-22T16:43:32.941Z"
   },
   {
    "duration": 10,
    "start_time": "2022-02-22T16:43:35.238Z"
   },
   {
    "duration": 10,
    "start_time": "2022-02-22T16:43:36.638Z"
   },
   {
    "duration": 47,
    "start_time": "2022-02-22T16:43:40.934Z"
   },
   {
    "duration": 48,
    "start_time": "2022-02-22T16:43:43.981Z"
   },
   {
    "duration": 4,
    "start_time": "2022-02-22T16:43:45.797Z"
   },
   {
    "duration": 5,
    "start_time": "2022-02-22T16:43:46.565Z"
   },
   {
    "duration": 18,
    "start_time": "2022-02-22T16:43:48.493Z"
   },
   {
    "duration": 17,
    "start_time": "2022-02-22T16:43:51.693Z"
   },
   {
    "duration": 16,
    "start_time": "2022-02-22T16:43:52.831Z"
   },
   {
    "duration": 17,
    "start_time": "2022-02-22T16:43:53.749Z"
   },
   {
    "duration": 17,
    "start_time": "2022-02-22T16:43:54.687Z"
   },
   {
    "duration": 18,
    "start_time": "2022-02-22T16:43:55.797Z"
   },
   {
    "duration": 16,
    "start_time": "2022-02-22T16:44:39.522Z"
   },
   {
    "duration": 5,
    "start_time": "2022-02-22T16:45:27.225Z"
   },
   {
    "duration": 16,
    "start_time": "2022-02-22T16:45:29.224Z"
   },
   {
    "duration": 5,
    "start_time": "2022-02-22T16:46:15.257Z"
   },
   {
    "duration": 443,
    "start_time": "2022-02-22T16:46:22.238Z"
   },
   {
    "duration": 17,
    "start_time": "2022-02-22T16:47:57.283Z"
   },
   {
    "duration": 17,
    "start_time": "2022-02-22T16:47:57.908Z"
   },
   {
    "duration": 5,
    "start_time": "2022-02-22T16:48:25.642Z"
   },
   {
    "duration": 17,
    "start_time": "2022-02-22T16:48:26.970Z"
   },
   {
    "duration": 5,
    "start_time": "2022-02-22T16:49:17.878Z"
   },
   {
    "duration": 5,
    "start_time": "2022-02-22T16:49:18.446Z"
   },
   {
    "duration": 23,
    "start_time": "2022-02-22T16:49:19.758Z"
   },
   {
    "duration": 21,
    "start_time": "2022-02-22T16:49:20.886Z"
   },
   {
    "duration": 18,
    "start_time": "2022-02-22T16:49:21.876Z"
   },
   {
    "duration": 21,
    "start_time": "2022-02-22T16:49:22.790Z"
   },
   {
    "duration": 19,
    "start_time": "2022-02-22T16:49:23.590Z"
   },
   {
    "duration": 22,
    "start_time": "2022-02-22T16:49:24.279Z"
   },
   {
    "duration": 20,
    "start_time": "2022-02-22T16:49:25.021Z"
   },
   {
    "duration": 374,
    "start_time": "2022-02-22T16:49:27.325Z"
   },
   {
    "duration": 352,
    "start_time": "2022-02-22T16:52:04.440Z"
   },
   {
    "duration": 385,
    "start_time": "2022-02-22T16:52:19.582Z"
   },
   {
    "duration": 298,
    "start_time": "2022-02-22T16:52:20.878Z"
   },
   {
    "duration": 482,
    "start_time": "2022-02-22T16:53:14.597Z"
   },
   {
    "duration": 281,
    "start_time": "2022-02-22T16:54:05.802Z"
   },
   {
    "duration": 289,
    "start_time": "2022-02-22T16:58:49.071Z"
   },
   {
    "duration": 15,
    "start_time": "2022-02-22T17:08:08.362Z"
   },
   {
    "duration": 15,
    "start_time": "2022-02-22T17:18:37.819Z"
   },
   {
    "duration": 7,
    "start_time": "2022-02-23T09:32:09.888Z"
   },
   {
    "duration": 415,
    "start_time": "2022-02-23T09:32:11.442Z"
   },
   {
    "duration": 274,
    "start_time": "2022-02-23T09:32:32.306Z"
   },
   {
    "duration": 6,
    "start_time": "2022-02-23T09:32:48.753Z"
   },
   {
    "duration": 294,
    "start_time": "2022-02-23T09:32:50.356Z"
   },
   {
    "duration": 6,
    "start_time": "2022-02-23T09:33:11.968Z"
   },
   {
    "duration": 302,
    "start_time": "2022-02-23T09:33:13.976Z"
   },
   {
    "duration": 5,
    "start_time": "2022-02-23T09:33:51.938Z"
   },
   {
    "duration": 6,
    "start_time": "2022-02-23T09:34:10.520Z"
   },
   {
    "duration": 272,
    "start_time": "2022-02-23T09:34:12.390Z"
   },
   {
    "duration": 5,
    "start_time": "2022-02-23T09:35:34.453Z"
   },
   {
    "duration": 412,
    "start_time": "2022-02-23T09:35:35.866Z"
   },
   {
    "duration": 5,
    "start_time": "2022-02-23T09:38:59.921Z"
   },
   {
    "duration": 279,
    "start_time": "2022-02-23T09:39:02.176Z"
   },
   {
    "duration": 275,
    "start_time": "2022-02-23T09:39:28.912Z"
   },
   {
    "duration": 16,
    "start_time": "2022-02-23T09:41:06.523Z"
   },
   {
    "duration": 13,
    "start_time": "2022-02-23T09:41:07.226Z"
   },
   {
    "duration": 6,
    "start_time": "2022-02-23T09:41:08.993Z"
   },
   {
    "duration": 29,
    "start_time": "2022-02-23T09:41:10.696Z"
   },
   {
    "duration": 35,
    "start_time": "2022-02-23T09:41:21.224Z"
   },
   {
    "duration": 28,
    "start_time": "2022-02-23T09:41:39.288Z"
   },
   {
    "duration": 3,
    "start_time": "2022-02-23T09:41:40.362Z"
   },
   {
    "duration": 4,
    "start_time": "2022-02-23T09:41:41.369Z"
   },
   {
    "duration": 4,
    "start_time": "2022-02-23T09:41:41.840Z"
   },
   {
    "duration": 3,
    "start_time": "2022-02-23T09:41:44.728Z"
   },
   {
    "duration": 83,
    "start_time": "2022-02-23T09:42:06.503Z"
   },
   {
    "duration": 20,
    "start_time": "2022-02-23T09:42:39.518Z"
   },
   {
    "duration": 17,
    "start_time": "2022-02-23T09:43:28.499Z"
   },
   {
    "duration": 5,
    "start_time": "2022-02-23T09:43:44.196Z"
   },
   {
    "duration": 28,
    "start_time": "2022-02-23T09:43:48.033Z"
   },
   {
    "duration": 32,
    "start_time": "2022-02-23T09:45:38.181Z"
   },
   {
    "duration": 6,
    "start_time": "2022-02-23T09:46:52.259Z"
   },
   {
    "duration": 40,
    "start_time": "2022-02-23T09:46:54.049Z"
   },
   {
    "duration": 38,
    "start_time": "2022-02-23T09:46:58.672Z"
   },
   {
    "duration": 44,
    "start_time": "2022-02-23T09:47:10.432Z"
   },
   {
    "duration": 7,
    "start_time": "2022-02-23T09:47:13.528Z"
   },
   {
    "duration": 59,
    "start_time": "2022-02-23T09:47:15.242Z"
   },
   {
    "duration": 6,
    "start_time": "2022-02-23T09:47:36.560Z"
   },
   {
    "duration": 571,
    "start_time": "2022-02-23T09:47:37.919Z"
   },
   {
    "duration": 6,
    "start_time": "2022-02-23T09:48:04.351Z"
   },
   {
    "duration": 59,
    "start_time": "2022-02-23T09:48:06.477Z"
   },
   {
    "duration": 5,
    "start_time": "2022-02-23T09:49:38.411Z"
   },
   {
    "duration": 35,
    "start_time": "2022-02-23T09:49:40.538Z"
   },
   {
    "duration": 6,
    "start_time": "2022-02-23T09:50:12.680Z"
   },
   {
    "duration": 36,
    "start_time": "2022-02-23T09:50:14.279Z"
   },
   {
    "duration": 6,
    "start_time": "2022-02-23T09:56:48.158Z"
   },
   {
    "duration": 41,
    "start_time": "2022-02-23T09:56:49.464Z"
   },
   {
    "duration": 41,
    "start_time": "2022-02-23T09:56:51.602Z"
   },
   {
    "duration": 6,
    "start_time": "2022-02-23T09:57:12.028Z"
   },
   {
    "duration": 35,
    "start_time": "2022-02-23T09:57:13.604Z"
   },
   {
    "duration": 5,
    "start_time": "2022-02-23T09:57:22.955Z"
   },
   {
    "duration": 53,
    "start_time": "2022-02-23T09:57:24.226Z"
   },
   {
    "duration": 7,
    "start_time": "2022-02-23T09:58:22.985Z"
   },
   {
    "duration": 50,
    "start_time": "2022-02-23T09:58:24.393Z"
   },
   {
    "duration": 6,
    "start_time": "2022-02-23T10:00:06.253Z"
   },
   {
    "duration": 805,
    "start_time": "2022-02-23T10:00:08.051Z"
   },
   {
    "duration": 99,
    "start_time": "2022-02-23T10:04:59.053Z"
   },
   {
    "duration": 6,
    "start_time": "2022-02-23T10:05:12.284Z"
   },
   {
    "duration": 669,
    "start_time": "2022-02-23T10:05:14.564Z"
   },
   {
    "duration": 5,
    "start_time": "2022-02-23T10:06:28.492Z"
   },
   {
    "duration": 645,
    "start_time": "2022-02-23T10:06:29.882Z"
   },
   {
    "duration": 7,
    "start_time": "2022-02-23T10:08:54.754Z"
   },
   {
    "duration": 44,
    "start_time": "2022-02-23T10:08:56.874Z"
   },
   {
    "duration": 80,
    "start_time": "2022-02-23T10:09:08.389Z"
   },
   {
    "duration": 26,
    "start_time": "2022-02-23T10:09:09.200Z"
   },
   {
    "duration": 43,
    "start_time": "2022-02-23T10:09:10.432Z"
   },
   {
    "duration": 25,
    "start_time": "2022-02-23T10:09:10.938Z"
   },
   {
    "duration": 6,
    "start_time": "2022-02-23T10:26:42.980Z"
   },
   {
    "duration": 30,
    "start_time": "2022-02-23T10:26:44.721Z"
   },
   {
    "duration": 30,
    "start_time": "2022-02-23T10:26:49.552Z"
   },
   {
    "duration": 7,
    "start_time": "2022-02-23T10:26:52.345Z"
   },
   {
    "duration": 31,
    "start_time": "2022-02-23T10:26:55.735Z"
   },
   {
    "duration": 21,
    "start_time": "2022-02-23T10:26:56.776Z"
   },
   {
    "duration": 31,
    "start_time": "2022-02-23T10:26:57.575Z"
   },
   {
    "duration": 20,
    "start_time": "2022-02-23T10:26:58.447Z"
   },
   {
    "duration": 5,
    "start_time": "2022-02-23T10:29:25.355Z"
   },
   {
    "duration": 28,
    "start_time": "2022-02-23T10:29:27.608Z"
   },
   {
    "duration": 28,
    "start_time": "2022-02-23T10:29:28.735Z"
   },
   {
    "duration": 32,
    "start_time": "2022-02-23T10:29:29.975Z"
   },
   {
    "duration": 22,
    "start_time": "2022-02-23T10:29:32.520Z"
   },
   {
    "duration": 4,
    "start_time": "2022-02-23T10:29:55.879Z"
   },
   {
    "duration": 182,
    "start_time": "2022-02-23T10:29:56.918Z"
   },
   {
    "duration": 17,
    "start_time": "2022-02-23T10:29:57.950Z"
   },
   {
    "duration": 31,
    "start_time": "2022-02-23T10:29:58.870Z"
   },
   {
    "duration": 6,
    "start_time": "2022-02-23T10:30:00.863Z"
   },
   {
    "duration": 27,
    "start_time": "2022-02-23T10:30:01.630Z"
   },
   {
    "duration": 7,
    "start_time": "2022-02-23T10:30:02.334Z"
   },
   {
    "duration": 21,
    "start_time": "2022-02-23T10:30:09.085Z"
   },
   {
    "duration": 6,
    "start_time": "2022-02-23T10:30:09.798Z"
   },
   {
    "duration": 29,
    "start_time": "2022-02-23T10:30:10.928Z"
   },
   {
    "duration": 24,
    "start_time": "2022-02-23T10:30:12.349Z"
   },
   {
    "duration": 31,
    "start_time": "2022-02-23T10:30:13.254Z"
   },
   {
    "duration": 83,
    "start_time": "2022-02-23T10:30:14.189Z"
   },
   {
    "duration": 106,
    "start_time": "2022-02-23T10:30:15.222Z"
   },
   {
    "duration": 76,
    "start_time": "2022-02-23T10:30:16.244Z"
   },
   {
    "duration": 9,
    "start_time": "2022-02-23T10:30:17.805Z"
   },
   {
    "duration": 5,
    "start_time": "2022-02-23T10:30:19.114Z"
   },
   {
    "duration": 10,
    "start_time": "2022-02-23T10:30:21.005Z"
   },
   {
    "duration": 25,
    "start_time": "2022-02-23T10:30:21.018Z"
   },
   {
    "duration": 48,
    "start_time": "2022-02-23T10:30:26.717Z"
   },
   {
    "duration": 49,
    "start_time": "2022-02-23T10:30:27.861Z"
   },
   {
    "duration": 5,
    "start_time": "2022-02-23T10:30:29.830Z"
   },
   {
    "duration": 23,
    "start_time": "2022-02-23T10:30:31.719Z"
   },
   {
    "duration": 19,
    "start_time": "2022-02-23T10:30:32.557Z"
   },
   {
    "duration": 20,
    "start_time": "2022-02-23T10:30:33.029Z"
   },
   {
    "duration": 20,
    "start_time": "2022-02-23T10:30:33.556Z"
   },
   {
    "duration": 22,
    "start_time": "2022-02-23T10:30:34.368Z"
   },
   {
    "duration": 19,
    "start_time": "2022-02-23T10:30:34.548Z"
   },
   {
    "duration": 14,
    "start_time": "2022-02-23T10:30:35.980Z"
   },
   {
    "duration": 17,
    "start_time": "2022-02-23T10:30:40.060Z"
   },
   {
    "duration": 15,
    "start_time": "2022-02-23T10:30:40.660Z"
   },
   {
    "duration": 5,
    "start_time": "2022-02-23T10:30:41.932Z"
   },
   {
    "duration": 29,
    "start_time": "2022-02-23T10:30:43.251Z"
   },
   {
    "duration": 21,
    "start_time": "2022-02-23T10:30:44.724Z"
   },
   {
    "duration": 30,
    "start_time": "2022-02-23T10:30:45.573Z"
   },
   {
    "duration": 23,
    "start_time": "2022-02-23T10:30:46.272Z"
   },
   {
    "duration": 3,
    "start_time": "2022-02-23T10:30:49.323Z"
   },
   {
    "duration": 30,
    "start_time": "2022-02-23T10:31:40.412Z"
   },
   {
    "duration": 6,
    "start_time": "2022-02-23T10:32:03.865Z"
   },
   {
    "duration": 786,
    "start_time": "2022-02-23T10:32:05.184Z"
   },
   {
    "duration": 640,
    "start_time": "2022-02-23T10:32:07.521Z"
   },
   {
    "duration": 674,
    "start_time": "2022-02-23T10:32:08.395Z"
   },
   {
    "duration": 665,
    "start_time": "2022-02-23T10:32:10.536Z"
   },
   {
    "duration": 5,
    "start_time": "2022-02-23T10:32:42.904Z"
   },
   {
    "duration": 6,
    "start_time": "2022-02-23T10:32:48.372Z"
   },
   {
    "duration": 594,
    "start_time": "2022-02-23T10:32:49.551Z"
   },
   {
    "duration": 6,
    "start_time": "2022-02-23T10:34:42.204Z"
   },
   {
    "duration": 585,
    "start_time": "2022-02-23T10:34:43.633Z"
   },
   {
    "duration": 5,
    "start_time": "2022-02-23T10:37:47.763Z"
   },
   {
    "duration": 31,
    "start_time": "2022-02-23T10:37:49.064Z"
   },
   {
    "duration": 20,
    "start_time": "2022-02-23T10:37:53.896Z"
   },
   {
    "duration": 30,
    "start_time": "2022-02-23T10:37:54.688Z"
   },
   {
    "duration": 21,
    "start_time": "2022-02-23T10:37:55.671Z"
   },
   {
    "duration": 6,
    "start_time": "2022-02-23T10:38:31.007Z"
   },
   {
    "duration": 6,
    "start_time": "2022-02-23T10:39:20.588Z"
   },
   {
    "duration": 623,
    "start_time": "2022-02-23T10:39:22.156Z"
   },
   {
    "duration": 6,
    "start_time": "2022-02-23T10:39:33.039Z"
   },
   {
    "duration": 590,
    "start_time": "2022-02-23T10:39:34.347Z"
   },
   {
    "duration": 8,
    "start_time": "2022-02-23T11:01:36.006Z"
   },
   {
    "duration": 90,
    "start_time": "2022-02-23T11:01:38.195Z"
   },
   {
    "duration": 73,
    "start_time": "2022-02-23T11:01:39.851Z"
   },
   {
    "duration": 103,
    "start_time": "2022-02-23T11:01:41.203Z"
   },
   {
    "duration": 76,
    "start_time": "2022-02-23T11:01:42.011Z"
   },
   {
    "duration": 6,
    "start_time": "2022-02-23T11:07:58.593Z"
   },
   {
    "duration": 649,
    "start_time": "2022-02-23T11:08:00.361Z"
   },
   {
    "duration": 7,
    "start_time": "2022-02-23T11:14:03.073Z"
   },
   {
    "duration": 30,
    "start_time": "2022-02-23T11:14:04.648Z"
   },
   {
    "duration": 6,
    "start_time": "2022-02-23T12:15:08.071Z"
   },
   {
    "duration": 793,
    "start_time": "2022-02-23T12:15:09.438Z"
   },
   {
    "duration": 6,
    "start_time": "2022-02-23T12:16:23.131Z"
   },
   {
    "duration": 31,
    "start_time": "2022-02-23T12:16:24.330Z"
   },
   {
    "duration": 21,
    "start_time": "2022-02-23T12:16:26.426Z"
   },
   {
    "duration": 37,
    "start_time": "2022-02-23T12:16:27.826Z"
   },
   {
    "duration": 21,
    "start_time": "2022-02-23T12:16:28.508Z"
   },
   {
    "duration": 5,
    "start_time": "2022-02-23T12:17:38.449Z"
   },
   {
    "duration": 35,
    "start_time": "2022-02-23T12:17:39.607Z"
   },
   {
    "duration": 22,
    "start_time": "2022-02-23T12:17:40.583Z"
   },
   {
    "duration": 48,
    "start_time": "2022-02-23T12:17:41.608Z"
   },
   {
    "duration": 23,
    "start_time": "2022-02-23T12:17:42.217Z"
   },
   {
    "duration": 16,
    "start_time": "2022-02-23T12:21:06.822Z"
   },
   {
    "duration": 1068,
    "start_time": "2022-02-23T12:21:08.341Z"
   },
   {
    "duration": 6,
    "start_time": "2022-02-23T13:00:28.006Z"
   },
   {
    "duration": 43,
    "start_time": "2022-02-23T13:00:29.570Z"
   },
   {
    "duration": 31,
    "start_time": "2022-02-23T13:00:30.188Z"
   },
   {
    "duration": 52,
    "start_time": "2022-02-23T13:00:30.621Z"
   },
   {
    "duration": 20,
    "start_time": "2022-02-23T13:00:30.962Z"
   },
   {
    "duration": 325,
    "start_time": "2022-02-23T13:07:50.576Z"
   },
   {
    "duration": 418,
    "start_time": "2022-02-23T13:07:59.168Z"
   },
   {
    "duration": 8000,
    "start_time": "2022-02-23T13:08:34.461Z"
   },
   {
    "duration": 79,
    "start_time": "2022-02-23T13:08:51.331Z"
   },
   {
    "duration": 69,
    "start_time": "2022-02-23T13:08:56.546Z"
   },
   {
    "duration": 319,
    "start_time": "2022-02-23T13:09:11.938Z"
   },
   {
    "duration": 73,
    "start_time": "2022-02-23T13:09:23.274Z"
   },
   {
    "duration": 8,
    "start_time": "2022-02-23T13:09:24.545Z"
   },
   {
    "duration": 50,
    "start_time": "2022-02-23T13:10:09.008Z"
   },
   {
    "duration": 7,
    "start_time": "2022-02-23T13:10:10.166Z"
   },
   {
    "duration": 49,
    "start_time": "2022-02-23T13:10:28.304Z"
   },
   {
    "duration": 7,
    "start_time": "2022-02-23T13:10:29.214Z"
   },
   {
    "duration": 71,
    "start_time": "2022-02-23T13:11:00.686Z"
   },
   {
    "duration": 7,
    "start_time": "2022-02-23T13:11:01.804Z"
   },
   {
    "duration": 325,
    "start_time": "2022-02-23T13:11:27.915Z"
   },
   {
    "duration": 303,
    "start_time": "2022-02-23T13:12:36.129Z"
   },
   {
    "duration": 63,
    "start_time": "2022-02-23T13:12:58.616Z"
   },
   {
    "duration": 8,
    "start_time": "2022-02-23T13:13:05.014Z"
   },
   {
    "duration": 58,
    "start_time": "2022-02-23T13:20:50.467Z"
   },
   {
    "duration": 17,
    "start_time": "2022-02-23T13:20:51.592Z"
   },
   {
    "duration": 288,
    "start_time": "2022-02-23T13:23:17.875Z"
   },
   {
    "duration": 9885,
    "start_time": "2022-02-23T13:25:57.215Z"
   },
   {
    "duration": 538,
    "start_time": "2022-02-23T13:26:06.565Z"
   },
   {
    "duration": 12,
    "start_time": "2022-02-23T13:30:17.517Z"
   },
   {
    "duration": 20,
    "start_time": "2022-02-23T13:30:27.109Z"
   },
   {
    "duration": 12,
    "start_time": "2022-02-23T13:30:47.940Z"
   },
   {
    "duration": 8,
    "start_time": "2022-02-23T13:30:49.227Z"
   },
   {
    "duration": 11,
    "start_time": "2022-02-23T13:31:19.109Z"
   },
   {
    "duration": 7,
    "start_time": "2022-02-23T13:31:28.244Z"
   },
   {
    "duration": 117,
    "start_time": "2022-02-23T13:43:46.215Z"
   },
   {
    "duration": 7,
    "start_time": "2022-02-23T13:44:17.142Z"
   },
   {
    "duration": 38,
    "start_time": "2022-02-23T13:44:18.749Z"
   },
   {
    "duration": 7,
    "start_time": "2022-02-23T13:45:06.595Z"
   },
   {
    "duration": 34,
    "start_time": "2022-02-23T13:45:07.913Z"
   },
   {
    "duration": 24,
    "start_time": "2022-02-23T13:45:11.364Z"
   },
   {
    "duration": 30,
    "start_time": "2022-02-23T13:45:12.417Z"
   },
   {
    "duration": 20,
    "start_time": "2022-02-23T13:45:13.265Z"
   },
   {
    "duration": 12,
    "start_time": "2022-02-23T13:45:16.209Z"
   },
   {
    "duration": 8,
    "start_time": "2022-02-23T13:45:17.249Z"
   },
   {
    "duration": 9,
    "start_time": "2022-02-23T13:45:18.560Z"
   },
   {
    "duration": 8,
    "start_time": "2022-02-23T13:45:19.464Z"
   },
   {
    "duration": 7,
    "start_time": "2022-02-23T13:45:45.409Z"
   },
   {
    "duration": 33,
    "start_time": "2022-02-23T13:45:47.088Z"
   },
   {
    "duration": 7,
    "start_time": "2022-02-23T13:46:11.082Z"
   },
   {
    "duration": 34,
    "start_time": "2022-02-23T13:46:12.511Z"
   },
   {
    "duration": 26,
    "start_time": "2022-02-23T13:46:14.087Z"
   },
   {
    "duration": 15,
    "start_time": "2022-02-23T13:50:58.057Z"
   },
   {
    "duration": 5,
    "start_time": "2022-02-23T13:51:04.805Z"
   },
   {
    "duration": 11,
    "start_time": "2022-02-23T13:51:06.281Z"
   },
   {
    "duration": 14,
    "start_time": "2022-02-23T13:51:22.864Z"
   },
   {
    "duration": 5,
    "start_time": "2022-02-23T13:51:31.409Z"
   },
   {
    "duration": 21,
    "start_time": "2022-02-23T13:51:32.784Z"
   },
   {
    "duration": 20,
    "start_time": "2022-02-23T13:51:33.160Z"
   },
   {
    "duration": 20,
    "start_time": "2022-02-23T13:51:33.991Z"
   },
   {
    "duration": 19,
    "start_time": "2022-02-23T13:51:34.474Z"
   },
   {
    "duration": 26,
    "start_time": "2022-02-23T13:51:34.887Z"
   },
   {
    "duration": 20,
    "start_time": "2022-02-23T13:51:35.287Z"
   },
   {
    "duration": 14,
    "start_time": "2022-02-23T13:51:36.560Z"
   },
   {
    "duration": 16,
    "start_time": "2022-02-23T13:51:43.304Z"
   },
   {
    "duration": 14,
    "start_time": "2022-02-23T13:51:43.830Z"
   },
   {
    "duration": 6,
    "start_time": "2022-02-23T13:51:45.526Z"
   },
   {
    "duration": 31,
    "start_time": "2022-02-23T13:51:47.430Z"
   },
   {
    "duration": 23,
    "start_time": "2022-02-23T13:51:48.575Z"
   },
   {
    "duration": 28,
    "start_time": "2022-02-23T13:51:49.238Z"
   },
   {
    "duration": 21,
    "start_time": "2022-02-23T13:51:50.334Z"
   },
   {
    "duration": 6,
    "start_time": "2022-02-23T13:57:17.257Z"
   },
   {
    "duration": 4,
    "start_time": "2022-02-23T13:57:21.569Z"
   },
   {
    "duration": 194,
    "start_time": "2022-02-23T13:57:22.296Z"
   },
   {
    "duration": 18,
    "start_time": "2022-02-23T13:57:23.040Z"
   },
   {
    "duration": 34,
    "start_time": "2022-02-23T13:57:25.192Z"
   },
   {
    "duration": 6,
    "start_time": "2022-02-23T13:57:29.249Z"
   },
   {
    "duration": 21,
    "start_time": "2022-02-23T13:57:30.869Z"
   },
   {
    "duration": 7,
    "start_time": "2022-02-23T13:57:32.485Z"
   },
   {
    "duration": 31,
    "start_time": "2022-02-23T13:57:34.124Z"
   },
   {
    "duration": 23,
    "start_time": "2022-02-23T13:57:36.824Z"
   },
   {
    "duration": 33,
    "start_time": "2022-02-23T13:57:59.828Z"
   },
   {
    "duration": 83,
    "start_time": "2022-02-23T13:58:02.927Z"
   },
   {
    "duration": 112,
    "start_time": "2022-02-23T13:58:08.948Z"
   },
   {
    "duration": 81,
    "start_time": "2022-02-23T13:58:11.140Z"
   },
   {
    "duration": 14,
    "start_time": "2022-02-23T13:58:39.044Z"
   },
   {
    "duration": 15,
    "start_time": "2022-02-23T13:58:41.515Z"
   },
   {
    "duration": 5,
    "start_time": "2022-02-23T13:58:48.995Z"
   },
   {
    "duration": 11,
    "start_time": "2022-02-23T13:58:50.601Z"
   },
   {
    "duration": 19,
    "start_time": "2022-02-23T13:58:52.053Z"
   },
   {
    "duration": 16,
    "start_time": "2022-02-23T13:59:01.946Z"
   },
   {
    "duration": 50,
    "start_time": "2022-02-23T13:59:14.524Z"
   },
   {
    "duration": 49,
    "start_time": "2022-02-23T13:59:16.611Z"
   },
   {
    "duration": 5,
    "start_time": "2022-02-23T13:59:29.296Z"
   },
   {
    "duration": 290,
    "start_time": "2022-02-23T14:00:57.271Z"
   },
   {
    "duration": 21,
    "start_time": "2022-02-23T14:01:07.646Z"
   },
   {
    "duration": 19,
    "start_time": "2022-02-23T14:01:08.237Z"
   },
   {
    "duration": 19,
    "start_time": "2022-02-23T14:01:10.107Z"
   },
   {
    "duration": 16,
    "start_time": "2022-02-23T14:01:10.708Z"
   },
   {
    "duration": 20,
    "start_time": "2022-02-23T14:01:11.172Z"
   },
   {
    "duration": 18,
    "start_time": "2022-02-23T14:01:11.764Z"
   },
   {
    "duration": 12,
    "start_time": "2022-02-23T14:01:12.903Z"
   },
   {
    "duration": 18,
    "start_time": "2022-02-23T14:01:19.722Z"
   },
   {
    "duration": 14,
    "start_time": "2022-02-23T14:01:20.163Z"
   },
   {
    "duration": 6,
    "start_time": "2022-02-23T14:01:21.604Z"
   },
   {
    "duration": 37,
    "start_time": "2022-02-23T14:01:24.618Z"
   },
   {
    "duration": 21,
    "start_time": "2022-02-23T14:01:25.572Z"
   },
   {
    "duration": 29,
    "start_time": "2022-02-23T14:01:26.490Z"
   },
   {
    "duration": 23,
    "start_time": "2022-02-23T14:01:27.084Z"
   },
   {
    "duration": 11,
    "start_time": "2022-02-23T14:02:24.209Z"
   },
   {
    "duration": 258,
    "start_time": "2022-02-23T14:02:43.927Z"
   },
   {
    "duration": 307,
    "start_time": "2022-02-23T14:02:52.135Z"
   },
   {
    "duration": 280,
    "start_time": "2022-02-23T14:02:54.415Z"
   },
   {
    "duration": 306,
    "start_time": "2022-02-23T14:03:14.431Z"
   },
   {
    "duration": 388,
    "start_time": "2022-02-23T14:05:39.250Z"
   },
   {
    "duration": 742,
    "start_time": "2022-02-23T14:05:45.590Z"
   },
   {
    "duration": 179,
    "start_time": "2022-02-23T14:05:48.393Z"
   },
   {
    "duration": 28,
    "start_time": "2022-02-23T14:05:50.393Z"
   },
   {
    "duration": 33,
    "start_time": "2022-02-23T14:05:52.261Z"
   },
   {
    "duration": 6,
    "start_time": "2022-02-23T14:05:57.062Z"
   },
   {
    "duration": 25,
    "start_time": "2022-02-23T14:05:59.102Z"
   },
   {
    "duration": 7,
    "start_time": "2022-02-23T14:06:01.109Z"
   },
   {
    "duration": 33,
    "start_time": "2022-02-23T14:06:03.124Z"
   },
   {
    "duration": 25,
    "start_time": "2022-02-23T14:06:04.701Z"
   },
   {
    "duration": 32,
    "start_time": "2022-02-23T14:06:06.805Z"
   },
   {
    "duration": 86,
    "start_time": "2022-02-23T14:06:08.949Z"
   },
   {
    "duration": 115,
    "start_time": "2022-02-23T14:06:10.702Z"
   },
   {
    "duration": 81,
    "start_time": "2022-02-23T14:06:13.652Z"
   },
   {
    "duration": 15,
    "start_time": "2022-02-23T14:06:15.526Z"
   },
   {
    "duration": 5,
    "start_time": "2022-02-23T14:06:40.468Z"
   },
   {
    "duration": 11,
    "start_time": "2022-02-23T14:06:43.934Z"
   },
   {
    "duration": 15,
    "start_time": "2022-02-23T14:06:56.588Z"
   },
   {
    "duration": 46,
    "start_time": "2022-02-23T14:07:33.083Z"
   },
   {
    "duration": 49,
    "start_time": "2022-02-23T14:07:35.049Z"
   },
   {
    "duration": 6,
    "start_time": "2022-02-23T14:07:39.321Z"
   },
   {
    "duration": 21,
    "start_time": "2022-02-23T14:07:41.341Z"
   },
   {
    "duration": 20,
    "start_time": "2022-02-23T14:07:42.249Z"
   },
   {
    "duration": 19,
    "start_time": "2022-02-23T14:07:43.032Z"
   },
   {
    "duration": 17,
    "start_time": "2022-02-23T14:07:43.760Z"
   },
   {
    "duration": 21,
    "start_time": "2022-02-23T14:07:44.432Z"
   },
   {
    "duration": 18,
    "start_time": "2022-02-23T14:07:45.153Z"
   },
   {
    "duration": 13,
    "start_time": "2022-02-23T14:07:46.720Z"
   },
   {
    "duration": 16,
    "start_time": "2022-02-23T14:07:49.384Z"
   },
   {
    "duration": 14,
    "start_time": "2022-02-23T14:07:50.568Z"
   },
   {
    "duration": 6,
    "start_time": "2022-02-23T14:07:52.407Z"
   },
   {
    "duration": 32,
    "start_time": "2022-02-23T14:07:55.033Z"
   },
   {
    "duration": 6,
    "start_time": "2022-02-23T14:08:55.406Z"
   },
   {
    "duration": 803,
    "start_time": "2022-02-23T14:09:10.320Z"
   },
   {
    "duration": 193,
    "start_time": "2022-02-23T14:09:12.648Z"
   },
   {
    "duration": 26,
    "start_time": "2022-02-23T14:09:14.067Z"
   },
   {
    "duration": 33,
    "start_time": "2022-02-23T14:09:15.975Z"
   },
   {
    "duration": 7,
    "start_time": "2022-02-23T14:09:22.104Z"
   },
   {
    "duration": 29,
    "start_time": "2022-02-23T14:09:23.622Z"
   },
   {
    "duration": 6,
    "start_time": "2022-02-23T14:09:26.833Z"
   },
   {
    "duration": 32,
    "start_time": "2022-02-23T14:09:34.510Z"
   },
   {
    "duration": 24,
    "start_time": "2022-02-23T14:10:01.848Z"
   },
   {
    "duration": 32,
    "start_time": "2022-02-23T14:10:04.253Z"
   },
   {
    "duration": 34,
    "start_time": "2022-02-23T14:10:27.684Z"
   },
   {
    "duration": 97,
    "start_time": "2022-02-23T14:10:30.459Z"
   },
   {
    "duration": 107,
    "start_time": "2022-02-23T14:10:51.524Z"
   },
   {
    "duration": 81,
    "start_time": "2022-02-23T14:10:57.110Z"
   },
   {
    "duration": 15,
    "start_time": "2022-02-23T14:11:02.938Z"
   },
   {
    "duration": 5,
    "start_time": "2022-02-23T14:11:06.556Z"
   },
   {
    "duration": 11,
    "start_time": "2022-02-23T14:11:08.837Z"
   },
   {
    "duration": 16,
    "start_time": "2022-02-23T14:11:10.236Z"
   },
   {
    "duration": 46,
    "start_time": "2022-02-23T14:11:13.458Z"
   },
   {
    "duration": 42,
    "start_time": "2022-02-23T14:11:15.440Z"
   },
   {
    "duration": 5,
    "start_time": "2022-02-23T14:11:16.906Z"
   },
   {
    "duration": 20,
    "start_time": "2022-02-23T14:11:18.642Z"
   },
   {
    "duration": 17,
    "start_time": "2022-02-23T14:11:19.500Z"
   },
   {
    "duration": 17,
    "start_time": "2022-02-23T14:11:20.363Z"
   },
   {
    "duration": 17,
    "start_time": "2022-02-23T14:11:21.169Z"
   },
   {
    "duration": 19,
    "start_time": "2022-02-23T14:11:22.137Z"
   },
   {
    "duration": 18,
    "start_time": "2022-02-23T14:11:22.912Z"
   },
   {
    "duration": 13,
    "start_time": "2022-02-23T14:11:24.410Z"
   },
   {
    "duration": 15,
    "start_time": "2022-02-23T14:11:27.913Z"
   },
   {
    "duration": 12,
    "start_time": "2022-02-23T14:11:29.064Z"
   },
   {
    "duration": 5,
    "start_time": "2022-02-23T14:11:30.617Z"
   },
   {
    "duration": 32,
    "start_time": "2022-02-23T14:11:32.824Z"
   },
   {
    "duration": 21,
    "start_time": "2022-02-23T14:11:34.551Z"
   },
   {
    "duration": 27,
    "start_time": "2022-02-23T14:11:36.063Z"
   },
   {
    "duration": 14,
    "start_time": "2022-02-23T14:14:13.669Z"
   },
   {
    "duration": 4,
    "start_time": "2022-02-23T14:16:03.044Z"
   },
   {
    "duration": 222,
    "start_time": "2022-02-23T14:16:03.051Z"
   },
   {
    "duration": 17,
    "start_time": "2022-02-23T14:16:03.276Z"
   },
   {
    "duration": 56,
    "start_time": "2022-02-23T14:16:03.297Z"
   },
   {
    "duration": 5,
    "start_time": "2022-02-23T14:16:03.356Z"
   },
   {
    "duration": 24,
    "start_time": "2022-02-23T14:16:03.363Z"
   },
   {
    "duration": 5,
    "start_time": "2022-02-23T14:16:03.391Z"
   },
   {
    "duration": 66,
    "start_time": "2022-02-23T14:16:03.399Z"
   },
   {
    "duration": 25,
    "start_time": "2022-02-23T14:16:03.469Z"
   },
   {
    "duration": 55,
    "start_time": "2022-02-23T14:16:03.496Z"
   },
   {
    "duration": 95,
    "start_time": "2022-02-23T14:16:03.553Z"
   },
   {
    "duration": 99,
    "start_time": "2022-02-23T14:16:03.651Z"
   },
   {
    "duration": 80,
    "start_time": "2022-02-23T14:16:03.753Z"
   },
   {
    "duration": 16,
    "start_time": "2022-02-23T14:16:03.849Z"
   },
   {
    "duration": 4,
    "start_time": "2022-02-23T14:16:03.867Z"
   },
   {
    "duration": 13,
    "start_time": "2022-02-23T14:16:03.873Z"
   },
   {
    "duration": 17,
    "start_time": "2022-02-23T14:16:03.889Z"
   },
   {
    "duration": 77,
    "start_time": "2022-02-23T14:16:03.909Z"
   },
   {
    "duration": 68,
    "start_time": "2022-02-23T14:16:03.994Z"
   },
   {
    "duration": 5,
    "start_time": "2022-02-23T14:16:04.066Z"
   },
   {
    "duration": 24,
    "start_time": "2022-02-23T14:16:04.074Z"
   },
   {
    "duration": 16,
    "start_time": "2022-02-23T14:16:04.101Z"
   },
   {
    "duration": 47,
    "start_time": "2022-02-23T14:16:04.120Z"
   },
   {
    "duration": 17,
    "start_time": "2022-02-23T14:16:04.170Z"
   },
   {
    "duration": 17,
    "start_time": "2022-02-23T14:16:04.190Z"
   },
   {
    "duration": 46,
    "start_time": "2022-02-23T14:16:04.210Z"
   },
   {
    "duration": 13,
    "start_time": "2022-02-23T14:16:04.258Z"
   },
   {
    "duration": 19,
    "start_time": "2022-02-23T14:16:04.273Z"
   },
   {
    "duration": 15,
    "start_time": "2022-02-23T14:16:04.294Z"
   },
   {
    "duration": 38,
    "start_time": "2022-02-23T14:16:04.312Z"
   },
   {
    "duration": 39,
    "start_time": "2022-02-23T14:16:04.352Z"
   },
   {
    "duration": 19,
    "start_time": "2022-02-23T14:16:04.393Z"
   },
   {
    "duration": 48,
    "start_time": "2022-02-23T14:16:04.415Z"
   },
   {
    "duration": 20,
    "start_time": "2022-02-23T14:16:04.465Z"
   },
   {
    "duration": 10,
    "start_time": "2022-02-23T14:16:04.487Z"
   },
   {
    "duration": 6,
    "start_time": "2022-02-23T14:16:04.500Z"
   },
   {
    "duration": 48,
    "start_time": "2022-02-23T14:16:04.508Z"
   },
   {
    "duration": 8,
    "start_time": "2022-02-23T14:16:04.559Z"
   },
   {
    "duration": 788,
    "start_time": "2022-02-23T14:16:22.424Z"
   },
   {
    "duration": 178,
    "start_time": "2022-02-23T14:16:24.755Z"
   },
   {
    "duration": 29,
    "start_time": "2022-02-23T14:16:26.505Z"
   },
   {
    "duration": 38,
    "start_time": "2022-02-23T14:16:28.772Z"
   },
   {
    "duration": 7,
    "start_time": "2022-02-23T14:16:31.665Z"
   },
   {
    "duration": 25,
    "start_time": "2022-02-23T14:16:33.098Z"
   },
   {
    "duration": 6,
    "start_time": "2022-02-23T14:16:35.164Z"
   },
   {
    "duration": 31,
    "start_time": "2022-02-23T14:16:36.265Z"
   },
   {
    "duration": 24,
    "start_time": "2022-02-23T14:16:39.148Z"
   },
   {
    "duration": 31,
    "start_time": "2022-02-23T14:16:40.372Z"
   },
   {
    "duration": 85,
    "start_time": "2022-02-23T14:16:48.528Z"
   },
   {
    "duration": 100,
    "start_time": "2022-02-23T14:16:51.523Z"
   },
   {
    "duration": 140,
    "start_time": "2022-02-23T14:16:52.411Z"
   },
   {
    "duration": 15,
    "start_time": "2022-02-23T14:16:54.401Z"
   },
   {
    "duration": 5,
    "start_time": "2022-02-23T14:17:00.930Z"
   },
   {
    "duration": 10,
    "start_time": "2022-02-23T14:17:02.752Z"
   },
   {
    "duration": 15,
    "start_time": "2022-02-23T14:17:03.855Z"
   },
   {
    "duration": 46,
    "start_time": "2022-02-23T14:17:08.569Z"
   },
   {
    "duration": 42,
    "start_time": "2022-02-23T14:17:10.113Z"
   },
   {
    "duration": 5,
    "start_time": "2022-02-23T14:17:12.304Z"
   },
   {
    "duration": 21,
    "start_time": "2022-02-23T14:17:14.088Z"
   },
   {
    "duration": 17,
    "start_time": "2022-02-23T14:17:14.903Z"
   },
   {
    "duration": 18,
    "start_time": "2022-02-23T14:17:16.128Z"
   },
   {
    "duration": 17,
    "start_time": "2022-02-23T14:17:16.736Z"
   },
   {
    "duration": 21,
    "start_time": "2022-02-23T14:17:17.282Z"
   },
   {
    "duration": 17,
    "start_time": "2022-02-23T14:17:17.774Z"
   },
   {
    "duration": 14,
    "start_time": "2022-02-23T14:17:19.159Z"
   },
   {
    "duration": 14,
    "start_time": "2022-02-23T14:17:21.663Z"
   },
   {
    "duration": 12,
    "start_time": "2022-02-23T14:17:22.280Z"
   },
   {
    "duration": 6,
    "start_time": "2022-02-23T14:17:23.547Z"
   },
   {
    "duration": 30,
    "start_time": "2022-02-23T14:17:25.242Z"
   },
   {
    "duration": 23,
    "start_time": "2022-02-23T14:17:27.335Z"
   },
   {
    "duration": 29,
    "start_time": "2022-02-23T14:17:28.423Z"
   },
   {
    "duration": 20,
    "start_time": "2022-02-23T14:17:31.471Z"
   },
   {
    "duration": 793,
    "start_time": "2022-02-23T14:22:20.348Z"
   },
   {
    "duration": 196,
    "start_time": "2022-02-23T14:22:21.948Z"
   },
   {
    "duration": 30,
    "start_time": "2022-02-23T14:22:23.163Z"
   },
   {
    "duration": 36,
    "start_time": "2022-02-23T14:22:25.070Z"
   },
   {
    "duration": 7,
    "start_time": "2022-02-23T14:22:29.986Z"
   },
   {
    "duration": 27,
    "start_time": "2022-02-23T14:22:31.347Z"
   },
   {
    "duration": 5,
    "start_time": "2022-02-23T14:22:33.366Z"
   },
   {
    "duration": 33,
    "start_time": "2022-02-23T14:22:34.130Z"
   },
   {
    "duration": 24,
    "start_time": "2022-02-23T14:22:35.533Z"
   },
   {
    "duration": 34,
    "start_time": "2022-02-23T14:22:37.186Z"
   },
   {
    "duration": 87,
    "start_time": "2022-02-23T14:22:38.972Z"
   },
   {
    "duration": 100,
    "start_time": "2022-02-23T14:22:39.771Z"
   },
   {
    "duration": 79,
    "start_time": "2022-02-23T14:22:40.537Z"
   },
   {
    "duration": 14,
    "start_time": "2022-02-23T14:22:41.850Z"
   },
   {
    "duration": 5,
    "start_time": "2022-02-23T14:22:44.589Z"
   },
   {
    "duration": 21,
    "start_time": "2022-02-23T14:22:46.484Z"
   },
   {
    "duration": 14,
    "start_time": "2022-02-23T14:22:48.009Z"
   },
   {
    "duration": 46,
    "start_time": "2022-02-23T14:23:29.011Z"
   },
   {
    "duration": 6,
    "start_time": "2022-02-23T14:23:33.187Z"
   },
   {
    "duration": 20,
    "start_time": "2022-02-23T14:23:35.610Z"
   },
   {
    "duration": 20,
    "start_time": "2022-02-23T14:23:36.184Z"
   },
   {
    "duration": 20,
    "start_time": "2022-02-23T14:23:36.622Z"
   },
   {
    "duration": 22,
    "start_time": "2022-02-23T14:23:37.062Z"
   },
   {
    "duration": 20,
    "start_time": "2022-02-23T14:23:37.528Z"
   },
   {
    "duration": 16,
    "start_time": "2022-02-23T14:23:38.306Z"
   },
   {
    "duration": 13,
    "start_time": "2022-02-23T14:23:39.435Z"
   },
   {
    "duration": 16,
    "start_time": "2022-02-23T14:23:41.313Z"
   },
   {
    "duration": 17,
    "start_time": "2022-02-23T14:23:42.159Z"
   },
   {
    "duration": 5,
    "start_time": "2022-02-23T14:23:43.473Z"
   },
   {
    "duration": 29,
    "start_time": "2022-02-23T14:23:45.151Z"
   },
   {
    "duration": 20,
    "start_time": "2022-02-23T14:23:46.368Z"
   },
   {
    "duration": 26,
    "start_time": "2022-02-23T14:23:47.528Z"
   },
   {
    "duration": 22,
    "start_time": "2022-02-23T14:23:49.296Z"
   },
   {
    "duration": 761,
    "start_time": "2022-02-23T14:26:45.069Z"
   },
   {
    "duration": 180,
    "start_time": "2022-02-23T14:26:46.532Z"
   },
   {
    "duration": 27,
    "start_time": "2022-02-23T14:26:48.934Z"
   },
   {
    "duration": 34,
    "start_time": "2022-02-23T14:26:55.144Z"
   },
   {
    "duration": 7,
    "start_time": "2022-02-23T14:26:58.520Z"
   },
   {
    "duration": 28,
    "start_time": "2022-02-23T14:26:59.472Z"
   },
   {
    "duration": 5,
    "start_time": "2022-02-23T14:27:00.328Z"
   },
   {
    "duration": 32,
    "start_time": "2022-02-23T14:27:01.264Z"
   },
   {
    "duration": 23,
    "start_time": "2022-02-23T14:27:02.641Z"
   },
   {
    "duration": 30,
    "start_time": "2022-02-23T14:27:03.535Z"
   },
   {
    "duration": 87,
    "start_time": "2022-02-23T14:27:04.464Z"
   },
   {
    "duration": 102,
    "start_time": "2022-02-23T14:27:05.376Z"
   },
   {
    "duration": 83,
    "start_time": "2022-02-23T14:27:06.339Z"
   },
   {
    "duration": 18,
    "start_time": "2022-02-23T14:27:07.801Z"
   },
   {
    "duration": 5,
    "start_time": "2022-02-23T14:27:08.771Z"
   },
   {
    "duration": 22,
    "start_time": "2022-02-23T14:27:09.852Z"
   },
   {
    "duration": 16,
    "start_time": "2022-02-23T14:27:10.841Z"
   },
   {
    "duration": 46,
    "start_time": "2022-02-23T14:27:13.830Z"
   },
   {
    "duration": 45,
    "start_time": "2022-02-23T14:27:14.841Z"
   },
   {
    "duration": 5,
    "start_time": "2022-02-23T14:27:16.317Z"
   },
   {
    "duration": 19,
    "start_time": "2022-02-23T14:27:17.593Z"
   },
   {
    "duration": 17,
    "start_time": "2022-02-23T14:27:18.080Z"
   },
   {
    "duration": 17,
    "start_time": "2022-02-23T14:27:18.559Z"
   },
   {
    "duration": 16,
    "start_time": "2022-02-23T14:27:19.040Z"
   },
   {
    "duration": 19,
    "start_time": "2022-02-23T14:27:19.536Z"
   },
   {
    "duration": 19,
    "start_time": "2022-02-23T14:27:20.039Z"
   },
   {
    "duration": 14,
    "start_time": "2022-02-23T14:27:21.142Z"
   },
   {
    "duration": 16,
    "start_time": "2022-02-23T14:27:25.390Z"
   },
   {
    "duration": 12,
    "start_time": "2022-02-23T14:27:25.935Z"
   },
   {
    "duration": 6,
    "start_time": "2022-02-23T14:27:27.089Z"
   },
   {
    "duration": 678,
    "start_time": "2022-02-23T14:27:28.073Z"
   },
   {
    "duration": 392,
    "start_time": "2022-02-23T14:27:28.362Z"
   },
   {
    "duration": 568,
    "start_time": "2022-02-23T14:27:29.025Z"
   },
   {
    "duration": 582,
    "start_time": "2022-02-23T14:27:31.918Z"
   },
   {
    "duration": 7,
    "start_time": "2022-02-23T14:27:42.513Z"
   },
   {
    "duration": 29,
    "start_time": "2022-02-23T14:27:44.054Z"
   },
   {
    "duration": 18,
    "start_time": "2022-02-23T14:27:45.942Z"
   },
   {
    "duration": 24,
    "start_time": "2022-02-23T14:27:46.447Z"
   },
   {
    "duration": 19,
    "start_time": "2022-02-23T14:27:46.976Z"
   },
   {
    "duration": 11,
    "start_time": "2022-02-23T14:27:50.040Z"
   },
   {
    "duration": 7,
    "start_time": "2022-02-23T14:27:51.037Z"
   },
   {
    "duration": 9,
    "start_time": "2022-02-23T14:27:52.053Z"
   },
   {
    "duration": 7,
    "start_time": "2022-02-23T14:27:52.965Z"
   },
   {
    "duration": 745,
    "start_time": "2022-03-05T22:37:17.782Z"
   },
   {
    "duration": 195,
    "start_time": "2022-03-05T22:37:18.530Z"
   },
   {
    "duration": 28,
    "start_time": "2022-03-05T22:37:18.728Z"
   },
   {
    "duration": 73,
    "start_time": "2022-03-05T22:37:18.761Z"
   },
   {
    "duration": 5,
    "start_time": "2022-03-05T22:37:18.837Z"
   },
   {
    "duration": 48,
    "start_time": "2022-03-05T22:37:18.845Z"
   },
   {
    "duration": 13,
    "start_time": "2022-03-05T22:37:18.896Z"
   },
   {
    "duration": 37,
    "start_time": "2022-03-05T22:37:18.912Z"
   },
   {
    "duration": 47,
    "start_time": "2022-03-05T22:37:18.954Z"
   },
   {
    "duration": 48,
    "start_time": "2022-03-05T22:37:19.005Z"
   },
   {
    "duration": 135,
    "start_time": "2022-03-05T22:37:19.056Z"
   },
   {
    "duration": 120,
    "start_time": "2022-03-05T22:37:19.196Z"
   },
   {
    "duration": 86,
    "start_time": "2022-03-05T22:37:19.319Z"
   },
   {
    "duration": 15,
    "start_time": "2022-03-05T22:37:19.408Z"
   },
   {
    "duration": 5,
    "start_time": "2022-03-05T22:37:19.426Z"
   },
   {
    "duration": 59,
    "start_time": "2022-03-05T22:37:19.433Z"
   },
   {
    "duration": 17,
    "start_time": "2022-03-05T22:37:19.497Z"
   },
   {
    "duration": 66,
    "start_time": "2022-03-05T22:37:19.516Z"
   },
   {
    "duration": 46,
    "start_time": "2022-03-05T22:37:19.585Z"
   },
   {
    "duration": 5,
    "start_time": "2022-03-05T22:37:19.634Z"
   },
   {
    "duration": 64,
    "start_time": "2022-03-05T22:37:19.641Z"
   },
   {
    "duration": 17,
    "start_time": "2022-03-05T22:37:19.708Z"
   },
   {
    "duration": 23,
    "start_time": "2022-03-05T22:37:19.728Z"
   },
   {
    "duration": 41,
    "start_time": "2022-03-05T22:37:19.754Z"
   },
   {
    "duration": 25,
    "start_time": "2022-03-05T22:37:19.798Z"
   },
   {
    "duration": 16,
    "start_time": "2022-03-05T22:37:19.826Z"
   },
   {
    "duration": 43,
    "start_time": "2022-03-05T22:37:19.849Z"
   },
   {
    "duration": 25,
    "start_time": "2022-03-05T22:37:19.896Z"
   },
   {
    "duration": 12,
    "start_time": "2022-03-05T22:37:19.923Z"
   },
   {
    "duration": 7,
    "start_time": "2022-03-05T22:37:19.939Z"
   },
   {
    "duration": 82,
    "start_time": "2022-03-05T22:37:19.949Z"
   },
   {
    "duration": 25,
    "start_time": "2022-03-05T22:37:20.034Z"
   },
   {
    "duration": 44,
    "start_time": "2022-03-05T22:37:20.062Z"
   },
   {
    "duration": 22,
    "start_time": "2022-03-05T22:37:20.110Z"
   },
   {
    "duration": 50,
    "start_time": "2022-03-05T22:37:20.135Z"
   },
   {
    "duration": 11,
    "start_time": "2022-03-05T22:37:20.187Z"
   },
   {
    "duration": 15,
    "start_time": "2022-03-05T22:37:20.201Z"
   },
   {
    "duration": 12,
    "start_time": "2022-03-05T22:37:20.218Z"
   },
   {
    "duration": 16,
    "start_time": "2022-03-05T22:39:28.893Z"
   },
   {
    "duration": 553,
    "start_time": "2022-03-06T05:42:06.051Z"
   },
   {
    "duration": 130,
    "start_time": "2022-03-06T05:42:07.707Z"
   },
   {
    "duration": 16,
    "start_time": "2022-03-06T05:42:09.249Z"
   },
   {
    "duration": 10,
    "start_time": "2022-03-06T05:42:10.572Z"
   },
   {
    "duration": 23,
    "start_time": "2022-03-06T05:42:11.779Z"
   },
   {
    "duration": 4,
    "start_time": "2022-03-06T05:42:16.379Z"
   },
   {
    "duration": 20,
    "start_time": "2022-03-06T05:42:22.275Z"
   },
   {
    "duration": 4,
    "start_time": "2022-03-06T05:42:23.811Z"
   },
   {
    "duration": 22,
    "start_time": "2022-03-06T05:42:25.588Z"
   },
   {
    "duration": 16,
    "start_time": "2022-03-06T05:42:29.603Z"
   },
   {
    "duration": 21,
    "start_time": "2022-03-06T05:42:38.191Z"
   },
   {
    "duration": 57,
    "start_time": "2022-03-06T05:42:39.803Z"
   },
   {
    "duration": 70,
    "start_time": "2022-03-06T05:42:41.834Z"
   },
   {
    "duration": 50,
    "start_time": "2022-03-06T05:42:42.788Z"
   },
   {
    "duration": 36,
    "start_time": "2022-03-06T05:42:45.282Z"
   },
   {
    "duration": 3,
    "start_time": "2022-03-06T05:44:28.927Z"
   },
   {
    "duration": 11,
    "start_time": "2022-03-06T05:44:32.446Z"
   },
   {
    "duration": 9,
    "start_time": "2022-03-06T05:44:39.183Z"
   },
   {
    "duration": 222,
    "start_time": "2022-03-06T05:44:50.830Z"
   },
   {
    "duration": 38,
    "start_time": "2022-03-06T05:44:58.381Z"
   },
   {
    "duration": 38,
    "start_time": "2022-03-06T05:45:30.902Z"
   },
   {
    "duration": 53,
    "start_time": "2022-03-06T05:50:00.087Z"
   },
   {
    "duration": 3,
    "start_time": "2022-03-06T05:50:32.590Z"
   },
   {
    "duration": 13,
    "start_time": "2022-03-06T05:50:35.384Z"
   },
   {
    "duration": 38,
    "start_time": "2022-03-06T05:50:38.580Z"
   },
   {
    "duration": 11,
    "start_time": "2022-03-06T05:52:07.449Z"
   },
   {
    "duration": 10,
    "start_time": "2022-03-06T05:52:13.707Z"
   },
   {
    "duration": 11,
    "start_time": "2022-03-06T05:52:28.270Z"
   },
   {
    "duration": 187,
    "start_time": "2022-03-06T05:55:55.934Z"
   },
   {
    "duration": 564,
    "start_time": "2022-03-06T05:56:07.344Z"
   },
   {
    "duration": 129,
    "start_time": "2022-03-06T05:56:09.241Z"
   },
   {
    "duration": 16,
    "start_time": "2022-03-06T05:56:10.673Z"
   },
   {
    "duration": 9,
    "start_time": "2022-03-06T05:56:11.961Z"
   },
   {
    "duration": 24,
    "start_time": "2022-03-06T05:56:13.087Z"
   },
   {
    "duration": 4,
    "start_time": "2022-03-06T05:56:17.304Z"
   },
   {
    "duration": 21,
    "start_time": "2022-03-06T05:56:19.047Z"
   },
   {
    "duration": 4,
    "start_time": "2022-03-06T05:56:21.167Z"
   },
   {
    "duration": 22,
    "start_time": "2022-03-06T05:56:23.122Z"
   },
   {
    "duration": 16,
    "start_time": "2022-03-06T05:56:25.863Z"
   },
   {
    "duration": 21,
    "start_time": "2022-03-06T05:56:27.959Z"
   },
   {
    "duration": 59,
    "start_time": "2022-03-06T05:56:29.991Z"
   },
   {
    "duration": 66,
    "start_time": "2022-03-06T05:56:31.622Z"
   },
   {
    "duration": 49,
    "start_time": "2022-03-06T05:56:32.736Z"
   },
   {
    "duration": 38,
    "start_time": "2022-03-06T05:56:35.494Z"
   },
   {
    "duration": 3,
    "start_time": "2022-03-06T05:56:39.606Z"
   },
   {
    "duration": 10,
    "start_time": "2022-03-06T05:56:42.039Z"
   },
   {
    "duration": 37,
    "start_time": "2022-03-06T05:56:43.630Z"
   },
   {
    "duration": 11,
    "start_time": "2022-03-06T05:56:50.013Z"
   },
   {
    "duration": 11,
    "start_time": "2022-03-06T05:56:52.462Z"
   },
   {
    "duration": 3,
    "start_time": "2022-03-06T05:56:55.847Z"
   },
   {
    "duration": 15,
    "start_time": "2022-03-06T05:56:57.934Z"
   },
   {
    "duration": 12,
    "start_time": "2022-03-06T05:56:58.488Z"
   },
   {
    "duration": 14,
    "start_time": "2022-03-06T05:56:59.038Z"
   },
   {
    "duration": 12,
    "start_time": "2022-03-06T05:56:59.582Z"
   },
   {
    "duration": 15,
    "start_time": "2022-03-06T05:57:00.223Z"
   },
   {
    "duration": 13,
    "start_time": "2022-03-06T05:57:00.790Z"
   },
   {
    "duration": 4,
    "start_time": "2022-03-06T05:57:02.359Z"
   },
   {
    "duration": 18,
    "start_time": "2022-03-06T05:58:27.059Z"
   },
   {
    "duration": 17,
    "start_time": "2022-03-06T05:59:06.616Z"
   },
   {
    "duration": 72,
    "start_time": "2022-03-06T06:01:31.194Z"
   },
   {
    "duration": 4,
    "start_time": "2022-03-06T06:01:38.781Z"
   },
   {
    "duration": 407,
    "start_time": "2022-03-06T06:01:47.480Z"
   },
   {
    "duration": 568,
    "start_time": "2022-03-06T06:02:21.525Z"
   },
   {
    "duration": 126,
    "start_time": "2022-03-06T06:02:22.094Z"
   },
   {
    "duration": 20,
    "start_time": "2022-03-06T06:02:22.222Z"
   },
   {
    "duration": 10,
    "start_time": "2022-03-06T06:02:22.243Z"
   },
   {
    "duration": 27,
    "start_time": "2022-03-06T06:02:22.254Z"
   },
   {
    "duration": 3,
    "start_time": "2022-03-06T06:02:22.283Z"
   },
   {
    "duration": 19,
    "start_time": "2022-03-06T06:02:22.288Z"
   },
   {
    "duration": 25,
    "start_time": "2022-03-06T06:02:22.309Z"
   },
   {
    "duration": 22,
    "start_time": "2022-03-06T06:02:22.336Z"
   },
   {
    "duration": 20,
    "start_time": "2022-03-06T06:02:22.360Z"
   },
   {
    "duration": 23,
    "start_time": "2022-03-06T06:02:22.381Z"
   },
   {
    "duration": 78,
    "start_time": "2022-03-06T06:02:22.406Z"
   },
   {
    "duration": 76,
    "start_time": "2022-03-06T06:02:22.485Z"
   },
   {
    "duration": 49,
    "start_time": "2022-03-06T06:02:22.562Z"
   },
   {
    "duration": 50,
    "start_time": "2022-03-06T06:02:22.612Z"
   },
   {
    "duration": 3,
    "start_time": "2022-03-06T06:02:22.664Z"
   },
   {
    "duration": 11,
    "start_time": "2022-03-06T06:02:22.668Z"
   },
   {
    "duration": 54,
    "start_time": "2022-03-06T06:02:22.680Z"
   },
   {
    "duration": 11,
    "start_time": "2022-03-06T06:02:22.735Z"
   },
   {
    "duration": 10,
    "start_time": "2022-03-06T06:02:22.747Z"
   },
   {
    "duration": 3,
    "start_time": "2022-03-06T06:02:22.759Z"
   },
   {
    "duration": 24,
    "start_time": "2022-03-06T06:02:22.763Z"
   },
   {
    "duration": 12,
    "start_time": "2022-03-06T06:02:22.790Z"
   },
   {
    "duration": 34,
    "start_time": "2022-03-06T06:02:22.804Z"
   },
   {
    "duration": 11,
    "start_time": "2022-03-06T06:02:22.840Z"
   },
   {
    "duration": 25,
    "start_time": "2022-03-06T06:02:22.852Z"
   },
   {
    "duration": 11,
    "start_time": "2022-03-06T06:02:22.879Z"
   },
   {
    "duration": 5,
    "start_time": "2022-03-06T06:02:22.891Z"
   },
   {
    "duration": 19,
    "start_time": "2022-03-06T06:02:22.897Z"
   },
   {
    "duration": 28,
    "start_time": "2022-03-06T06:02:22.918Z"
   },
   {
    "duration": 4,
    "start_time": "2022-03-06T06:02:22.948Z"
   },
   {
    "duration": 409,
    "start_time": "2022-03-06T06:02:22.953Z"
   },
   {
    "duration": -4101,
    "start_time": "2022-03-06T06:02:27.465Z"
   },
   {
    "duration": -4106,
    "start_time": "2022-03-06T06:02:27.471Z"
   },
   {
    "duration": -4113,
    "start_time": "2022-03-06T06:02:27.479Z"
   },
   {
    "duration": -4118,
    "start_time": "2022-03-06T06:02:27.485Z"
   },
   {
    "duration": -4126,
    "start_time": "2022-03-06T06:02:27.493Z"
   },
   {
    "duration": -4130,
    "start_time": "2022-03-06T06:02:27.499Z"
   },
   {
    "duration": -4137,
    "start_time": "2022-03-06T06:02:27.506Z"
   },
   {
    "duration": 4,
    "start_time": "2022-03-06T06:04:37.153Z"
   },
   {
    "duration": 18,
    "start_time": "2022-03-06T06:04:39.578Z"
   },
   {
    "duration": 567,
    "start_time": "2022-03-06T06:04:54.915Z"
   },
   {
    "duration": 128,
    "start_time": "2022-03-06T06:04:55.484Z"
   },
   {
    "duration": 20,
    "start_time": "2022-03-06T06:04:55.614Z"
   },
   {
    "duration": 8,
    "start_time": "2022-03-06T06:04:55.636Z"
   },
   {
    "duration": 24,
    "start_time": "2022-03-06T06:04:55.645Z"
   },
   {
    "duration": 4,
    "start_time": "2022-03-06T06:04:55.670Z"
   },
   {
    "duration": 20,
    "start_time": "2022-03-06T06:04:55.675Z"
   },
   {
    "duration": 3,
    "start_time": "2022-03-06T06:04:55.697Z"
   },
   {
    "duration": 49,
    "start_time": "2022-03-06T06:04:55.703Z"
   },
   {
    "duration": 16,
    "start_time": "2022-03-06T06:04:55.754Z"
   },
   {
    "duration": 21,
    "start_time": "2022-03-06T06:04:55.772Z"
   },
   {
    "duration": 81,
    "start_time": "2022-03-06T06:04:55.795Z"
   },
   {
    "duration": 69,
    "start_time": "2022-03-06T06:04:55.877Z"
   },
   {
    "duration": 47,
    "start_time": "2022-03-06T06:04:55.948Z"
   },
   {
    "duration": 50,
    "start_time": "2022-03-06T06:04:55.997Z"
   },
   {
    "duration": 3,
    "start_time": "2022-03-06T06:04:56.048Z"
   },
   {
    "duration": 10,
    "start_time": "2022-03-06T06:04:56.052Z"
   },
   {
    "duration": 38,
    "start_time": "2022-03-06T06:04:56.064Z"
   },
   {
    "duration": 36,
    "start_time": "2022-03-06T06:04:56.103Z"
   },
   {
    "duration": 10,
    "start_time": "2022-03-06T06:04:56.140Z"
   },
   {
    "duration": 3,
    "start_time": "2022-03-06T06:04:56.152Z"
   },
   {
    "duration": 18,
    "start_time": "2022-03-06T06:04:56.157Z"
   },
   {
    "duration": 13,
    "start_time": "2022-03-06T06:04:56.176Z"
   },
   {
    "duration": 14,
    "start_time": "2022-03-06T06:04:56.190Z"
   },
   {
    "duration": 38,
    "start_time": "2022-03-06T06:04:56.206Z"
   },
   {
    "duration": 13,
    "start_time": "2022-03-06T06:04:56.246Z"
   },
   {
    "duration": 13,
    "start_time": "2022-03-06T06:04:56.262Z"
   },
   {
    "duration": 4,
    "start_time": "2022-03-06T06:04:56.276Z"
   },
   {
    "duration": 21,
    "start_time": "2022-03-06T06:04:56.282Z"
   },
   {
    "duration": 42,
    "start_time": "2022-03-06T06:04:56.304Z"
   },
   {
    "duration": 4,
    "start_time": "2022-03-06T06:04:56.347Z"
   },
   {
    "duration": 20,
    "start_time": "2022-03-06T06:04:56.353Z"
   },
   {
    "duration": 11,
    "start_time": "2022-03-06T06:04:56.374Z"
   },
   {
    "duration": 16,
    "start_time": "2022-03-06T06:04:56.387Z"
   },
   {
    "duration": 38,
    "start_time": "2022-03-06T06:04:56.404Z"
   },
   {
    "duration": 8,
    "start_time": "2022-03-06T06:04:56.444Z"
   },
   {
    "duration": 4,
    "start_time": "2022-03-06T06:04:56.453Z"
   },
   {
    "duration": 6,
    "start_time": "2022-03-06T06:04:56.459Z"
   },
   {
    "duration": 5,
    "start_time": "2022-03-06T06:04:56.466Z"
   },
   {
    "duration": 577,
    "start_time": "2022-03-06T21:28:18.330Z"
   },
   {
    "duration": 147,
    "start_time": "2022-03-06T21:28:18.909Z"
   },
   {
    "duration": 24,
    "start_time": "2022-03-06T21:28:19.060Z"
   },
   {
    "duration": 10,
    "start_time": "2022-03-06T21:28:19.085Z"
   },
   {
    "duration": 27,
    "start_time": "2022-03-06T21:28:19.096Z"
   },
   {
    "duration": 4,
    "start_time": "2022-03-06T21:28:19.125Z"
   },
   {
    "duration": 47,
    "start_time": "2022-03-06T21:28:19.131Z"
   },
   {
    "duration": 4,
    "start_time": "2022-03-06T21:28:19.181Z"
   },
   {
    "duration": 25,
    "start_time": "2022-03-06T21:28:19.187Z"
   },
   {
    "duration": 18,
    "start_time": "2022-03-06T21:28:19.214Z"
   },
   {
    "duration": 49,
    "start_time": "2022-03-06T21:28:19.234Z"
   },
   {
    "duration": 65,
    "start_time": "2022-03-06T21:28:19.285Z"
   },
   {
    "duration": 90,
    "start_time": "2022-03-06T21:28:19.351Z"
   },
   {
    "duration": 63,
    "start_time": "2022-03-06T21:28:19.442Z"
   },
   {
    "duration": 43,
    "start_time": "2022-03-06T21:28:19.507Z"
   },
   {
    "duration": 4,
    "start_time": "2022-03-06T21:28:19.551Z"
   },
   {
    "duration": 10,
    "start_time": "2022-03-06T21:28:19.577Z"
   },
   {
    "duration": 43,
    "start_time": "2022-03-06T21:28:19.588Z"
   },
   {
    "duration": 11,
    "start_time": "2022-03-06T21:28:19.632Z"
   },
   {
    "duration": 33,
    "start_time": "2022-03-06T21:28:19.645Z"
   },
   {
    "duration": 3,
    "start_time": "2022-03-06T21:28:19.680Z"
   },
   {
    "duration": 23,
    "start_time": "2022-03-06T21:28:19.684Z"
   },
   {
    "duration": 13,
    "start_time": "2022-03-06T21:28:19.709Z"
   },
   {
    "duration": 16,
    "start_time": "2022-03-06T21:28:19.723Z"
   },
   {
    "duration": 13,
    "start_time": "2022-03-06T21:28:19.741Z"
   },
   {
    "duration": 33,
    "start_time": "2022-03-06T21:28:19.758Z"
   },
   {
    "duration": 13,
    "start_time": "2022-03-06T21:28:19.793Z"
   },
   {
    "duration": 5,
    "start_time": "2022-03-06T21:28:19.808Z"
   },
   {
    "duration": 25,
    "start_time": "2022-03-06T21:28:19.814Z"
   },
   {
    "duration": 50,
    "start_time": "2022-03-06T21:28:19.840Z"
   },
   {
    "duration": 4,
    "start_time": "2022-03-06T21:28:19.892Z"
   },
   {
    "duration": 26,
    "start_time": "2022-03-06T21:28:19.898Z"
   },
   {
    "duration": 13,
    "start_time": "2022-03-06T21:28:19.926Z"
   },
   {
    "duration": 40,
    "start_time": "2022-03-06T21:28:19.941Z"
   },
   {
    "duration": 13,
    "start_time": "2022-03-06T21:28:19.982Z"
   },
   {
    "duration": 11,
    "start_time": "2022-03-06T21:28:19.996Z"
   },
   {
    "duration": 12,
    "start_time": "2022-03-06T21:28:20.009Z"
   },
   {
    "duration": 16,
    "start_time": "2022-03-06T21:28:20.023Z"
   },
   {
    "duration": 9,
    "start_time": "2022-03-06T21:28:20.041Z"
   }
  ],
  "colab": {
   "collapsed_sections": [
    "E0vqbgi9ay0H",
    "VUC88oWjTJw2"
   ],
   "name": "yandex_music_project_2021.2.ipynb",
   "provenance": []
  },
  "kernelspec": {
   "display_name": "Python 3 (ipykernel)",
   "language": "python",
   "name": "python3"
  },
  "language_info": {
   "codemirror_mode": {
    "name": "ipython",
    "version": 3
   },
   "file_extension": ".py",
   "mimetype": "text/x-python",
   "name": "python",
   "nbconvert_exporter": "python",
   "pygments_lexer": "ipython3",
   "version": "3.9.12"
  },
  "toc": {
   "base_numbering": 1,
   "nav_menu": {},
   "number_sections": true,
   "sideBar": true,
   "skip_h1_title": true,
   "title_cell": "Table of Contents",
   "title_sidebar": "Contents",
   "toc_cell": false,
   "toc_position": {
    "height": "calc(100% - 180px)",
    "left": "10px",
    "top": "150px",
    "width": "201.375px"
   },
   "toc_section_display": true,
   "toc_window_display": true
  }
 },
 "nbformat": 4,
 "nbformat_minor": 1
}
